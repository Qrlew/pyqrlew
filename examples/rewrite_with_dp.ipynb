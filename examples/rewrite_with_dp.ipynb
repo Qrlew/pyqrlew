{
  "cells": [
    {
      "cell_type": "markdown",
      "id": "683108f1",
      "metadata": {
        "id": "683108f1"
      },
      "source": [
        "# SQL analysis with differential privacy guarantees\n",
        "[![View On GitHub](https://img.shields.io/badge/View_in_Github-grey?logo=github)](https://github.com/Qrlew/docs/blob/main/tutorials/rewrite_with_dp.ipynb)\n",
        "[![Open In Colab](https://colab.research.google.com/assets/colab-badge.svg)](https://colab.research.google.com/github/Qrlew/pyqrlew/blob/main/examples/rewrite_with_dp.ipynb)"
      ]
    },
    {
      "cell_type": "markdown",
      "id": "c1cdff07",
      "metadata": {
        "id": "c1cdff07"
      },
      "source": [
        "The purpose of this notebook is to illustrate the process of *transforming a standard SQL query into a differentially private SQL query*.\n",
        "\n",
        "Our goal here is to demonstrate how this complex transformation of an SQL query into a differentially private version can be achieved with ease using Qrlew."
      ]
    },
    {
      "cell_type": "markdown",
      "id": "ec43846d",
      "metadata": {
        "id": "ec43846d"
      },
      "source": [
        "The main idea of Qrlew is to parse and rewrite SQL queries into *Relations*: an [Intermediate Representation](https://en.wikipedia.org/wiki/Intermediate_representation) (IR) that is well-suited for various rewriting tasks.\n",
        "\n",
        "*Relations* may be of different kinds:\n",
        "- `Map`s typically represent the transform of an input *Relation* row by row, therefore, naturaly preserving the *privacy unit*,\n",
        "- `Reduce`s represent aggregations that can be turned into DP equivalent\n",
        "- `Join`s combine two input *Relations*\n",
        "- `Table`s are simply sources.\n",
        "\n",
        "This representation simplifies the process of rewriting queries and reduces dependencies on the diverse range of syntactic constructs present in SQL."
      ]
    },
    {
      "cell_type": "markdown",
      "id": "792fe5b0",
      "metadata": {
        "id": "792fe5b0"
      },
      "source": [
        "## Install the database and packages\n"
      ]
    },
    {
      "cell_type": "code",
      "execution_count": null,
      "id": "08f55d69",
      "metadata": {
        "colab": {
          "base_uri": "https://localhost:8080/"
        },
        "id": "08f55d69",
        "outputId": "03e18dff-c946-4621-e3ea-ae9d78aef8eb"
      },
      "outputs": [],
      "source": [
        "%%capture\n",
        "# Load the database\n",
        "# Inspired by https://colab.research.google.com/github/tensorflow/io/blob/master/docs/tutorials/postgresql.ipynb#scrollTo=YUj0878jPyz7\n",
        "!sudo apt-get -y -qq update\n",
        "!sudo apt-get -y -qq install postgresql-14 graphviz\n",
        "# Start postgresql server\n",
        "!sudo sed -i \"s/port = 5432/port = 5433/g\" /etc/postgresql/14/main/postgresql.conf\n",
        "!sudo service postgresql start\n",
        "# Set password\n",
        "!sudo -u postgres psql -U postgres -c \"ALTER USER postgres PASSWORD 'pyqrlew-db'\"\n",
        "!pip install -U pyqrlew numpy pandas matplotlib graphviz dp_accounting"
      ]
    },
    {
      "cell_type": "code",
      "execution_count": 2,
      "id": "6770c3e8",
      "metadata": {},
      "outputs": [
        {
          "name": "stderr",
          "output_type": "stream",
          "text": [
            "Error response from daemon: network with name qrlew-net already exists\n"
          ]
        }
      ],
      "source": [
        "from pyqrlew.io import PostgreSQL\n",
        "from pyqrlew import Dataset\n",
        "# Read data\n",
        "database = PostgreSQL()\n",
        "dataset = database.retail()"
      ]
    },
    {
      "cell_type": "code",
      "execution_count": 2,
      "id": "21d76a1b",
      "metadata": {},
      "outputs": [
        {
          "data": {
            "text/plain": [
              "[(['retail', 'retail', 'features'], <Relation at 0x7fb26dc7cef0>),\n",
              " (['retail', 'retail', 'sales'], <Relation at 0x7fb26dc38230>),\n",
              " (['retail', 'retail', 'stores'], <Relation at 0x7fb26dc381f0>)]"
            ]
          },
          "execution_count": 2,
          "metadata": {},
          "output_type": "execute_result"
        }
      ],
      "source": [
        "dataset.relations()"
      ]
    },
    {
      "cell_type": "code",
      "execution_count": 3,
      "id": "1ddfd0ec",
      "metadata": {},
      "outputs": [
        {
          "data": {
            "text/plain": [
              "<Dataset at 0x7fb6f746b200>"
            ]
          },
          "execution_count": 3,
          "metadata": {},
          "output_type": "execute_result"
        }
      ],
      "source": [
        "dataset.with_range('retail', 'features', 'unemployment', 0, 20)"
      ]
    },
    {
      "cell_type": "markdown",
      "id": "98161de3",
      "metadata": {
        "id": "98161de3"
      },
      "source": [
        "For our analysis, we will use the Qrlew built-in sample datasets `retail` and an Postgres connection.\n",
        "\n",
        "Note that you can also load one or several csv files or use another SQL engine."
      ]
    },
    {
      "cell_type": "markdown",
      "id": "e542593d",
      "metadata": {
        "id": "e542593d"
      },
      "source": [
        "## The `Relation`: an intermediate represention for SQL rewritting"
      ]
    },
    {
      "cell_type": "markdown",
      "id": "ada2d2e9",
      "metadata": {
        "id": "ada2d2e9"
      },
      "source": [
        "The `retail` dataset contains 3 tables, each can be converted into a `Relation::Table`:"
      ]
    },
    {
      "cell_type": "code",
      "execution_count": 4,
      "id": "9936b983",
      "metadata": {
        "colab": {
          "base_uri": "https://localhost:8080/",
          "height": 451
        },
        "id": "9936b983",
        "outputId": "ed7ad894-5d18-4272-9562-dc7adfbde1e1"
      },
      "outputs": [
        {
          "data": {
            "image/svg+xml": [
              "<?xml version=\"1.0\" encoding=\"UTF-8\" standalone=\"no\"?>\n",
              "<!DOCTYPE svg PUBLIC \"-//W3C//DTD SVG 1.1//EN\"\n",
              " \"http://www.w3.org/Graphics/SVG/1.1/DTD/svg11.dtd\">\n",
              "<!-- Generated by graphviz version 2.43.0 (0)\n",
              " -->\n",
              "<!-- Title: graph_pv7m Pages: 1 -->\n",
              "<svg width=\"409pt\" height=\"135pt\"\n",
              " viewBox=\"0.00 0.00 409.00 135.00\" xmlns=\"http://www.w3.org/2000/svg\" xmlns:xlink=\"http://www.w3.org/1999/xlink\">\n",
              "<g id=\"graph0\" class=\"graph\" transform=\"scale(1 1) rotate(0) translate(4 131)\">\n",
              "<title>graph_pv7m</title>\n",
              "<polygon fill=\"transparent\" stroke=\"transparent\" points=\"-4,4 -4,-131 405,-131 405,4 -4,4\"/>\n",
              "<!-- graph_pv7m -->\n",
              "<g id=\"node1\" class=\"node\">\n",
              "<title>graph_pv7m</title>\n",
              "<path fill=\"#ff1744\" stroke=\"#000000\" stroke-opacity=\"0.333333\" d=\"M389,-127C389,-127 12,-127 12,-127 6,-127 0,-121 0,-115 0,-115 0,-12 0,-12 0,-6 6,0 12,0 12,0 389,0 389,0 395,0 401,-6 401,-12 401,-12 401,-115 401,-115 401,-121 395,-127 389,-127\"/>\n",
              "<text text-anchor=\"start\" x=\"95.5\" y=\"-105.2\" font-family=\"Red Hat Display,sans-serif\" font-weight=\"bold\" font-size=\"11.00\" fill=\"#ffffff\" fill-opacity=\"0.733333\">RETAIL_FEATURES size ∈ int{910}</text>\n",
              "<text text-anchor=\"start\" x=\"166\" y=\"-94.2\" font-family=\"Red Hat Display,sans-serif\" font-size=\"11.00\" fill=\"#ffffff\" fill-opacity=\"0.733333\">id = id ∈ str</text>\n",
              "<text text-anchor=\"start\" x=\"108.5\" y=\"-83.2\" font-family=\"Red Hat Display,sans-serif\" font-size=\"11.00\" fill=\"#ffffff\" fill-opacity=\"0.733333\">store = store ∈ str{1, 2, 3, 4, 5}</text>\n",
              "<text text-anchor=\"start\" x=\"14\" y=\"-72.2\" font-family=\"Red Hat Display,sans-serif\" font-size=\"11.00\" fill=\"#ffffff\" fill-opacity=\"0.733333\">date = date ∈ datetime[2010&#45;02&#45;05 00:00:00 2013&#45;07&#45;26 00:00:00]</text>\n",
              "<text text-anchor=\"start\" x=\"65\" y=\"-61.2\" font-family=\"Red Hat Display,sans-serif\" font-size=\"11.00\" fill=\"#ffffff\" fill-opacity=\"0.733333\">temperature = temperature ∈ float[28.84 93.34]</text>\n",
              "<text text-anchor=\"start\" x=\"81.5\" y=\"-50.2\" font-family=\"Red Hat Display,sans-serif\" font-size=\"11.00\" fill=\"#ffffff\" fill-opacity=\"0.733333\">fuel_price = fuel_price ∈ float[2.514 3.907]</text>\n",
              "<text text-anchor=\"start\" x=\"91\" y=\"-39.2\" font-family=\"Red Hat Display,sans-serif\" font-size=\"11.00\" fill=\"#ffffff\" fill-opacity=\"0.733333\">cpi = cpi ∈ float[126.064 228.7298638]</text>\n",
              "<text text-anchor=\"start\" x=\"51.5\" y=\"-28.2\" font-family=\"Red Hat Display,sans-serif\" font-size=\"11.00\" fill=\"#ffffff\" fill-opacity=\"0.733333\">unemployment = unemployment ∈ float[3.879 8.623]</text>\n",
              "<text text-anchor=\"start\" x=\"123\" y=\"-17.2\" font-family=\"Red Hat Display,sans-serif\" font-size=\"11.00\" fill=\"#ffffff\" fill-opacity=\"0.733333\">isholiday = isholiday ∈ bool</text>\n",
              "</g>\n",
              "</g>\n",
              "</svg>\n"
            ],
            "text/plain": [
              "<graphviz.sources.Source at 0x7fb6f747a220>"
            ]
          },
          "metadata": {},
          "output_type": "display_data"
        },
        {
          "data": {
            "image/svg+xml": [
              "<?xml version=\"1.0\" encoding=\"UTF-8\" standalone=\"no\"?>\n",
              "<!DOCTYPE svg PUBLIC \"-//W3C//DTD SVG 1.1//EN\"\n",
              " \"http://www.w3.org/Graphics/SVG/1.1/DTD/svg11.dtd\">\n",
              "<!-- Generated by graphviz version 2.43.0 (0)\n",
              " -->\n",
              "<!-- Title: graph_6cje Pages: 1 -->\n",
              "<svg width=\"409pt\" height=\"102pt\"\n",
              " viewBox=\"0.00 0.00 409.00 102.00\" xmlns=\"http://www.w3.org/2000/svg\" xmlns:xlink=\"http://www.w3.org/1999/xlink\">\n",
              "<g id=\"graph0\" class=\"graph\" transform=\"scale(1 1) rotate(0) translate(4 98)\">\n",
              "<title>graph_6cje</title>\n",
              "<polygon fill=\"transparent\" stroke=\"transparent\" points=\"-4,4 -4,-98 405,-98 405,4 -4,4\"/>\n",
              "<!-- graph_6cje -->\n",
              "<g id=\"node1\" class=\"node\">\n",
              "<title>graph_6cje</title>\n",
              "<path fill=\"#ff1744\" stroke=\"#000000\" stroke-opacity=\"0.333333\" d=\"M389,-94C389,-94 12,-94 12,-94 6,-94 0,-88 0,-82 0,-82 0,-12 0,-12 0,-6 6,0 12,0 12,0 389,0 389,0 395,0 401,-6 401,-12 401,-12 401,-82 401,-82 401,-88 395,-94 389,-94\"/>\n",
              "<text text-anchor=\"start\" x=\"107.5\" y=\"-72.2\" font-family=\"Red Hat Display,sans-serif\" font-weight=\"bold\" font-size=\"11.00\" fill=\"#ffffff\" fill-opacity=\"0.733333\">RETAIL_SALES size ∈ int{715}</text>\n",
              "<text text-anchor=\"start\" x=\"166\" y=\"-61.2\" font-family=\"Red Hat Display,sans-serif\" font-size=\"11.00\" fill=\"#ffffff\" fill-opacity=\"0.733333\">id = id ∈ str</text>\n",
              "<text text-anchor=\"start\" x=\"108.5\" y=\"-50.2\" font-family=\"Red Hat Display,sans-serif\" font-size=\"11.00\" fill=\"#ffffff\" fill-opacity=\"0.733333\">store = store ∈ str{1, 2, 3, 4, 5}</text>\n",
              "<text text-anchor=\"start\" x=\"14\" y=\"-39.2\" font-family=\"Red Hat Display,sans-serif\" font-size=\"11.00\" fill=\"#ffffff\" fill-opacity=\"0.733333\">date = date ∈ datetime[2010&#45;02&#45;05 00:00:00 2012&#45;10&#45;26 00:00:00]</text>\n",
              "<text text-anchor=\"start\" x=\"45\" y=\"-28.2\" font-family=\"Red Hat Display,sans-serif\" font-size=\"11.00\" fill=\"#ffffff\" fill-opacity=\"0.733333\">weekly_sales = weekly_sales ∈ float[3440.69 91965.85]</text>\n",
              "<text text-anchor=\"start\" x=\"123\" y=\"-17.2\" font-family=\"Red Hat Display,sans-serif\" font-size=\"11.00\" fill=\"#ffffff\" fill-opacity=\"0.733333\">isholiday = isholiday ∈ bool</text>\n",
              "</g>\n",
              "</g>\n",
              "</svg>\n"
            ],
            "text/plain": [
              "<graphviz.sources.Source at 0x7fb725a434f0>"
            ]
          },
          "metadata": {},
          "output_type": "display_data"
        },
        {
          "data": {
            "image/svg+xml": [
              "<?xml version=\"1.0\" encoding=\"UTF-8\" standalone=\"no\"?>\n",
              "<!DOCTYPE svg PUBLIC \"-//W3C//DTD SVG 1.1//EN\"\n",
              " \"http://www.w3.org/Graphics/SVG/1.1/DTD/svg11.dtd\">\n",
              "<!-- Generated by graphviz version 2.43.0 (0)\n",
              " -->\n",
              "<!-- Title: graph_rdzg Pages: 1 -->\n",
              "<svg width=\"361pt\" height=\"80pt\"\n",
              " viewBox=\"0.00 0.00 361.00 80.00\" xmlns=\"http://www.w3.org/2000/svg\" xmlns:xlink=\"http://www.w3.org/1999/xlink\">\n",
              "<g id=\"graph0\" class=\"graph\" transform=\"scale(1 1) rotate(0) translate(4 76)\">\n",
              "<title>graph_rdzg</title>\n",
              "<polygon fill=\"transparent\" stroke=\"transparent\" points=\"-4,4 -4,-76 357,-76 357,4 -4,4\"/>\n",
              "<!-- graph_rdzg -->\n",
              "<g id=\"node1\" class=\"node\">\n",
              "<title>graph_rdzg</title>\n",
              "<path fill=\"#ff1744\" stroke=\"#000000\" stroke-opacity=\"0.333333\" d=\"M341,-72C341,-72 12,-72 12,-72 6,-72 0,-66 0,-60 0,-60 0,-12 0,-12 0,-6 6,0 12,0 12,0 341,0 341,0 347,0 353,-6 353,-12 353,-12 353,-60 353,-60 353,-66 347,-72 341,-72\"/>\n",
              "<text text-anchor=\"start\" x=\"86\" y=\"-50.2\" font-family=\"Red Hat Display,sans-serif\" font-weight=\"bold\" font-size=\"11.00\" fill=\"#ffffff\" fill-opacity=\"0.733333\">RETAIL_STORES size ∈ int{5}</text>\n",
              "<text text-anchor=\"start\" x=\"84.5\" y=\"-39.2\" font-family=\"Red Hat Display,sans-serif\" font-size=\"11.00\" fill=\"#ffffff\" fill-opacity=\"0.733333\">store = store ∈ str{1, 2, 3, 4, 5}</text>\n",
              "<text text-anchor=\"start\" x=\"109\" y=\"-28.2\" font-family=\"Red Hat Display,sans-serif\" font-size=\"11.00\" fill=\"#ffffff\" fill-opacity=\"0.733333\">type = type ∈ str{A, B}</text>\n",
              "<text text-anchor=\"start\" x=\"14\" y=\"-17.2\" font-family=\"Red Hat Display,sans-serif\" font-size=\"11.00\" fill=\"#ffffff\" fill-opacity=\"0.733333\">size = size ∈ int{34875, 37392, 151315, 202307, 205863}</text>\n",
              "</g>\n",
              "</g>\n",
              "</svg>\n"
            ],
            "text/plain": [
              "<graphviz.sources.Source at 0x7fb6f74d9730>"
            ]
          },
          "metadata": {},
          "output_type": "display_data"
        }
      ],
      "source": [
        "import graphviz\n",
        "display(graphviz.Source(dataset.relations()[0][1].dot()))\n",
        "display(graphviz.Source(dataset.relations()[1][1].dot()))\n",
        "display(graphviz.Source(dataset.relations()[2][1].dot()))"
      ]
    },
    {
      "cell_type": "markdown",
      "id": "0561bdfe",
      "metadata": {
        "id": "0561bdfe"
      },
      "source": [
        "Each `Relation::Table` contains the size of the table (which can be approximate with DP) and the columns in the tables with their name and type."
      ]
    },
    {
      "cell_type": "markdown",
      "id": "a9316957",
      "metadata": {
        "id": "a9316957"
      },
      "source": [
        "Before using any differential privacy mechanism, it is essential to determine:\n",
        "- the *privacy unit*, i.e. the *user* identifier,\n",
        "- the *sensitivity of the aggregation functions*, i.e. the maximal contribution a user may have on the result,\n",
        "- the values of the `GROUP BY` columns that can be safely released"
      ]
    },
    {
      "cell_type": "markdown",
      "id": "7de6c738",
      "metadata": {
        "id": "7de6c738"
      },
      "source": [
        "## The privacy unit"
      ]
    },
    {
      "cell_type": "markdown",
      "id": "30077766",
      "metadata": {
        "id": "30077766"
      },
      "source": [
        "In this example, let's consider that we want to protect the `id` column of the tables `features` and `sales`.\n",
        "\n",
        "The tables `store` is linked to `features` via foreign keys.\n",
        "\n",
        "Then each table have a privacy unit (even if it is not directly in the table):\n",
        "- `features`: column `id`\n",
        "- `stores`: the privacy unit is the column `id` of the `feature` table. It is obtained by joining the tables `features` and `stores` with the condition `features.store = stores.store`\n",
        "- `sales`: column `id`\n",
        "\n",
        "We code the privacy unit as:"
      ]
    },
    {
      "cell_type": "code",
      "execution_count": 5,
      "id": "b96421f2",
      "metadata": {
        "id": "b96421f2"
      },
      "outputs": [],
      "source": [
        "privacy_unit = [\n",
        "    (\"features\", [], \"id\"),\n",
        "    (\"stores\", [(\"store\", \"features\", \"store\")], \"id\"),\n",
        "    (\"sales\", [], \"id\")\n",
        "]\n",
        "# Other arguments that will be explained later\n",
        "budget = {\"epsilon\": 1.0, \"delta\": 5e-4}\n",
        "synthetic_data = [\n",
        "    ([\"retail\", \"features\"], [\"retail\", \"features_sd\"]),\n",
        "]"
      ]
    },
    {
      "cell_type": "markdown",
      "id": "dddeb53d",
      "metadata": {
        "id": "dddeb53d"
      },
      "source": [
        "The `privacy_unit` is a vector whose each element is a tuple with the convention: `(table_name, join_path, id_column)` with:\n",
        "- `table_name` the name of the table,\n",
        "- `join_path` a vector storing the joins whose each item `(column_name, table_name, column)` represents a foreign key,\n",
        "- `id_column` the name of the column which is the privacy unit."
      ]
    },
    {
      "cell_type": "markdown",
      "id": "0aa67b12",
      "metadata": {
        "id": "0aa67b12"
      },
      "source": [
        "The `Relation` method `protect` allows to propagate the **privacy unit** through all the relations:"
      ]
    },
    {
      "cell_type": "code",
      "execution_count": 6,
      "id": "0ce5df6d",
      "metadata": {
        "colab": {
          "base_uri": "https://localhost:8080/",
          "height": 438
        },
        "id": "0ce5df6d",
        "outputId": "fd275f2d-bb97-45d4-b48a-97e9548ba28b"
      },
      "outputs": [
        {
          "data": {
            "image/svg+xml": [
              "<?xml version=\"1.0\" encoding=\"UTF-8\" standalone=\"no\"?>\n",
              "<!DOCTYPE svg PUBLIC \"-//W3C//DTD SVG 1.1//EN\"\n",
              " \"http://www.w3.org/Graphics/SVG/1.1/DTD/svg11.dtd\">\n",
              "<!-- Generated by graphviz version 2.43.0 (0)\n",
              " -->\n",
              "<!-- Title: graph_3hh7 Pages: 1 -->\n",
              "<svg width=\"409pt\" height=\"313pt\"\n",
              " viewBox=\"0.00 0.00 409.00 313.00\" xmlns=\"http://www.w3.org/2000/svg\" xmlns:xlink=\"http://www.w3.org/1999/xlink\">\n",
              "<g id=\"graph0\" class=\"graph\" transform=\"scale(1 1) rotate(0) translate(4 309)\">\n",
              "<title>graph_3hh7</title>\n",
              "<polygon fill=\"transparent\" stroke=\"transparent\" points=\"-4,4 -4,-309 405,-309 405,4 -4,4\"/>\n",
              "<!-- graph_3hh7 -->\n",
              "<g id=\"node1\" class=\"node\">\n",
              "<title>graph_3hh7</title>\n",
              "<path fill=\"#428e92\" stroke=\"#000000\" stroke-opacity=\"0.333333\" d=\"M389,-305C389,-305 12,-305 12,-305 6,-305 0,-299 0,-293 0,-293 0,-168 0,-168 0,-162 6,-156 12,-156 12,-156 389,-156 389,-156 395,-156 401,-162 401,-168 401,-168 401,-293 401,-293 401,-299 395,-305 389,-305\"/>\n",
              "<text text-anchor=\"start\" x=\"115\" y=\"-283.2\" font-family=\"Red Hat Display,sans-serif\" font-weight=\"bold\" font-size=\"11.00\" fill=\"#000000\" fill-opacity=\"0.733333\">MAP_TR99 size ∈ int[0 910]</text>\n",
              "<text text-anchor=\"start\" x=\"71.5\" y=\"-272.2\" font-family=\"Red Hat Display,sans-serif\" font-size=\"11.00\" fill=\"#000000\" fill-opacity=\"0.733333\">_PRIVACY_UNIT_ = md5(cast_as_text(id)) ∈ str</text>\n",
              "<text text-anchor=\"start\" x=\"94\" y=\"-261.2\" font-family=\"Red Hat Display,sans-serif\" font-size=\"11.00\" fill=\"#000000\" fill-opacity=\"0.733333\">_PRIVACY_UNIT_WEIGHT_ = 1 ∈ int{1}</text>\n",
              "<text text-anchor=\"start\" x=\"166\" y=\"-250.2\" font-family=\"Red Hat Display,sans-serif\" font-size=\"11.00\" fill=\"#000000\" fill-opacity=\"0.733333\">id = id ∈ str</text>\n",
              "<text text-anchor=\"start\" x=\"108.5\" y=\"-239.2\" font-family=\"Red Hat Display,sans-serif\" font-size=\"11.00\" fill=\"#000000\" fill-opacity=\"0.733333\">store = store ∈ str{1, 2, 3, 4, 5}</text>\n",
              "<text text-anchor=\"start\" x=\"14\" y=\"-228.2\" font-family=\"Red Hat Display,sans-serif\" font-size=\"11.00\" fill=\"#000000\" fill-opacity=\"0.733333\">date = date ∈ datetime[2010&#45;02&#45;05 00:00:00 2013&#45;07&#45;26 00:00:00]</text>\n",
              "<text text-anchor=\"start\" x=\"65\" y=\"-217.2\" font-family=\"Red Hat Display,sans-serif\" font-size=\"11.00\" fill=\"#000000\" fill-opacity=\"0.733333\">temperature = temperature ∈ float[28.84 93.34]</text>\n",
              "<text text-anchor=\"start\" x=\"81.5\" y=\"-206.2\" font-family=\"Red Hat Display,sans-serif\" font-size=\"11.00\" fill=\"#000000\" fill-opacity=\"0.733333\">fuel_price = fuel_price ∈ float[2.514 3.907]</text>\n",
              "<text text-anchor=\"start\" x=\"91\" y=\"-195.2\" font-family=\"Red Hat Display,sans-serif\" font-size=\"11.00\" fill=\"#000000\" fill-opacity=\"0.733333\">cpi = cpi ∈ float[126.064 228.7298638]</text>\n",
              "<text text-anchor=\"start\" x=\"51.5\" y=\"-184.2\" font-family=\"Red Hat Display,sans-serif\" font-size=\"11.00\" fill=\"#000000\" fill-opacity=\"0.733333\">unemployment = unemployment ∈ float[3.879 8.623]</text>\n",
              "<text text-anchor=\"start\" x=\"123\" y=\"-173.2\" font-family=\"Red Hat Display,sans-serif\" font-size=\"11.00\" fill=\"#000000\" fill-opacity=\"0.733333\">isholiday = isholiday ∈ bool</text>\n",
              "</g>\n",
              "<!-- graph_pv7m -->\n",
              "<g id=\"node2\" class=\"node\">\n",
              "<title>graph_pv7m</title>\n",
              "<path fill=\"#ff1744\" stroke=\"#000000\" stroke-opacity=\"0.333333\" d=\"M389,-127C389,-127 12,-127 12,-127 6,-127 0,-121 0,-115 0,-115 0,-12 0,-12 0,-6 6,0 12,0 12,0 389,0 389,0 395,0 401,-6 401,-12 401,-12 401,-115 401,-115 401,-121 395,-127 389,-127\"/>\n",
              "<text text-anchor=\"start\" x=\"95.5\" y=\"-105.2\" font-family=\"Red Hat Display,sans-serif\" font-weight=\"bold\" font-size=\"11.00\" fill=\"#ffffff\" fill-opacity=\"0.733333\">RETAIL_FEATURES size ∈ int{910}</text>\n",
              "<text text-anchor=\"start\" x=\"166\" y=\"-94.2\" font-family=\"Red Hat Display,sans-serif\" font-size=\"11.00\" fill=\"#ffffff\" fill-opacity=\"0.733333\">id = id ∈ str</text>\n",
              "<text text-anchor=\"start\" x=\"108.5\" y=\"-83.2\" font-family=\"Red Hat Display,sans-serif\" font-size=\"11.00\" fill=\"#ffffff\" fill-opacity=\"0.733333\">store = store ∈ str{1, 2, 3, 4, 5}</text>\n",
              "<text text-anchor=\"start\" x=\"14\" y=\"-72.2\" font-family=\"Red Hat Display,sans-serif\" font-size=\"11.00\" fill=\"#ffffff\" fill-opacity=\"0.733333\">date = date ∈ datetime[2010&#45;02&#45;05 00:00:00 2013&#45;07&#45;26 00:00:00]</text>\n",
              "<text text-anchor=\"start\" x=\"65\" y=\"-61.2\" font-family=\"Red Hat Display,sans-serif\" font-size=\"11.00\" fill=\"#ffffff\" fill-opacity=\"0.733333\">temperature = temperature ∈ float[28.84 93.34]</text>\n",
              "<text text-anchor=\"start\" x=\"81.5\" y=\"-50.2\" font-family=\"Red Hat Display,sans-serif\" font-size=\"11.00\" fill=\"#ffffff\" fill-opacity=\"0.733333\">fuel_price = fuel_price ∈ float[2.514 3.907]</text>\n",
              "<text text-anchor=\"start\" x=\"91\" y=\"-39.2\" font-family=\"Red Hat Display,sans-serif\" font-size=\"11.00\" fill=\"#ffffff\" fill-opacity=\"0.733333\">cpi = cpi ∈ float[126.064 228.7298638]</text>\n",
              "<text text-anchor=\"start\" x=\"51.5\" y=\"-28.2\" font-family=\"Red Hat Display,sans-serif\" font-size=\"11.00\" fill=\"#ffffff\" fill-opacity=\"0.733333\">unemployment = unemployment ∈ float[3.879 8.623]</text>\n",
              "<text text-anchor=\"start\" x=\"123\" y=\"-17.2\" font-family=\"Red Hat Display,sans-serif\" font-size=\"11.00\" fill=\"#ffffff\" fill-opacity=\"0.733333\">isholiday = isholiday ∈ bool</text>\n",
              "</g>\n",
              "<!-- graph_3hh7&#45;&gt;graph_pv7m -->\n",
              "<g id=\"edge1\" class=\"edge\">\n",
              "<title>graph_3hh7&#45;&gt;graph_pv7m</title>\n",
              "<path fill=\"none\" stroke=\"#2b303a\" d=\"M200.5,-155.69C200.5,-149.59 200.5,-143.42 200.5,-137.33\"/>\n",
              "<polygon fill=\"#2b303a\" stroke=\"#2b303a\" points=\"204,-137.16 200.5,-127.16 197,-137.16 204,-137.16\"/>\n",
              "</g>\n",
              "</g>\n",
              "</svg>\n"
            ],
            "text/plain": [
              "<graphviz.sources.Source at 0x7fb6f74d92e0>"
            ]
          },
          "metadata": {},
          "output_type": "display_data"
        }
      ],
      "source": [
        "pup_features = dataset.relations()[0][1].rewrite_as_privacy_unit_preserving(\n",
        "    dataset,\n",
        "    privacy_unit,\n",
        "    budget,\n",
        "    synthetic_data,\n",
        ")\n",
        "display(graphviz.Source(pup_features.relation().dot()))"
      ]
    },
    {
      "cell_type": "code",
      "execution_count": 7,
      "id": "d975df77",
      "metadata": {
        "colab": {
          "base_uri": "https://localhost:8080/",
          "height": 632
        },
        "id": "d975df77",
        "outputId": "6ee25bbd-c81a-4fac-863e-9937a7ab3678"
      },
      "outputs": [
        {
          "data": {
            "image/svg+xml": [
              "<?xml version=\"1.0\" encoding=\"UTF-8\" standalone=\"no\"?>\n",
              "<!DOCTYPE svg PUBLIC \"-//W3C//DTD SVG 1.1//EN\"\n",
              " \"http://www.w3.org/Graphics/SVG/1.1/DTD/svg11.dtd\">\n",
              "<!-- Generated by graphviz version 2.43.0 (0)\n",
              " -->\n",
              "<!-- Title: graph_6y15 Pages: 1 -->\n",
              "<svg width=\"776pt\" height=\"458pt\"\n",
              " viewBox=\"0.00 0.00 776.00 458.00\" xmlns=\"http://www.w3.org/2000/svg\" xmlns:xlink=\"http://www.w3.org/1999/xlink\">\n",
              "<g id=\"graph0\" class=\"graph\" transform=\"scale(1 1) rotate(0) translate(4 454)\">\n",
              "<title>graph_6y15</title>\n",
              "<polygon fill=\"transparent\" stroke=\"transparent\" points=\"-4,4 -4,-454 772,-454 772,4 -4,4\"/>\n",
              "<!-- graph_6y15 -->\n",
              "<g id=\"node1\" class=\"node\">\n",
              "<title>graph_6y15</title>\n",
              "<path fill=\"#428e92\" stroke=\"#000000\" stroke-opacity=\"0.333333\" d=\"M575.5,-450C575.5,-450 215.5,-450 215.5,-450 209.5,-450 203.5,-444 203.5,-438 203.5,-438 203.5,-368 203.5,-368 203.5,-362 209.5,-356 215.5,-356 215.5,-356 575.5,-356 575.5,-356 581.5,-356 587.5,-362 587.5,-368 587.5,-368 587.5,-438 587.5,-438 587.5,-444 581.5,-450 575.5,-450\"/>\n",
              "<text text-anchor=\"start\" x=\"304.5\" y=\"-428.2\" font-family=\"Red Hat Display,sans-serif\" font-weight=\"bold\" font-size=\"11.00\" fill=\"#000000\" fill-opacity=\"0.733333\">MAP_CDOR size ∈ int[0 4550]</text>\n",
              "<text text-anchor=\"start\" x=\"245\" y=\"-417.2\" font-family=\"Red Hat Display,sans-serif\" font-size=\"11.00\" fill=\"#000000\" fill-opacity=\"0.733333\">_PRIVACY_UNIT_ = md5(cast_as_text(field_tv1c)) ∈ str</text>\n",
              "<text text-anchor=\"start\" x=\"289\" y=\"-406.2\" font-family=\"Red Hat Display,sans-serif\" font-size=\"11.00\" fill=\"#000000\" fill-opacity=\"0.733333\">_PRIVACY_UNIT_WEIGHT_ = 1 ∈ int{1}</text>\n",
              "<text text-anchor=\"start\" x=\"291.5\" y=\"-395.2\" font-family=\"Red Hat Display,sans-serif\" font-size=\"11.00\" fill=\"#000000\" fill-opacity=\"0.733333\">store = field_xh5r ∈ str{1, 2, 3, 4, 5}</text>\n",
              "<text text-anchor=\"start\" x=\"311.5\" y=\"-384.2\" font-family=\"Red Hat Display,sans-serif\" font-size=\"11.00\" fill=\"#000000\" fill-opacity=\"0.733333\">type = field_mzk8 ∈ str{A, B}</text>\n",
              "<text text-anchor=\"start\" x=\"217.5\" y=\"-373.2\" font-family=\"Red Hat Display,sans-serif\" font-size=\"11.00\" fill=\"#000000\" fill-opacity=\"0.733333\">size = field_1p2r ∈ int{34875, 37392, 151315, 202307, 205863}</text>\n",
              "</g>\n",
              "<!-- graph_74kh -->\n",
              "<g id=\"node2\" class=\"node\">\n",
              "<title>graph_74kh</title>\n",
              "<path fill=\"#ff616f\" stroke=\"#000000\" stroke-opacity=\"0.333333\" d=\"M617,-327C617,-327 174,-327 174,-327 168,-327 162,-321 162,-315 162,-315 162,-168 162,-168 162,-162 168,-156 174,-156 174,-156 617,-156 617,-156 623,-156 629,-162 629,-168 629,-168 629,-315 629,-315 629,-321 623,-327 617,-327\"/>\n",
              "<text text-anchor=\"start\" x=\"311\" y=\"-305.2\" font-family=\"Red Hat Display,sans-serif\" font-weight=\"bold\" font-size=\"11.00\" fill=\"#000000\" fill-opacity=\"0.733333\">JOIN_IJ3X size ∈ int[0 4550]</text>\n",
              "<text text-anchor=\"start\" x=\"320\" y=\"-294.2\" font-family=\"Red Hat Display,sans-serif\" font-size=\"11.00\" fill=\"#000000\" fill-opacity=\"0.733333\">field_tv1c = _LEFT_.id ∈ str</text>\n",
              "<text text-anchor=\"start\" x=\"270.5\" y=\"-283.2\" font-family=\"Red Hat Display,sans-serif\" font-size=\"11.00\" fill=\"#000000\" fill-opacity=\"0.733333\">field_8bxb = _LEFT_.store ∈ str{1, 2, 3, 4, 5}</text>\n",
              "<text text-anchor=\"start\" x=\"176\" y=\"-272.2\" font-family=\"Red Hat Display,sans-serif\" font-size=\"11.00\" fill=\"#000000\" fill-opacity=\"0.733333\">field_djqk = _LEFT_.date ∈ datetime[2010&#45;02&#45;05 00:00:00 2013&#45;07&#45;26 00:00:00]</text>\n",
              "<text text-anchor=\"start\" x=\"245.5\" y=\"-261.2\" font-family=\"Red Hat Display,sans-serif\" font-size=\"11.00\" fill=\"#000000\" fill-opacity=\"0.733333\">field_x8ew = _LEFT_.temperature ∈ float[28.84 93.34]</text>\n",
              "<text text-anchor=\"start\" x=\"255.5\" y=\"-250.2\" font-family=\"Red Hat Display,sans-serif\" font-size=\"11.00\" fill=\"#000000\" fill-opacity=\"0.733333\">field_z1o7 = _LEFT_.fuel_price ∈ float[2.514 3.907]</text>\n",
              "<text text-anchor=\"start\" x=\"247.5\" y=\"-239.2\" font-family=\"Red Hat Display,sans-serif\" font-size=\"11.00\" fill=\"#000000\" fill-opacity=\"0.733333\">field_vto2 = _LEFT_.cpi ∈ float[126.064 228.7298638]</text>\n",
              "<text text-anchor=\"start\" x=\"242\" y=\"-228.2\" font-family=\"Red Hat Display,sans-serif\" font-size=\"11.00\" fill=\"#000000\" fill-opacity=\"0.733333\">field_16di = _LEFT_.unemployment ∈ float[3.879 8.623]</text>\n",
              "<text text-anchor=\"start\" x=\"296.5\" y=\"-217.2\" font-family=\"Red Hat Display,sans-serif\" font-size=\"11.00\" fill=\"#000000\" fill-opacity=\"0.733333\">field_nl9d = _LEFT_.isholiday ∈ bool</text>\n",
              "<text text-anchor=\"start\" x=\"267.5\" y=\"-206.2\" font-family=\"Red Hat Display,sans-serif\" font-size=\"11.00\" fill=\"#000000\" fill-opacity=\"0.733333\">field_xh5r = _RIGHT_.store ∈ str{1, 2, 3, 4, 5}</text>\n",
              "<text text-anchor=\"start\" x=\"287.5\" y=\"-195.2\" font-family=\"Red Hat Display,sans-serif\" font-size=\"11.00\" fill=\"#000000\" fill-opacity=\"0.733333\">field_mzk8 = _RIGHT_.type ∈ str{A, B}</text>\n",
              "<text text-anchor=\"start\" x=\"193.5\" y=\"-184.2\" font-family=\"Red Hat Display,sans-serif\" font-size=\"11.00\" fill=\"#000000\" fill-opacity=\"0.733333\">field_1p2r = _RIGHT_.size ∈ int{34875, 37392, 151315, 202307, 205863}</text>\n",
              "<text text-anchor=\"start\" x=\"281\" y=\"-173.2\" font-family=\"Red Hat Display,sans-serif\" font-size=\"11.00\" fill=\"#000000\" fill-opacity=\"0.733333\">INNER ON (_RIGHT_.store = _LEFT_.store)</text>\n",
              "</g>\n",
              "<!-- graph_6y15&#45;&gt;graph_74kh -->\n",
              "<g id=\"edge3\" class=\"edge\">\n",
              "<title>graph_6y15&#45;&gt;graph_74kh</title>\n",
              "<path fill=\"none\" stroke=\"#2b303a\" d=\"M395.5,-355.87C395.5,-349.89 395.5,-343.6 395.5,-337.18\"/>\n",
              "<polygon fill=\"#2b303a\" stroke=\"#2b303a\" points=\"399,-337.01 395.5,-327.01 392,-337.01 399,-337.01\"/>\n",
              "</g>\n",
              "<!-- graph_pv7m -->\n",
              "<g id=\"node3\" class=\"node\">\n",
              "<title>graph_pv7m</title>\n",
              "<path fill=\"#ff1744\" stroke=\"#000000\" stroke-opacity=\"0.333333\" d=\"M389,-127C389,-127 12,-127 12,-127 6,-127 0,-121 0,-115 0,-115 0,-12 0,-12 0,-6 6,0 12,0 12,0 389,0 389,0 395,0 401,-6 401,-12 401,-12 401,-115 401,-115 401,-121 395,-127 389,-127\"/>\n",
              "<text text-anchor=\"start\" x=\"95.5\" y=\"-105.2\" font-family=\"Red Hat Display,sans-serif\" font-weight=\"bold\" font-size=\"11.00\" fill=\"#ffffff\" fill-opacity=\"0.733333\">RETAIL_FEATURES size ∈ int{910}</text>\n",
              "<text text-anchor=\"start\" x=\"166\" y=\"-94.2\" font-family=\"Red Hat Display,sans-serif\" font-size=\"11.00\" fill=\"#ffffff\" fill-opacity=\"0.733333\">id = id ∈ str</text>\n",
              "<text text-anchor=\"start\" x=\"108.5\" y=\"-83.2\" font-family=\"Red Hat Display,sans-serif\" font-size=\"11.00\" fill=\"#ffffff\" fill-opacity=\"0.733333\">store = store ∈ str{1, 2, 3, 4, 5}</text>\n",
              "<text text-anchor=\"start\" x=\"14\" y=\"-72.2\" font-family=\"Red Hat Display,sans-serif\" font-size=\"11.00\" fill=\"#ffffff\" fill-opacity=\"0.733333\">date = date ∈ datetime[2010&#45;02&#45;05 00:00:00 2013&#45;07&#45;26 00:00:00]</text>\n",
              "<text text-anchor=\"start\" x=\"65\" y=\"-61.2\" font-family=\"Red Hat Display,sans-serif\" font-size=\"11.00\" fill=\"#ffffff\" fill-opacity=\"0.733333\">temperature = temperature ∈ float[28.84 93.34]</text>\n",
              "<text text-anchor=\"start\" x=\"81.5\" y=\"-50.2\" font-family=\"Red Hat Display,sans-serif\" font-size=\"11.00\" fill=\"#ffffff\" fill-opacity=\"0.733333\">fuel_price = fuel_price ∈ float[2.514 3.907]</text>\n",
              "<text text-anchor=\"start\" x=\"91\" y=\"-39.2\" font-family=\"Red Hat Display,sans-serif\" font-size=\"11.00\" fill=\"#ffffff\" fill-opacity=\"0.733333\">cpi = cpi ∈ float[126.064 228.7298638]</text>\n",
              "<text text-anchor=\"start\" x=\"51.5\" y=\"-28.2\" font-family=\"Red Hat Display,sans-serif\" font-size=\"11.00\" fill=\"#ffffff\" fill-opacity=\"0.733333\">unemployment = unemployment ∈ float[3.879 8.623]</text>\n",
              "<text text-anchor=\"start\" x=\"123\" y=\"-17.2\" font-family=\"Red Hat Display,sans-serif\" font-size=\"11.00\" fill=\"#ffffff\" fill-opacity=\"0.733333\">isholiday = isholiday ∈ bool</text>\n",
              "</g>\n",
              "<!-- graph_74kh&#45;&gt;graph_pv7m -->\n",
              "<g id=\"edge1\" class=\"edge\">\n",
              "<title>graph_74kh&#45;&gt;graph_pv7m</title>\n",
              "<path fill=\"none\" stroke=\"#2b303a\" d=\"M301.71,-155.85C293.66,-148.59 285.58,-141.29 277.68,-134.16\"/>\n",
              "<polygon fill=\"#2b303a\" stroke=\"#2b303a\" points=\"279.62,-131.2 269.86,-127.1 274.93,-136.4 279.62,-131.2\"/>\n",
              "</g>\n",
              "<!-- graph_rdzg -->\n",
              "<g id=\"node4\" class=\"node\">\n",
              "<title>graph_rdzg</title>\n",
              "<path fill=\"#ff1744\" stroke=\"#000000\" stroke-opacity=\"0.333333\" d=\"M756,-99.5C756,-99.5 427,-99.5 427,-99.5 421,-99.5 415,-93.5 415,-87.5 415,-87.5 415,-39.5 415,-39.5 415,-33.5 421,-27.5 427,-27.5 427,-27.5 756,-27.5 756,-27.5 762,-27.5 768,-33.5 768,-39.5 768,-39.5 768,-87.5 768,-87.5 768,-93.5 762,-99.5 756,-99.5\"/>\n",
              "<text text-anchor=\"start\" x=\"501\" y=\"-77.7\" font-family=\"Red Hat Display,sans-serif\" font-weight=\"bold\" font-size=\"11.00\" fill=\"#ffffff\" fill-opacity=\"0.733333\">RETAIL_STORES size ∈ int{5}</text>\n",
              "<text text-anchor=\"start\" x=\"499.5\" y=\"-66.7\" font-family=\"Red Hat Display,sans-serif\" font-size=\"11.00\" fill=\"#ffffff\" fill-opacity=\"0.733333\">store = store ∈ str{1, 2, 3, 4, 5}</text>\n",
              "<text text-anchor=\"start\" x=\"524\" y=\"-55.7\" font-family=\"Red Hat Display,sans-serif\" font-size=\"11.00\" fill=\"#ffffff\" fill-opacity=\"0.733333\">type = type ∈ str{A, B}</text>\n",
              "<text text-anchor=\"start\" x=\"429\" y=\"-44.7\" font-family=\"Red Hat Display,sans-serif\" font-size=\"11.00\" fill=\"#ffffff\" fill-opacity=\"0.733333\">size = size ∈ int{34875, 37392, 151315, 202307, 205863}</text>\n",
              "</g>\n",
              "<!-- graph_74kh&#45;&gt;graph_rdzg -->\n",
              "<g id=\"edge2\" class=\"edge\">\n",
              "<title>graph_74kh&#45;&gt;graph_rdzg</title>\n",
              "<path fill=\"none\" stroke=\"#2b303a\" d=\"M489.77,-155.85C508.82,-138.75 528.05,-121.47 544.59,-106.62\"/>\n",
              "<polygon fill=\"#2b303a\" stroke=\"#2b303a\" points=\"547.38,-108.82 552.48,-99.54 542.7,-103.61 547.38,-108.82\"/>\n",
              "</g>\n",
              "</g>\n",
              "</svg>\n"
            ],
            "text/plain": [
              "<graphviz.sources.Source at 0x7fb6f74c5a00>"
            ]
          },
          "metadata": {},
          "output_type": "display_data"
        }
      ],
      "source": [
        "pup_stores = dataset.relations()[2][1].rewrite_as_privacy_unit_preserving(\n",
        "    dataset,\n",
        "    privacy_unit,\n",
        "    budget,\n",
        "    synthetic_data\n",
        ")\n",
        "display(graphviz.Source(pup_stores.relation().dot()))"
      ]
    },
    {
      "cell_type": "markdown",
      "id": "f232bac1",
      "metadata": {
        "id": "f232bac1"
      },
      "source": [
        "We notice that to protect the `features` table we just have to hash the values of the `id` column and store them into the `_PRIVACY_UNIT_` while to protect the `store` table we had to make a join before."
      ]
    },
    {
      "cell_type": "markdown",
      "id": "b5badc08",
      "metadata": {
        "id": "b5badc08"
      },
      "source": [
        "## The sensitivity"
      ]
    },
    {
      "cell_type": "markdown",
      "id": "9de52758",
      "metadata": {
        "id": "9de52758"
      },
      "source": [
        "In the case we want to relase the result of query : `SELECT SUM(3 * fuel_price + temperature / 10) FROM retail.features`, we have to compute the sensitivity of the `SUM(3 * fuel_price + temperature / 10)` aggregation.\n",
        "\n",
        "The user provides the ranges of the inputs column in the `WHERE` clause of the query, then these values are propagated through all the relations."
      ]
    },
    {
      "cell_type": "code",
      "execution_count": 8,
      "id": "4ca7732e",
      "metadata": {
        "colab": {
          "base_uri": "https://localhost:8080/",
          "height": 426
        },
        "id": "4ca7732e",
        "outputId": "c8ee2ed3-771d-4ecb-ff65-c25b93cbd8e0"
      },
      "outputs": [
        {
          "data": {
            "image/svg+xml": [
              "<?xml version=\"1.0\" encoding=\"UTF-8\" standalone=\"no\"?>\n",
              "<!DOCTYPE svg PUBLIC \"-//W3C//DTD SVG 1.1//EN\"\n",
              " \"http://www.w3.org/Graphics/SVG/1.1/DTD/svg11.dtd\">\n",
              "<!-- Generated by graphviz version 2.43.0 (0)\n",
              " -->\n",
              "<!-- Title: graph_ncz4 Pages: 1 -->\n",
              "<svg width=\"598pt\" height=\"304pt\"\n",
              " viewBox=\"0.00 0.00 598.00 304.00\" xmlns=\"http://www.w3.org/2000/svg\" xmlns:xlink=\"http://www.w3.org/1999/xlink\">\n",
              "<g id=\"graph0\" class=\"graph\" transform=\"scale(1 1) rotate(0) translate(4 300)\">\n",
              "<title>graph_ncz4</title>\n",
              "<polygon fill=\"transparent\" stroke=\"transparent\" points=\"-4,4 -4,-300 594,-300 594,4 -4,4\"/>\n",
              "<!-- graph_ncz4 -->\n",
              "<g id=\"node1\" class=\"node\">\n",
              "<title>graph_ncz4</title>\n",
              "<path fill=\"#00363a\" stroke=\"#000000\" stroke-opacity=\"0.333333\" d=\"M422,-296C422,-296 168,-296 168,-296 162,-296 156,-290 156,-284 156,-284 156,-258 156,-258 156,-252 162,-246 168,-246 168,-246 422,-246 422,-246 428,-246 434,-252 434,-258 434,-258 434,-284 434,-284 434,-290 428,-296 422,-296\"/>\n",
              "<text text-anchor=\"start\" x=\"198.5\" y=\"-274.2\" font-family=\"Red Hat Display,sans-serif\" font-weight=\"bold\" font-size=\"11.00\" fill=\"#ffffff\" fill-opacity=\"0.733333\">REDUCE_T29B size ∈ int[0 910]</text>\n",
              "<text text-anchor=\"start\" x=\"170\" y=\"-263.2\" font-family=\"Red Hat Display,sans-serif\" font-size=\"11.00\" fill=\"#ffffff\" fill-opacity=\"0.733333\">field_qq4j = sum(field_38yt) ∈ float[0 19110]</text>\n",
              "</g>\n",
              "<!-- graph_2h21 -->\n",
              "<g id=\"node2\" class=\"node\">\n",
              "<title>graph_2h21</title>\n",
              "<path fill=\"#428e92\" stroke=\"#000000\" stroke-opacity=\"0.333333\" d=\"M578,-217C578,-217 12,-217 12,-217 6,-217 0,-211 0,-205 0,-205 0,-168 0,-168 0,-162 6,-156 12,-156 12,-156 578,-156 578,-156 584,-156 590,-162 590,-168 590,-168 590,-205 590,-205 590,-211 584,-217 578,-217\"/>\n",
              "<text text-anchor=\"start\" x=\"208.5\" y=\"-195.2\" font-family=\"Red Hat Display,sans-serif\" font-weight=\"bold\" font-size=\"11.00\" fill=\"#000000\" fill-opacity=\"0.733333\">MAP_WRIQ size ∈ int[0 910]</text>\n",
              "<text text-anchor=\"start\" x=\"102.5\" y=\"-184.2\" font-family=\"Red Hat Display,sans-serif\" font-size=\"11.00\" fill=\"#000000\" fill-opacity=\"0.733333\">field_38yt = ((3 * fuel_price) + (temperature / 10)) ∈ float[10.426 21]</text>\n",
              "<text text-anchor=\"start\" x=\"14\" y=\"-173.2\" font-family=\"Red Hat Display,sans-serif\" font-size=\"11.00\" fill=\"#000000\" fill-opacity=\"0.733333\">WHERE ((((fuel_price &gt; 2.5) and (fuel_price &lt; 3.9)) and (temperature &gt; 28)) and (temperature &lt; 93))</text>\n",
              "</g>\n",
              "<!-- graph_ncz4&#45;&gt;graph_2h21 -->\n",
              "<g id=\"edge2\" class=\"edge\">\n",
              "<title>graph_ncz4&#45;&gt;graph_2h21</title>\n",
              "<path fill=\"none\" stroke=\"#2b303a\" d=\"M295,-245.69C295,-239.97 295,-233.72 295,-227.5\"/>\n",
              "<polygon fill=\"#2b303a\" stroke=\"#2b303a\" points=\"298.5,-227.18 295,-217.18 291.5,-227.18 298.5,-227.18\"/>\n",
              "</g>\n",
              "<!-- graph_pv7m -->\n",
              "<g id=\"node3\" class=\"node\">\n",
              "<title>graph_pv7m</title>\n",
              "<path fill=\"#ff1744\" stroke=\"#000000\" stroke-opacity=\"0.333333\" d=\"M483.5,-127C483.5,-127 106.5,-127 106.5,-127 100.5,-127 94.5,-121 94.5,-115 94.5,-115 94.5,-12 94.5,-12 94.5,-6 100.5,0 106.5,0 106.5,0 483.5,0 483.5,0 489.5,0 495.5,-6 495.5,-12 495.5,-12 495.5,-115 495.5,-115 495.5,-121 489.5,-127 483.5,-127\"/>\n",
              "<text text-anchor=\"start\" x=\"190\" y=\"-105.2\" font-family=\"Red Hat Display,sans-serif\" font-weight=\"bold\" font-size=\"11.00\" fill=\"#ffffff\" fill-opacity=\"0.733333\">RETAIL_FEATURES size ∈ int{910}</text>\n",
              "<text text-anchor=\"start\" x=\"260.5\" y=\"-94.2\" font-family=\"Red Hat Display,sans-serif\" font-size=\"11.00\" fill=\"#ffffff\" fill-opacity=\"0.733333\">id = id ∈ str</text>\n",
              "<text text-anchor=\"start\" x=\"203\" y=\"-83.2\" font-family=\"Red Hat Display,sans-serif\" font-size=\"11.00\" fill=\"#ffffff\" fill-opacity=\"0.733333\">store = store ∈ str{1, 2, 3, 4, 5}</text>\n",
              "<text text-anchor=\"start\" x=\"108.5\" y=\"-72.2\" font-family=\"Red Hat Display,sans-serif\" font-size=\"11.00\" fill=\"#ffffff\" fill-opacity=\"0.733333\">date = date ∈ datetime[2010&#45;02&#45;05 00:00:00 2013&#45;07&#45;26 00:00:00]</text>\n",
              "<text text-anchor=\"start\" x=\"159.5\" y=\"-61.2\" font-family=\"Red Hat Display,sans-serif\" font-size=\"11.00\" fill=\"#ffffff\" fill-opacity=\"0.733333\">temperature = temperature ∈ float[28.84 93.34]</text>\n",
              "<text text-anchor=\"start\" x=\"176\" y=\"-50.2\" font-family=\"Red Hat Display,sans-serif\" font-size=\"11.00\" fill=\"#ffffff\" fill-opacity=\"0.733333\">fuel_price = fuel_price ∈ float[2.514 3.907]</text>\n",
              "<text text-anchor=\"start\" x=\"185.5\" y=\"-39.2\" font-family=\"Red Hat Display,sans-serif\" font-size=\"11.00\" fill=\"#ffffff\" fill-opacity=\"0.733333\">cpi = cpi ∈ float[126.064 228.7298638]</text>\n",
              "<text text-anchor=\"start\" x=\"146\" y=\"-28.2\" font-family=\"Red Hat Display,sans-serif\" font-size=\"11.00\" fill=\"#ffffff\" fill-opacity=\"0.733333\">unemployment = unemployment ∈ float[3.879 8.623]</text>\n",
              "<text text-anchor=\"start\" x=\"217.5\" y=\"-17.2\" font-family=\"Red Hat Display,sans-serif\" font-size=\"11.00\" fill=\"#ffffff\" fill-opacity=\"0.733333\">isholiday = isholiday ∈ bool</text>\n",
              "</g>\n",
              "<!-- graph_2h21&#45;&gt;graph_pv7m -->\n",
              "<g id=\"edge1\" class=\"edge\">\n",
              "<title>graph_2h21&#45;&gt;graph_pv7m</title>\n",
              "<path fill=\"none\" stroke=\"#2b303a\" d=\"M295,-155.9C295,-150.21 295,-144.01 295,-137.63\"/>\n",
              "<polygon fill=\"#2b303a\" stroke=\"#2b303a\" points=\"298.5,-137.47 295,-127.47 291.5,-137.47 298.5,-137.47\"/>\n",
              "</g>\n",
              "</g>\n",
              "</svg>\n"
            ],
            "text/plain": [
              "<graphviz.sources.Source at 0x7fb6f747a130>"
            ]
          },
          "metadata": {},
          "output_type": "display_data"
        }
      ],
      "source": [
        "relation = dataset.relation('SELECT SUM(3 * fuel_price + temperature / 10) FROM retail.features WHERE fuel_price > 2.5 AND fuel_price < 3.9 AND temperature > 28 AND temperature < 93')\n",
        "display(graphviz.Source(relation.dot()))"
      ]
    },
    {
      "cell_type": "markdown",
      "id": "48d3a1dd",
      "metadata": {
        "id": "48d3a1dd"
      },
      "source": [
        "More information about the ranges propagation can be found [here](https://github.com/Qrlew/pyqrlew/blob/main/examples/range_propagation.ipynb)."
      ]
    },
    {
      "cell_type": "markdown",
      "id": "1fc2f206",
      "metadata": {
        "id": "1fc2f206"
      },
      "source": [
        "## The protection of the GROUP BY keys"
      ]
    },
    {
      "cell_type": "markdown",
      "id": "88ad8146",
      "metadata": {
        "id": "88ad8146"
      },
      "source": [
        "As explained in [Wilson et al. (2019)](https://arxiv.org/abs/1909.01917) and [this post](https://www.sarus.tech/post/the-protection-of-grouping-keys-in-the-context-of-differentially-private-sql), releasing the values of the grouping columns may leak some sensitive information.\n",
        "\n",
        "To avoid that, two methods can be used:\n",
        "- if the grouping keys have public values, we can release the propagated public values,\n",
        "- otherwise we can use the tau-thresholding mechanism.\n",
        "\n",
        "In the following cell, we show how the public values are propagated and then can be used in the DP rewriting."
      ]
    },
    {
      "cell_type": "code",
      "execution_count": 9,
      "id": "f591c869",
      "metadata": {
        "colab": {
          "base_uri": "https://localhost:8080/",
          "height": 590
        },
        "id": "f591c869",
        "outputId": "2a8f39c6-0ee4-4536-bab7-37800b0e6479"
      },
      "outputs": [
        {
          "data": {
            "image/svg+xml": [
              "<?xml version=\"1.0\" encoding=\"UTF-8\" standalone=\"no\"?>\n",
              "<!DOCTYPE svg PUBLIC \"-//W3C//DTD SVG 1.1//EN\"\n",
              " \"http://www.w3.org/Graphics/SVG/1.1/DTD/svg11.dtd\">\n",
              "<!-- Generated by graphviz version 2.43.0 (0)\n",
              " -->\n",
              "<!-- Title: graph_r019 Pages: 1 -->\n",
              "<svg width=\"409pt\" height=\"427pt\"\n",
              " viewBox=\"0.00 0.00 409.00 427.00\" xmlns=\"http://www.w3.org/2000/svg\" xmlns:xlink=\"http://www.w3.org/1999/xlink\">\n",
              "<g id=\"graph0\" class=\"graph\" transform=\"scale(1 1) rotate(0) translate(4 423)\">\n",
              "<title>graph_r019</title>\n",
              "<polygon fill=\"transparent\" stroke=\"transparent\" points=\"-4,4 -4,-423 405,-423 405,4 -4,4\"/>\n",
              "<!-- graph_r019 -->\n",
              "<g id=\"node1\" class=\"node\">\n",
              "<title>graph_r019</title>\n",
              "<path fill=\"#428e92\" stroke=\"#000000\" stroke-opacity=\"0.333333\" d=\"M319.5,-419C319.5,-419 81.5,-419 81.5,-419 75.5,-419 69.5,-413 69.5,-407 69.5,-407 69.5,-370 69.5,-370 69.5,-364 75.5,-358 81.5,-358 81.5,-358 319.5,-358 319.5,-358 325.5,-358 331.5,-364 331.5,-370 331.5,-370 331.5,-407 331.5,-407 331.5,-413 325.5,-419 319.5,-419\"/>\n",
              "<text text-anchor=\"start\" x=\"113.5\" y=\"-397.2\" font-family=\"Red Hat Display,sans-serif\" font-weight=\"bold\" font-size=\"11.00\" fill=\"#000000\" fill-opacity=\"0.733333\">MAP_XXBU size ∈ int[0 910]</text>\n",
              "<text text-anchor=\"start\" x=\"116\" y=\"-386.2\" font-family=\"Red Hat Display,sans-serif\" font-size=\"11.00\" fill=\"#000000\" fill-opacity=\"0.733333\">store = field_8tj1 ∈ ∅ UNIQUE</text>\n",
              "<text text-anchor=\"start\" x=\"83.5\" y=\"-375.2\" font-family=\"Red Hat Display,sans-serif\" font-size=\"11.00\" fill=\"#000000\" fill-opacity=\"0.733333\">field_dtwp = field_7hx6 ∈ float[0 3555.37]</text>\n",
              "</g>\n",
              "<!-- graph_oq77 -->\n",
              "<g id=\"node2\" class=\"node\">\n",
              "<title>graph_oq77</title>\n",
              "<path fill=\"#00363a\" stroke=\"#000000\" stroke-opacity=\"0.333333\" d=\"M333,-329C333,-329 68,-329 68,-329 62,-329 56,-323 56,-317 56,-317 56,-269 56,-269 56,-263 62,-257 68,-257 68,-257 333,-257 333,-257 339,-257 345,-263 345,-269 345,-269 345,-317 345,-317 345,-323 339,-329 333,-329\"/>\n",
              "<text text-anchor=\"start\" x=\"103.5\" y=\"-307.2\" font-family=\"Red Hat Display,sans-serif\" font-weight=\"bold\" font-size=\"11.00\" fill=\"#ffffff\" fill-opacity=\"0.733333\">REDUCE_A8N5 size ∈ int[0 910]</text>\n",
              "<text text-anchor=\"start\" x=\"90\" y=\"-296.2\" font-family=\"Red Hat Display,sans-serif\" font-size=\"11.00\" fill=\"#ffffff\" fill-opacity=\"0.733333\">field_8tj1 = first(field_8tj1) ∈ ∅ UNIQUE</text>\n",
              "<text text-anchor=\"start\" x=\"70\" y=\"-285.2\" font-family=\"Red Hat Display,sans-serif\" font-size=\"11.00\" fill=\"#ffffff\" fill-opacity=\"0.733333\">field_7hx6 = sum(field__6vl) ∈ float[0 3555.37]</text>\n",
              "<text text-anchor=\"start\" x=\"140.5\" y=\"-274.2\" font-family=\"Red Hat Display,sans-serif\" font-size=\"11.00\" fill=\"#ffffff\" fill-opacity=\"0.733333\">GROUP BY (field_8tj1)</text>\n",
              "</g>\n",
              "<!-- graph_r019&#45;&gt;graph_oq77 -->\n",
              "<g id=\"edge3\" class=\"edge\">\n",
              "<title>graph_r019&#45;&gt;graph_oq77</title>\n",
              "<path fill=\"none\" stroke=\"#2b303a\" d=\"M200.5,-357.92C200.5,-352.09 200.5,-345.85 200.5,-339.64\"/>\n",
              "<polygon fill=\"#2b303a\" stroke=\"#2b303a\" points=\"204,-339.28 200.5,-329.28 197,-339.28 204,-339.28\"/>\n",
              "</g>\n",
              "<!-- graph_y2um -->\n",
              "<g id=\"node3\" class=\"node\">\n",
              "<title>graph_y2um</title>\n",
              "<path fill=\"#428e92\" stroke=\"#000000\" stroke-opacity=\"0.333333\" d=\"M320.5,-228C320.5,-228 80.5,-228 80.5,-228 74.5,-228 68.5,-222 68.5,-216 68.5,-216 68.5,-168 68.5,-168 68.5,-162 74.5,-156 80.5,-156 80.5,-156 320.5,-156 320.5,-156 326.5,-156 332.5,-162 332.5,-168 332.5,-168 332.5,-216 332.5,-216 332.5,-222 326.5,-228 320.5,-228\"/>\n",
              "<text text-anchor=\"start\" x=\"114.5\" y=\"-206.2\" font-family=\"Red Hat Display,sans-serif\" font-weight=\"bold\" font-size=\"11.00\" fill=\"#000000\" fill-opacity=\"0.733333\">MAP_07YO size ∈ int[0 910]</text>\n",
              "<text text-anchor=\"start\" x=\"82.5\" y=\"-195.2\" font-family=\"Red Hat Display,sans-serif\" font-size=\"11.00\" fill=\"#000000\" fill-opacity=\"0.733333\">field__6vl = fuel_price ∈ float[2.514 3.907]</text>\n",
              "<text text-anchor=\"start\" x=\"139.5\" y=\"-184.2\" font-family=\"Red Hat Display,sans-serif\" font-size=\"11.00\" fill=\"#000000\" fill-opacity=\"0.733333\">field_8tj1 = store ∈ ∅</text>\n",
              "<text text-anchor=\"start\" x=\"135.5\" y=\"-173.2\" font-family=\"Red Hat Display,sans-serif\" font-size=\"11.00\" fill=\"#000000\" fill-opacity=\"0.733333\">WHERE (store in (a, b))</text>\n",
              "</g>\n",
              "<!-- graph_oq77&#45;&gt;graph_y2um -->\n",
              "<g id=\"edge2\" class=\"edge\">\n",
              "<title>graph_oq77&#45;&gt;graph_y2um</title>\n",
              "<path fill=\"none\" stroke=\"#2b303a\" d=\"M200.5,-256.82C200.5,-250.84 200.5,-244.55 200.5,-238.35\"/>\n",
              "<polygon fill=\"#2b303a\" stroke=\"#2b303a\" points=\"204,-238.07 200.5,-228.07 197,-238.07 204,-238.07\"/>\n",
              "</g>\n",
              "<!-- graph_pv7m -->\n",
              "<g id=\"node4\" class=\"node\">\n",
              "<title>graph_pv7m</title>\n",
              "<path fill=\"#ff1744\" stroke=\"#000000\" stroke-opacity=\"0.333333\" d=\"M389,-127C389,-127 12,-127 12,-127 6,-127 0,-121 0,-115 0,-115 0,-12 0,-12 0,-6 6,0 12,0 12,0 389,0 389,0 395,0 401,-6 401,-12 401,-12 401,-115 401,-115 401,-121 395,-127 389,-127\"/>\n",
              "<text text-anchor=\"start\" x=\"95.5\" y=\"-105.2\" font-family=\"Red Hat Display,sans-serif\" font-weight=\"bold\" font-size=\"11.00\" fill=\"#ffffff\" fill-opacity=\"0.733333\">RETAIL_FEATURES size ∈ int{910}</text>\n",
              "<text text-anchor=\"start\" x=\"166\" y=\"-94.2\" font-family=\"Red Hat Display,sans-serif\" font-size=\"11.00\" fill=\"#ffffff\" fill-opacity=\"0.733333\">id = id ∈ str</text>\n",
              "<text text-anchor=\"start\" x=\"108.5\" y=\"-83.2\" font-family=\"Red Hat Display,sans-serif\" font-size=\"11.00\" fill=\"#ffffff\" fill-opacity=\"0.733333\">store = store ∈ str{1, 2, 3, 4, 5}</text>\n",
              "<text text-anchor=\"start\" x=\"14\" y=\"-72.2\" font-family=\"Red Hat Display,sans-serif\" font-size=\"11.00\" fill=\"#ffffff\" fill-opacity=\"0.733333\">date = date ∈ datetime[2010&#45;02&#45;05 00:00:00 2013&#45;07&#45;26 00:00:00]</text>\n",
              "<text text-anchor=\"start\" x=\"65\" y=\"-61.2\" font-family=\"Red Hat Display,sans-serif\" font-size=\"11.00\" fill=\"#ffffff\" fill-opacity=\"0.733333\">temperature = temperature ∈ float[28.84 93.34]</text>\n",
              "<text text-anchor=\"start\" x=\"81.5\" y=\"-50.2\" font-family=\"Red Hat Display,sans-serif\" font-size=\"11.00\" fill=\"#ffffff\" fill-opacity=\"0.733333\">fuel_price = fuel_price ∈ float[2.514 3.907]</text>\n",
              "<text text-anchor=\"start\" x=\"91\" y=\"-39.2\" font-family=\"Red Hat Display,sans-serif\" font-size=\"11.00\" fill=\"#ffffff\" fill-opacity=\"0.733333\">cpi = cpi ∈ float[126.064 228.7298638]</text>\n",
              "<text text-anchor=\"start\" x=\"51.5\" y=\"-28.2\" font-family=\"Red Hat Display,sans-serif\" font-size=\"11.00\" fill=\"#ffffff\" fill-opacity=\"0.733333\">unemployment = unemployment ∈ float[3.879 8.623]</text>\n",
              "<text text-anchor=\"start\" x=\"123\" y=\"-17.2\" font-family=\"Red Hat Display,sans-serif\" font-size=\"11.00\" fill=\"#ffffff\" fill-opacity=\"0.733333\">isholiday = isholiday ∈ bool</text>\n",
              "</g>\n",
              "<!-- graph_y2um&#45;&gt;graph_pv7m -->\n",
              "<g id=\"edge1\" class=\"edge\">\n",
              "<title>graph_y2um&#45;&gt;graph_pv7m</title>\n",
              "<path fill=\"none\" stroke=\"#2b303a\" d=\"M200.5,-155.76C200.5,-149.91 200.5,-143.66 200.5,-137.27\"/>\n",
              "<polygon fill=\"#2b303a\" stroke=\"#2b303a\" points=\"204,-137.16 200.5,-127.16 197,-137.16 204,-137.16\"/>\n",
              "</g>\n",
              "</g>\n",
              "</svg>\n"
            ],
            "text/plain": [
              "<graphviz.sources.Source at 0x7fb7241f9eb0>"
            ]
          },
          "metadata": {},
          "output_type": "display_data"
        }
      ],
      "source": [
        "relation = dataset.relation(\"SELECT store, SUM(fuel_price) FROM retail.features WHERE store IN ('a', 'b') GROUP BY store \")\n",
        "display(graphviz.Source(relation.dot()))"
      ]
    },
    {
      "cell_type": "markdown",
      "id": "5b28a481",
      "metadata": {
        "id": "5b28a481"
      },
      "source": [
        "## Rewritting with DP"
      ]
    },
    {
      "cell_type": "markdown",
      "id": "f03b57f8",
      "metadata": {
        "id": "f03b57f8"
      },
      "source": [
        "The rewritting with DP is done in 3 steps:\n",
        "- **Protect** the input `Relation` as described before\n",
        "- **DP-rewritting of the grouping keys**: a grouping key can be released if already public or if it appears in enough users rows,\n",
        "- **Add noise** scaled by the privacy parameters to each aggregation."
      ]
    },
    {
      "cell_type": "markdown",
      "id": "fac10e08",
      "metadata": {
        "id": "fac10e08"
      },
      "source": [
        "\n",
        "We use the `rewrite_with_differential_privacy` method that transforms a `Relation` into its differentially private equivalent.\n",
        "\n",
        "It inputs:\n",
        "- `dataset`: the `Dataset` we want to query, \n",
        "- `privacy_unit`: the privacy unit described previously, \n",
        "- `privacy parameters`: the $(\\varepsilon, \\delta)$ privacy parameters,\n",
        "- `synthetic_data`: an **optional** list giving the correpondance between the original tables and their synthetic version. Each table must be specified. The list is made of two-element tuples whose first element is a list representing the path to the original table (e.g.: `[\"retail\", \"features\"]` for \"retail.features\" table or `[\"features\"]` for the \"feature\" table) and the second element, the path to the synthetic table. "
      ]
    },
    {
      "cell_type": "code",
      "execution_count": 10,
      "id": "9b989849",
      "metadata": {
        "id": "9b989849"
      },
      "outputs": [],
      "source": [
        "privacy_unit = [\n",
        "    (\"stores\", [(\"store\", \"features\", \"store\")], \"id\"),\n",
        "    (\"features\", [], \"id\"),\n",
        "    (\"sales\", [], \"id\")\n",
        "]\n",
        "budget = {\"epsilon\": 1.0, \"delta\": 5e-4}\n",
        "synthetic_data = None\n",
        "\n",
        "query = \"SELECT SUM(fuel_price) AS my_sum FROM retail.features WHERE fuel_price > 2.514 AND fuel_price < 3.907\"\n",
        "relation = dataset.relation(query)\n",
        "\n",
        "relation_with_dp_event = relation.rewrite_with_differential_privacy(\n",
        "    dataset,\n",
        "    privacy_unit,\n",
        "    budget,\n",
        "    synthetic_data,\n",
        ")\n",
        "dp_relation = relation_with_dp_event.relation()\n",
        "mechanisms_used = relation_with_dp_event.dp_event()"
      ]
    },
    {
      "cell_type": "code",
      "execution_count": 11,
      "id": "b5eec893",
      "metadata": {
        "colab": {
          "base_uri": "https://localhost:8080/"
        },
        "id": "b5eec893",
        "outputId": "482bb22e-b6ef-4e8c-aa9e-e2bcf7620965"
      },
      "outputs": [
        {
          "name": "stdout",
          "output_type": "stream",
          "text": [
            "Relation: \u001b[1;34mSELECT\u001b[0m my_sum AS my_sum \u001b[1;34mFROM\u001b[0m ( \u001b[1;34mSELECT\u001b[0m _SUM_field__6vl AS my_sum \u001b[1;34mFROM\u001b[0m ( \u001b[1;34mSELECT\u001b[0m least(3555.37, greatest(0, (coalesce(_SUM_field__6vl, 0) + (15.455181404019267 * (sqrt((-2 * ln(random()))) * cos((6.283185307179586 * random()))))))) AS _SUM_field__6vl \u001b[1;34mFROM\u001b[0m ( \u001b[1;34mSELECT\u001b[0m sum(field_q9u_) \u001b[1;34mAS\u001b[0m _SUM_field__6vl \u001b[1;34mFROM\u001b[0m ( \u001b[1;34mSELECT\u001b[0m _CLIPPED_field__6vl AS field_q9u_ \u001b[1;34mFROM\u001b[0m ( \u001b[1;34mSELECT\u001b[0m _PRIVACY_UNIT_ AS _PRIVACY_UNIT_, _PRIVACY_UNIT_WEIGHT_ AS _PRIVACY_UNIT_WEIGHT_, field__6vl AS field__6vl, _SCALE_FACTOR__PRIVACY_UNIT_ AS _SCALE_FACTOR__PRIVACY_UNIT_, _SCALE_FACTOR_field__6vl AS _SCALE_FACTOR_field__6vl, (field__6vl * _SCALE_FACTOR_field__6vl) AS _CLIPPED_field__6vl \u001b[1;34mFROM\u001b[0m ( \u001b[1;34mSELECT\u001b[0m map_8359._PRIVACY_UNIT_ \u001b[1;34mAS\u001b[0m \u001b[35m_PRIVACY_UNIT_\u001b[0m, map_8359._PRIVACY_UNIT_WEIGHT_ \u001b[1;34mAS\u001b[0m \u001b[35m_PRIVACY_UNIT_WEIGHT_\u001b[0m, map_8359.field__6vl \u001b[1;34mAS\u001b[0m \u001b[35mfield__6vl\u001b[0m, map_27uj._PRIVACY_UNIT_ \u001b[1;34mAS\u001b[0m \u001b[35m_SCALE_FACTOR__PRIVACY_UNIT_\u001b[0m, map_27uj.field__6vl \u001b[1;34mAS\u001b[0m \u001b[35m_SCALE_FACTOR_field__6vl\u001b[0m \u001b[1;34mFROM\u001b[0m ( \u001b[1;34mSELECT\u001b[0m coalesce(cast_as_text(_PRIVACY_UNIT_), _PRIVACY_UNIT_DEFAULT_) AS _PRIVACY_UNIT_, coalesce(_PRIVACY_UNIT_WEIGHT_, 0) AS _PRIVACY_UNIT_WEIGHT_, field__6vl AS field__6vl \u001b[1;34mFROM\u001b[0m ( \u001b[1;34mSELECT\u001b[0m _PRIVACY_UNIT_ AS _PRIVACY_UNIT_, _PRIVACY_UNIT_WEIGHT_ AS _PRIVACY_UNIT_WEIGHT_, fuel_price AS field__6vl \u001b[1;34mFROM\u001b[0m ( \u001b[1;34mSELECT\u001b[0m md5(cast_as_text(id)) AS _PRIVACY_UNIT_, 1 AS _PRIVACY_UNIT_WEIGHT_, id AS id, store AS store, date AS date, temperature AS temperature, fuel_price AS fuel_price, cpi AS cpi, unemployment AS unemployment, isholiday AS isholiday \u001b[1;34mFROM\u001b[0m ( retail.features ) ) \u001b[1;34mWHERE\u001b[0m ((fuel_price > 2.514) and (fuel_price < 3.907)) ) ) \u001b[1;34mAS\u001b[0m \u001b[35m_LEFT_\u001b[0m INNER \u001b[1;34mJOIN\u001b[0m ( \u001b[1;34mSELECT\u001b[0m _PRIVACY_UNIT_ AS _PRIVACY_UNIT_, (1 / greatest(1, (sqrt(field__6vl) / 3.907))) AS field__6vl \u001b[1;34mFROM\u001b[0m ( \u001b[1;34mSELECT\u001b[0m first(field_grep) \u001b[1;34mAS\u001b[0m _PRIVACY_UNIT_, sum(field_czvy) \u001b[1;34mAS\u001b[0m field__6vl \u001b[1;34mFROM\u001b[0m ( \u001b[1;34mSELECT\u001b[0m _NORM_field__6vl AS field_czvy, _PRIVACY_UNIT_ AS field_grep \u001b[1;34mFROM\u001b[0m ( \u001b[1;34mSELECT\u001b[0m _PRIVACY_UNIT_ AS _PRIVACY_UNIT_, abs((_NORM_field__6vl * _NORM_field__6vl)) AS _NORM_field__6vl \u001b[1;34mFROM\u001b[0m ( \u001b[1;34mSELECT\u001b[0m first(field_grep) \u001b[1;34mAS\u001b[0m _PRIVACY_UNIT_, sum(field_3d25) \u001b[1;34mAS\u001b[0m _NORM_field__6vl \u001b[1;34mFROM\u001b[0m ( \u001b[1;34mSELECT\u001b[0m field__6vl AS field_3d25, _PRIVACY_UNIT_ AS field_grep \u001b[1;34mFROM\u001b[0m ( \u001b[1;34mSELECT\u001b[0m coalesce(cast_as_text(_PRIVACY_UNIT_), _PRIVACY_UNIT_DEFAULT_) AS _PRIVACY_UNIT_, coalesce(_PRIVACY_UNIT_WEIGHT_, 0) AS _PRIVACY_UNIT_WEIGHT_, field__6vl AS field__6vl \u001b[1;34mFROM\u001b[0m ( \u001b[1;34mSELECT\u001b[0m _PRIVACY_UNIT_ AS _PRIVACY_UNIT_, _PRIVACY_UNIT_WEIGHT_ AS _PRIVACY_UNIT_WEIGHT_, fuel_price AS field__6vl \u001b[1;34mFROM\u001b[0m ( \u001b[1;34mSELECT\u001b[0m md5(cast_as_text(id)) AS _PRIVACY_UNIT_, 1 AS _PRIVACY_UNIT_WEIGHT_, id AS id, store AS store, date AS date, temperature AS temperature, fuel_price AS fuel_price, cpi AS cpi, unemployment AS unemployment, isholiday AS isholiday \u001b[1;34mFROM\u001b[0m ( retail.features ) ) \u001b[1;34mWHERE\u001b[0m ((fuel_price > 2.514) and (fuel_price < 3.907)) ) ) ) \u001b[1;34mGROUP BY\u001b[0m field_grep ) ) ) \u001b[1;34mGROUP BY\u001b[0m field_grep ) ) \u001b[1;34mAS\u001b[0m \u001b[35m_RIGHT_\u001b[0m \u001b[1;34mON\u001b[0m (_LEFT_._PRIVACY_UNIT_ = _RIGHT_._PRIVACY_UNIT_) ) ) ) ) ) )\n",
            "DpEvent: Gaussian (15.455181404019267)\n",
            "\n"
          ]
        }
      ],
      "source": [
        "print(relation_with_dp_event)"
      ]
    },
    {
      "cell_type": "markdown",
      "id": "b58c4ff3",
      "metadata": {
        "id": "b58c4ff3"
      },
      "source": [
        "The ouput is a tuple made of two elements:\n",
        "- The first element is the `Relation` rewritten with dp,\n",
        "- the second element is a `DpEvent` which stores the DP mechanims invoked during the rewritting.\n",
        "\n",
        "In the present case, we have used only a gaussian mechanim since our query contain only a simple aggregate and no `GROUP BY`."
      ]
    },
    {
      "cell_type": "code",
      "execution_count": 14,
      "id": "fd1670d3",
      "metadata": {
        "colab": {
          "base_uri": "https://localhost:8080/",
          "height": 1000
        },
        "id": "fd1670d3",
        "outputId": "ae443cae-6edc-40ba-a343-4a6bde25fa24"
      },
      "outputs": [
        {
          "data": {
            "image/svg+xml": [
              "<?xml version=\"1.0\" encoding=\"UTF-8\" standalone=\"no\"?>\n",
              "<!DOCTYPE svg PUBLIC \"-//W3C//DTD SVG 1.1//EN\"\n",
              " \"http://www.w3.org/Graphics/SVG/1.1/DTD/svg11.dtd\">\n",
              "<!-- Generated by graphviz version 2.43.0 (0)\n",
              " -->\n",
              "<!-- Title: graph_y1al Pages: 1 -->\n",
              "<svg width=\"788pt\" height=\"1751pt\"\n",
              " viewBox=\"0.00 0.00 788.00 1751.00\" xmlns=\"http://www.w3.org/2000/svg\" xmlns:xlink=\"http://www.w3.org/1999/xlink\">\n",
              "<g id=\"graph0\" class=\"graph\" transform=\"scale(1 1) rotate(0) translate(4 1747)\">\n",
              "<title>graph_y1al</title>\n",
              "<polygon fill=\"transparent\" stroke=\"transparent\" points=\"-4,4 -4,-1747 784,-1747 784,4 -4,4\"/>\n",
              "<!-- graph_y1al -->\n",
              "<g id=\"node1\" class=\"node\">\n",
              "<title>graph_y1al</title>\n",
              "<path fill=\"#428e92\" stroke=\"#000000\" stroke-opacity=\"0.333333\" d=\"M518.5,-1743C518.5,-1743 300.5,-1743 300.5,-1743 294.5,-1743 288.5,-1737 288.5,-1731 288.5,-1731 288.5,-1705 288.5,-1705 288.5,-1699 294.5,-1693 300.5,-1693 300.5,-1693 518.5,-1693 518.5,-1693 524.5,-1693 530.5,-1699 530.5,-1705 530.5,-1705 530.5,-1731 530.5,-1731 530.5,-1737 524.5,-1743 518.5,-1743\"/>\n",
              "<text text-anchor=\"start\" x=\"324.5\" y=\"-1721.2\" font-family=\"Red Hat Display,sans-serif\" font-weight=\"bold\" font-size=\"11.00\" fill=\"#000000\" fill-opacity=\"0.733333\">MAP_V4L3 size ∈ int[0 910]</text>\n",
              "<text text-anchor=\"start\" x=\"302.5\" y=\"-1710.2\" font-family=\"Red Hat Display,sans-serif\" font-size=\"11.00\" fill=\"#000000\" fill-opacity=\"0.733333\">my_sum = my_sum ∈ float[0 3555.37]</text>\n",
              "</g>\n",
              "<!-- graph_0pe_ -->\n",
              "<g id=\"node2\" class=\"node\">\n",
              "<title>graph_0pe_</title>\n",
              "<path fill=\"#428e92\" stroke=\"#000000\" stroke-opacity=\"0.333333\" d=\"M538.5,-1664C538.5,-1664 280.5,-1664 280.5,-1664 274.5,-1664 268.5,-1658 268.5,-1652 268.5,-1652 268.5,-1626 268.5,-1626 268.5,-1620 274.5,-1614 280.5,-1614 280.5,-1614 538.5,-1614 538.5,-1614 544.5,-1614 550.5,-1620 550.5,-1626 550.5,-1626 550.5,-1652 550.5,-1652 550.5,-1658 544.5,-1664 538.5,-1664\"/>\n",
              "<text text-anchor=\"start\" x=\"323.5\" y=\"-1642.2\" font-family=\"Red Hat Display,sans-serif\" font-weight=\"bold\" font-size=\"11.00\" fill=\"#000000\" fill-opacity=\"0.733333\">MAP_SPAZ size ∈ int[0 910]</text>\n",
              "<text text-anchor=\"start\" x=\"282.5\" y=\"-1631.2\" font-family=\"Red Hat Display,sans-serif\" font-size=\"11.00\" fill=\"#000000\" fill-opacity=\"0.733333\">my_sum = _SUM_field__6vl ∈ float[0 3555.37]</text>\n",
              "</g>\n",
              "<!-- graph_y1al&#45;&gt;graph_0pe_ -->\n",
              "<g id=\"edge17\" class=\"edge\">\n",
              "<title>graph_y1al&#45;&gt;graph_0pe_</title>\n",
              "<path fill=\"none\" stroke=\"#2b303a\" d=\"M409.5,-1692.64C409.5,-1686.82 409.5,-1680.51 409.5,-1674.34\"/>\n",
              "<polygon fill=\"#2b303a\" stroke=\"#2b303a\" points=\"413,-1674.2 409.5,-1664.2 406,-1674.2 413,-1674.2\"/>\n",
              "</g>\n",
              "<!-- graph_30j2 -->\n",
              "<g id=\"node3\" class=\"node\">\n",
              "<title>graph_30j2</title>\n",
              "<path fill=\"#428e92\" stroke=\"#000000\" stroke-opacity=\"0.333333\" d=\"M768,-1585C768,-1585 51,-1585 51,-1585 45,-1585 39,-1579 39,-1573 39,-1573 39,-1547 39,-1547 39,-1541 45,-1535 51,-1535 51,-1535 768,-1535 768,-1535 774,-1535 780,-1541 780,-1547 780,-1547 780,-1573 780,-1573 780,-1579 774,-1585 768,-1585\"/>\n",
              "<text text-anchor=\"start\" x=\"320\" y=\"-1563.2\" font-family=\"Red Hat Display,sans-serif\" font-weight=\"bold\" font-size=\"11.00\" fill=\"#000000\" fill-opacity=\"0.733333\">MAP_MYMS size ∈ int[0 910]</text>\n",
              "<text text-anchor=\"start\" x=\"53\" y=\"-1552.2\" font-family=\"Red Hat Display,sans-serif\" font-size=\"11.00\" fill=\"#000000\" fill-opacity=\"0.733333\">_SUM_field__6vl = least(3555.37, greatest(0, (coalesce(_SUM_field__6vl, 0) + (15.455181404019267 * (sqrt((&#45;2 * ln(random())))...</text>\n",
              "</g>\n",
              "<!-- graph_0pe_&#45;&gt;graph_30j2 -->\n",
              "<g id=\"edge16\" class=\"edge\">\n",
              "<title>graph_0pe_&#45;&gt;graph_30j2</title>\n",
              "<path fill=\"none\" stroke=\"#2b303a\" d=\"M409.5,-1613.64C409.5,-1607.82 409.5,-1601.51 409.5,-1595.34\"/>\n",
              "<polygon fill=\"#2b303a\" stroke=\"#2b303a\" points=\"413,-1595.2 409.5,-1585.2 406,-1595.2 413,-1595.2\"/>\n",
              "</g>\n",
              "<!-- graph_hipl -->\n",
              "<g id=\"node4\" class=\"node\">\n",
              "<title>graph_hipl</title>\n",
              "<path fill=\"#00363a\" stroke=\"#000000\" stroke-opacity=\"0.333333\" d=\"M559,-1506C559,-1506 260,-1506 260,-1506 254,-1506 248,-1500 248,-1494 248,-1494 248,-1468 248,-1468 248,-1462 254,-1456 260,-1456 260,-1456 559,-1456 559,-1456 565,-1456 571,-1462 571,-1468 571,-1468 571,-1494 571,-1494 571,-1500 565,-1506 559,-1506\"/>\n",
              "<text text-anchor=\"start\" x=\"313\" y=\"-1484.2\" font-family=\"Red Hat Display,sans-serif\" font-weight=\"bold\" font-size=\"11.00\" fill=\"#ffffff\" fill-opacity=\"0.733333\">REDUCE_C_AN size ∈ int[0 910]</text>\n",
              "<text text-anchor=\"start\" x=\"262\" y=\"-1473.2\" font-family=\"Red Hat Display,sans-serif\" font-size=\"11.00\" fill=\"#ffffff\" fill-opacity=\"0.733333\">_SUM_field__6vl = sum(field_q9u_) ∈ float[0 3555.37]</text>\n",
              "</g>\n",
              "<!-- graph_30j2&#45;&gt;graph_hipl -->\n",
              "<g id=\"edge15\" class=\"edge\">\n",
              "<title>graph_30j2&#45;&gt;graph_hipl</title>\n",
              "<path fill=\"none\" stroke=\"#2b303a\" d=\"M409.5,-1534.64C409.5,-1528.82 409.5,-1522.51 409.5,-1516.34\"/>\n",
              "<polygon fill=\"#2b303a\" stroke=\"#2b303a\" points=\"413,-1516.2 409.5,-1506.2 406,-1516.2 413,-1516.2\"/>\n",
              "</g>\n",
              "<!-- graph_0gxl -->\n",
              "<g id=\"node5\" class=\"node\">\n",
              "<title>graph_0gxl</title>\n",
              "<path fill=\"#428e92\" stroke=\"#000000\" stroke-opacity=\"0.333333\" d=\"M612,-1427C612,-1427 207,-1427 207,-1427 201,-1427 195,-1421 195,-1415 195,-1415 195,-1389 195,-1389 195,-1383 201,-1377 207,-1377 207,-1377 612,-1377 612,-1377 618,-1377 624,-1383 624,-1389 624,-1389 624,-1415 624,-1415 624,-1421 618,-1427 612,-1427\"/>\n",
              "<text text-anchor=\"start\" x=\"324\" y=\"-1405.2\" font-family=\"Red Hat Display,sans-serif\" font-weight=\"bold\" font-size=\"11.00\" fill=\"#000000\" fill-opacity=\"0.733333\">MAP_Z0MI size ∈ int[0 910]</text>\n",
              "<text text-anchor=\"start\" x=\"209\" y=\"-1394.2\" font-family=\"Red Hat Display,sans-serif\" font-size=\"11.00\" fill=\"#000000\" fill-opacity=\"0.733333\">field_q9u_ = _CLIPPED_field__6vl ∈ float[0.0000915805368102931 3.907]</text>\n",
              "</g>\n",
              "<!-- graph_hipl&#45;&gt;graph_0gxl -->\n",
              "<g id=\"edge14\" class=\"edge\">\n",
              "<title>graph_hipl&#45;&gt;graph_0gxl</title>\n",
              "<path fill=\"none\" stroke=\"#2b303a\" d=\"M409.5,-1455.64C409.5,-1449.82 409.5,-1443.51 409.5,-1437.34\"/>\n",
              "<polygon fill=\"#2b303a\" stroke=\"#2b303a\" points=\"413,-1437.2 409.5,-1427.2 406,-1437.2 413,-1437.2\"/>\n",
              "</g>\n",
              "<!-- graph_y6ar -->\n",
              "<g id=\"node6\" class=\"node\">\n",
              "<title>graph_y6ar</title>\n",
              "<path fill=\"#428e92\" stroke=\"#000000\" stroke-opacity=\"0.333333\" d=\"M693,-1348C693,-1348 126,-1348 126,-1348 120,-1348 114,-1342 114,-1336 114,-1336 114,-1255 114,-1255 114,-1249 120,-1243 126,-1243 126,-1243 693,-1243 693,-1243 699,-1243 705,-1249 705,-1255 705,-1255 705,-1336 705,-1336 705,-1342 699,-1348 693,-1348\"/>\n",
              "<text text-anchor=\"start\" x=\"324.5\" y=\"-1326.2\" font-family=\"Red Hat Display,sans-serif\" font-weight=\"bold\" font-size=\"11.00\" fill=\"#000000\" fill-opacity=\"0.733333\">MAP_702E size ∈ int[0 910]</text>\n",
              "<text text-anchor=\"start\" x=\"297\" y=\"-1315.2\" font-family=\"Red Hat Display,sans-serif\" font-size=\"11.00\" fill=\"#000000\" fill-opacity=\"0.733333\">_PRIVACY_UNIT_ = _PRIVACY_UNIT_ ∈ str</text>\n",
              "<text text-anchor=\"start\" x=\"238\" y=\"-1304.2\" font-family=\"Red Hat Display,sans-serif\" font-size=\"11.00\" fill=\"#000000\" fill-opacity=\"0.733333\">_PRIVACY_UNIT_WEIGHT_ = _PRIVACY_UNIT_WEIGHT_ ∈ int{1}</text>\n",
              "<text text-anchor=\"start\" x=\"292.5\" y=\"-1293.2\" font-family=\"Red Hat Display,sans-serif\" font-size=\"11.00\" fill=\"#000000\" fill-opacity=\"0.733333\">field__6vl = field__6vl ∈ float[2.514 3.907]</text>\n",
              "<text text-anchor=\"start\" x=\"203.5\" y=\"-1282.2\" font-family=\"Red Hat Display,sans-serif\" font-size=\"11.00\" fill=\"#000000\" fill-opacity=\"0.733333\">_SCALE_FACTOR__PRIVACY_UNIT_ = _SCALE_FACTOR__PRIVACY_UNIT_ ∈ str</text>\n",
              "<text text-anchor=\"start\" x=\"153.5\" y=\"-1271.2\" font-family=\"Red Hat Display,sans-serif\" font-size=\"11.00\" fill=\"#000000\" fill-opacity=\"0.733333\">_SCALE_FACTOR_field__6vl = _SCALE_FACTOR_field__6vl ∈ float[0.00003642821671053823 1]</text>\n",
              "<text text-anchor=\"start\" x=\"128\" y=\"-1260.2\" font-family=\"Red Hat Display,sans-serif\" font-size=\"11.00\" fill=\"#000000\" fill-opacity=\"0.733333\">_CLIPPED_field__6vl = (field__6vl * _SCALE_FACTOR_field__6vl) ∈ float[0.0000915805368102931 3.907]</text>\n",
              "</g>\n",
              "<!-- graph_0gxl&#45;&gt;graph_y6ar -->\n",
              "<g id=\"edge13\" class=\"edge\">\n",
              "<title>graph_0gxl&#45;&gt;graph_y6ar</title>\n",
              "<path fill=\"none\" stroke=\"#2b303a\" d=\"M409.5,-1376.76C409.5,-1371.14 409.5,-1364.91 409.5,-1358.48\"/>\n",
              "<polygon fill=\"#2b303a\" stroke=\"#2b303a\" points=\"413,-1358.25 409.5,-1348.25 406,-1358.25 413,-1358.25\"/>\n",
              "</g>\n",
              "<!-- graph_c8e1 -->\n",
              "<g id=\"node7\" class=\"node\">\n",
              "<title>graph_c8e1</title>\n",
              "<path fill=\"#ff616f\" stroke=\"#000000\" stroke-opacity=\"0.333333\" d=\"M644.5,-1214C644.5,-1214 174.5,-1214 174.5,-1214 168.5,-1214 162.5,-1208 162.5,-1202 162.5,-1202 162.5,-1121 162.5,-1121 162.5,-1115 168.5,-1109 174.5,-1109 174.5,-1109 644.5,-1109 644.5,-1109 650.5,-1109 656.5,-1115 656.5,-1121 656.5,-1121 656.5,-1202 656.5,-1202 656.5,-1208 650.5,-1214 644.5,-1214\"/>\n",
              "<text text-anchor=\"start\" x=\"325.5\" y=\"-1192.2\" font-family=\"Red Hat Display,sans-serif\" font-weight=\"bold\" font-size=\"11.00\" fill=\"#000000\" fill-opacity=\"0.733333\">JOIN_0577 size ∈ int[0 910]</text>\n",
              "<text text-anchor=\"start\" x=\"277\" y=\"-1181.2\" font-family=\"Red Hat Display,sans-serif\" font-size=\"11.00\" fill=\"#000000\" fill-opacity=\"0.733333\">_PRIVACY_UNIT_ = _LEFT_._PRIVACY_UNIT_ ∈ str</text>\n",
              "<text text-anchor=\"start\" x=\"218\" y=\"-1170.2\" font-family=\"Red Hat Display,sans-serif\" font-size=\"11.00\" fill=\"#000000\" fill-opacity=\"0.733333\">_PRIVACY_UNIT_WEIGHT_ = _LEFT_._PRIVACY_UNIT_WEIGHT_ ∈ int{1}</text>\n",
              "<text text-anchor=\"start\" x=\"272.5\" y=\"-1159.2\" font-family=\"Red Hat Display,sans-serif\" font-size=\"11.00\" fill=\"#000000\" fill-opacity=\"0.733333\">field__6vl = _LEFT_.field__6vl ∈ float[2.514 3.907]</text>\n",
              "<text text-anchor=\"start\" x=\"226\" y=\"-1148.2\" font-family=\"Red Hat Display,sans-serif\" font-size=\"11.00\" fill=\"#000000\" fill-opacity=\"0.733333\">_SCALE_FACTOR__PRIVACY_UNIT_ = _RIGHT_._PRIVACY_UNIT_ ∈ str</text>\n",
              "<text text-anchor=\"start\" x=\"176.5\" y=\"-1137.2\" font-family=\"Red Hat Display,sans-serif\" font-size=\"11.00\" fill=\"#000000\" fill-opacity=\"0.733333\">_SCALE_FACTOR_field__6vl = _RIGHT_.field__6vl ∈ float[0.00003642821671053823 1]</text>\n",
              "<text text-anchor=\"start\" x=\"235.5\" y=\"-1126.2\" font-family=\"Red Hat Display,sans-serif\" font-size=\"11.00\" fill=\"#000000\" fill-opacity=\"0.733333\">INNER ON (_LEFT_._PRIVACY_UNIT_ = _RIGHT_._PRIVACY_UNIT_)</text>\n",
              "</g>\n",
              "<!-- graph_y6ar&#45;&gt;graph_c8e1 -->\n",
              "<g id=\"edge12\" class=\"edge\">\n",
              "<title>graph_y6ar&#45;&gt;graph_c8e1</title>\n",
              "<path fill=\"none\" stroke=\"#2b303a\" d=\"M409.5,-1242.71C409.5,-1236.69 409.5,-1230.51 409.5,-1224.38\"/>\n",
              "<polygon fill=\"#2b303a\" stroke=\"#2b303a\" points=\"413,-1224.14 409.5,-1214.14 406,-1224.14 413,-1224.14\"/>\n",
              "</g>\n",
              "<!-- graph_jdqk -->\n",
              "<g id=\"node8\" class=\"node\">\n",
              "<title>graph_jdqk</title>\n",
              "<path fill=\"#428e92\" stroke=\"#000000\" stroke-opacity=\"0.333333\" d=\"M519,-1080C519,-1080 12,-1080 12,-1080 6,-1080 0,-1074 0,-1068 0,-1068 0,-1031 0,-1031 0,-1025 6,-1019 12,-1019 12,-1019 519,-1019 519,-1019 525,-1019 531,-1025 531,-1031 531,-1031 531,-1068 531,-1068 531,-1074 525,-1080 519,-1080\"/>\n",
              "<text text-anchor=\"start\" x=\"181.5\" y=\"-1058.2\" font-family=\"Red Hat Display,sans-serif\" font-weight=\"bold\" font-size=\"11.00\" fill=\"#000000\" fill-opacity=\"0.733333\">MAP_27UJ size ∈ int[0 910]</text>\n",
              "<text text-anchor=\"start\" x=\"129.5\" y=\"-1047.2\" font-family=\"Red Hat Display,sans-serif\" font-size=\"11.00\" fill=\"#000000\" fill-opacity=\"0.733333\">_PRIVACY_UNIT_ = _PRIVACY_UNIT_ ∈ str UNIQUE</text>\n",
              "<text text-anchor=\"start\" x=\"14\" y=\"-1036.2\" font-family=\"Red Hat Display,sans-serif\" font-size=\"11.00\" fill=\"#000000\" fill-opacity=\"0.733333\">field__6vl = (1 / greatest(1, (sqrt(field__6vl) / 3.907))) ∈ float[0.00003642821671053823 1]</text>\n",
              "</g>\n",
              "<!-- graph_c8e1&#45;&gt;graph_jdqk -->\n",
              "<g id=\"edge11\" class=\"edge\">\n",
              "<title>graph_c8e1&#45;&gt;graph_jdqk</title>\n",
              "<path fill=\"none\" stroke=\"#2b303a\" d=\"M341.72,-1108.72C331.79,-1101.14 321.75,-1093.47 312.36,-1086.3\"/>\n",
              "<polygon fill=\"#2b303a\" stroke=\"#2b303a\" points=\"314.37,-1083.43 304.3,-1080.14 310.12,-1088.99 314.37,-1083.43\"/>\n",
              "</g>\n",
              "<!-- graph_1jvj -->\n",
              "<g id=\"node14\" class=\"node\">\n",
              "<title>graph_1jvj</title>\n",
              "<path fill=\"#428e92\" stroke=\"#000000\" stroke-opacity=\"0.333333\" d=\"M691.5,-518C691.5,-518 179.5,-518 179.5,-518 173.5,-518 167.5,-512 167.5,-506 167.5,-506 167.5,-458 167.5,-458 167.5,-452 173.5,-446 179.5,-446 179.5,-446 691.5,-446 691.5,-446 697.5,-446 703.5,-452 703.5,-458 703.5,-458 703.5,-506 703.5,-506 703.5,-512 697.5,-518 691.5,-518\"/>\n",
              "<text text-anchor=\"start\" x=\"350.5\" y=\"-496.2\" font-family=\"Red Hat Display,sans-serif\" font-weight=\"bold\" font-size=\"11.00\" fill=\"#000000\" fill-opacity=\"0.733333\">MAP_8359 size ∈ int[0 910]</text>\n",
              "<text text-anchor=\"start\" x=\"181.5\" y=\"-485.2\" font-family=\"Red Hat Display,sans-serif\" font-size=\"11.00\" fill=\"#000000\" fill-opacity=\"0.733333\">_PRIVACY_UNIT_ = coalesce(cast_as_text(_PRIVACY_UNIT_), _PRIVACY_UNIT_DEFAULT_) ∈ str</text>\n",
              "<text text-anchor=\"start\" x=\"228\" y=\"-474.2\" font-family=\"Red Hat Display,sans-serif\" font-size=\"11.00\" fill=\"#000000\" fill-opacity=\"0.733333\">_PRIVACY_UNIT_WEIGHT_ = coalesce(_PRIVACY_UNIT_WEIGHT_, 0) ∈ int{1}</text>\n",
              "<text text-anchor=\"start\" x=\"318.5\" y=\"-463.2\" font-family=\"Red Hat Display,sans-serif\" font-size=\"11.00\" fill=\"#000000\" fill-opacity=\"0.733333\">field__6vl = field__6vl ∈ float[2.514 3.907]</text>\n",
              "</g>\n",
              "<!-- graph_c8e1&#45;&gt;graph_1jvj -->\n",
              "<g id=\"edge10\" class=\"edge\">\n",
              "<title>graph_c8e1&#45;&gt;graph_1jvj</title>\n",
              "<path fill=\"none\" stroke=\"#2b303a\" d=\"M511.65,-1108.98C521.61,-1100.48 530.58,-1090.84 537.5,-1080 567.65,-1032.8 553.5,-1011.01 553.5,-955 553.5,-955 553.5,-955 553.5,-672 553.5,-614.94 514.32,-560.89 481.12,-525.32\"/>\n",
              "<polygon fill=\"#2b303a\" stroke=\"#2b303a\" points=\"483.58,-522.83 474.14,-518.02 478.52,-527.66 483.58,-522.83\"/>\n",
              "</g>\n",
              "<!-- graph_p83v -->\n",
              "<g id=\"node9\" class=\"node\">\n",
              "<title>graph_p83v</title>\n",
              "<path fill=\"#00363a\" stroke=\"#000000\" stroke-opacity=\"0.333333\" d=\"M424,-990C424,-990 107,-990 107,-990 101,-990 95,-984 95,-978 95,-978 95,-930 95,-930 95,-924 101,-918 107,-918 107,-918 424,-918 424,-918 430,-918 436,-924 436,-930 436,-930 436,-978 436,-978 436,-984 430,-990 424,-990\"/>\n",
              "<text text-anchor=\"start\" x=\"169\" y=\"-968.2\" font-family=\"Red Hat Display,sans-serif\" font-weight=\"bold\" font-size=\"11.00\" fill=\"#ffffff\" fill-opacity=\"0.733333\">REDUCE_EU18 size ∈ int[0 910]</text>\n",
              "<text text-anchor=\"start\" x=\"131.5\" y=\"-957.2\" font-family=\"Red Hat Display,sans-serif\" font-size=\"11.00\" fill=\"#ffffff\" fill-opacity=\"0.733333\">_PRIVACY_UNIT_ = first(field_grep) ∈ str UNIQUE</text>\n",
              "<text text-anchor=\"start\" x=\"109\" y=\"-946.2\" font-family=\"Red Hat Display,sans-serif\" font-size=\"11.00\" fill=\"#ffffff\" fill-opacity=\"0.733333\">field__6vl = sum(field_czvy) ∈ float[0 11502996811.579]</text>\n",
              "<text text-anchor=\"start\" x=\"203.5\" y=\"-935.2\" font-family=\"Red Hat Display,sans-serif\" font-size=\"11.00\" fill=\"#ffffff\" fill-opacity=\"0.733333\">GROUP BY (field_grep)</text>\n",
              "</g>\n",
              "<!-- graph_jdqk&#45;&gt;graph_p83v -->\n",
              "<g id=\"edge9\" class=\"edge\">\n",
              "<title>graph_jdqk&#45;&gt;graph_p83v</title>\n",
              "<path fill=\"none\" stroke=\"#2b303a\" d=\"M265.5,-1018.92C265.5,-1013.09 265.5,-1006.85 265.5,-1000.64\"/>\n",
              "<polygon fill=\"#2b303a\" stroke=\"#2b303a\" points=\"269,-1000.28 265.5,-990.28 262,-1000.28 269,-1000.28\"/>\n",
              "</g>\n",
              "<!-- graph_og3t -->\n",
              "<g id=\"node10\" class=\"node\">\n",
              "<title>graph_og3t</title>\n",
              "<path fill=\"#428e92\" stroke=\"#000000\" stroke-opacity=\"0.333333\" d=\"M425,-889C425,-889 108,-889 108,-889 102,-889 96,-883 96,-877 96,-877 96,-840 96,-840 96,-834 102,-828 108,-828 108,-828 425,-828 425,-828 431,-828 437,-834 437,-840 437,-840 437,-877 437,-877 437,-883 431,-889 425,-889\"/>\n",
              "<text text-anchor=\"start\" x=\"180\" y=\"-867.2\" font-family=\"Red Hat Display,sans-serif\" font-weight=\"bold\" font-size=\"11.00\" fill=\"#000000\" fill-opacity=\"0.733333\">MAP_MLF9 size ∈ int[0 910]</text>\n",
              "<text text-anchor=\"start\" x=\"110\" y=\"-856.2\" font-family=\"Red Hat Display,sans-serif\" font-size=\"11.00\" fill=\"#000000\" fill-opacity=\"0.733333\">field_czvy = _NORM_field__6vl ∈ float[0 12640655.8369]</text>\n",
              "<text text-anchor=\"start\" x=\"147.5\" y=\"-845.2\" font-family=\"Red Hat Display,sans-serif\" font-size=\"11.00\" fill=\"#000000\" fill-opacity=\"0.733333\">field_grep = _PRIVACY_UNIT_ ∈ str UNIQUE</text>\n",
              "</g>\n",
              "<!-- graph_p83v&#45;&gt;graph_og3t -->\n",
              "<g id=\"edge8\" class=\"edge\">\n",
              "<title>graph_p83v&#45;&gt;graph_og3t</title>\n",
              "<path fill=\"none\" stroke=\"#2b303a\" d=\"M265.88,-917.92C265.94,-911.88 266.01,-905.56 266.07,-899.4\"/>\n",
              "<polygon fill=\"#2b303a\" stroke=\"#2b303a\" points=\"269.57,-899.3 266.18,-889.27 262.57,-899.23 269.57,-899.3\"/>\n",
              "</g>\n",
              "<!-- graph_si52 -->\n",
              "<g id=\"node11\" class=\"node\">\n",
              "<title>graph_si52</title>\n",
              "<path fill=\"#428e92\" stroke=\"#000000\" stroke-opacity=\"0.333333\" d=\"M519,-799C519,-799 16,-799 16,-799 10,-799 4,-793 4,-787 4,-787 4,-750 4,-750 4,-744 10,-738 16,-738 16,-738 519,-738 519,-738 525,-738 531,-744 531,-750 531,-750 531,-787 531,-787 531,-793 525,-799 519,-799\"/>\n",
              "<text text-anchor=\"start\" x=\"182.5\" y=\"-777.2\" font-family=\"Red Hat Display,sans-serif\" font-weight=\"bold\" font-size=\"11.00\" fill=\"#000000\" fill-opacity=\"0.733333\">MAP_0604 size ∈ int[0 910]</text>\n",
              "<text text-anchor=\"start\" x=\"131.5\" y=\"-766.2\" font-family=\"Red Hat Display,sans-serif\" font-size=\"11.00\" fill=\"#000000\" fill-opacity=\"0.733333\">_PRIVACY_UNIT_ = _PRIVACY_UNIT_ ∈ str UNIQUE</text>\n",
              "<text text-anchor=\"start\" x=\"18\" y=\"-755.2\" font-family=\"Red Hat Display,sans-serif\" font-size=\"11.00\" fill=\"#000000\" fill-opacity=\"0.733333\">_NORM_field__6vl = abs((_NORM_field__6vl * _NORM_field__6vl)) ∈ float[0 12640655.8369]</text>\n",
              "</g>\n",
              "<!-- graph_og3t&#45;&gt;graph_si52 -->\n",
              "<g id=\"edge7\" class=\"edge\">\n",
              "<title>graph_og3t&#45;&gt;graph_si52</title>\n",
              "<path fill=\"none\" stroke=\"#2b303a\" d=\"M266.84,-827.71C266.91,-821.83 266.98,-815.57 267.05,-809.42\"/>\n",
              "<polygon fill=\"#2b303a\" stroke=\"#2b303a\" points=\"270.55,-809.3 267.16,-799.26 263.55,-809.22 270.55,-809.3\"/>\n",
              "</g>\n",
              "<!-- graph_3c8k -->\n",
              "<g id=\"node12\" class=\"node\">\n",
              "<title>graph_3c8k</title>\n",
              "<path fill=\"#00363a\" stroke=\"#000000\" stroke-opacity=\"0.333333\" d=\"M471.5,-709C471.5,-709 161.5,-709 161.5,-709 155.5,-709 149.5,-703 149.5,-697 149.5,-697 149.5,-649 149.5,-649 149.5,-643 155.5,-637 161.5,-637 161.5,-637 471.5,-637 471.5,-637 477.5,-637 483.5,-643 483.5,-649 483.5,-649 483.5,-697 483.5,-697 483.5,-703 477.5,-709 471.5,-709\"/>\n",
              "<text text-anchor=\"start\" x=\"220\" y=\"-687.2\" font-family=\"Red Hat Display,sans-serif\" font-weight=\"bold\" font-size=\"11.00\" fill=\"#ffffff\" fill-opacity=\"0.733333\">REDUCE_945R size ∈ int[0 910]</text>\n",
              "<text text-anchor=\"start\" x=\"182.5\" y=\"-676.2\" font-family=\"Red Hat Display,sans-serif\" font-size=\"11.00\" fill=\"#ffffff\" fill-opacity=\"0.733333\">_PRIVACY_UNIT_ = first(field_grep) ∈ str UNIQUE</text>\n",
              "<text text-anchor=\"start\" x=\"163.5\" y=\"-665.2\" font-family=\"Red Hat Display,sans-serif\" font-size=\"11.00\" fill=\"#ffffff\" fill-opacity=\"0.733333\">_NORM_field__6vl = sum(field_3d25) ∈ float[0 3555.37]</text>\n",
              "<text text-anchor=\"start\" x=\"254.5\" y=\"-654.2\" font-family=\"Red Hat Display,sans-serif\" font-size=\"11.00\" fill=\"#ffffff\" fill-opacity=\"0.733333\">GROUP BY (field_grep)</text>\n",
              "</g>\n",
              "<!-- graph_si52&#45;&gt;graph_3c8k -->\n",
              "<g id=\"edge6\" class=\"edge\">\n",
              "<title>graph_si52&#45;&gt;graph_3c8k</title>\n",
              "<path fill=\"none\" stroke=\"#2b303a\" d=\"M283,-737.92C286.28,-731.66 289.81,-724.93 293.3,-718.27\"/>\n",
              "<polygon fill=\"#2b303a\" stroke=\"#2b303a\" points=\"296.47,-719.76 298.01,-709.28 290.27,-716.51 296.47,-719.76\"/>\n",
              "</g>\n",
              "<!-- graph_e847 -->\n",
              "<g id=\"node13\" class=\"node\">\n",
              "<title>graph_e847</title>\n",
              "<path fill=\"#428e92\" stroke=\"#000000\" stroke-opacity=\"0.333333\" d=\"M479,-608C479,-608 236,-608 236,-608 230,-608 224,-602 224,-596 224,-596 224,-559 224,-559 224,-553 230,-547 236,-547 236,-547 479,-547 479,-547 485,-547 491,-553 491,-559 491,-559 491,-596 491,-596 491,-602 485,-608 479,-608\"/>\n",
              "<text text-anchor=\"start\" x=\"272\" y=\"-586.2\" font-family=\"Red Hat Display,sans-serif\" font-weight=\"bold\" font-size=\"11.00\" fill=\"#000000\" fill-opacity=\"0.733333\">MAP_S093 size ∈ int[0 910]</text>\n",
              "<text text-anchor=\"start\" x=\"238\" y=\"-575.2\" font-family=\"Red Hat Display,sans-serif\" font-size=\"11.00\" fill=\"#000000\" fill-opacity=\"0.733333\">field_3d25 = field__6vl ∈ float[2.514 3.907]</text>\n",
              "<text text-anchor=\"start\" x=\"262.5\" y=\"-564.2\" font-family=\"Red Hat Display,sans-serif\" font-size=\"11.00\" fill=\"#000000\" fill-opacity=\"0.733333\">field_grep = _PRIVACY_UNIT_ ∈ str</text>\n",
              "</g>\n",
              "<!-- graph_3c8k&#45;&gt;graph_e847 -->\n",
              "<g id=\"edge5\" class=\"edge\">\n",
              "<title>graph_3c8k&#45;&gt;graph_e847</title>\n",
              "<path fill=\"none\" stroke=\"#2b303a\" d=\"M331.88,-636.92C334.66,-630.58 337.57,-623.94 340.4,-617.5\"/>\n",
              "<polygon fill=\"#2b303a\" stroke=\"#2b303a\" points=\"343.64,-618.83 344.45,-608.27 337.23,-616.02 343.64,-618.83\"/>\n",
              "</g>\n",
              "<!-- graph_e847&#45;&gt;graph_1jvj -->\n",
              "<g id=\"edge4\" class=\"edge\">\n",
              "<title>graph_e847&#45;&gt;graph_1jvj</title>\n",
              "<path fill=\"none\" stroke=\"#2b303a\" d=\"M382.18,-546.92C387.63,-540.38 393.52,-533.32 399.32,-526.36\"/>\n",
              "<polygon fill=\"#2b303a\" stroke=\"#2b303a\" points=\"402.35,-528.2 406.07,-518.28 396.97,-523.72 402.35,-528.2\"/>\n",
              "</g>\n",
              "<!-- graph_6rge -->\n",
              "<g id=\"node15\" class=\"node\">\n",
              "<title>graph_6rge</title>\n",
              "<path fill=\"#428e92\" stroke=\"#000000\" stroke-opacity=\"0.333333\" d=\"M609,-417C609,-417 262,-417 262,-417 256,-417 250,-411 250,-405 250,-405 250,-346 250,-346 250,-340 256,-334 262,-334 262,-334 609,-334 609,-334 615,-334 621,-340 621,-346 621,-346 621,-405 621,-405 621,-411 615,-417 609,-417\"/>\n",
              "<text text-anchor=\"start\" x=\"350.5\" y=\"-395.2\" font-family=\"Red Hat Display,sans-serif\" font-weight=\"bold\" font-size=\"11.00\" fill=\"#000000\" fill-opacity=\"0.733333\">MAP__DAY size ∈ int[0 910]</text>\n",
              "<text text-anchor=\"start\" x=\"323\" y=\"-384.2\" font-family=\"Red Hat Display,sans-serif\" font-size=\"11.00\" fill=\"#000000\" fill-opacity=\"0.733333\">_PRIVACY_UNIT_ = _PRIVACY_UNIT_ ∈ str</text>\n",
              "<text text-anchor=\"start\" x=\"264\" y=\"-373.2\" font-family=\"Red Hat Display,sans-serif\" font-size=\"11.00\" fill=\"#000000\" fill-opacity=\"0.733333\">_PRIVACY_UNIT_WEIGHT_ = _PRIVACY_UNIT_WEIGHT_ ∈ int{1}</text>\n",
              "<text text-anchor=\"start\" x=\"317.5\" y=\"-362.2\" font-family=\"Red Hat Display,sans-serif\" font-size=\"11.00\" fill=\"#000000\" fill-opacity=\"0.733333\">field__6vl = fuel_price ∈ float[2.514 3.907]</text>\n",
              "<text text-anchor=\"start\" x=\"286\" y=\"-351.2\" font-family=\"Red Hat Display,sans-serif\" font-size=\"11.00\" fill=\"#000000\" fill-opacity=\"0.733333\">WHERE ((fuel_price &gt; 2.514) and (fuel_price &lt; 3.907))</text>\n",
              "</g>\n",
              "<!-- graph_1jvj&#45;&gt;graph_6rge -->\n",
              "<g id=\"edge3\" class=\"edge\">\n",
              "<title>graph_1jvj&#45;&gt;graph_6rge</title>\n",
              "<path fill=\"none\" stroke=\"#2b303a\" d=\"M435.5,-445.91C435.5,-439.99 435.5,-433.73 435.5,-427.5\"/>\n",
              "<polygon fill=\"#2b303a\" stroke=\"#2b303a\" points=\"439,-427.09 435.5,-417.09 432,-427.09 439,-427.09\"/>\n",
              "</g>\n",
              "<!-- graph_3hh7 -->\n",
              "<g id=\"node16\" class=\"node\">\n",
              "<title>graph_3hh7</title>\n",
              "<path fill=\"#428e92\" stroke=\"#000000\" stroke-opacity=\"0.333333\" d=\"M624,-305C624,-305 247,-305 247,-305 241,-305 235,-299 235,-293 235,-293 235,-168 235,-168 235,-162 241,-156 247,-156 247,-156 624,-156 624,-156 630,-156 636,-162 636,-168 636,-168 636,-293 636,-293 636,-299 630,-305 624,-305\"/>\n",
              "<text text-anchor=\"start\" x=\"350\" y=\"-283.2\" font-family=\"Red Hat Display,sans-serif\" font-weight=\"bold\" font-size=\"11.00\" fill=\"#000000\" fill-opacity=\"0.733333\">MAP_TR99 size ∈ int[0 910]</text>\n",
              "<text text-anchor=\"start\" x=\"306.5\" y=\"-272.2\" font-family=\"Red Hat Display,sans-serif\" font-size=\"11.00\" fill=\"#000000\" fill-opacity=\"0.733333\">_PRIVACY_UNIT_ = md5(cast_as_text(id)) ∈ str</text>\n",
              "<text text-anchor=\"start\" x=\"329\" y=\"-261.2\" font-family=\"Red Hat Display,sans-serif\" font-size=\"11.00\" fill=\"#000000\" fill-opacity=\"0.733333\">_PRIVACY_UNIT_WEIGHT_ = 1 ∈ int{1}</text>\n",
              "<text text-anchor=\"start\" x=\"401\" y=\"-250.2\" font-family=\"Red Hat Display,sans-serif\" font-size=\"11.00\" fill=\"#000000\" fill-opacity=\"0.733333\">id = id ∈ str</text>\n",
              "<text text-anchor=\"start\" x=\"343.5\" y=\"-239.2\" font-family=\"Red Hat Display,sans-serif\" font-size=\"11.00\" fill=\"#000000\" fill-opacity=\"0.733333\">store = store ∈ str{1, 2, 3, 4, 5}</text>\n",
              "<text text-anchor=\"start\" x=\"249\" y=\"-228.2\" font-family=\"Red Hat Display,sans-serif\" font-size=\"11.00\" fill=\"#000000\" fill-opacity=\"0.733333\">date = date ∈ datetime[2010&#45;02&#45;05 00:00:00 2013&#45;07&#45;26 00:00:00]</text>\n",
              "<text text-anchor=\"start\" x=\"300\" y=\"-217.2\" font-family=\"Red Hat Display,sans-serif\" font-size=\"11.00\" fill=\"#000000\" fill-opacity=\"0.733333\">temperature = temperature ∈ float[28.84 93.34]</text>\n",
              "<text text-anchor=\"start\" x=\"316.5\" y=\"-206.2\" font-family=\"Red Hat Display,sans-serif\" font-size=\"11.00\" fill=\"#000000\" fill-opacity=\"0.733333\">fuel_price = fuel_price ∈ float[2.514 3.907]</text>\n",
              "<text text-anchor=\"start\" x=\"326\" y=\"-195.2\" font-family=\"Red Hat Display,sans-serif\" font-size=\"11.00\" fill=\"#000000\" fill-opacity=\"0.733333\">cpi = cpi ∈ float[126.064 228.7298638]</text>\n",
              "<text text-anchor=\"start\" x=\"286.5\" y=\"-184.2\" font-family=\"Red Hat Display,sans-serif\" font-size=\"11.00\" fill=\"#000000\" fill-opacity=\"0.733333\">unemployment = unemployment ∈ float[3.879 8.623]</text>\n",
              "<text text-anchor=\"start\" x=\"358\" y=\"-173.2\" font-family=\"Red Hat Display,sans-serif\" font-size=\"11.00\" fill=\"#000000\" fill-opacity=\"0.733333\">isholiday = isholiday ∈ bool</text>\n",
              "</g>\n",
              "<!-- graph_6rge&#45;&gt;graph_3hh7 -->\n",
              "<g id=\"edge2\" class=\"edge\">\n",
              "<title>graph_6rge&#45;&gt;graph_3hh7</title>\n",
              "<path fill=\"none\" stroke=\"#2b303a\" d=\"M435.5,-333.9C435.5,-328 435.5,-321.74 435.5,-315.35\"/>\n",
              "<polygon fill=\"#2b303a\" stroke=\"#2b303a\" points=\"439,-315.23 435.5,-305.23 432,-315.23 439,-315.23\"/>\n",
              "</g>\n",
              "<!-- graph_pv7m -->\n",
              "<g id=\"node17\" class=\"node\">\n",
              "<title>graph_pv7m</title>\n",
              "<path fill=\"#ff1744\" stroke=\"#000000\" stroke-opacity=\"0.333333\" d=\"M624,-127C624,-127 247,-127 247,-127 241,-127 235,-121 235,-115 235,-115 235,-12 235,-12 235,-6 241,0 247,0 247,0 624,0 624,0 630,0 636,-6 636,-12 636,-12 636,-115 636,-115 636,-121 630,-127 624,-127\"/>\n",
              "<text text-anchor=\"start\" x=\"330.5\" y=\"-105.2\" font-family=\"Red Hat Display,sans-serif\" font-weight=\"bold\" font-size=\"11.00\" fill=\"#ffffff\" fill-opacity=\"0.733333\">RETAIL_FEATURES size ∈ int{910}</text>\n",
              "<text text-anchor=\"start\" x=\"401\" y=\"-94.2\" font-family=\"Red Hat Display,sans-serif\" font-size=\"11.00\" fill=\"#ffffff\" fill-opacity=\"0.733333\">id = id ∈ str</text>\n",
              "<text text-anchor=\"start\" x=\"343.5\" y=\"-83.2\" font-family=\"Red Hat Display,sans-serif\" font-size=\"11.00\" fill=\"#ffffff\" fill-opacity=\"0.733333\">store = store ∈ str{1, 2, 3, 4, 5}</text>\n",
              "<text text-anchor=\"start\" x=\"249\" y=\"-72.2\" font-family=\"Red Hat Display,sans-serif\" font-size=\"11.00\" fill=\"#ffffff\" fill-opacity=\"0.733333\">date = date ∈ datetime[2010&#45;02&#45;05 00:00:00 2013&#45;07&#45;26 00:00:00]</text>\n",
              "<text text-anchor=\"start\" x=\"300\" y=\"-61.2\" font-family=\"Red Hat Display,sans-serif\" font-size=\"11.00\" fill=\"#ffffff\" fill-opacity=\"0.733333\">temperature = temperature ∈ float[28.84 93.34]</text>\n",
              "<text text-anchor=\"start\" x=\"316.5\" y=\"-50.2\" font-family=\"Red Hat Display,sans-serif\" font-size=\"11.00\" fill=\"#ffffff\" fill-opacity=\"0.733333\">fuel_price = fuel_price ∈ float[2.514 3.907]</text>\n",
              "<text text-anchor=\"start\" x=\"326\" y=\"-39.2\" font-family=\"Red Hat Display,sans-serif\" font-size=\"11.00\" fill=\"#ffffff\" fill-opacity=\"0.733333\">cpi = cpi ∈ float[126.064 228.7298638]</text>\n",
              "<text text-anchor=\"start\" x=\"286.5\" y=\"-28.2\" font-family=\"Red Hat Display,sans-serif\" font-size=\"11.00\" fill=\"#ffffff\" fill-opacity=\"0.733333\">unemployment = unemployment ∈ float[3.879 8.623]</text>\n",
              "<text text-anchor=\"start\" x=\"358\" y=\"-17.2\" font-family=\"Red Hat Display,sans-serif\" font-size=\"11.00\" fill=\"#ffffff\" fill-opacity=\"0.733333\">isholiday = isholiday ∈ bool</text>\n",
              "</g>\n",
              "<!-- graph_3hh7&#45;&gt;graph_pv7m -->\n",
              "<g id=\"edge1\" class=\"edge\">\n",
              "<title>graph_3hh7&#45;&gt;graph_pv7m</title>\n",
              "<path fill=\"none\" stroke=\"#2b303a\" d=\"M435.5,-155.69C435.5,-149.59 435.5,-143.42 435.5,-137.33\"/>\n",
              "<polygon fill=\"#2b303a\" stroke=\"#2b303a\" points=\"439,-137.16 435.5,-127.16 432,-137.16 439,-137.16\"/>\n",
              "</g>\n",
              "</g>\n",
              "</svg>\n"
            ],
            "text/plain": [
              "<graphviz.sources.Source at 0x7fb6f709c250>"
            ]
          },
          "metadata": {},
          "output_type": "display_data"
        }
      ],
      "source": [
        "display(graphviz.Source(dp_relation.dot()))"
      ]
    },
    {
      "cell_type": "markdown",
      "id": "e254bca1",
      "metadata": {
        "id": "e254bca1"
      },
      "source": [
        "The `Relation` can be translated into an SQL query:"
      ]
    },
    {
      "cell_type": "code",
      "execution_count": 16,
      "id": "e17064c4",
      "metadata": {
        "colab": {
          "base_uri": "https://localhost:8080/"
        },
        "id": "e17064c4",
        "outputId": "6bac341d-6288-4f57-82bd-b20fa482b223"
      },
      "outputs": [
        {
          "name": "stdout",
          "output_type": "stream",
          "text": [
            "\u001b[34mWITH\u001b[0m\n",
            "  map_tr99 (_PRIVACY_UNIT_, _PRIVACY_UNIT_WEIGHT_, id, store, date, temperature, fuel_price, cpi, unemployment, isholiday) \u001b[35mAS\u001b[0m (\u001b[35mSELECT\u001b[0m MD5(C\u001b[35mAS\u001b[0mT(id \u001b[35mAS\u001b[0m TEXT)) \u001b[35mAS\u001b[0m _PRIVACY_UNIT_, 1 \u001b[35mAS\u001b[0m _PRIVACY_UNIT_WEIGHT_, id \u001b[35mAS\u001b[0m id, store \u001b[35mAS\u001b[0m store, date \u001b[35mAS\u001b[0m date, temperature \u001b[35mAS\u001b[0m temperature, fuel_price \u001b[35mAS\u001b[0m fuel_price, cpi \u001b[35mAS\u001b[0m cpi, unemployment \u001b[35mAS\u001b[0m unemployment, isholiday \u001b[35mAS\u001b[0m isholiday FROM retail.features),\n",
            "  map__day (_PRIVACY_UNIT_, _PRIVACY_UNIT_WEIGHT_, field__6vl) \u001b[35mAS\u001b[0m (\u001b[35mSELECT\u001b[0m _PRIVACY_UNIT_ \u001b[35mAS\u001b[0m _PRIVACY_UNIT_, _PRIVACY_UNIT_WEIGHT_ \u001b[35mAS\u001b[0m _PRIVACY_UNIT_WEIGHT_, fuel_price \u001b[35mAS\u001b[0m field__6vl FROM map_tr99 \u001b[35mWHERE\u001b[0m ((fuel_price) > (2.514)) AND ((fuel_price) < (3.907))),\n",
            "  map_8359 (_PRIVACY_UNIT_, _PRIVACY_UNIT_WEIGHT_, field__6vl) \u001b[35mAS\u001b[0m (\u001b[35mSELECT\u001b[0m COALESCE(C\u001b[35mAS\u001b[0mT(_PRIVACY_UNIT_ \u001b[35mAS\u001b[0m TEXT),\n",
            "  '_PRIVACY_UNIT_DEFAULT_') \u001b[35mAS\u001b[0m _PRIVACY_UNIT_, COALESCE(_PRIVACY_UNIT_WEIGHT_, 0) \u001b[35mAS\u001b[0m _PRIVACY_UNIT_WEIGHT_, field__6vl \u001b[35mAS\u001b[0m field__6vl FROM map__day),\n",
            "  map_s093 (field_3d25, field_grep) \u001b[35mAS\u001b[0m (\u001b[35mSELECT\u001b[0m field__6vl \u001b[35mAS\u001b[0m field_3d25, _PRIVACY_UNIT_ \u001b[35mAS\u001b[0m field_grep FROM map_8359),\n",
            "  reduce_945r (_PRIVACY_UNIT_, _NORM_field__6vl) \u001b[35mAS\u001b[0m (\u001b[35mSELECT\u001b[0m field_grep \u001b[35mAS\u001b[0m _PRIVACY_UNIT_, SUM(field_3d25) \u001b[35mAS\u001b[0m _NORM_field__6vl FROM map_s093 \u001b[35mGROUP BY\u001b[0m field_grep),\n",
            "  map_0604 (_PRIVACY_UNIT_, _NORM_field__6vl) \u001b[35mAS\u001b[0m (\u001b[35mSELECT\u001b[0m _PRIVACY_UNIT_ \u001b[35mAS\u001b[0m _PRIVACY_UNIT_, ABS((_NORM_field__6vl) * (_NORM_field__6vl)) \u001b[35mAS\u001b[0m _NORM_field__6vl FROM reduce_945r),\n",
            "  map_mlf9 (field_czvy, field_grep) \u001b[35mAS\u001b[0m (\u001b[35mSELECT\u001b[0m _NORM_field__6vl \u001b[35mAS\u001b[0m field_czvy, _PRIVACY_UNIT_ \u001b[35mAS\u001b[0m field_grep FROM map_0604),\n",
            "  reduce_eu18 (_PRIVACY_UNIT_, field__6vl) \u001b[35mAS\u001b[0m (\u001b[35mSELECT\u001b[0m field_grep \u001b[35mAS\u001b[0m _PRIVACY_UNIT_, SUM(field_czvy) \u001b[35mAS\u001b[0m field__6vl FROM map_mlf9 \u001b[35mGROUP BY\u001b[0m field_grep),\n",
            "  map_27uj (_PRIVACY_UNIT_, field__6vl) \u001b[35mAS\u001b[0m (\u001b[35mSELECT\u001b[0m _PRIVACY_UNIT_ \u001b[35mAS\u001b[0m _PRIVACY_UNIT_, (1) / (GREATEST(1, (SQRT(field__6vl)) / (3.907))) \u001b[35mAS\u001b[0m field__6vl FROM reduce_eu18),\n",
            "  join_0577 (_PRIVACY_UNIT_, _PRIVACY_UNIT_WEIGHT_, field__6vl, _SCALE_FACTOR__PRIVACY_UNIT_, _SCALE_FACTOR_field__6vl) \u001b[35mAS\u001b[0m (\u001b[35mSELECT\u001b[0m * FROM map_8359 \u001b[35mAS\u001b[0m _LEFT_ JOIN map_27uj \u001b[35mAS\u001b[0m _RIGHT_ ON (_LEFT_._PRIVACY_UNIT_) = (_RIGHT_._PRIVACY_UNIT_)),\n",
            "  map_702e (_PRIVACY_UNIT_, _PRIVACY_UNIT_WEIGHT_, field__6vl, _SCALE_FACTOR__PRIVACY_UNIT_, _SCALE_FACTOR_field__6vl, _CLIPPED_field__6vl) \u001b[35mAS\u001b[0m (\u001b[35mSELECT\u001b[0m _PRIVACY_UNIT_ \u001b[35mAS\u001b[0m _PRIVACY_UNIT_, _PRIVACY_UNIT_WEIGHT_ \u001b[35mAS\u001b[0m _PRIVACY_UNIT_WEIGHT_, field__6vl \u001b[35mAS\u001b[0m field__6vl, _SCALE_FACTOR__PRIVACY_UNIT_ \u001b[35mAS\u001b[0m _SCALE_FACTOR__PRIVACY_UNIT_, _SCALE_FACTOR_field__6vl \u001b[35mAS\u001b[0m _SCALE_FACTOR_field__6vl, (field__6vl) * (_SCALE_FACTOR_field__6vl) \u001b[35mAS\u001b[0m _CLIPPED_field__6vl FROM join_0577),\n",
            "  map_z0mi (field_q9u_) \u001b[35mAS\u001b[0m (\u001b[35mSELECT\u001b[0m _CLIPPED_field__6vl \u001b[35mAS\u001b[0m field_q9u_ FROM map_702e),\n",
            "  reduce_c_an (_SUM_field__6vl) \u001b[35mAS\u001b[0m (\u001b[35mSELECT\u001b[0m SUM(field_q9u_) \u001b[35mAS\u001b[0m _SUM_field__6vl FROM map_z0mi),\n",
            "  map_myms (_SUM_field__6vl) \u001b[35mAS\u001b[0m (\u001b[35mSELECT\u001b[0m LE\u001b[35mAS\u001b[0mT(3555.37, GREATEST(0, (COALESCE(_SUM_field__6vl, 0)) + ((15.455181404019267) * ((SQRT((-2) * (LN(RANDOM())))) * (COS((6.283185307179586) * (RANDOM()))))))) \u001b[35mAS\u001b[0m _SUM_field__6vl FROM reduce_c_an),\n",
            "  map_spaz (my_sum) \u001b[35mAS\u001b[0m (\u001b[35mSELECT\u001b[0m _SUM_field__6vl \u001b[35mAS\u001b[0m my_sum FROM map_myms),\n",
            "  map_v4l3 (my_sum) \u001b[35mAS\u001b[0m (\u001b[35mSELECT\u001b[0m my_sum \u001b[35mAS\u001b[0m my_sum FROM map_spaz)\n",
            "\u001b[35mSELECT\u001b[0m * FROM map_v4l3\n"
          ]
        }
      ],
      "source": [
        "MAGENTA_COLOR = '\\033[35m'\n",
        "BLUE_COLOR = '\\033[34m'\n",
        "RESET_COLOR = '\\033[0m'\n",
        "\n",
        "def print_query(query: str):\n",
        "    keywords = [\"SELECT\", \"AS\", \"GROUP BY\", \"LIMIT\", \"ORDER BY\", \"WHERE\"]\n",
        "    colored_query = query\n",
        "    colored_query = colored_query.replace(\"WITH\", \"WITH\\n \")\n",
        "    colored_query = colored_query.replace(\" SELECT\", \"\\nSELECT\")\n",
        "    colored_query = colored_query.replace(\"),\", \"),\\n \")\n",
        "    for word in keywords:\n",
        "        colored_query = colored_query.replace(word, MAGENTA_COLOR + word + RESET_COLOR)\n",
        "    colored_query = colored_query.replace(\"WITH\", BLUE_COLOR + \"WITH\" + RESET_COLOR)\n",
        "    print(colored_query)\n",
        "\n",
        "\n",
        "dp_query = dp_relation.to_query()\n",
        "print_query(dp_query)"
      ]
    },
    {
      "cell_type": "markdown",
      "id": "f626ef40",
      "metadata": {
        "id": "f626ef40"
      },
      "source": [
        "Then the query is sent to the databqe:"
      ]
    },
    {
      "cell_type": "code",
      "execution_count": 17,
      "id": "30d8afd9",
      "metadata": {
        "colab": {
          "base_uri": "https://localhost:8080/"
        },
        "id": "30d8afd9",
        "outputId": "b635f93b-89af-4775-a179-b277511264b9"
      },
      "outputs": [
        {
          "name": "stdout",
          "output_type": "stream",
          "text": [
            "Initial query: 2939.4329999999995\n",
            "DP query:      2947.656707890373\n"
          ]
        }
      ],
      "source": [
        "import pandas as pd\n",
        "true_res = pd.read_sql(query, database.engine())\n",
        "dp_res = pd.read_sql(dp_query, database.engine())\n",
        "\n",
        "print(f\"Initial query: {true_res.iloc[0].iloc[0]}\")\n",
        "print(\"DP query:     \", dp_res[\"my_sum\"][0])"
      ]
    },
    {
      "cell_type": "markdown",
      "id": "c4b5c4ac",
      "metadata": {
        "id": "c4b5c4ac"
      },
      "source": [
        "We can sent the DP query multiple times wo see the variantions among the results:"
      ]
    },
    {
      "cell_type": "code",
      "execution_count": 18,
      "id": "a3cc993b",
      "metadata": {
        "id": "a3cc993b"
      },
      "outputs": [],
      "source": [
        "N_RUNS = 300\n",
        "\n",
        "def run(dataset, query, epsilons):\n",
        "    data = {}\n",
        "    privacy_unit = [\n",
        "        (\"stores\", [(\"store\", \"features\", \"store\")], \"id\"),\n",
        "        (\"features\", [], \"id\"),\n",
        "        (\"sales\", [], \"id\")\n",
        "    ]\n",
        "    synthetic_data = None\n",
        "\n",
        "    delta  = 1e-3\n",
        "    relation = dataset.relation(query)\n",
        "\n",
        "    for epsilon in epsilons:\n",
        "        budget = {\"epsilon\": epsilon, \"delta\": delta}\n",
        "        rel_with_pq = relation.rewrite_with_differential_privacy(\n",
        "            dataset=dataset,\n",
        "            privacy_unit=privacy_unit,\n",
        "            epsilon_delta=budget,\n",
        "            synthetic_data=synthetic_data,\n",
        "        )\n",
        "        dp_query = rel_with_pq.relation().to_query()\n",
        "        data[epsilon] = [\n",
        "            pd.read_sql(dp_query, database.engine())[\"my_sum\"][0] for _ in range(N_RUNS)\n",
        "        ]\n",
        "    return data"
      ]
    },
    {
      "cell_type": "code",
      "execution_count": 19,
      "id": "66b29b60",
      "metadata": {
        "id": "66b29b60"
      },
      "outputs": [],
      "source": [
        "true_value = pd.read_sql(query, database.engine())[\"my_sum\"][0]\n",
        "data = run(dataset, query, [0.5, 1., 5.])"
      ]
    },
    {
      "cell_type": "code",
      "execution_count": 20,
      "id": "d3762dcc",
      "metadata": {},
      "outputs": [
        {
          "name": "stdout",
          "output_type": "stream",
          "text": [
            "SELECT SUM(fuel_price) AS my_sum FROM retail.features WHERE fuel_price > 2.514 AND fuel_price < 3.907\n"
          ]
        }
      ],
      "source": [
        "print(query)"
      ]
    },
    {
      "cell_type": "code",
      "execution_count": 21,
      "id": "c698def3",
      "metadata": {
        "id": "c698def3"
      },
      "outputs": [],
      "source": [
        "import matplotlib.pyplot as plt\n",
        "import matplotlib as mpl\n",
        "mpl.rcParams['text.usetex'] = False\n",
        "\n",
        "def plot_hist(true_value, data, query):\n",
        "    plt.axvline(true_value, color='red', label=\"True\")\n",
        "    for e, d in data.items():\n",
        "        plt.hist(d, bins=10, alpha=0.5, label = f\"eps = {e}\")\n",
        "    plt.legend()\n",
        "    plt.title(query.encode('unicode_escape').decode().replace(\"<\", \"$<$\").replace(\">\", \"$>$\"))"
      ]
    },
    {
      "cell_type": "code",
      "execution_count": 22,
      "id": "a875ac4e",
      "metadata": {
        "colab": {
          "base_uri": "https://localhost:8080/",
          "height": 452
        },
        "id": "a875ac4e",
        "outputId": "e1c9d8b1-98a1-4bf9-a2e1-2f7517b6a246"
      },
      "outputs": [
        {
          "data": {
            "image/png": "[encoded data removed]",
            "text/plain": [
              "<Figure size 640x480 with 1 Axes>"
            ]
          },
          "metadata": {},
          "output_type": "display_data"
        }
      ],
      "source": [
        "plot_hist(true_value, data, query)"
      ]
    },
    {
      "cell_type": "code",
      "execution_count": null,
      "id": "cb9bd5bb",
      "metadata": {},
      "outputs": [],
      "source": []
    }
  ],
  "metadata": {
    "colab": {
      "provenance": []
    },
    "kernelspec": {
      "display_name": "Python 3 (ipykernel)",
      "language": "python",
      "name": "python3"
    },
    "language_info": {
      "codemirror_mode": {
        "name": "ipython",
        "version": 3
      },
      "file_extension": ".py",
      "mimetype": "text/x-python",
      "name": "python",
      "nbconvert_exporter": "python",
      "pygments_lexer": "ipython3",
      "version": "3.8.18"
    }
  },
  "nbformat": 4,
  "nbformat_minor": 5
}
