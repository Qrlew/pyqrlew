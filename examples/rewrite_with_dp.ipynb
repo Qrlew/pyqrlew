{
  "cells": [
    {
      "cell_type": "markdown",
      "id": "683108f1",
      "metadata": {
        "id": "683108f1"
      },
      "source": [
        "# SQL analysis with differential privacy guarantees\n",
        "[![View On GitHub](https://img.shields.io/badge/View_in_Github-grey?logo=github)](https://github.com/Qrlew/docs/blob/main/tutorials/rewrite_with_dp.ipynb)\n",
        "[![Open In Colab](https://colab.research.google.com/assets/colab-badge.svg)](https://colab.research.google.com/github/Qrlew/pyqrlew/blob/main/examples/rewrite_with_dp.ipynb)"
      ]
    },
    {
      "cell_type": "markdown",
      "id": "c1cdff07",
      "metadata": {
        "id": "c1cdff07"
      },
      "source": [
        "The purpose of this notebook is to illustrate the process of *transforming a standard SQL query into a differentially private SQL query*.\n",
        "\n",
        "Our goal here is to demonstrate how this complex transformation of an SQL query into a differentially private version can be achieved with ease using Qrlew."
      ]
    },
    {
      "cell_type": "markdown",
      "id": "ec43846d",
      "metadata": {
        "id": "ec43846d"
      },
      "source": [
        "The main idea of Qrlew is to parse and rewrite SQL queries into *Relations*: an [Intermediate Representation](https://en.wikipedia.org/wiki/Intermediate_representation) (IR) that is well-suited for various rewriting tasks.\n",
        "\n",
        "*Relations* may be of different kinds:\n",
        "- `Map`s typically represent the transform of an input *Relation* row by row, therefore, naturaly preserving the *privacy unit*,\n",
        "- `Reduce`s represent aggregations that can be turned into DP equivalent\n",
        "- `Join`s combine two input *Relations*\n",
        "- `Table`s are simply sources.\n",
        "\n",
        "This representation simplifies the process of rewriting queries and reduces dependencies on the diverse range of syntactic constructs present in SQL."
      ]
    },
    {
      "cell_type": "markdown",
      "id": "792fe5b0",
      "metadata": {
        "id": "792fe5b0"
      },
      "source": [
        "## Install the database and packages\n"
      ]
    },
    {
      "cell_type": "code",
      "execution_count": null,
      "id": "08f55d69",
      "metadata": {
        "colab": {
          "base_uri": "https://localhost:8080/"
        },
        "id": "08f55d69",
        "outputId": "03e18dff-c946-4621-e3ea-ae9d78aef8eb"
      },
      "outputs": [],
      "source": [
        "%%capture\n",
        "# Load the database\n",
        "# Inspired by https://colab.research.google.com/github/tensorflow/io/blob/master/docs/tutorials/postgresql.ipynb#scrollTo=YUj0878jPyz7\n",
        "!sudo apt-get -y -qq update\n",
        "!sudo apt-get -y -qq install postgresql-14 graphviz\n",
        "# Start postgresql server\n",
        "!sudo sed -i \"s/port = 5432/port = 5433/g\" /etc/postgresql/14/main/postgresql.conf\n",
        "!sudo service postgresql start\n",
        "# Set password\n",
        "!sudo -u postgres psql -U postgres -c \"ALTER USER postgres PASSWORD 'pyqrlew-db'\"\n",
        "!pip install -U pyqrlew numpy pandas matplotlib graphviz dp_accounting"
      ]
    },
    {
      "cell_type": "code",
      "execution_count": 1,
      "id": "6770c3e8",
      "metadata": {},
      "outputs": [
        {
          "name": "stderr",
          "output_type": "stream",
          "text": [
            "Error response from daemon: network with name qrlew-net already exists\n"
          ]
        }
      ],
      "source": [
        "from pyqrlew.io import PostgreSQL\n",
        "from pyqrlew import Dataset\n",
        "# Read data\n",
        "database = PostgreSQL()\n",
        "dataset = database.retail()"
      ]
    },
    {
      "cell_type": "code",
      "execution_count": 3,
      "id": "21d76a1b",
      "metadata": {},
      "outputs": [
        {
          "data": {
            "text/plain": [
              "[(['retail', 'retail', 'features'], <Relation at 0x12d3865f0>),\n",
              " (['retail', 'retail', 'sales'], <Relation at 0x12d386570>),\n",
              " (['retail', 'retail', 'stores'], <Relation at 0x12d386270>)]"
            ]
          },
          "execution_count": 3,
          "metadata": {},
          "output_type": "execute_result"
        }
      ],
      "source": [
        "dataset.relations()"
      ]
    },
    {
      "cell_type": "code",
      "execution_count": 2,
      "id": "1ddfd0ec",
      "metadata": {},
      "outputs": [
        {
          "name": "stdout",
          "output_type": "stream",
          "text": [
            "DEBUG range \n"
          ]
        },
        {
          "ename": "RuntimeError",
          "evalue": "Missing retail key",
          "output_type": "error",
          "traceback": [
            "\u001b[0;31m---------------------------------------------------------------------------\u001b[0m",
            "\u001b[0;31mRuntimeError\u001b[0m                              Traceback (most recent call last)",
            "Cell \u001b[0;32mIn[2], line 1\u001b[0m\n\u001b[0;32m----> 1\u001b[0m \u001b[43mdataset\u001b[49m\u001b[38;5;241;43m.\u001b[39;49m\u001b[43mrange\u001b[49m\u001b[43m(\u001b[49m\u001b[38;5;124;43m'\u001b[39;49m\u001b[38;5;124;43mretail\u001b[39;49m\u001b[38;5;124;43m'\u001b[39;49m\u001b[43m,\u001b[49m\u001b[43m \u001b[49m\u001b[38;5;124;43m'\u001b[39;49m\u001b[38;5;124;43mfeatures\u001b[39;49m\u001b[38;5;124;43m'\u001b[39;49m\u001b[43m,\u001b[49m\u001b[43m \u001b[49m\u001b[38;5;124;43m'\u001b[39;49m\u001b[38;5;124;43munemployment\u001b[39;49m\u001b[38;5;124;43m'\u001b[39;49m\u001b[43m,\u001b[49m\u001b[43m \u001b[49m\u001b[38;5;241;43m0\u001b[39;49m\u001b[43m,\u001b[49m\u001b[43m \u001b[49m\u001b[38;5;241;43m20\u001b[39;49m\u001b[43m)\u001b[49m\n",
            "\u001b[0;31mRuntimeError\u001b[0m: Missing retail key"
          ]
        }
      ],
      "source": [
        "dataset.range('retail', 'features', 'unemployment', 0, 20)"
      ]
    },
    {
      "cell_type": "markdown",
      "id": "98161de3",
      "metadata": {
        "id": "98161de3"
      },
      "source": [
        "For our analysis, we will use the Qrlew built-in sample datasets `retail` and an Postgres connection.\n",
        "\n",
        "Note that you can also load one or several csv files or use another SQL engine."
      ]
    },
    {
      "cell_type": "markdown",
      "id": "e542593d",
      "metadata": {
        "id": "e542593d"
      },
      "source": [
        "## The `Relation`: an intermediate represention for SQL rewritting"
      ]
    },
    {
      "cell_type": "markdown",
      "id": "ada2d2e9",
      "metadata": {
        "id": "ada2d2e9"
      },
      "source": [
        "The `retail` dataset contains 3 tables, each can be converted into a `Relation::Table`:"
      ]
    },
    {
      "cell_type": "code",
      "execution_count": 16,
      "id": "9936b983",
      "metadata": {
        "colab": {
          "base_uri": "https://localhost:8080/",
          "height": 451
        },
        "id": "9936b983",
        "outputId": "ed7ad894-5d18-4272-9562-dc7adfbde1e1"
      },
      "outputs": [
        {
          "data": {
            "image/svg+xml": [
              "<?xml version=\"1.0\" encoding=\"UTF-8\" standalone=\"no\"?>\n",
              "<!DOCTYPE svg PUBLIC \"-//W3C//DTD SVG 1.1//EN\"\n",
              " \"http://www.w3.org/Graphics/SVG/1.1/DTD/svg11.dtd\">\n",
              "<!-- Generated by graphviz version 9.0.0 (20230911.1827)\n",
              " -->\n",
              "<!-- Title: graph_pv7m Pages: 1 -->\n",
              "<svg width=\"373pt\" height=\"136pt\"\n",
              " viewBox=\"0.00 0.00 372.80 135.80\" xmlns=\"http://www.w3.org/2000/svg\" xmlns:xlink=\"http://www.w3.org/1999/xlink\">\n",
              "<g id=\"graph0\" class=\"graph\" transform=\"scale(1 1) rotate(0) translate(4 131.8)\">\n",
              "<title>graph_pv7m</title>\n",
              "<polygon fill=\"none\" stroke=\"none\" points=\"-4,4 -4,-131.8 368.8,-131.8 368.8,4 -4,4\"/>\n",
              "<!-- graph_pv7m -->\n",
              "<g id=\"node1\" class=\"node\">\n",
              "<title>graph_pv7m</title>\n",
              "<path fill=\"#ff1744\" stroke=\"#000000\" stroke-opacity=\"0.333333\" d=\"M352.8,-127.8C352.8,-127.8 12,-127.8 12,-127.8 6,-127.8 0,-121.8 0,-115.8 0,-115.8 0,-12 0,-12 0,-6 6,0 12,0 12,0 352.8,0 352.8,0 358.8,0 364.8,-6 364.8,-12 364.8,-12 364.8,-115.8 364.8,-115.8 364.8,-121.8 358.8,-127.8 352.8,-127.8\"/>\n",
              "<text text-anchor=\"start\" x=\"102.52\" y=\"-103.95\" font-family=\"Red Hat Display,sans-serif\" font-weight=\"bold\" font-size=\"11.00\" fill=\"#ffffff\" fill-opacity=\"0.733333\">RETAIL_FEATURES size ∈ int{910}</text>\n",
              "<text text-anchor=\"start\" x=\"157.27\" y=\"-92.95\" font-family=\"Red Hat Display,sans-serif\" font-size=\"11.00\" fill=\"#ffffff\" fill-opacity=\"0.733333\">id = id ∈ str</text>\n",
              "<text text-anchor=\"start\" x=\"113.77\" y=\"-81.95\" font-family=\"Red Hat Display,sans-serif\" font-size=\"11.00\" fill=\"#ffffff\" fill-opacity=\"0.733333\">store = store ∈ str{1, 2, 3, 4, 5}</text>\n",
              "<text text-anchor=\"start\" x=\"14.4\" y=\"-70.95\" font-family=\"Red Hat Display,sans-serif\" font-size=\"11.00\" fill=\"#ffffff\" fill-opacity=\"0.733333\">date = date ∈ datetime[2010&#45;02&#45;05 00:00:00 2013&#45;07&#45;26 00:00:00]</text>\n",
              "<text text-anchor=\"start\" x=\"70.27\" y=\"-59.95\" font-family=\"Red Hat Display,sans-serif\" font-size=\"11.00\" fill=\"#ffffff\" fill-opacity=\"0.733333\">temperature = temperature ∈ float[28.84 93.34]</text>\n",
              "<text text-anchor=\"start\" x=\"82.65\" y=\"-48.95\" font-family=\"Red Hat Display,sans-serif\" font-size=\"11.00\" fill=\"#ffffff\" fill-opacity=\"0.733333\">fuel_price = fuel_price ∈ float[2.514 3.907]</text>\n",
              "<text text-anchor=\"start\" x=\"90.15\" y=\"-37.95\" font-family=\"Red Hat Display,sans-serif\" font-size=\"11.00\" fill=\"#ffffff\" fill-opacity=\"0.733333\">cpi = cpi ∈ float[126.064 228.7298638]</text>\n",
              "<text text-anchor=\"start\" x=\"58.65\" y=\"-26.95\" font-family=\"Red Hat Display,sans-serif\" font-size=\"11.00\" fill=\"#ffffff\" fill-opacity=\"0.733333\">unemployment = unemployment ∈ float[3.879 8.623]</text>\n",
              "<text text-anchor=\"start\" x=\"120.15\" y=\"-15.95\" font-family=\"Red Hat Display,sans-serif\" font-size=\"11.00\" fill=\"#ffffff\" fill-opacity=\"0.733333\">isholiday = isholiday ∈ bool</text>\n",
              "</g>\n",
              "</g>\n",
              "</svg>\n"
            ],
            "text/plain": [
              "<graphviz.sources.Source at 0x12440edc0>"
            ]
          },
          "metadata": {},
          "output_type": "display_data"
        },
        {
          "data": {
            "image/svg+xml": [
              "<?xml version=\"1.0\" encoding=\"UTF-8\" standalone=\"no\"?>\n",
              "<!DOCTYPE svg PUBLIC \"-//W3C//DTD SVG 1.1//EN\"\n",
              " \"http://www.w3.org/Graphics/SVG/1.1/DTD/svg11.dtd\">\n",
              "<!-- Generated by graphviz version 9.0.0 (20230911.1827)\n",
              " -->\n",
              "<!-- Title: graph_6cje Pages: 1 -->\n",
              "<svg width=\"371pt\" height=\"103pt\"\n",
              " viewBox=\"0.00 0.00 371.30 102.80\" xmlns=\"http://www.w3.org/2000/svg\" xmlns:xlink=\"http://www.w3.org/1999/xlink\">\n",
              "<g id=\"graph0\" class=\"graph\" transform=\"scale(1 1) rotate(0) translate(4 98.8)\">\n",
              "<title>graph_6cje</title>\n",
              "<polygon fill=\"none\" stroke=\"none\" points=\"-4,4 -4,-98.8 367.3,-98.8 367.3,4 -4,4\"/>\n",
              "<!-- graph_6cje -->\n",
              "<g id=\"node1\" class=\"node\">\n",
              "<title>graph_6cje</title>\n",
              "<path fill=\"#ff1744\" stroke=\"#000000\" stroke-opacity=\"0.333333\" d=\"M351.3,-94.8C351.3,-94.8 12,-94.8 12,-94.8 6,-94.8 0,-88.8 0,-82.8 0,-82.8 0,-12 0,-12 0,-6 6,0 12,0 12,0 351.3,0 351.3,0 357.3,0 363.3,-6 363.3,-12 363.3,-12 363.3,-82.8 363.3,-82.8 363.3,-88.8 357.3,-94.8 351.3,-94.8\"/>\n",
              "<text text-anchor=\"start\" x=\"112.28\" y=\"-70.95\" font-family=\"Red Hat Display,sans-serif\" font-weight=\"bold\" font-size=\"11.00\" fill=\"#ffffff\" fill-opacity=\"0.733333\">RETAIL_SALES size ∈ int{715}</text>\n",
              "<text text-anchor=\"start\" x=\"156.53\" y=\"-59.95\" font-family=\"Red Hat Display,sans-serif\" font-size=\"11.00\" fill=\"#ffffff\" fill-opacity=\"0.733333\">id = id ∈ str</text>\n",
              "<text text-anchor=\"start\" x=\"113.03\" y=\"-48.95\" font-family=\"Red Hat Display,sans-serif\" font-size=\"11.00\" fill=\"#ffffff\" fill-opacity=\"0.733333\">store = store ∈ str{1, 2, 3, 4, 5}</text>\n",
              "<text text-anchor=\"start\" x=\"14.4\" y=\"-37.95\" font-family=\"Red Hat Display,sans-serif\" font-size=\"11.00\" fill=\"#ffffff\" fill-opacity=\"0.733333\">date = date ∈ datetime[2010&#45;02&#45;05 00:00:00 2012&#45;10&#45;26 00:00:00]</text>\n",
              "<text text-anchor=\"start\" x=\"53.03\" y=\"-26.95\" font-family=\"Red Hat Display,sans-serif\" font-size=\"11.00\" fill=\"#ffffff\" fill-opacity=\"0.733333\">weekly_sales = weekly_sales ∈ float[3440.69 91965.85]</text>\n",
              "<text text-anchor=\"start\" x=\"119.4\" y=\"-15.95\" font-family=\"Red Hat Display,sans-serif\" font-size=\"11.00\" fill=\"#ffffff\" fill-opacity=\"0.733333\">isholiday = isholiday ∈ bool</text>\n",
              "</g>\n",
              "</g>\n",
              "</svg>\n"
            ],
            "text/plain": [
              "<graphviz.sources.Source at 0x1243e9e80>"
            ]
          },
          "metadata": {},
          "output_type": "display_data"
        },
        {
          "data": {
            "image/svg+xml": [
              "<?xml version=\"1.0\" encoding=\"UTF-8\" standalone=\"no\"?>\n",
              "<!DOCTYPE svg PUBLIC \"-//W3C//DTD SVG 1.1//EN\"\n",
              " \"http://www.w3.org/Graphics/SVG/1.1/DTD/svg11.dtd\">\n",
              "<!-- Generated by graphviz version 9.0.0 (20230911.1827)\n",
              " -->\n",
              "<!-- Title: graph_rdzg Pages: 1 -->\n",
              "<svg width=\"294pt\" height=\"81pt\"\n",
              " viewBox=\"0.00 0.00 294.05 80.80\" xmlns=\"http://www.w3.org/2000/svg\" xmlns:xlink=\"http://www.w3.org/1999/xlink\">\n",
              "<g id=\"graph0\" class=\"graph\" transform=\"scale(1 1) rotate(0) translate(4 76.8)\">\n",
              "<title>graph_rdzg</title>\n",
              "<polygon fill=\"none\" stroke=\"none\" points=\"-4,4 -4,-76.8 290.05,-76.8 290.05,4 -4,4\"/>\n",
              "<!-- graph_rdzg -->\n",
              "<g id=\"node1\" class=\"node\">\n",
              "<title>graph_rdzg</title>\n",
              "<path fill=\"#ff1744\" stroke=\"#000000\" stroke-opacity=\"0.333333\" d=\"M274.05,-72.8C274.05,-72.8 12,-72.8 12,-72.8 6,-72.8 0,-66.8 0,-60.8 0,-60.8 0,-12 0,-12 0,-6 6,0 12,0 12,0 274.05,0 274.05,0 280.05,0 286.05,-6 286.05,-12 286.05,-12 286.05,-60.8 286.05,-60.8 286.05,-66.8 280.05,-72.8 274.05,-72.8\"/>\n",
              "<text text-anchor=\"start\" x=\"74.78\" y=\"-48.95\" font-family=\"Red Hat Display,sans-serif\" font-weight=\"bold\" font-size=\"11.00\" fill=\"#ffffff\" fill-opacity=\"0.733333\">RETAIL_STORES size ∈ int{5}</text>\n",
              "<text text-anchor=\"start\" x=\"74.4\" y=\"-37.95\" font-family=\"Red Hat Display,sans-serif\" font-size=\"11.00\" fill=\"#ffffff\" fill-opacity=\"0.733333\">store = store ∈ str{1, 2, 3, 4, 5}</text>\n",
              "<text text-anchor=\"start\" x=\"91.65\" y=\"-26.95\" font-family=\"Red Hat Display,sans-serif\" font-size=\"11.00\" fill=\"#ffffff\" fill-opacity=\"0.733333\">type = type ∈ str{A, B}</text>\n",
              "<text text-anchor=\"start\" x=\"14.4\" y=\"-15.95\" font-family=\"Red Hat Display,sans-serif\" font-size=\"11.00\" fill=\"#ffffff\" fill-opacity=\"0.733333\">size = size ∈ int{34875, 37392, 151315, 202307, 205863}</text>\n",
              "</g>\n",
              "</g>\n",
              "</svg>\n"
            ],
            "text/plain": [
              "<graphviz.sources.Source at 0x1240fcf70>"
            ]
          },
          "metadata": {},
          "output_type": "display_data"
        }
      ],
      "source": [
        "import graphviz\n",
        "display(graphviz.Source(dataset.relations()[0][1].dot()))\n",
        "display(graphviz.Source(dataset.relations()[1][1].dot()))\n",
        "display(graphviz.Source(dataset.relations()[2][1].dot()))"
      ]
    },
    {
      "cell_type": "markdown",
      "id": "0561bdfe",
      "metadata": {
        "id": "0561bdfe"
      },
      "source": [
        "Each `Relation::Table` contains the size of the table (which can be approximate with DP) and the columns in the tables with their name and type."
      ]
    },
    {
      "cell_type": "markdown",
      "id": "a9316957",
      "metadata": {
        "id": "a9316957"
      },
      "source": [
        "Before using any differential privacy mechanism, it is essential to determine:\n",
        "- the *privacy unit*, i.e. the *user* identifier,\n",
        "- the *sensitivity of the aggregation functions*, i.e. the maximal contribution a user may have on the result,\n",
        "- the values of the `GROUP BY` columns that can be safely released"
      ]
    },
    {
      "cell_type": "markdown",
      "id": "7de6c738",
      "metadata": {
        "id": "7de6c738"
      },
      "source": [
        "## The privacy unit"
      ]
    },
    {
      "cell_type": "markdown",
      "id": "30077766",
      "metadata": {
        "id": "30077766"
      },
      "source": [
        "In this example, let's consider that we want to protect the `id` column of the tables `features` and `sales`.\n",
        "\n",
        "The tables `store` is linked to `features` via foreign keys.\n",
        "\n",
        "Then each table have a privacy unit (even if it is not directly in the table):\n",
        "- `features`: column `id`\n",
        "- `stores`: the privacy unit is the column `id` of the `feature` table. It is obtained by joining the tables `features` and `stores` with the condition `features.store = stores.store`\n",
        "- `sales`: column `id`\n",
        "\n",
        "We code the privacy unit as:"
      ]
    },
    {
      "cell_type": "code",
      "execution_count": 3,
      "id": "b96421f2",
      "metadata": {
        "id": "b96421f2"
      },
      "outputs": [],
      "source": [
        "privacy_unit = [\n",
        "    (\"features\", [], \"id\"),\n",
        "    (\"stores\", [(\"store\", \"features\", \"store\")], \"id\"),\n",
        "    (\"sales\", [], \"id\")\n",
        "]\n",
        "# Other arguments that will be explained later\n",
        "budget = {\"epsilon\": 1.0, \"delta\": 5e-4}\n",
        "synthetic_data = [\n",
        "    ([\"retail\", \"features\"], [\"retail\", \"features_sd\"]),\n",
        "]"
      ]
    },
    {
      "cell_type": "markdown",
      "id": "dddeb53d",
      "metadata": {
        "id": "dddeb53d"
      },
      "source": [
        "The `privacy_unit` is a vector whose each element is a tuple with the convention: `(table_name, join_path, id_column)` with:\n",
        "- `table_name` the name of the table,\n",
        "- `join_path` a vector storing the joins whose each item `(column_name, table_name, column)` represents a foreign key,\n",
        "- `id_column` the name of the column which is the privacy unit."
      ]
    },
    {
      "cell_type": "markdown",
      "id": "0aa67b12",
      "metadata": {
        "id": "0aa67b12"
      },
      "source": [
        "The `Relation` method `protect` allows to propagate the **privacy unit** through all the relations:"
      ]
    },
    {
      "cell_type": "code",
      "execution_count": 4,
      "id": "0ce5df6d",
      "metadata": {
        "colab": {
          "base_uri": "https://localhost:8080/",
          "height": 438
        },
        "id": "0ce5df6d",
        "outputId": "fd275f2d-bb97-45d4-b48a-97e9548ba28b"
      },
      "outputs": [
        {
          "data": {
            "image/svg+xml": [
              "<?xml version=\"1.0\" encoding=\"UTF-8\" standalone=\"no\"?>\n",
              "<!DOCTYPE svg PUBLIC \"-//W3C//DTD SVG 1.1//EN\"\n",
              " \"http://www.w3.org/Graphics/SVG/1.1/DTD/svg11.dtd\">\n",
              "<!-- Generated by graphviz version 9.0.0 (20230911.1827)\n",
              " -->\n",
              "<!-- Title: graph_3hh7 Pages: 1 -->\n",
              "<svg width=\"373pt\" height=\"315pt\"\n",
              " viewBox=\"0.00 0.00 372.80 314.60\" xmlns=\"http://www.w3.org/2000/svg\" xmlns:xlink=\"http://www.w3.org/1999/xlink\">\n",
              "<g id=\"graph0\" class=\"graph\" transform=\"scale(1 1) rotate(0) translate(4 310.6)\">\n",
              "<title>graph_3hh7</title>\n",
              "<polygon fill=\"none\" stroke=\"none\" points=\"-4,4 -4,-310.6 368.8,-310.6 368.8,4 -4,4\"/>\n",
              "<!-- graph_3hh7 -->\n",
              "<g id=\"node1\" class=\"node\">\n",
              "<title>graph_3hh7</title>\n",
              "<path fill=\"#428e92\" stroke=\"#000000\" stroke-opacity=\"0.333333\" d=\"M352.8,-306.6C352.8,-306.6 12,-306.6 12,-306.6 6,-306.6 0,-300.6 0,-294.6 0,-294.6 0,-168.8 0,-168.8 0,-162.8 6,-156.8 12,-156.8 12,-156.8 352.8,-156.8 352.8,-156.8 358.8,-156.8 364.8,-162.8 364.8,-168.8 364.8,-168.8 364.8,-294.6 364.8,-294.6 364.8,-300.6 358.8,-306.6 352.8,-306.6\"/>\n",
              "<text text-anchor=\"start\" x=\"117.52\" y=\"-282.75\" font-family=\"Red Hat Display,sans-serif\" font-weight=\"bold\" font-size=\"11.00\" fill=\"#000000\" fill-opacity=\"0.733333\">MAP_TR99 size ∈ int[0 910]</text>\n",
              "<text text-anchor=\"start\" x=\"72.9\" y=\"-271.75\" font-family=\"Red Hat Display,sans-serif\" font-size=\"11.00\" fill=\"#000000\" fill-opacity=\"0.733333\">_PRIVACY_UNIT_ = md5(cast_as_text(id)) ∈ str</text>\n",
              "<text text-anchor=\"start\" x=\"95.4\" y=\"-260.75\" font-family=\"Red Hat Display,sans-serif\" font-size=\"11.00\" fill=\"#000000\" fill-opacity=\"0.733333\">_PRIVACY_UNIT_WEIGHT_ = 1 ∈ int{1}</text>\n",
              "<text text-anchor=\"start\" x=\"157.27\" y=\"-249.75\" font-family=\"Red Hat Display,sans-serif\" font-size=\"11.00\" fill=\"#000000\" fill-opacity=\"0.733333\">id = id ∈ str</text>\n",
              "<text text-anchor=\"start\" x=\"113.77\" y=\"-238.75\" font-family=\"Red Hat Display,sans-serif\" font-size=\"11.00\" fill=\"#000000\" fill-opacity=\"0.733333\">store = store ∈ str{1, 2, 3, 4, 5}</text>\n",
              "<text text-anchor=\"start\" x=\"14.4\" y=\"-227.75\" font-family=\"Red Hat Display,sans-serif\" font-size=\"11.00\" fill=\"#000000\" fill-opacity=\"0.733333\">date = date ∈ datetime[2010&#45;02&#45;05 00:00:00 2013&#45;07&#45;26 00:00:00]</text>\n",
              "<text text-anchor=\"start\" x=\"70.27\" y=\"-216.75\" font-family=\"Red Hat Display,sans-serif\" font-size=\"11.00\" fill=\"#000000\" fill-opacity=\"0.733333\">temperature = temperature ∈ float[28.84 93.34]</text>\n",
              "<text text-anchor=\"start\" x=\"82.65\" y=\"-205.75\" font-family=\"Red Hat Display,sans-serif\" font-size=\"11.00\" fill=\"#000000\" fill-opacity=\"0.733333\">fuel_price = fuel_price ∈ float[2.514 3.907]</text>\n",
              "<text text-anchor=\"start\" x=\"90.15\" y=\"-194.75\" font-family=\"Red Hat Display,sans-serif\" font-size=\"11.00\" fill=\"#000000\" fill-opacity=\"0.733333\">cpi = cpi ∈ float[126.064 228.7298638]</text>\n",
              "<text text-anchor=\"start\" x=\"58.65\" y=\"-183.75\" font-family=\"Red Hat Display,sans-serif\" font-size=\"11.00\" fill=\"#000000\" fill-opacity=\"0.733333\">unemployment = unemployment ∈ float[3.879 8.623]</text>\n",
              "<text text-anchor=\"start\" x=\"120.15\" y=\"-172.75\" font-family=\"Red Hat Display,sans-serif\" font-size=\"11.00\" fill=\"#000000\" fill-opacity=\"0.733333\">isholiday = isholiday ∈ bool</text>\n",
              "</g>\n",
              "<!-- graph_pv7m -->\n",
              "<g id=\"node2\" class=\"node\">\n",
              "<title>graph_pv7m</title>\n",
              "<path fill=\"#ff1744\" stroke=\"#000000\" stroke-opacity=\"0.333333\" d=\"M352.8,-127.8C352.8,-127.8 12,-127.8 12,-127.8 6,-127.8 0,-121.8 0,-115.8 0,-115.8 0,-12 0,-12 0,-6 6,0 12,0 12,0 352.8,0 352.8,0 358.8,0 364.8,-6 364.8,-12 364.8,-12 364.8,-115.8 364.8,-115.8 364.8,-121.8 358.8,-127.8 352.8,-127.8\"/>\n",
              "<text text-anchor=\"start\" x=\"102.52\" y=\"-103.95\" font-family=\"Red Hat Display,sans-serif\" font-weight=\"bold\" font-size=\"11.00\" fill=\"#ffffff\" fill-opacity=\"0.733333\">RETAIL_FEATURES size ∈ int{910}</text>\n",
              "<text text-anchor=\"start\" x=\"157.27\" y=\"-92.95\" font-family=\"Red Hat Display,sans-serif\" font-size=\"11.00\" fill=\"#ffffff\" fill-opacity=\"0.733333\">id = id ∈ str</text>\n",
              "<text text-anchor=\"start\" x=\"113.77\" y=\"-81.95\" font-family=\"Red Hat Display,sans-serif\" font-size=\"11.00\" fill=\"#ffffff\" fill-opacity=\"0.733333\">store = store ∈ str{1, 2, 3, 4, 5}</text>\n",
              "<text text-anchor=\"start\" x=\"14.4\" y=\"-70.95\" font-family=\"Red Hat Display,sans-serif\" font-size=\"11.00\" fill=\"#ffffff\" fill-opacity=\"0.733333\">date = date ∈ datetime[2010&#45;02&#45;05 00:00:00 2013&#45;07&#45;26 00:00:00]</text>\n",
              "<text text-anchor=\"start\" x=\"70.27\" y=\"-59.95\" font-family=\"Red Hat Display,sans-serif\" font-size=\"11.00\" fill=\"#ffffff\" fill-opacity=\"0.733333\">temperature = temperature ∈ float[28.84 93.34]</text>\n",
              "<text text-anchor=\"start\" x=\"82.65\" y=\"-48.95\" font-family=\"Red Hat Display,sans-serif\" font-size=\"11.00\" fill=\"#ffffff\" fill-opacity=\"0.733333\">fuel_price = fuel_price ∈ float[2.514 3.907]</text>\n",
              "<text text-anchor=\"start\" x=\"90.15\" y=\"-37.95\" font-family=\"Red Hat Display,sans-serif\" font-size=\"11.00\" fill=\"#ffffff\" fill-opacity=\"0.733333\">cpi = cpi ∈ float[126.064 228.7298638]</text>\n",
              "<text text-anchor=\"start\" x=\"58.65\" y=\"-26.95\" font-family=\"Red Hat Display,sans-serif\" font-size=\"11.00\" fill=\"#ffffff\" fill-opacity=\"0.733333\">unemployment = unemployment ∈ float[3.879 8.623]</text>\n",
              "<text text-anchor=\"start\" x=\"120.15\" y=\"-15.95\" font-family=\"Red Hat Display,sans-serif\" font-size=\"11.00\" fill=\"#ffffff\" fill-opacity=\"0.733333\">isholiday = isholiday ∈ bool</text>\n",
              "</g>\n",
              "<!-- graph_3hh7&#45;&gt;graph_pv7m -->\n",
              "<g id=\"edge1\" class=\"edge\">\n",
              "<title>graph_3hh7&#45;&gt;graph_pv7m</title>\n",
              "<path fill=\"none\" stroke=\"#2b303a\" d=\"M182.4,-156.53C182.4,-150.9 182.4,-145.21 182.4,-139.58\"/>\n",
              "<polygon fill=\"#2b303a\" stroke=\"#2b303a\" points=\"185.9,-139.63 182.4,-129.63 178.9,-139.63 185.9,-139.63\"/>\n",
              "</g>\n",
              "</g>\n",
              "</svg>\n"
            ],
            "text/plain": [
              "<graphviz.sources.Source at 0x107b3e910>"
            ]
          },
          "metadata": {},
          "output_type": "display_data"
        }
      ],
      "source": [
        "pup_features = dataset.relations()[0][1].rewrite_as_privacy_unit_preserving(\n",
        "    dataset,\n",
        "    privacy_unit,\n",
        "    budget,\n",
        "    synthetic_data,\n",
        ")\n",
        "display(graphviz.Source(pup_features.relation().dot()))"
      ]
    },
    {
      "cell_type": "code",
      "execution_count": 5,
      "id": "d975df77",
      "metadata": {
        "colab": {
          "base_uri": "https://localhost:8080/",
          "height": 632
        },
        "id": "d975df77",
        "outputId": "6ee25bbd-c81a-4fac-863e-9937a7ab3678"
      },
      "outputs": [
        {
          "data": {
            "image/svg+xml": [
              "<?xml version=\"1.0\" encoding=\"UTF-8\" standalone=\"no\"?>\n",
              "<!DOCTYPE svg PUBLIC \"-//W3C//DTD SVG 1.1//EN\"\n",
              " \"http://www.w3.org/Graphics/SVG/1.1/DTD/svg11.dtd\">\n",
              "<!-- Generated by graphviz version 9.0.0 (20230911.1827)\n",
              " -->\n",
              "<!-- Title: graph_6y15 Pages: 1 -->\n",
              "<svg width=\"672pt\" height=\"460pt\"\n",
              " viewBox=\"0.00 0.00 672.42 460.40\" xmlns=\"http://www.w3.org/2000/svg\" xmlns:xlink=\"http://www.w3.org/1999/xlink\">\n",
              "<g id=\"graph0\" class=\"graph\" transform=\"scale(1 1) rotate(0) translate(4 456.4)\">\n",
              "<title>graph_6y15</title>\n",
              "<polygon fill=\"none\" stroke=\"none\" points=\"-4,4 -4,-456.4 668.42,-456.4 668.42,4 -4,4\"/>\n",
              "<!-- graph_6y15 -->\n",
              "<g id=\"node1\" class=\"node\">\n",
              "<title>graph_6y15</title>\n",
              "<path fill=\"#428e92\" stroke=\"#000000\" stroke-opacity=\"0.333333\" d=\"M495.92,-452.4C495.92,-452.4 206.88,-452.4 206.88,-452.4 200.88,-452.4 194.87,-446.4 194.87,-440.4 194.87,-440.4 194.87,-369.6 194.87,-369.6 194.87,-363.6 200.87,-357.6 206.87,-357.6 206.87,-357.6 495.92,-357.6 495.92,-357.6 501.92,-357.6 507.92,-363.6 507.92,-369.6 507.92,-369.6 507.92,-440.4 507.92,-440.4 507.92,-446.4 501.92,-452.4 495.92,-452.4\"/>\n",
              "<text text-anchor=\"start\" x=\"280.15\" y=\"-428.55\" font-family=\"Red Hat Display,sans-serif\" font-weight=\"bold\" font-size=\"11.00\" fill=\"#000000\" fill-opacity=\"0.733333\">MAP_CDOR size ∈ int[0 4550]</text>\n",
              "<text text-anchor=\"start\" x=\"225.02\" y=\"-417.55\" font-family=\"Red Hat Display,sans-serif\" font-size=\"11.00\" fill=\"#000000\" fill-opacity=\"0.733333\">_PRIVACY_UNIT_ = md5(cast_as_text(field_tv1c)) ∈ str</text>\n",
              "<text text-anchor=\"start\" x=\"264.4\" y=\"-406.55\" font-family=\"Red Hat Display,sans-serif\" font-size=\"11.00\" fill=\"#000000\" fill-opacity=\"0.733333\">_PRIVACY_UNIT_WEIGHT_ = 1 ∈ int{1}</text>\n",
              "<text text-anchor=\"start\" x=\"271.52\" y=\"-395.55\" font-family=\"Red Hat Display,sans-serif\" font-size=\"11.00\" fill=\"#000000\" fill-opacity=\"0.733333\">store = field_xh5r ∈ str{1, 2, 3, 4, 5}</text>\n",
              "<text text-anchor=\"start\" x=\"284.65\" y=\"-384.55\" font-family=\"Red Hat Display,sans-serif\" font-size=\"11.00\" fill=\"#000000\" fill-opacity=\"0.733333\">type = field_mzk8 ∈ str{A, B}</text>\n",
              "<text text-anchor=\"start\" x=\"209.27\" y=\"-373.55\" font-family=\"Red Hat Display,sans-serif\" font-size=\"11.00\" fill=\"#000000\" fill-opacity=\"0.733333\">size = field_1p2r ∈ int{34875, 37392, 151315, 202307, 205863}</text>\n",
              "</g>\n",
              "<!-- graph_74kh -->\n",
              "<g id=\"node2\" class=\"node\">\n",
              "<title>graph_74kh</title>\n",
              "<path fill=\"#ff616f\" stroke=\"#000000\" stroke-opacity=\"0.333333\" d=\"M553.3,-328.6C553.3,-328.6 149.5,-328.6 149.5,-328.6 143.5,-328.6 137.5,-322.6 137.5,-316.6 137.5,-316.6 137.5,-168.8 137.5,-168.8 137.5,-162.8 143.5,-156.8 149.5,-156.8 149.5,-156.8 553.3,-156.8 553.3,-156.8 559.3,-156.8 565.3,-162.8 565.3,-168.8 565.3,-168.8 565.3,-316.6 565.3,-316.6 565.3,-322.6 559.3,-328.6 553.3,-328.6\"/>\n",
              "<text text-anchor=\"start\" x=\"283.15\" y=\"-304.75\" font-family=\"Red Hat Display,sans-serif\" font-weight=\"bold\" font-size=\"11.00\" fill=\"#000000\" fill-opacity=\"0.733333\">JOIN_IJ3X size ∈ int[0 4550]</text>\n",
              "<text text-anchor=\"start\" x=\"289.52\" y=\"-293.75\" font-family=\"Red Hat Display,sans-serif\" font-size=\"11.00\" fill=\"#000000\" fill-opacity=\"0.733333\">field_tv1c = _LEFT_.id ∈ str</text>\n",
              "<text text-anchor=\"start\" x=\"250.52\" y=\"-282.75\" font-family=\"Red Hat Display,sans-serif\" font-size=\"11.00\" fill=\"#000000\" fill-opacity=\"0.733333\">field_8bxb = _LEFT_.store ∈ str{1, 2, 3, 4, 5}</text>\n",
              "<text text-anchor=\"start\" x=\"151.9\" y=\"-271.75\" font-family=\"Red Hat Display,sans-serif\" font-size=\"11.00\" fill=\"#000000\" fill-opacity=\"0.733333\">field_djqk = _LEFT_.date ∈ datetime[2010&#45;02&#45;05 00:00:00 2013&#45;07&#45;26 00:00:00]</text>\n",
              "<text text-anchor=\"start\" x=\"223.52\" y=\"-260.75\" font-family=\"Red Hat Display,sans-serif\" font-size=\"11.00\" fill=\"#000000\" fill-opacity=\"0.733333\">field_x8ew = _LEFT_.temperature ∈ float[28.84 93.34]</text>\n",
              "<text text-anchor=\"start\" x=\"232.9\" y=\"-249.75\" font-family=\"Red Hat Display,sans-serif\" font-size=\"11.00\" fill=\"#000000\" fill-opacity=\"0.733333\">field_z1o7 = _LEFT_.fuel_price ∈ float[2.514 3.907]</text>\n",
              "<text text-anchor=\"start\" x=\"223.15\" y=\"-238.75\" font-family=\"Red Hat Display,sans-serif\" font-size=\"11.00\" fill=\"#000000\" fill-opacity=\"0.733333\">field_vto2 = _LEFT_.cpi ∈ float[126.064 228.7298638]</text>\n",
              "<text text-anchor=\"start\" x=\"221.65\" y=\"-227.75\" font-family=\"Red Hat Display,sans-serif\" font-size=\"11.00\" fill=\"#000000\" fill-opacity=\"0.733333\">field_16di = _LEFT_.unemployment ∈ float[3.879 8.623]</text>\n",
              "<text text-anchor=\"start\" x=\"266.27\" y=\"-216.75\" font-family=\"Red Hat Display,sans-serif\" font-size=\"11.00\" fill=\"#000000\" fill-opacity=\"0.733333\">field_nl9d = _LEFT_.isholiday ∈ bool</text>\n",
              "<text text-anchor=\"start\" x=\"249.4\" y=\"-205.75\" font-family=\"Red Hat Display,sans-serif\" font-size=\"11.00\" fill=\"#000000\" fill-opacity=\"0.733333\">field_xh5r = _RIGHT_.store ∈ str{1, 2, 3, 4, 5}</text>\n",
              "<text text-anchor=\"start\" x=\"262.9\" y=\"-194.75\" font-family=\"Red Hat Display,sans-serif\" font-size=\"11.00\" fill=\"#000000\" fill-opacity=\"0.733333\">field_mzk8 = _RIGHT_.type ∈ str{A, B}</text>\n",
              "<text text-anchor=\"start\" x=\"187.15\" y=\"-183.75\" font-family=\"Red Hat Display,sans-serif\" font-size=\"11.00\" fill=\"#000000\" fill-opacity=\"0.733333\">field_1p2r = _RIGHT_.size ∈ int{34875, 37392, 151315, 202307, 205863}</text>\n",
              "<text text-anchor=\"start\" x=\"249.77\" y=\"-172.75\" font-family=\"Red Hat Display,sans-serif\" font-size=\"11.00\" fill=\"#000000\" fill-opacity=\"0.733333\">INNER ON (_RIGHT_.store = _LEFT_.store)</text>\n",
              "</g>\n",
              "<!-- graph_6y15&#45;&gt;graph_74kh -->\n",
              "<g id=\"edge3\" class=\"edge\">\n",
              "<title>graph_6y15&#45;&gt;graph_74kh</title>\n",
              "<path fill=\"none\" stroke=\"#2b303a\" d=\"M351.4,-357.2C351.4,-351.74 351.4,-346.03 351.4,-340.19\"/>\n",
              "<polygon fill=\"#2b303a\" stroke=\"#2b303a\" points=\"354.9,-340.37 351.4,-330.37 347.9,-340.37 354.9,-340.37\"/>\n",
              "</g>\n",
              "<!-- graph_pv7m -->\n",
              "<g id=\"node3\" class=\"node\">\n",
              "<title>graph_pv7m</title>\n",
              "<path fill=\"#ff1744\" stroke=\"#000000\" stroke-opacity=\"0.333333\" d=\"M352.8,-127.8C352.8,-127.8 12,-127.8 12,-127.8 6,-127.8 0,-121.8 0,-115.8 0,-115.8 0,-12 0,-12 0,-6 6,0 12,0 12,0 352.8,0 352.8,0 358.8,0 364.8,-6 364.8,-12 364.8,-12 364.8,-115.8 364.8,-115.8 364.8,-121.8 358.8,-127.8 352.8,-127.8\"/>\n",
              "<text text-anchor=\"start\" x=\"102.52\" y=\"-103.95\" font-family=\"Red Hat Display,sans-serif\" font-weight=\"bold\" font-size=\"11.00\" fill=\"#ffffff\" fill-opacity=\"0.733333\">RETAIL_FEATURES size ∈ int{910}</text>\n",
              "<text text-anchor=\"start\" x=\"157.27\" y=\"-92.95\" font-family=\"Red Hat Display,sans-serif\" font-size=\"11.00\" fill=\"#ffffff\" fill-opacity=\"0.733333\">id = id ∈ str</text>\n",
              "<text text-anchor=\"start\" x=\"113.77\" y=\"-81.95\" font-family=\"Red Hat Display,sans-serif\" font-size=\"11.00\" fill=\"#ffffff\" fill-opacity=\"0.733333\">store = store ∈ str{1, 2, 3, 4, 5}</text>\n",
              "<text text-anchor=\"start\" x=\"14.4\" y=\"-70.95\" font-family=\"Red Hat Display,sans-serif\" font-size=\"11.00\" fill=\"#ffffff\" fill-opacity=\"0.733333\">date = date ∈ datetime[2010&#45;02&#45;05 00:00:00 2013&#45;07&#45;26 00:00:00]</text>\n",
              "<text text-anchor=\"start\" x=\"70.27\" y=\"-59.95\" font-family=\"Red Hat Display,sans-serif\" font-size=\"11.00\" fill=\"#ffffff\" fill-opacity=\"0.733333\">temperature = temperature ∈ float[28.84 93.34]</text>\n",
              "<text text-anchor=\"start\" x=\"82.65\" y=\"-48.95\" font-family=\"Red Hat Display,sans-serif\" font-size=\"11.00\" fill=\"#ffffff\" fill-opacity=\"0.733333\">fuel_price = fuel_price ∈ float[2.514 3.907]</text>\n",
              "<text text-anchor=\"start\" x=\"90.15\" y=\"-37.95\" font-family=\"Red Hat Display,sans-serif\" font-size=\"11.00\" fill=\"#ffffff\" fill-opacity=\"0.733333\">cpi = cpi ∈ float[126.064 228.7298638]</text>\n",
              "<text text-anchor=\"start\" x=\"58.65\" y=\"-26.95\" font-family=\"Red Hat Display,sans-serif\" font-size=\"11.00\" fill=\"#ffffff\" fill-opacity=\"0.733333\">unemployment = unemployment ∈ float[3.879 8.623]</text>\n",
              "<text text-anchor=\"start\" x=\"120.15\" y=\"-15.95\" font-family=\"Red Hat Display,sans-serif\" font-size=\"11.00\" fill=\"#ffffff\" fill-opacity=\"0.733333\">isholiday = isholiday ∈ bool</text>\n",
              "</g>\n",
              "<!-- graph_74kh&#45;&gt;graph_pv7m -->\n",
              "<g id=\"edge1\" class=\"edge\">\n",
              "<title>graph_74kh&#45;&gt;graph_pv7m</title>\n",
              "<path fill=\"none\" stroke=\"#2b303a\" d=\"M269.87,-156.41C263.46,-149.7 257.03,-142.97 250.72,-136.37\"/>\n",
              "<polygon fill=\"#2b303a\" stroke=\"#2b303a\" points=\"253.29,-134 243.85,-129.19 248.23,-138.84 253.29,-134\"/>\n",
              "</g>\n",
              "<!-- graph_rdzg -->\n",
              "<g id=\"node4\" class=\"node\">\n",
              "<title>graph_rdzg</title>\n",
              "<path fill=\"#ff1744\" stroke=\"#000000\" stroke-opacity=\"0.333333\" d=\"M652.42,-100.3C652.42,-100.3 390.38,-100.3 390.38,-100.3 384.38,-100.3 378.38,-94.3 378.38,-88.3 378.38,-88.3 378.38,-39.5 378.38,-39.5 378.38,-33.5 384.38,-27.5 390.38,-27.5 390.38,-27.5 652.42,-27.5 652.42,-27.5 658.42,-27.5 664.42,-33.5 664.42,-39.5 664.42,-39.5 664.42,-88.3 664.42,-88.3 664.42,-94.3 658.42,-100.3 652.42,-100.3\"/>\n",
              "<text text-anchor=\"start\" x=\"453.15\" y=\"-76.45\" font-family=\"Red Hat Display,sans-serif\" font-weight=\"bold\" font-size=\"11.00\" fill=\"#ffffff\" fill-opacity=\"0.733333\">RETAIL_STORES size ∈ int{5}</text>\n",
              "<text text-anchor=\"start\" x=\"452.77\" y=\"-65.45\" font-family=\"Red Hat Display,sans-serif\" font-size=\"11.00\" fill=\"#ffffff\" fill-opacity=\"0.733333\">store = store ∈ str{1, 2, 3, 4, 5}</text>\n",
              "<text text-anchor=\"start\" x=\"470.02\" y=\"-54.45\" font-family=\"Red Hat Display,sans-serif\" font-size=\"11.00\" fill=\"#ffffff\" fill-opacity=\"0.733333\">type = type ∈ str{A, B}</text>\n",
              "<text text-anchor=\"start\" x=\"392.77\" y=\"-43.45\" font-family=\"Red Hat Display,sans-serif\" font-size=\"11.00\" fill=\"#ffffff\" fill-opacity=\"0.733333\">size = size ∈ int{34875, 37392, 151315, 202307, 205863}</text>\n",
              "</g>\n",
              "<!-- graph_74kh&#45;&gt;graph_rdzg -->\n",
              "<g id=\"edge2\" class=\"edge\">\n",
              "<title>graph_74kh&#45;&gt;graph_rdzg</title>\n",
              "<path fill=\"none\" stroke=\"#2b303a\" d=\"M433.41,-156.41C449.31,-139.87 465.35,-123.19 479.3,-108.69\"/>\n",
              "<polygon fill=\"#2b303a\" stroke=\"#2b303a\" points=\"481.8,-111.14 486.2,-101.5 476.75,-106.29 481.8,-111.14\"/>\n",
              "</g>\n",
              "</g>\n",
              "</svg>\n"
            ],
            "text/plain": [
              "<graphviz.sources.Source at 0x12382ad30>"
            ]
          },
          "metadata": {},
          "output_type": "display_data"
        }
      ],
      "source": [
        "pup_stores = dataset.relations()[2][1].rewrite_as_privacy_unit_preserving(\n",
        "    dataset,\n",
        "    privacy_unit,\n",
        "    budget,\n",
        "    synthetic_data\n",
        ")\n",
        "display(graphviz.Source(pup_stores.relation().dot()))"
      ]
    },
    {
      "cell_type": "markdown",
      "id": "f232bac1",
      "metadata": {
        "id": "f232bac1"
      },
      "source": [
        "We notice that to protect the `features` table we just have to hash the values of the `id` column and store them into the `_PRIVACY_UNIT_` while to protect the `store` table we had to make a join before."
      ]
    },
    {
      "cell_type": "markdown",
      "id": "b5badc08",
      "metadata": {
        "id": "b5badc08"
      },
      "source": [
        "## The sensitivity"
      ]
    },
    {
      "cell_type": "markdown",
      "id": "9de52758",
      "metadata": {
        "id": "9de52758"
      },
      "source": [
        "In the case we want to relase the result of query : `SELECT SUM(3 * fuel_price + temperature / 10) FROM retail.features`, we have to compute the sensitivity of the `SUM(3 * fuel_price + temperature / 10)` aggregation.\n",
        "\n",
        "The user provides the ranges of the inputs column in the `WHERE` clause of the query, then these values are propagated through all the relations."
      ]
    },
    {
      "cell_type": "code",
      "execution_count": 7,
      "id": "4ca7732e",
      "metadata": {
        "colab": {
          "base_uri": "https://localhost:8080/",
          "height": 426
        },
        "id": "4ca7732e",
        "outputId": "c8ee2ed3-771d-4ecb-ff65-c25b93cbd8e0"
      },
      "outputs": [
        {
          "data": {
            "image/svg+xml": [
              "<?xml version=\"1.0\" encoding=\"UTF-8\" standalone=\"no\"?>\n",
              "<!DOCTYPE svg PUBLIC \"-//W3C//DTD SVG 1.1//EN\"\n",
              " \"http://www.w3.org/Graphics/SVG/1.1/DTD/svg11.dtd\">\n",
              "<!-- Generated by graphviz version 9.0.0 (20230911.1827)\n",
              " -->\n",
              "<!-- Title: graph_ncz4 Pages: 1 -->\n",
              "<svg width=\"515pt\" height=\"306pt\"\n",
              " viewBox=\"0.00 0.00 514.55 306.40\" xmlns=\"http://www.w3.org/2000/svg\" xmlns:xlink=\"http://www.w3.org/1999/xlink\">\n",
              "<g id=\"graph0\" class=\"graph\" transform=\"scale(1 1) rotate(0) translate(4 302.4)\">\n",
              "<title>graph_ncz4</title>\n",
              "<polygon fill=\"none\" stroke=\"none\" points=\"-4,4 -4,-302.4 510.55,-302.4 510.55,4 -4,4\"/>\n",
              "<!-- graph_ncz4 -->\n",
              "<g id=\"node1\" class=\"node\">\n",
              "<title>graph_ncz4</title>\n",
              "<path fill=\"#00363a\" stroke=\"#000000\" stroke-opacity=\"0.333333\" d=\"M358.8,-298.4C358.8,-298.4 147.75,-298.4 147.75,-298.4 141.75,-298.4 135.75,-292.4 135.75,-286.4 135.75,-286.4 135.75,-259.6 135.75,-259.6 135.75,-253.6 141.75,-247.6 147.75,-247.6 147.75,-247.6 358.8,-247.6 358.8,-247.6 364.8,-247.6 370.8,-253.6 370.8,-259.6 370.8,-259.6 370.8,-286.4 370.8,-286.4 370.8,-292.4 364.8,-298.4 358.8,-298.4\"/>\n",
              "<text text-anchor=\"start\" x=\"177.9\" y=\"-274.55\" font-family=\"Red Hat Display,sans-serif\" font-weight=\"bold\" font-size=\"11.00\" fill=\"#ffffff\" fill-opacity=\"0.733333\">REDUCE_T29B size ∈ int[0 910]</text>\n",
              "<text text-anchor=\"start\" x=\"150.15\" y=\"-263.55\" font-family=\"Red Hat Display,sans-serif\" font-size=\"11.00\" fill=\"#ffffff\" fill-opacity=\"0.733333\">field_qq4j = sum(field_38yt) ∈ float[0 19110]</text>\n",
              "</g>\n",
              "<!-- graph_2h21 -->\n",
              "<g id=\"node2\" class=\"node\">\n",
              "<title>graph_2h21</title>\n",
              "<path fill=\"#428e92\" stroke=\"#000000\" stroke-opacity=\"0.333333\" d=\"M494.55,-218.6C494.55,-218.6 12,-218.6 12,-218.6 6,-218.6 0,-212.6 0,-206.6 0,-206.6 0,-168.8 0,-168.8 0,-162.8 6,-156.8 12,-156.8 12,-156.8 494.55,-156.8 494.55,-156.8 500.55,-156.8 506.55,-162.8 506.55,-168.8 506.55,-168.8 506.55,-206.6 506.55,-206.6 506.55,-212.6 500.55,-218.6 494.55,-218.6\"/>\n",
              "<text text-anchor=\"start\" x=\"188.02\" y=\"-194.75\" font-family=\"Red Hat Display,sans-serif\" font-weight=\"bold\" font-size=\"11.00\" fill=\"#000000\" fill-opacity=\"0.733333\">MAP_WRIQ size ∈ int[0 910]</text>\n",
              "<text text-anchor=\"start\" x=\"94.27\" y=\"-183.75\" font-family=\"Red Hat Display,sans-serif\" font-size=\"11.00\" fill=\"#000000\" fill-opacity=\"0.733333\">field_38yt = ((3 * fuel_price) + (temperature / 10)) ∈ float[10.426 21]</text>\n",
              "<text text-anchor=\"start\" x=\"14.4\" y=\"-172.75\" font-family=\"Red Hat Display,sans-serif\" font-size=\"11.00\" fill=\"#000000\" fill-opacity=\"0.733333\">WHERE ((((fuel_price &gt; 2.5) and (fuel_price &lt; 3.9)) and (temperature &gt; 28)) and (temperature &lt; 93))</text>\n",
              "</g>\n",
              "<!-- graph_ncz4&#45;&gt;graph_2h21 -->\n",
              "<g id=\"edge2\" class=\"edge\">\n",
              "<title>graph_ncz4&#45;&gt;graph_2h21</title>\n",
              "<path fill=\"none\" stroke=\"#2b303a\" d=\"M253.27,-247.46C253.27,-242.02 253.27,-236.11 253.27,-230.2\"/>\n",
              "<polygon fill=\"#2b303a\" stroke=\"#2b303a\" points=\"256.78,-230.49 253.28,-220.49 249.78,-230.49 256.78,-230.49\"/>\n",
              "</g>\n",
              "<!-- graph_pv7m -->\n",
              "<g id=\"node3\" class=\"node\">\n",
              "<title>graph_pv7m</title>\n",
              "<path fill=\"#ff1744\" stroke=\"#000000\" stroke-opacity=\"0.333333\" d=\"M423.67,-127.8C423.67,-127.8 82.88,-127.8 82.88,-127.8 76.88,-127.8 70.87,-121.8 70.87,-115.8 70.87,-115.8 70.87,-12 70.87,-12 70.87,-6 76.87,0 82.87,0 82.87,0 423.67,0 423.67,0 429.67,0 435.67,-6 435.67,-12 435.67,-12 435.67,-115.8 435.67,-115.8 435.67,-121.8 429.67,-127.8 423.67,-127.8\"/>\n",
              "<text text-anchor=\"start\" x=\"173.4\" y=\"-103.95\" font-family=\"Red Hat Display,sans-serif\" font-weight=\"bold\" font-size=\"11.00\" fill=\"#ffffff\" fill-opacity=\"0.733333\">RETAIL_FEATURES size ∈ int{910}</text>\n",
              "<text text-anchor=\"start\" x=\"228.15\" y=\"-92.95\" font-family=\"Red Hat Display,sans-serif\" font-size=\"11.00\" fill=\"#ffffff\" fill-opacity=\"0.733333\">id = id ∈ str</text>\n",
              "<text text-anchor=\"start\" x=\"184.65\" y=\"-81.95\" font-family=\"Red Hat Display,sans-serif\" font-size=\"11.00\" fill=\"#ffffff\" fill-opacity=\"0.733333\">store = store ∈ str{1, 2, 3, 4, 5}</text>\n",
              "<text text-anchor=\"start\" x=\"85.27\" y=\"-70.95\" font-family=\"Red Hat Display,sans-serif\" font-size=\"11.00\" fill=\"#ffffff\" fill-opacity=\"0.733333\">date = date ∈ datetime[2010&#45;02&#45;05 00:00:00 2013&#45;07&#45;26 00:00:00]</text>\n",
              "<text text-anchor=\"start\" x=\"141.15\" y=\"-59.95\" font-family=\"Red Hat Display,sans-serif\" font-size=\"11.00\" fill=\"#ffffff\" fill-opacity=\"0.733333\">temperature = temperature ∈ float[28.84 93.34]</text>\n",
              "<text text-anchor=\"start\" x=\"153.52\" y=\"-48.95\" font-family=\"Red Hat Display,sans-serif\" font-size=\"11.00\" fill=\"#ffffff\" fill-opacity=\"0.733333\">fuel_price = fuel_price ∈ float[2.514 3.907]</text>\n",
              "<text text-anchor=\"start\" x=\"161.02\" y=\"-37.95\" font-family=\"Red Hat Display,sans-serif\" font-size=\"11.00\" fill=\"#ffffff\" fill-opacity=\"0.733333\">cpi = cpi ∈ float[126.064 228.7298638]</text>\n",
              "<text text-anchor=\"start\" x=\"129.52\" y=\"-26.95\" font-family=\"Red Hat Display,sans-serif\" font-size=\"11.00\" fill=\"#ffffff\" fill-opacity=\"0.733333\">unemployment = unemployment ∈ float[3.879 8.623]</text>\n",
              "<text text-anchor=\"start\" x=\"191.02\" y=\"-15.95\" font-family=\"Red Hat Display,sans-serif\" font-size=\"11.00\" fill=\"#ffffff\" fill-opacity=\"0.733333\">isholiday = isholiday ∈ bool</text>\n",
              "</g>\n",
              "<!-- graph_2h21&#45;&gt;graph_pv7m -->\n",
              "<g id=\"edge1\" class=\"edge\">\n",
              "<title>graph_2h21&#45;&gt;graph_pv7m</title>\n",
              "<path fill=\"none\" stroke=\"#2b303a\" d=\"M253.27,-156.59C253.27,-151.13 253.27,-145.22 253.27,-139.13\"/>\n",
              "<polygon fill=\"#2b303a\" stroke=\"#2b303a\" points=\"256.78,-139.53 253.28,-129.53 249.78,-139.53 256.78,-139.53\"/>\n",
              "</g>\n",
              "</g>\n",
              "</svg>\n"
            ],
            "text/plain": [
              "<graphviz.sources.Source at 0x1334bdaf0>"
            ]
          },
          "metadata": {},
          "output_type": "display_data"
        }
      ],
      "source": [
        "relation = dataset.sql('SELECT SUM(3 * fuel_price + temperature / 10) FROM retail.features WHERE fuel_price > 2.5 AND fuel_price < 3.9 AND temperature > 28 AND temperature < 93')\n",
        "display(graphviz.Source(relation.dot()))"
      ]
    },
    {
      "cell_type": "markdown",
      "id": "48d3a1dd",
      "metadata": {
        "id": "48d3a1dd"
      },
      "source": [
        "More information about the ranges propagation can be found [here](https://github.com/Qrlew/pyqrlew/blob/main/examples/range_propagation.ipynb)."
      ]
    },
    {
      "cell_type": "markdown",
      "id": "1fc2f206",
      "metadata": {
        "id": "1fc2f206"
      },
      "source": [
        "## The protection of the GROUP BY keys"
      ]
    },
    {
      "cell_type": "markdown",
      "id": "88ad8146",
      "metadata": {
        "id": "88ad8146"
      },
      "source": [
        "As explained in [Wilson et al. (2019)](https://arxiv.org/abs/1909.01917) and [this post](https://www.sarus.tech/post/the-protection-of-grouping-keys-in-the-context-of-differentially-private-sql), releasing the values of the grouping columns may leak some sensitive information.\n",
        "\n",
        "To avoid that, two methods can be used:\n",
        "- if the grouping keys have public values, we can release the propagated public values,\n",
        "- otherwise we can use the tau-thresholding mechanism.\n",
        "\n",
        "In the following cell, we show how the public values are propagated and then can be used in the DP rewriting."
      ]
    },
    {
      "cell_type": "code",
      "execution_count": 8,
      "id": "f591c869",
      "metadata": {
        "colab": {
          "base_uri": "https://localhost:8080/",
          "height": 590
        },
        "id": "f591c869",
        "outputId": "2a8f39c6-0ee4-4536-bab7-37800b0e6479"
      },
      "outputs": [
        {
          "data": {
            "image/svg+xml": [
              "<?xml version=\"1.0\" encoding=\"UTF-8\" standalone=\"no\"?>\n",
              "<!DOCTYPE svg PUBLIC \"-//W3C//DTD SVG 1.1//EN\"\n",
              " \"http://www.w3.org/Graphics/SVG/1.1/DTD/svg11.dtd\">\n",
              "<!-- Generated by graphviz version 9.0.0 (20230911.1827)\n",
              " -->\n",
              "<!-- Title: graph_r019 Pages: 1 -->\n",
              "<svg width=\"373pt\" height=\"430pt\"\n",
              " viewBox=\"0.00 0.00 372.80 430.20\" xmlns=\"http://www.w3.org/2000/svg\" xmlns:xlink=\"http://www.w3.org/1999/xlink\">\n",
              "<g id=\"graph0\" class=\"graph\" transform=\"scale(1 1) rotate(0) translate(4 426.2)\">\n",
              "<title>graph_r019</title>\n",
              "<polygon fill=\"none\" stroke=\"none\" points=\"-4,4 -4,-426.2 368.8,-426.2 368.8,4 -4,4\"/>\n",
              "<!-- graph_r019 -->\n",
              "<g id=\"node1\" class=\"node\">\n",
              "<title>graph_r019</title>\n",
              "<path fill=\"#428e92\" stroke=\"#000000\" stroke-opacity=\"0.333333\" d=\"M283.43,-422.2C283.43,-422.2 81.37,-422.2 81.37,-422.2 75.37,-422.2 69.37,-416.2 69.37,-410.2 69.37,-410.2 69.37,-372.4 69.37,-372.4 69.37,-366.4 75.37,-360.4 81.37,-360.4 81.37,-360.4 283.43,-360.4 283.43,-360.4 289.43,-360.4 295.43,-366.4 295.43,-372.4 295.43,-372.4 295.43,-410.2 295.43,-410.2 295.43,-416.2 289.43,-422.2 283.43,-422.2\"/>\n",
              "<text text-anchor=\"start\" x=\"116.77\" y=\"-398.35\" font-family=\"Red Hat Display,sans-serif\" font-weight=\"bold\" font-size=\"11.00\" fill=\"#000000\" fill-opacity=\"0.733333\">MAP_XXBU size ∈ int[0 910]</text>\n",
              "<text text-anchor=\"start\" x=\"112.65\" y=\"-387.35\" font-family=\"Red Hat Display,sans-serif\" font-size=\"11.00\" fill=\"#000000\" fill-opacity=\"0.733333\">store = field_8tj1 ∈ ∅ UNIQUE</text>\n",
              "<text text-anchor=\"start\" x=\"83.77\" y=\"-376.35\" font-family=\"Red Hat Display,sans-serif\" font-size=\"11.00\" fill=\"#000000\" fill-opacity=\"0.733333\">field_dtwp = field_7hx6 ∈ float[0 3555.37]</text>\n",
              "</g>\n",
              "<!-- graph_oq77 -->\n",
              "<g id=\"node2\" class=\"node\">\n",
              "<title>graph_oq77</title>\n",
              "<path fill=\"#00363a\" stroke=\"#000000\" stroke-opacity=\"0.333333\" d=\"M295.8,-331.4C295.8,-331.4 69,-331.4 69,-331.4 63,-331.4 57,-325.4 57,-319.4 57,-319.4 57,-270.6 57,-270.6 57,-264.6 63,-258.6 69,-258.6 69,-258.6 295.8,-258.6 295.8,-258.6 301.8,-258.6 307.8,-264.6 307.8,-270.6 307.8,-270.6 307.8,-319.4 307.8,-319.4 307.8,-325.4 301.8,-331.4 295.8,-331.4\"/>\n",
              "<text text-anchor=\"start\" x=\"106.27\" y=\"-307.55\" font-family=\"Red Hat Display,sans-serif\" font-weight=\"bold\" font-size=\"11.00\" fill=\"#ffffff\" fill-opacity=\"0.733333\">REDUCE_A8N5 size ∈ int[0 910]</text>\n",
              "<text text-anchor=\"start\" x=\"90.9\" y=\"-296.55\" font-family=\"Red Hat Display,sans-serif\" font-size=\"11.00\" fill=\"#ffffff\" fill-opacity=\"0.733333\">field_8tj1 = first(field_8tj1) ∈ ∅ UNIQUE</text>\n",
              "<text text-anchor=\"start\" x=\"71.4\" y=\"-285.55\" font-family=\"Red Hat Display,sans-serif\" font-size=\"11.00\" fill=\"#ffffff\" fill-opacity=\"0.733333\">field_7hx6 = sum(field__6vl) ∈ float[0 3555.37]</text>\n",
              "<text text-anchor=\"start\" x=\"129.15\" y=\"-274.55\" font-family=\"Red Hat Display,sans-serif\" font-size=\"11.00\" fill=\"#ffffff\" fill-opacity=\"0.733333\">GROUP BY (field_8tj1)</text>\n",
              "</g>\n",
              "<!-- graph_r019&#45;&gt;graph_oq77 -->\n",
              "<g id=\"edge3\" class=\"edge\">\n",
              "<title>graph_r019&#45;&gt;graph_oq77</title>\n",
              "<path fill=\"none\" stroke=\"#2b303a\" d=\"M182.4,-359.94C182.4,-354.64 182.4,-349 182.4,-343.37\"/>\n",
              "<polygon fill=\"#2b303a\" stroke=\"#2b303a\" points=\"185.9,-343.41 182.4,-333.41 178.9,-343.41 185.9,-343.41\"/>\n",
              "</g>\n",
              "<!-- graph_y2um -->\n",
              "<g id=\"node3\" class=\"node\">\n",
              "<title>graph_y2um</title>\n",
              "<path fill=\"#428e92\" stroke=\"#000000\" stroke-opacity=\"0.333333\" d=\"M283.43,-229.6C283.43,-229.6 81.37,-229.6 81.37,-229.6 75.37,-229.6 69.37,-223.6 69.37,-217.6 69.37,-217.6 69.37,-168.8 69.37,-168.8 69.37,-162.8 75.37,-156.8 81.37,-156.8 81.37,-156.8 283.43,-156.8 283.43,-156.8 289.43,-156.8 295.43,-162.8 295.43,-168.8 295.43,-168.8 295.43,-217.6 295.43,-217.6 295.43,-223.6 289.43,-229.6 283.43,-229.6\"/>\n",
              "<text text-anchor=\"start\" x=\"117.15\" y=\"-205.75\" font-family=\"Red Hat Display,sans-serif\" font-weight=\"bold\" font-size=\"11.00\" fill=\"#000000\" fill-opacity=\"0.733333\">MAP_07YO size ∈ int[0 910]</text>\n",
              "<text text-anchor=\"start\" x=\"83.77\" y=\"-194.75\" font-family=\"Red Hat Display,sans-serif\" font-size=\"11.00\" fill=\"#000000\" fill-opacity=\"0.733333\">field__6vl = fuel_price ∈ float[2.514 3.907]</text>\n",
              "<text text-anchor=\"start\" x=\"134.02\" y=\"-183.75\" font-family=\"Red Hat Display,sans-serif\" font-size=\"11.00\" fill=\"#000000\" fill-opacity=\"0.733333\">field_8tj1 = store ∈ ∅</text>\n",
              "<text text-anchor=\"start\" x=\"126.9\" y=\"-172.75\" font-family=\"Red Hat Display,sans-serif\" font-size=\"11.00\" fill=\"#000000\" fill-opacity=\"0.733333\">WHERE (store in (a, b))</text>\n",
              "</g>\n",
              "<!-- graph_oq77&#45;&gt;graph_y2um -->\n",
              "<g id=\"edge2\" class=\"edge\">\n",
              "<title>graph_oq77&#45;&gt;graph_y2um</title>\n",
              "<path fill=\"none\" stroke=\"#2b303a\" d=\"M182.4,-258.25C182.4,-252.81 182.4,-247.11 182.4,-241.47\"/>\n",
              "<polygon fill=\"#2b303a\" stroke=\"#2b303a\" points=\"185.9,-241.55 182.4,-231.55 178.9,-241.55 185.9,-241.55\"/>\n",
              "</g>\n",
              "<!-- graph_pv7m -->\n",
              "<g id=\"node4\" class=\"node\">\n",
              "<title>graph_pv7m</title>\n",
              "<path fill=\"#ff1744\" stroke=\"#000000\" stroke-opacity=\"0.333333\" d=\"M352.8,-127.8C352.8,-127.8 12,-127.8 12,-127.8 6,-127.8 0,-121.8 0,-115.8 0,-115.8 0,-12 0,-12 0,-6 6,0 12,0 12,0 352.8,0 352.8,0 358.8,0 364.8,-6 364.8,-12 364.8,-12 364.8,-115.8 364.8,-115.8 364.8,-121.8 358.8,-127.8 352.8,-127.8\"/>\n",
              "<text text-anchor=\"start\" x=\"102.52\" y=\"-103.95\" font-family=\"Red Hat Display,sans-serif\" font-weight=\"bold\" font-size=\"11.00\" fill=\"#ffffff\" fill-opacity=\"0.733333\">RETAIL_FEATURES size ∈ int{910}</text>\n",
              "<text text-anchor=\"start\" x=\"157.27\" y=\"-92.95\" font-family=\"Red Hat Display,sans-serif\" font-size=\"11.00\" fill=\"#ffffff\" fill-opacity=\"0.733333\">id = id ∈ str</text>\n",
              "<text text-anchor=\"start\" x=\"113.77\" y=\"-81.95\" font-family=\"Red Hat Display,sans-serif\" font-size=\"11.00\" fill=\"#ffffff\" fill-opacity=\"0.733333\">store = store ∈ str{1, 2, 3, 4, 5}</text>\n",
              "<text text-anchor=\"start\" x=\"14.4\" y=\"-70.95\" font-family=\"Red Hat Display,sans-serif\" font-size=\"11.00\" fill=\"#ffffff\" fill-opacity=\"0.733333\">date = date ∈ datetime[2010&#45;02&#45;05 00:00:00 2013&#45;07&#45;26 00:00:00]</text>\n",
              "<text text-anchor=\"start\" x=\"70.27\" y=\"-59.95\" font-family=\"Red Hat Display,sans-serif\" font-size=\"11.00\" fill=\"#ffffff\" fill-opacity=\"0.733333\">temperature = temperature ∈ float[28.84 93.34]</text>\n",
              "<text text-anchor=\"start\" x=\"82.65\" y=\"-48.95\" font-family=\"Red Hat Display,sans-serif\" font-size=\"11.00\" fill=\"#ffffff\" fill-opacity=\"0.733333\">fuel_price = fuel_price ∈ float[2.514 3.907]</text>\n",
              "<text text-anchor=\"start\" x=\"90.15\" y=\"-37.95\" font-family=\"Red Hat Display,sans-serif\" font-size=\"11.00\" fill=\"#ffffff\" fill-opacity=\"0.733333\">cpi = cpi ∈ float[126.064 228.7298638]</text>\n",
              "<text text-anchor=\"start\" x=\"58.65\" y=\"-26.95\" font-family=\"Red Hat Display,sans-serif\" font-size=\"11.00\" fill=\"#ffffff\" fill-opacity=\"0.733333\">unemployment = unemployment ∈ float[3.879 8.623]</text>\n",
              "<text text-anchor=\"start\" x=\"120.15\" y=\"-15.95\" font-family=\"Red Hat Display,sans-serif\" font-size=\"11.00\" fill=\"#ffffff\" fill-opacity=\"0.733333\">isholiday = isholiday ∈ bool</text>\n",
              "</g>\n",
              "<!-- graph_y2um&#45;&gt;graph_pv7m -->\n",
              "<g id=\"edge1\" class=\"edge\">\n",
              "<title>graph_y2um&#45;&gt;graph_pv7m</title>\n",
              "<path fill=\"none\" stroke=\"#2b303a\" d=\"M182.4,-156.4C182.4,-151.02 182.4,-145.32 182.4,-139.48\"/>\n",
              "<polygon fill=\"#2b303a\" stroke=\"#2b303a\" points=\"185.9,-139.67 182.4,-129.67 178.9,-139.67 185.9,-139.67\"/>\n",
              "</g>\n",
              "</g>\n",
              "</svg>\n"
            ],
            "text/plain": [
              "<graphviz.sources.Source at 0x1334bd820>"
            ]
          },
          "metadata": {},
          "output_type": "display_data"
        }
      ],
      "source": [
        "relation = dataset.sql(\"SELECT store, SUM(fuel_price) FROM retail.features WHERE store IN ('a', 'b') GROUP BY store \")\n",
        "display(graphviz.Source(relation.dot()))"
      ]
    },
    {
      "cell_type": "markdown",
      "id": "5b28a481",
      "metadata": {
        "id": "5b28a481"
      },
      "source": [
        "## Rewritting with DP"
      ]
    },
    {
      "cell_type": "markdown",
      "id": "f03b57f8",
      "metadata": {
        "id": "f03b57f8"
      },
      "source": [
        "The rewritting with DP is done in 3 steps:\n",
        "- **Protect** the input `Relation` as described before\n",
        "- **DP-rewritting of the grouping keys**: a grouping key can be released if already public or if it appears in enough users rows,\n",
        "- **Add noise** scaled by the privacy parameters to each aggregation."
      ]
    },
    {
      "cell_type": "markdown",
      "id": "fac10e08",
      "metadata": {
        "id": "fac10e08"
      },
      "source": [
        "\n",
        "We use the `rewrite_with_differential_privacy` method that transforms a `Relation` into its differentially private equivalent.\n",
        "\n",
        "It inputs:\n",
        "- `dataset`: the `Dataset` we want to query, \n",
        "- `privacy_unit`: the privacy unit described previously, \n",
        "- `privacy parameters`: the $(\\varepsilon, \\delta)$ privacy parameters,\n",
        "- `synthetic_data`: an **optional** list giving the correpondance between the original tables and their synthetic version. Each table must be specified. The list is made of two-element tuples whose first element is a list representing the path to the original table (e.g.: `[\"retail\", \"features\"]` for \"retail.features\" table or `[\"features\"]` for the \"feature\" table) and the second element, the path to the synthetic table. "
      ]
    },
    {
      "cell_type": "code",
      "execution_count": 9,
      "id": "9b989849",
      "metadata": {
        "id": "9b989849"
      },
      "outputs": [],
      "source": [
        "privacy_unit = [\n",
        "    (\"stores\", [(\"store\", \"features\", \"store\")], \"id\"),\n",
        "    (\"features\", [], \"id\"),\n",
        "    (\"sales\", [], \"id\")\n",
        "]\n",
        "budget = {\"epsilon\": 1.0, \"delta\": 5e-4}\n",
        "synthetic_data = None\n",
        "\n",
        "query = \"SELECT SUM(fuel_price) AS my_sum FROM retail.features WHERE fuel_price > 2.514 AND fuel_price < 3.907\"\n",
        "relation = dataset.sql(query)\n",
        "\n",
        "relation_with_dp_event = relation.rewrite_with_differential_privacy(\n",
        "    dataset,\n",
        "    privacy_unit,\n",
        "    budget,\n",
        "    synthetic_data,\n",
        ")\n",
        "dp_relation = relation_with_dp_event.relation()\n",
        "mechanisms_used = relation_with_dp_event.dp_event()"
      ]
    },
    {
      "cell_type": "code",
      "execution_count": 10,
      "id": "b5eec893",
      "metadata": {
        "colab": {
          "base_uri": "https://localhost:8080/"
        },
        "id": "b5eec893",
        "outputId": "482bb22e-b6ef-4e8c-aa9e-e2bcf7620965"
      },
      "outputs": [
        {
          "name": "stdout",
          "output_type": "stream",
          "text": [
            "Relation: \u001b[1;34mSELECT\u001b[0m my_sum AS my_sum \u001b[1;34mFROM\u001b[0m ( \u001b[1;34mSELECT\u001b[0m _SUM_field__6vl AS my_sum \u001b[1;34mFROM\u001b[0m ( \u001b[1;34mSELECT\u001b[0m least(3555.37, greatest(0, (coalesce(_SUM_field__6vl, 0) + (15.455181404019267 * (sqrt((-2 * ln(random()))) * cos((6.283185307179586 * random()))))))) AS _SUM_field__6vl \u001b[1;34mFROM\u001b[0m ( \u001b[1;34mSELECT\u001b[0m sum(field_q9u_) \u001b[1;34mAS\u001b[0m _SUM_field__6vl \u001b[1;34mFROM\u001b[0m ( \u001b[1;34mSELECT\u001b[0m _CLIPPED_field__6vl AS field_q9u_ \u001b[1;34mFROM\u001b[0m ( \u001b[1;34mSELECT\u001b[0m _PRIVACY_UNIT_ AS _PRIVACY_UNIT_, _PRIVACY_UNIT_WEIGHT_ AS _PRIVACY_UNIT_WEIGHT_, field__6vl AS field__6vl, _SCALE_FACTOR__PRIVACY_UNIT_ AS _SCALE_FACTOR__PRIVACY_UNIT_, _SCALE_FACTOR_field__6vl AS _SCALE_FACTOR_field__6vl, (field__6vl * _SCALE_FACTOR_field__6vl) AS _CLIPPED_field__6vl \u001b[1;34mFROM\u001b[0m ( \u001b[1;34mSELECT\u001b[0m map_8359._PRIVACY_UNIT_ \u001b[1;34mAS\u001b[0m \u001b[35m_PRIVACY_UNIT_\u001b[0m, map_8359._PRIVACY_UNIT_WEIGHT_ \u001b[1;34mAS\u001b[0m \u001b[35m_PRIVACY_UNIT_WEIGHT_\u001b[0m, map_8359.field__6vl \u001b[1;34mAS\u001b[0m \u001b[35mfield__6vl\u001b[0m, map_27uj._PRIVACY_UNIT_ \u001b[1;34mAS\u001b[0m \u001b[35m_SCALE_FACTOR__PRIVACY_UNIT_\u001b[0m, map_27uj.field__6vl \u001b[1;34mAS\u001b[0m \u001b[35m_SCALE_FACTOR_field__6vl\u001b[0m \u001b[1;34mFROM\u001b[0m ( \u001b[1;34mSELECT\u001b[0m coalesce(cast_as_text(_PRIVACY_UNIT_), _PRIVACY_UNIT_DEFAULT_) AS _PRIVACY_UNIT_, coalesce(_PRIVACY_UNIT_WEIGHT_, 0) AS _PRIVACY_UNIT_WEIGHT_, field__6vl AS field__6vl \u001b[1;34mFROM\u001b[0m ( \u001b[1;34mSELECT\u001b[0m _PRIVACY_UNIT_ AS _PRIVACY_UNIT_, _PRIVACY_UNIT_WEIGHT_ AS _PRIVACY_UNIT_WEIGHT_, fuel_price AS field__6vl \u001b[1;34mFROM\u001b[0m ( \u001b[1;34mSELECT\u001b[0m md5(cast_as_text(id)) AS _PRIVACY_UNIT_, 1 AS _PRIVACY_UNIT_WEIGHT_, id AS id, store AS store, date AS date, temperature AS temperature, fuel_price AS fuel_price, cpi AS cpi, unemployment AS unemployment, isholiday AS isholiday \u001b[1;34mFROM\u001b[0m ( retail.features ) ) \u001b[1;34mWHERE\u001b[0m ((fuel_price > 2.514) and (fuel_price < 3.907)) ) ) \u001b[1;34mAS\u001b[0m \u001b[35m_LEFT_\u001b[0m INNER \u001b[1;34mJOIN\u001b[0m ( \u001b[1;34mSELECT\u001b[0m _PRIVACY_UNIT_ AS _PRIVACY_UNIT_, (1 / greatest(1, (sqrt(field__6vl) / 3.907))) AS field__6vl \u001b[1;34mFROM\u001b[0m ( \u001b[1;34mSELECT\u001b[0m first(field_grep) \u001b[1;34mAS\u001b[0m _PRIVACY_UNIT_, sum(field_czvy) \u001b[1;34mAS\u001b[0m field__6vl \u001b[1;34mFROM\u001b[0m ( \u001b[1;34mSELECT\u001b[0m _NORM_field__6vl AS field_czvy, _PRIVACY_UNIT_ AS field_grep \u001b[1;34mFROM\u001b[0m ( \u001b[1;34mSELECT\u001b[0m _PRIVACY_UNIT_ AS _PRIVACY_UNIT_, abs((_NORM_field__6vl * _NORM_field__6vl)) AS _NORM_field__6vl \u001b[1;34mFROM\u001b[0m ( \u001b[1;34mSELECT\u001b[0m first(field_grep) \u001b[1;34mAS\u001b[0m _PRIVACY_UNIT_, sum(field_3d25) \u001b[1;34mAS\u001b[0m _NORM_field__6vl \u001b[1;34mFROM\u001b[0m ( \u001b[1;34mSELECT\u001b[0m field__6vl AS field_3d25, _PRIVACY_UNIT_ AS field_grep \u001b[1;34mFROM\u001b[0m ( \u001b[1;34mSELECT\u001b[0m coalesce(cast_as_text(_PRIVACY_UNIT_), _PRIVACY_UNIT_DEFAULT_) AS _PRIVACY_UNIT_, coalesce(_PRIVACY_UNIT_WEIGHT_, 0) AS _PRIVACY_UNIT_WEIGHT_, field__6vl AS field__6vl \u001b[1;34mFROM\u001b[0m ( \u001b[1;34mSELECT\u001b[0m _PRIVACY_UNIT_ AS _PRIVACY_UNIT_, _PRIVACY_UNIT_WEIGHT_ AS _PRIVACY_UNIT_WEIGHT_, fuel_price AS field__6vl \u001b[1;34mFROM\u001b[0m ( \u001b[1;34mSELECT\u001b[0m md5(cast_as_text(id)) AS _PRIVACY_UNIT_, 1 AS _PRIVACY_UNIT_WEIGHT_, id AS id, store AS store, date AS date, temperature AS temperature, fuel_price AS fuel_price, cpi AS cpi, unemployment AS unemployment, isholiday AS isholiday \u001b[1;34mFROM\u001b[0m ( retail.features ) ) \u001b[1;34mWHERE\u001b[0m ((fuel_price > 2.514) and (fuel_price < 3.907)) ) ) ) \u001b[1;34mGROUP BY\u001b[0m field_grep ) ) ) \u001b[1;34mGROUP BY\u001b[0m field_grep ) ) \u001b[1;34mAS\u001b[0m \u001b[35m_RIGHT_\u001b[0m \u001b[1;34mON\u001b[0m (_LEFT_._PRIVACY_UNIT_ = _RIGHT_._PRIVACY_UNIT_) ) ) ) ) ) )\n",
            "DpEvent: Gaussian (15.455181404019267)\n",
            "\n"
          ]
        }
      ],
      "source": [
        "print(relation_with_dp_event)"
      ]
    },
    {
      "cell_type": "markdown",
      "id": "b58c4ff3",
      "metadata": {
        "id": "b58c4ff3"
      },
      "source": [
        "The ouput is a tuple made of two elements:\n",
        "- The first element is the `Relation` rewritten with dp,\n",
        "- the second element is a `PrivateQuery` which stores the DP mechanims invoked during the rewritting.\n",
        "\n",
        "\n",
        "In the present case, we have used only a gaussian mechanim since our query contain only a simple aggregate and no `GROUP BY`."
      ]
    },
    {
      "cell_type": "code",
      "execution_count": 13,
      "id": "fed532e1",
      "metadata": {
        "colab": {
          "base_uri": "https://localhost:8080/"
        },
        "id": "fed532e1",
        "outputId": "42f2a72c-9b20-4703-f5d2-c32914da7793"
      },
      "outputs": [
        {
          "name": "stdout",
          "output_type": "stream",
          "text": [
            "DpEvent(Gaussian { noise_multiplier: 15.455181404019267 })\n",
            "GaussianDpEvent(noise_multiplier=15.455181404019267)\n"
          ]
        }
      ],
      "source": [
        "from dp_accounting import DpEvent\n",
        "print(mechanisms_used)\n",
        "print(DpEvent.from_named_tuple(mechanisms_used.to_named_tuple()))"
      ]
    },
    {
      "cell_type": "code",
      "execution_count": 14,
      "id": "fd1670d3",
      "metadata": {
        "colab": {
          "base_uri": "https://localhost:8080/",
          "height": 1000
        },
        "id": "fd1670d3",
        "outputId": "ae443cae-6edc-40ba-a343-4a6bde25fa24"
      },
      "outputs": [
        {
          "data": {
            "image/svg+xml": [
              "<?xml version=\"1.0\" encoding=\"UTF-8\" standalone=\"no\"?>\n",
              "<!DOCTYPE svg PUBLIC \"-//W3C//DTD SVG 1.1//EN\"\n",
              " \"http://www.w3.org/Graphics/SVG/1.1/DTD/svg11.dtd\">\n",
              "<!-- Generated by graphviz version 9.0.0 (20230911.1827)\n",
              " -->\n",
              "<!-- Title: graph_y1al Pages: 1 -->\n",
              "<svg width=\"692pt\" height=\"1765pt\"\n",
              " viewBox=\"0.00 0.00 692.17 1764.60\" xmlns=\"http://www.w3.org/2000/svg\" xmlns:xlink=\"http://www.w3.org/1999/xlink\">\n",
              "<g id=\"graph0\" class=\"graph\" transform=\"scale(1 1) rotate(0) translate(4 1760.6)\">\n",
              "<title>graph_y1al</title>\n",
              "<polygon fill=\"none\" stroke=\"none\" points=\"-4,4 -4,-1760.6 688.17,-1760.6 688.17,4 -4,4\"/>\n",
              "<!-- graph_y1al -->\n",
              "<g id=\"node1\" class=\"node\">\n",
              "<title>graph_y1al</title>\n",
              "<path fill=\"#428e92\" stroke=\"#000000\" stroke-opacity=\"0.333333\" d=\"M455.05,-1756.6C455.05,-1756.6 274.75,-1756.6 274.75,-1756.6 268.75,-1756.6 262.75,-1750.6 262.75,-1744.6 262.75,-1744.6 262.75,-1717.8 262.75,-1717.8 262.75,-1711.8 268.75,-1705.8 274.75,-1705.8 274.75,-1705.8 455.05,-1705.8 455.05,-1705.8 461.05,-1705.8 467.05,-1711.8 467.05,-1717.8 467.05,-1717.8 467.05,-1744.6 467.05,-1744.6 467.05,-1750.6 461.05,-1756.6 455.05,-1756.6\"/>\n",
              "<text text-anchor=\"start\" x=\"300.4\" y=\"-1732.75\" font-family=\"Red Hat Display,sans-serif\" font-weight=\"bold\" font-size=\"11.00\" fill=\"#000000\" fill-opacity=\"0.733333\">MAP_V4L3 size ∈ int[0 910]</text>\n",
              "<text text-anchor=\"start\" x=\"277.15\" y=\"-1721.75\" font-family=\"Red Hat Display,sans-serif\" font-size=\"11.00\" fill=\"#000000\" fill-opacity=\"0.733333\">my_sum = my_sum ∈ float[0 3555.37]</text>\n",
              "</g>\n",
              "<!-- graph_0pe_ -->\n",
              "<g id=\"node2\" class=\"node\">\n",
              "<title>graph_0pe_</title>\n",
              "<path fill=\"#428e92\" stroke=\"#000000\" stroke-opacity=\"0.333333\" d=\"M474.92,-1676.8C474.92,-1676.8 254.87,-1676.8 254.87,-1676.8 248.87,-1676.8 242.87,-1670.8 242.87,-1664.8 242.87,-1664.8 242.87,-1638 242.87,-1638 242.87,-1632 248.87,-1626 254.87,-1626 254.87,-1626 474.92,-1626 474.92,-1626 480.92,-1626 486.92,-1632 486.92,-1638 486.92,-1638 486.92,-1664.8 486.92,-1664.8 486.92,-1670.8 480.92,-1676.8 474.92,-1676.8\"/>\n",
              "<text text-anchor=\"start\" x=\"300.4\" y=\"-1652.95\" font-family=\"Red Hat Display,sans-serif\" font-weight=\"bold\" font-size=\"11.00\" fill=\"#000000\" fill-opacity=\"0.733333\">MAP_SPAZ size ∈ int[0 910]</text>\n",
              "<text text-anchor=\"start\" x=\"257.27\" y=\"-1641.95\" font-family=\"Red Hat Display,sans-serif\" font-size=\"11.00\" fill=\"#000000\" fill-opacity=\"0.733333\">my_sum = _SUM_field__6vl ∈ float[0 3555.37]</text>\n",
              "</g>\n",
              "<!-- graph_y1al&#45;&gt;graph_0pe_ -->\n",
              "<g id=\"edge17\" class=\"edge\">\n",
              "<title>graph_y1al&#45;&gt;graph_0pe_</title>\n",
              "<path fill=\"none\" stroke=\"#2b303a\" d=\"M364.9,-1705.58C364.9,-1700.19 364.9,-1694.37 364.9,-1688.63\"/>\n",
              "<polygon fill=\"#2b303a\" stroke=\"#2b303a\" points=\"368.4,-1688.64 364.9,-1678.64 361.4,-1688.64 368.4,-1688.64\"/>\n",
              "</g>\n",
              "<!-- graph_30j2 -->\n",
              "<g id=\"node3\" class=\"node\">\n",
              "<title>graph_30j2</title>\n",
              "<path fill=\"#428e92\" stroke=\"#000000\" stroke-opacity=\"0.333333\" d=\"M672.17,-1597C672.17,-1597 57.62,-1597 57.62,-1597 51.62,-1597 45.62,-1591 45.62,-1585 45.62,-1585 45.62,-1558.2 45.62,-1558.2 45.62,-1552.2 51.62,-1546.2 57.62,-1546.2 57.62,-1546.2 672.17,-1546.2 672.17,-1546.2 678.17,-1546.2 684.17,-1552.2 684.17,-1558.2 684.17,-1558.2 684.17,-1585 684.17,-1585 684.17,-1591 678.17,-1597 672.17,-1597\"/>\n",
              "<text text-anchor=\"start\" x=\"297.77\" y=\"-1573.15\" font-family=\"Red Hat Display,sans-serif\" font-weight=\"bold\" font-size=\"11.00\" fill=\"#000000\" fill-opacity=\"0.733333\">MAP_MYMS size ∈ int[0 910]</text>\n",
              "<text text-anchor=\"start\" x=\"60.02\" y=\"-1562.15\" font-family=\"Red Hat Display,sans-serif\" font-size=\"11.00\" fill=\"#000000\" fill-opacity=\"0.733333\">_SUM_field__6vl = least(3555.37, greatest(0, (coalesce(_SUM_field__6vl, 0) + (15.455181404019267 * (sqrt((&#45;2 * ln(random())))...</text>\n",
              "</g>\n",
              "<!-- graph_0pe_&#45;&gt;graph_30j2 -->\n",
              "<g id=\"edge16\" class=\"edge\">\n",
              "<title>graph_0pe_&#45;&gt;graph_30j2</title>\n",
              "<path fill=\"none\" stroke=\"#2b303a\" d=\"M364.9,-1625.78C364.9,-1620.39 364.9,-1614.57 364.9,-1608.83\"/>\n",
              "<polygon fill=\"#2b303a\" stroke=\"#2b303a\" points=\"368.4,-1608.84 364.9,-1598.84 361.4,-1608.84 368.4,-1608.84\"/>\n",
              "</g>\n",
              "<!-- graph_hipl -->\n",
              "<g id=\"node4\" class=\"node\">\n",
              "<title>graph_hipl</title>\n",
              "<path fill=\"#00363a\" stroke=\"#000000\" stroke-opacity=\"0.333333\" d=\"M494.8,-1517.2C494.8,-1517.2 235,-1517.2 235,-1517.2 229,-1517.2 223,-1511.2 223,-1505.2 223,-1505.2 223,-1478.4 223,-1478.4 223,-1472.4 229,-1466.4 235,-1466.4 235,-1466.4 494.8,-1466.4 494.8,-1466.4 500.8,-1466.4 506.8,-1472.4 506.8,-1478.4 506.8,-1478.4 506.8,-1505.2 506.8,-1505.2 506.8,-1511.2 500.8,-1517.2 494.8,-1517.2\"/>\n",
              "<text text-anchor=\"start\" x=\"288.4\" y=\"-1493.35\" font-family=\"Red Hat Display,sans-serif\" font-weight=\"bold\" font-size=\"11.00\" fill=\"#ffffff\" fill-opacity=\"0.733333\">REDUCE_C_AN size ∈ int[0 910]</text>\n",
              "<text text-anchor=\"start\" x=\"237.4\" y=\"-1482.35\" font-family=\"Red Hat Display,sans-serif\" font-size=\"11.00\" fill=\"#ffffff\" fill-opacity=\"0.733333\">_SUM_field__6vl = sum(field_q9u_) ∈ float[0 3555.37]</text>\n",
              "</g>\n",
              "<!-- graph_30j2&#45;&gt;graph_hipl -->\n",
              "<g id=\"edge15\" class=\"edge\">\n",
              "<title>graph_30j2&#45;&gt;graph_hipl</title>\n",
              "<path fill=\"none\" stroke=\"#2b303a\" d=\"M364.9,-1545.98C364.9,-1540.59 364.9,-1534.77 364.9,-1529.03\"/>\n",
              "<polygon fill=\"#2b303a\" stroke=\"#2b303a\" points=\"368.4,-1529.04 364.9,-1519.04 361.4,-1529.04 368.4,-1529.04\"/>\n",
              "</g>\n",
              "<!-- graph_0gxl -->\n",
              "<g id=\"node5\" class=\"node\">\n",
              "<title>graph_0gxl</title>\n",
              "<path fill=\"#428e92\" stroke=\"#000000\" stroke-opacity=\"0.333333\" d=\"M545.05,-1437.4C545.05,-1437.4 184.75,-1437.4 184.75,-1437.4 178.75,-1437.4 172.75,-1431.4 172.75,-1425.4 172.75,-1425.4 172.75,-1398.6 172.75,-1398.6 172.75,-1392.6 178.75,-1386.6 184.75,-1386.6 184.75,-1386.6 545.05,-1386.6 545.05,-1386.6 551.05,-1386.6 557.05,-1392.6 557.05,-1398.6 557.05,-1398.6 557.05,-1425.4 557.05,-1425.4 557.05,-1431.4 551.05,-1437.4 545.05,-1437.4\"/>\n",
              "<text text-anchor=\"start\" x=\"300.77\" y=\"-1413.55\" font-family=\"Red Hat Display,sans-serif\" font-weight=\"bold\" font-size=\"11.00\" fill=\"#000000\" fill-opacity=\"0.733333\">MAP_Z0MI size ∈ int[0 910]</text>\n",
              "<text text-anchor=\"start\" x=\"187.15\" y=\"-1402.55\" font-family=\"Red Hat Display,sans-serif\" font-size=\"11.00\" fill=\"#000000\" fill-opacity=\"0.733333\">field_q9u_ = _CLIPPED_field__6vl ∈ float[0.0000915805368102931 3.907]</text>\n",
              "</g>\n",
              "<!-- graph_hipl&#45;&gt;graph_0gxl -->\n",
              "<g id=\"edge14\" class=\"edge\">\n",
              "<title>graph_hipl&#45;&gt;graph_0gxl</title>\n",
              "<path fill=\"none\" stroke=\"#2b303a\" d=\"M364.9,-1466.18C364.9,-1460.79 364.9,-1454.97 364.9,-1449.23\"/>\n",
              "<polygon fill=\"#2b303a\" stroke=\"#2b303a\" points=\"368.4,-1449.24 364.9,-1439.24 361.4,-1449.24 368.4,-1449.24\"/>\n",
              "</g>\n",
              "<!-- graph_y6ar -->\n",
              "<g id=\"node6\" class=\"node\">\n",
              "<title>graph_y6ar</title>\n",
              "<path fill=\"#428e92\" stroke=\"#000000\" stroke-opacity=\"0.333333\" d=\"M620.8,-1357.6C620.8,-1357.6 109,-1357.6 109,-1357.6 103,-1357.6 97,-1351.6 97,-1345.6 97,-1345.6 97,-1263.8 97,-1263.8 97,-1257.8 103,-1251.8 109,-1251.8 109,-1251.8 620.8,-1251.8 620.8,-1251.8 626.8,-1251.8 632.8,-1257.8 632.8,-1263.8 632.8,-1263.8 632.8,-1345.6 632.8,-1345.6 632.8,-1351.6 626.8,-1357.6 620.8,-1357.6\"/>\n",
              "<text text-anchor=\"start\" x=\"301.15\" y=\"-1333.75\" font-family=\"Red Hat Display,sans-serif\" font-weight=\"bold\" font-size=\"11.00\" fill=\"#000000\" fill-opacity=\"0.733333\">MAP_702E size ∈ int[0 910]</text>\n",
              "<text text-anchor=\"start\" x=\"267.02\" y=\"-1322.75\" font-family=\"Red Hat Display,sans-serif\" font-size=\"11.00\" fill=\"#000000\" fill-opacity=\"0.733333\">_PRIVACY_UNIT_ = _PRIVACY_UNIT_ ∈ str</text>\n",
              "<text text-anchor=\"start\" x=\"215.65\" y=\"-1311.75\" font-family=\"Red Hat Display,sans-serif\" font-size=\"11.00\" fill=\"#000000\" fill-opacity=\"0.733333\">_PRIVACY_UNIT_WEIGHT_ = _PRIVACY_UNIT_WEIGHT_ ∈ int{1}</text>\n",
              "<text text-anchor=\"start\" x=\"267.4\" y=\"-1300.75\" font-family=\"Red Hat Display,sans-serif\" font-size=\"11.00\" fill=\"#000000\" fill-opacity=\"0.733333\">field__6vl = field__6vl ∈ float[2.514 3.907]</text>\n",
              "<text text-anchor=\"start\" x=\"173.27\" y=\"-1289.75\" font-family=\"Red Hat Display,sans-serif\" font-size=\"11.00\" fill=\"#000000\" fill-opacity=\"0.733333\">_SCALE_FACTOR__PRIVACY_UNIT_ = _SCALE_FACTOR__PRIVACY_UNIT_ ∈ str</text>\n",
              "<text text-anchor=\"start\" x=\"132.4\" y=\"-1278.75\" font-family=\"Red Hat Display,sans-serif\" font-size=\"11.00\" fill=\"#000000\" fill-opacity=\"0.733333\">_SCALE_FACTOR_field__6vl = _SCALE_FACTOR_field__6vl ∈ float[0.00003642821671053823 1]</text>\n",
              "<text text-anchor=\"start\" x=\"111.4\" y=\"-1267.75\" font-family=\"Red Hat Display,sans-serif\" font-size=\"11.00\" fill=\"#000000\" fill-opacity=\"0.733333\">_CLIPPED_field__6vl = (field__6vl * _SCALE_FACTOR_field__6vl) ∈ float[0.0000915805368102931 3.907]</text>\n",
              "</g>\n",
              "<!-- graph_0gxl&#45;&gt;graph_y6ar -->\n",
              "<g id=\"edge13\" class=\"edge\">\n",
              "<title>graph_0gxl&#45;&gt;graph_y6ar</title>\n",
              "<path fill=\"none\" stroke=\"#2b303a\" d=\"M364.9,-1386.31C364.9,-1381.13 364.9,-1375.43 364.9,-1369.54\"/>\n",
              "<polygon fill=\"#2b303a\" stroke=\"#2b303a\" points=\"368.4,-1369.56 364.9,-1359.56 361.4,-1369.56 368.4,-1369.56\"/>\n",
              "</g>\n",
              "<!-- graph_c8e1 -->\n",
              "<g id=\"node7\" class=\"node\">\n",
              "<title>graph_c8e1</title>\n",
              "<path fill=\"#ff616f\" stroke=\"#000000\" stroke-opacity=\"0.333333\" d=\"M575.05,-1222.8C575.05,-1222.8 154.75,-1222.8 154.75,-1222.8 148.75,-1222.8 142.75,-1216.8 142.75,-1210.8 142.75,-1210.8 142.75,-1129 142.75,-1129 142.75,-1123 148.75,-1117 154.75,-1117 154.75,-1117 575.05,-1117 575.05,-1117 581.05,-1117 587.05,-1123 587.05,-1129 587.05,-1129 587.05,-1210.8 587.05,-1210.8 587.05,-1216.8 581.05,-1222.8 575.05,-1222.8\"/>\n",
              "<text text-anchor=\"start\" x=\"298.9\" y=\"-1198.95\" font-family=\"Red Hat Display,sans-serif\" font-weight=\"bold\" font-size=\"11.00\" fill=\"#000000\" fill-opacity=\"0.733333\">JOIN_0577 size ∈ int[0 910]</text>\n",
              "<text text-anchor=\"start\" x=\"247.15\" y=\"-1187.95\" font-family=\"Red Hat Display,sans-serif\" font-size=\"11.00\" fill=\"#000000\" fill-opacity=\"0.733333\">_PRIVACY_UNIT_ = _LEFT_._PRIVACY_UNIT_ ∈ str</text>\n",
              "<text text-anchor=\"start\" x=\"195.77\" y=\"-1176.95\" font-family=\"Red Hat Display,sans-serif\" font-size=\"11.00\" fill=\"#000000\" fill-opacity=\"0.733333\">_PRIVACY_UNIT_WEIGHT_ = _LEFT_._PRIVACY_UNIT_WEIGHT_ ∈ int{1}</text>\n",
              "<text text-anchor=\"start\" x=\"248.27\" y=\"-1165.95\" font-family=\"Red Hat Display,sans-serif\" font-size=\"11.00\" fill=\"#000000\" fill-opacity=\"0.733333\">field__6vl = _LEFT_.field__6vl ∈ float[2.514 3.907]</text>\n",
              "<text text-anchor=\"start\" x=\"197.65\" y=\"-1154.95\" font-family=\"Red Hat Display,sans-serif\" font-size=\"11.00\" fill=\"#000000\" fill-opacity=\"0.733333\">_SCALE_FACTOR__PRIVACY_UNIT_ = _RIGHT_._PRIVACY_UNIT_ ∈ str</text>\n",
              "<text text-anchor=\"start\" x=\"157.15\" y=\"-1143.95\" font-family=\"Red Hat Display,sans-serif\" font-size=\"11.00\" fill=\"#000000\" fill-opacity=\"0.733333\">_SCALE_FACTOR_field__6vl = _RIGHT_.field__6vl ∈ float[0.00003642821671053823 1]</text>\n",
              "<text text-anchor=\"start\" x=\"205.52\" y=\"-1132.95\" font-family=\"Red Hat Display,sans-serif\" font-size=\"11.00\" fill=\"#000000\" fill-opacity=\"0.733333\">INNER ON (_LEFT_._PRIVACY_UNIT_ = _RIGHT_._PRIVACY_UNIT_)</text>\n",
              "</g>\n",
              "<!-- graph_y6ar&#45;&gt;graph_c8e1 -->\n",
              "<g id=\"edge12\" class=\"edge\">\n",
              "<title>graph_y6ar&#45;&gt;graph_c8e1</title>\n",
              "<path fill=\"none\" stroke=\"#2b303a\" d=\"M364.9,-1251.6C364.9,-1246.07 364.9,-1240.41 364.9,-1234.77\"/>\n",
              "<polygon fill=\"#2b303a\" stroke=\"#2b303a\" points=\"368.4,-1234.8 364.9,-1224.8 361.4,-1234.8 368.4,-1234.8\"/>\n",
              "</g>\n",
              "<!-- graph_jdqk -->\n",
              "<g id=\"node8\" class=\"node\">\n",
              "<title>graph_jdqk</title>\n",
              "<path fill=\"#428e92\" stroke=\"#000000\" stroke-opacity=\"0.333333\" d=\"M456.42,-1088C456.42,-1088 23.38,-1088 23.38,-1088 17.38,-1088 11.37,-1082 11.37,-1076 11.37,-1076 11.37,-1038.2 11.37,-1038.2 11.37,-1032.2 17.37,-1026.2 23.37,-1026.2 23.37,-1026.2 456.42,-1026.2 456.42,-1026.2 462.42,-1026.2 468.42,-1032.2 468.42,-1038.2 468.42,-1038.2 468.42,-1076 468.42,-1076 468.42,-1082 462.42,-1088 456.42,-1088\"/>\n",
              "<text text-anchor=\"start\" x=\"175.4\" y=\"-1064.15\" font-family=\"Red Hat Display,sans-serif\" font-weight=\"bold\" font-size=\"11.00\" fill=\"#000000\" fill-opacity=\"0.733333\">MAP_27UJ size ∈ int[0 910]</text>\n",
              "<text text-anchor=\"start\" x=\"120.65\" y=\"-1053.15\" font-family=\"Red Hat Display,sans-serif\" font-size=\"11.00\" fill=\"#000000\" fill-opacity=\"0.733333\">_PRIVACY_UNIT_ = _PRIVACY_UNIT_ ∈ str UNIQUE</text>\n",
              "<text text-anchor=\"start\" x=\"25.77\" y=\"-1042.15\" font-family=\"Red Hat Display,sans-serif\" font-size=\"11.00\" fill=\"#000000\" fill-opacity=\"0.733333\">field__6vl = (1 / greatest(1, (sqrt(field__6vl) / 3.907))) ∈ float[0.00003642821671053823 1]</text>\n",
              "</g>\n",
              "<!-- graph_c8e1&#45;&gt;graph_jdqk -->\n",
              "<g id=\"edge11\" class=\"edge\">\n",
              "<title>graph_c8e1&#45;&gt;graph_jdqk</title>\n",
              "<path fill=\"none\" stroke=\"#2b303a\" d=\"M306.06,-1116.74C297.97,-1109.57 289.8,-1102.33 282.08,-1095.49\"/>\n",
              "<polygon fill=\"#2b303a\" stroke=\"#2b303a\" points=\"284.86,-1093.28 275.06,-1089.26 280.22,-1098.52 284.86,-1093.28\"/>\n",
              "</g>\n",
              "<!-- graph_1jvj -->\n",
              "<g id=\"node14\" class=\"node\">\n",
              "<title>graph_1jvj</title>\n",
              "<path fill=\"#428e92\" stroke=\"#000000\" stroke-opacity=\"0.333333\" d=\"M612.17,-521.2C612.17,-521.2 159.62,-521.2 159.62,-521.2 153.62,-521.2 147.62,-515.2 147.62,-509.2 147.62,-509.2 147.62,-460.4 147.62,-460.4 147.62,-454.4 153.62,-448.4 159.62,-448.4 159.62,-448.4 612.17,-448.4 612.17,-448.4 618.17,-448.4 624.17,-454.4 624.17,-460.4 624.17,-460.4 624.17,-509.2 624.17,-509.2 624.17,-515.2 618.17,-521.2 612.17,-521.2\"/>\n",
              "<text text-anchor=\"start\" x=\"321.77\" y=\"-497.35\" font-family=\"Red Hat Display,sans-serif\" font-weight=\"bold\" font-size=\"11.00\" fill=\"#000000\" fill-opacity=\"0.733333\">MAP_8359 size ∈ int[0 910]</text>\n",
              "<text text-anchor=\"start\" x=\"162.02\" y=\"-486.35\" font-family=\"Red Hat Display,sans-serif\" font-size=\"11.00\" fill=\"#000000\" fill-opacity=\"0.733333\">_PRIVACY_UNIT_ = coalesce(cast_as_text(_PRIVACY_UNIT_), _PRIVACY_UNIT_DEFAULT_) ∈ str</text>\n",
              "<text text-anchor=\"start\" x=\"205.15\" y=\"-475.35\" font-family=\"Red Hat Display,sans-serif\" font-size=\"11.00\" fill=\"#000000\" fill-opacity=\"0.733333\">_PRIVACY_UNIT_WEIGHT_ = coalesce(_PRIVACY_UNIT_WEIGHT_, 0) ∈ int{1}</text>\n",
              "<text text-anchor=\"start\" x=\"288.4\" y=\"-464.35\" font-family=\"Red Hat Display,sans-serif\" font-size=\"11.00\" fill=\"#000000\" fill-opacity=\"0.733333\">field__6vl = field__6vl ∈ float[2.514 3.907]</text>\n",
              "</g>\n",
              "<!-- graph_c8e1&#45;&gt;graph_1jvj -->\n",
              "<g id=\"edge10\" class=\"edge\">\n",
              "<title>graph_c8e1&#45;&gt;graph_1jvj</title>\n",
              "<path fill=\"none\" stroke=\"#2b303a\" d=\"M452.27,-1116.75C461.43,-1108.17 469.65,-1098.57 475.9,-1088 504.65,-1039.32 491.9,-1018.34 491.9,-961.8 491.9,-961.8 491.9,-961.8 491.9,-676.4 491.9,-620.84 457.07,-566.35 427.35,-529.96\"/>\n",
              "<polygon fill=\"#2b303a\" stroke=\"#2b303a\" points=\"430.39,-528.15 421.29,-522.73 425.02,-532.64 430.39,-528.15\"/>\n",
              "</g>\n",
              "<!-- graph_p83v -->\n",
              "<g id=\"node9\" class=\"node\">\n",
              "<title>graph_p83v</title>\n",
              "<path fill=\"#00363a\" stroke=\"#000000\" stroke-opacity=\"0.333333\" d=\"M371.42,-997.2C371.42,-997.2 106.38,-997.2 106.38,-997.2 100.38,-997.2 94.37,-991.2 94.37,-985.2 94.37,-985.2 94.37,-936.4 94.37,-936.4 94.37,-930.4 100.37,-924.4 106.37,-924.4 106.37,-924.4 371.42,-924.4 371.42,-924.4 377.42,-924.4 383.42,-930.4 383.42,-936.4 383.42,-936.4 383.42,-985.2 383.42,-985.2 383.42,-991.2 377.42,-997.2 371.42,-997.2\"/>\n",
              "<text text-anchor=\"start\" x=\"164.65\" y=\"-973.35\" font-family=\"Red Hat Display,sans-serif\" font-weight=\"bold\" font-size=\"11.00\" fill=\"#ffffff\" fill-opacity=\"0.733333\">REDUCE_EU18 size ∈ int[0 910]</text>\n",
              "<text text-anchor=\"start\" x=\"123.77\" y=\"-962.35\" font-family=\"Red Hat Display,sans-serif\" font-size=\"11.00\" fill=\"#ffffff\" fill-opacity=\"0.733333\">_PRIVACY_UNIT_ = first(field_grep) ∈ str UNIQUE</text>\n",
              "<text text-anchor=\"start\" x=\"108.77\" y=\"-951.35\" font-family=\"Red Hat Display,sans-serif\" font-size=\"11.00\" fill=\"#ffffff\" fill-opacity=\"0.733333\">field__6vl = sum(field_czvy) ∈ float[0 11502996811.579]</text>\n",
              "<text text-anchor=\"start\" x=\"183.02\" y=\"-940.35\" font-family=\"Red Hat Display,sans-serif\" font-size=\"11.00\" fill=\"#ffffff\" fill-opacity=\"0.733333\">GROUP BY (field_grep)</text>\n",
              "</g>\n",
              "<!-- graph_jdqk&#45;&gt;graph_p83v -->\n",
              "<g id=\"edge9\" class=\"edge\">\n",
              "<title>graph_jdqk&#45;&gt;graph_p83v</title>\n",
              "<path fill=\"none\" stroke=\"#2b303a\" d=\"M239.58,-1025.74C239.52,-1020.44 239.46,-1014.8 239.4,-1009.17\"/>\n",
              "<polygon fill=\"#2b303a\" stroke=\"#2b303a\" points=\"242.9,-1009.17 239.3,-999.21 235.9,-1009.24 242.9,-1009.17\"/>\n",
              "</g>\n",
              "<!-- graph_og3t -->\n",
              "<g id=\"node10\" class=\"node\">\n",
              "<title>graph_og3t</title>\n",
              "<path fill=\"#428e92\" stroke=\"#000000\" stroke-opacity=\"0.333333\" d=\"M374.05,-895.4C374.05,-895.4 97.75,-895.4 97.75,-895.4 91.75,-895.4 85.75,-889.4 85.75,-883.4 85.75,-883.4 85.75,-845.6 85.75,-845.6 85.75,-839.6 91.75,-833.6 97.75,-833.6 97.75,-833.6 374.05,-833.6 374.05,-833.6 380.05,-833.6 386.05,-839.6 386.05,-845.6 386.05,-845.6 386.05,-883.4 386.05,-883.4 386.05,-889.4 380.05,-895.4 374.05,-895.4\"/>\n",
              "<text text-anchor=\"start\" x=\"169.9\" y=\"-871.55\" font-family=\"Red Hat Display,sans-serif\" font-weight=\"bold\" font-size=\"11.00\" fill=\"#000000\" fill-opacity=\"0.733333\">MAP_MLF9 size ∈ int[0 910]</text>\n",
              "<text text-anchor=\"start\" x=\"100.15\" y=\"-860.55\" font-family=\"Red Hat Display,sans-serif\" font-size=\"11.00\" fill=\"#000000\" fill-opacity=\"0.733333\">field_czvy = _NORM_field__6vl ∈ float[0 12640655.8369]</text>\n",
              "<text text-anchor=\"start\" x=\"133.9\" y=\"-849.55\" font-family=\"Red Hat Display,sans-serif\" font-size=\"11.00\" fill=\"#000000\" fill-opacity=\"0.733333\">field_grep = _PRIVACY_UNIT_ ∈ str UNIQUE</text>\n",
              "</g>\n",
              "<!-- graph_p83v&#45;&gt;graph_og3t -->\n",
              "<g id=\"edge8\" class=\"edge\">\n",
              "<title>graph_p83v&#45;&gt;graph_og3t</title>\n",
              "<path fill=\"none\" stroke=\"#2b303a\" d=\"M237.77,-924.15C237.59,-918.57 237.4,-912.77 237.22,-907.08\"/>\n",
              "<polygon fill=\"#2b303a\" stroke=\"#2b303a\" points=\"240.72,-907.05 236.91,-897.17 233.73,-907.28 240.72,-907.05\"/>\n",
              "</g>\n",
              "<!-- graph_si52 -->\n",
              "<g id=\"node11\" class=\"node\">\n",
              "<title>graph_si52</title>\n",
              "<path fill=\"#428e92\" stroke=\"#000000\" stroke-opacity=\"0.333333\" d=\"M457.8,-804.6C457.8,-804.6 12,-804.6 12,-804.6 6,-804.6 0,-798.6 0,-792.6 0,-792.6 0,-754.8 0,-754.8 0,-748.8 6,-742.8 12,-742.8 12,-742.8 457.8,-742.8 457.8,-742.8 463.8,-742.8 469.8,-748.8 469.8,-754.8 469.8,-754.8 469.8,-792.6 469.8,-792.6 469.8,-798.6 463.8,-804.6 457.8,-804.6\"/>\n",
              "<text text-anchor=\"start\" x=\"169.27\" y=\"-780.75\" font-family=\"Red Hat Display,sans-serif\" font-weight=\"bold\" font-size=\"11.00\" fill=\"#000000\" fill-opacity=\"0.733333\">MAP_0604 size ∈ int[0 910]</text>\n",
              "<text text-anchor=\"start\" x=\"115.65\" y=\"-769.75\" font-family=\"Red Hat Display,sans-serif\" font-size=\"11.00\" fill=\"#000000\" fill-opacity=\"0.733333\">_PRIVACY_UNIT_ = _PRIVACY_UNIT_ ∈ str UNIQUE</text>\n",
              "<text text-anchor=\"start\" x=\"14.4\" y=\"-758.75\" font-family=\"Red Hat Display,sans-serif\" font-size=\"11.00\" fill=\"#000000\" fill-opacity=\"0.733333\">_NORM_field__6vl = abs((_NORM_field__6vl * _NORM_field__6vl)) ∈ float[0 12640655.8369]</text>\n",
              "</g>\n",
              "<!-- graph_og3t&#45;&gt;graph_si52 -->\n",
              "<g id=\"edge7\" class=\"edge\">\n",
              "<title>graph_og3t&#45;&gt;graph_si52</title>\n",
              "<path fill=\"none\" stroke=\"#2b303a\" d=\"M235.56,-833.44C235.5,-828 235.44,-822.24 235.37,-816.54\"/>\n",
              "<polygon fill=\"#2b303a\" stroke=\"#2b303a\" points=\"238.87,-816.51 235.26,-806.55 231.87,-816.59 238.87,-816.51\"/>\n",
              "</g>\n",
              "<!-- graph_3c8k -->\n",
              "<g id=\"node12\" class=\"node\">\n",
              "<title>graph_3c8k</title>\n",
              "<path fill=\"#00363a\" stroke=\"#000000\" stroke-opacity=\"0.333333\" d=\"M414.3,-713.8C414.3,-713.8 145.5,-713.8 145.5,-713.8 139.5,-713.8 133.5,-707.8 133.5,-701.8 133.5,-701.8 133.5,-653 133.5,-653 133.5,-647 139.5,-641 145.5,-641 145.5,-641 414.3,-641 414.3,-641 420.3,-641 426.3,-647 426.3,-653 426.3,-653 426.3,-701.8 426.3,-701.8 426.3,-707.8 420.3,-713.8 414.3,-713.8\"/>\n",
              "<text text-anchor=\"start\" x=\"204.9\" y=\"-689.95\" font-family=\"Red Hat Display,sans-serif\" font-weight=\"bold\" font-size=\"11.00\" fill=\"#ffffff\" fill-opacity=\"0.733333\">REDUCE_945R size ∈ int[0 910]</text>\n",
              "<text text-anchor=\"start\" x=\"164.77\" y=\"-678.95\" font-family=\"Red Hat Display,sans-serif\" font-size=\"11.00\" fill=\"#ffffff\" fill-opacity=\"0.733333\">_PRIVACY_UNIT_ = first(field_grep) ∈ str UNIQUE</text>\n",
              "<text text-anchor=\"start\" x=\"147.9\" y=\"-667.95\" font-family=\"Red Hat Display,sans-serif\" font-size=\"11.00\" fill=\"#ffffff\" fill-opacity=\"0.733333\">_NORM_field__6vl = sum(field_3d25) ∈ float[0 3555.37]</text>\n",
              "<text text-anchor=\"start\" x=\"224.02\" y=\"-656.95\" font-family=\"Red Hat Display,sans-serif\" font-size=\"11.00\" fill=\"#ffffff\" fill-opacity=\"0.733333\">GROUP BY (field_grep)</text>\n",
              "</g>\n",
              "<!-- graph_si52&#45;&gt;graph_3c8k -->\n",
              "<g id=\"edge6\" class=\"edge\">\n",
              "<title>graph_si52&#45;&gt;graph_3c8k</title>\n",
              "<path fill=\"none\" stroke=\"#2b303a\" d=\"M249.39,-742.34C252.12,-736.62 255.03,-730.51 257.93,-724.43\"/>\n",
              "<polygon fill=\"#2b303a\" stroke=\"#2b303a\" points=\"260.97,-726.19 262.12,-715.66 254.65,-723.18 260.97,-726.19\"/>\n",
              "</g>\n",
              "<!-- graph_e847 -->\n",
              "<g id=\"node13\" class=\"node\">\n",
              "<title>graph_e847</title>\n",
              "<path fill=\"#428e92\" stroke=\"#000000\" stroke-opacity=\"0.333333\" d=\"M420.05,-612C420.05,-612 215.75,-612 215.75,-612 209.75,-612 203.75,-606 203.75,-600 203.75,-600 203.75,-562.2 203.75,-562.2 203.75,-556.2 209.75,-550.2 215.75,-550.2 215.75,-550.2 420.05,-550.2 420.05,-550.2 426.05,-550.2 432.05,-556.2 432.05,-562.2 432.05,-562.2 432.05,-600 432.05,-600 432.05,-606 426.05,-612 420.05,-612\"/>\n",
              "<text text-anchor=\"start\" x=\"253.4\" y=\"-588.15\" font-family=\"Red Hat Display,sans-serif\" font-weight=\"bold\" font-size=\"11.00\" fill=\"#000000\" fill-opacity=\"0.733333\">MAP_S093 size ∈ int[0 910]</text>\n",
              "<text text-anchor=\"start\" x=\"218.15\" y=\"-577.15\" font-family=\"Red Hat Display,sans-serif\" font-size=\"11.00\" fill=\"#000000\" fill-opacity=\"0.733333\">field_3d25 = field__6vl ∈ float[2.514 3.907]</text>\n",
              "<text text-anchor=\"start\" x=\"237.27\" y=\"-566.15\" font-family=\"Red Hat Display,sans-serif\" font-size=\"11.00\" fill=\"#000000\" fill-opacity=\"0.733333\">field_grep = _PRIVACY_UNIT_ ∈ str</text>\n",
              "</g>\n",
              "<!-- graph_3c8k&#45;&gt;graph_e847 -->\n",
              "<g id=\"edge5\" class=\"edge\">\n",
              "<title>graph_3c8k&#45;&gt;graph_e847</title>\n",
              "<path fill=\"none\" stroke=\"#2b303a\" d=\"M294.27,-640.75C296.63,-634.88 299.1,-628.76 301.51,-622.78\"/>\n",
              "<polygon fill=\"#2b303a\" stroke=\"#2b303a\" points=\"304.69,-624.24 305.18,-613.66 298.2,-621.63 304.69,-624.24\"/>\n",
              "</g>\n",
              "<!-- graph_e847&#45;&gt;graph_1jvj -->\n",
              "<g id=\"edge4\" class=\"edge\">\n",
              "<title>graph_e847&#45;&gt;graph_1jvj</title>\n",
              "<path fill=\"none\" stroke=\"#2b303a\" d=\"M339.79,-549.74C344.12,-543.74 348.75,-537.32 353.35,-530.94\"/>\n",
              "<polygon fill=\"#2b303a\" stroke=\"#2b303a\" points=\"356.12,-533.08 359.13,-522.92 350.44,-528.98 356.12,-533.08\"/>\n",
              "</g>\n",
              "<!-- graph_6rge -->\n",
              "<g id=\"node15\" class=\"node\">\n",
              "<title>graph_6rge</title>\n",
              "<path fill=\"#428e92\" stroke=\"#000000\" stroke-opacity=\"0.333333\" d=\"M537.55,-419.4C537.55,-419.4 234.25,-419.4 234.25,-419.4 228.25,-419.4 222.25,-413.4 222.25,-407.4 222.25,-407.4 222.25,-347.6 222.25,-347.6 222.25,-341.6 228.25,-335.6 234.25,-335.6 234.25,-335.6 537.55,-335.6 537.55,-335.6 543.55,-335.6 549.55,-341.6 549.55,-347.6 549.55,-347.6 549.55,-407.4 549.55,-407.4 549.55,-413.4 543.55,-419.4 537.55,-419.4\"/>\n",
              "<text text-anchor=\"start\" x=\"322.15\" y=\"-395.55\" font-family=\"Red Hat Display,sans-serif\" font-weight=\"bold\" font-size=\"11.00\" fill=\"#000000\" fill-opacity=\"0.733333\">MAP__DAY size ∈ int[0 910]</text>\n",
              "<text text-anchor=\"start\" x=\"288.02\" y=\"-384.55\" font-family=\"Red Hat Display,sans-serif\" font-size=\"11.00\" fill=\"#000000\" fill-opacity=\"0.733333\">_PRIVACY_UNIT_ = _PRIVACY_UNIT_ ∈ str</text>\n",
              "<text text-anchor=\"start\" x=\"236.65\" y=\"-373.55\" font-family=\"Red Hat Display,sans-serif\" font-size=\"11.00\" fill=\"#000000\" fill-opacity=\"0.733333\">_PRIVACY_UNIT_WEIGHT_ = _PRIVACY_UNIT_WEIGHT_ ∈ int{1}</text>\n",
              "<text text-anchor=\"start\" x=\"287.27\" y=\"-362.55\" font-family=\"Red Hat Display,sans-serif\" font-size=\"11.00\" fill=\"#000000\" fill-opacity=\"0.733333\">field__6vl = fuel_price ∈ float[2.514 3.907]</text>\n",
              "<text text-anchor=\"start\" x=\"257.27\" y=\"-351.55\" font-family=\"Red Hat Display,sans-serif\" font-size=\"11.00\" fill=\"#000000\" fill-opacity=\"0.733333\">WHERE ((fuel_price &gt; 2.514) and (fuel_price &lt; 3.907))</text>\n",
              "</g>\n",
              "<!-- graph_1jvj&#45;&gt;graph_6rge -->\n",
              "<g id=\"edge3\" class=\"edge\">\n",
              "<title>graph_1jvj&#45;&gt;graph_6rge</title>\n",
              "<path fill=\"none\" stroke=\"#2b303a\" d=\"M385.9,-448.15C385.9,-442.55 385.9,-436.66 385.9,-430.78\"/>\n",
              "<polygon fill=\"#2b303a\" stroke=\"#2b303a\" points=\"389.4,-431.07 385.9,-421.07 382.4,-431.07 389.4,-431.07\"/>\n",
              "</g>\n",
              "<!-- graph_3hh7 -->\n",
              "<g id=\"node16\" class=\"node\">\n",
              "<title>graph_3hh7</title>\n",
              "<path fill=\"#428e92\" stroke=\"#000000\" stroke-opacity=\"0.333333\" d=\"M556.3,-306.6C556.3,-306.6 215.5,-306.6 215.5,-306.6 209.5,-306.6 203.5,-300.6 203.5,-294.6 203.5,-294.6 203.5,-168.8 203.5,-168.8 203.5,-162.8 209.5,-156.8 215.5,-156.8 215.5,-156.8 556.3,-156.8 556.3,-156.8 562.3,-156.8 568.3,-162.8 568.3,-168.8 568.3,-168.8 568.3,-294.6 568.3,-294.6 568.3,-300.6 562.3,-306.6 556.3,-306.6\"/>\n",
              "<text text-anchor=\"start\" x=\"321.02\" y=\"-282.75\" font-family=\"Red Hat Display,sans-serif\" font-weight=\"bold\" font-size=\"11.00\" fill=\"#000000\" fill-opacity=\"0.733333\">MAP_TR99 size ∈ int[0 910]</text>\n",
              "<text text-anchor=\"start\" x=\"276.4\" y=\"-271.75\" font-family=\"Red Hat Display,sans-serif\" font-size=\"11.00\" fill=\"#000000\" fill-opacity=\"0.733333\">_PRIVACY_UNIT_ = md5(cast_as_text(id)) ∈ str</text>\n",
              "<text text-anchor=\"start\" x=\"298.9\" y=\"-260.75\" font-family=\"Red Hat Display,sans-serif\" font-size=\"11.00\" fill=\"#000000\" fill-opacity=\"0.733333\">_PRIVACY_UNIT_WEIGHT_ = 1 ∈ int{1}</text>\n",
              "<text text-anchor=\"start\" x=\"360.77\" y=\"-249.75\" font-family=\"Red Hat Display,sans-serif\" font-size=\"11.00\" fill=\"#000000\" fill-opacity=\"0.733333\">id = id ∈ str</text>\n",
              "<text text-anchor=\"start\" x=\"317.27\" y=\"-238.75\" font-family=\"Red Hat Display,sans-serif\" font-size=\"11.00\" fill=\"#000000\" fill-opacity=\"0.733333\">store = store ∈ str{1, 2, 3, 4, 5}</text>\n",
              "<text text-anchor=\"start\" x=\"217.9\" y=\"-227.75\" font-family=\"Red Hat Display,sans-serif\" font-size=\"11.00\" fill=\"#000000\" fill-opacity=\"0.733333\">date = date ∈ datetime[2010&#45;02&#45;05 00:00:00 2013&#45;07&#45;26 00:00:00]</text>\n",
              "<text text-anchor=\"start\" x=\"273.77\" y=\"-216.75\" font-family=\"Red Hat Display,sans-serif\" font-size=\"11.00\" fill=\"#000000\" fill-opacity=\"0.733333\">temperature = temperature ∈ float[28.84 93.34]</text>\n",
              "<text text-anchor=\"start\" x=\"286.15\" y=\"-205.75\" font-family=\"Red Hat Display,sans-serif\" font-size=\"11.00\" fill=\"#000000\" fill-opacity=\"0.733333\">fuel_price = fuel_price ∈ float[2.514 3.907]</text>\n",
              "<text text-anchor=\"start\" x=\"293.65\" y=\"-194.75\" font-family=\"Red Hat Display,sans-serif\" font-size=\"11.00\" fill=\"#000000\" fill-opacity=\"0.733333\">cpi = cpi ∈ float[126.064 228.7298638]</text>\n",
              "<text text-anchor=\"start\" x=\"262.15\" y=\"-183.75\" font-family=\"Red Hat Display,sans-serif\" font-size=\"11.00\" fill=\"#000000\" fill-opacity=\"0.733333\">unemployment = unemployment ∈ float[3.879 8.623]</text>\n",
              "<text text-anchor=\"start\" x=\"323.65\" y=\"-172.75\" font-family=\"Red Hat Display,sans-serif\" font-size=\"11.00\" fill=\"#000000\" fill-opacity=\"0.733333\">isholiday = isholiday ∈ bool</text>\n",
              "</g>\n",
              "<!-- graph_6rge&#45;&gt;graph_3hh7 -->\n",
              "<g id=\"edge2\" class=\"edge\">\n",
              "<title>graph_6rge&#45;&gt;graph_3hh7</title>\n",
              "<path fill=\"none\" stroke=\"#2b303a\" d=\"M385.9,-335.29C385.9,-329.88 385.9,-324.18 385.9,-318.36\"/>\n",
              "<polygon fill=\"#2b303a\" stroke=\"#2b303a\" points=\"389.4,-318.57 385.9,-308.57 382.4,-318.57 389.4,-318.57\"/>\n",
              "</g>\n",
              "<!-- graph_pv7m -->\n",
              "<g id=\"node17\" class=\"node\">\n",
              "<title>graph_pv7m</title>\n",
              "<path fill=\"#ff1744\" stroke=\"#000000\" stroke-opacity=\"0.333333\" d=\"M556.3,-127.8C556.3,-127.8 215.5,-127.8 215.5,-127.8 209.5,-127.8 203.5,-121.8 203.5,-115.8 203.5,-115.8 203.5,-12 203.5,-12 203.5,-6 209.5,0 215.5,0 215.5,0 556.3,0 556.3,0 562.3,0 568.3,-6 568.3,-12 568.3,-12 568.3,-115.8 568.3,-115.8 568.3,-121.8 562.3,-127.8 556.3,-127.8\"/>\n",
              "<text text-anchor=\"start\" x=\"306.02\" y=\"-103.95\" font-family=\"Red Hat Display,sans-serif\" font-weight=\"bold\" font-size=\"11.00\" fill=\"#ffffff\" fill-opacity=\"0.733333\">RETAIL_FEATURES size ∈ int{910}</text>\n",
              "<text text-anchor=\"start\" x=\"360.77\" y=\"-92.95\" font-family=\"Red Hat Display,sans-serif\" font-size=\"11.00\" fill=\"#ffffff\" fill-opacity=\"0.733333\">id = id ∈ str</text>\n",
              "<text text-anchor=\"start\" x=\"317.27\" y=\"-81.95\" font-family=\"Red Hat Display,sans-serif\" font-size=\"11.00\" fill=\"#ffffff\" fill-opacity=\"0.733333\">store = store ∈ str{1, 2, 3, 4, 5}</text>\n",
              "<text text-anchor=\"start\" x=\"217.9\" y=\"-70.95\" font-family=\"Red Hat Display,sans-serif\" font-size=\"11.00\" fill=\"#ffffff\" fill-opacity=\"0.733333\">date = date ∈ datetime[2010&#45;02&#45;05 00:00:00 2013&#45;07&#45;26 00:00:00]</text>\n",
              "<text text-anchor=\"start\" x=\"273.77\" y=\"-59.95\" font-family=\"Red Hat Display,sans-serif\" font-size=\"11.00\" fill=\"#ffffff\" fill-opacity=\"0.733333\">temperature = temperature ∈ float[28.84 93.34]</text>\n",
              "<text text-anchor=\"start\" x=\"286.15\" y=\"-48.95\" font-family=\"Red Hat Display,sans-serif\" font-size=\"11.00\" fill=\"#ffffff\" fill-opacity=\"0.733333\">fuel_price = fuel_price ∈ float[2.514 3.907]</text>\n",
              "<text text-anchor=\"start\" x=\"293.65\" y=\"-37.95\" font-family=\"Red Hat Display,sans-serif\" font-size=\"11.00\" fill=\"#ffffff\" fill-opacity=\"0.733333\">cpi = cpi ∈ float[126.064 228.7298638]</text>\n",
              "<text text-anchor=\"start\" x=\"262.15\" y=\"-26.95\" font-family=\"Red Hat Display,sans-serif\" font-size=\"11.00\" fill=\"#ffffff\" fill-opacity=\"0.733333\">unemployment = unemployment ∈ float[3.879 8.623]</text>\n",
              "<text text-anchor=\"start\" x=\"323.65\" y=\"-15.95\" font-family=\"Red Hat Display,sans-serif\" font-size=\"11.00\" fill=\"#ffffff\" fill-opacity=\"0.733333\">isholiday = isholiday ∈ bool</text>\n",
              "</g>\n",
              "<!-- graph_3hh7&#45;&gt;graph_pv7m -->\n",
              "<g id=\"edge1\" class=\"edge\">\n",
              "<title>graph_3hh7&#45;&gt;graph_pv7m</title>\n",
              "<path fill=\"none\" stroke=\"#2b303a\" d=\"M385.9,-156.53C385.9,-150.9 385.9,-145.21 385.9,-139.58\"/>\n",
              "<polygon fill=\"#2b303a\" stroke=\"#2b303a\" points=\"389.4,-139.63 385.9,-129.63 382.4,-139.63 389.4,-139.63\"/>\n",
              "</g>\n",
              "</g>\n",
              "</svg>\n"
            ],
            "text/plain": [
              "<graphviz.sources.Source at 0x1045edee0>"
            ]
          },
          "metadata": {},
          "output_type": "display_data"
        }
      ],
      "source": [
        "display(graphviz.Source(dp_relation.dot()))"
      ]
    },
    {
      "cell_type": "markdown",
      "id": "e254bca1",
      "metadata": {
        "id": "e254bca1"
      },
      "source": [
        "The `Relation` can be translated into an SQL query:"
      ]
    },
    {
      "cell_type": "code",
      "execution_count": 15,
      "id": "e17064c4",
      "metadata": {
        "colab": {
          "base_uri": "https://localhost:8080/"
        },
        "id": "e17064c4",
        "outputId": "6bac341d-6288-4f57-82bd-b20fa482b223"
      },
      "outputs": [
        {
          "name": "stdout",
          "output_type": "stream",
          "text": [
            "\u001b[34mWITH\u001b[0m\n",
            "  map_tr99 (_PRIVACY_UNIT_, _PRIVACY_UNIT_WEIGHT_, id, store, date, temperature, fuel_price, cpi, unemployment, isholiday) \u001b[35mAS\u001b[0m (\u001b[35mSELECT\u001b[0m MD5(C\u001b[35mAS\u001b[0mT(id \u001b[35mAS\u001b[0m TEXT)) \u001b[35mAS\u001b[0m _PRIVACY_UNIT_, 1 \u001b[35mAS\u001b[0m _PRIVACY_UNIT_WEIGHT_, id \u001b[35mAS\u001b[0m id, store \u001b[35mAS\u001b[0m store, date \u001b[35mAS\u001b[0m date, temperature \u001b[35mAS\u001b[0m temperature, fuel_price \u001b[35mAS\u001b[0m fuel_price, cpi \u001b[35mAS\u001b[0m cpi, unemployment \u001b[35mAS\u001b[0m unemployment, isholiday \u001b[35mAS\u001b[0m isholiday FROM retail.features),\n",
            "  map__day (_PRIVACY_UNIT_, _PRIVACY_UNIT_WEIGHT_, field__6vl) \u001b[35mAS\u001b[0m (\u001b[35mSELECT\u001b[0m _PRIVACY_UNIT_ \u001b[35mAS\u001b[0m _PRIVACY_UNIT_, _PRIVACY_UNIT_WEIGHT_ \u001b[35mAS\u001b[0m _PRIVACY_UNIT_WEIGHT_, fuel_price \u001b[35mAS\u001b[0m field__6vl FROM map_tr99 \u001b[35mWHERE\u001b[0m ((fuel_price) > (2.514)) AND ((fuel_price) < (3.907))),\n",
            "  map_8359 (_PRIVACY_UNIT_, _PRIVACY_UNIT_WEIGHT_, field__6vl) \u001b[35mAS\u001b[0m (\u001b[35mSELECT\u001b[0m COALESCE(C\u001b[35mAS\u001b[0mT(_PRIVACY_UNIT_ \u001b[35mAS\u001b[0m TEXT),\n",
            "  '_PRIVACY_UNIT_DEFAULT_') \u001b[35mAS\u001b[0m _PRIVACY_UNIT_, COALESCE(_PRIVACY_UNIT_WEIGHT_, 0) \u001b[35mAS\u001b[0m _PRIVACY_UNIT_WEIGHT_, field__6vl \u001b[35mAS\u001b[0m field__6vl FROM map__day),\n",
            "  map_s093 (field_3d25, field_grep) \u001b[35mAS\u001b[0m (\u001b[35mSELECT\u001b[0m field__6vl \u001b[35mAS\u001b[0m field_3d25, _PRIVACY_UNIT_ \u001b[35mAS\u001b[0m field_grep FROM map_8359),\n",
            "  reduce_945r (_PRIVACY_UNIT_, _NORM_field__6vl) \u001b[35mAS\u001b[0m (\u001b[35mSELECT\u001b[0m field_grep \u001b[35mAS\u001b[0m _PRIVACY_UNIT_, SUM(field_3d25) \u001b[35mAS\u001b[0m _NORM_field__6vl FROM map_s093 \u001b[35mGROUP BY\u001b[0m field_grep),\n",
            "  map_0604 (_PRIVACY_UNIT_, _NORM_field__6vl) \u001b[35mAS\u001b[0m (\u001b[35mSELECT\u001b[0m _PRIVACY_UNIT_ \u001b[35mAS\u001b[0m _PRIVACY_UNIT_, ABS((_NORM_field__6vl) * (_NORM_field__6vl)) \u001b[35mAS\u001b[0m _NORM_field__6vl FROM reduce_945r),\n",
            "  map_mlf9 (field_czvy, field_grep) \u001b[35mAS\u001b[0m (\u001b[35mSELECT\u001b[0m _NORM_field__6vl \u001b[35mAS\u001b[0m field_czvy, _PRIVACY_UNIT_ \u001b[35mAS\u001b[0m field_grep FROM map_0604),\n",
            "  reduce_eu18 (_PRIVACY_UNIT_, field__6vl) \u001b[35mAS\u001b[0m (\u001b[35mSELECT\u001b[0m field_grep \u001b[35mAS\u001b[0m _PRIVACY_UNIT_, SUM(field_czvy) \u001b[35mAS\u001b[0m field__6vl FROM map_mlf9 \u001b[35mGROUP BY\u001b[0m field_grep),\n",
            "  map_27uj (_PRIVACY_UNIT_, field__6vl) \u001b[35mAS\u001b[0m (\u001b[35mSELECT\u001b[0m _PRIVACY_UNIT_ \u001b[35mAS\u001b[0m _PRIVACY_UNIT_, (1) / (GREATEST(1, (SQRT(field__6vl)) / (3.907))) \u001b[35mAS\u001b[0m field__6vl FROM reduce_eu18),\n",
            "  join_0577 (_PRIVACY_UNIT_, _PRIVACY_UNIT_WEIGHT_, field__6vl, _SCALE_FACTOR__PRIVACY_UNIT_, _SCALE_FACTOR_field__6vl) \u001b[35mAS\u001b[0m (\u001b[35mSELECT\u001b[0m * FROM map_8359 \u001b[35mAS\u001b[0m _LEFT_ JOIN map_27uj \u001b[35mAS\u001b[0m _RIGHT_ ON (_LEFT_._PRIVACY_UNIT_) = (_RIGHT_._PRIVACY_UNIT_)),\n",
            "  map_702e (_PRIVACY_UNIT_, _PRIVACY_UNIT_WEIGHT_, field__6vl, _SCALE_FACTOR__PRIVACY_UNIT_, _SCALE_FACTOR_field__6vl, _CLIPPED_field__6vl) \u001b[35mAS\u001b[0m (\u001b[35mSELECT\u001b[0m _PRIVACY_UNIT_ \u001b[35mAS\u001b[0m _PRIVACY_UNIT_, _PRIVACY_UNIT_WEIGHT_ \u001b[35mAS\u001b[0m _PRIVACY_UNIT_WEIGHT_, field__6vl \u001b[35mAS\u001b[0m field__6vl, _SCALE_FACTOR__PRIVACY_UNIT_ \u001b[35mAS\u001b[0m _SCALE_FACTOR__PRIVACY_UNIT_, _SCALE_FACTOR_field__6vl \u001b[35mAS\u001b[0m _SCALE_FACTOR_field__6vl, (field__6vl) * (_SCALE_FACTOR_field__6vl) \u001b[35mAS\u001b[0m _CLIPPED_field__6vl FROM join_0577),\n",
            "  map_z0mi (field_q9u_) \u001b[35mAS\u001b[0m (\u001b[35mSELECT\u001b[0m _CLIPPED_field__6vl \u001b[35mAS\u001b[0m field_q9u_ FROM map_702e),\n",
            "  reduce_c_an (_SUM_field__6vl) \u001b[35mAS\u001b[0m (\u001b[35mSELECT\u001b[0m SUM(field_q9u_) \u001b[35mAS\u001b[0m _SUM_field__6vl FROM map_z0mi),\n",
            "  map_myms (_SUM_field__6vl) \u001b[35mAS\u001b[0m (\u001b[35mSELECT\u001b[0m LE\u001b[35mAS\u001b[0mT(3555.37, GREATEST(0, (COALESCE(_SUM_field__6vl, 0)) + ((15.455181404019267) * ((SQRT((-2) * (LN(RANDOM())))) * (COS((6.283185307179586) * (RANDOM()))))))) \u001b[35mAS\u001b[0m _SUM_field__6vl FROM reduce_c_an),\n",
            "  map_spaz (my_sum) \u001b[35mAS\u001b[0m (\u001b[35mSELECT\u001b[0m _SUM_field__6vl \u001b[35mAS\u001b[0m my_sum FROM map_myms),\n",
            "  map_v4l3 (my_sum) \u001b[35mAS\u001b[0m (\u001b[35mSELECT\u001b[0m my_sum \u001b[35mAS\u001b[0m my_sum FROM map_spaz)\n",
            "\u001b[35mSELECT\u001b[0m * FROM map_v4l3\n"
          ]
        }
      ],
      "source": [
        "MAGENTA_COLOR = '\\033[35m'\n",
        "BLUE_COLOR = '\\033[34m'\n",
        "RESET_COLOR = '\\033[0m'\n",
        "\n",
        "def print_query(query: str):\n",
        "    keywords = [\"SELECT\", \"AS\", \"GROUP BY\", \"LIMIT\", \"ORDER BY\", \"WHERE\"]\n",
        "    colored_query = query\n",
        "    colored_query = colored_query.replace(\"WITH\", \"WITH\\n \")\n",
        "    colored_query = colored_query.replace(\" SELECT\", \"\\nSELECT\")\n",
        "    colored_query = colored_query.replace(\"),\", \"),\\n \")\n",
        "    for word in keywords:\n",
        "        colored_query = colored_query.replace(word, MAGENTA_COLOR + word + RESET_COLOR)\n",
        "    colored_query = colored_query.replace(\"WITH\", BLUE_COLOR + \"WITH\" + RESET_COLOR)\n",
        "    print(colored_query)\n",
        "\n",
        "\n",
        "dp_query = dp_relation.render()\n",
        "print_query(dp_query)"
      ]
    },
    {
      "cell_type": "markdown",
      "id": "f626ef40",
      "metadata": {
        "id": "f626ef40"
      },
      "source": [
        "Then the query is sent to the databqe:"
      ]
    },
    {
      "cell_type": "code",
      "execution_count": 16,
      "id": "30d8afd9",
      "metadata": {
        "colab": {
          "base_uri": "https://localhost:8080/"
        },
        "id": "30d8afd9",
        "outputId": "b635f93b-89af-4775-a179-b277511264b9"
      },
      "outputs": [
        {
          "name": "stdout",
          "output_type": "stream",
          "text": [
            "Initial query: 2939.4329999999995\n",
            "DP query:      2955.9822748385977\n"
          ]
        }
      ],
      "source": [
        "import pandas as pd\n",
        "true_res = pd.read_sql(query, database.engine())\n",
        "dp_res = pd.read_sql(dp_query, database.engine())\n",
        "\n",
        "print(f\"Initial query: {true_res.iloc[0].iloc[0]}\")\n",
        "print(\"DP query:     \", dp_res[\"my_sum\"][0])"
      ]
    },
    {
      "cell_type": "markdown",
      "id": "c4b5c4ac",
      "metadata": {
        "id": "c4b5c4ac"
      },
      "source": [
        "We can sent the DP query multiple times wo see the variantions among the results:"
      ]
    },
    {
      "cell_type": "code",
      "execution_count": 17,
      "id": "a3cc993b",
      "metadata": {
        "id": "a3cc993b"
      },
      "outputs": [],
      "source": [
        "N_RUNS = 300\n",
        "\n",
        "def run(dataset, query, epsilons):\n",
        "    data = {}\n",
        "    privacy_unit = [\n",
        "        (\"stores\", [(\"store\", \"features\", \"store\")], \"id\"),\n",
        "        (\"features\", [], \"id\"),\n",
        "        (\"sales\", [], \"id\")\n",
        "    ]\n",
        "    synthetic_data = None\n",
        "\n",
        "    delta  = 1e-3\n",
        "    relation = dataset.sql(query)\n",
        "\n",
        "    for epsilon in epsilons:\n",
        "        budget = {\"epsilon\": epsilon, \"delta\": delta}\n",
        "        rel_with_pq = relation.rewrite_with_differential_privacy(\n",
        "            dataset=dataset,\n",
        "            privacy_unit=privacy_unit,\n",
        "            epsilon_delta=budget,\n",
        "            synthetic_data=synthetic_data,\n",
        "        )\n",
        "        dp_query = rel_with_pq.relation().render()\n",
        "        data[epsilon] = [\n",
        "            pd.read_sql(dp_query, database.engine())[\"my_sum\"][0] for _ in range(N_RUNS)\n",
        "        ]\n",
        "    return data"
      ]
    },
    {
      "cell_type": "code",
      "execution_count": 18,
      "id": "66b29b60",
      "metadata": {
        "id": "66b29b60"
      },
      "outputs": [],
      "source": [
        "true_value = pd.read_sql(query, database.engine())[\"my_sum\"][0]\n",
        "data = run(dataset, query, [0.5, 1., 5.])"
      ]
    },
    {
      "cell_type": "code",
      "execution_count": 19,
      "id": "d3762dcc",
      "metadata": {},
      "outputs": [
        {
          "name": "stdout",
          "output_type": "stream",
          "text": [
            "SELECT SUM(fuel_price) AS my_sum FROM retail.features WHERE fuel_price > 2.514 AND fuel_price < 3.907\n"
          ]
        }
      ],
      "source": [
        "print(query)"
      ]
    },
    {
      "cell_type": "code",
      "execution_count": 20,
      "id": "c698def3",
      "metadata": {
        "id": "c698def3"
      },
      "outputs": [],
      "source": [
        "import matplotlib.pyplot as plt\n",
        "import matplotlib as mpl\n",
        "mpl.rcParams['text.usetex'] = False\n",
        "\n",
        "def plot_hist(true_value, data, query):\n",
        "    plt.axvline(true_value, color='red', label=\"True\")\n",
        "    for e, d in data.items():\n",
        "        plt.hist(d, bins=10, alpha=0.5, label = f\"eps = {e}\")\n",
        "    plt.legend()\n",
        "    plt.title(query.encode('unicode_escape').decode().replace(\"<\", \"$<$\").replace(\">\", \"$>$\"))"
      ]
    },
    {
      "cell_type": "code",
      "execution_count": 21,
      "id": "a875ac4e",
      "metadata": {
        "colab": {
          "base_uri": "https://localhost:8080/",
          "height": 452
        },
        "id": "a875ac4e",
        "outputId": "e1c9d8b1-98a1-4bf9-a2e1-2f7517b6a246"
      },
      "outputs": [
        {
          "data": {
            "image/png": "[encoded data removed]",
            "text/plain": [
              "<Figure size 640x480 with 1 Axes>"
            ]
          },
          "metadata": {},
          "output_type": "display_data"
        }
      ],
      "source": [
        "plot_hist(true_value, data, query)"
      ]
    }
  ],
  "metadata": {
    "colab": {
      "provenance": []
    },
    "kernelspec": {
      "display_name": "Python 3 (ipykernel)",
      "language": "python",
      "name": "python3"
    },
    "language_info": {
      "codemirror_mode": {
        "name": "ipython",
        "version": 3
      },
      "file_extension": ".py",
      "mimetype": "text/x-python",
      "name": "python",
      "nbconvert_exporter": "python",
      "pygments_lexer": "ipython3",
      "version": "3.9.16"
    }
  },
  "nbformat": 4,
  "nbformat_minor": 5
}
