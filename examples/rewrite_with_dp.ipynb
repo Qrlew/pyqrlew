{
  "cells": [
    {
      "cell_type": "markdown",
      "id": "683108f1",
      "metadata": {
        "id": "683108f1"
      },
      "source": [
        "# SQL analysis with differential privacy guarantees"
      ]
    },
    {
      "cell_type": "markdown",
      "id": "c1cdff07",
      "metadata": {
        "id": "c1cdff07"
      },
      "source": [
        "The purpose of this notebook is to illustrate the process of *transforming a standard SQL query into a differentially private SQL query*.\n",
        "\n",
        "Our goal here is to demonstrate how this complex transformation of an SQL query into a differentially private version can be achieved with ease using Qrlew."
      ]
    },
    {
      "cell_type": "markdown",
      "id": "ec43846d",
      "metadata": {
        "id": "ec43846d"
      },
      "source": [
        "The main idea of Qrlew is to parse and rewrite SQL queries into *Relations*: an [Intermediate Representation](https://en.wikipedia.org/wiki/Intermediate_representation) (IR) that is well-suited for various rewriting tasks.\n",
        "\n",
        "*Relations* may be of different kinds:\n",
        "- `Map`s typically represent the transform of an input *Relation* row by row, therefore, naturaly preserving the *privacy unit*,\n",
        "- `Reduce`s represent aggregations that can be turned into DP equivalent\n",
        "- `Join`s combine two input *Relations*\n",
        "- `Table`s are simply sources.\n",
        "\n",
        "This representation simplifies the process of rewriting queries and reduces dependencies on the diverse range of syntactic constructs present in SQL."
      ]
    },
    {
      "cell_type": "markdown",
      "id": "792fe5b0",
      "metadata": {
        "id": "792fe5b0"
      },
      "source": [
        "## Install the database and packages\n"
      ]
    },
    {
      "cell_type": "code",
      "execution_count": 1,
      "id": "08f55d69",
      "metadata": {
        "colab": {
          "base_uri": "https://localhost:8080/"
        },
        "id": "08f55d69",
        "outputId": "03e18dff-c946-4621-e3ea-ae9d78aef8eb"
      },
      "outputs": [
        {
          "name": "stderr",
          "output_type": "stream",
          "text": [
            "UsageError: Cell magic `%%shell` not found.\n"
          ]
        }
      ],
      "source": [
        "%%shell\n",
        "# Load the database\n",
        "# Inspred by https://colab.research.google.com/github/tensorflow/io/blob/master/docs/tutorials/postgresql.ipynb#scrollTo=YUj0878jPyz7\n",
        "sudo apt-get -y -qq update\n",
        "sudo apt-get -y -qq install postgresql-14\n",
        "# Start postgresql server\n",
        "sudo sed -i \"s/port = 5432/port = 5433/g\" /etc/postgresql/14/main/postgresql.conf\n",
        "sudo service postgresql start\n",
        "# Set password\n",
        "sudo -u postgres psql -U postgres -c \"ALTER USER postgres PASSWORD 'pyqrlew-db'\"\n",
        "pip install -U pyqrlew matplotlib graphviz"
      ]
    },
    {
      "cell_type": "markdown",
      "id": "98161de3",
      "metadata": {
        "id": "98161de3"
      },
      "source": [
        "For our analysis, we will use the Qrlew built-in sample datasets `retail` and an Postgres connection.\n",
        "\n",
        "Note that you can also load one or several csv files or use another SQL engine."
      ]
    },
    {
      "cell_type": "code",
      "execution_count": 2,
      "id": "e5331167",
      "metadata": {
        "id": "e5331167"
      },
      "outputs": [
        {
          "name": "stderr",
          "output_type": "stream",
          "text": [
            "Error response from daemon: network with name qrlew-net already exists\n"
          ]
        }
      ],
      "source": [
        "from pyqrlew.io import PostgreSQL\n",
        "# Read data\n",
        "database = PostgreSQL()\n",
        "dataset = database.retail()"
      ]
    },
    {
      "cell_type": "markdown",
      "id": "e542593d",
      "metadata": {
        "id": "e542593d"
      },
      "source": [
        "## The `Relation`: an intermediate represention for SQL rewritting"
      ]
    },
    {
      "cell_type": "markdown",
      "id": "ada2d2e9",
      "metadata": {
        "id": "ada2d2e9"
      },
      "source": [
        "The `retail` dataset contains 3 tables, each can be converted into a `Relation::Table`:"
      ]
    },
    {
      "cell_type": "code",
      "execution_count": 3,
      "id": "9936b983",
      "metadata": {
        "colab": {
          "base_uri": "https://localhost:8080/",
          "height": 451
        },
        "id": "9936b983",
        "outputId": "ed7ad894-5d18-4272-9562-dc7adfbde1e1"
      },
      "outputs": [
        {
          "data": {
            "image/svg+xml": [
              "<?xml version=\"1.0\" encoding=\"UTF-8\" standalone=\"no\"?>\n",
              "<!DOCTYPE svg PUBLIC \"-//W3C//DTD SVG 1.1//EN\"\n",
              " \"http://www.w3.org/Graphics/SVG/1.1/DTD/svg11.dtd\">\n",
              "<!-- Generated by graphviz version 8.1.0 (20230707.0739)\n",
              " -->\n",
              "<!-- Title: graph_a8up Pages: 1 -->\n",
              "<svg width=\"355pt\" height=\"136pt\"\n",
              " viewBox=\"0.00 0.00 354.80 135.80\" xmlns=\"http://www.w3.org/2000/svg\" xmlns:xlink=\"http://www.w3.org/1999/xlink\">\n",
              "<g id=\"graph0\" class=\"graph\" transform=\"scale(1 1) rotate(0) translate(4 131.8)\">\n",
              "<title>graph_a8up</title>\n",
              "<polygon fill=\"none\" stroke=\"none\" points=\"-4,4 -4,-131.8 350.8,-131.8 350.8,4 -4,4\"/>\n",
              "<!-- graph_a8up -->\n",
              "<g id=\"node1\" class=\"node\">\n",
              "<title>graph_a8up</title>\n",
              "<path fill=\"#ff1744\" stroke=\"#000000\" stroke-opacity=\"0.333333\" d=\"M334.8,-127.8C334.8,-127.8 12,-127.8 12,-127.8 6,-127.8 0,-121.8 0,-115.8 0,-115.8 0,-12 0,-12 0,-6 6,0 12,0 12,0 334.8,0 334.8,0 340.8,0 346.8,-6 346.8,-12 346.8,-12 346.8,-115.8 346.8,-115.8 346.8,-121.8 340.8,-127.8 334.8,-127.8\"/>\n",
              "<text text-anchor=\"start\" x=\"83.4\" y=\"-103.95\" font-family=\"Red Hat Display,sans-serif\" font-weight=\"bold\" font-size=\"11.00\" fill=\"#ffffff\" fill-opacity=\"0.733333\">RETAIL_FEATURES size ∈ int{910}</text>\n",
              "<text text-anchor=\"start\" x=\"146.77\" y=\"-92.95\" font-family=\"Red Hat Display,sans-serif\" font-size=\"11.00\" fill=\"#ffffff\" fill-opacity=\"0.733333\">id = id ∈ str</text>\n",
              "<text text-anchor=\"start\" x=\"131.02\" y=\"-81.95\" font-family=\"Red Hat Display,sans-serif\" font-size=\"11.00\" fill=\"#ffffff\" fill-opacity=\"0.733333\">store = store ∈ str</text>\n",
              "<text text-anchor=\"start\" x=\"14.4\" y=\"-70.95\" font-family=\"Red Hat Display,sans-serif\" font-size=\"11.00\" fill=\"#ffffff\" fill-opacity=\"0.733333\">date = date ∈ datetime[2010&#45;02&#45;05 00:00:00 2013&#45;07&#45;26 00:00:00]</text>\n",
              "<text text-anchor=\"start\" x=\"60.9\" y=\"-59.95\" font-family=\"Red Hat Display,sans-serif\" font-size=\"11.00\" fill=\"#ffffff\" fill-opacity=\"0.733333\">temperature = temperature ∈ float[28.84 93.34]</text>\n",
              "<text text-anchor=\"start\" x=\"72.9\" y=\"-48.95\" font-family=\"Red Hat Display,sans-serif\" font-size=\"11.00\" fill=\"#ffffff\" fill-opacity=\"0.733333\">fuel_price = fuel_price ∈ float[2.514 3.907]</text>\n",
              "<text text-anchor=\"start\" x=\"81.9\" y=\"-37.95\" font-family=\"Red Hat Display,sans-serif\" font-size=\"11.00\" fill=\"#ffffff\" fill-opacity=\"0.733333\">cpi = cpi ∈ float[126.064 228.7298638]</text>\n",
              "<text text-anchor=\"start\" x=\"48.9\" y=\"-26.95\" font-family=\"Red Hat Display,sans-serif\" font-size=\"11.00\" fill=\"#ffffff\" fill-opacity=\"0.733333\">unemployment = unemployment ∈ float[3.879 8.623]</text>\n",
              "<text text-anchor=\"start\" x=\"109.65\" y=\"-15.95\" font-family=\"Red Hat Display,sans-serif\" font-size=\"11.00\" fill=\"#ffffff\" fill-opacity=\"0.733333\">isholiday = isholiday ∈ bool</text>\n",
              "</g>\n",
              "</g>\n",
              "</svg>\n"
            ],
            "text/plain": [
              "<graphviz.sources.Source at 0x11b9b19a0>"
            ]
          },
          "metadata": {},
          "output_type": "display_data"
        },
        {
          "data": {
            "image/svg+xml": [
              "<?xml version=\"1.0\" encoding=\"UTF-8\" standalone=\"no\"?>\n",
              "<!DOCTYPE svg PUBLIC \"-//W3C//DTD SVG 1.1//EN\"\n",
              " \"http://www.w3.org/Graphics/SVG/1.1/DTD/svg11.dtd\">\n",
              "<!-- Generated by graphviz version 8.1.0 (20230707.0739)\n",
              " -->\n",
              "<!-- Title: graph_9uuh Pages: 1 -->\n",
              "<svg width=\"355pt\" height=\"103pt\"\n",
              " viewBox=\"0.00 0.00 354.80 102.80\" xmlns=\"http://www.w3.org/2000/svg\" xmlns:xlink=\"http://www.w3.org/1999/xlink\">\n",
              "<g id=\"graph0\" class=\"graph\" transform=\"scale(1 1) rotate(0) translate(4 98.8)\">\n",
              "<title>graph_9uuh</title>\n",
              "<polygon fill=\"none\" stroke=\"none\" points=\"-4,4 -4,-98.8 350.8,-98.8 350.8,4 -4,4\"/>\n",
              "<!-- graph_9uuh -->\n",
              "<g id=\"node1\" class=\"node\">\n",
              "<title>graph_9uuh</title>\n",
              "<path fill=\"#ff1744\" stroke=\"#000000\" stroke-opacity=\"0.333333\" d=\"M334.8,-94.8C334.8,-94.8 12,-94.8 12,-94.8 6,-94.8 0,-88.8 0,-82.8 0,-82.8 0,-12 0,-12 0,-6 6,0 12,0 12,0 334.8,0 334.8,0 340.8,0 346.8,-6 346.8,-12 346.8,-12 346.8,-82.8 346.8,-82.8 346.8,-88.8 340.8,-94.8 334.8,-94.8\"/>\n",
              "<text text-anchor=\"start\" x=\"94.27\" y=\"-70.95\" font-family=\"Red Hat Display,sans-serif\" font-weight=\"bold\" font-size=\"11.00\" fill=\"#ffffff\" fill-opacity=\"0.733333\">RETAIL_SALES size ∈ int{715}</text>\n",
              "<text text-anchor=\"start\" x=\"146.77\" y=\"-59.95\" font-family=\"Red Hat Display,sans-serif\" font-size=\"11.00\" fill=\"#ffffff\" fill-opacity=\"0.733333\">id = id ∈ str</text>\n",
              "<text text-anchor=\"start\" x=\"131.02\" y=\"-48.95\" font-family=\"Red Hat Display,sans-serif\" font-size=\"11.00\" fill=\"#ffffff\" fill-opacity=\"0.733333\">store = store ∈ str</text>\n",
              "<text text-anchor=\"start\" x=\"14.4\" y=\"-37.95\" font-family=\"Red Hat Display,sans-serif\" font-size=\"11.00\" fill=\"#ffffff\" fill-opacity=\"0.733333\">date = date ∈ datetime[2010&#45;02&#45;05 00:00:00 2012&#45;10&#45;26 00:00:00]</text>\n",
              "<text text-anchor=\"start\" x=\"40.65\" y=\"-26.95\" font-family=\"Red Hat Display,sans-serif\" font-size=\"11.00\" fill=\"#ffffff\" fill-opacity=\"0.733333\">weekly_sales = weekly_sales ∈ float[3440.69 91965.85]</text>\n",
              "<text text-anchor=\"start\" x=\"109.65\" y=\"-15.95\" font-family=\"Red Hat Display,sans-serif\" font-size=\"11.00\" fill=\"#ffffff\" fill-opacity=\"0.733333\">isholiday = isholiday ∈ bool</text>\n",
              "</g>\n",
              "</g>\n",
              "</svg>\n"
            ],
            "text/plain": [
              "<graphviz.sources.Source at 0x11bae0be0>"
            ]
          },
          "metadata": {},
          "output_type": "display_data"
        },
        {
          "data": {
            "image/svg+xml": [
              "<?xml version=\"1.0\" encoding=\"UTF-8\" standalone=\"no\"?>\n",
              "<!DOCTYPE svg PUBLIC \"-//W3C//DTD SVG 1.1//EN\"\n",
              " \"http://www.w3.org/Graphics/SVG/1.1/DTD/svg11.dtd\">\n",
              "<!-- Generated by graphviz version 8.1.0 (20230707.0739)\n",
              " -->\n",
              "<!-- Title: graph_mpie Pages: 1 -->\n",
              "<svg width=\"310pt\" height=\"81pt\"\n",
              " viewBox=\"0.00 0.00 309.80 80.80\" xmlns=\"http://www.w3.org/2000/svg\" xmlns:xlink=\"http://www.w3.org/1999/xlink\">\n",
              "<g id=\"graph0\" class=\"graph\" transform=\"scale(1 1) rotate(0) translate(4 76.8)\">\n",
              "<title>graph_mpie</title>\n",
              "<polygon fill=\"none\" stroke=\"none\" points=\"-4,4 -4,-76.8 305.8,-76.8 305.8,4 -4,4\"/>\n",
              "<!-- graph_mpie -->\n",
              "<g id=\"node1\" class=\"node\">\n",
              "<title>graph_mpie</title>\n",
              "<path fill=\"#ff1744\" stroke=\"#000000\" stroke-opacity=\"0.333333\" d=\"M289.8,-72.8C289.8,-72.8 12,-72.8 12,-72.8 6,-72.8 0,-66.8 0,-60.8 0,-60.8 0,-12 0,-12 0,-6 6,0 12,0 12,0 289.8,0 289.8,0 295.8,0 301.8,-6 301.8,-12 301.8,-12 301.8,-60.8 301.8,-60.8 301.8,-66.8 295.8,-72.8 289.8,-72.8\"/>\n",
              "<text text-anchor=\"start\" x=\"73.65\" y=\"-48.95\" font-family=\"Red Hat Display,sans-serif\" font-weight=\"bold\" font-size=\"11.00\" fill=\"#ffffff\" fill-opacity=\"0.733333\">RETAIL_STORES size ∈ int{5}</text>\n",
              "<text text-anchor=\"start\" x=\"108.52\" y=\"-37.95\" font-family=\"Red Hat Display,sans-serif\" font-size=\"11.00\" fill=\"#ffffff\" fill-opacity=\"0.733333\">store = store ∈ str</text>\n",
              "<text text-anchor=\"start\" x=\"112.27\" y=\"-26.95\" font-family=\"Red Hat Display,sans-serif\" font-size=\"11.00\" fill=\"#ffffff\" fill-opacity=\"0.733333\">type = type ∈ str</text>\n",
              "<text text-anchor=\"start\" x=\"14.4\" y=\"-15.95\" font-family=\"Red Hat Display,sans-serif\" font-size=\"11.00\" fill=\"#ffffff\" fill-opacity=\"0.733333\">size = size ∈ int{34875, 37392, 151315, 202307, 205863}</text>\n",
              "</g>\n",
              "</g>\n",
              "</svg>\n"
            ],
            "text/plain": [
              "<graphviz.sources.Source at 0x11b9b19a0>"
            ]
          },
          "metadata": {},
          "output_type": "display_data"
        }
      ],
      "source": [
        "import graphviz\n",
        "display(graphviz.Source(dataset.relations()[0][1].dot()))\n",
        "display(graphviz.Source(dataset.relations()[1][1].dot()))\n",
        "display(graphviz.Source(dataset.relations()[2][1].dot()))"
      ]
    },
    {
      "cell_type": "markdown",
      "id": "0561bdfe",
      "metadata": {
        "id": "0561bdfe"
      },
      "source": [
        "Each `Relation::Table` contains the size of the table (which can be approximate with DP) and the columns in the tables with their name and type."
      ]
    },
    {
      "cell_type": "markdown",
      "id": "a9316957",
      "metadata": {
        "id": "a9316957"
      },
      "source": [
        "Before using any differential privacy mechanism, it is essential to determine:\n",
        "- the *privacy unit*, i.e. the *user* identifier,\n",
        "- the *sensitivity of the aggregation functions*, i.e. the maximal contribution a user may have on the result,\n",
        "- the values of the `GROUP BY` columns that can be safely released"
      ]
    },
    {
      "cell_type": "markdown",
      "id": "7de6c738",
      "metadata": {
        "id": "7de6c738"
      },
      "source": [
        "## The privacy unit"
      ]
    },
    {
      "cell_type": "markdown",
      "id": "30077766",
      "metadata": {
        "id": "30077766"
      },
      "source": [
        "In this example, let's consider that we want to protect the `id` column of the tables `features` and `sales`.\n",
        "\n",
        "The tables `store` is linked to `features` via foreign keys.\n",
        "\n",
        "Then each table have a privacy unit (even if it is not directly in the table):\n",
        "- `features`: column `id`\n",
        "- `stores`: the privacy unit is the column `id` of the `feature` table. It is obtained by joining the tables `features` and `stores` with the condition `features.store = stores.store`\n",
        "- `sales`: column `id`\n",
        "\n",
        "We code the privacy unit as:"
      ]
    },
    {
      "cell_type": "code",
      "execution_count": 4,
      "id": "b96421f2",
      "metadata": {
        "id": "b96421f2"
      },
      "outputs": [],
      "source": [
        "privacy_unit = [\n",
        "    (\"features\", [], \"id\"),\n",
        "    (\"stores\", [(\"store\", \"features\", \"store\")], \"id\"),\n",
        "    (\"sales\", [], \"id\")\n",
        "]\n",
        "# Other arguments that will be explained later\n",
        "budget = {\"epsilon\": 1.0, \"delta\": 5e-4}\n",
        "synthetic_data = [\n",
        "    ([\"retail\", \"features\"], [\"retail\", \"features_sd\"]),\n",
        "]"
      ]
    },
    {
      "cell_type": "markdown",
      "id": "dddeb53d",
      "metadata": {
        "id": "dddeb53d"
      },
      "source": [
        "The `privacy_unit` is a vector whose each element is a tuple with the convention: `(table_name, join_path, id_column)` with:\n",
        "- `table_name` the name of the table,\n",
        "- `join_path` a vector storing the joins whose each item `(column_name, table_name, column)` represents a foreign key,\n",
        "- `id_column` the name of the column which is the privacy unit."
      ]
    },
    {
      "cell_type": "markdown",
      "id": "0aa67b12",
      "metadata": {
        "id": "0aa67b12"
      },
      "source": [
        "The `Relation` method `protect` allows to propagate the **privacy unit** through all the relations:"
      ]
    },
    {
      "cell_type": "code",
      "execution_count": 5,
      "id": "0ce5df6d",
      "metadata": {
        "colab": {
          "base_uri": "https://localhost:8080/",
          "height": 438
        },
        "id": "0ce5df6d",
        "outputId": "fd275f2d-bb97-45d4-b48a-97e9548ba28b"
      },
      "outputs": [
        {
          "data": {
            "image/svg+xml": [
              "<?xml version=\"1.0\" encoding=\"UTF-8\" standalone=\"no\"?>\n",
              "<!DOCTYPE svg PUBLIC \"-//W3C//DTD SVG 1.1//EN\"\n",
              " \"http://www.w3.org/Graphics/SVG/1.1/DTD/svg11.dtd\">\n",
              "<!-- Generated by graphviz version 8.1.0 (20230707.0739)\n",
              " -->\n",
              "<!-- Title: graph_g0xz Pages: 1 -->\n",
              "<svg width=\"355pt\" height=\"315pt\"\n",
              " viewBox=\"0.00 0.00 354.80 314.60\" xmlns=\"http://www.w3.org/2000/svg\" xmlns:xlink=\"http://www.w3.org/1999/xlink\">\n",
              "<g id=\"graph0\" class=\"graph\" transform=\"scale(1 1) rotate(0) translate(4 310.6)\">\n",
              "<title>graph_g0xz</title>\n",
              "<polygon fill=\"none\" stroke=\"none\" points=\"-4,4 -4,-310.6 350.8,-310.6 350.8,4 -4,4\"/>\n",
              "<!-- graph_g0xz -->\n",
              "<g id=\"node1\" class=\"node\">\n",
              "<title>graph_g0xz</title>\n",
              "<path fill=\"#428e92\" stroke=\"#000000\" stroke-opacity=\"0.333333\" d=\"M334.8,-306.6C334.8,-306.6 12,-306.6 12,-306.6 6,-306.6 0,-300.6 0,-294.6 0,-294.6 0,-168.8 0,-168.8 0,-162.8 6,-156.8 12,-156.8 12,-156.8 334.8,-156.8 334.8,-156.8 340.8,-156.8 346.8,-162.8 346.8,-168.8 346.8,-168.8 346.8,-294.6 346.8,-294.6 346.8,-300.6 340.8,-306.6 334.8,-306.6\"/>\n",
              "<text text-anchor=\"start\" x=\"101.4\" y=\"-282.75\" font-family=\"Red Hat Display,sans-serif\" font-weight=\"bold\" font-size=\"11.00\" fill=\"#000000\" fill-opacity=\"0.733333\">MAP_DE0Q size ∈ int[0 910]</text>\n",
              "<text text-anchor=\"start\" x=\"56.77\" y=\"-271.75\" font-family=\"Red Hat Display,sans-serif\" font-size=\"11.00\" fill=\"#000000\" fill-opacity=\"0.733333\">_PRIVACY_UNIT_ = md5(cast_as_text(id)) ∈ str</text>\n",
              "<text text-anchor=\"start\" x=\"74.4\" y=\"-260.75\" font-family=\"Red Hat Display,sans-serif\" font-size=\"11.00\" fill=\"#000000\" fill-opacity=\"0.733333\">_PRIVACY_UNIT_WEIGHT_ = 1 ∈ int{1}</text>\n",
              "<text text-anchor=\"start\" x=\"146.77\" y=\"-249.75\" font-family=\"Red Hat Display,sans-serif\" font-size=\"11.00\" fill=\"#000000\" fill-opacity=\"0.733333\">id = id ∈ str</text>\n",
              "<text text-anchor=\"start\" x=\"131.02\" y=\"-238.75\" font-family=\"Red Hat Display,sans-serif\" font-size=\"11.00\" fill=\"#000000\" fill-opacity=\"0.733333\">store = store ∈ str</text>\n",
              "<text text-anchor=\"start\" x=\"14.4\" y=\"-227.75\" font-family=\"Red Hat Display,sans-serif\" font-size=\"11.00\" fill=\"#000000\" fill-opacity=\"0.733333\">date = date ∈ datetime[2010&#45;02&#45;05 00:00:00 2013&#45;07&#45;26 00:00:00]</text>\n",
              "<text text-anchor=\"start\" x=\"60.9\" y=\"-216.75\" font-family=\"Red Hat Display,sans-serif\" font-size=\"11.00\" fill=\"#000000\" fill-opacity=\"0.733333\">temperature = temperature ∈ float[28.84 93.34]</text>\n",
              "<text text-anchor=\"start\" x=\"72.9\" y=\"-205.75\" font-family=\"Red Hat Display,sans-serif\" font-size=\"11.00\" fill=\"#000000\" fill-opacity=\"0.733333\">fuel_price = fuel_price ∈ float[2.514 3.907]</text>\n",
              "<text text-anchor=\"start\" x=\"81.9\" y=\"-194.75\" font-family=\"Red Hat Display,sans-serif\" font-size=\"11.00\" fill=\"#000000\" fill-opacity=\"0.733333\">cpi = cpi ∈ float[126.064 228.7298638]</text>\n",
              "<text text-anchor=\"start\" x=\"48.9\" y=\"-183.75\" font-family=\"Red Hat Display,sans-serif\" font-size=\"11.00\" fill=\"#000000\" fill-opacity=\"0.733333\">unemployment = unemployment ∈ float[3.879 8.623]</text>\n",
              "<text text-anchor=\"start\" x=\"109.65\" y=\"-172.75\" font-family=\"Red Hat Display,sans-serif\" font-size=\"11.00\" fill=\"#000000\" fill-opacity=\"0.733333\">isholiday = isholiday ∈ bool</text>\n",
              "</g>\n",
              "<!-- graph_a8up -->\n",
              "<g id=\"node2\" class=\"node\">\n",
              "<title>graph_a8up</title>\n",
              "<path fill=\"#ff1744\" stroke=\"#000000\" stroke-opacity=\"0.333333\" d=\"M334.8,-127.8C334.8,-127.8 12,-127.8 12,-127.8 6,-127.8 0,-121.8 0,-115.8 0,-115.8 0,-12 0,-12 0,-6 6,0 12,0 12,0 334.8,0 334.8,0 340.8,0 346.8,-6 346.8,-12 346.8,-12 346.8,-115.8 346.8,-115.8 346.8,-121.8 340.8,-127.8 334.8,-127.8\"/>\n",
              "<text text-anchor=\"start\" x=\"83.4\" y=\"-103.95\" font-family=\"Red Hat Display,sans-serif\" font-weight=\"bold\" font-size=\"11.00\" fill=\"#ffffff\" fill-opacity=\"0.733333\">RETAIL_FEATURES size ∈ int{910}</text>\n",
              "<text text-anchor=\"start\" x=\"146.77\" y=\"-92.95\" font-family=\"Red Hat Display,sans-serif\" font-size=\"11.00\" fill=\"#ffffff\" fill-opacity=\"0.733333\">id = id ∈ str</text>\n",
              "<text text-anchor=\"start\" x=\"131.02\" y=\"-81.95\" font-family=\"Red Hat Display,sans-serif\" font-size=\"11.00\" fill=\"#ffffff\" fill-opacity=\"0.733333\">store = store ∈ str</text>\n",
              "<text text-anchor=\"start\" x=\"14.4\" y=\"-70.95\" font-family=\"Red Hat Display,sans-serif\" font-size=\"11.00\" fill=\"#ffffff\" fill-opacity=\"0.733333\">date = date ∈ datetime[2010&#45;02&#45;05 00:00:00 2013&#45;07&#45;26 00:00:00]</text>\n",
              "<text text-anchor=\"start\" x=\"60.9\" y=\"-59.95\" font-family=\"Red Hat Display,sans-serif\" font-size=\"11.00\" fill=\"#ffffff\" fill-opacity=\"0.733333\">temperature = temperature ∈ float[28.84 93.34]</text>\n",
              "<text text-anchor=\"start\" x=\"72.9\" y=\"-48.95\" font-family=\"Red Hat Display,sans-serif\" font-size=\"11.00\" fill=\"#ffffff\" fill-opacity=\"0.733333\">fuel_price = fuel_price ∈ float[2.514 3.907]</text>\n",
              "<text text-anchor=\"start\" x=\"81.9\" y=\"-37.95\" font-family=\"Red Hat Display,sans-serif\" font-size=\"11.00\" fill=\"#ffffff\" fill-opacity=\"0.733333\">cpi = cpi ∈ float[126.064 228.7298638]</text>\n",
              "<text text-anchor=\"start\" x=\"48.9\" y=\"-26.95\" font-family=\"Red Hat Display,sans-serif\" font-size=\"11.00\" fill=\"#ffffff\" fill-opacity=\"0.733333\">unemployment = unemployment ∈ float[3.879 8.623]</text>\n",
              "<text text-anchor=\"start\" x=\"109.65\" y=\"-15.95\" font-family=\"Red Hat Display,sans-serif\" font-size=\"11.00\" fill=\"#ffffff\" fill-opacity=\"0.733333\">isholiday = isholiday ∈ bool</text>\n",
              "</g>\n",
              "<!-- graph_g0xz&#45;&gt;graph_a8up -->\n",
              "<g id=\"edge1\" class=\"edge\">\n",
              "<title>graph_g0xz&#45;&gt;graph_a8up</title>\n",
              "<path fill=\"none\" stroke=\"#2b303a\" d=\"M173.4,-156.53C173.4,-150.6 173.4,-144.61 173.4,-138.69\"/>\n",
              "<polygon fill=\"#2b303a\" stroke=\"#2b303a\" points=\"176.9,-139.12 173.4,-129.12 169.9,-139.12 176.9,-139.12\"/>\n",
              "</g>\n",
              "</g>\n",
              "</svg>\n"
            ],
            "text/plain": [
              "<graphviz.sources.Source at 0x1045e0370>"
            ]
          },
          "metadata": {},
          "output_type": "display_data"
        }
      ],
      "source": [
        "pup_features = dataset.relations()[0][1].rewrite_as_privacy_unit_preserving(\n",
        "    dataset,\n",
        "    synthetic_data,\n",
        "    privacy_unit,\n",
        "    budget)\n",
        "display(graphviz.Source(pup_features.relation().dot()))"
      ]
    },
    {
      "cell_type": "code",
      "execution_count": 6,
      "id": "d975df77",
      "metadata": {
        "colab": {
          "base_uri": "https://localhost:8080/",
          "height": 632
        },
        "id": "d975df77",
        "outputId": "6ee25bbd-c81a-4fac-863e-9937a7ab3678"
      },
      "outputs": [
        {
          "data": {
            "image/svg+xml": [
              "<?xml version=\"1.0\" encoding=\"UTF-8\" standalone=\"no\"?>\n",
              "<!DOCTYPE svg PUBLIC \"-//W3C//DTD SVG 1.1//EN\"\n",
              " \"http://www.w3.org/Graphics/SVG/1.1/DTD/svg11.dtd\">\n",
              "<!-- Generated by graphviz version 8.1.0 (20230707.0739)\n",
              " -->\n",
              "<!-- Title: graph_mouj Pages: 1 -->\n",
              "<svg width=\"670pt\" height=\"460pt\"\n",
              " viewBox=\"0.00 0.00 670.30 460.40\" xmlns=\"http://www.w3.org/2000/svg\" xmlns:xlink=\"http://www.w3.org/1999/xlink\">\n",
              "<g id=\"graph0\" class=\"graph\" transform=\"scale(1 1) rotate(0) translate(4 456.4)\">\n",
              "<title>graph_mouj</title>\n",
              "<polygon fill=\"none\" stroke=\"none\" points=\"-4,4 -4,-456.4 666.3,-456.4 666.3,4 -4,4\"/>\n",
              "<!-- graph_mouj -->\n",
              "<g id=\"node1\" class=\"node\">\n",
              "<title>graph_mouj</title>\n",
              "<path fill=\"#428e92\" stroke=\"#000000\" stroke-opacity=\"0.333333\" d=\"M495.55,-452.4C495.55,-452.4 189.25,-452.4 189.25,-452.4 183.25,-452.4 177.25,-446.4 177.25,-440.4 177.25,-440.4 177.25,-369.6 177.25,-369.6 177.25,-363.6 183.25,-357.6 189.25,-357.6 189.25,-357.6 495.55,-357.6 495.55,-357.6 501.55,-357.6 507.55,-363.6 507.55,-369.6 507.55,-369.6 507.55,-440.4 507.55,-440.4 507.55,-446.4 501.55,-452.4 495.55,-452.4\"/>\n",
              "<text text-anchor=\"start\" x=\"267.77\" y=\"-428.55\" font-family=\"Red Hat Display,sans-serif\" font-weight=\"bold\" font-size=\"11.00\" fill=\"#000000\" fill-opacity=\"0.733333\">MAP_PMF6 size ∈ int[0 4550]</text>\n",
              "<text text-anchor=\"start\" x=\"207.4\" y=\"-417.55\" font-family=\"Red Hat Display,sans-serif\" font-size=\"11.00\" fill=\"#000000\" fill-opacity=\"0.733333\">_PRIVACY_UNIT_ = md5(cast_as_text(field_tv1c)) ∈ str</text>\n",
              "<text text-anchor=\"start\" x=\"243.4\" y=\"-406.55\" font-family=\"Red Hat Display,sans-serif\" font-size=\"11.00\" fill=\"#000000\" fill-opacity=\"0.733333\">_PRIVACY_UNIT_WEIGHT_ = 1 ∈ int{1}</text>\n",
              "<text text-anchor=\"start\" x=\"289.9\" y=\"-395.55\" font-family=\"Red Hat Display,sans-serif\" font-size=\"11.00\" fill=\"#000000\" fill-opacity=\"0.733333\">store = field_zror ∈ str</text>\n",
              "<text text-anchor=\"start\" x=\"291.02\" y=\"-384.55\" font-family=\"Red Hat Display,sans-serif\" font-size=\"11.00\" fill=\"#000000\" fill-opacity=\"0.733333\">type = field_jna5 ∈ str</text>\n",
              "<text text-anchor=\"start\" x=\"191.65\" y=\"-373.55\" font-family=\"Red Hat Display,sans-serif\" font-size=\"11.00\" fill=\"#000000\" fill-opacity=\"0.733333\">size = field_1p2r ∈ int{34875, 37392, 151315, 202307, 205863}</text>\n",
              "</g>\n",
              "<!-- graph_ik_s -->\n",
              "<g id=\"node2\" class=\"node\">\n",
              "<title>graph_ik_s</title>\n",
              "<path fill=\"#ff616f\" stroke=\"#000000\" stroke-opacity=\"0.333333\" d=\"M536.8,-328.6C536.8,-328.6 148,-328.6 148,-328.6 142,-328.6 136,-322.6 136,-316.6 136,-316.6 136,-168.8 136,-168.8 136,-162.8 142,-156.8 148,-156.8 148,-156.8 536.8,-156.8 536.8,-156.8 542.8,-156.8 548.8,-162.8 548.8,-168.8 548.8,-168.8 548.8,-316.6 548.8,-316.6 548.8,-322.6 542.8,-328.6 536.8,-328.6\"/>\n",
              "<text text-anchor=\"start\" x=\"267.02\" y=\"-304.75\" font-family=\"Red Hat Display,sans-serif\" font-weight=\"bold\" font-size=\"11.00\" fill=\"#000000\" fill-opacity=\"0.733333\">JOIN_1GMF size ∈ int[0 4550]</text>\n",
              "<text text-anchor=\"start\" x=\"276.4\" y=\"-293.75\" font-family=\"Red Hat Display,sans-serif\" font-size=\"11.00\" fill=\"#000000\" fill-opacity=\"0.733333\">field_tv1c = _LEFT_.id ∈ str</text>\n",
              "<text text-anchor=\"start\" x=\"266.65\" y=\"-282.75\" font-family=\"Red Hat Display,sans-serif\" font-size=\"11.00\" fill=\"#000000\" fill-opacity=\"0.733333\">field_fdwg = _LEFT_.store ∈ str</text>\n",
              "<text text-anchor=\"start\" x=\"150.4\" y=\"-271.75\" font-family=\"Red Hat Display,sans-serif\" font-size=\"11.00\" fill=\"#000000\" fill-opacity=\"0.733333\">field_djqk = _LEFT_.date ∈ datetime[2010&#45;02&#45;05 00:00:00 2013&#45;07&#45;26 00:00:00]</text>\n",
              "<text text-anchor=\"start\" x=\"212.65\" y=\"-260.75\" font-family=\"Red Hat Display,sans-serif\" font-size=\"11.00\" fill=\"#000000\" fill-opacity=\"0.733333\">field_x8ew = _LEFT_.temperature ∈ float[28.84 93.34]</text>\n",
              "<text text-anchor=\"start\" x=\"219.77\" y=\"-249.75\" font-family=\"Red Hat Display,sans-serif\" font-size=\"11.00\" fill=\"#000000\" fill-opacity=\"0.733333\">field_z1o7 = _LEFT_.fuel_price ∈ float[2.514 3.907]</text>\n",
              "<text text-anchor=\"start\" x=\"213.77\" y=\"-238.75\" font-family=\"Red Hat Display,sans-serif\" font-size=\"11.00\" fill=\"#000000\" fill-opacity=\"0.733333\">field_vto2 = _LEFT_.cpi ∈ float[126.064 228.7298638]</text>\n",
              "<text text-anchor=\"start\" x=\"209.27\" y=\"-227.75\" font-family=\"Red Hat Display,sans-serif\" font-size=\"11.00\" fill=\"#000000\" fill-opacity=\"0.733333\">field_16di = _LEFT_.unemployment ∈ float[3.879 8.623]</text>\n",
              "<text text-anchor=\"start\" x=\"255.4\" y=\"-216.75\" font-family=\"Red Hat Display,sans-serif\" font-size=\"11.00\" fill=\"#000000\" fill-opacity=\"0.733333\">field_nl9d = _LEFT_.isholiday ∈ bool</text>\n",
              "<text text-anchor=\"start\" x=\"265.15\" y=\"-205.75\" font-family=\"Red Hat Display,sans-serif\" font-size=\"11.00\" fill=\"#000000\" fill-opacity=\"0.733333\">field_zror = _RIGHT_.store ∈ str</text>\n",
              "<text text-anchor=\"start\" x=\"266.27\" y=\"-194.75\" font-family=\"Red Hat Display,sans-serif\" font-size=\"11.00\" fill=\"#000000\" fill-opacity=\"0.733333\">field_jna5 = _RIGHT_.type ∈ str</text>\n",
              "<text text-anchor=\"start\" x=\"166.9\" y=\"-183.75\" font-family=\"Red Hat Display,sans-serif\" font-size=\"11.00\" fill=\"#000000\" fill-opacity=\"0.733333\">field_1p2r = _RIGHT_.size ∈ int{34875, 37392, 151315, 202307, 205863}</text>\n",
              "<text text-anchor=\"start\" x=\"233.65\" y=\"-172.75\" font-family=\"Red Hat Display,sans-serif\" font-size=\"11.00\" fill=\"#000000\" fill-opacity=\"0.733333\">INNER ON (_RIGHT_.store = _LEFT_.store)</text>\n",
              "</g>\n",
              "<!-- graph_mouj&#45;&gt;graph_ik_s -->\n",
              "<g id=\"edge3\" class=\"edge\">\n",
              "<title>graph_mouj&#45;&gt;graph_ik_s</title>\n",
              "<path fill=\"none\" stroke=\"#2b303a\" d=\"M342.4,-357.2C342.4,-351.6 342.4,-345.73 342.4,-339.74\"/>\n",
              "<polygon fill=\"#2b303a\" stroke=\"#2b303a\" points=\"345.9,-339.86 342.4,-329.86 338.9,-339.86 345.9,-339.86\"/>\n",
              "</g>\n",
              "<!-- graph_a8up -->\n",
              "<g id=\"node3\" class=\"node\">\n",
              "<title>graph_a8up</title>\n",
              "<path fill=\"#ff1744\" stroke=\"#000000\" stroke-opacity=\"0.333333\" d=\"M334.8,-127.8C334.8,-127.8 12,-127.8 12,-127.8 6,-127.8 0,-121.8 0,-115.8 0,-115.8 0,-12 0,-12 0,-6 6,0 12,0 12,0 334.8,0 334.8,0 340.8,0 346.8,-6 346.8,-12 346.8,-12 346.8,-115.8 346.8,-115.8 346.8,-121.8 340.8,-127.8 334.8,-127.8\"/>\n",
              "<text text-anchor=\"start\" x=\"83.4\" y=\"-103.95\" font-family=\"Red Hat Display,sans-serif\" font-weight=\"bold\" font-size=\"11.00\" fill=\"#ffffff\" fill-opacity=\"0.733333\">RETAIL_FEATURES size ∈ int{910}</text>\n",
              "<text text-anchor=\"start\" x=\"146.77\" y=\"-92.95\" font-family=\"Red Hat Display,sans-serif\" font-size=\"11.00\" fill=\"#ffffff\" fill-opacity=\"0.733333\">id = id ∈ str</text>\n",
              "<text text-anchor=\"start\" x=\"131.02\" y=\"-81.95\" font-family=\"Red Hat Display,sans-serif\" font-size=\"11.00\" fill=\"#ffffff\" fill-opacity=\"0.733333\">store = store ∈ str</text>\n",
              "<text text-anchor=\"start\" x=\"14.4\" y=\"-70.95\" font-family=\"Red Hat Display,sans-serif\" font-size=\"11.00\" fill=\"#ffffff\" fill-opacity=\"0.733333\">date = date ∈ datetime[2010&#45;02&#45;05 00:00:00 2013&#45;07&#45;26 00:00:00]</text>\n",
              "<text text-anchor=\"start\" x=\"60.9\" y=\"-59.95\" font-family=\"Red Hat Display,sans-serif\" font-size=\"11.00\" fill=\"#ffffff\" fill-opacity=\"0.733333\">temperature = temperature ∈ float[28.84 93.34]</text>\n",
              "<text text-anchor=\"start\" x=\"72.9\" y=\"-48.95\" font-family=\"Red Hat Display,sans-serif\" font-size=\"11.00\" fill=\"#ffffff\" fill-opacity=\"0.733333\">fuel_price = fuel_price ∈ float[2.514 3.907]</text>\n",
              "<text text-anchor=\"start\" x=\"81.9\" y=\"-37.95\" font-family=\"Red Hat Display,sans-serif\" font-size=\"11.00\" fill=\"#ffffff\" fill-opacity=\"0.733333\">cpi = cpi ∈ float[126.064 228.7298638]</text>\n",
              "<text text-anchor=\"start\" x=\"48.9\" y=\"-26.95\" font-family=\"Red Hat Display,sans-serif\" font-size=\"11.00\" fill=\"#ffffff\" fill-opacity=\"0.733333\">unemployment = unemployment ∈ float[3.879 8.623]</text>\n",
              "<text text-anchor=\"start\" x=\"109.65\" y=\"-15.95\" font-family=\"Red Hat Display,sans-serif\" font-size=\"11.00\" fill=\"#ffffff\" fill-opacity=\"0.733333\">isholiday = isholiday ∈ bool</text>\n",
              "</g>\n",
              "<!-- graph_ik_s&#45;&gt;graph_a8up -->\n",
              "<g id=\"edge1\" class=\"edge\">\n",
              "<title>graph_ik_s&#45;&gt;graph_a8up</title>\n",
              "<path fill=\"none\" stroke=\"#2b303a\" d=\"M260.87,-156.41C254.32,-149.55 247.74,-142.67 241.3,-135.93\"/>\n",
              "<polygon fill=\"#2b303a\" stroke=\"#2b303a\" points=\"244.25,-133.91 234.81,-129.1 239.19,-138.74 244.25,-133.91\"/>\n",
              "</g>\n",
              "<!-- graph_mpie -->\n",
              "<g id=\"node4\" class=\"node\">\n",
              "<title>graph_mpie</title>\n",
              "<path fill=\"#ff1744\" stroke=\"#000000\" stroke-opacity=\"0.333333\" d=\"M650.3,-100.3C650.3,-100.3 372.5,-100.3 372.5,-100.3 366.5,-100.3 360.5,-94.3 360.5,-88.3 360.5,-88.3 360.5,-39.5 360.5,-39.5 360.5,-33.5 366.5,-27.5 372.5,-27.5 372.5,-27.5 650.3,-27.5 650.3,-27.5 656.3,-27.5 662.3,-33.5 662.3,-39.5 662.3,-39.5 662.3,-88.3 662.3,-88.3 662.3,-94.3 656.3,-100.3 650.3,-100.3\"/>\n",
              "<text text-anchor=\"start\" x=\"434.15\" y=\"-76.45\" font-family=\"Red Hat Display,sans-serif\" font-weight=\"bold\" font-size=\"11.00\" fill=\"#ffffff\" fill-opacity=\"0.733333\">RETAIL_STORES size ∈ int{5}</text>\n",
              "<text text-anchor=\"start\" x=\"469.02\" y=\"-65.45\" font-family=\"Red Hat Display,sans-serif\" font-size=\"11.00\" fill=\"#ffffff\" fill-opacity=\"0.733333\">store = store ∈ str</text>\n",
              "<text text-anchor=\"start\" x=\"472.77\" y=\"-54.45\" font-family=\"Red Hat Display,sans-serif\" font-size=\"11.00\" fill=\"#ffffff\" fill-opacity=\"0.733333\">type = type ∈ str</text>\n",
              "<text text-anchor=\"start\" x=\"374.9\" y=\"-43.45\" font-family=\"Red Hat Display,sans-serif\" font-size=\"11.00\" fill=\"#ffffff\" fill-opacity=\"0.733333\">size = size ∈ int{34875, 37392, 151315, 202307, 205863}</text>\n",
              "</g>\n",
              "<!-- graph_ik_s&#45;&gt;graph_mpie -->\n",
              "<g id=\"edge2\" class=\"edge\">\n",
              "<title>graph_ik_s&#45;&gt;graph_mpie</title>\n",
              "<path fill=\"none\" stroke=\"#2b303a\" d=\"M423.93,-156.41C439.88,-139.72 455.98,-122.88 469.93,-108.28\"/>\n",
              "<polygon fill=\"#2b303a\" stroke=\"#2b303a\" points=\"472.07,-111.06 476.45,-101.41 467.01,-106.22 472.07,-111.06\"/>\n",
              "</g>\n",
              "</g>\n",
              "</svg>\n"
            ],
            "text/plain": [
              "<graphviz.sources.Source at 0x11bb27be0>"
            ]
          },
          "metadata": {},
          "output_type": "display_data"
        }
      ],
      "source": [
        "pup_stores = dataset.relations()[2][1].rewrite_as_privacy_unit_preserving(\n",
        "    dataset,\n",
        "    synthetic_data,\n",
        "    privacy_unit,\n",
        "    budget)\n",
        "display(graphviz.Source(pup_stores.relation().dot()))"
      ]
    },
    {
      "cell_type": "markdown",
      "id": "f232bac1",
      "metadata": {
        "id": "f232bac1"
      },
      "source": [
        "We notice that to protect the `features` table we just have to hash the values of the `id` column and store them into the `_PRIVACY_UNIT_` while to protect the `store` table we had to make a join before."
      ]
    },
    {
      "cell_type": "markdown",
      "id": "b5badc08",
      "metadata": {
        "id": "b5badc08"
      },
      "source": [
        "## The sensitivity"
      ]
    },
    {
      "cell_type": "markdown",
      "id": "9de52758",
      "metadata": {
        "id": "9de52758"
      },
      "source": [
        "In the case we want to relase the result of query : `SELECT SUM(3 * fuel_price + temperature / 10) FROM retail.features`, we have to compute the sensitivity of the `SUM(3 * fuel_price + temperature / 10)` aggregation.\n",
        "\n",
        "The user provides the ranges of the inputs column in the `WHERE` clause of the query, then these values are propagated through all the relations."
      ]
    },
    {
      "cell_type": "code",
      "execution_count": 7,
      "id": "4ca7732e",
      "metadata": {
        "colab": {
          "base_uri": "https://localhost:8080/",
          "height": 426
        },
        "id": "4ca7732e",
        "outputId": "c8ee2ed3-771d-4ecb-ff65-c25b93cbd8e0"
      },
      "outputs": [
        {
          "data": {
            "image/svg+xml": [
              "<?xml version=\"1.0\" encoding=\"UTF-8\" standalone=\"no\"?>\n",
              "<!DOCTYPE svg PUBLIC \"-//W3C//DTD SVG 1.1//EN\"\n",
              " \"http://www.w3.org/Graphics/SVG/1.1/DTD/svg11.dtd\">\n",
              "<!-- Generated by graphviz version 8.1.0 (20230707.0739)\n",
              " -->\n",
              "<!-- Title: graph_7duh Pages: 1 -->\n",
              "<svg width=\"521pt\" height=\"306pt\"\n",
              " viewBox=\"0.00 0.00 521.30 306.40\" xmlns=\"http://www.w3.org/2000/svg\" xmlns:xlink=\"http://www.w3.org/1999/xlink\">\n",
              "<g id=\"graph0\" class=\"graph\" transform=\"scale(1 1) rotate(0) translate(4 302.4)\">\n",
              "<title>graph_7duh</title>\n",
              "<polygon fill=\"none\" stroke=\"none\" points=\"-4,4 -4,-302.4 517.3,-302.4 517.3,4 -4,4\"/>\n",
              "<!-- graph_7duh -->\n",
              "<g id=\"node1\" class=\"node\">\n",
              "<title>graph_7duh</title>\n",
              "<path fill=\"#00363a\" stroke=\"#000000\" stroke-opacity=\"0.333333\" d=\"M363.67,-298.4C363.67,-298.4 149.62,-298.4 149.62,-298.4 143.62,-298.4 137.62,-292.4 137.62,-286.4 137.62,-286.4 137.62,-259.6 137.62,-259.6 137.62,-253.6 143.62,-247.6 149.62,-247.6 149.62,-247.6 363.67,-247.6 363.67,-247.6 369.67,-247.6 375.67,-253.6 375.67,-259.6 375.67,-259.6 375.67,-286.4 375.67,-286.4 375.67,-292.4 369.67,-298.4 363.67,-298.4\"/>\n",
              "<text text-anchor=\"start\" x=\"172.65\" y=\"-274.55\" font-family=\"Red Hat Display,sans-serif\" font-weight=\"bold\" font-size=\"11.00\" fill=\"#ffffff\" fill-opacity=\"0.733333\">REDUCE_LREQ size ∈ int[0 910]</text>\n",
              "<text text-anchor=\"start\" x=\"152.02\" y=\"-263.55\" font-family=\"Red Hat Display,sans-serif\" font-size=\"11.00\" fill=\"#ffffff\" fill-opacity=\"0.733333\">field_qq4j = sum(field_38yt) ∈ float[0 19110]</text>\n",
              "</g>\n",
              "<!-- graph_dvls -->\n",
              "<g id=\"node2\" class=\"node\">\n",
              "<title>graph_dvls</title>\n",
              "<path fill=\"#428e92\" stroke=\"#000000\" stroke-opacity=\"0.333333\" d=\"M501.3,-218.6C501.3,-218.6 12,-218.6 12,-218.6 6,-218.6 0,-212.6 0,-206.6 0,-206.6 0,-168.8 0,-168.8 0,-162.8 6,-156.8 12,-156.8 12,-156.8 501.3,-156.8 501.3,-156.8 507.3,-156.8 513.3,-162.8 513.3,-168.8 513.3,-168.8 513.3,-206.6 513.3,-206.6 513.3,-212.6 507.3,-218.6 501.3,-218.6\"/>\n",
              "<text text-anchor=\"start\" x=\"184.27\" y=\"-194.75\" font-family=\"Red Hat Display,sans-serif\" font-weight=\"bold\" font-size=\"11.00\" fill=\"#000000\" fill-opacity=\"0.733333\">MAP_U3UG size ∈ int[0 910]</text>\n",
              "<text text-anchor=\"start\" x=\"95.4\" y=\"-183.75\" font-family=\"Red Hat Display,sans-serif\" font-size=\"11.00\" fill=\"#000000\" fill-opacity=\"0.733333\">field_38yt = ((3 * fuel_price) + (temperature / 10)) ∈ float[10.426 21]</text>\n",
              "<text text-anchor=\"start\" x=\"14.4\" y=\"-172.75\" font-family=\"Red Hat Display,sans-serif\" font-size=\"11.00\" fill=\"#000000\" fill-opacity=\"0.733333\">WHERE ((((fuel_price &gt; 2.5) and (fuel_price &lt; 3.9)) and (temperature &gt; 28)) and (temperature &lt; 93))</text>\n",
              "</g>\n",
              "<!-- graph_7duh&#45;&gt;graph_dvls -->\n",
              "<g id=\"edge2\" class=\"edge\">\n",
              "<title>graph_7duh&#45;&gt;graph_dvls</title>\n",
              "<path fill=\"none\" stroke=\"#2b303a\" d=\"M256.65,-247.46C256.65,-241.88 256.65,-235.8 256.65,-229.75\"/>\n",
              "<polygon fill=\"#2b303a\" stroke=\"#2b303a\" points=\"260.15,-229.97 256.65,-219.97 253.15,-229.97 260.15,-229.97\"/>\n",
              "</g>\n",
              "<!-- graph_a8up -->\n",
              "<g id=\"node3\" class=\"node\">\n",
              "<title>graph_a8up</title>\n",
              "<path fill=\"#ff1744\" stroke=\"#000000\" stroke-opacity=\"0.333333\" d=\"M418.05,-127.8C418.05,-127.8 95.25,-127.8 95.25,-127.8 89.25,-127.8 83.25,-121.8 83.25,-115.8 83.25,-115.8 83.25,-12 83.25,-12 83.25,-6 89.25,0 95.25,0 95.25,0 418.05,0 418.05,0 424.05,0 430.05,-6 430.05,-12 430.05,-12 430.05,-115.8 430.05,-115.8 430.05,-121.8 424.05,-127.8 418.05,-127.8\"/>\n",
              "<text text-anchor=\"start\" x=\"166.65\" y=\"-103.95\" font-family=\"Red Hat Display,sans-serif\" font-weight=\"bold\" font-size=\"11.00\" fill=\"#ffffff\" fill-opacity=\"0.733333\">RETAIL_FEATURES size ∈ int{910}</text>\n",
              "<text text-anchor=\"start\" x=\"230.02\" y=\"-92.95\" font-family=\"Red Hat Display,sans-serif\" font-size=\"11.00\" fill=\"#ffffff\" fill-opacity=\"0.733333\">id = id ∈ str</text>\n",
              "<text text-anchor=\"start\" x=\"214.27\" y=\"-81.95\" font-family=\"Red Hat Display,sans-serif\" font-size=\"11.00\" fill=\"#ffffff\" fill-opacity=\"0.733333\">store = store ∈ str</text>\n",
              "<text text-anchor=\"start\" x=\"97.65\" y=\"-70.95\" font-family=\"Red Hat Display,sans-serif\" font-size=\"11.00\" fill=\"#ffffff\" fill-opacity=\"0.733333\">date = date ∈ datetime[2010&#45;02&#45;05 00:00:00 2013&#45;07&#45;26 00:00:00]</text>\n",
              "<text text-anchor=\"start\" x=\"144.15\" y=\"-59.95\" font-family=\"Red Hat Display,sans-serif\" font-size=\"11.00\" fill=\"#ffffff\" fill-opacity=\"0.733333\">temperature = temperature ∈ float[28.84 93.34]</text>\n",
              "<text text-anchor=\"start\" x=\"156.15\" y=\"-48.95\" font-family=\"Red Hat Display,sans-serif\" font-size=\"11.00\" fill=\"#ffffff\" fill-opacity=\"0.733333\">fuel_price = fuel_price ∈ float[2.514 3.907]</text>\n",
              "<text text-anchor=\"start\" x=\"165.15\" y=\"-37.95\" font-family=\"Red Hat Display,sans-serif\" font-size=\"11.00\" fill=\"#ffffff\" fill-opacity=\"0.733333\">cpi = cpi ∈ float[126.064 228.7298638]</text>\n",
              "<text text-anchor=\"start\" x=\"132.15\" y=\"-26.95\" font-family=\"Red Hat Display,sans-serif\" font-size=\"11.00\" fill=\"#ffffff\" fill-opacity=\"0.733333\">unemployment = unemployment ∈ float[3.879 8.623]</text>\n",
              "<text text-anchor=\"start\" x=\"192.9\" y=\"-15.95\" font-family=\"Red Hat Display,sans-serif\" font-size=\"11.00\" fill=\"#ffffff\" fill-opacity=\"0.733333\">isholiday = isholiday ∈ bool</text>\n",
              "</g>\n",
              "<!-- graph_dvls&#45;&gt;graph_a8up -->\n",
              "<g id=\"edge1\" class=\"edge\">\n",
              "<title>graph_dvls&#45;&gt;graph_a8up</title>\n",
              "<path fill=\"none\" stroke=\"#2b303a\" d=\"M256.65,-156.59C256.65,-151 256.65,-144.93 256.65,-138.67\"/>\n",
              "<polygon fill=\"#2b303a\" stroke=\"#2b303a\" points=\"260.15,-139.01 256.65,-129.01 253.15,-139.01 260.15,-139.01\"/>\n",
              "</g>\n",
              "</g>\n",
              "</svg>\n"
            ],
            "text/plain": [
              "<graphviz.sources.Source at 0x11bb27340>"
            ]
          },
          "metadata": {},
          "output_type": "display_data"
        }
      ],
      "source": [
        "relation = dataset.sql('SELECT SUM(3 * fuel_price + temperature / 10) FROM retail.features WHERE fuel_price > 2.5 AND fuel_price < 3.9 AND temperature > 28 AND temperature < 93')\n",
        "display(graphviz.Source(relation.dot()))"
      ]
    },
    {
      "cell_type": "markdown",
      "id": "48d3a1dd",
      "metadata": {
        "id": "48d3a1dd"
      },
      "source": [
        "More information about the ranges propagation can be found [here](https://github.com/Qrlew/pyqrlew/blob/main/examples/range_propagation.ipynb)."
      ]
    },
    {
      "cell_type": "markdown",
      "id": "1fc2f206",
      "metadata": {
        "id": "1fc2f206"
      },
      "source": [
        "## The protection of the GROUP BY keys"
      ]
    },
    {
      "cell_type": "markdown",
      "id": "88ad8146",
      "metadata": {
        "id": "88ad8146"
      },
      "source": [
        "As explained in [Wilson et al. (2019)](https://arxiv.org/abs/1909.01917) and [this post](https://www.sarus.tech/post/the-protection-of-grouping-keys-in-the-context-of-differentially-private-sql), releasing the values of the grouping columns may leak some sensitive information.\n",
        "\n",
        "To avoid that, two methods can be used:\n",
        "- if the grouping keys have public values, we can release the propagated public values,\n",
        "- otherwise we can use the tau-thresholding mechanism.\n",
        "\n",
        "In the following cell, we show how the public values are propagated and then can be used in the DP rewriting."
      ]
    },
    {
      "cell_type": "code",
      "execution_count": 8,
      "id": "f591c869",
      "metadata": {
        "colab": {
          "base_uri": "https://localhost:8080/",
          "height": 590
        },
        "id": "f591c869",
        "outputId": "2a8f39c6-0ee4-4536-bab7-37800b0e6479"
      },
      "outputs": [
        {
          "data": {
            "image/svg+xml": [
              "<?xml version=\"1.0\" encoding=\"UTF-8\" standalone=\"no\"?>\n",
              "<!DOCTYPE svg PUBLIC \"-//W3C//DTD SVG 1.1//EN\"\n",
              " \"http://www.w3.org/Graphics/SVG/1.1/DTD/svg11.dtd\">\n",
              "<!-- Generated by graphviz version 8.1.0 (20230707.0739)\n",
              " -->\n",
              "<!-- Title: graph_dbnj Pages: 1 -->\n",
              "<svg width=\"355pt\" height=\"430pt\"\n",
              " viewBox=\"0.00 0.00 354.80 430.20\" xmlns=\"http://www.w3.org/2000/svg\" xmlns:xlink=\"http://www.w3.org/1999/xlink\">\n",
              "<g id=\"graph0\" class=\"graph\" transform=\"scale(1 1) rotate(0) translate(4 426.2)\">\n",
              "<title>graph_dbnj</title>\n",
              "<polygon fill=\"none\" stroke=\"none\" points=\"-4,4 -4,-426.2 350.8,-426.2 350.8,4 -4,4\"/>\n",
              "<!-- graph_dbnj -->\n",
              "<g id=\"node1\" class=\"node\">\n",
              "<title>graph_dbnj</title>\n",
              "<path fill=\"#428e92\" stroke=\"#000000\" stroke-opacity=\"0.333333\" d=\"M274.05,-422.2C274.05,-422.2 72.75,-422.2 72.75,-422.2 66.75,-422.2 60.75,-416.2 60.75,-410.2 60.75,-410.2 60.75,-372.4 60.75,-372.4 60.75,-366.4 66.75,-360.4 72.75,-360.4 72.75,-360.4 274.05,-360.4 274.05,-360.4 280.05,-360.4 286.05,-366.4 286.05,-372.4 286.05,-372.4 286.05,-410.2 286.05,-410.2 286.05,-416.2 280.05,-422.2 274.05,-422.2\"/>\n",
              "<text text-anchor=\"start\" x=\"102.15\" y=\"-398.35\" font-family=\"Red Hat Display,sans-serif\" font-weight=\"bold\" font-size=\"11.00\" fill=\"#000000\" fill-opacity=\"0.733333\">MAP_URJ5 size ∈ int[0 910]</text>\n",
              "<text text-anchor=\"start\" x=\"85.65\" y=\"-387.35\" font-family=\"Red Hat Display,sans-serif\" font-size=\"11.00\" fill=\"#000000\" fill-opacity=\"0.733333\">store = field_8tj1 ∈ str{a, b} UNIQUE</text>\n",
              "<text text-anchor=\"start\" x=\"75.15\" y=\"-376.35\" font-family=\"Red Hat Display,sans-serif\" font-size=\"11.00\" fill=\"#000000\" fill-opacity=\"0.733333\">field_dtwp = field_7hx6 ∈ float[0 3555.37]</text>\n",
              "</g>\n",
              "<!-- graph_hx7v -->\n",
              "<g id=\"node2\" class=\"node\">\n",
              "<title>graph_hx7v</title>\n",
              "<path fill=\"#00363a\" stroke=\"#000000\" stroke-opacity=\"0.333333\" d=\"M286.05,-331.4C286.05,-331.4 60.75,-331.4 60.75,-331.4 54.75,-331.4 48.75,-325.4 48.75,-319.4 48.75,-319.4 48.75,-270.6 48.75,-270.6 48.75,-264.6 54.75,-258.6 60.75,-258.6 60.75,-258.6 286.05,-258.6 286.05,-258.6 292.05,-258.6 298.05,-264.6 298.05,-270.6 298.05,-270.6 298.05,-319.4 298.05,-319.4 298.05,-325.4 292.05,-331.4 286.05,-331.4\"/>\n",
              "<text text-anchor=\"start\" x=\"90.15\" y=\"-307.55\" font-family=\"Red Hat Display,sans-serif\" font-weight=\"bold\" font-size=\"11.00\" fill=\"#ffffff\" fill-opacity=\"0.733333\">REDUCE_KF4D size ∈ int[0 910]</text>\n",
              "<text text-anchor=\"start\" x=\"63.9\" y=\"-296.55\" font-family=\"Red Hat Display,sans-serif\" font-size=\"11.00\" fill=\"#ffffff\" fill-opacity=\"0.733333\">field_8tj1 = first(field_8tj1) ∈ str{a, b} UNIQUE</text>\n",
              "<text text-anchor=\"start\" x=\"63.15\" y=\"-285.55\" font-family=\"Red Hat Display,sans-serif\" font-size=\"11.00\" fill=\"#ffffff\" fill-opacity=\"0.733333\">field_7hx6 = sum(field__6vl) ∈ float[0 3555.37]</text>\n",
              "<text text-anchor=\"start\" x=\"117.52\" y=\"-274.55\" font-family=\"Red Hat Display,sans-serif\" font-size=\"11.00\" fill=\"#ffffff\" fill-opacity=\"0.733333\">GROUP BY (field_8tj1)</text>\n",
              "</g>\n",
              "<!-- graph_dbnj&#45;&gt;graph_hx7v -->\n",
              "<g id=\"edge3\" class=\"edge\">\n",
              "<title>graph_dbnj&#45;&gt;graph_hx7v</title>\n",
              "<path fill=\"none\" stroke=\"#2b303a\" d=\"M173.4,-359.94C173.4,-354.36 173.4,-348.41 173.4,-342.48\"/>\n",
              "<polygon fill=\"#2b303a\" stroke=\"#2b303a\" points=\"176.9,-342.89 173.4,-332.89 169.9,-342.89 176.9,-342.89\"/>\n",
              "</g>\n",
              "<!-- graph_71lf -->\n",
              "<g id=\"node3\" class=\"node\">\n",
              "<title>graph_71lf</title>\n",
              "<path fill=\"#428e92\" stroke=\"#000000\" stroke-opacity=\"0.333333\" d=\"M275.55,-229.6C275.55,-229.6 71.25,-229.6 71.25,-229.6 65.25,-229.6 59.25,-223.6 59.25,-217.6 59.25,-217.6 59.25,-168.8 59.25,-168.8 59.25,-162.8 65.25,-156.8 71.25,-156.8 71.25,-156.8 275.55,-156.8 275.55,-156.8 281.55,-156.8 287.55,-162.8 287.55,-168.8 287.55,-168.8 287.55,-217.6 287.55,-217.6 287.55,-223.6 281.55,-229.6 275.55,-229.6\"/>\n",
              "<text text-anchor=\"start\" x=\"102.9\" y=\"-205.75\" font-family=\"Red Hat Display,sans-serif\" font-weight=\"bold\" font-size=\"11.00\" fill=\"#000000\" fill-opacity=\"0.733333\">MAP_TR__ size ∈ int[0 910]</text>\n",
              "<text text-anchor=\"start\" x=\"73.65\" y=\"-194.75\" font-family=\"Red Hat Display,sans-serif\" font-size=\"11.00\" fill=\"#000000\" fill-opacity=\"0.733333\">field__6vl = fuel_price ∈ float[2.514 3.907]</text>\n",
              "<text text-anchor=\"start\" x=\"108.9\" y=\"-183.75\" font-family=\"Red Hat Display,sans-serif\" font-size=\"11.00\" fill=\"#000000\" fill-opacity=\"0.733333\">field_8tj1 = store ∈ str{a, b}</text>\n",
              "<text text-anchor=\"start\" x=\"115.27\" y=\"-172.75\" font-family=\"Red Hat Display,sans-serif\" font-size=\"11.00\" fill=\"#000000\" fill-opacity=\"0.733333\">WHERE (store in (a, b))</text>\n",
              "</g>\n",
              "<!-- graph_hx7v&#45;&gt;graph_71lf -->\n",
              "<g id=\"edge2\" class=\"edge\">\n",
              "<title>graph_hx7v&#45;&gt;graph_71lf</title>\n",
              "<path fill=\"none\" stroke=\"#2b303a\" d=\"M173.4,-258.25C173.4,-252.66 173.4,-246.81 173.4,-241.02\"/>\n",
              "<polygon fill=\"#2b303a\" stroke=\"#2b303a\" points=\"176.9,-241.03 173.4,-231.03 169.9,-241.03 176.9,-241.03\"/>\n",
              "</g>\n",
              "<!-- graph_a8up -->\n",
              "<g id=\"node4\" class=\"node\">\n",
              "<title>graph_a8up</title>\n",
              "<path fill=\"#ff1744\" stroke=\"#000000\" stroke-opacity=\"0.333333\" d=\"M334.8,-127.8C334.8,-127.8 12,-127.8 12,-127.8 6,-127.8 0,-121.8 0,-115.8 0,-115.8 0,-12 0,-12 0,-6 6,0 12,0 12,0 334.8,0 334.8,0 340.8,0 346.8,-6 346.8,-12 346.8,-12 346.8,-115.8 346.8,-115.8 346.8,-121.8 340.8,-127.8 334.8,-127.8\"/>\n",
              "<text text-anchor=\"start\" x=\"83.4\" y=\"-103.95\" font-family=\"Red Hat Display,sans-serif\" font-weight=\"bold\" font-size=\"11.00\" fill=\"#ffffff\" fill-opacity=\"0.733333\">RETAIL_FEATURES size ∈ int{910}</text>\n",
              "<text text-anchor=\"start\" x=\"146.77\" y=\"-92.95\" font-family=\"Red Hat Display,sans-serif\" font-size=\"11.00\" fill=\"#ffffff\" fill-opacity=\"0.733333\">id = id ∈ str</text>\n",
              "<text text-anchor=\"start\" x=\"131.02\" y=\"-81.95\" font-family=\"Red Hat Display,sans-serif\" font-size=\"11.00\" fill=\"#ffffff\" fill-opacity=\"0.733333\">store = store ∈ str</text>\n",
              "<text text-anchor=\"start\" x=\"14.4\" y=\"-70.95\" font-family=\"Red Hat Display,sans-serif\" font-size=\"11.00\" fill=\"#ffffff\" fill-opacity=\"0.733333\">date = date ∈ datetime[2010&#45;02&#45;05 00:00:00 2013&#45;07&#45;26 00:00:00]</text>\n",
              "<text text-anchor=\"start\" x=\"60.9\" y=\"-59.95\" font-family=\"Red Hat Display,sans-serif\" font-size=\"11.00\" fill=\"#ffffff\" fill-opacity=\"0.733333\">temperature = temperature ∈ float[28.84 93.34]</text>\n",
              "<text text-anchor=\"start\" x=\"72.9\" y=\"-48.95\" font-family=\"Red Hat Display,sans-serif\" font-size=\"11.00\" fill=\"#ffffff\" fill-opacity=\"0.733333\">fuel_price = fuel_price ∈ float[2.514 3.907]</text>\n",
              "<text text-anchor=\"start\" x=\"81.9\" y=\"-37.95\" font-family=\"Red Hat Display,sans-serif\" font-size=\"11.00\" fill=\"#ffffff\" fill-opacity=\"0.733333\">cpi = cpi ∈ float[126.064 228.7298638]</text>\n",
              "<text text-anchor=\"start\" x=\"48.9\" y=\"-26.95\" font-family=\"Red Hat Display,sans-serif\" font-size=\"11.00\" fill=\"#ffffff\" fill-opacity=\"0.733333\">unemployment = unemployment ∈ float[3.879 8.623]</text>\n",
              "<text text-anchor=\"start\" x=\"109.65\" y=\"-15.95\" font-family=\"Red Hat Display,sans-serif\" font-size=\"11.00\" fill=\"#ffffff\" fill-opacity=\"0.733333\">isholiday = isholiday ∈ bool</text>\n",
              "</g>\n",
              "<!-- graph_71lf&#45;&gt;graph_a8up -->\n",
              "<g id=\"edge1\" class=\"edge\">\n",
              "<title>graph_71lf&#45;&gt;graph_a8up</title>\n",
              "<path fill=\"none\" stroke=\"#2b303a\" d=\"M173.4,-156.4C173.4,-150.89 173.4,-145.02 173.4,-139.03\"/>\n",
              "<polygon fill=\"#2b303a\" stroke=\"#2b303a\" points=\"176.9,-139.16 173.4,-129.16 169.9,-139.16 176.9,-139.16\"/>\n",
              "</g>\n",
              "</g>\n",
              "</svg>\n"
            ],
            "text/plain": [
              "<graphviz.sources.Source at 0x11bb27e80>"
            ]
          },
          "metadata": {},
          "output_type": "display_data"
        }
      ],
      "source": [
        "relation = dataset.sql(\"SELECT store, SUM(fuel_price) FROM retail.features WHERE store IN ('a', 'b') GROUP BY store \")\n",
        "display(graphviz.Source(relation.dot()))"
      ]
    },
    {
      "cell_type": "markdown",
      "id": "5b28a481",
      "metadata": {
        "id": "5b28a481"
      },
      "source": [
        "## Rewritting with DP"
      ]
    },
    {
      "cell_type": "markdown",
      "id": "f03b57f8",
      "metadata": {
        "id": "f03b57f8"
      },
      "source": [
        "The rewritting with DP is done in 3 steps:\n",
        "- **Protect** the input `Relation` as described before\n",
        "- **DP-rewritting of the grouping keys**: a grouping key can be released if already public or if it appears in enough users rows,\n",
        "- **Add noise** scaled by the privacy parameters to each aggregation."
      ]
    },
    {
      "cell_type": "markdown",
      "id": "fac10e08",
      "metadata": {
        "id": "fac10e08"
      },
      "source": [
        "\n",
        "We use the `rewrite_with_differential_privacy` method that transforms a `Relation` into its differentially private equivalent.\n",
        "\n",
        "It inputs:\n",
        "- the privacy parameters `epsilon` and `delta` scaling the amount of gaussian noise added to the aggregates,\n",
        "- the privacy parameters `epsilon_tau_thresholding` and `delta_tau_thresholding` input in the tau-thresholding algorithm (if needed),\n",
        "- an array containing the privacy unit of each table,\n",
        "- a `Dataset`."
      ]
    },
    {
      "cell_type": "code",
      "execution_count": 9,
      "id": "9b989849",
      "metadata": {
        "id": "9b989849"
      },
      "outputs": [],
      "source": [
        "privacy_unit = [\n",
        "    (\"stores\", [(\"store\", \"features\", \"store\")], \"id\"),\n",
        "    (\"features\", [], \"id\"),\n",
        "    (\"sales\", [], \"id\")\n",
        "]\n",
        "budget = {\"epsilon\": 1.0, \"delta\": 5e-4}\n",
        "synthetic_data = [\n",
        "    ([\"retail\", \"features\"], [\"retail\", \"features_sd\"]),\n",
        "]\n",
        "\n",
        "query = \"SELECT SUM(fuel_price) AS my_sum FROM retail.features WHERE fuel_price > 2.514 AND fuel_price < 3.907\"\n",
        "relation = dataset.sql(query)\n",
        "\n",
        "relation_with_private_queries = relation.rewrite_with_differential_privacy(\n",
        "    dataset,\n",
        "    synthetic_data,\n",
        "    privacy_unit,\n",
        "    budget\n",
        ")\n",
        "dp_relation = relation_with_private_queries.relation()\n",
        "mechanisms_used = relation_with_private_queries.private_query()"
      ]
    },
    {
      "cell_type": "code",
      "execution_count": 10,
      "id": "b5eec893",
      "metadata": {
        "colab": {
          "base_uri": "https://localhost:8080/"
        },
        "id": "b5eec893",
        "outputId": "482bb22e-b6ef-4e8c-aa9e-e2bcf7620965"
      },
      "outputs": [
        {
          "name": "stdout",
          "output_type": "stream",
          "text": [
            "Relation: \u001b[1;34mSELECT\u001b[0m my_sum AS my_sum \u001b[1;34mFROM\u001b[0m ( \u001b[1;34mSELECT\u001b[0m _SUM_field__6vl AS my_sum \u001b[1;34mFROM\u001b[0m ( \u001b[1;34mSELECT\u001b[0m least(3555.37, greatest(0, (coalesce(_SUM_field__6vl, 0) + (15.455181404019267 * (sqrt((-2 * ln(random()))) * cos((6.283185307179586 * random()))))))) AS _SUM_field__6vl \u001b[1;34mFROM\u001b[0m ( \u001b[1;34mSELECT\u001b[0m sum(field_q9u_) \u001b[1;34mAS\u001b[0m _SUM_field__6vl \u001b[1;34mFROM\u001b[0m ( \u001b[1;34mSELECT\u001b[0m _CLIPPED_field__6vl AS field_q9u_ \u001b[1;34mFROM\u001b[0m ( \u001b[1;34mSELECT\u001b[0m _PRIVACY_UNIT_ AS _PRIVACY_UNIT_, _PRIVACY_UNIT_WEIGHT_ AS _PRIVACY_UNIT_WEIGHT_, field__6vl AS field__6vl, _SCALE_FACTOR__PRIVACY_UNIT_ AS _SCALE_FACTOR__PRIVACY_UNIT_, _SCALE_FACTOR_field__6vl AS _SCALE_FACTOR_field__6vl, (field__6vl * _SCALE_FACTOR_field__6vl) AS _CLIPPED_field__6vl \u001b[1;34mFROM\u001b[0m ( \u001b[1;34mSELECT\u001b[0m map_r903._PRIVACY_UNIT_ \u001b[1;34mAS\u001b[0m \u001b[35m_PRIVACY_UNIT_\u001b[0m, map_r903._PRIVACY_UNIT_WEIGHT_ \u001b[1;34mAS\u001b[0m \u001b[35m_PRIVACY_UNIT_WEIGHT_\u001b[0m, map_r903.field__6vl \u001b[1;34mAS\u001b[0m \u001b[35mfield__6vl\u001b[0m, map_pyiw._PRIVACY_UNIT_ \u001b[1;34mAS\u001b[0m \u001b[35m_SCALE_FACTOR__PRIVACY_UNIT_\u001b[0m, map_pyiw.field__6vl \u001b[1;34mAS\u001b[0m \u001b[35m_SCALE_FACTOR_field__6vl\u001b[0m \u001b[1;34mFROM\u001b[0m ( \u001b[1;34mSELECT\u001b[0m coalesce(cast_as_text(_PRIVACY_UNIT_), _PRIVACY_UNIT_DEFAULT_) AS _PRIVACY_UNIT_, coalesce(_PRIVACY_UNIT_WEIGHT_, 0) AS _PRIVACY_UNIT_WEIGHT_, field__6vl AS field__6vl \u001b[1;34mFROM\u001b[0m ( \u001b[1;34mSELECT\u001b[0m _PRIVACY_UNIT_ AS _PRIVACY_UNIT_, _PRIVACY_UNIT_WEIGHT_ AS _PRIVACY_UNIT_WEIGHT_, fuel_price AS field__6vl \u001b[1;34mFROM\u001b[0m ( \u001b[1;34mSELECT\u001b[0m md5(cast_as_text(id)) AS _PRIVACY_UNIT_, 1 AS _PRIVACY_UNIT_WEIGHT_, id AS id, store AS store, date AS date, temperature AS temperature, fuel_price AS fuel_price, cpi AS cpi, unemployment AS unemployment, isholiday AS isholiday \u001b[1;34mFROM\u001b[0m ( retail.features ) ) \u001b[1;34mWHERE\u001b[0m ((fuel_price > 2.514) and (fuel_price < 3.907)) ) ) \u001b[1;34mAS\u001b[0m \u001b[35m_LEFT_\u001b[0m INNER \u001b[1;34mJOIN\u001b[0m ( \u001b[1;34mSELECT\u001b[0m _PRIVACY_UNIT_ AS _PRIVACY_UNIT_, (1 / greatest(1, (sqrt(field__6vl) / 3.907))) AS field__6vl \u001b[1;34mFROM\u001b[0m ( \u001b[1;34mSELECT\u001b[0m first(field_grep) \u001b[1;34mAS\u001b[0m _PRIVACY_UNIT_, sum(field_czvy) \u001b[1;34mAS\u001b[0m field__6vl \u001b[1;34mFROM\u001b[0m ( \u001b[1;34mSELECT\u001b[0m _NORM_field__6vl AS field_czvy, _PRIVACY_UNIT_ AS field_grep \u001b[1;34mFROM\u001b[0m ( \u001b[1;34mSELECT\u001b[0m _PRIVACY_UNIT_ AS _PRIVACY_UNIT_, abs((_NORM_field__6vl * _NORM_field__6vl)) AS _NORM_field__6vl \u001b[1;34mFROM\u001b[0m ( \u001b[1;34mSELECT\u001b[0m first(field_grep) \u001b[1;34mAS\u001b[0m _PRIVACY_UNIT_, sum(field_3d25) \u001b[1;34mAS\u001b[0m _NORM_field__6vl \u001b[1;34mFROM\u001b[0m ( \u001b[1;34mSELECT\u001b[0m field__6vl AS field_3d25, _PRIVACY_UNIT_ AS field_grep \u001b[1;34mFROM\u001b[0m ( \u001b[1;34mSELECT\u001b[0m coalesce(cast_as_text(_PRIVACY_UNIT_), _PRIVACY_UNIT_DEFAULT_) AS _PRIVACY_UNIT_, coalesce(_PRIVACY_UNIT_WEIGHT_, 0) AS _PRIVACY_UNIT_WEIGHT_, field__6vl AS field__6vl \u001b[1;34mFROM\u001b[0m ( \u001b[1;34mSELECT\u001b[0m _PRIVACY_UNIT_ AS _PRIVACY_UNIT_, _PRIVACY_UNIT_WEIGHT_ AS _PRIVACY_UNIT_WEIGHT_, fuel_price AS field__6vl \u001b[1;34mFROM\u001b[0m ( \u001b[1;34mSELECT\u001b[0m md5(cast_as_text(id)) AS _PRIVACY_UNIT_, 1 AS _PRIVACY_UNIT_WEIGHT_, id AS id, store AS store, date AS date, temperature AS temperature, fuel_price AS fuel_price, cpi AS cpi, unemployment AS unemployment, isholiday AS isholiday \u001b[1;34mFROM\u001b[0m ( retail.features ) ) \u001b[1;34mWHERE\u001b[0m ((fuel_price > 2.514) and (fuel_price < 3.907)) ) ) ) \u001b[1;34mGROUP BY\u001b[0m field_grep ) ) ) \u001b[1;34mGROUP BY\u001b[0m field_grep ) ) \u001b[1;34mAS\u001b[0m \u001b[35m_RIGHT_\u001b[0m \u001b[1;34mON\u001b[0m (_LEFT_._PRIVACY_UNIT_ = _RIGHT_._PRIVACY_UNIT_) ) ) ) ) ) )\n",
            "PrivateQuery: Gaussian (15.455181404019267)\n",
            "\n"
          ]
        }
      ],
      "source": [
        "print(relation_with_private_queries)"
      ]
    },
    {
      "cell_type": "markdown",
      "id": "b58c4ff3",
      "metadata": {
        "id": "b58c4ff3"
      },
      "source": [
        "The ouput is a tuple made of two elements:\n",
        "- The first element is the `Relation` rewritten with dp,\n",
        "- the second element is a `PrivateQuery` which stores the DP mechanims invoked during the rewritting.\n",
        "\n",
        "\n",
        "In the present case, we have used only a gaussian mechanim since our query contain only a simple aggregate and no `GROUP BY`."
      ]
    },
    {
      "cell_type": "code",
      "execution_count": 11,
      "id": "fed532e1",
      "metadata": {
        "colab": {
          "base_uri": "https://localhost:8080/"
        },
        "id": "fed532e1",
        "outputId": "42f2a72c-9b20-4703-f5d2-c32914da7793"
      },
      "outputs": [
        {
          "name": "stdout",
          "output_type": "stream",
          "text": [
            "PrivateQuery(Gaussian(15.455181404019267))\n"
          ]
        }
      ],
      "source": [
        "print(mechanisms_used)"
      ]
    },
    {
      "cell_type": "code",
      "execution_count": 12,
      "id": "fd1670d3",
      "metadata": {
        "colab": {
          "base_uri": "https://localhost:8080/",
          "height": 1000
        },
        "id": "fd1670d3",
        "outputId": "ae443cae-6edc-40ba-a343-4a6bde25fa24"
      },
      "outputs": [
        {
          "data": {
            "image/svg+xml": [
              "<?xml version=\"1.0\" encoding=\"UTF-8\" standalone=\"no\"?>\n",
              "<!DOCTYPE svg PUBLIC \"-//W3C//DTD SVG 1.1//EN\"\n",
              " \"http://www.w3.org/Graphics/SVG/1.1/DTD/svg11.dtd\">\n",
              "<!-- Generated by graphviz version 8.1.0 (20230707.0739)\n",
              " -->\n",
              "<!-- Title: graph_n25a Pages: 1 -->\n",
              "<svg width=\"709pt\" height=\"1765pt\"\n",
              " viewBox=\"0.00 0.00 708.55 1764.60\" xmlns=\"http://www.w3.org/2000/svg\" xmlns:xlink=\"http://www.w3.org/1999/xlink\">\n",
              "<g id=\"graph0\" class=\"graph\" transform=\"scale(1 1) rotate(0) translate(4 1760.6)\">\n",
              "<title>graph_n25a</title>\n",
              "<polygon fill=\"none\" stroke=\"none\" points=\"-4,4 -4,-1760.6 704.55,-1760.6 704.55,4 -4,4\"/>\n",
              "<!-- graph_n25a -->\n",
              "<g id=\"node1\" class=\"node\">\n",
              "<title>graph_n25a</title>\n",
              "<path fill=\"#428e92\" stroke=\"#000000\" stroke-opacity=\"0.333333\" d=\"M465.8,-1756.6C465.8,-1756.6 281,-1756.6 281,-1756.6 275,-1756.6 269,-1750.6 269,-1744.6 269,-1744.6 269,-1717.8 269,-1717.8 269,-1711.8 275,-1705.8 281,-1705.8 281,-1705.8 465.8,-1705.8 465.8,-1705.8 471.8,-1705.8 477.8,-1711.8 477.8,-1717.8 477.8,-1717.8 477.8,-1744.6 477.8,-1744.6 477.8,-1750.6 471.8,-1756.6 465.8,-1756.6\"/>\n",
              "<text text-anchor=\"start\" x=\"304.02\" y=\"-1732.75\" font-family=\"Red Hat Display,sans-serif\" font-weight=\"bold\" font-size=\"11.00\" fill=\"#000000\" fill-opacity=\"0.733333\">MAP_8ISR size ∈ int[0 910]</text>\n",
              "<text text-anchor=\"start\" x=\"283.4\" y=\"-1721.75\" font-family=\"Red Hat Display,sans-serif\" font-size=\"11.00\" fill=\"#000000\" fill-opacity=\"0.733333\">my_sum = my_sum ∈ float[0 3555.37]</text>\n",
              "</g>\n",
              "<!-- graph_s757 -->\n",
              "<g id=\"node2\" class=\"node\">\n",
              "<title>graph_s757</title>\n",
              "<path fill=\"#428e92\" stroke=\"#000000\" stroke-opacity=\"0.333333\" d=\"M486.42,-1676.8C486.42,-1676.8 260.38,-1676.8 260.38,-1676.8 254.37,-1676.8 248.37,-1670.8 248.37,-1664.8 248.37,-1664.8 248.37,-1638 248.37,-1638 248.37,-1632 254.37,-1626 260.38,-1626 260.38,-1626 486.42,-1626 486.42,-1626 492.42,-1626 498.42,-1632 498.42,-1638 498.42,-1638 498.42,-1664.8 498.42,-1664.8 498.42,-1670.8 492.42,-1676.8 486.42,-1676.8\"/>\n",
              "<text text-anchor=\"start\" x=\"304.4\" y=\"-1652.95\" font-family=\"Red Hat Display,sans-serif\" font-weight=\"bold\" font-size=\"11.00\" fill=\"#000000\" fill-opacity=\"0.733333\">MAP_XI5P size ∈ int[0 910]</text>\n",
              "<text text-anchor=\"start\" x=\"262.77\" y=\"-1641.95\" font-family=\"Red Hat Display,sans-serif\" font-size=\"11.00\" fill=\"#000000\" fill-opacity=\"0.733333\">my_sum = _SUM_field__6vl ∈ float[0 3555.37]</text>\n",
              "</g>\n",
              "<!-- graph_n25a&#45;&gt;graph_s757 -->\n",
              "<g id=\"edge17\" class=\"edge\">\n",
              "<title>graph_n25a&#45;&gt;graph_s757</title>\n",
              "<path fill=\"none\" stroke=\"#2b303a\" d=\"M373.4,-1705.58C373.4,-1699.91 373.4,-1693.76 373.4,-1687.73\"/>\n",
              "<polygon fill=\"#2b303a\" stroke=\"#2b303a\" points=\"376.9,-1688.12 373.4,-1678.12 369.9,-1688.12 376.9,-1688.12\"/>\n",
              "</g>\n",
              "<!-- graph_qckt -->\n",
              "<g id=\"node3\" class=\"node\">\n",
              "<title>graph_qckt</title>\n",
              "<path fill=\"#428e92\" stroke=\"#000000\" stroke-opacity=\"0.333333\" d=\"M688.55,-1597C688.55,-1597 58.25,-1597 58.25,-1597 52.25,-1597 46.25,-1591 46.25,-1585 46.25,-1585 46.25,-1558.2 46.25,-1558.2 46.25,-1552.2 52.25,-1546.2 58.25,-1546.2 58.25,-1546.2 688.55,-1546.2 688.55,-1546.2 694.55,-1546.2 700.55,-1552.2 700.55,-1558.2 700.55,-1558.2 700.55,-1585 700.55,-1585 700.55,-1591 694.55,-1597 688.55,-1597\"/>\n",
              "<text text-anchor=\"start\" x=\"302.15\" y=\"-1573.15\" font-family=\"Red Hat Display,sans-serif\" font-weight=\"bold\" font-size=\"11.00\" fill=\"#000000\" fill-opacity=\"0.733333\">MAP_NSZ5 size ∈ int[0 910]</text>\n",
              "<text text-anchor=\"start\" x=\"60.65\" y=\"-1562.15\" font-family=\"Red Hat Display,sans-serif\" font-size=\"11.00\" fill=\"#000000\" fill-opacity=\"0.733333\">_SUM_field__6vl = least(3555.37, greatest(0, (coalesce(_SUM_field__6vl, 0) + (15.455181404019267 * (sqrt((&#45;2 * ln(random())))...</text>\n",
              "</g>\n",
              "<!-- graph_s757&#45;&gt;graph_qckt -->\n",
              "<g id=\"edge16\" class=\"edge\">\n",
              "<title>graph_s757&#45;&gt;graph_qckt</title>\n",
              "<path fill=\"none\" stroke=\"#2b303a\" d=\"M373.4,-1625.78C373.4,-1620.11 373.4,-1613.96 373.4,-1607.93\"/>\n",
              "<polygon fill=\"#2b303a\" stroke=\"#2b303a\" points=\"376.9,-1608.32 373.4,-1598.32 369.9,-1608.32 376.9,-1608.32\"/>\n",
              "</g>\n",
              "<!-- graph_0ukl -->\n",
              "<g id=\"node4\" class=\"node\">\n",
              "<title>graph_0ukl</title>\n",
              "<path fill=\"#00363a\" stroke=\"#000000\" stroke-opacity=\"0.333333\" d=\"M504.8,-1517.2C504.8,-1517.2 242,-1517.2 242,-1517.2 236,-1517.2 230,-1511.2 230,-1505.2 230,-1505.2 230,-1478.4 230,-1478.4 230,-1472.4 236,-1466.4 242,-1466.4 242,-1466.4 504.8,-1466.4 504.8,-1466.4 510.8,-1466.4 516.8,-1472.4 516.8,-1478.4 516.8,-1478.4 516.8,-1505.2 516.8,-1505.2 516.8,-1511.2 510.8,-1517.2 504.8,-1517.2\"/>\n",
              "<text text-anchor=\"start\" x=\"290.15\" y=\"-1493.35\" font-family=\"Red Hat Display,sans-serif\" font-weight=\"bold\" font-size=\"11.00\" fill=\"#ffffff\" fill-opacity=\"0.733333\">REDUCE_04WL size ∈ int[0 910]</text>\n",
              "<text text-anchor=\"start\" x=\"244.4\" y=\"-1482.35\" font-family=\"Red Hat Display,sans-serif\" font-size=\"11.00\" fill=\"#ffffff\" fill-opacity=\"0.733333\">_SUM_field__6vl = sum(field_q9u_) ∈ float[0 3555.37]</text>\n",
              "</g>\n",
              "<!-- graph_qckt&#45;&gt;graph_0ukl -->\n",
              "<g id=\"edge15\" class=\"edge\">\n",
              "<title>graph_qckt&#45;&gt;graph_0ukl</title>\n",
              "<path fill=\"none\" stroke=\"#2b303a\" d=\"M373.4,-1545.98C373.4,-1540.31 373.4,-1534.16 373.4,-1528.13\"/>\n",
              "<polygon fill=\"#2b303a\" stroke=\"#2b303a\" points=\"376.9,-1528.52 373.4,-1518.52 369.9,-1528.52 376.9,-1528.52\"/>\n",
              "</g>\n",
              "<!-- graph_ei5e -->\n",
              "<g id=\"node5\" class=\"node\">\n",
              "<title>graph_ei5e</title>\n",
              "<path fill=\"#428e92\" stroke=\"#000000\" stroke-opacity=\"0.333333\" d=\"M555.05,-1437.4C555.05,-1437.4 191.75,-1437.4 191.75,-1437.4 185.75,-1437.4 179.75,-1431.4 179.75,-1425.4 179.75,-1425.4 179.75,-1398.6 179.75,-1398.6 179.75,-1392.6 185.75,-1386.6 191.75,-1386.6 191.75,-1386.6 555.05,-1386.6 555.05,-1386.6 561.05,-1386.6 567.05,-1392.6 567.05,-1398.6 567.05,-1398.6 567.05,-1425.4 567.05,-1425.4 567.05,-1431.4 561.05,-1437.4 555.05,-1437.4\"/>\n",
              "<text text-anchor=\"start\" x=\"301.4\" y=\"-1413.55\" font-family=\"Red Hat Display,sans-serif\" font-weight=\"bold\" font-size=\"11.00\" fill=\"#000000\" fill-opacity=\"0.733333\">MAP_K2FM size ∈ int[0 910]</text>\n",
              "<text text-anchor=\"start\" x=\"194.15\" y=\"-1402.55\" font-family=\"Red Hat Display,sans-serif\" font-size=\"11.00\" fill=\"#000000\" fill-opacity=\"0.733333\">field_q9u_ = _CLIPPED_field__6vl ∈ float[0.0000915805368102931 3.907]</text>\n",
              "</g>\n",
              "<!-- graph_0ukl&#45;&gt;graph_ei5e -->\n",
              "<g id=\"edge14\" class=\"edge\">\n",
              "<title>graph_0ukl&#45;&gt;graph_ei5e</title>\n",
              "<path fill=\"none\" stroke=\"#2b303a\" d=\"M373.4,-1466.18C373.4,-1460.51 373.4,-1454.36 373.4,-1448.33\"/>\n",
              "<polygon fill=\"#2b303a\" stroke=\"#2b303a\" points=\"376.9,-1448.72 373.4,-1438.72 369.9,-1448.72 376.9,-1448.72\"/>\n",
              "</g>\n",
              "<!-- graph_2dcq -->\n",
              "<g id=\"node6\" class=\"node\">\n",
              "<title>graph_2dcq</title>\n",
              "<path fill=\"#428e92\" stroke=\"#000000\" stroke-opacity=\"0.333333\" d=\"M634.17,-1357.6C634.17,-1357.6 112.62,-1357.6 112.62,-1357.6 106.62,-1357.6 100.62,-1351.6 100.62,-1345.6 100.62,-1345.6 100.62,-1263.8 100.62,-1263.8 100.62,-1257.8 106.62,-1251.8 112.62,-1251.8 112.62,-1251.8 634.17,-1251.8 634.17,-1251.8 640.17,-1251.8 646.17,-1257.8 646.17,-1263.8 646.17,-1263.8 646.17,-1345.6 646.17,-1345.6 646.17,-1351.6 640.17,-1357.6 634.17,-1357.6\"/>\n",
              "<text text-anchor=\"start\" x=\"301.77\" y=\"-1333.75\" font-family=\"Red Hat Display,sans-serif\" font-weight=\"bold\" font-size=\"11.00\" fill=\"#000000\" fill-opacity=\"0.733333\">MAP_KKF_ size ∈ int[0 910]</text>\n",
              "<text text-anchor=\"start\" x=\"262.77\" y=\"-1322.75\" font-family=\"Red Hat Display,sans-serif\" font-size=\"11.00\" fill=\"#000000\" fill-opacity=\"0.733333\">_PRIVACY_UNIT_ = _PRIVACY_UNIT_ ∈ str</text>\n",
              "<text text-anchor=\"start\" x=\"206.15\" y=\"-1311.75\" font-family=\"Red Hat Display,sans-serif\" font-size=\"11.00\" fill=\"#000000\" fill-opacity=\"0.733333\">_PRIVACY_UNIT_WEIGHT_ = _PRIVACY_UNIT_WEIGHT_ ∈ int{1}</text>\n",
              "<text text-anchor=\"start\" x=\"274.4\" y=\"-1300.75\" font-family=\"Red Hat Display,sans-serif\" font-size=\"11.00\" fill=\"#000000\" fill-opacity=\"0.733333\">field__6vl = field__6vl ∈ float[2.514 3.907]</text>\n",
              "<text text-anchor=\"start\" x=\"163.02\" y=\"-1289.75\" font-family=\"Red Hat Display,sans-serif\" font-size=\"11.00\" fill=\"#000000\" fill-opacity=\"0.733333\">_SCALE_FACTOR__PRIVACY_UNIT_ = _SCALE_FACTOR__PRIVACY_UNIT_ ∈ str</text>\n",
              "<text text-anchor=\"start\" x=\"134.15\" y=\"-1278.75\" font-family=\"Red Hat Display,sans-serif\" font-size=\"11.00\" fill=\"#000000\" fill-opacity=\"0.733333\">_SCALE_FACTOR_field__6vl = _SCALE_FACTOR_field__6vl ∈ float[0.00003642821671053823 1]</text>\n",
              "<text text-anchor=\"start\" x=\"115.02\" y=\"-1267.75\" font-family=\"Red Hat Display,sans-serif\" font-size=\"11.00\" fill=\"#000000\" fill-opacity=\"0.733333\">_CLIPPED_field__6vl = (field__6vl * _SCALE_FACTOR_field__6vl) ∈ float[0.0000915805368102931 3.907]</text>\n",
              "</g>\n",
              "<!-- graph_ei5e&#45;&gt;graph_2dcq -->\n",
              "<g id=\"edge13\" class=\"edge\">\n",
              "<title>graph_ei5e&#45;&gt;graph_2dcq</title>\n",
              "<path fill=\"none\" stroke=\"#2b303a\" d=\"M373.4,-1386.31C373.4,-1380.86 373.4,-1374.84 373.4,-1368.63\"/>\n",
              "<polygon fill=\"#2b303a\" stroke=\"#2b303a\" points=\"376.9,-1369.05 373.4,-1359.05 369.9,-1369.05 376.9,-1369.05\"/>\n",
              "</g>\n",
              "<!-- graph_rkbh -->\n",
              "<g id=\"node7\" class=\"node\">\n",
              "<title>graph_rkbh</title>\n",
              "<path fill=\"#ff616f\" stroke=\"#000000\" stroke-opacity=\"0.333333\" d=\"M589.92,-1222.8C589.92,-1222.8 156.88,-1222.8 156.88,-1222.8 150.88,-1222.8 144.87,-1216.8 144.87,-1210.8 144.87,-1210.8 144.87,-1129 144.87,-1129 144.87,-1123 150.87,-1117 156.87,-1117 156.87,-1117 589.92,-1117 589.92,-1117 595.92,-1117 601.92,-1123 601.92,-1129 601.92,-1129 601.92,-1210.8 601.92,-1210.8 601.92,-1216.8 595.92,-1222.8 589.92,-1222.8\"/>\n",
              "<text text-anchor=\"start\" x=\"303.27\" y=\"-1198.95\" font-family=\"Red Hat Display,sans-serif\" font-weight=\"bold\" font-size=\"11.00\" fill=\"#000000\" fill-opacity=\"0.733333\">JOIN_60EJ size ∈ int[0 910]</text>\n",
              "<text text-anchor=\"start\" x=\"241.77\" y=\"-1187.95\" font-family=\"Red Hat Display,sans-serif\" font-size=\"11.00\" fill=\"#000000\" fill-opacity=\"0.733333\">_PRIVACY_UNIT_ = _LEFT_._PRIVACY_UNIT_ ∈ str</text>\n",
              "<text text-anchor=\"start\" x=\"185.15\" y=\"-1176.95\" font-family=\"Red Hat Display,sans-serif\" font-size=\"11.00\" fill=\"#000000\" fill-opacity=\"0.733333\">_PRIVACY_UNIT_WEIGHT_ = _LEFT_._PRIVACY_UNIT_WEIGHT_ ∈ int{1}</text>\n",
              "<text text-anchor=\"start\" x=\"253.4\" y=\"-1165.95\" font-family=\"Red Hat Display,sans-serif\" font-size=\"11.00\" fill=\"#000000\" fill-opacity=\"0.733333\">field__6vl = _LEFT_.field__6vl ∈ float[2.514 3.907]</text>\n",
              "<text text-anchor=\"start\" x=\"188.15\" y=\"-1154.95\" font-family=\"Red Hat Display,sans-serif\" font-size=\"11.00\" fill=\"#000000\" fill-opacity=\"0.733333\">_SCALE_FACTOR__PRIVACY_UNIT_ = _RIGHT_._PRIVACY_UNIT_ ∈ str</text>\n",
              "<text text-anchor=\"start\" x=\"159.27\" y=\"-1143.95\" font-family=\"Red Hat Display,sans-serif\" font-size=\"11.00\" fill=\"#000000\" fill-opacity=\"0.733333\">_SCALE_FACTOR_field__6vl = _RIGHT_.field__6vl ∈ float[0.00003642821671053823 1]</text>\n",
              "<text text-anchor=\"start\" x=\"196.4\" y=\"-1132.95\" font-family=\"Red Hat Display,sans-serif\" font-size=\"11.00\" fill=\"#000000\" fill-opacity=\"0.733333\">INNER ON (_LEFT_._PRIVACY_UNIT_ = _RIGHT_._PRIVACY_UNIT_)</text>\n",
              "</g>\n",
              "<!-- graph_2dcq&#45;&gt;graph_rkbh -->\n",
              "<g id=\"edge12\" class=\"edge\">\n",
              "<title>graph_2dcq&#45;&gt;graph_rkbh</title>\n",
              "<path fill=\"none\" stroke=\"#2b303a\" d=\"M373.4,-1251.6C373.4,-1245.78 373.4,-1239.82 373.4,-1233.88\"/>\n",
              "<polygon fill=\"#2b303a\" stroke=\"#2b303a\" points=\"376.9,-1234.29 373.4,-1224.29 369.9,-1234.29 376.9,-1234.29\"/>\n",
              "</g>\n",
              "<!-- graph_ogvc -->\n",
              "<g id=\"node8\" class=\"node\">\n",
              "<title>graph_ogvc</title>\n",
              "<path fill=\"#428e92\" stroke=\"#000000\" stroke-opacity=\"0.333333\" d=\"M465.3,-1088C465.3,-1088 31.5,-1088 31.5,-1088 25.5,-1088 19.5,-1082 19.5,-1076 19.5,-1076 19.5,-1038.2 19.5,-1038.2 19.5,-1032.2 25.5,-1026.2 31.5,-1026.2 31.5,-1026.2 465.3,-1026.2 465.3,-1026.2 471.3,-1026.2 477.3,-1032.2 477.3,-1038.2 477.3,-1038.2 477.3,-1076 477.3,-1076 477.3,-1082 471.3,-1088 465.3,-1088\"/>\n",
              "<text text-anchor=\"start\" x=\"177.15\" y=\"-1064.15\" font-family=\"Red Hat Display,sans-serif\" font-weight=\"bold\" font-size=\"11.00\" fill=\"#000000\" fill-opacity=\"0.733333\">MAP_PYIW size ∈ int[0 910]</text>\n",
              "<text text-anchor=\"start\" x=\"114.52\" y=\"-1053.15\" font-family=\"Red Hat Display,sans-serif\" font-size=\"11.00\" fill=\"#000000\" fill-opacity=\"0.733333\">_PRIVACY_UNIT_ = _PRIVACY_UNIT_ ∈ str UNIQUE</text>\n",
              "<text text-anchor=\"start\" x=\"33.9\" y=\"-1042.15\" font-family=\"Red Hat Display,sans-serif\" font-size=\"11.00\" fill=\"#000000\" fill-opacity=\"0.733333\">field__6vl = (1 / greatest(1, (sqrt(field__6vl) / 3.907))) ∈ float[0.00003642821671053823 1]</text>\n",
              "</g>\n",
              "<!-- graph_rkbh&#45;&gt;graph_ogvc -->\n",
              "<g id=\"edge11\" class=\"edge\">\n",
              "<title>graph_rkbh&#45;&gt;graph_ogvc</title>\n",
              "<path fill=\"none\" stroke=\"#2b303a\" d=\"M314.56,-1116.74C306.47,-1109.57 298.3,-1102.33 290.58,-1095.49\"/>\n",
              "<polygon fill=\"#2b303a\" stroke=\"#2b303a\" points=\"293.23,-1093.27 283.43,-1089.26 288.59,-1098.51 293.23,-1093.27\"/>\n",
              "</g>\n",
              "<!-- graph_fsog -->\n",
              "<g id=\"node14\" class=\"node\">\n",
              "<title>graph_fsog</title>\n",
              "<path fill=\"#428e92\" stroke=\"#000000\" stroke-opacity=\"0.333333\" d=\"M641.8,-521.2C641.8,-521.2 145,-521.2 145,-521.2 139,-521.2 133,-515.2 133,-509.2 133,-509.2 133,-460.4 133,-460.4 133,-454.4 139,-448.4 145,-448.4 145,-448.4 641.8,-448.4 641.8,-448.4 647.8,-448.4 653.8,-454.4 653.8,-460.4 653.8,-460.4 653.8,-509.2 653.8,-509.2 653.8,-515.2 647.8,-521.2 641.8,-521.2\"/>\n",
              "<text text-anchor=\"start\" x=\"323.27\" y=\"-497.35\" font-family=\"Red Hat Display,sans-serif\" font-weight=\"bold\" font-size=\"11.00\" fill=\"#000000\" fill-opacity=\"0.733333\">MAP_R903 size ∈ int[0 910]</text>\n",
              "<text text-anchor=\"start\" x=\"147.4\" y=\"-486.35\" font-family=\"Red Hat Display,sans-serif\" font-size=\"11.00\" fill=\"#000000\" fill-opacity=\"0.733333\">_PRIVACY_UNIT_ = coalesce(cast_as_text(_PRIVACY_UNIT_), _PRIVACY_UNIT_DEFAULT_) ∈ str</text>\n",
              "<text text-anchor=\"start\" x=\"195.4\" y=\"-475.35\" font-family=\"Red Hat Display,sans-serif\" font-size=\"11.00\" fill=\"#000000\" fill-opacity=\"0.733333\">_PRIVACY_UNIT_WEIGHT_ = coalesce(_PRIVACY_UNIT_WEIGHT_, 0) ∈ int{1}</text>\n",
              "<text text-anchor=\"start\" x=\"294.4\" y=\"-464.35\" font-family=\"Red Hat Display,sans-serif\" font-size=\"11.00\" fill=\"#000000\" fill-opacity=\"0.733333\">field__6vl = field__6vl ∈ float[2.514 3.907]</text>\n",
              "</g>\n",
              "<!-- graph_rkbh&#45;&gt;graph_fsog -->\n",
              "<g id=\"edge10\" class=\"edge\">\n",
              "<title>graph_rkbh&#45;&gt;graph_fsog</title>\n",
              "<path fill=\"none\" stroke=\"#2b303a\" d=\"M460.77,-1116.75C469.93,-1108.17 478.15,-1098.57 484.4,-1088 513.15,-1039.32 500.4,-1018.34 500.4,-961.8 500.4,-961.8 500.4,-961.8 500.4,-676.4 500.4,-620.72 465.25,-566.25 435.24,-529.89\"/>\n",
              "<polygon fill=\"#2b303a\" stroke=\"#2b303a\" points=\"437.27,-527.88 428.14,-522.51 431.93,-532.4 437.27,-527.88\"/>\n",
              "</g>\n",
              "<!-- graph_rx2r -->\n",
              "<g id=\"node9\" class=\"node\">\n",
              "<title>graph_rx2r</title>\n",
              "<path fill=\"#00363a\" stroke=\"#000000\" stroke-opacity=\"0.333333\" d=\"M381.92,-997.2C381.92,-997.2 110.88,-997.2 110.88,-997.2 104.88,-997.2 98.87,-991.2 98.87,-985.2 98.87,-985.2 98.87,-936.4 98.87,-936.4 98.87,-930.4 104.87,-924.4 110.87,-924.4 110.87,-924.4 381.92,-924.4 381.92,-924.4 387.92,-924.4 393.92,-930.4 393.92,-936.4 393.92,-936.4 393.92,-985.2 393.92,-985.2 393.92,-991.2 387.92,-997.2 381.92,-997.2\"/>\n",
              "<text text-anchor=\"start\" x=\"163.52\" y=\"-973.35\" font-family=\"Red Hat Display,sans-serif\" font-weight=\"bold\" font-size=\"11.00\" fill=\"#ffffff\" fill-opacity=\"0.733333\">REDUCE_PG_T size ∈ int[0 910]</text>\n",
              "<text text-anchor=\"start\" x=\"122.65\" y=\"-962.35\" font-family=\"Red Hat Display,sans-serif\" font-size=\"11.00\" fill=\"#ffffff\" fill-opacity=\"0.733333\">_PRIVACY_UNIT_ = first(field_grep) ∈ str UNIQUE</text>\n",
              "<text text-anchor=\"start\" x=\"113.27\" y=\"-951.35\" font-family=\"Red Hat Display,sans-serif\" font-size=\"11.00\" fill=\"#ffffff\" fill-opacity=\"0.733333\">field__6vl = sum(field_czvy) ∈ float[0 11502996811.579]</text>\n",
              "<text text-anchor=\"start\" x=\"188.27\" y=\"-940.35\" font-family=\"Red Hat Display,sans-serif\" font-size=\"11.00\" fill=\"#ffffff\" fill-opacity=\"0.733333\">GROUP BY (field_grep)</text>\n",
              "</g>\n",
              "<!-- graph_ogvc&#45;&gt;graph_rx2r -->\n",
              "<g id=\"edge9\" class=\"edge\">\n",
              "<title>graph_ogvc&#45;&gt;graph_rx2r</title>\n",
              "<path fill=\"none\" stroke=\"#2b303a\" d=\"M247.76,-1025.74C247.64,-1020.16 247.51,-1014.21 247.39,-1008.28\"/>\n",
              "<polygon fill=\"#2b303a\" stroke=\"#2b303a\" points=\"250.87,-1008.62 247.16,-998.69 243.87,-1008.76 250.87,-1008.62\"/>\n",
              "</g>\n",
              "<!-- graph_h0yp -->\n",
              "<g id=\"node10\" class=\"node\">\n",
              "<title>graph_h0yp</title>\n",
              "<path fill=\"#428e92\" stroke=\"#000000\" stroke-opacity=\"0.333333\" d=\"M379.92,-895.4C379.92,-895.4 102.88,-895.4 102.88,-895.4 96.88,-895.4 90.87,-889.4 90.87,-883.4 90.87,-883.4 90.87,-845.6 90.87,-845.6 90.87,-839.6 96.87,-833.6 102.87,-833.6 102.87,-833.6 379.92,-833.6 379.92,-833.6 385.92,-833.6 391.92,-839.6 391.92,-845.6 391.92,-845.6 391.92,-883.4 391.92,-883.4 391.92,-889.4 385.92,-895.4 379.92,-895.4\"/>\n",
              "<text text-anchor=\"start\" x=\"170.9\" y=\"-871.55\" font-family=\"Red Hat Display,sans-serif\" font-weight=\"bold\" font-size=\"11.00\" fill=\"#000000\" fill-opacity=\"0.733333\">MAP_TF9A size ∈ int[0 910]</text>\n",
              "<text text-anchor=\"start\" x=\"105.27\" y=\"-860.55\" font-family=\"Red Hat Display,sans-serif\" font-size=\"11.00\" fill=\"#000000\" fill-opacity=\"0.733333\">field_czvy = _NORM_field__6vl ∈ float[0 12640655.8369]</text>\n",
              "<text text-anchor=\"start\" x=\"130.02\" y=\"-849.55\" font-family=\"Red Hat Display,sans-serif\" font-size=\"11.00\" fill=\"#000000\" fill-opacity=\"0.733333\">field_grep = _PRIVACY_UNIT_ ∈ str UNIQUE</text>\n",
              "</g>\n",
              "<!-- graph_rx2r&#45;&gt;graph_h0yp -->\n",
              "<g id=\"edge8\" class=\"edge\">\n",
              "<title>graph_rx2r&#45;&gt;graph_h0yp</title>\n",
              "<path fill=\"none\" stroke=\"#2b303a\" d=\"M244.51,-924.15C244.21,-918.43 243.89,-912.47 243.58,-906.63\"/>\n",
              "<polygon fill=\"#2b303a\" stroke=\"#2b303a\" points=\"247.02,-906.46 243,-896.66 240.03,-906.83 247.02,-906.46\"/>\n",
              "</g>\n",
              "<!-- graph_4wsd -->\n",
              "<g id=\"node11\" class=\"node\">\n",
              "<title>graph_4wsd</title>\n",
              "<path fill=\"#428e92\" stroke=\"#000000\" stroke-opacity=\"0.333333\" d=\"M466.8,-804.6C466.8,-804.6 12,-804.6 12,-804.6 6,-804.6 0,-798.6 0,-792.6 0,-792.6 0,-754.8 0,-754.8 0,-748.8 6,-742.8 12,-742.8 12,-742.8 466.8,-742.8 466.8,-742.8 472.8,-742.8 478.8,-748.8 478.8,-754.8 478.8,-754.8 478.8,-792.6 478.8,-792.6 478.8,-798.6 472.8,-804.6 466.8,-804.6\"/>\n",
              "<text text-anchor=\"start\" x=\"166.27\" y=\"-780.75\" font-family=\"Red Hat Display,sans-serif\" font-weight=\"bold\" font-size=\"11.00\" fill=\"#000000\" fill-opacity=\"0.733333\">MAP_S_UW size ∈ int[0 910]</text>\n",
              "<text text-anchor=\"start\" x=\"105.52\" y=\"-769.75\" font-family=\"Red Hat Display,sans-serif\" font-size=\"11.00\" fill=\"#000000\" fill-opacity=\"0.733333\">_PRIVACY_UNIT_ = _PRIVACY_UNIT_ ∈ str UNIQUE</text>\n",
              "<text text-anchor=\"start\" x=\"14.4\" y=\"-758.75\" font-family=\"Red Hat Display,sans-serif\" font-size=\"11.00\" fill=\"#000000\" fill-opacity=\"0.733333\">_NORM_field__6vl = abs((_NORM_field__6vl * _NORM_field__6vl)) ∈ float[0 12640655.8369]</text>\n",
              "</g>\n",
              "<!-- graph_h0yp&#45;&gt;graph_4wsd -->\n",
              "<g id=\"edge7\" class=\"edge\">\n",
              "<title>graph_h0yp&#45;&gt;graph_4wsd</title>\n",
              "<path fill=\"none\" stroke=\"#2b303a\" d=\"M240.72,-833.44C240.59,-827.71 240.46,-821.63 240.32,-815.64\"/>\n",
              "<polygon fill=\"#2b303a\" stroke=\"#2b303a\" points=\"243.81,-815.95 240.08,-806.03 236.81,-816.11 243.81,-815.95\"/>\n",
              "</g>\n",
              "<!-- graph_e282 -->\n",
              "<g id=\"node12\" class=\"node\">\n",
              "<title>graph_e282</title>\n",
              "<path fill=\"#00363a\" stroke=\"#000000\" stroke-opacity=\"0.333333\" d=\"M421.3,-713.8C421.3,-713.8 149.5,-713.8 149.5,-713.8 143.5,-713.8 137.5,-707.8 137.5,-701.8 137.5,-701.8 137.5,-653 137.5,-653 137.5,-647 143.5,-641 149.5,-641 149.5,-641 421.3,-641 421.3,-641 427.3,-641 433.3,-647 433.3,-653 433.3,-653 433.3,-701.8 433.3,-701.8 433.3,-707.8 427.3,-713.8 421.3,-713.8\"/>\n",
              "<text text-anchor=\"start\" x=\"203.27\" y=\"-689.95\" font-family=\"Red Hat Display,sans-serif\" font-weight=\"bold\" font-size=\"11.00\" fill=\"#ffffff\" fill-opacity=\"0.733333\">REDUCE_Z3O3 size ∈ int[0 910]</text>\n",
              "<text text-anchor=\"start\" x=\"161.65\" y=\"-678.95\" font-family=\"Red Hat Display,sans-serif\" font-size=\"11.00\" fill=\"#ffffff\" fill-opacity=\"0.733333\">_PRIVACY_UNIT_ = first(field_grep) ∈ str UNIQUE</text>\n",
              "<text text-anchor=\"start\" x=\"151.9\" y=\"-667.95\" font-family=\"Red Hat Display,sans-serif\" font-size=\"11.00\" fill=\"#ffffff\" fill-opacity=\"0.733333\">_NORM_field__6vl = sum(field_3d25) ∈ float[0 3555.37]</text>\n",
              "<text text-anchor=\"start\" x=\"227.27\" y=\"-656.95\" font-family=\"Red Hat Display,sans-serif\" font-size=\"11.00\" fill=\"#ffffff\" fill-opacity=\"0.733333\">GROUP BY (field_grep)</text>\n",
              "</g>\n",
              "<!-- graph_4wsd&#45;&gt;graph_e282 -->\n",
              "<g id=\"edge6\" class=\"edge\">\n",
              "<title>graph_4wsd&#45;&gt;graph_e282</title>\n",
              "<path fill=\"none\" stroke=\"#2b303a\" d=\"M254.21,-742.34C257.07,-736.48 260.12,-730.21 263.16,-723.99\"/>\n",
              "<polygon fill=\"#2b303a\" stroke=\"#2b303a\" points=\"266.65,-725.81 267.89,-715.29 260.36,-722.75 266.65,-725.81\"/>\n",
              "</g>\n",
              "<!-- graph_b21b -->\n",
              "<g id=\"node13\" class=\"node\">\n",
              "<title>graph_b21b</title>\n",
              "<path fill=\"#428e92\" stroke=\"#000000\" stroke-opacity=\"0.333333\" d=\"M428.05,-612C428.05,-612 220.75,-612 220.75,-612 214.75,-612 208.75,-606 208.75,-600 208.75,-600 208.75,-562.2 208.75,-562.2 208.75,-556.2 214.75,-550.2 220.75,-550.2 220.75,-550.2 428.05,-550.2 428.05,-550.2 434.05,-550.2 440.05,-556.2 440.05,-562.2 440.05,-562.2 440.05,-600 440.05,-600 440.05,-606 434.05,-612 428.05,-612\"/>\n",
              "<text text-anchor=\"start\" x=\"254.27\" y=\"-588.15\" font-family=\"Red Hat Display,sans-serif\" font-weight=\"bold\" font-size=\"11.00\" fill=\"#000000\" fill-opacity=\"0.733333\">MAP_1ET9 size ∈ int[0 910]</text>\n",
              "<text text-anchor=\"start\" x=\"223.15\" y=\"-577.15\" font-family=\"Red Hat Display,sans-serif\" font-size=\"11.00\" fill=\"#000000\" fill-opacity=\"0.733333\">field_3d25 = field__6vl ∈ float[2.514 3.907]</text>\n",
              "<text text-anchor=\"start\" x=\"236.27\" y=\"-566.15\" font-family=\"Red Hat Display,sans-serif\" font-size=\"11.00\" fill=\"#000000\" fill-opacity=\"0.733333\">field_grep = _PRIVACY_UNIT_ ∈ str</text>\n",
              "</g>\n",
              "<!-- graph_e282&#45;&gt;graph_b21b -->\n",
              "<g id=\"edge5\" class=\"edge\">\n",
              "<title>graph_e282&#45;&gt;graph_b21b</title>\n",
              "<path fill=\"none\" stroke=\"#2b303a\" d=\"M300.14,-640.75C302.63,-634.73 305.23,-628.45 307.76,-622.33\"/>\n",
              "<polygon fill=\"#2b303a\" stroke=\"#2b303a\" points=\"311.34,-623.84 311.93,-613.26 304.87,-621.16 311.34,-623.84\"/>\n",
              "</g>\n",
              "<!-- graph_b21b&#45;&gt;graph_fsog -->\n",
              "<g id=\"edge4\" class=\"edge\">\n",
              "<title>graph_b21b&#45;&gt;graph_fsog</title>\n",
              "<path fill=\"none\" stroke=\"#2b303a\" d=\"M346.61,-549.74C351.11,-543.6 355.92,-537.02 360.69,-530.5\"/>\n",
              "<polygon fill=\"#2b303a\" stroke=\"#2b303a\" points=\"364.06,-532.83 367.14,-522.69 358.41,-528.7 364.06,-532.83\"/>\n",
              "</g>\n",
              "<!-- graph_j0z6 -->\n",
              "<g id=\"node15\" class=\"node\">\n",
              "<title>graph_j0z6</title>\n",
              "<path fill=\"#428e92\" stroke=\"#000000\" stroke-opacity=\"0.333333\" d=\"M563.05,-419.4C563.05,-419.4 223.75,-419.4 223.75,-419.4 217.75,-419.4 211.75,-413.4 211.75,-407.4 211.75,-407.4 211.75,-347.6 211.75,-347.6 211.75,-341.6 217.75,-335.6 223.75,-335.6 223.75,-335.6 563.05,-335.6 563.05,-335.6 569.05,-335.6 575.05,-341.6 575.05,-347.6 575.05,-347.6 575.05,-407.4 575.05,-407.4 575.05,-413.4 569.05,-419.4 563.05,-419.4\"/>\n",
              "<text text-anchor=\"start\" x=\"321.4\" y=\"-395.55\" font-family=\"Red Hat Display,sans-serif\" font-weight=\"bold\" font-size=\"11.00\" fill=\"#000000\" fill-opacity=\"0.733333\">MAP_AYGV size ∈ int[0 910]</text>\n",
              "<text text-anchor=\"start\" x=\"282.77\" y=\"-384.55\" font-family=\"Red Hat Display,sans-serif\" font-size=\"11.00\" fill=\"#000000\" fill-opacity=\"0.733333\">_PRIVACY_UNIT_ = _PRIVACY_UNIT_ ∈ str</text>\n",
              "<text text-anchor=\"start\" x=\"226.15\" y=\"-373.55\" font-family=\"Red Hat Display,sans-serif\" font-size=\"11.00\" fill=\"#000000\" fill-opacity=\"0.733333\">_PRIVACY_UNIT_WEIGHT_ = _PRIVACY_UNIT_WEIGHT_ ∈ int{1}</text>\n",
              "<text text-anchor=\"start\" x=\"293.65\" y=\"-362.55\" font-family=\"Red Hat Display,sans-serif\" font-size=\"11.00\" fill=\"#000000\" fill-opacity=\"0.733333\">field__6vl = fuel_price ∈ float[2.514 3.907]</text>\n",
              "<text text-anchor=\"start\" x=\"261.4\" y=\"-351.55\" font-family=\"Red Hat Display,sans-serif\" font-size=\"11.00\" fill=\"#000000\" fill-opacity=\"0.733333\">WHERE ((fuel_price &gt; 2.514) and (fuel_price &lt; 3.907))</text>\n",
              "</g>\n",
              "<!-- graph_fsog&#45;&gt;graph_j0z6 -->\n",
              "<g id=\"edge3\" class=\"edge\">\n",
              "<title>graph_fsog&#45;&gt;graph_j0z6</title>\n",
              "<path fill=\"none\" stroke=\"#2b303a\" d=\"M393.4,-448.15C393.4,-442.41 393.4,-436.36 393.4,-430.33\"/>\n",
              "<polygon fill=\"#2b303a\" stroke=\"#2b303a\" points=\"396.9,-430.56 393.4,-420.56 389.9,-430.56 396.9,-430.56\"/>\n",
              "</g>\n",
              "<!-- graph_g0xz -->\n",
              "<g id=\"node16\" class=\"node\">\n",
              "<title>graph_g0xz</title>\n",
              "<path fill=\"#428e92\" stroke=\"#000000\" stroke-opacity=\"0.333333\" d=\"M554.8,-306.6C554.8,-306.6 232,-306.6 232,-306.6 226,-306.6 220,-300.6 220,-294.6 220,-294.6 220,-168.8 220,-168.8 220,-162.8 226,-156.8 232,-156.8 232,-156.8 554.8,-156.8 554.8,-156.8 560.8,-156.8 566.8,-162.8 566.8,-168.8 566.8,-168.8 566.8,-294.6 566.8,-294.6 566.8,-300.6 560.8,-306.6 554.8,-306.6\"/>\n",
              "<text text-anchor=\"start\" x=\"321.4\" y=\"-282.75\" font-family=\"Red Hat Display,sans-serif\" font-weight=\"bold\" font-size=\"11.00\" fill=\"#000000\" fill-opacity=\"0.733333\">MAP_DE0Q size ∈ int[0 910]</text>\n",
              "<text text-anchor=\"start\" x=\"276.77\" y=\"-271.75\" font-family=\"Red Hat Display,sans-serif\" font-size=\"11.00\" fill=\"#000000\" fill-opacity=\"0.733333\">_PRIVACY_UNIT_ = md5(cast_as_text(id)) ∈ str</text>\n",
              "<text text-anchor=\"start\" x=\"294.4\" y=\"-260.75\" font-family=\"Red Hat Display,sans-serif\" font-size=\"11.00\" fill=\"#000000\" fill-opacity=\"0.733333\">_PRIVACY_UNIT_WEIGHT_ = 1 ∈ int{1}</text>\n",
              "<text text-anchor=\"start\" x=\"366.77\" y=\"-249.75\" font-family=\"Red Hat Display,sans-serif\" font-size=\"11.00\" fill=\"#000000\" fill-opacity=\"0.733333\">id = id ∈ str</text>\n",
              "<text text-anchor=\"start\" x=\"351.02\" y=\"-238.75\" font-family=\"Red Hat Display,sans-serif\" font-size=\"11.00\" fill=\"#000000\" fill-opacity=\"0.733333\">store = store ∈ str</text>\n",
              "<text text-anchor=\"start\" x=\"234.4\" y=\"-227.75\" font-family=\"Red Hat Display,sans-serif\" font-size=\"11.00\" fill=\"#000000\" fill-opacity=\"0.733333\">date = date ∈ datetime[2010&#45;02&#45;05 00:00:00 2013&#45;07&#45;26 00:00:00]</text>\n",
              "<text text-anchor=\"start\" x=\"280.9\" y=\"-216.75\" font-family=\"Red Hat Display,sans-serif\" font-size=\"11.00\" fill=\"#000000\" fill-opacity=\"0.733333\">temperature = temperature ∈ float[28.84 93.34]</text>\n",
              "<text text-anchor=\"start\" x=\"292.9\" y=\"-205.75\" font-family=\"Red Hat Display,sans-serif\" font-size=\"11.00\" fill=\"#000000\" fill-opacity=\"0.733333\">fuel_price = fuel_price ∈ float[2.514 3.907]</text>\n",
              "<text text-anchor=\"start\" x=\"301.9\" y=\"-194.75\" font-family=\"Red Hat Display,sans-serif\" font-size=\"11.00\" fill=\"#000000\" fill-opacity=\"0.733333\">cpi = cpi ∈ float[126.064 228.7298638]</text>\n",
              "<text text-anchor=\"start\" x=\"268.9\" y=\"-183.75\" font-family=\"Red Hat Display,sans-serif\" font-size=\"11.00\" fill=\"#000000\" fill-opacity=\"0.733333\">unemployment = unemployment ∈ float[3.879 8.623]</text>\n",
              "<text text-anchor=\"start\" x=\"329.65\" y=\"-172.75\" font-family=\"Red Hat Display,sans-serif\" font-size=\"11.00\" fill=\"#000000\" fill-opacity=\"0.733333\">isholiday = isholiday ∈ bool</text>\n",
              "</g>\n",
              "<!-- graph_j0z6&#45;&gt;graph_g0xz -->\n",
              "<g id=\"edge2\" class=\"edge\">\n",
              "<title>graph_j0z6&#45;&gt;graph_g0xz</title>\n",
              "<path fill=\"none\" stroke=\"#2b303a\" d=\"M393.4,-335.29C393.4,-329.74 393.4,-323.89 393.4,-317.91\"/>\n",
              "<polygon fill=\"#2b303a\" stroke=\"#2b303a\" points=\"396.9,-318.05 393.4,-308.05 389.9,-318.05 396.9,-318.05\"/>\n",
              "</g>\n",
              "<!-- graph_a8up -->\n",
              "<g id=\"node17\" class=\"node\">\n",
              "<title>graph_a8up</title>\n",
              "<path fill=\"#ff1744\" stroke=\"#000000\" stroke-opacity=\"0.333333\" d=\"M554.8,-127.8C554.8,-127.8 232,-127.8 232,-127.8 226,-127.8 220,-121.8 220,-115.8 220,-115.8 220,-12 220,-12 220,-6 226,0 232,0 232,0 554.8,0 554.8,0 560.8,0 566.8,-6 566.8,-12 566.8,-12 566.8,-115.8 566.8,-115.8 566.8,-121.8 560.8,-127.8 554.8,-127.8\"/>\n",
              "<text text-anchor=\"start\" x=\"303.4\" y=\"-103.95\" font-family=\"Red Hat Display,sans-serif\" font-weight=\"bold\" font-size=\"11.00\" fill=\"#ffffff\" fill-opacity=\"0.733333\">RETAIL_FEATURES size ∈ int{910}</text>\n",
              "<text text-anchor=\"start\" x=\"366.77\" y=\"-92.95\" font-family=\"Red Hat Display,sans-serif\" font-size=\"11.00\" fill=\"#ffffff\" fill-opacity=\"0.733333\">id = id ∈ str</text>\n",
              "<text text-anchor=\"start\" x=\"351.02\" y=\"-81.95\" font-family=\"Red Hat Display,sans-serif\" font-size=\"11.00\" fill=\"#ffffff\" fill-opacity=\"0.733333\">store = store ∈ str</text>\n",
              "<text text-anchor=\"start\" x=\"234.4\" y=\"-70.95\" font-family=\"Red Hat Display,sans-serif\" font-size=\"11.00\" fill=\"#ffffff\" fill-opacity=\"0.733333\">date = date ∈ datetime[2010&#45;02&#45;05 00:00:00 2013&#45;07&#45;26 00:00:00]</text>\n",
              "<text text-anchor=\"start\" x=\"280.9\" y=\"-59.95\" font-family=\"Red Hat Display,sans-serif\" font-size=\"11.00\" fill=\"#ffffff\" fill-opacity=\"0.733333\">temperature = temperature ∈ float[28.84 93.34]</text>\n",
              "<text text-anchor=\"start\" x=\"292.9\" y=\"-48.95\" font-family=\"Red Hat Display,sans-serif\" font-size=\"11.00\" fill=\"#ffffff\" fill-opacity=\"0.733333\">fuel_price = fuel_price ∈ float[2.514 3.907]</text>\n",
              "<text text-anchor=\"start\" x=\"301.9\" y=\"-37.95\" font-family=\"Red Hat Display,sans-serif\" font-size=\"11.00\" fill=\"#ffffff\" fill-opacity=\"0.733333\">cpi = cpi ∈ float[126.064 228.7298638]</text>\n",
              "<text text-anchor=\"start\" x=\"268.9\" y=\"-26.95\" font-family=\"Red Hat Display,sans-serif\" font-size=\"11.00\" fill=\"#ffffff\" fill-opacity=\"0.733333\">unemployment = unemployment ∈ float[3.879 8.623]</text>\n",
              "<text text-anchor=\"start\" x=\"329.65\" y=\"-15.95\" font-family=\"Red Hat Display,sans-serif\" font-size=\"11.00\" fill=\"#ffffff\" fill-opacity=\"0.733333\">isholiday = isholiday ∈ bool</text>\n",
              "</g>\n",
              "<!-- graph_g0xz&#45;&gt;graph_a8up -->\n",
              "<g id=\"edge1\" class=\"edge\">\n",
              "<title>graph_g0xz&#45;&gt;graph_a8up</title>\n",
              "<path fill=\"none\" stroke=\"#2b303a\" d=\"M393.4,-156.53C393.4,-150.6 393.4,-144.61 393.4,-138.69\"/>\n",
              "<polygon fill=\"#2b303a\" stroke=\"#2b303a\" points=\"396.9,-139.12 393.4,-129.12 389.9,-139.12 396.9,-139.12\"/>\n",
              "</g>\n",
              "</g>\n",
              "</svg>\n"
            ],
            "text/plain": [
              "<graphviz.sources.Source at 0x1045e0760>"
            ]
          },
          "metadata": {},
          "output_type": "display_data"
        }
      ],
      "source": [
        "display(graphviz.Source(dp_relation.dot()))"
      ]
    },
    {
      "cell_type": "markdown",
      "id": "e254bca1",
      "metadata": {
        "id": "e254bca1"
      },
      "source": [
        "The `Relation` can be translated into an SQL query:"
      ]
    },
    {
      "cell_type": "code",
      "execution_count": 13,
      "id": "e17064c4",
      "metadata": {
        "colab": {
          "base_uri": "https://localhost:8080/"
        },
        "id": "e17064c4",
        "outputId": "6bac341d-6288-4f57-82bd-b20fa482b223"
      },
      "outputs": [
        {
          "name": "stdout",
          "output_type": "stream",
          "text": [
            "\u001b[34mWITH\u001b[0m\n",
            "  map_de0q (_PRIVACY_UNIT_, _PRIVACY_UNIT_WEIGHT_, id, store, date, temperature, fuel_price, cpi, unemployment, isholiday) \u001b[35mAS\u001b[0m (\u001b[35mSELECT\u001b[0m md5(C\u001b[35mAS\u001b[0mT(id \u001b[35mAS\u001b[0m VARCHAR)) \u001b[35mAS\u001b[0m _PRIVACY_UNIT_, 1 \u001b[35mAS\u001b[0m _PRIVACY_UNIT_WEIGHT_, id \u001b[35mAS\u001b[0m id, store \u001b[35mAS\u001b[0m store, date \u001b[35mAS\u001b[0m date, temperature \u001b[35mAS\u001b[0m temperature, fuel_price \u001b[35mAS\u001b[0m fuel_price, cpi \u001b[35mAS\u001b[0m cpi, unemployment \u001b[35mAS\u001b[0m unemployment, isholiday \u001b[35mAS\u001b[0m isholiday FROM retail.features),\n",
            "  map_aygv (_PRIVACY_UNIT_, _PRIVACY_UNIT_WEIGHT_, field__6vl) \u001b[35mAS\u001b[0m (\u001b[35mSELECT\u001b[0m _PRIVACY_UNIT_ \u001b[35mAS\u001b[0m _PRIVACY_UNIT_, _PRIVACY_UNIT_WEIGHT_ \u001b[35mAS\u001b[0m _PRIVACY_UNIT_WEIGHT_, fuel_price \u001b[35mAS\u001b[0m field__6vl FROM map_de0q \u001b[35mWHERE\u001b[0m ((fuel_price) > (2.514)) AND ((fuel_price) < (3.907))),\n",
            "  map_r903 (_PRIVACY_UNIT_, _PRIVACY_UNIT_WEIGHT_, field__6vl) \u001b[35mAS\u001b[0m (\u001b[35mSELECT\u001b[0m coalesce(C\u001b[35mAS\u001b[0mT(_PRIVACY_UNIT_ \u001b[35mAS\u001b[0m VARCHAR),\n",
            "  '_PRIVACY_UNIT_DEFAULT_') \u001b[35mAS\u001b[0m _PRIVACY_UNIT_, coalesce(_PRIVACY_UNIT_WEIGHT_, 0) \u001b[35mAS\u001b[0m _PRIVACY_UNIT_WEIGHT_, field__6vl \u001b[35mAS\u001b[0m field__6vl FROM map_aygv),\n",
            "  map_1et9 (field_3d25, field_grep) \u001b[35mAS\u001b[0m (\u001b[35mSELECT\u001b[0m field__6vl \u001b[35mAS\u001b[0m field_3d25, _PRIVACY_UNIT_ \u001b[35mAS\u001b[0m field_grep FROM map_r903),\n",
            "  reduce_z3o3 (_PRIVACY_UNIT_, _NORM_field__6vl) \u001b[35mAS\u001b[0m (\u001b[35mSELECT\u001b[0m field_grep \u001b[35mAS\u001b[0m _PRIVACY_UNIT_, sum(field_3d25) \u001b[35mAS\u001b[0m _NORM_field__6vl FROM map_1et9 \u001b[35mGROUP BY\u001b[0m field_grep),\n",
            "  map_s_uw (_PRIVACY_UNIT_, _NORM_field__6vl) \u001b[35mAS\u001b[0m (\u001b[35mSELECT\u001b[0m _PRIVACY_UNIT_ \u001b[35mAS\u001b[0m _PRIVACY_UNIT_, abs((_NORM_field__6vl) * ((_NORM_field__6vl))) \u001b[35mAS\u001b[0m _NORM_field__6vl FROM reduce_z3o3),\n",
            "  map_tf9a (field_czvy, field_grep) \u001b[35mAS\u001b[0m (\u001b[35mSELECT\u001b[0m _NORM_field__6vl \u001b[35mAS\u001b[0m field_czvy, _PRIVACY_UNIT_ \u001b[35mAS\u001b[0m field_grep FROM map_s_uw),\n",
            "  reduce_pg_t (_PRIVACY_UNIT_, field__6vl) \u001b[35mAS\u001b[0m (\u001b[35mSELECT\u001b[0m field_grep \u001b[35mAS\u001b[0m _PRIVACY_UNIT_, sum(field_czvy) \u001b[35mAS\u001b[0m field__6vl FROM map_tf9a \u001b[35mGROUP BY\u001b[0m field_grep),\n",
            "  map_pyiw (_PRIVACY_UNIT_, field__6vl) \u001b[35mAS\u001b[0m (\u001b[35mSELECT\u001b[0m _PRIVACY_UNIT_ \u001b[35mAS\u001b[0m _PRIVACY_UNIT_, (1) / ((greatest(1, (sqrt(field__6vl)) / ((3.907))))) \u001b[35mAS\u001b[0m field__6vl FROM reduce_pg_t),\n",
            "  join_60ej (_PRIVACY_UNIT_, _PRIVACY_UNIT_WEIGHT_, field__6vl, _SCALE_FACTOR__PRIVACY_UNIT_, _SCALE_FACTOR_field__6vl) \u001b[35mAS\u001b[0m (\u001b[35mSELECT\u001b[0m * FROM map_r903 \u001b[35mAS\u001b[0m _LEFT_ JOIN map_pyiw \u001b[35mAS\u001b[0m _RIGHT_ ON (_LEFT_._PRIVACY_UNIT_) = (_RIGHT_._PRIVACY_UNIT_)),\n",
            "  map_kkf_ (_PRIVACY_UNIT_, _PRIVACY_UNIT_WEIGHT_, field__6vl, _SCALE_FACTOR__PRIVACY_UNIT_, _SCALE_FACTOR_field__6vl, _CLIPPED_field__6vl) \u001b[35mAS\u001b[0m (\u001b[35mSELECT\u001b[0m _PRIVACY_UNIT_ \u001b[35mAS\u001b[0m _PRIVACY_UNIT_, _PRIVACY_UNIT_WEIGHT_ \u001b[35mAS\u001b[0m _PRIVACY_UNIT_WEIGHT_, field__6vl \u001b[35mAS\u001b[0m field__6vl, _SCALE_FACTOR__PRIVACY_UNIT_ \u001b[35mAS\u001b[0m _SCALE_FACTOR__PRIVACY_UNIT_, _SCALE_FACTOR_field__6vl \u001b[35mAS\u001b[0m _SCALE_FACTOR_field__6vl, (field__6vl) * ((_SCALE_FACTOR_field__6vl)) \u001b[35mAS\u001b[0m _CLIPPED_field__6vl FROM join_60ej),\n",
            "  map_k2fm (field_q9u_) \u001b[35mAS\u001b[0m (\u001b[35mSELECT\u001b[0m _CLIPPED_field__6vl \u001b[35mAS\u001b[0m field_q9u_ FROM map_kkf_),\n",
            "  reduce_04wl (_SUM_field__6vl) \u001b[35mAS\u001b[0m (\u001b[35mSELECT\u001b[0m sum(field_q9u_) \u001b[35mAS\u001b[0m _SUM_field__6vl FROM map_k2fm),\n",
            "  map_nsz5 (_SUM_field__6vl) \u001b[35mAS\u001b[0m (\u001b[35mSELECT\u001b[0m least(3555.37, greatest(0, (coalesce(_SUM_field__6vl, 0)) + ((15.455181404019267) * (((sqrt((-2) * ((ln(random()))))) * ((cos((6.283185307179586) * ((random())))))))))) \u001b[35mAS\u001b[0m _SUM_field__6vl FROM reduce_04wl),\n",
            "  map_xi5p (my_sum) \u001b[35mAS\u001b[0m (\u001b[35mSELECT\u001b[0m _SUM_field__6vl \u001b[35mAS\u001b[0m my_sum FROM map_nsz5),\n",
            "  map_8isr (my_sum) \u001b[35mAS\u001b[0m (\u001b[35mSELECT\u001b[0m my_sum \u001b[35mAS\u001b[0m my_sum FROM map_xi5p)\n",
            "\u001b[35mSELECT\u001b[0m * FROM map_8isr\n"
          ]
        }
      ],
      "source": [
        "MAGENTA_COLOR = '\\033[35m'\n",
        "BLUE_COLOR = '\\033[34m'\n",
        "RESET_COLOR = '\\033[0m'\n",
        "\n",
        "def print_query(query: str):\n",
        "    keywords = [\"SELECT\", \"AS\", \"GROUP BY\", \"LIMIT\", \"ORDER BY\", \"WHERE\"]\n",
        "    colored_query = query\n",
        "    colored_query = colored_query.replace(\"WITH\", \"WITH\\n \")\n",
        "    colored_query = colored_query.replace(\" SELECT\", \"\\nSELECT\")\n",
        "    colored_query = colored_query.replace(\"),\", \"),\\n \")\n",
        "    for word in keywords:\n",
        "        colored_query = colored_query.replace(word, MAGENTA_COLOR + word + RESET_COLOR)\n",
        "    colored_query = colored_query.replace(\"WITH\", BLUE_COLOR + \"WITH\" + RESET_COLOR)\n",
        "    print(colored_query)\n",
        "\n",
        "\n",
        "dp_query = dp_relation.render()\n",
        "print_query(dp_query)"
      ]
    },
    {
      "cell_type": "markdown",
      "id": "f626ef40",
      "metadata": {
        "id": "f626ef40"
      },
      "source": [
        "Then the query is sent to the databqe:"
      ]
    },
    {
      "cell_type": "code",
      "execution_count": 14,
      "id": "30d8afd9",
      "metadata": {
        "colab": {
          "base_uri": "https://localhost:8080/"
        },
        "id": "30d8afd9",
        "outputId": "b635f93b-89af-4775-a179-b277511264b9"
      },
      "outputs": [
        {
          "name": "stdout",
          "output_type": "stream",
          "text": [
            "Initial query: 2939.4329999999995\n",
            "DP query:      2919.272822919708\n"
          ]
        }
      ],
      "source": [
        "import pandas as pd\n",
        "true_res = pd.DataFrame(database.execute(query))\n",
        "dp_res = pd.DataFrame(database.eval(dp_relation))\n",
        "\n",
        "print(f\"Initial query: {true_res.iloc[0][0]}\")\n",
        "print(\"DP query:     \", dp_res[\"my_sum\"][0])"
      ]
    },
    {
      "cell_type": "markdown",
      "id": "c4b5c4ac",
      "metadata": {
        "id": "c4b5c4ac"
      },
      "source": [
        "We can sent the DP query multiple times wo see the variantions among the results:"
      ]
    },
    {
      "cell_type": "code",
      "execution_count": 15,
      "id": "a3cc993b",
      "metadata": {
        "id": "a3cc993b"
      },
      "outputs": [],
      "source": [
        "N_RUNS = 300\n",
        "\n",
        "def run(dataset, query, epsilons):\n",
        "    data = {}\n",
        "    privacy_unit = [\n",
        "        (\"stores\", [(\"store\", \"features\", \"store\")], \"id\"),\n",
        "        (\"features\", [], \"id\"),\n",
        "        (\"sales\", [], \"id\")\n",
        "    ]\n",
        "    synthetic_data = [\n",
        "        ([\"retail\", \"features\"], [\"retail\", \"features\"]),\n",
        "    ]\n",
        "\n",
        "    delta  = 1e-3\n",
        "    relation = dataset.sql(query)\n",
        "\n",
        "    for epsilon in epsilons:\n",
        "        budget = {\"epsilon\": epsilon, \"delta\": delta}\n",
        "        rel_with_pq = relation.rewrite_with_differential_privacy(\n",
        "            dataset,\n",
        "            synthetic_data,\n",
        "            privacy_unit,\n",
        "            budget\n",
        "        )\n",
        "        dp_relation = rel_with_pq.relation()\n",
        "        data[epsilon] = [\n",
        "            database.eval(dp_relation)[0][0] for _ in range(N_RUNS)\n",
        "        ]\n",
        "    return data"
      ]
    },
    {
      "cell_type": "code",
      "execution_count": 16,
      "id": "66b29b60",
      "metadata": {
        "id": "66b29b60"
      },
      "outputs": [],
      "source": [
        "true_value = pd.DataFrame(database.execute(query)).iloc[0][0]\n",
        "data = run(dataset, query, [0.5, 1., 5.])"
      ]
    },
    {
      "cell_type": "code",
      "execution_count": 17,
      "id": "c698def3",
      "metadata": {
        "id": "c698def3"
      },
      "outputs": [],
      "source": [
        "import matplotlib.pyplot as plt\n",
        "\n",
        "def plot_hist(true_value, data, query):\n",
        "    plt.axvline(true_value, color='red', label=\"True\")\n",
        "    for e, d in data.items():\n",
        "        plt.hist(d, bins=30, alpha=0.5, label = f\"eps = {e}\")\n",
        "    plt.legend()\n",
        "    plt.title(query)"
      ]
    },
    {
      "cell_type": "code",
      "execution_count": 18,
      "id": "a875ac4e",
      "metadata": {
        "colab": {
          "base_uri": "https://localhost:8080/",
          "height": 452
        },
        "id": "a875ac4e",
        "outputId": "e1c9d8b1-98a1-4bf9-a2e1-2f7517b6a246"
      },
      "outputs": [
        {
          "data": {
            "image/png": "[encoded data removed]",
            "text/plain": [
              "<Figure size 640x480 with 1 Axes>"
            ]
          },
          "metadata": {},
          "output_type": "display_data"
        }
      ],
      "source": [
        "plot_hist(true_value, data, query)"
      ]
    }
  ],
  "metadata": {
    "colab": {
      "provenance": []
    },
    "kernelspec": {
      "display_name": "Python 3 (ipykernel)",
      "language": "python",
      "name": "python3"
    },
    "language_info": {
      "codemirror_mode": {
        "name": "ipython",
        "version": 3
      },
      "file_extension": ".py",
      "mimetype": "text/x-python",
      "name": "python",
      "nbconvert_exporter": "python",
      "pygments_lexer": "ipython3",
      "version": "3.9.0"
    }
  },
  "nbformat": 4,
  "nbformat_minor": 5
}
