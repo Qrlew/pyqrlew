{
  "cells": [
    {
      "cell_type": "markdown",
      "id": "683108f1",
      "metadata": {
        "id": "683108f1"
      },
      "source": [
        "# SQL analysis with differential privacy guarantees"
      ]
    },
    {
      "cell_type": "markdown",
      "id": "c1cdff07",
      "metadata": {
        "id": "c1cdff07"
      },
      "source": [
        "The purpose of this notebook is to illustrate the process of *transforming a standard SQL query into a differentially private SQL query*.\n",
        "\n",
        "Our goal here is to demonstrate how this complex transformation of an SQL query into a differentially private version can be achieved with ease using Qrlew."
      ]
    },
    {
      "cell_type": "markdown",
      "id": "ec43846d",
      "metadata": {
        "id": "ec43846d"
      },
      "source": [
        "The main idea of Qrlew is to parse and rewrite SQL queries into *Relations*: an [Intermediate Representation](https://en.wikipedia.org/wiki/Intermediate_representation) (IR) that is well-suited for various rewriting tasks.\n",
        "\n",
        "*Relations* may be of different kinds:\n",
        "- `Map`s typically represent the transform of an input *Relation* row by row, therefore, naturaly preserving the *privacy unit*,\n",
        "- `Reduce`s represent aggregations that can be turned into DP equivalent\n",
        "- `Join`s combine two input *Relations*\n",
        "- `Table`s are simply sources.\n",
        "\n",
        "This representation simplifies the process of rewriting queries and reduces dependencies on the diverse range of syntactic constructs present in SQL."
      ]
    },
    {
      "cell_type": "markdown",
      "id": "792fe5b0",
      "metadata": {
        "id": "792fe5b0"
      },
      "source": [
        "## Install the database and packages\n"
      ]
    },
    {
      "cell_type": "code",
      "execution_count": 1,
      "id": "08f55d69",
      "metadata": {
        "id": "08f55d69",
        "outputId": "03e18dff-c946-4621-e3ea-ae9d78aef8eb",
        "colab": {
          "base_uri": "https://localhost:8080/"
        }
      },
      "outputs": [
        {
          "output_type": "stream",
          "name": "stdout",
          "text": [
            "debconf: unable to initialize frontend: Dialog\n",
            "debconf: (No usable dialog-like program is installed, so the dialog based frontend cannot be used. at /usr/share/perl5/Debconf/FrontEnd/Dialog.pm line 78, <> line 12.)\n",
            "debconf: falling back to frontend: Readline\n",
            "debconf: unable to initialize frontend: Readline\n",
            "debconf: (This frontend requires a controlling tty.)\n",
            "debconf: falling back to frontend: Teletype\n",
            "dpkg-preconfigure: unable to re-open stdin: \n",
            "Selecting previously unselected package logrotate.\n",
            "(Reading database ... 120882 files and directories currently installed.)\n",
            "Preparing to unpack .../00-logrotate_3.19.0-1ubuntu1.1_amd64.deb ...\n",
            "Unpacking logrotate (3.19.0-1ubuntu1.1) ...\n",
            "Selecting previously unselected package netbase.\n",
            "Preparing to unpack .../01-netbase_6.3_all.deb ...\n",
            "Unpacking netbase (6.3) ...\n",
            "Selecting previously unselected package libcommon-sense-perl:amd64.\n",
            "Preparing to unpack .../02-libcommon-sense-perl_3.75-2build1_amd64.deb ...\n",
            "Unpacking libcommon-sense-perl:amd64 (3.75-2build1) ...\n",
            "Selecting previously unselected package libjson-perl.\n",
            "Preparing to unpack .../03-libjson-perl_4.04000-1_all.deb ...\n",
            "Unpacking libjson-perl (4.04000-1) ...\n",
            "Selecting previously unselected package libtypes-serialiser-perl.\n",
            "Preparing to unpack .../04-libtypes-serialiser-perl_1.01-1_all.deb ...\n",
            "Unpacking libtypes-serialiser-perl (1.01-1) ...\n",
            "Selecting previously unselected package libjson-xs-perl.\n",
            "Preparing to unpack .../05-libjson-xs-perl_4.030-1build3_amd64.deb ...\n",
            "Unpacking libjson-xs-perl (4.030-1build3) ...\n",
            "Selecting previously unselected package postgresql-client-common.\n",
            "Preparing to unpack .../06-postgresql-client-common_238_all.deb ...\n",
            "Unpacking postgresql-client-common (238) ...\n",
            "Selecting previously unselected package postgresql-client-14.\n",
            "Preparing to unpack .../07-postgresql-client-14_14.9-0ubuntu0.22.04.1_amd64.deb ...\n",
            "Unpacking postgresql-client-14 (14.9-0ubuntu0.22.04.1) ...\n",
            "Selecting previously unselected package ssl-cert.\n",
            "Preparing to unpack .../08-ssl-cert_1.1.2_all.deb ...\n",
            "Unpacking ssl-cert (1.1.2) ...\n",
            "Selecting previously unselected package postgresql-common.\n",
            "Preparing to unpack .../09-postgresql-common_238_all.deb ...\n",
            "Adding 'diversion of /usr/bin/pg_config to /usr/bin/pg_config.libpq-dev by postgresql-common'\n",
            "Unpacking postgresql-common (238) ...\n",
            "Selecting previously unselected package postgresql-14.\n",
            "Preparing to unpack .../10-postgresql-14_14.9-0ubuntu0.22.04.1_amd64.deb ...\n",
            "Unpacking postgresql-14 (14.9-0ubuntu0.22.04.1) ...\n",
            "Selecting previously unselected package sysstat.\n",
            "Preparing to unpack .../11-sysstat_12.5.2-2ubuntu0.2_amd64.deb ...\n",
            "Unpacking sysstat (12.5.2-2ubuntu0.2) ...\n",
            "Setting up logrotate (3.19.0-1ubuntu1.1) ...\n",
            "Created symlink /etc/systemd/system/timers.target.wants/logrotate.timer → /lib/systemd/system/logrotate.timer.\n",
            "Setting up libcommon-sense-perl:amd64 (3.75-2build1) ...\n",
            "Setting up ssl-cert (1.1.2) ...\n",
            "debconf: unable to initialize frontend: Dialog\n",
            "debconf: (No usable dialog-like program is installed, so the dialog based frontend cannot be used. at /usr/share/perl5/Debconf/FrontEnd/Dialog.pm line 78.)\n",
            "debconf: falling back to frontend: Readline\n",
            "Setting up libtypes-serialiser-perl (1.01-1) ...\n",
            "Setting up libjson-perl (4.04000-1) ...\n",
            "Setting up netbase (6.3) ...\n",
            "Setting up sysstat (12.5.2-2ubuntu0.2) ...\n",
            "debconf: unable to initialize frontend: Dialog\n",
            "debconf: (No usable dialog-like program is installed, so the dialog based frontend cannot be used. at /usr/share/perl5/Debconf/FrontEnd/Dialog.pm line 78.)\n",
            "debconf: falling back to frontend: Readline\n",
            "\n",
            "Creating config file /etc/default/sysstat with new version\n",
            "update-alternatives: using /usr/bin/sar.sysstat to provide /usr/bin/sar (sar) in auto mode\n",
            "Created symlink /etc/systemd/system/sysstat.service.wants/sysstat-collect.timer → /lib/systemd/system/sysstat-collect.timer.\n",
            "Created symlink /etc/systemd/system/sysstat.service.wants/sysstat-summary.timer → /lib/systemd/system/sysstat-summary.timer.\n",
            "Created symlink /etc/systemd/system/multi-user.target.wants/sysstat.service → /lib/systemd/system/sysstat.service.\n",
            "Setting up postgresql-client-common (238) ...\n",
            "Setting up libjson-xs-perl (4.030-1build3) ...\n",
            "Setting up postgresql-client-14 (14.9-0ubuntu0.22.04.1) ...\n",
            "update-alternatives: using /usr/share/postgresql/14/man/man1/psql.1.gz to provide /usr/share/man/man1/psql.1.gz (psql.1.gz) in auto mode\n",
            "Setting up postgresql-common (238) ...\n",
            "debconf: unable to initialize frontend: Dialog\n",
            "debconf: (No usable dialog-like program is installed, so the dialog based frontend cannot be used. at /usr/share/perl5/Debconf/FrontEnd/Dialog.pm line 78.)\n",
            "debconf: falling back to frontend: Readline\n",
            "Adding user postgres to group ssl-cert\n",
            "\n",
            "Creating config file /etc/postgresql-common/createcluster.conf with new version\n",
            "Building PostgreSQL dictionaries from installed myspell/hunspell packages...\n",
            "Removing obsolete dictionary files:\n",
            "Created symlink /etc/systemd/system/multi-user.target.wants/postgresql.service → /lib/systemd/system/postgresql.service.\n",
            "Setting up postgresql-14 (14.9-0ubuntu0.22.04.1) ...\n",
            "debconf: unable to initialize frontend: Dialog\n",
            "debconf: (No usable dialog-like program is installed, so the dialog based frontend cannot be used. at /usr/share/perl5/Debconf/FrontEnd/Dialog.pm line 78.)\n",
            "debconf: falling back to frontend: Readline\n",
            "Creating new PostgreSQL cluster 14/main ...\n",
            "/usr/lib/postgresql/14/bin/initdb -D /var/lib/postgresql/14/main --auth-local peer --auth-host scram-sha-256 --no-instructions\n",
            "The files belonging to this database system will be owned by user \"postgres\".\n",
            "This user must also own the server process.\n",
            "\n",
            "The database cluster will be initialized with locale \"en_US.UTF-8\".\n",
            "The default database encoding has accordingly been set to \"UTF8\".\n",
            "The default text search configuration will be set to \"english\".\n",
            "\n",
            "Data page checksums are disabled.\n",
            "\n",
            "fixing permissions on existing directory /var/lib/postgresql/14/main ... ok\n",
            "creating subdirectories ... ok\n",
            "selecting dynamic shared memory implementation ... posix\n",
            "selecting default max_connections ... 100\n",
            "selecting default shared_buffers ... 128MB\n",
            "selecting default time zone ... Etc/UTC\n",
            "creating configuration files ... ok\n",
            "running bootstrap script ... ok\n",
            "performing post-bootstrap initialization ... ok\n",
            "syncing data to disk ... ok\n",
            "update-alternatives: using /usr/share/postgresql/14/man/man1/postmaster.1.gz to provide /usr/share/man/man1/postmaster.1.gz (postmaster.1.gz) in auto mode\n",
            "invoke-rc.d: could not determine current runlevel\n",
            "invoke-rc.d: policy-rc.d denied execution of start.\n",
            "Processing triggers for man-db (2.10.2-1) ...\n",
            " * Starting PostgreSQL 14 database server\n",
            "   ...done.\n",
            "ALTER ROLE\n",
            "Collecting pyqrlew\n",
            "  Downloading pyqrlew-0.5.3-cp38-abi3-manylinux_2_17_x86_64.manylinux2014_x86_64.whl (5.0 MB)\n",
            "\u001b[2K     \u001b[90m━━━━━━━━━━━━━━━━━━━━━━━━━━━━━━━━━━━━━━━━\u001b[0m \u001b[32m5.0/5.0 MB\u001b[0m \u001b[31m34.5 MB/s\u001b[0m eta \u001b[36m0:00:00\u001b[0m\n",
            "\u001b[?25hRequirement already satisfied: matplotlib in /usr/local/lib/python3.10/dist-packages (3.7.1)\n",
            "Collecting matplotlib\n",
            "  Downloading matplotlib-3.8.2-cp310-cp310-manylinux_2_17_x86_64.manylinux2014_x86_64.whl (11.6 MB)\n",
            "\u001b[2K     \u001b[90m━━━━━━━━━━━━━━━━━━━━━━━━━━━━━━━━━━━━━━━━\u001b[0m \u001b[32m11.6/11.6 MB\u001b[0m \u001b[31m59.7 MB/s\u001b[0m eta \u001b[36m0:00:00\u001b[0m\n",
            "\u001b[?25hRequirement already satisfied: graphviz in /usr/local/lib/python3.10/dist-packages (0.20.1)\n",
            "Collecting SQLAlchemy<2.0 (from pyqrlew)\n",
            "  Downloading SQLAlchemy-1.4.50-cp310-cp310-manylinux_2_5_x86_64.manylinux1_x86_64.manylinux_2_17_x86_64.manylinux2014_x86_64.whl (1.6 MB)\n",
            "\u001b[2K     \u001b[90m━━━━━━━━━━━━━━━━━━━━━━━━━━━━━━━━━━━━━━━━\u001b[0m \u001b[32m1.6/1.6 MB\u001b[0m \u001b[31m60.8 MB/s\u001b[0m eta \u001b[36m0:00:00\u001b[0m\n",
            "\u001b[?25hRequirement already satisfied: psycopg2<3.0 in /usr/local/lib/python3.10/dist-packages (from pyqrlew) (2.9.9)\n",
            "Collecting pymysql~=1.0 (from pyqrlew)\n",
            "  Downloading PyMySQL-1.1.0-py3-none-any.whl (44 kB)\n",
            "\u001b[2K     \u001b[90m━━━━━━━━━━━━━━━━━━━━━━━━━━━━━━━━━━━━━━━━\u001b[0m \u001b[32m44.8/44.8 kB\u001b[0m \u001b[31m3.7 MB/s\u001b[0m eta \u001b[36m0:00:00\u001b[0m\n",
            "\u001b[?25hCollecting qrlew-datasets~=0.5 (from pyqrlew)\n",
            "  Downloading qrlew_datasets-0.5.0-py3-none-any.whl (12 kB)\n",
            "Requirement already satisfied: pandas~=1.0 in /usr/local/lib/python3.10/dist-packages (from pyqrlew) (1.5.3)\n",
            "Collecting importlib_resources<6.0 (from pyqrlew)\n",
            "  Downloading importlib_resources-5.13.0-py3-none-any.whl (32 kB)\n",
            "Requirement already satisfied: contourpy>=1.0.1 in /usr/local/lib/python3.10/dist-packages (from matplotlib) (1.2.0)\n",
            "Requirement already satisfied: cycler>=0.10 in /usr/local/lib/python3.10/dist-packages (from matplotlib) (0.12.1)\n",
            "Requirement already satisfied: fonttools>=4.22.0 in /usr/local/lib/python3.10/dist-packages (from matplotlib) (4.45.1)\n",
            "Requirement already satisfied: kiwisolver>=1.3.1 in /usr/local/lib/python3.10/dist-packages (from matplotlib) (1.4.5)\n",
            "Requirement already satisfied: numpy<2,>=1.21 in /usr/local/lib/python3.10/dist-packages (from matplotlib) (1.23.5)\n",
            "Requirement already satisfied: packaging>=20.0 in /usr/local/lib/python3.10/dist-packages (from matplotlib) (23.2)\n",
            "Requirement already satisfied: pillow>=8 in /usr/local/lib/python3.10/dist-packages (from matplotlib) (9.4.0)\n",
            "Requirement already satisfied: pyparsing>=2.3.1 in /usr/local/lib/python3.10/dist-packages (from matplotlib) (3.1.1)\n",
            "Requirement already satisfied: python-dateutil>=2.7 in /usr/local/lib/python3.10/dist-packages (from matplotlib) (2.8.2)\n",
            "Requirement already satisfied: pytz>=2020.1 in /usr/local/lib/python3.10/dist-packages (from pandas~=1.0->pyqrlew) (2023.3.post1)\n",
            "Requirement already satisfied: six>=1.5 in /usr/local/lib/python3.10/dist-packages (from python-dateutil>=2.7->matplotlib) (1.16.0)\n",
            "Requirement already satisfied: termcolor<3.0.0,>=2.3.0 in /usr/local/lib/python3.10/dist-packages (from qrlew-datasets~=0.5->pyqrlew) (2.3.0)\n",
            "Requirement already satisfied: greenlet!=0.4.17 in /usr/local/lib/python3.10/dist-packages (from SQLAlchemy<2.0->pyqrlew) (3.0.1)\n",
            "Installing collected packages: SQLAlchemy, pymysql, importlib_resources, qrlew-datasets, matplotlib, pyqrlew\n",
            "  Attempting uninstall: SQLAlchemy\n",
            "    Found existing installation: SQLAlchemy 2.0.23\n",
            "    Uninstalling SQLAlchemy-2.0.23:\n",
            "      Successfully uninstalled SQLAlchemy-2.0.23\n",
            "  Attempting uninstall: importlib_resources\n",
            "    Found existing installation: importlib-resources 6.1.1\n",
            "    Uninstalling importlib-resources-6.1.1:\n",
            "      Successfully uninstalled importlib-resources-6.1.1\n",
            "  Attempting uninstall: matplotlib\n",
            "    Found existing installation: matplotlib 3.7.1\n",
            "    Uninstalling matplotlib-3.7.1:\n",
            "      Successfully uninstalled matplotlib-3.7.1\n",
            "\u001b[31mERROR: pip's dependency resolver does not currently take into account all the packages that are installed. This behaviour is the source of the following dependency conflicts.\n",
            "lida 0.0.10 requires fastapi, which is not installed.\n",
            "lida 0.0.10 requires kaleido, which is not installed.\n",
            "lida 0.0.10 requires python-multipart, which is not installed.\n",
            "lida 0.0.10 requires uvicorn, which is not installed.\n",
            "ipython-sql 0.5.0 requires sqlalchemy>=2.0, but you have sqlalchemy 1.4.50 which is incompatible.\u001b[0m\u001b[31m\n",
            "\u001b[0mSuccessfully installed SQLAlchemy-1.4.50 importlib_resources-5.13.0 matplotlib-3.8.2 pymysql-1.1.0 pyqrlew-0.5.3 qrlew-datasets-0.5.0\n"
          ]
        },
        {
          "output_type": "execute_result",
          "data": {
            "text/plain": []
          },
          "metadata": {},
          "execution_count": 1
        }
      ],
      "source": [
        "%%shell\n",
        "# Load the database\n",
        "# Inspred by https://colab.research.google.com/github/tensorflow/io/blob/master/docs/tutorials/postgresql.ipynb#scrollTo=YUj0878jPyz7\n",
        "sudo apt-get -y -qq update\n",
        "sudo apt-get -y -qq install postgresql-14\n",
        "# Start postgresql server\n",
        "sudo sed -i \"s/port = 5432/port = 5433/g\" /etc/postgresql/14/main/postgresql.conf\n",
        "sudo service postgresql start\n",
        "# Set password\n",
        "sudo -u postgres psql -U postgres -c \"ALTER USER postgres PASSWORD 'pyqrlew-db'\"\n",
        "pip install -U pyqrlew matplotlib graphviz"
      ]
    },
    {
      "cell_type": "markdown",
      "id": "98161de3",
      "metadata": {
        "id": "98161de3"
      },
      "source": [
        "For our analysis, we will use the Qrlew built-in sample datasets `retail` and an Postgres connection.\n",
        "\n",
        "Note that you can also load one or several csv files or use another SQL engine."
      ]
    },
    {
      "cell_type": "code",
      "execution_count": 2,
      "id": "e5331167",
      "metadata": {
        "id": "e5331167"
      },
      "outputs": [],
      "source": [
        "from pyqrlew.io import PostgreSQL\n",
        "# Read data\n",
        "database = PostgreSQL()\n",
        "dataset = database.retail()"
      ]
    },
    {
      "cell_type": "markdown",
      "id": "e542593d",
      "metadata": {
        "id": "e542593d"
      },
      "source": [
        "## The `Relation`: an intermediate represention for SQL rewritting"
      ]
    },
    {
      "cell_type": "markdown",
      "id": "ada2d2e9",
      "metadata": {
        "id": "ada2d2e9"
      },
      "source": [
        "The `retail` dataset contains 3 tables, each can be converted into a `Relation::Table`:"
      ]
    },
    {
      "cell_type": "code",
      "execution_count": 3,
      "id": "9936b983",
      "metadata": {
        "id": "9936b983",
        "outputId": "ed7ad894-5d18-4272-9562-dc7adfbde1e1",
        "colab": {
          "base_uri": "https://localhost:8080/",
          "height": 451
        }
      },
      "outputs": [
        {
          "output_type": "display_data",
          "data": {
            "image/svg+xml": "<?xml version=\"1.0\" encoding=\"UTF-8\" standalone=\"no\"?>\n<!DOCTYPE svg PUBLIC \"-//W3C//DTD SVG 1.1//EN\"\n \"http://www.w3.org/Graphics/SVG/1.1/DTD/svg11.dtd\">\n<!-- Generated by graphviz version 2.43.0 (0)\n -->\n<!-- Title: graph_8gqz Pages: 1 -->\n<svg width=\"468pt\" height=\"135pt\"\n viewBox=\"0.00 0.00 468.00 135.00\" xmlns=\"http://www.w3.org/2000/svg\" xmlns:xlink=\"http://www.w3.org/1999/xlink\">\n<g id=\"graph0\" class=\"graph\" transform=\"scale(1 1) rotate(0) translate(4 131)\">\n<title>graph_8gqz</title>\n<polygon fill=\"transparent\" stroke=\"transparent\" points=\"-4,4 -4,-131 464,-131 464,4 -4,4\"/>\n<!-- graph_8gqz -->\n<g id=\"node1\" class=\"node\">\n<title>graph_8gqz</title>\n<path fill=\"#ff1744\" stroke=\"#000000\" stroke-opacity=\"0.333333\" d=\"M448,-127C448,-127 12,-127 12,-127 6,-127 0,-121 0,-115 0,-115 0,-12 0,-12 0,-6 6,0 12,0 12,0 448,0 448,0 454,0 460,-6 460,-12 460,-12 460,-115 460,-115 460,-121 454,-127 448,-127\"/>\n<text text-anchor=\"start\" x=\"122\" y=\"-105.2\" font-family=\"Red Hat Display,sans-serif\" font-weight=\"bold\" font-size=\"11.00\" fill=\"#ffffff\" fill-opacity=\"0.733333\">RETAIL_FEATURES size ∈ int{910}</text>\n<text text-anchor=\"start\" x=\"183\" y=\"-94.2\" font-family=\"Red Hat Display,sans-serif\" font-size=\"11.00\" fill=\"#ffffff\" fill-opacity=\"0.733333\">id = id ∈ str</text>\n<text text-anchor=\"start\" x=\"162.5\" y=\"-83.2\" font-family=\"Red Hat Display,sans-serif\" font-size=\"11.00\" fill=\"#ffffff\" fill-opacity=\"0.733333\">store = store ∈ str</text>\n<text text-anchor=\"start\" x=\"14\" y=\"-72.2\" font-family=\"Red Hat Display,sans-serif\" font-size=\"11.00\" fill=\"#ffffff\" fill-opacity=\"0.733333\">date = date ∈ datetime[0001&#45;01&#45;01 00:00:00 9999&#45;12&#45;31 00:00:00]</text>\n<text text-anchor=\"start\" x=\"115.5\" y=\"-61.2\" font-family=\"Red Hat Display,sans-serif\" font-size=\"11.00\" fill=\"#ffffff\" fill-opacity=\"0.733333\">temperature = temperature ∈ float</text>\n<text text-anchor=\"start\" x=\"122\" y=\"-50.2\" font-family=\"Red Hat Display,sans-serif\" font-size=\"11.00\" fill=\"#ffffff\" fill-opacity=\"0.733333\">fuel_price = fuel_price ∈ float</text>\n<text text-anchor=\"start\" x=\"169.5\" y=\"-39.2\" font-family=\"Red Hat Display,sans-serif\" font-size=\"11.00\" fill=\"#ffffff\" fill-opacity=\"0.733333\">cpi = cpi ∈ float</text>\n<text text-anchor=\"start\" x=\"108.5\" y=\"-28.2\" font-family=\"Red Hat Display,sans-serif\" font-size=\"11.00\" fill=\"#ffffff\" fill-opacity=\"0.733333\">unemployment = unemployment ∈ float</text>\n<text text-anchor=\"start\" x=\"132\" y=\"-17.2\" font-family=\"Red Hat Display,sans-serif\" font-size=\"11.00\" fill=\"#ffffff\" fill-opacity=\"0.733333\">isholiday = isholiday ∈ bool</text>\n</g>\n</g>\n</svg>\n",
            "text/plain": [
              "<graphviz.sources.Source at 0x7c26c31fb100>"
            ]
          },
          "metadata": {}
        },
        {
          "output_type": "display_data",
          "data": {
            "image/svg+xml": "<?xml version=\"1.0\" encoding=\"UTF-8\" standalone=\"no\"?>\n<!DOCTYPE svg PUBLIC \"-//W3C//DTD SVG 1.1//EN\"\n \"http://www.w3.org/Graphics/SVG/1.1/DTD/svg11.dtd\">\n<!-- Generated by graphviz version 2.43.0 (0)\n -->\n<!-- Title: graph_ix25 Pages: 1 -->\n<svg width=\"468pt\" height=\"102pt\"\n viewBox=\"0.00 0.00 468.00 102.00\" xmlns=\"http://www.w3.org/2000/svg\" xmlns:xlink=\"http://www.w3.org/1999/xlink\">\n<g id=\"graph0\" class=\"graph\" transform=\"scale(1 1) rotate(0) translate(4 98)\">\n<title>graph_ix25</title>\n<polygon fill=\"transparent\" stroke=\"transparent\" points=\"-4,4 -4,-98 464,-98 464,4 -4,4\"/>\n<!-- graph_ix25 -->\n<g id=\"node1\" class=\"node\">\n<title>graph_ix25</title>\n<path fill=\"#ff1744\" stroke=\"#000000\" stroke-opacity=\"0.333333\" d=\"M448,-94C448,-94 12,-94 12,-94 6,-94 0,-88 0,-82 0,-82 0,-12 0,-12 0,-6 6,0 12,0 12,0 448,0 448,0 454,0 460,-6 460,-12 460,-12 460,-82 460,-82 460,-88 454,-94 448,-94\"/>\n<text text-anchor=\"start\" x=\"132\" y=\"-72.2\" font-family=\"Red Hat Display,sans-serif\" font-weight=\"bold\" font-size=\"11.00\" fill=\"#ffffff\" fill-opacity=\"0.733333\">RETAIL_SALES size ∈ int{715}</text>\n<text text-anchor=\"start\" x=\"183\" y=\"-61.2\" font-family=\"Red Hat Display,sans-serif\" font-size=\"11.00\" fill=\"#ffffff\" fill-opacity=\"0.733333\">id = id ∈ str</text>\n<text text-anchor=\"start\" x=\"162.5\" y=\"-50.2\" font-family=\"Red Hat Display,sans-serif\" font-size=\"11.00\" fill=\"#ffffff\" fill-opacity=\"0.733333\">store = store ∈ str</text>\n<text text-anchor=\"start\" x=\"14\" y=\"-39.2\" font-family=\"Red Hat Display,sans-serif\" font-size=\"11.00\" fill=\"#ffffff\" fill-opacity=\"0.733333\">date = date ∈ datetime[0001&#45;01&#45;01 00:00:00 9999&#45;12&#45;31 00:00:00]</text>\n<text text-anchor=\"start\" x=\"108.5\" y=\"-28.2\" font-family=\"Red Hat Display,sans-serif\" font-size=\"11.00\" fill=\"#ffffff\" fill-opacity=\"0.733333\">weekly_sales = weekly_sales ∈ float</text>\n<text text-anchor=\"start\" x=\"132\" y=\"-17.2\" font-family=\"Red Hat Display,sans-serif\" font-size=\"11.00\" fill=\"#ffffff\" fill-opacity=\"0.733333\">isholiday = isholiday ∈ bool</text>\n</g>\n</g>\n</svg>\n",
            "text/plain": [
              "<graphviz.sources.Source at 0x7c26c31fb9d0>"
            ]
          },
          "metadata": {}
        },
        {
          "output_type": "display_data",
          "data": {
            "image/svg+xml": "<?xml version=\"1.0\" encoding=\"UTF-8\" standalone=\"no\"?>\n<!DOCTYPE svg PUBLIC \"-//W3C//DTD SVG 1.1//EN\"\n \"http://www.w3.org/Graphics/SVG/1.1/DTD/svg11.dtd\">\n<!-- Generated by graphviz version 2.43.0 (0)\n -->\n<!-- Title: graph_yvek Pages: 1 -->\n<svg width=\"225pt\" height=\"80pt\"\n viewBox=\"0.00 0.00 225.00 80.00\" xmlns=\"http://www.w3.org/2000/svg\" xmlns:xlink=\"http://www.w3.org/1999/xlink\">\n<g id=\"graph0\" class=\"graph\" transform=\"scale(1 1) rotate(0) translate(4 76)\">\n<title>graph_yvek</title>\n<polygon fill=\"transparent\" stroke=\"transparent\" points=\"-4,4 -4,-76 221,-76 221,4 -4,4\"/>\n<!-- graph_yvek -->\n<g id=\"node1\" class=\"node\">\n<title>graph_yvek</title>\n<path fill=\"#ff1744\" stroke=\"#000000\" stroke-opacity=\"0.333333\" d=\"M205,-72C205,-72 12,-72 12,-72 6,-72 0,-66 0,-60 0,-60 0,-12 0,-12 0,-6 6,0 12,0 12,0 205,0 205,0 211,0 217,-6 217,-12 217,-12 217,-60 217,-60 217,-66 211,-72 205,-72\"/>\n<text text-anchor=\"start\" x=\"14\" y=\"-50.2\" font-family=\"Red Hat Display,sans-serif\" font-weight=\"bold\" font-size=\"11.00\" fill=\"#ffffff\" fill-opacity=\"0.733333\">RETAIL_STORES size ∈ int{5}</text>\n<text text-anchor=\"start\" x=\"41\" y=\"-39.2\" font-family=\"Red Hat Display,sans-serif\" font-size=\"11.00\" fill=\"#ffffff\" fill-opacity=\"0.733333\">store = store ∈ str</text>\n<text text-anchor=\"start\" x=\"48\" y=\"-28.2\" font-family=\"Red Hat Display,sans-serif\" font-size=\"11.00\" fill=\"#ffffff\" fill-opacity=\"0.733333\">type = type ∈ str</text>\n<text text-anchor=\"start\" x=\"48\" y=\"-17.2\" font-family=\"Red Hat Display,sans-serif\" font-size=\"11.00\" fill=\"#ffffff\" fill-opacity=\"0.733333\">size = size ∈ int</text>\n</g>\n</g>\n</svg>\n",
            "text/plain": [
              "<graphviz.sources.Source at 0x7c26c31fb100>"
            ]
          },
          "metadata": {}
        }
      ],
      "source": [
        "import graphviz\n",
        "display(graphviz.Source(dataset.relations()[0][1].dot()))\n",
        "display(graphviz.Source(dataset.relations()[1][1].dot()))\n",
        "display(graphviz.Source(dataset.relations()[2][1].dot()))"
      ]
    },
    {
      "cell_type": "markdown",
      "id": "0561bdfe",
      "metadata": {
        "id": "0561bdfe"
      },
      "source": [
        "Each `Relation::Table` contains the size of the table (which can be approximate with DP) and the columns in the tables with their name and type."
      ]
    },
    {
      "cell_type": "markdown",
      "id": "a9316957",
      "metadata": {
        "id": "a9316957"
      },
      "source": [
        "Before using any differential privacy mechanism, it is essential to determine:\n",
        "- the *privacy unit*, i.e. the *user* identifier,\n",
        "- the *sensitivity of the aggregation functions*, i.e. the maximal contribution a user may have on the result,\n",
        "- the values of the `GROUP BY` columns that can be safely released"
      ]
    },
    {
      "cell_type": "markdown",
      "id": "7de6c738",
      "metadata": {
        "id": "7de6c738"
      },
      "source": [
        "## The privacy unit"
      ]
    },
    {
      "cell_type": "markdown",
      "id": "30077766",
      "metadata": {
        "id": "30077766"
      },
      "source": [
        "In this example, let's consider that we want to protect the `id` column of the tables `features` and `sales`.\n",
        "\n",
        "The tables `store` is linked to `features` via foreign keys.\n",
        "\n",
        "Then each table have a privacy unit (even if it is not directly in the table):\n",
        "- `features`: column `id`\n",
        "- `stores`: the privacy unit is the column `id` of the `feature` table. It is obtained by joining the tables `features` and `stores` with the condition `features.store = stores.store`\n",
        "- `sales`: column `id`\n",
        "\n",
        "We code the privacy unit as:"
      ]
    },
    {
      "cell_type": "code",
      "execution_count": 4,
      "id": "b96421f2",
      "metadata": {
        "id": "b96421f2"
      },
      "outputs": [],
      "source": [
        "privacy_unit = [\n",
        "    (\"features\", [], \"id\"),\n",
        "    (\"stores\", [(\"store\", \"features\", \"store\")], \"id\"),\n",
        "    (\"sales\", [], \"id\")\n",
        "]\n",
        "# Other arguments that will be explained later\n",
        "budget = {\"epsilon\": 1.0, \"delta\": 5e-4}\n",
        "synthetic_data = [\n",
        "    ([\"retail\", \"features\"], [\"retail\", \"features_sd\"]),\n",
        "]"
      ]
    },
    {
      "cell_type": "markdown",
      "id": "dddeb53d",
      "metadata": {
        "id": "dddeb53d"
      },
      "source": [
        "The `privacy_unit` is a vector whose each element is a tuple with the convention: `(table_name, join_path, id_column)` with:\n",
        "- `table_name` the name of the table,\n",
        "- `join_path` a vector storing the joins whose each item `(column_name, table_name, column)` represents a foreign key,\n",
        "- `id_column` the name of the column which is the privacy unit."
      ]
    },
    {
      "cell_type": "markdown",
      "id": "0aa67b12",
      "metadata": {
        "id": "0aa67b12"
      },
      "source": [
        "The `Relation` method `protect` allows to propagate the **privacy unit** through all the relations:"
      ]
    },
    {
      "cell_type": "code",
      "execution_count": 5,
      "id": "0ce5df6d",
      "metadata": {
        "id": "0ce5df6d",
        "outputId": "fd275f2d-bb97-45d4-b48a-97e9548ba28b",
        "colab": {
          "base_uri": "https://localhost:8080/",
          "height": 438
        }
      },
      "outputs": [
        {
          "output_type": "display_data",
          "data": {
            "image/svg+xml": "<?xml version=\"1.0\" encoding=\"UTF-8\" standalone=\"no\"?>\n<!DOCTYPE svg PUBLIC \"-//W3C//DTD SVG 1.1//EN\"\n \"http://www.w3.org/Graphics/SVG/1.1/DTD/svg11.dtd\">\n<!-- Generated by graphviz version 2.43.0 (0)\n -->\n<!-- Title: graph_y1pi Pages: 1 -->\n<svg width=\"468pt\" height=\"313pt\"\n viewBox=\"0.00 0.00 468.00 313.00\" xmlns=\"http://www.w3.org/2000/svg\" xmlns:xlink=\"http://www.w3.org/1999/xlink\">\n<g id=\"graph0\" class=\"graph\" transform=\"scale(1 1) rotate(0) translate(4 309)\">\n<title>graph_y1pi</title>\n<polygon fill=\"transparent\" stroke=\"transparent\" points=\"-4,4 -4,-309 464,-309 464,4 -4,4\"/>\n<!-- graph_y1pi -->\n<g id=\"node1\" class=\"node\">\n<title>graph_y1pi</title>\n<path fill=\"#428e92\" stroke=\"#000000\" stroke-opacity=\"0.333333\" d=\"M448,-305C448,-305 12,-305 12,-305 6,-305 0,-299 0,-293 0,-293 0,-168 0,-168 0,-162 6,-156 12,-156 12,-156 448,-156 448,-156 454,-156 460,-162 460,-168 460,-168 460,-293 460,-293 460,-299 454,-305 448,-305\"/>\n<text text-anchor=\"start\" x=\"139\" y=\"-283.2\" font-family=\"Red Hat Display,sans-serif\" font-weight=\"bold\" font-size=\"11.00\" fill=\"#000000\" fill-opacity=\"0.733333\">MAP_784N size ∈ int[0 910]</text>\n<text text-anchor=\"start\" x=\"78\" y=\"-272.2\" font-family=\"Red Hat Display,sans-serif\" font-size=\"11.00\" fill=\"#000000\" fill-opacity=\"0.733333\">_PRIVACY_UNIT_ = md5(cast_as_text(id)) ∈ str</text>\n<text text-anchor=\"start\" x=\"112\" y=\"-261.2\" font-family=\"Red Hat Display,sans-serif\" font-size=\"11.00\" fill=\"#000000\" fill-opacity=\"0.733333\">_PRIVACY_UNIT_WEIGHT_ = 1 ∈ int{1}</text>\n<text text-anchor=\"start\" x=\"183\" y=\"-250.2\" font-family=\"Red Hat Display,sans-serif\" font-size=\"11.00\" fill=\"#000000\" fill-opacity=\"0.733333\">id = id ∈ str</text>\n<text text-anchor=\"start\" x=\"162.5\" y=\"-239.2\" font-family=\"Red Hat Display,sans-serif\" font-size=\"11.00\" fill=\"#000000\" fill-opacity=\"0.733333\">store = store ∈ str</text>\n<text text-anchor=\"start\" x=\"14\" y=\"-228.2\" font-family=\"Red Hat Display,sans-serif\" font-size=\"11.00\" fill=\"#000000\" fill-opacity=\"0.733333\">date = date ∈ datetime[0001&#45;01&#45;01 00:00:00 9999&#45;12&#45;31 00:00:00]</text>\n<text text-anchor=\"start\" x=\"115.5\" y=\"-217.2\" font-family=\"Red Hat Display,sans-serif\" font-size=\"11.00\" fill=\"#000000\" fill-opacity=\"0.733333\">temperature = temperature ∈ float</text>\n<text text-anchor=\"start\" x=\"122\" y=\"-206.2\" font-family=\"Red Hat Display,sans-serif\" font-size=\"11.00\" fill=\"#000000\" fill-opacity=\"0.733333\">fuel_price = fuel_price ∈ float</text>\n<text text-anchor=\"start\" x=\"169.5\" y=\"-195.2\" font-family=\"Red Hat Display,sans-serif\" font-size=\"11.00\" fill=\"#000000\" fill-opacity=\"0.733333\">cpi = cpi ∈ float</text>\n<text text-anchor=\"start\" x=\"108.5\" y=\"-184.2\" font-family=\"Red Hat Display,sans-serif\" font-size=\"11.00\" fill=\"#000000\" fill-opacity=\"0.733333\">unemployment = unemployment ∈ float</text>\n<text text-anchor=\"start\" x=\"132\" y=\"-173.2\" font-family=\"Red Hat Display,sans-serif\" font-size=\"11.00\" fill=\"#000000\" fill-opacity=\"0.733333\">isholiday = isholiday ∈ bool</text>\n</g>\n<!-- graph_8gqz -->\n<g id=\"node2\" class=\"node\">\n<title>graph_8gqz</title>\n<path fill=\"#ff1744\" stroke=\"#000000\" stroke-opacity=\"0.333333\" d=\"M448,-127C448,-127 12,-127 12,-127 6,-127 0,-121 0,-115 0,-115 0,-12 0,-12 0,-6 6,0 12,0 12,0 448,0 448,0 454,0 460,-6 460,-12 460,-12 460,-115 460,-115 460,-121 454,-127 448,-127\"/>\n<text text-anchor=\"start\" x=\"122\" y=\"-105.2\" font-family=\"Red Hat Display,sans-serif\" font-weight=\"bold\" font-size=\"11.00\" fill=\"#ffffff\" fill-opacity=\"0.733333\">RETAIL_FEATURES size ∈ int{910}</text>\n<text text-anchor=\"start\" x=\"183\" y=\"-94.2\" font-family=\"Red Hat Display,sans-serif\" font-size=\"11.00\" fill=\"#ffffff\" fill-opacity=\"0.733333\">id = id ∈ str</text>\n<text text-anchor=\"start\" x=\"162.5\" y=\"-83.2\" font-family=\"Red Hat Display,sans-serif\" font-size=\"11.00\" fill=\"#ffffff\" fill-opacity=\"0.733333\">store = store ∈ str</text>\n<text text-anchor=\"start\" x=\"14\" y=\"-72.2\" font-family=\"Red Hat Display,sans-serif\" font-size=\"11.00\" fill=\"#ffffff\" fill-opacity=\"0.733333\">date = date ∈ datetime[0001&#45;01&#45;01 00:00:00 9999&#45;12&#45;31 00:00:00]</text>\n<text text-anchor=\"start\" x=\"115.5\" y=\"-61.2\" font-family=\"Red Hat Display,sans-serif\" font-size=\"11.00\" fill=\"#ffffff\" fill-opacity=\"0.733333\">temperature = temperature ∈ float</text>\n<text text-anchor=\"start\" x=\"122\" y=\"-50.2\" font-family=\"Red Hat Display,sans-serif\" font-size=\"11.00\" fill=\"#ffffff\" fill-opacity=\"0.733333\">fuel_price = fuel_price ∈ float</text>\n<text text-anchor=\"start\" x=\"169.5\" y=\"-39.2\" font-family=\"Red Hat Display,sans-serif\" font-size=\"11.00\" fill=\"#ffffff\" fill-opacity=\"0.733333\">cpi = cpi ∈ float</text>\n<text text-anchor=\"start\" x=\"108.5\" y=\"-28.2\" font-family=\"Red Hat Display,sans-serif\" font-size=\"11.00\" fill=\"#ffffff\" fill-opacity=\"0.733333\">unemployment = unemployment ∈ float</text>\n<text text-anchor=\"start\" x=\"132\" y=\"-17.2\" font-family=\"Red Hat Display,sans-serif\" font-size=\"11.00\" fill=\"#ffffff\" fill-opacity=\"0.733333\">isholiday = isholiday ∈ bool</text>\n</g>\n<!-- graph_y1pi&#45;&gt;graph_8gqz -->\n<g id=\"edge1\" class=\"edge\">\n<title>graph_y1pi&#45;&gt;graph_8gqz</title>\n<path fill=\"none\" stroke=\"#2b303a\" d=\"M230,-155.69C230,-149.59 230,-143.42 230,-137.33\"/>\n<polygon fill=\"#2b303a\" stroke=\"#2b303a\" points=\"233.5,-137.16 230,-127.16 226.5,-137.16 233.5,-137.16\"/>\n</g>\n</g>\n</svg>\n",
            "text/plain": [
              "<graphviz.sources.Source at 0x7c26c2af3f40>"
            ]
          },
          "metadata": {}
        }
      ],
      "source": [
        "pup_features = dataset.relations()[0][1].rewrite_as_privacy_unit_preserving(\n",
        "    dataset,\n",
        "    synthetic_data,\n",
        "    privacy_unit,\n",
        "    budget)\n",
        "display(graphviz.Source(pup_features.relation().dot()))"
      ]
    },
    {
      "cell_type": "code",
      "execution_count": 6,
      "id": "d975df77",
      "metadata": {
        "id": "d975df77",
        "outputId": "6ee25bbd-c81a-4fac-863e-9937a7ab3678",
        "colab": {
          "base_uri": "https://localhost:8080/",
          "height": 632
        }
      },
      "outputs": [
        {
          "output_type": "display_data",
          "data": {
            "image/svg+xml": "<?xml version=\"1.0\" encoding=\"UTF-8\" standalone=\"no\"?>\n<!DOCTYPE svg PUBLIC \"-//W3C//DTD SVG 1.1//EN\"\n \"http://www.w3.org/Graphics/SVG/1.1/DTD/svg11.dtd\">\n<!-- Generated by graphviz version 2.43.0 (0)\n -->\n<!-- Title: graph_56bg Pages: 1 -->\n<svg width=\"700pt\" height=\"458pt\"\n viewBox=\"0.00 0.00 699.50 458.00\" xmlns=\"http://www.w3.org/2000/svg\" xmlns:xlink=\"http://www.w3.org/1999/xlink\">\n<g id=\"graph0\" class=\"graph\" transform=\"scale(1 1) rotate(0) translate(4 454)\">\n<title>graph_56bg</title>\n<polygon fill=\"transparent\" stroke=\"transparent\" points=\"-4,4 -4,-454 695.5,-454 695.5,4 -4,4\"/>\n<!-- graph_56bg -->\n<g id=\"node1\" class=\"node\">\n<title>graph_56bg</title>\n<path fill=\"#428e92\" stroke=\"#000000\" stroke-opacity=\"0.333333\" d=\"M587,-450C587,-450 225,-450 225,-450 219,-450 213,-444 213,-438 213,-438 213,-368 213,-368 213,-362 219,-356 225,-356 225,-356 587,-356 587,-356 593,-356 599,-362 599,-368 599,-368 599,-438 599,-438 599,-444 593,-450 587,-450\"/>\n<text text-anchor=\"start\" x=\"311.5\" y=\"-428.2\" font-family=\"Red Hat Display,sans-serif\" font-weight=\"bold\" font-size=\"11.00\" fill=\"#000000\" fill-opacity=\"0.733333\">MAP_YJKY size ∈ int[0 4550]</text>\n<text text-anchor=\"start\" x=\"227\" y=\"-417.2\" font-family=\"Red Hat Display,sans-serif\" font-size=\"11.00\" fill=\"#000000\" fill-opacity=\"0.733333\">_PRIVACY_UNIT_ = md5(cast_as_text(field_tv1c)) ∈ str</text>\n<text text-anchor=\"start\" x=\"288\" y=\"-406.2\" font-family=\"Red Hat Display,sans-serif\" font-size=\"11.00\" fill=\"#000000\" fill-opacity=\"0.733333\">_PRIVACY_UNIT_WEIGHT_ = 1 ∈ int{1}</text>\n<text text-anchor=\"start\" x=\"321.5\" y=\"-395.2\" font-family=\"Red Hat Display,sans-serif\" font-size=\"11.00\" fill=\"#000000\" fill-opacity=\"0.733333\">store = field_zror ∈ str</text>\n<text text-anchor=\"start\" x=\"325\" y=\"-384.2\" font-family=\"Red Hat Display,sans-serif\" font-size=\"11.00\" fill=\"#000000\" fill-opacity=\"0.733333\">type = field_jna5 ∈ str</text>\n<text text-anchor=\"start\" x=\"325\" y=\"-373.2\" font-family=\"Red Hat Display,sans-serif\" font-size=\"11.00\" fill=\"#000000\" fill-opacity=\"0.733333\">size = field__01c ∈ int</text>\n</g>\n<!-- graph_whxi -->\n<g id=\"node2\" class=\"node\">\n<title>graph_whxi</title>\n<path fill=\"#ff616f\" stroke=\"#000000\" stroke-opacity=\"0.333333\" d=\"M668,-327C668,-327 144,-327 144,-327 138,-327 132,-321 132,-315 132,-315 132,-168 132,-168 132,-162 138,-156 144,-156 144,-156 668,-156 668,-156 674,-156 680,-162 680,-168 680,-168 680,-315 680,-315 680,-321 674,-327 668,-327\"/>\n<text text-anchor=\"start\" x=\"308\" y=\"-305.2\" font-family=\"Red Hat Display,sans-serif\" font-weight=\"bold\" font-size=\"11.00\" fill=\"#000000\" fill-opacity=\"0.733333\">JOIN_XNZJ size ∈ int[0 4550]</text>\n<text text-anchor=\"start\" x=\"308\" y=\"-294.2\" font-family=\"Red Hat Display,sans-serif\" font-size=\"11.00\" fill=\"#000000\" fill-opacity=\"0.733333\">field_tv1c = _LEFT_.id ∈ str</text>\n<text text-anchor=\"start\" x=\"298\" y=\"-283.2\" font-family=\"Red Hat Display,sans-serif\" font-size=\"11.00\" fill=\"#000000\" fill-opacity=\"0.733333\">field_fdwg = _LEFT_.store ∈ str</text>\n<text text-anchor=\"start\" x=\"146\" y=\"-272.2\" font-family=\"Red Hat Display,sans-serif\" font-size=\"11.00\" fill=\"#000000\" fill-opacity=\"0.733333\">field_hgo_ = _LEFT_.date ∈ datetime[0001&#45;01&#45;01 00:00:00 9999&#45;12&#45;31 00:00:00]</text>\n<text text-anchor=\"start\" x=\"271\" y=\"-261.2\" font-family=\"Red Hat Display,sans-serif\" font-size=\"11.00\" fill=\"#000000\" fill-opacity=\"0.733333\">field_mkap = _LEFT_.temperature ∈ float</text>\n<text text-anchor=\"start\" x=\"274.5\" y=\"-250.2\" font-family=\"Red Hat Display,sans-serif\" font-size=\"11.00\" fill=\"#000000\" fill-opacity=\"0.733333\">field_at06 = _LEFT_.fuel_price ∈ float</text>\n<text text-anchor=\"start\" x=\"298\" y=\"-239.2\" font-family=\"Red Hat Display,sans-serif\" font-size=\"11.00\" fill=\"#000000\" fill-opacity=\"0.733333\">field_mqgm = _LEFT_.cpi ∈ float</text>\n<text text-anchor=\"start\" x=\"267.5\" y=\"-228.2\" font-family=\"Red Hat Display,sans-serif\" font-size=\"11.00\" fill=\"#000000\" fill-opacity=\"0.733333\">field_gdvs = _LEFT_.unemployment ∈ float</text>\n<text text-anchor=\"start\" x=\"281\" y=\"-217.2\" font-family=\"Red Hat Display,sans-serif\" font-size=\"11.00\" fill=\"#000000\" fill-opacity=\"0.733333\">field_nl9d = _LEFT_.isholiday ∈ bool</text>\n<text text-anchor=\"start\" x=\"294.5\" y=\"-206.2\" font-family=\"Red Hat Display,sans-serif\" font-size=\"11.00\" fill=\"#000000\" fill-opacity=\"0.733333\">field_zror = _RIGHT_.store ∈ str</text>\n<text text-anchor=\"start\" x=\"298\" y=\"-195.2\" font-family=\"Red Hat Display,sans-serif\" font-size=\"11.00\" fill=\"#000000\" fill-opacity=\"0.733333\">field_jna5 = _RIGHT_.type ∈ str</text>\n<text text-anchor=\"start\" x=\"298\" y=\"-184.2\" font-family=\"Red Hat Display,sans-serif\" font-size=\"11.00\" fill=\"#000000\" fill-opacity=\"0.733333\">field__01c = _RIGHT_.size ∈ int</text>\n<text text-anchor=\"start\" x=\"274\" y=\"-173.2\" font-family=\"Red Hat Display,sans-serif\" font-size=\"11.00\" fill=\"#000000\" fill-opacity=\"0.733333\">INNER ON (_RIGHT_.store = _LEFT_.store)</text>\n</g>\n<!-- graph_56bg&#45;&gt;graph_whxi -->\n<g id=\"edge3\" class=\"edge\">\n<title>graph_56bg&#45;&gt;graph_whxi</title>\n<path fill=\"none\" stroke=\"#2b303a\" d=\"M406,-355.87C406,-349.89 406,-343.6 406,-337.18\"/>\n<polygon fill=\"#2b303a\" stroke=\"#2b303a\" points=\"409.5,-337.01 406,-327.01 402.5,-337.01 409.5,-337.01\"/>\n</g>\n<!-- graph_8gqz -->\n<g id=\"node3\" class=\"node\">\n<title>graph_8gqz</title>\n<path fill=\"#ff1744\" stroke=\"#000000\" stroke-opacity=\"0.333333\" d=\"M448,-127C448,-127 12,-127 12,-127 6,-127 0,-121 0,-115 0,-115 0,-12 0,-12 0,-6 6,0 12,0 12,0 448,0 448,0 454,0 460,-6 460,-12 460,-12 460,-115 460,-115 460,-121 454,-127 448,-127\"/>\n<text text-anchor=\"start\" x=\"122\" y=\"-105.2\" font-family=\"Red Hat Display,sans-serif\" font-weight=\"bold\" font-size=\"11.00\" fill=\"#ffffff\" fill-opacity=\"0.733333\">RETAIL_FEATURES size ∈ int{910}</text>\n<text text-anchor=\"start\" x=\"183\" y=\"-94.2\" font-family=\"Red Hat Display,sans-serif\" font-size=\"11.00\" fill=\"#ffffff\" fill-opacity=\"0.733333\">id = id ∈ str</text>\n<text text-anchor=\"start\" x=\"162.5\" y=\"-83.2\" font-family=\"Red Hat Display,sans-serif\" font-size=\"11.00\" fill=\"#ffffff\" fill-opacity=\"0.733333\">store = store ∈ str</text>\n<text text-anchor=\"start\" x=\"14\" y=\"-72.2\" font-family=\"Red Hat Display,sans-serif\" font-size=\"11.00\" fill=\"#ffffff\" fill-opacity=\"0.733333\">date = date ∈ datetime[0001&#45;01&#45;01 00:00:00 9999&#45;12&#45;31 00:00:00]</text>\n<text text-anchor=\"start\" x=\"115.5\" y=\"-61.2\" font-family=\"Red Hat Display,sans-serif\" font-size=\"11.00\" fill=\"#ffffff\" fill-opacity=\"0.733333\">temperature = temperature ∈ float</text>\n<text text-anchor=\"start\" x=\"122\" y=\"-50.2\" font-family=\"Red Hat Display,sans-serif\" font-size=\"11.00\" fill=\"#ffffff\" fill-opacity=\"0.733333\">fuel_price = fuel_price ∈ float</text>\n<text text-anchor=\"start\" x=\"169.5\" y=\"-39.2\" font-family=\"Red Hat Display,sans-serif\" font-size=\"11.00\" fill=\"#ffffff\" fill-opacity=\"0.733333\">cpi = cpi ∈ float</text>\n<text text-anchor=\"start\" x=\"108.5\" y=\"-28.2\" font-family=\"Red Hat Display,sans-serif\" font-size=\"11.00\" fill=\"#ffffff\" fill-opacity=\"0.733333\">unemployment = unemployment ∈ float</text>\n<text text-anchor=\"start\" x=\"132\" y=\"-17.2\" font-family=\"Red Hat Display,sans-serif\" font-size=\"11.00\" fill=\"#ffffff\" fill-opacity=\"0.733333\">isholiday = isholiday ∈ bool</text>\n</g>\n<!-- graph_whxi&#45;&gt;graph_8gqz -->\n<g id=\"edge1\" class=\"edge\">\n<title>graph_whxi&#45;&gt;graph_8gqz</title>\n<path fill=\"none\" stroke=\"#2b303a\" d=\"M321.35,-155.85C314.24,-148.74 307.09,-141.59 300.11,-134.61\"/>\n<polygon fill=\"#2b303a\" stroke=\"#2b303a\" points=\"302.14,-131.69 292.6,-127.1 297.19,-136.64 302.14,-131.69\"/>\n</g>\n<!-- graph_yvek -->\n<g id=\"node4\" class=\"node\">\n<title>graph_yvek</title>\n<path fill=\"#ff1744\" stroke=\"#000000\" stroke-opacity=\"0.333333\" d=\"M679.5,-99.5C679.5,-99.5 486.5,-99.5 486.5,-99.5 480.5,-99.5 474.5,-93.5 474.5,-87.5 474.5,-87.5 474.5,-39.5 474.5,-39.5 474.5,-33.5 480.5,-27.5 486.5,-27.5 486.5,-27.5 679.5,-27.5 679.5,-27.5 685.5,-27.5 691.5,-33.5 691.5,-39.5 691.5,-39.5 691.5,-87.5 691.5,-87.5 691.5,-93.5 685.5,-99.5 679.5,-99.5\"/>\n<text text-anchor=\"start\" x=\"488.5\" y=\"-77.7\" font-family=\"Red Hat Display,sans-serif\" font-weight=\"bold\" font-size=\"11.00\" fill=\"#ffffff\" fill-opacity=\"0.733333\">RETAIL_STORES size ∈ int{5}</text>\n<text text-anchor=\"start\" x=\"515.5\" y=\"-66.7\" font-family=\"Red Hat Display,sans-serif\" font-size=\"11.00\" fill=\"#ffffff\" fill-opacity=\"0.733333\">store = store ∈ str</text>\n<text text-anchor=\"start\" x=\"522.5\" y=\"-55.7\" font-family=\"Red Hat Display,sans-serif\" font-size=\"11.00\" fill=\"#ffffff\" fill-opacity=\"0.733333\">type = type ∈ str</text>\n<text text-anchor=\"start\" x=\"522.5\" y=\"-44.7\" font-family=\"Red Hat Display,sans-serif\" font-size=\"11.00\" fill=\"#ffffff\" fill-opacity=\"0.733333\">size = size ∈ int</text>\n</g>\n<!-- graph_whxi&#45;&gt;graph_yvek -->\n<g id=\"edge2\" class=\"edge\">\n<title>graph_whxi&#45;&gt;graph_yvek</title>\n<path fill=\"none\" stroke=\"#2b303a\" d=\"M491.13,-155.85C508.33,-138.75 525.7,-121.47 540.64,-106.62\"/>\n<polygon fill=\"#2b303a\" stroke=\"#2b303a\" points=\"543.14,-109.07 547.76,-99.54 538.2,-104.11 543.14,-109.07\"/>\n</g>\n</g>\n</svg>\n",
            "text/plain": [
              "<graphviz.sources.Source at 0x7c26c2af3130>"
            ]
          },
          "metadata": {}
        }
      ],
      "source": [
        "pup_stores = dataset.relations()[2][1].rewrite_as_privacy_unit_preserving(\n",
        "    dataset,\n",
        "    synthetic_data,\n",
        "    privacy_unit,\n",
        "    budget)\n",
        "display(graphviz.Source(pup_stores.relation().dot()))"
      ]
    },
    {
      "cell_type": "markdown",
      "id": "f232bac1",
      "metadata": {
        "id": "f232bac1"
      },
      "source": [
        "We notice that to protect the `features` table we just have to hash the values of the `id` column and store them into the `_PRIVACY_UNIT_` while to protect the `store` table we had to make a join before."
      ]
    },
    {
      "cell_type": "markdown",
      "id": "b5badc08",
      "metadata": {
        "id": "b5badc08"
      },
      "source": [
        "## The sensitivity"
      ]
    },
    {
      "cell_type": "markdown",
      "id": "9de52758",
      "metadata": {
        "id": "9de52758"
      },
      "source": [
        "In the case we want to relase the result of query : `SELECT SUM(3 * fuel_price + temperature / 10) FROM retail.features`, we have to compute the sensitivity of the `SUM(3 * fuel_price + temperature / 10)` aggregation.\n",
        "\n",
        "The user provides the ranges of the inputs column in the `WHERE` clause of the query, then these values are propagated through all the relations."
      ]
    },
    {
      "cell_type": "code",
      "execution_count": 9,
      "id": "4ca7732e",
      "metadata": {
        "id": "4ca7732e",
        "outputId": "c8ee2ed3-771d-4ecb-ff65-c25b93cbd8e0",
        "colab": {
          "base_uri": "https://localhost:8080/",
          "height": 426
        }
      },
      "outputs": [
        {
          "output_type": "display_data",
          "data": {
            "image/svg+xml": "<?xml version=\"1.0\" encoding=\"UTF-8\" standalone=\"no\"?>\n<!DOCTYPE svg PUBLIC \"-//W3C//DTD SVG 1.1//EN\"\n \"http://www.w3.org/Graphics/SVG/1.1/DTD/svg11.dtd\">\n<!-- Generated by graphviz version 2.43.0 (0)\n -->\n<!-- Title: graph_q4ld Pages: 1 -->\n<svg width=\"705pt\" height=\"304pt\"\n viewBox=\"0.00 0.00 705.00 304.00\" xmlns=\"http://www.w3.org/2000/svg\" xmlns:xlink=\"http://www.w3.org/1999/xlink\">\n<g id=\"graph0\" class=\"graph\" transform=\"scale(1 1) rotate(0) translate(4 300)\">\n<title>graph_q4ld</title>\n<polygon fill=\"transparent\" stroke=\"transparent\" points=\"-4,4 -4,-300 701,-300 701,4 -4,4\"/>\n<!-- graph_q4ld -->\n<g id=\"node1\" class=\"node\">\n<title>graph_q4ld</title>\n<path fill=\"#00363a\" stroke=\"#000000\" stroke-opacity=\"0.333333\" d=\"M505.5,-296C505.5,-296 191.5,-296 191.5,-296 185.5,-296 179.5,-290 179.5,-284 179.5,-284 179.5,-258 179.5,-258 179.5,-252 185.5,-246 191.5,-246 191.5,-246 505.5,-246 505.5,-246 511.5,-246 517.5,-252 517.5,-258 517.5,-258 517.5,-284 517.5,-284 517.5,-290 511.5,-296 505.5,-296\"/>\n<text text-anchor=\"start\" x=\"247.5\" y=\"-274.2\" font-family=\"Red Hat Display,sans-serif\" font-weight=\"bold\" font-size=\"11.00\" fill=\"#ffffff\" fill-opacity=\"0.733333\">REDUCE_9NS0 size ∈ int[0 910]</text>\n<text text-anchor=\"start\" x=\"193.5\" y=\"-263.2\" font-family=\"Red Hat Display,sans-serif\" font-size=\"11.00\" fill=\"#ffffff\" fill-opacity=\"0.733333\">field_qq4j = sum(field_38yt) ∈ float[0 19110]</text>\n</g>\n<!-- graph_stfg -->\n<g id=\"node2\" class=\"node\">\n<title>graph_stfg</title>\n<path fill=\"#428e92\" stroke=\"#000000\" stroke-opacity=\"0.333333\" d=\"M685,-217C685,-217 12,-217 12,-217 6,-217 0,-211 0,-205 0,-205 0,-168 0,-168 0,-162 6,-156 12,-156 12,-156 685,-156 685,-156 691,-156 697,-162 697,-168 697,-168 697,-205 697,-205 697,-211 691,-217 685,-217\"/>\n<text text-anchor=\"start\" x=\"257.5\" y=\"-195.2\" font-family=\"Red Hat Display,sans-serif\" font-weight=\"bold\" font-size=\"11.00\" fill=\"#000000\" fill-opacity=\"0.733333\">MAP_7I7I size ∈ int[0 910]</text>\n<text text-anchor=\"start\" x=\"112.5\" y=\"-184.2\" font-family=\"Red Hat Display,sans-serif\" font-size=\"11.00\" fill=\"#000000\" fill-opacity=\"0.733333\">field_38yt = ((3 * fuel_price) + (temperature / 10)) ∈ float[10.3 21]</text>\n<text text-anchor=\"start\" x=\"14\" y=\"-173.2\" font-family=\"Red Hat Display,sans-serif\" font-size=\"11.00\" fill=\"#000000\" fill-opacity=\"0.733333\">WHERE ((((fuel_price &gt; 2.5) and (fuel_price &lt; 3.9)) and (temperature &gt; 28)) and (temperature &lt; 93))</text>\n</g>\n<!-- graph_q4ld&#45;&gt;graph_stfg -->\n<g id=\"edge2\" class=\"edge\">\n<title>graph_q4ld&#45;&gt;graph_stfg</title>\n<path fill=\"none\" stroke=\"#2b303a\" d=\"M348.5,-245.69C348.5,-239.97 348.5,-233.72 348.5,-227.5\"/>\n<polygon fill=\"#2b303a\" stroke=\"#2b303a\" points=\"352,-227.18 348.5,-217.18 345,-227.18 352,-227.18\"/>\n</g>\n<!-- graph_8gqz -->\n<g id=\"node3\" class=\"node\">\n<title>graph_8gqz</title>\n<path fill=\"#ff1744\" stroke=\"#000000\" stroke-opacity=\"0.333333\" d=\"M566.5,-127C566.5,-127 130.5,-127 130.5,-127 124.5,-127 118.5,-121 118.5,-115 118.5,-115 118.5,-12 118.5,-12 118.5,-6 124.5,0 130.5,0 130.5,0 566.5,0 566.5,0 572.5,0 578.5,-6 578.5,-12 578.5,-12 578.5,-115 578.5,-115 578.5,-121 572.5,-127 566.5,-127\"/>\n<text text-anchor=\"start\" x=\"240.5\" y=\"-105.2\" font-family=\"Red Hat Display,sans-serif\" font-weight=\"bold\" font-size=\"11.00\" fill=\"#ffffff\" fill-opacity=\"0.733333\">RETAIL_FEATURES size ∈ int{910}</text>\n<text text-anchor=\"start\" x=\"301.5\" y=\"-94.2\" font-family=\"Red Hat Display,sans-serif\" font-size=\"11.00\" fill=\"#ffffff\" fill-opacity=\"0.733333\">id = id ∈ str</text>\n<text text-anchor=\"start\" x=\"281\" y=\"-83.2\" font-family=\"Red Hat Display,sans-serif\" font-size=\"11.00\" fill=\"#ffffff\" fill-opacity=\"0.733333\">store = store ∈ str</text>\n<text text-anchor=\"start\" x=\"132.5\" y=\"-72.2\" font-family=\"Red Hat Display,sans-serif\" font-size=\"11.00\" fill=\"#ffffff\" fill-opacity=\"0.733333\">date = date ∈ datetime[0001&#45;01&#45;01 00:00:00 9999&#45;12&#45;31 00:00:00]</text>\n<text text-anchor=\"start\" x=\"234\" y=\"-61.2\" font-family=\"Red Hat Display,sans-serif\" font-size=\"11.00\" fill=\"#ffffff\" fill-opacity=\"0.733333\">temperature = temperature ∈ float</text>\n<text text-anchor=\"start\" x=\"240.5\" y=\"-50.2\" font-family=\"Red Hat Display,sans-serif\" font-size=\"11.00\" fill=\"#ffffff\" fill-opacity=\"0.733333\">fuel_price = fuel_price ∈ float</text>\n<text text-anchor=\"start\" x=\"288\" y=\"-39.2\" font-family=\"Red Hat Display,sans-serif\" font-size=\"11.00\" fill=\"#ffffff\" fill-opacity=\"0.733333\">cpi = cpi ∈ float</text>\n<text text-anchor=\"start\" x=\"227\" y=\"-28.2\" font-family=\"Red Hat Display,sans-serif\" font-size=\"11.00\" fill=\"#ffffff\" fill-opacity=\"0.733333\">unemployment = unemployment ∈ float</text>\n<text text-anchor=\"start\" x=\"250.5\" y=\"-17.2\" font-family=\"Red Hat Display,sans-serif\" font-size=\"11.00\" fill=\"#ffffff\" fill-opacity=\"0.733333\">isholiday = isholiday ∈ bool</text>\n</g>\n<!-- graph_stfg&#45;&gt;graph_8gqz -->\n<g id=\"edge1\" class=\"edge\">\n<title>graph_stfg&#45;&gt;graph_8gqz</title>\n<path fill=\"none\" stroke=\"#2b303a\" d=\"M348.5,-155.9C348.5,-150.21 348.5,-144.01 348.5,-137.63\"/>\n<polygon fill=\"#2b303a\" stroke=\"#2b303a\" points=\"352,-137.47 348.5,-127.47 345,-137.47 352,-137.47\"/>\n</g>\n</g>\n</svg>\n",
            "text/plain": [
              "<graphviz.sources.Source at 0x7c26c2a79c60>"
            ]
          },
          "metadata": {}
        }
      ],
      "source": [
        "relation = dataset.sql('SELECT SUM(3 * fuel_price + temperature / 10) FROM retail.features WHERE fuel_price > 2.5 AND fuel_price < 3.9 AND temperature > 28 AND temperature < 93')\n",
        "display(graphviz.Source(relation.dot()))"
      ]
    },
    {
      "cell_type": "markdown",
      "id": "48d3a1dd",
      "metadata": {
        "id": "48d3a1dd"
      },
      "source": [
        "More information about the ranges propagation can be found [here](https://github.com/Qrlew/pyqrlew/blob/main/examples/range_propagation.ipynb)."
      ]
    },
    {
      "cell_type": "markdown",
      "id": "1fc2f206",
      "metadata": {
        "id": "1fc2f206"
      },
      "source": [
        "## The protection of the GROUP BY keys"
      ]
    },
    {
      "cell_type": "markdown",
      "id": "88ad8146",
      "metadata": {
        "id": "88ad8146"
      },
      "source": [
        "As explained in [Wilson et al. (2019)](https://arxiv.org/abs/1909.01917) and [this post](https://www.sarus.tech/post/the-protection-of-grouping-keys-in-the-context-of-differentially-private-sql), releasing the values of the grouping columns may leak some sensitive information.\n",
        "\n",
        "To avoid that, two methods can be used:\n",
        "- if the grouping keys have public values, we can release the propagated public values,\n",
        "- otherwise we can use the tau-thresholding mechanism.\n",
        "\n",
        "In the following cell, we show how the public values are propagated and then can be used in the DP rewriting."
      ]
    },
    {
      "cell_type": "code",
      "execution_count": 10,
      "id": "f591c869",
      "metadata": {
        "id": "f591c869",
        "outputId": "2a8f39c6-0ee4-4536-bab7-37800b0e6479",
        "colab": {
          "base_uri": "https://localhost:8080/",
          "height": 590
        }
      },
      "outputs": [
        {
          "output_type": "display_data",
          "data": {
            "image/svg+xml": "<?xml version=\"1.0\" encoding=\"UTF-8\" standalone=\"no\"?>\n<!DOCTYPE svg PUBLIC \"-//W3C//DTD SVG 1.1//EN\"\n \"http://www.w3.org/Graphics/SVG/1.1/DTD/svg11.dtd\">\n<!-- Generated by graphviz version 2.43.0 (0)\n -->\n<!-- Title: graph_51_c Pages: 1 -->\n<svg width=\"468pt\" height=\"427pt\"\n viewBox=\"0.00 0.00 468.00 427.00\" xmlns=\"http://www.w3.org/2000/svg\" xmlns:xlink=\"http://www.w3.org/1999/xlink\">\n<g id=\"graph0\" class=\"graph\" transform=\"scale(1 1) rotate(0) translate(4 423)\">\n<title>graph_51_c</title>\n<polygon fill=\"transparent\" stroke=\"transparent\" points=\"-4,4 -4,-423 464,-423 464,4 -4,4\"/>\n<!-- graph_51_c -->\n<g id=\"node1\" class=\"node\">\n<title>graph_51_c</title>\n<path fill=\"#428e92\" stroke=\"#000000\" stroke-opacity=\"0.333333\" d=\"M360,-419C360,-419 100,-419 100,-419 94,-419 88,-413 88,-407 88,-407 88,-370 88,-370 88,-364 94,-358 100,-358 100,-358 360,-358 360,-358 366,-358 372,-364 372,-370 372,-370 372,-407 372,-407 372,-413 366,-419 360,-419\"/>\n<text text-anchor=\"start\" x=\"139\" y=\"-397.2\" font-family=\"Red Hat Display,sans-serif\" font-weight=\"bold\" font-size=\"11.00\" fill=\"#000000\" fill-opacity=\"0.733333\">MAP_TEZX size ∈ int[0 910]</text>\n<text text-anchor=\"start\" x=\"102\" y=\"-386.2\" font-family=\"Red Hat Display,sans-serif\" font-size=\"11.00\" fill=\"#000000\" fill-opacity=\"0.733333\">store = field_djj8 ∈ str{a, b} UNIQUE</text>\n<text text-anchor=\"start\" x=\"122\" y=\"-375.2\" font-family=\"Red Hat Display,sans-serif\" font-size=\"11.00\" fill=\"#000000\" fill-opacity=\"0.733333\">field_dtwp = field_7hx6 ∈ float</text>\n</g>\n<!-- graph_66gi -->\n<g id=\"node2\" class=\"node\">\n<title>graph_66gi</title>\n<path fill=\"#00363a\" stroke=\"#000000\" stroke-opacity=\"0.333333\" d=\"M400.5,-329C400.5,-329 59.5,-329 59.5,-329 53.5,-329 47.5,-323 47.5,-317 47.5,-317 47.5,-269 47.5,-269 47.5,-263 53.5,-257 59.5,-257 59.5,-257 400.5,-257 400.5,-257 406.5,-257 412.5,-263 412.5,-269 412.5,-269 412.5,-317 412.5,-317 412.5,-323 406.5,-329 400.5,-329\"/>\n<text text-anchor=\"start\" x=\"129\" y=\"-307.2\" font-family=\"Red Hat Display,sans-serif\" font-weight=\"bold\" font-size=\"11.00\" fill=\"#ffffff\" fill-opacity=\"0.733333\">REDUCE_X52G size ∈ int[0 910]</text>\n<text text-anchor=\"start\" x=\"105\" y=\"-296.2\" font-family=\"Red Hat Display,sans-serif\" font-size=\"11.00\" fill=\"#ffffff\" fill-opacity=\"0.733333\">field_7hx6 = sum(field__6vl) ∈ float</text>\n<text text-anchor=\"start\" x=\"61.5\" y=\"-285.2\" font-family=\"Red Hat Display,sans-serif\" font-size=\"11.00\" fill=\"#ffffff\" fill-opacity=\"0.733333\">field_djj8 = first(field_8tj1) ∈ str{a, b} UNIQUE</text>\n<text text-anchor=\"start\" x=\"159\" y=\"-274.2\" font-family=\"Red Hat Display,sans-serif\" font-size=\"11.00\" fill=\"#ffffff\" fill-opacity=\"0.733333\">GROUP BY (field_8tj1)</text>\n</g>\n<!-- graph_51_c&#45;&gt;graph_66gi -->\n<g id=\"edge3\" class=\"edge\">\n<title>graph_51_c&#45;&gt;graph_66gi</title>\n<path fill=\"none\" stroke=\"#2b303a\" d=\"M230,-357.92C230,-352.09 230,-345.85 230,-339.64\"/>\n<polygon fill=\"#2b303a\" stroke=\"#2b303a\" points=\"233.5,-339.28 230,-329.28 226.5,-339.28 233.5,-339.28\"/>\n</g>\n<!-- graph_v38u -->\n<g id=\"node3\" class=\"node\">\n<title>graph_v38u</title>\n<path fill=\"#428e92\" stroke=\"#000000\" stroke-opacity=\"0.333333\" d=\"M340,-228C340,-228 120,-228 120,-228 114,-228 108,-222 108,-216 108,-216 108,-168 108,-168 108,-162 114,-156 120,-156 120,-156 340,-156 340,-156 346,-156 352,-162 352,-168 352,-168 352,-216 352,-216 352,-222 346,-228 340,-228\"/>\n<text text-anchor=\"start\" x=\"139\" y=\"-206.2\" font-family=\"Red Hat Display,sans-serif\" font-weight=\"bold\" font-size=\"11.00\" fill=\"#000000\" fill-opacity=\"0.733333\">MAP_RWSW size ∈ int[0 910]</text>\n<text text-anchor=\"start\" x=\"122\" y=\"-195.2\" font-family=\"Red Hat Display,sans-serif\" font-size=\"11.00\" fill=\"#000000\" fill-opacity=\"0.733333\">field__6vl = fuel_price ∈ float</text>\n<text text-anchor=\"start\" x=\"125.5\" y=\"-184.2\" font-family=\"Red Hat Display,sans-serif\" font-size=\"11.00\" fill=\"#000000\" fill-opacity=\"0.733333\">field_8tj1 = store ∈ str{a, b}</text>\n<text text-anchor=\"start\" x=\"152\" y=\"-173.2\" font-family=\"Red Hat Display,sans-serif\" font-size=\"11.00\" fill=\"#000000\" fill-opacity=\"0.733333\">WHERE (store in (a, b))</text>\n</g>\n<!-- graph_66gi&#45;&gt;graph_v38u -->\n<g id=\"edge2\" class=\"edge\">\n<title>graph_66gi&#45;&gt;graph_v38u</title>\n<path fill=\"none\" stroke=\"#2b303a\" d=\"M230,-256.82C230,-250.84 230,-244.55 230,-238.35\"/>\n<polygon fill=\"#2b303a\" stroke=\"#2b303a\" points=\"233.5,-238.07 230,-228.07 226.5,-238.07 233.5,-238.07\"/>\n</g>\n<!-- graph_8gqz -->\n<g id=\"node4\" class=\"node\">\n<title>graph_8gqz</title>\n<path fill=\"#ff1744\" stroke=\"#000000\" stroke-opacity=\"0.333333\" d=\"M448,-127C448,-127 12,-127 12,-127 6,-127 0,-121 0,-115 0,-115 0,-12 0,-12 0,-6 6,0 12,0 12,0 448,0 448,0 454,0 460,-6 460,-12 460,-12 460,-115 460,-115 460,-121 454,-127 448,-127\"/>\n<text text-anchor=\"start\" x=\"122\" y=\"-105.2\" font-family=\"Red Hat Display,sans-serif\" font-weight=\"bold\" font-size=\"11.00\" fill=\"#ffffff\" fill-opacity=\"0.733333\">RETAIL_FEATURES size ∈ int{910}</text>\n<text text-anchor=\"start\" x=\"183\" y=\"-94.2\" font-family=\"Red Hat Display,sans-serif\" font-size=\"11.00\" fill=\"#ffffff\" fill-opacity=\"0.733333\">id = id ∈ str</text>\n<text text-anchor=\"start\" x=\"162.5\" y=\"-83.2\" font-family=\"Red Hat Display,sans-serif\" font-size=\"11.00\" fill=\"#ffffff\" fill-opacity=\"0.733333\">store = store ∈ str</text>\n<text text-anchor=\"start\" x=\"14\" y=\"-72.2\" font-family=\"Red Hat Display,sans-serif\" font-size=\"11.00\" fill=\"#ffffff\" fill-opacity=\"0.733333\">date = date ∈ datetime[0001&#45;01&#45;01 00:00:00 9999&#45;12&#45;31 00:00:00]</text>\n<text text-anchor=\"start\" x=\"115.5\" y=\"-61.2\" font-family=\"Red Hat Display,sans-serif\" font-size=\"11.00\" fill=\"#ffffff\" fill-opacity=\"0.733333\">temperature = temperature ∈ float</text>\n<text text-anchor=\"start\" x=\"122\" y=\"-50.2\" font-family=\"Red Hat Display,sans-serif\" font-size=\"11.00\" fill=\"#ffffff\" fill-opacity=\"0.733333\">fuel_price = fuel_price ∈ float</text>\n<text text-anchor=\"start\" x=\"169.5\" y=\"-39.2\" font-family=\"Red Hat Display,sans-serif\" font-size=\"11.00\" fill=\"#ffffff\" fill-opacity=\"0.733333\">cpi = cpi ∈ float</text>\n<text text-anchor=\"start\" x=\"108.5\" y=\"-28.2\" font-family=\"Red Hat Display,sans-serif\" font-size=\"11.00\" fill=\"#ffffff\" fill-opacity=\"0.733333\">unemployment = unemployment ∈ float</text>\n<text text-anchor=\"start\" x=\"132\" y=\"-17.2\" font-family=\"Red Hat Display,sans-serif\" font-size=\"11.00\" fill=\"#ffffff\" fill-opacity=\"0.733333\">isholiday = isholiday ∈ bool</text>\n</g>\n<!-- graph_v38u&#45;&gt;graph_8gqz -->\n<g id=\"edge1\" class=\"edge\">\n<title>graph_v38u&#45;&gt;graph_8gqz</title>\n<path fill=\"none\" stroke=\"#2b303a\" d=\"M230,-155.76C230,-149.91 230,-143.66 230,-137.27\"/>\n<polygon fill=\"#2b303a\" stroke=\"#2b303a\" points=\"233.5,-137.16 230,-127.16 226.5,-137.16 233.5,-137.16\"/>\n</g>\n</g>\n</svg>\n",
            "text/plain": [
              "<graphviz.sources.Source at 0x7c26c2a7bd60>"
            ]
          },
          "metadata": {}
        }
      ],
      "source": [
        "relation = dataset.sql(\"SELECT store, SUM(fuel_price) FROM retail.features WHERE store IN ('a', 'b') GROUP BY store \")\n",
        "display(graphviz.Source(relation.dot()))"
      ]
    },
    {
      "cell_type": "markdown",
      "id": "5b28a481",
      "metadata": {
        "id": "5b28a481"
      },
      "source": [
        "## Rewritting with DP"
      ]
    },
    {
      "cell_type": "markdown",
      "id": "f03b57f8",
      "metadata": {
        "id": "f03b57f8"
      },
      "source": [
        "The rewritting with DP is done in 3 steps:\n",
        "- **Protect** the input `Relation` as described before\n",
        "- **DP-rewritting of the grouping keys**: a grouping key can be released if already public or if it appears in enough users rows,\n",
        "- **Add noise** scaled by the privacy parameters to each aggregation."
      ]
    },
    {
      "cell_type": "markdown",
      "id": "fac10e08",
      "metadata": {
        "id": "fac10e08"
      },
      "source": [
        "\n",
        "We use the `rewrite_with_differential_privacy` method that transforms a `Relation` into its differentially private equivalent.\n",
        "\n",
        "It inputs:\n",
        "- the privacy parameters `epsilon` and `delta` scaling the amount of gaussian noise added to the aggregates,\n",
        "- the privacy parameters `epsilon_tau_thresholding` and `delta_tau_thresholding` input in the tau-thresholding algorithm (if needed),\n",
        "- an array containing the privacy unit of each table,\n",
        "- a `Dataset`."
      ]
    },
    {
      "cell_type": "code",
      "execution_count": 15,
      "id": "9b989849",
      "metadata": {
        "id": "9b989849"
      },
      "outputs": [],
      "source": [
        "privacy_unit = [\n",
        "    (\"stores\", [(\"store\", \"features\", \"store\")], \"id\"),\n",
        "    (\"features\", [], \"id\"),\n",
        "    (\"sales\", [], \"id\")\n",
        "]\n",
        "budget = {\"epsilon\": 1.0, \"delta\": 5e-4}\n",
        "synthetic_data = [\n",
        "    ([\"retail\", \"features\"], [\"retail\", \"features_sd\"]),\n",
        "]\n",
        "\n",
        "query = \"SELECT SUM(fuel_price) AS my_sum FROM retail.features WHERE fuel_price > 2.514 AND fuel_price < 3.907\"\n",
        "relation = dataset.sql(query)\n",
        "\n",
        "relation_with_private_queries = relation.rewrite_with_differential_privacy(\n",
        "    dataset,\n",
        "    synthetic_data,\n",
        "    privacy_unit,\n",
        "    budget\n",
        ")\n",
        "dp_relation = relation_with_private_queries.relation()\n",
        "mechanisms_used = relation_with_private_queries.private_query()"
      ]
    },
    {
      "cell_type": "code",
      "execution_count": 16,
      "id": "b5eec893",
      "metadata": {
        "id": "b5eec893",
        "outputId": "482bb22e-b6ef-4e8c-aa9e-e2bcf7620965",
        "colab": {
          "base_uri": "https://localhost:8080/"
        }
      },
      "outputs": [
        {
          "output_type": "stream",
          "name": "stdout",
          "text": [
            "Relation: SELECT my_sum AS my_sum FROM ( SELECT _SUM_field__6vl AS my_sum FROM ( SELECT least(3555.37, greatest(0, (coalesce(field__6vl, 0) + (15.455181404019267 * (sqrt((-2 * ln(random()))) * cos((6.283185307179586 * random()))))))) AS _SUM_field__6vl FROM ( SELECT sum(field_3d25) AS field__6vl FROM ( SELECT field__6vl AS field_3d25 FROM ( SELECT _PRIVACY_UNIT_ AS _PRIVACY_UNIT_, _PRIVACY_UNIT_WEIGHT_ AS _PRIVACY_UNIT_WEIGHT_, (field__6vl * _SCALE_FACTOR_field__6vl) AS field__6vl, _SCALE_FACTOR__PRIVACY_UNIT_ AS _SCALE_FACTOR__PRIVACY_UNIT_, _SCALE_FACTOR_field__6vl AS _SCALE_FACTOR_field__6vl FROM ( SELECT map_2sf9._PRIVACY_UNIT_ AS _PRIVACY_UNIT_, map_2sf9._PRIVACY_UNIT_WEIGHT_ AS _PRIVACY_UNIT_WEIGHT_, map_2sf9.field__6vl AS field__6vl, map_gv9s._PRIVACY_UNIT_ AS _SCALE_FACTOR__PRIVACY_UNIT_, map_gv9s.field__6vl AS _SCALE_FACTOR_field__6vl FROM ( SELECT coalesce(cast_as_text(_PRIVACY_UNIT_), _PRIVACY_UNIT_DEFAULT_) AS _PRIVACY_UNIT_, coalesce(_PRIVACY_UNIT_WEIGHT_, 0) AS _PRIVACY_UNIT_WEIGHT_, field__6vl AS field__6vl FROM ( SELECT _PRIVACY_UNIT_ AS _PRIVACY_UNIT_, _PRIVACY_UNIT_WEIGHT_ AS _PRIVACY_UNIT_WEIGHT_, fuel_price AS field__6vl FROM ( SELECT md5(cast_as_text(id)) AS _PRIVACY_UNIT_, 1 AS _PRIVACY_UNIT_WEIGHT_, id AS id, store AS store, date AS date, temperature AS temperature, fuel_price AS fuel_price, cpi AS cpi, unemployment AS unemployment, isholiday AS isholiday FROM ( retail.features ) ) WHERE ((fuel_price > 2.514) and (fuel_price < 3.907)) ) ) AS _LEFT_ INNER JOIN ( SELECT _PRIVACY_UNIT_ AS _PRIVACY_UNIT_, (1 / greatest(1, (sqrt(field__6vl) / 3.907))) AS field__6vl FROM ( SELECT first(field_grep) AS _PRIVACY_UNIT_, sum(field_3d25) AS field__6vl FROM ( SELECT field__6vl AS field_3d25, _PRIVACY_UNIT_ AS field_grep FROM ( SELECT _PRIVACY_UNIT_ AS _PRIVACY_UNIT_, abs((field__6vl * field__6vl)) AS field__6vl FROM ( SELECT first(field_grep) AS _PRIVACY_UNIT_, sum(field_3d25) AS field__6vl FROM ( SELECT field__6vl AS field_3d25, _PRIVACY_UNIT_ AS field_grep FROM ( SELECT coalesce(cast_as_text(_PRIVACY_UNIT_), _PRIVACY_UNIT_DEFAULT_) AS _PRIVACY_UNIT_, coalesce(_PRIVACY_UNIT_WEIGHT_, 0) AS _PRIVACY_UNIT_WEIGHT_, field__6vl AS field__6vl FROM ( SELECT _PRIVACY_UNIT_ AS _PRIVACY_UNIT_, _PRIVACY_UNIT_WEIGHT_ AS _PRIVACY_UNIT_WEIGHT_, fuel_price AS field__6vl FROM ( SELECT md5(cast_as_text(id)) AS _PRIVACY_UNIT_, 1 AS _PRIVACY_UNIT_WEIGHT_, id AS id, store AS store, date AS date, temperature AS temperature, fuel_price AS fuel_price, cpi AS cpi, unemployment AS unemployment, isholiday AS isholiday FROM ( retail.features ) ) WHERE ((fuel_price > 2.514) and (fuel_price < 3.907)) ) ) ) GROUP BY field_grep ) ) ) GROUP BY field_grep ) ) AS _RIGHT_ ON (_LEFT_._PRIVACY_UNIT_ = _RIGHT_._PRIVACY_UNIT_) ) ) ) ) ) )\n",
            "PrivateQuery: Gaussian (15.455181404019267)\n",
            "\n"
          ]
        }
      ],
      "source": [
        "print(relation_with_private_queries)"
      ]
    },
    {
      "cell_type": "markdown",
      "id": "b58c4ff3",
      "metadata": {
        "id": "b58c4ff3"
      },
      "source": [
        "The ouput is a tuple made of two elements:\n",
        "- The first element is the `Relation` rewritten with dp,\n",
        "- the second element is a `PrivateQuery` which stores the DP mechanims invoked during the rewritting.\n",
        "\n",
        "\n",
        "In the present case, we have used only a gaussian mechanim since our query contain only a simple aggregate and no `GROUP BY`."
      ]
    },
    {
      "cell_type": "code",
      "execution_count": 17,
      "id": "fed532e1",
      "metadata": {
        "id": "fed532e1",
        "outputId": "42f2a72c-9b20-4703-f5d2-c32914da7793",
        "colab": {
          "base_uri": "https://localhost:8080/"
        }
      },
      "outputs": [
        {
          "output_type": "stream",
          "name": "stdout",
          "text": [
            "PrivateQuery(Gaussian(15.455181404019267))\n"
          ]
        }
      ],
      "source": [
        "print(mechanisms_used)"
      ]
    },
    {
      "cell_type": "code",
      "execution_count": 18,
      "id": "fd1670d3",
      "metadata": {
        "id": "fd1670d3",
        "outputId": "ae443cae-6edc-40ba-a343-4a6bde25fa24",
        "colab": {
          "base_uri": "https://localhost:8080/",
          "height": 1000
        }
      },
      "outputs": [
        {
          "output_type": "display_data",
          "data": {
            "image/svg+xml": "<?xml version=\"1.0\" encoding=\"UTF-8\" standalone=\"no\"?>\n<!DOCTYPE svg PUBLIC \"-//W3C//DTD SVG 1.1//EN\"\n \"http://www.w3.org/Graphics/SVG/1.1/DTD/svg11.dtd\">\n<!-- Generated by graphviz version 2.43.0 (0)\n -->\n<!-- Title: graph_wpri Pages: 1 -->\n<svg width=\"958pt\" height=\"1740pt\"\n viewBox=\"0.00 0.00 957.50 1740.00\" xmlns=\"http://www.w3.org/2000/svg\" xmlns:xlink=\"http://www.w3.org/1999/xlink\">\n<g id=\"graph0\" class=\"graph\" transform=\"scale(1 1) rotate(0) translate(4 1736)\">\n<title>graph_wpri</title>\n<polygon fill=\"transparent\" stroke=\"transparent\" points=\"-4,4 -4,-1736 953.5,-1736 953.5,4 -4,4\"/>\n<!-- graph_wpri -->\n<g id=\"node1\" class=\"node\">\n<title>graph_wpri</title>\n<path fill=\"#428e92\" stroke=\"#000000\" stroke-opacity=\"0.333333\" d=\"M623,-1732C623,-1732 383,-1732 383,-1732 377,-1732 371,-1726 371,-1720 371,-1720 371,-1694 371,-1694 371,-1688 377,-1682 383,-1682 383,-1682 623,-1682 623,-1682 629,-1682 635,-1688 635,-1694 635,-1694 635,-1720 635,-1720 635,-1726 629,-1732 623,-1732\"/>\n<text text-anchor=\"start\" x=\"412\" y=\"-1710.2\" font-family=\"Red Hat Display,sans-serif\" font-weight=\"bold\" font-size=\"11.00\" fill=\"#000000\" fill-opacity=\"0.733333\">MAP_L4SY size ∈ int[0 910]</text>\n<text text-anchor=\"start\" x=\"385\" y=\"-1699.2\" font-family=\"Red Hat Display,sans-serif\" font-size=\"11.00\" fill=\"#000000\" fill-opacity=\"0.733333\">my_sum = my_sum ∈ float[0 3555.37]</text>\n</g>\n<!-- graph_0_wo -->\n<g id=\"node2\" class=\"node\">\n<title>graph_0_wo</title>\n<path fill=\"#428e92\" stroke=\"#000000\" stroke-opacity=\"0.333333\" d=\"M653.5,-1653C653.5,-1653 352.5,-1653 352.5,-1653 346.5,-1653 340.5,-1647 340.5,-1641 340.5,-1641 340.5,-1615 340.5,-1615 340.5,-1609 346.5,-1603 352.5,-1603 352.5,-1603 653.5,-1603 653.5,-1603 659.5,-1603 665.5,-1609 665.5,-1615 665.5,-1615 665.5,-1641 665.5,-1641 665.5,-1647 659.5,-1653 653.5,-1653\"/>\n<text text-anchor=\"start\" x=\"412\" y=\"-1631.2\" font-family=\"Red Hat Display,sans-serif\" font-weight=\"bold\" font-size=\"11.00\" fill=\"#000000\" fill-opacity=\"0.733333\">MAP_J5QI size ∈ int[0 910]</text>\n<text text-anchor=\"start\" x=\"354.5\" y=\"-1620.2\" font-family=\"Red Hat Display,sans-serif\" font-size=\"11.00\" fill=\"#000000\" fill-opacity=\"0.733333\">my_sum = _SUM_field__6vl ∈ float[0 3555.37]</text>\n</g>\n<!-- graph_wpri&#45;&gt;graph_0_wo -->\n<g id=\"edge17\" class=\"edge\">\n<title>graph_wpri&#45;&gt;graph_0_wo</title>\n<path fill=\"none\" stroke=\"#2b303a\" d=\"M503,-1681.64C503,-1675.82 503,-1669.51 503,-1663.34\"/>\n<polygon fill=\"#2b303a\" stroke=\"#2b303a\" points=\"506.5,-1663.2 503,-1653.2 499.5,-1663.2 506.5,-1663.2\"/>\n</g>\n<!-- graph_jh2e -->\n<g id=\"node3\" class=\"node\">\n<title>graph_jh2e</title>\n<path fill=\"#428e92\" stroke=\"#000000\" stroke-opacity=\"0.333333\" d=\"M937.5,-1574C937.5,-1574 68.5,-1574 68.5,-1574 62.5,-1574 56.5,-1568 56.5,-1562 56.5,-1562 56.5,-1536 56.5,-1536 56.5,-1530 62.5,-1524 68.5,-1524 68.5,-1524 937.5,-1524 937.5,-1524 943.5,-1524 949.5,-1530 949.5,-1536 949.5,-1536 949.5,-1562 949.5,-1562 949.5,-1568 943.5,-1574 937.5,-1574\"/>\n<text text-anchor=\"start\" x=\"412\" y=\"-1552.2\" font-family=\"Red Hat Display,sans-serif\" font-weight=\"bold\" font-size=\"11.00\" fill=\"#000000\" fill-opacity=\"0.733333\">MAP_M0IX size ∈ int[0 910]</text>\n<text text-anchor=\"start\" x=\"70.5\" y=\"-1541.2\" font-family=\"Red Hat Display,sans-serif\" font-size=\"11.00\" fill=\"#000000\" fill-opacity=\"0.733333\">_SUM_field__6vl = least(3555.37, greatest(0, (coalesce(field__6vl, 0) + (15.455181404019267 * (sqrt((&#45;2 * ln(random()))) * co...</text>\n</g>\n<!-- graph_0_wo&#45;&gt;graph_jh2e -->\n<g id=\"edge16\" class=\"edge\">\n<title>graph_0_wo&#45;&gt;graph_jh2e</title>\n<path fill=\"none\" stroke=\"#2b303a\" d=\"M503,-1602.64C503,-1596.82 503,-1590.51 503,-1584.34\"/>\n<polygon fill=\"#2b303a\" stroke=\"#2b303a\" points=\"506.5,-1584.2 503,-1574.2 499.5,-1584.2 506.5,-1584.2\"/>\n</g>\n<!-- graph__mfg -->\n<g id=\"node4\" class=\"node\">\n<title>graph__mfg</title>\n<path fill=\"#00363a\" stroke=\"#000000\" stroke-opacity=\"0.333333\" d=\"M667,-1495C667,-1495 339,-1495 339,-1495 333,-1495 327,-1489 327,-1483 327,-1483 327,-1457 327,-1457 327,-1451 333,-1445 339,-1445 339,-1445 667,-1445 667,-1445 673,-1445 679,-1451 679,-1457 679,-1457 679,-1483 679,-1483 679,-1489 673,-1495 667,-1495\"/>\n<text text-anchor=\"start\" x=\"402\" y=\"-1473.2\" font-family=\"Red Hat Display,sans-serif\" font-weight=\"bold\" font-size=\"11.00\" fill=\"#ffffff\" fill-opacity=\"0.733333\">REDUCE_W34P size ∈ int[0 910]</text>\n<text text-anchor=\"start\" x=\"341\" y=\"-1462.2\" font-family=\"Red Hat Display,sans-serif\" font-size=\"11.00\" fill=\"#ffffff\" fill-opacity=\"0.733333\">field__6vl = sum(field_3d25) ∈ float[0 3555.37]</text>\n</g>\n<!-- graph_jh2e&#45;&gt;graph__mfg -->\n<g id=\"edge15\" class=\"edge\">\n<title>graph_jh2e&#45;&gt;graph__mfg</title>\n<path fill=\"none\" stroke=\"#2b303a\" d=\"M503,-1523.64C503,-1517.82 503,-1511.51 503,-1505.34\"/>\n<polygon fill=\"#2b303a\" stroke=\"#2b303a\" points=\"506.5,-1505.2 503,-1495.2 499.5,-1505.2 506.5,-1505.2\"/>\n</g>\n<!-- graph_9pis -->\n<g id=\"node5\" class=\"node\">\n<title>graph_9pis</title>\n<path fill=\"#428e92\" stroke=\"#000000\" stroke-opacity=\"0.333333\" d=\"M711,-1416C711,-1416 295,-1416 295,-1416 289,-1416 283,-1410 283,-1404 283,-1404 283,-1378 283,-1378 283,-1372 289,-1366 295,-1366 295,-1366 711,-1366 711,-1366 717,-1366 723,-1372 723,-1378 723,-1378 723,-1404 723,-1404 723,-1410 717,-1416 711,-1416\"/>\n<text text-anchor=\"start\" x=\"412\" y=\"-1394.2\" font-family=\"Red Hat Display,sans-serif\" font-weight=\"bold\" font-size=\"11.00\" fill=\"#000000\" fill-opacity=\"0.733333\">MAP_IOHL size ∈ int[0 910]</text>\n<text text-anchor=\"start\" x=\"297\" y=\"-1383.2\" font-family=\"Red Hat Display,sans-serif\" font-size=\"11.00\" fill=\"#000000\" fill-opacity=\"0.733333\">field_3d25 = field__6vl ∈ float[0.0000915805368102931 3.907]</text>\n</g>\n<!-- graph__mfg&#45;&gt;graph_9pis -->\n<g id=\"edge14\" class=\"edge\">\n<title>graph__mfg&#45;&gt;graph_9pis</title>\n<path fill=\"none\" stroke=\"#2b303a\" d=\"M503,-1444.64C503,-1438.82 503,-1432.51 503,-1426.34\"/>\n<polygon fill=\"#2b303a\" stroke=\"#2b303a\" points=\"506.5,-1426.2 503,-1416.2 499.5,-1426.2 506.5,-1426.2\"/>\n</g>\n<!-- graph_auj2 -->\n<g id=\"node6\" class=\"node\">\n<title>graph_auj2</title>\n<path fill=\"#428e92\" stroke=\"#000000\" stroke-opacity=\"0.333333\" d=\"M808.5,-1337C808.5,-1337 197.5,-1337 197.5,-1337 191.5,-1337 185.5,-1331 185.5,-1325 185.5,-1325 185.5,-1255 185.5,-1255 185.5,-1249 191.5,-1243 197.5,-1243 197.5,-1243 808.5,-1243 808.5,-1243 814.5,-1243 820.5,-1249 820.5,-1255 820.5,-1255 820.5,-1325 820.5,-1325 820.5,-1331 814.5,-1337 808.5,-1337\"/>\n<text text-anchor=\"start\" x=\"412\" y=\"-1315.2\" font-family=\"Red Hat Display,sans-serif\" font-weight=\"bold\" font-size=\"11.00\" fill=\"#000000\" fill-opacity=\"0.733333\">MAP_THSF size ∈ int[0 910]</text>\n<text text-anchor=\"start\" x=\"375\" y=\"-1304.2\" font-family=\"Red Hat Display,sans-serif\" font-size=\"11.00\" fill=\"#000000\" fill-opacity=\"0.733333\">_PRIVACY_UNIT_ = _PRIVACY_UNIT_ ∈ str</text>\n<text text-anchor=\"start\" x=\"317.5\" y=\"-1293.2\" font-family=\"Red Hat Display,sans-serif\" font-size=\"11.00\" fill=\"#000000\" fill-opacity=\"0.733333\">_PRIVACY_UNIT_WEIGHT_ = _PRIVACY_UNIT_WEIGHT_ ∈ int{1}</text>\n<text text-anchor=\"start\" x=\"199.5\" y=\"-1282.2\" font-family=\"Red Hat Display,sans-serif\" font-size=\"11.00\" fill=\"#000000\" fill-opacity=\"0.733333\">field__6vl = (field__6vl * _SCALE_FACTOR_field__6vl) ∈ float[0.0000915805368102931 3.907]</text>\n<text text-anchor=\"start\" x=\"280.5\" y=\"-1271.2\" font-family=\"Red Hat Display,sans-serif\" font-size=\"11.00\" fill=\"#000000\" fill-opacity=\"0.733333\">_SCALE_FACTOR__PRIVACY_UNIT_ = _SCALE_FACTOR__PRIVACY_UNIT_ ∈ str</text>\n<text text-anchor=\"start\" x=\"213\" y=\"-1260.2\" font-family=\"Red Hat Display,sans-serif\" font-size=\"11.00\" fill=\"#000000\" fill-opacity=\"0.733333\">_SCALE_FACTOR_field__6vl = _SCALE_FACTOR_field__6vl ∈ float[0.00003642821671053823 1]</text>\n</g>\n<!-- graph_9pis&#45;&gt;graph_auj2 -->\n<g id=\"edge13\" class=\"edge\">\n<title>graph_9pis&#45;&gt;graph_auj2</title>\n<path fill=\"none\" stroke=\"#2b303a\" d=\"M503,-1365.78C503,-1360.07 503,-1353.75 503,-1347.27\"/>\n<polygon fill=\"#2b303a\" stroke=\"#2b303a\" points=\"506.5,-1347.02 503,-1337.02 499.5,-1347.02 506.5,-1347.02\"/>\n</g>\n<!-- graph_p14m -->\n<g id=\"node7\" class=\"node\">\n<title>graph_p14m</title>\n<path fill=\"#ff616f\" stroke=\"#000000\" stroke-opacity=\"0.333333\" d=\"M775,-1214C775,-1214 231,-1214 231,-1214 225,-1214 219,-1208 219,-1202 219,-1202 219,-1121 219,-1121 219,-1115 225,-1109 231,-1109 231,-1109 775,-1109 775,-1109 781,-1109 787,-1115 787,-1121 787,-1121 787,-1202 787,-1202 787,-1208 781,-1214 775,-1214\"/>\n<text text-anchor=\"start\" x=\"408.5\" y=\"-1192.2\" font-family=\"Red Hat Display,sans-serif\" font-weight=\"bold\" font-size=\"11.00\" fill=\"#000000\" fill-opacity=\"0.733333\">JOIN_18DI size ∈ int[0 910]</text>\n<text text-anchor=\"start\" x=\"351\" y=\"-1181.2\" font-family=\"Red Hat Display,sans-serif\" font-size=\"11.00\" fill=\"#000000\" fill-opacity=\"0.733333\">_PRIVACY_UNIT_ = _LEFT_._PRIVACY_UNIT_ ∈ str</text>\n<text text-anchor=\"start\" x=\"294\" y=\"-1170.2\" font-family=\"Red Hat Display,sans-serif\" font-size=\"11.00\" fill=\"#000000\" fill-opacity=\"0.733333\">_PRIVACY_UNIT_WEIGHT_ = _LEFT_._PRIVACY_UNIT_WEIGHT_ ∈ int{1}</text>\n<text text-anchor=\"start\" x=\"327.5\" y=\"-1159.2\" font-family=\"Red Hat Display,sans-serif\" font-size=\"11.00\" fill=\"#000000\" fill-opacity=\"0.733333\">field__6vl = _LEFT_.field__6vl ∈ float[2.514 3.907]</text>\n<text text-anchor=\"start\" x=\"300.5\" y=\"-1148.2\" font-family=\"Red Hat Display,sans-serif\" font-size=\"11.00\" fill=\"#000000\" fill-opacity=\"0.733333\">_SCALE_FACTOR__PRIVACY_UNIT_ = _RIGHT_._PRIVACY_UNIT_ ∈ str</text>\n<text text-anchor=\"start\" x=\"233\" y=\"-1137.2\" font-family=\"Red Hat Display,sans-serif\" font-size=\"11.00\" fill=\"#000000\" fill-opacity=\"0.733333\">_SCALE_FACTOR_field__6vl = _RIGHT_.field__6vl ∈ float[0.00003642821671053823 1]</text>\n<text text-anchor=\"start\" x=\"310.5\" y=\"-1126.2\" font-family=\"Red Hat Display,sans-serif\" font-size=\"11.00\" fill=\"#000000\" fill-opacity=\"0.733333\">INNER ON (_LEFT_._PRIVACY_UNIT_ = _RIGHT_._PRIVACY_UNIT_)</text>\n</g>\n<!-- graph_auj2&#45;&gt;graph_p14m -->\n<g id=\"edge12\" class=\"edge\">\n<title>graph_auj2&#45;&gt;graph_p14m</title>\n<path fill=\"none\" stroke=\"#2b303a\" d=\"M503,-1242.97C503,-1237 503,-1230.8 503,-1224.62\"/>\n<polygon fill=\"#2b303a\" stroke=\"#2b303a\" points=\"506.5,-1224.27 503,-1214.27 499.5,-1224.27 506.5,-1224.27\"/>\n</g>\n<!-- graph_rdln -->\n<g id=\"node8\" class=\"node\">\n<title>graph_rdln</title>\n<path fill=\"#428e92\" stroke=\"#000000\" stroke-opacity=\"0.333333\" d=\"M644,-1080C644,-1080 12,-1080 12,-1080 6,-1080 0,-1074 0,-1068 0,-1068 0,-1031 0,-1031 0,-1025 6,-1019 12,-1019 12,-1019 644,-1019 644,-1019 650,-1019 656,-1025 656,-1031 656,-1031 656,-1068 656,-1068 656,-1074 650,-1080 644,-1080\"/>\n<text text-anchor=\"start\" x=\"237\" y=\"-1058.2\" font-family=\"Red Hat Display,sans-serif\" font-weight=\"bold\" font-size=\"11.00\" fill=\"#000000\" fill-opacity=\"0.733333\">MAP_GV9S size ∈ int[0 910]</text>\n<text text-anchor=\"start\" x=\"176\" y=\"-1047.2\" font-family=\"Red Hat Display,sans-serif\" font-size=\"11.00\" fill=\"#000000\" fill-opacity=\"0.733333\">_PRIVACY_UNIT_ = _PRIVACY_UNIT_ ∈ str UNIQUE</text>\n<text text-anchor=\"start\" x=\"14\" y=\"-1036.2\" font-family=\"Red Hat Display,sans-serif\" font-size=\"11.00\" fill=\"#000000\" fill-opacity=\"0.733333\">field__6vl = (1 / greatest(1, (sqrt(field__6vl) / 3.907))) ∈ float[0.00003642821671053823 1]</text>\n</g>\n<!-- graph_p14m&#45;&gt;graph_rdln -->\n<g id=\"edge11\" class=\"edge\">\n<title>graph_p14m&#45;&gt;graph_rdln</title>\n<path fill=\"none\" stroke=\"#2b303a\" d=\"M420.88,-1108.88C408.43,-1101.05 395.82,-1093.13 384.09,-1085.76\"/>\n<polygon fill=\"#2b303a\" stroke=\"#2b303a\" points=\"385.64,-1082.59 375.31,-1080.24 381.91,-1088.52 385.64,-1082.59\"/>\n</g>\n<!-- graph_pvkb -->\n<g id=\"node14\" class=\"node\">\n<title>graph_pvkb</title>\n<path fill=\"#428e92\" stroke=\"#000000\" stroke-opacity=\"0.333333\" d=\"M851,-518C851,-518 267,-518 267,-518 261,-518 255,-512 255,-506 255,-506 255,-458 255,-458 255,-452 261,-446 267,-446 267,-446 851,-446 851,-446 857,-446 863,-452 863,-458 863,-458 863,-506 863,-506 863,-512 857,-518 851,-518\"/>\n<text text-anchor=\"start\" x=\"468\" y=\"-496.2\" font-family=\"Red Hat Display,sans-serif\" font-weight=\"bold\" font-size=\"11.00\" fill=\"#000000\" fill-opacity=\"0.733333\">MAP_2SF9 size ∈ int[0 910]</text>\n<text text-anchor=\"start\" x=\"269\" y=\"-485.2\" font-family=\"Red Hat Display,sans-serif\" font-size=\"11.00\" fill=\"#000000\" fill-opacity=\"0.733333\">_PRIVACY_UNIT_ = coalesce(cast_as_text(_PRIVACY_UNIT_), _PRIVACY_UNIT_DEFAULT_) ∈ str</text>\n<text text-anchor=\"start\" x=\"329.5\" y=\"-474.2\" font-family=\"Red Hat Display,sans-serif\" font-size=\"11.00\" fill=\"#000000\" fill-opacity=\"0.733333\">_PRIVACY_UNIT_WEIGHT_ = coalesce(_PRIVACY_UNIT_WEIGHT_, 0) ∈ int{1}</text>\n<text text-anchor=\"start\" x=\"407\" y=\"-463.2\" font-family=\"Red Hat Display,sans-serif\" font-size=\"11.00\" fill=\"#000000\" fill-opacity=\"0.733333\">field__6vl = field__6vl ∈ float[2.514 3.907]</text>\n</g>\n<!-- graph_p14m&#45;&gt;graph_pvkb -->\n<g id=\"edge10\" class=\"edge\">\n<title>graph_p14m&#45;&gt;graph_pvkb</title>\n<path fill=\"none\" stroke=\"#2b303a\" d=\"M635.02,-1108.78C645.7,-1100.48 655.32,-1090.94 663,-1080 695.15,-1034.2 678,-1010.95 678,-955 678,-955 678,-955 678,-672 678,-613.67 670.93,-595.15 638,-547 632.66,-539.19 626.09,-531.84 619.04,-525.11\"/>\n<polygon fill=\"#2b303a\" stroke=\"#2b303a\" points=\"621,-522.17 611.24,-518.05 616.31,-527.36 621,-522.17\"/>\n</g>\n<!-- graph_2jp_ -->\n<g id=\"node9\" class=\"node\">\n<title>graph_2jp_</title>\n<path fill=\"#00363a\" stroke=\"#000000\" stroke-opacity=\"0.333333\" d=\"M539,-990C539,-990 157,-990 157,-990 151,-990 145,-984 145,-978 145,-978 145,-930 145,-930 145,-924 151,-918 157,-918 157,-918 539,-918 539,-918 545,-918 551,-924 551,-930 551,-930 551,-978 551,-978 551,-984 545,-990 539,-990\"/>\n<text text-anchor=\"start\" x=\"247\" y=\"-968.2\" font-family=\"Red Hat Display,sans-serif\" font-weight=\"bold\" font-size=\"11.00\" fill=\"#ffffff\" fill-opacity=\"0.733333\">REDUCE_RWG9 size ∈ int[0 910]</text>\n<text text-anchor=\"start\" x=\"186\" y=\"-957.2\" font-family=\"Red Hat Display,sans-serif\" font-size=\"11.00\" fill=\"#ffffff\" fill-opacity=\"0.733333\">_PRIVACY_UNIT_ = first(field_grep) ∈ str UNIQUE</text>\n<text text-anchor=\"start\" x=\"159\" y=\"-946.2\" font-family=\"Red Hat Display,sans-serif\" font-size=\"11.00\" fill=\"#ffffff\" fill-opacity=\"0.733333\">field__6vl = sum(field_3d25) ∈ float[0 11502996811.579]</text>\n<text text-anchor=\"start\" x=\"277\" y=\"-935.2\" font-family=\"Red Hat Display,sans-serif\" font-size=\"11.00\" fill=\"#ffffff\" fill-opacity=\"0.733333\">GROUP BY (field_grep)</text>\n</g>\n<!-- graph_rdln&#45;&gt;graph_2jp_ -->\n<g id=\"edge9\" class=\"edge\">\n<title>graph_rdln&#45;&gt;graph_2jp_</title>\n<path fill=\"none\" stroke=\"#2b303a\" d=\"M334.33,-1018.92C335.6,-1012.95 336.97,-1006.55 338.34,-1000.18\"/>\n<polygon fill=\"#2b303a\" stroke=\"#2b303a\" points=\"341.78,-1000.79 340.45,-990.28 334.94,-999.33 341.78,-1000.79\"/>\n</g>\n<!-- graph_fk2l -->\n<g id=\"node10\" class=\"node\">\n<title>graph_fk2l</title>\n<path fill=\"#428e92\" stroke=\"#000000\" stroke-opacity=\"0.333333\" d=\"M555.5,-889C555.5,-889 220.5,-889 220.5,-889 214.5,-889 208.5,-883 208.5,-877 208.5,-877 208.5,-840 208.5,-840 208.5,-834 214.5,-828 220.5,-828 220.5,-828 555.5,-828 555.5,-828 561.5,-828 567.5,-834 567.5,-840 567.5,-840 567.5,-877 567.5,-877 567.5,-883 561.5,-889 555.5,-889\"/>\n<text text-anchor=\"start\" x=\"297\" y=\"-867.2\" font-family=\"Red Hat Display,sans-serif\" font-weight=\"bold\" font-size=\"11.00\" fill=\"#000000\" fill-opacity=\"0.733333\">MAP_OSX8 size ∈ int[0 910]</text>\n<text text-anchor=\"start\" x=\"222.5\" y=\"-856.2\" font-family=\"Red Hat Display,sans-serif\" font-size=\"11.00\" fill=\"#000000\" fill-opacity=\"0.733333\">field_3d25 = field__6vl ∈ float[0 12640655.8369]</text>\n<text text-anchor=\"start\" x=\"249.5\" y=\"-845.2\" font-family=\"Red Hat Display,sans-serif\" font-size=\"11.00\" fill=\"#000000\" fill-opacity=\"0.733333\">field_grep = _PRIVACY_UNIT_ ∈ str UNIQUE</text>\n</g>\n<!-- graph_2jp_&#45;&gt;graph_fk2l -->\n<g id=\"edge8\" class=\"edge\">\n<title>graph_2jp_&#45;&gt;graph_fk2l</title>\n<path fill=\"none\" stroke=\"#2b303a\" d=\"M363.01,-917.92C365.72,-911.58 368.56,-904.94 371.32,-898.5\"/>\n<polygon fill=\"#2b303a\" stroke=\"#2b303a\" points=\"374.55,-899.84 375.27,-889.27 368.11,-897.09 374.55,-899.84\"/>\n</g>\n<!-- graph_a_5j -->\n<g id=\"node11\" class=\"node\">\n<title>graph_a_5j</title>\n<path fill=\"#428e92\" stroke=\"#000000\" stroke-opacity=\"0.333333\" d=\"M634,-799C634,-799 164,-799 164,-799 158,-799 152,-793 152,-787 152,-787 152,-750 152,-750 152,-744 158,-738 164,-738 164,-738 634,-738 634,-738 640,-738 646,-744 646,-750 646,-750 646,-787 646,-787 646,-793 640,-799 634,-799\"/>\n<text text-anchor=\"start\" x=\"308\" y=\"-777.2\" font-family=\"Red Hat Display,sans-serif\" font-weight=\"bold\" font-size=\"11.00\" fill=\"#000000\" fill-opacity=\"0.733333\">MAP_G81M size ∈ int[0 910]</text>\n<text text-anchor=\"start\" x=\"247\" y=\"-766.2\" font-family=\"Red Hat Display,sans-serif\" font-size=\"11.00\" fill=\"#000000\" fill-opacity=\"0.733333\">_PRIVACY_UNIT_ = _PRIVACY_UNIT_ ∈ str UNIQUE</text>\n<text text-anchor=\"start\" x=\"166\" y=\"-755.2\" font-family=\"Red Hat Display,sans-serif\" font-size=\"11.00\" fill=\"#000000\" fill-opacity=\"0.733333\">field__6vl = abs((field__6vl * field__6vl)) ∈ float[0 12640655.8369]</text>\n</g>\n<!-- graph_fk2l&#45;&gt;graph_a_5j -->\n<g id=\"edge7\" class=\"edge\">\n<title>graph_fk2l&#45;&gt;graph_a_5j</title>\n<path fill=\"none\" stroke=\"#2b303a\" d=\"M391.72,-827.71C392.46,-821.83 393.24,-815.57 394.01,-809.42\"/>\n<polygon fill=\"#2b303a\" stroke=\"#2b303a\" points=\"397.51,-809.62 395.28,-799.26 390.57,-808.75 397.51,-809.62\"/>\n</g>\n<!-- graph_u1b_ -->\n<g id=\"node12\" class=\"node\">\n<title>graph_u1b_</title>\n<path fill=\"#00363a\" stroke=\"#000000\" stroke-opacity=\"0.333333\" d=\"M604,-709C604,-709 276,-709 276,-709 270,-709 264,-703 264,-697 264,-697 264,-649 264,-649 264,-643 270,-637 276,-637 276,-637 604,-637 604,-637 610,-637 616,-643 616,-649 616,-649 616,-697 616,-697 616,-703 610,-709 604,-709\"/>\n<text text-anchor=\"start\" x=\"339\" y=\"-687.2\" font-family=\"Red Hat Display,sans-serif\" font-weight=\"bold\" font-size=\"11.00\" fill=\"#ffffff\" fill-opacity=\"0.733333\">REDUCE_ELVJ size ∈ int[0 910]</text>\n<text text-anchor=\"start\" x=\"278\" y=\"-676.2\" font-family=\"Red Hat Display,sans-serif\" font-size=\"11.00\" fill=\"#ffffff\" fill-opacity=\"0.733333\">_PRIVACY_UNIT_ = first(field_grep) ∈ str UNIQUE</text>\n<text text-anchor=\"start\" x=\"278\" y=\"-665.2\" font-family=\"Red Hat Display,sans-serif\" font-size=\"11.00\" fill=\"#ffffff\" fill-opacity=\"0.733333\">field__6vl = sum(field_3d25) ∈ float[0 3555.37]</text>\n<text text-anchor=\"start\" x=\"369\" y=\"-654.2\" font-family=\"Red Hat Display,sans-serif\" font-size=\"11.00\" fill=\"#ffffff\" fill-opacity=\"0.733333\">GROUP BY (field_grep)</text>\n</g>\n<!-- graph_a_5j&#45;&gt;graph_u1b_ -->\n<g id=\"edge6\" class=\"edge\">\n<title>graph_a_5j&#45;&gt;graph_u1b_</title>\n<path fill=\"none\" stroke=\"#2b303a\" d=\"M411.97,-737.92C414.65,-731.81 417.53,-725.24 420.39,-718.73\"/>\n<polygon fill=\"#2b303a\" stroke=\"#2b303a\" points=\"423.72,-719.85 424.53,-709.28 417.31,-717.03 423.72,-719.85\"/>\n</g>\n<!-- graph_75o9 -->\n<g id=\"node13\" class=\"node\">\n<title>graph_75o9</title>\n<path fill=\"#428e92\" stroke=\"#000000\" stroke-opacity=\"0.333333\" d=\"M619,-608C619,-608 311,-608 311,-608 305,-608 299,-602 299,-596 299,-596 299,-559 299,-559 299,-553 305,-547 311,-547 311,-547 619,-547 619,-547 625,-547 631,-553 631,-559 631,-559 631,-596 631,-596 631,-602 625,-608 619,-608\"/>\n<text text-anchor=\"start\" x=\"374\" y=\"-586.2\" font-family=\"Red Hat Display,sans-serif\" font-weight=\"bold\" font-size=\"11.00\" fill=\"#000000\" fill-opacity=\"0.733333\">MAP_LJ_X size ∈ int[0 910]</text>\n<text text-anchor=\"start\" x=\"313\" y=\"-575.2\" font-family=\"Red Hat Display,sans-serif\" font-size=\"11.00\" fill=\"#000000\" fill-opacity=\"0.733333\">field_3d25 = field__6vl ∈ float[2.514 3.907]</text>\n<text text-anchor=\"start\" x=\"350.5\" y=\"-564.2\" font-family=\"Red Hat Display,sans-serif\" font-size=\"11.00\" fill=\"#000000\" fill-opacity=\"0.733333\">field_grep = _PRIVACY_UNIT_ ∈ str</text>\n</g>\n<!-- graph_u1b_&#45;&gt;graph_75o9 -->\n<g id=\"edge5\" class=\"edge\">\n<title>graph_u1b_&#45;&gt;graph_75o9</title>\n<path fill=\"none\" stroke=\"#2b303a\" d=\"M449.38,-636.92C451.04,-630.73 452.77,-624.25 454.45,-617.95\"/>\n<polygon fill=\"#2b303a\" stroke=\"#2b303a\" points=\"457.84,-618.83 457.04,-608.27 451.08,-617.02 457.84,-618.83\"/>\n</g>\n<!-- graph_75o9&#45;&gt;graph_pvkb -->\n<g id=\"edge4\" class=\"edge\">\n<title>graph_75o9&#45;&gt;graph_pvkb</title>\n<path fill=\"none\" stroke=\"#2b303a\" d=\"M494.74,-546.92C501.6,-540.09 509.03,-532.71 516.31,-525.46\"/>\n<polygon fill=\"#2b303a\" stroke=\"#2b303a\" points=\"518.91,-527.82 523.53,-518.28 513.97,-522.85 518.91,-527.82\"/>\n</g>\n<!-- graph_mqtb -->\n<g id=\"node15\" class=\"node\">\n<title>graph_mqtb</title>\n<path fill=\"#428e92\" stroke=\"#000000\" stroke-opacity=\"0.333333\" d=\"M746.5,-417C746.5,-417 371.5,-417 371.5,-417 365.5,-417 359.5,-411 359.5,-405 359.5,-405 359.5,-346 359.5,-346 359.5,-340 365.5,-334 371.5,-334 371.5,-334 746.5,-334 746.5,-334 752.5,-334 758.5,-340 758.5,-346 758.5,-346 758.5,-405 758.5,-405 758.5,-411 752.5,-417 746.5,-417\"/>\n<text text-anchor=\"start\" x=\"468\" y=\"-395.2\" font-family=\"Red Hat Display,sans-serif\" font-weight=\"bold\" font-size=\"11.00\" fill=\"#000000\" fill-opacity=\"0.733333\">MAP_S2NO size ∈ int[0 910]</text>\n<text text-anchor=\"start\" x=\"431\" y=\"-384.2\" font-family=\"Red Hat Display,sans-serif\" font-size=\"11.00\" fill=\"#000000\" fill-opacity=\"0.733333\">_PRIVACY_UNIT_ = _PRIVACY_UNIT_ ∈ str</text>\n<text text-anchor=\"start\" x=\"373.5\" y=\"-373.2\" font-family=\"Red Hat Display,sans-serif\" font-size=\"11.00\" fill=\"#000000\" fill-opacity=\"0.733333\">_PRIVACY_UNIT_WEIGHT_ = _PRIVACY_UNIT_WEIGHT_ ∈ int{1}</text>\n<text text-anchor=\"start\" x=\"407\" y=\"-362.2\" font-family=\"Red Hat Display,sans-serif\" font-size=\"11.00\" fill=\"#000000\" fill-opacity=\"0.733333\">field__6vl = fuel_price ∈ float[2.514 3.907]</text>\n<text text-anchor=\"start\" x=\"380\" y=\"-351.2\" font-family=\"Red Hat Display,sans-serif\" font-size=\"11.00\" fill=\"#000000\" fill-opacity=\"0.733333\">WHERE ((fuel_price &gt; 2.514) and (fuel_price &lt; 3.907))</text>\n</g>\n<!-- graph_pvkb&#45;&gt;graph_mqtb -->\n<g id=\"edge3\" class=\"edge\">\n<title>graph_pvkb&#45;&gt;graph_mqtb</title>\n<path fill=\"none\" stroke=\"#2b303a\" d=\"M559,-445.91C559,-439.99 559,-433.73 559,-427.5\"/>\n<polygon fill=\"#2b303a\" stroke=\"#2b303a\" points=\"562.5,-427.09 559,-417.09 555.5,-427.09 562.5,-427.09\"/>\n</g>\n<!-- graph_y1pi -->\n<g id=\"node16\" class=\"node\">\n<title>graph_y1pi</title>\n<path fill=\"#428e92\" stroke=\"#000000\" stroke-opacity=\"0.333333\" d=\"M777,-305C777,-305 341,-305 341,-305 335,-305 329,-299 329,-293 329,-293 329,-168 329,-168 329,-162 335,-156 341,-156 341,-156 777,-156 777,-156 783,-156 789,-162 789,-168 789,-168 789,-293 789,-293 789,-299 783,-305 777,-305\"/>\n<text text-anchor=\"start\" x=\"468\" y=\"-283.2\" font-family=\"Red Hat Display,sans-serif\" font-weight=\"bold\" font-size=\"11.00\" fill=\"#000000\" fill-opacity=\"0.733333\">MAP_784N size ∈ int[0 910]</text>\n<text text-anchor=\"start\" x=\"407\" y=\"-272.2\" font-family=\"Red Hat Display,sans-serif\" font-size=\"11.00\" fill=\"#000000\" fill-opacity=\"0.733333\">_PRIVACY_UNIT_ = md5(cast_as_text(id)) ∈ str</text>\n<text text-anchor=\"start\" x=\"441\" y=\"-261.2\" font-family=\"Red Hat Display,sans-serif\" font-size=\"11.00\" fill=\"#000000\" fill-opacity=\"0.733333\">_PRIVACY_UNIT_WEIGHT_ = 1 ∈ int{1}</text>\n<text text-anchor=\"start\" x=\"512\" y=\"-250.2\" font-family=\"Red Hat Display,sans-serif\" font-size=\"11.00\" fill=\"#000000\" fill-opacity=\"0.733333\">id = id ∈ str</text>\n<text text-anchor=\"start\" x=\"491.5\" y=\"-239.2\" font-family=\"Red Hat Display,sans-serif\" font-size=\"11.00\" fill=\"#000000\" fill-opacity=\"0.733333\">store = store ∈ str</text>\n<text text-anchor=\"start\" x=\"343\" y=\"-228.2\" font-family=\"Red Hat Display,sans-serif\" font-size=\"11.00\" fill=\"#000000\" fill-opacity=\"0.733333\">date = date ∈ datetime[0001&#45;01&#45;01 00:00:00 9999&#45;12&#45;31 00:00:00]</text>\n<text text-anchor=\"start\" x=\"444.5\" y=\"-217.2\" font-family=\"Red Hat Display,sans-serif\" font-size=\"11.00\" fill=\"#000000\" fill-opacity=\"0.733333\">temperature = temperature ∈ float</text>\n<text text-anchor=\"start\" x=\"451\" y=\"-206.2\" font-family=\"Red Hat Display,sans-serif\" font-size=\"11.00\" fill=\"#000000\" fill-opacity=\"0.733333\">fuel_price = fuel_price ∈ float</text>\n<text text-anchor=\"start\" x=\"498.5\" y=\"-195.2\" font-family=\"Red Hat Display,sans-serif\" font-size=\"11.00\" fill=\"#000000\" fill-opacity=\"0.733333\">cpi = cpi ∈ float</text>\n<text text-anchor=\"start\" x=\"437.5\" y=\"-184.2\" font-family=\"Red Hat Display,sans-serif\" font-size=\"11.00\" fill=\"#000000\" fill-opacity=\"0.733333\">unemployment = unemployment ∈ float</text>\n<text text-anchor=\"start\" x=\"461\" y=\"-173.2\" font-family=\"Red Hat Display,sans-serif\" font-size=\"11.00\" fill=\"#000000\" fill-opacity=\"0.733333\">isholiday = isholiday ∈ bool</text>\n</g>\n<!-- graph_mqtb&#45;&gt;graph_y1pi -->\n<g id=\"edge2\" class=\"edge\">\n<title>graph_mqtb&#45;&gt;graph_y1pi</title>\n<path fill=\"none\" stroke=\"#2b303a\" d=\"M559,-333.9C559,-328 559,-321.74 559,-315.35\"/>\n<polygon fill=\"#2b303a\" stroke=\"#2b303a\" points=\"562.5,-315.23 559,-305.23 555.5,-315.23 562.5,-315.23\"/>\n</g>\n<!-- graph_8gqz -->\n<g id=\"node17\" class=\"node\">\n<title>graph_8gqz</title>\n<path fill=\"#ff1744\" stroke=\"#000000\" stroke-opacity=\"0.333333\" d=\"M777,-127C777,-127 341,-127 341,-127 335,-127 329,-121 329,-115 329,-115 329,-12 329,-12 329,-6 335,0 341,0 341,0 777,0 777,0 783,0 789,-6 789,-12 789,-12 789,-115 789,-115 789,-121 783,-127 777,-127\"/>\n<text text-anchor=\"start\" x=\"451\" y=\"-105.2\" font-family=\"Red Hat Display,sans-serif\" font-weight=\"bold\" font-size=\"11.00\" fill=\"#ffffff\" fill-opacity=\"0.733333\">RETAIL_FEATURES size ∈ int{910}</text>\n<text text-anchor=\"start\" x=\"512\" y=\"-94.2\" font-family=\"Red Hat Display,sans-serif\" font-size=\"11.00\" fill=\"#ffffff\" fill-opacity=\"0.733333\">id = id ∈ str</text>\n<text text-anchor=\"start\" x=\"491.5\" y=\"-83.2\" font-family=\"Red Hat Display,sans-serif\" font-size=\"11.00\" fill=\"#ffffff\" fill-opacity=\"0.733333\">store = store ∈ str</text>\n<text text-anchor=\"start\" x=\"343\" y=\"-72.2\" font-family=\"Red Hat Display,sans-serif\" font-size=\"11.00\" fill=\"#ffffff\" fill-opacity=\"0.733333\">date = date ∈ datetime[0001&#45;01&#45;01 00:00:00 9999&#45;12&#45;31 00:00:00]</text>\n<text text-anchor=\"start\" x=\"444.5\" y=\"-61.2\" font-family=\"Red Hat Display,sans-serif\" font-size=\"11.00\" fill=\"#ffffff\" fill-opacity=\"0.733333\">temperature = temperature ∈ float</text>\n<text text-anchor=\"start\" x=\"451\" y=\"-50.2\" font-family=\"Red Hat Display,sans-serif\" font-size=\"11.00\" fill=\"#ffffff\" fill-opacity=\"0.733333\">fuel_price = fuel_price ∈ float</text>\n<text text-anchor=\"start\" x=\"498.5\" y=\"-39.2\" font-family=\"Red Hat Display,sans-serif\" font-size=\"11.00\" fill=\"#ffffff\" fill-opacity=\"0.733333\">cpi = cpi ∈ float</text>\n<text text-anchor=\"start\" x=\"437.5\" y=\"-28.2\" font-family=\"Red Hat Display,sans-serif\" font-size=\"11.00\" fill=\"#ffffff\" fill-opacity=\"0.733333\">unemployment = unemployment ∈ float</text>\n<text text-anchor=\"start\" x=\"461\" y=\"-17.2\" font-family=\"Red Hat Display,sans-serif\" font-size=\"11.00\" fill=\"#ffffff\" fill-opacity=\"0.733333\">isholiday = isholiday ∈ bool</text>\n</g>\n<!-- graph_y1pi&#45;&gt;graph_8gqz -->\n<g id=\"edge1\" class=\"edge\">\n<title>graph_y1pi&#45;&gt;graph_8gqz</title>\n<path fill=\"none\" stroke=\"#2b303a\" d=\"M559,-155.69C559,-149.59 559,-143.42 559,-137.33\"/>\n<polygon fill=\"#2b303a\" stroke=\"#2b303a\" points=\"562.5,-137.16 559,-127.16 555.5,-137.16 562.5,-137.16\"/>\n</g>\n</g>\n</svg>\n",
            "text/plain": [
              "<graphviz.sources.Source at 0x7c26c2a797e0>"
            ]
          },
          "metadata": {}
        }
      ],
      "source": [
        "display(graphviz.Source(dp_relation.dot()))"
      ]
    },
    {
      "cell_type": "markdown",
      "id": "e254bca1",
      "metadata": {
        "id": "e254bca1"
      },
      "source": [
        "The `Relation` can be translated into an SQL query:"
      ]
    },
    {
      "cell_type": "code",
      "execution_count": 19,
      "id": "e17064c4",
      "metadata": {
        "id": "e17064c4",
        "outputId": "6bac341d-6288-4f57-82bd-b20fa482b223",
        "colab": {
          "base_uri": "https://localhost:8080/"
        }
      },
      "outputs": [
        {
          "output_type": "stream",
          "name": "stdout",
          "text": [
            "\u001b[34mWITH\u001b[0m\n",
            "  map_784n (_PRIVACY_UNIT_, _PRIVACY_UNIT_WEIGHT_, id, store, date, temperature, fuel_price, cpi, unemployment, isholiday) \u001b[35mAS\u001b[0m (\u001b[35mSELECT\u001b[0m md5(C\u001b[35mAS\u001b[0mT(id \u001b[35mAS\u001b[0m VARCHAR)) \u001b[35mAS\u001b[0m _PRIVACY_UNIT_, 1 \u001b[35mAS\u001b[0m _PRIVACY_UNIT_WEIGHT_, id \u001b[35mAS\u001b[0m id, store \u001b[35mAS\u001b[0m store, date \u001b[35mAS\u001b[0m date, temperature \u001b[35mAS\u001b[0m temperature, fuel_price \u001b[35mAS\u001b[0m fuel_price, cpi \u001b[35mAS\u001b[0m cpi, unemployment \u001b[35mAS\u001b[0m unemployment, isholiday \u001b[35mAS\u001b[0m isholiday FROM retail.features),\n",
            "  map_s2no (_PRIVACY_UNIT_, _PRIVACY_UNIT_WEIGHT_, field__6vl) \u001b[35mAS\u001b[0m (\u001b[35mSELECT\u001b[0m _PRIVACY_UNIT_ \u001b[35mAS\u001b[0m _PRIVACY_UNIT_, _PRIVACY_UNIT_WEIGHT_ \u001b[35mAS\u001b[0m _PRIVACY_UNIT_WEIGHT_, fuel_price \u001b[35mAS\u001b[0m field__6vl FROM map_784n \u001b[35mWHERE\u001b[0m ((fuel_price) > (2.514)) AND ((fuel_price) < (3.907))),\n",
            "  map_2sf9 (_PRIVACY_UNIT_, _PRIVACY_UNIT_WEIGHT_, field__6vl) \u001b[35mAS\u001b[0m (\u001b[35mSELECT\u001b[0m coalesce(C\u001b[35mAS\u001b[0mT(_PRIVACY_UNIT_ \u001b[35mAS\u001b[0m VARCHAR),\n",
            "  '_PRIVACY_UNIT_DEFAULT_') \u001b[35mAS\u001b[0m _PRIVACY_UNIT_, coalesce(_PRIVACY_UNIT_WEIGHT_, 0) \u001b[35mAS\u001b[0m _PRIVACY_UNIT_WEIGHT_, field__6vl \u001b[35mAS\u001b[0m field__6vl FROM map_s2no),\n",
            "  map_lj_x (field_3d25, field_grep) \u001b[35mAS\u001b[0m (\u001b[35mSELECT\u001b[0m field__6vl \u001b[35mAS\u001b[0m field_3d25, _PRIVACY_UNIT_ \u001b[35mAS\u001b[0m field_grep FROM map_2sf9),\n",
            "  reduce_elvj (_PRIVACY_UNIT_, field__6vl) \u001b[35mAS\u001b[0m (\u001b[35mSELECT\u001b[0m field_grep \u001b[35mAS\u001b[0m _PRIVACY_UNIT_, sum(field_3d25) \u001b[35mAS\u001b[0m field__6vl FROM map_lj_x \u001b[35mGROUP BY\u001b[0m field_grep),\n",
            "  map_g81m (_PRIVACY_UNIT_, field__6vl) \u001b[35mAS\u001b[0m (\u001b[35mSELECT\u001b[0m _PRIVACY_UNIT_ \u001b[35mAS\u001b[0m _PRIVACY_UNIT_, abs((field__6vl) * ((field__6vl))) \u001b[35mAS\u001b[0m field__6vl FROM reduce_elvj),\n",
            "  map_osx8 (field_3d25, field_grep) \u001b[35mAS\u001b[0m (\u001b[35mSELECT\u001b[0m field__6vl \u001b[35mAS\u001b[0m field_3d25, _PRIVACY_UNIT_ \u001b[35mAS\u001b[0m field_grep FROM map_g81m),\n",
            "  reduce_rwg9 (_PRIVACY_UNIT_, field__6vl) \u001b[35mAS\u001b[0m (\u001b[35mSELECT\u001b[0m field_grep \u001b[35mAS\u001b[0m _PRIVACY_UNIT_, sum(field_3d25) \u001b[35mAS\u001b[0m field__6vl FROM map_osx8 \u001b[35mGROUP BY\u001b[0m field_grep),\n",
            "  map_gv9s (_PRIVACY_UNIT_, field__6vl) \u001b[35mAS\u001b[0m (\u001b[35mSELECT\u001b[0m _PRIVACY_UNIT_ \u001b[35mAS\u001b[0m _PRIVACY_UNIT_, (1) / ((greatest(1, (sqrt(field__6vl)) / ((3.907))))) \u001b[35mAS\u001b[0m field__6vl FROM reduce_rwg9),\n",
            "  join_18di (_PRIVACY_UNIT_, _PRIVACY_UNIT_WEIGHT_, field__6vl, _SCALE_FACTOR__PRIVACY_UNIT_, _SCALE_FACTOR_field__6vl) \u001b[35mAS\u001b[0m (\u001b[35mSELECT\u001b[0m * FROM map_2sf9 \u001b[35mAS\u001b[0m _LEFT_ JOIN map_gv9s \u001b[35mAS\u001b[0m _RIGHT_ ON (_LEFT_._PRIVACY_UNIT_) = (_RIGHT_._PRIVACY_UNIT_)),\n",
            "  map_thsf (_PRIVACY_UNIT_, _PRIVACY_UNIT_WEIGHT_, field__6vl, _SCALE_FACTOR__PRIVACY_UNIT_, _SCALE_FACTOR_field__6vl) \u001b[35mAS\u001b[0m (\u001b[35mSELECT\u001b[0m _PRIVACY_UNIT_ \u001b[35mAS\u001b[0m _PRIVACY_UNIT_, _PRIVACY_UNIT_WEIGHT_ \u001b[35mAS\u001b[0m _PRIVACY_UNIT_WEIGHT_, (field__6vl) * ((_SCALE_FACTOR_field__6vl)) \u001b[35mAS\u001b[0m field__6vl, _SCALE_FACTOR__PRIVACY_UNIT_ \u001b[35mAS\u001b[0m _SCALE_FACTOR__PRIVACY_UNIT_, _SCALE_FACTOR_field__6vl \u001b[35mAS\u001b[0m _SCALE_FACTOR_field__6vl FROM join_18di),\n",
            "  map_iohl (field_3d25) \u001b[35mAS\u001b[0m (\u001b[35mSELECT\u001b[0m field__6vl \u001b[35mAS\u001b[0m field_3d25 FROM map_thsf),\n",
            "  reduce_w34p (field__6vl) \u001b[35mAS\u001b[0m (\u001b[35mSELECT\u001b[0m sum(field_3d25) \u001b[35mAS\u001b[0m field__6vl FROM map_iohl),\n",
            "  map_m0ix (_SUM_field__6vl) \u001b[35mAS\u001b[0m (\u001b[35mSELECT\u001b[0m least(3555.37, greatest(0, (coalesce(field__6vl, 0)) + ((15.455181404019267) * (((sqrt((-2) * ((ln(random()))))) * ((cos((6.283185307179586) * ((random())))))))))) \u001b[35mAS\u001b[0m _SUM_field__6vl FROM reduce_w34p),\n",
            "  map_j5qi (my_sum) \u001b[35mAS\u001b[0m (\u001b[35mSELECT\u001b[0m _SUM_field__6vl \u001b[35mAS\u001b[0m my_sum FROM map_m0ix),\n",
            "  map_l4sy (my_sum) \u001b[35mAS\u001b[0m (\u001b[35mSELECT\u001b[0m my_sum \u001b[35mAS\u001b[0m my_sum FROM map_j5qi)\n",
            "\u001b[35mSELECT\u001b[0m * FROM map_l4sy\n"
          ]
        }
      ],
      "source": [
        "MAGENTA_COLOR = '\\033[35m'\n",
        "BLUE_COLOR = '\\033[34m'\n",
        "RESET_COLOR = '\\033[0m'\n",
        "\n",
        "def print_query(query: str):\n",
        "    keywords = [\"SELECT\", \"AS\", \"GROUP BY\", \"LIMIT\", \"ORDER BY\", \"WHERE\"]\n",
        "    colored_query = query\n",
        "    colored_query = colored_query.replace(\"WITH\", \"WITH\\n \")\n",
        "    colored_query = colored_query.replace(\" SELECT\", \"\\nSELECT\")\n",
        "    colored_query = colored_query.replace(\"),\", \"),\\n \")\n",
        "    for word in keywords:\n",
        "        colored_query = colored_query.replace(word, MAGENTA_COLOR + word + RESET_COLOR)\n",
        "    colored_query = colored_query.replace(\"WITH\", BLUE_COLOR + \"WITH\" + RESET_COLOR)\n",
        "    print(colored_query)\n",
        "\n",
        "\n",
        "dp_query = dp_relation.render()\n",
        "print_query(dp_query)"
      ]
    },
    {
      "cell_type": "markdown",
      "id": "f626ef40",
      "metadata": {
        "id": "f626ef40"
      },
      "source": [
        "Then the query is sent to the databqe:"
      ]
    },
    {
      "cell_type": "code",
      "execution_count": 20,
      "id": "30d8afd9",
      "metadata": {
        "id": "30d8afd9",
        "outputId": "b635f93b-89af-4775-a179-b277511264b9",
        "colab": {
          "base_uri": "https://localhost:8080/"
        }
      },
      "outputs": [
        {
          "output_type": "stream",
          "name": "stdout",
          "text": [
            "Initial query: 2939.4329999999995\n",
            "DP query:      2939.6762208647165\n"
          ]
        }
      ],
      "source": [
        "import pandas as pd\n",
        "true_res = pd.DataFrame(database.execute(query))\n",
        "dp_res = pd.DataFrame(database.eval(dp_relation))\n",
        "\n",
        "print(f\"Initial query: {true_res.iloc[0][0]}\")\n",
        "print(\"DP query:     \", dp_res[\"my_sum\"][0])"
      ]
    },
    {
      "cell_type": "markdown",
      "id": "c4b5c4ac",
      "metadata": {
        "id": "c4b5c4ac"
      },
      "source": [
        "We can sent the DP query multiple times wo see the variantions among the results:"
      ]
    },
    {
      "cell_type": "code",
      "execution_count": 21,
      "id": "a3cc993b",
      "metadata": {
        "id": "a3cc993b"
      },
      "outputs": [],
      "source": [
        "N_RUNS = 300\n",
        "\n",
        "def run(dataset, query, epsilons):\n",
        "    data = {}\n",
        "    privacy_unit = [\n",
        "        (\"stores\", [(\"store\", \"features\", \"store\")], \"id\"),\n",
        "        (\"features\", [], \"id\"),\n",
        "        (\"sales\", [], \"id\")\n",
        "    ]\n",
        "    synthetic_data = [\n",
        "        ([\"retail\", \"features\"], [\"retail\", \"features\"]),\n",
        "    ]\n",
        "\n",
        "    delta  = 1e-3\n",
        "    relation = dataset.sql(query)\n",
        "\n",
        "    for epsilon in epsilons:\n",
        "        budget = {\"epsilon\": epsilon, \"delta\": delta}\n",
        "        rel_with_pq = relation.rewrite_with_differential_privacy(\n",
        "            dataset,\n",
        "            synthetic_data,\n",
        "            privacy_unit,\n",
        "            budget\n",
        "        )\n",
        "        dp_relation = rel_with_pq.relation()\n",
        "        data[epsilon] = [\n",
        "            database.eval(dp_relation)[0][0] for _ in range(N_RUNS)\n",
        "        ]\n",
        "    return data"
      ]
    },
    {
      "cell_type": "code",
      "execution_count": 22,
      "id": "66b29b60",
      "metadata": {
        "id": "66b29b60"
      },
      "outputs": [],
      "source": [
        "true_value = pd.DataFrame(database.execute(query)).iloc[0][0]\n",
        "data = run(dataset, query, [0.5, 1., 5.])"
      ]
    },
    {
      "cell_type": "code",
      "execution_count": 23,
      "id": "c698def3",
      "metadata": {
        "id": "c698def3"
      },
      "outputs": [],
      "source": [
        "import matplotlib.pyplot as plt\n",
        "\n",
        "def plot_hist(true_value, data, query):\n",
        "    plt.axvline(true_value, color='red', label=\"True\")\n",
        "    for e, d in data.items():\n",
        "        plt.hist(d, bins=30, alpha=0.5, label = f\"eps = {e}\")\n",
        "    plt.legend()\n",
        "    plt.title(query)"
      ]
    },
    {
      "cell_type": "code",
      "execution_count": 24,
      "id": "a875ac4e",
      "metadata": {
        "id": "a875ac4e",
        "outputId": "e1c9d8b1-98a1-4bf9-a2e1-2f7517b6a246",
        "colab": {
          "base_uri": "https://localhost:8080/",
          "height": 452
        }
      },
      "outputs": [
        {
          "output_type": "display_data",
          "data": {
            "text/plain": [
              "<Figure size 640x480 with 1 Axes>"
            ],
            "image/png": "[encoded data removed]"
          },
          "metadata": {}
        }
      ],
      "source": [
        "plot_hist(true_value, data, query)"
      ]
    }
  ],
  "metadata": {
    "kernelspec": {
      "display_name": "Python 3 (ipykernel)",
      "language": "python",
      "name": "python3"
    },
    "language_info": {
      "codemirror_mode": {
        "name": "ipython",
        "version": 3
      },
      "file_extension": ".py",
      "mimetype": "text/x-python",
      "name": "python",
      "nbconvert_exporter": "python",
      "pygments_lexer": "ipython3",
      "version": "3.9.16"
    },
    "colab": {
      "provenance": []
    }
  },
  "nbformat": 4,
  "nbformat_minor": 5
}