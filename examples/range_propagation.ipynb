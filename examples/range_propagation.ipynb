{
 "cells": [
  {
   "cell_type": "code",
   "execution_count": 5,
   "metadata": {},
   "outputs": [],
   "source": [
    "import logging\n",
    "logging.disable(logging.INFO)"
   ]
  },
  {
   "cell_type": "code",
   "execution_count": null,
   "metadata": {},
   "outputs": [],
   "source": [
    "# We download an extract of Kuzak Dempsy's dataset that also can be found here:\n",
    "# https://raw.githubusercontent.com/vserret/datasets/main/heart_data.csv\n",
    "!wget https://raw.githubusercontent.com/vserret/datasets/main/heart_data.csv"
   ]
  },
  {
   "cell_type": "markdown",
   "metadata": {},
   "source": [
    "Connection \n",
    "...."
   ]
  },
  {
   "cell_type": "code",
   "execution_count": 20,
   "metadata": {},
   "outputs": [],
   "source": [
    "import pyqrlew as pq\n",
    "db = pq.from_csv(\n",
    "    table_name=\"heart_data\", \n",
    "    csv_file=\"https://raw.githubusercontent.com/vserret/datasets/main/heart_data.csv\"\n",
    ")"
   ]
  },
  {
   "cell_type": "code",
   "execution_count": 24,
   "metadata": {},
   "outputs": [],
   "source": [
    "import pyqrlew as pq\n",
    "df = pd.DataFrame([[1, \"a\", True], [2, \"b\", False]], columns=[\"col1\", \"col2\", \"col3\"])\n",
    "df.to_csv(\"table2.csv\")\n",
    "db = pq.from_csv_dict(\n",
    "    {\n",
    "        \"heart_data\": \"https://raw.githubusercontent.com/vserret/datasets/main/heart_data.csv\",\n",
    "        \"table2\": \"table2.csv\"\n",
    "    }\n",
    ")"
   ]
  },
  {
   "cell_type": "code",
   "execution_count": 23,
   "metadata": {},
   "outputs": [
    {
     "name": "stdout",
     "output_type": "stream",
     "text": [
      "\n",
      "Table: table1\n",
      " - col1, Type: BIGINT\n",
      " - col2, Type: TEXT\n",
      " - col3, Type: BOOLEAN\n",
      "\n",
      "Table: table2\n",
      " - colA, Type: BIGINT\n",
      " - colB, Type: BIGINT\n"
     ]
    }
   ],
   "source": [
    "df1 = pd.DataFrame([[1, \"a\", True], [2, \"b\", False]], columns=[\"col1\", \"col2\", \"col3\"])\n",
    "df2 = pd.DataFrame([[1, 2], [3, 4], [5, 6]], columns=[\"colA\", \"colB\"])\n",
    "qdb = pq.from_pandas_dict({\"table1\": df1, \"table2\": df2})\n",
    "qdb.print_infos_metadata()"
   ]
  },
  {
   "cell_type": "code",
   "execution_count": null,
   "metadata": {},
   "outputs": [],
   "source": [
    "import pyqrlew as pq\n",
    "db = pq.from_csv(\n",
    "    table_name=\"heart_data\", \n",
    "    csv_file=\"heart_data.csv\"\n",
    ")"
   ]
  },
  {
   "cell_type": "code",
   "execution_count": 17,
   "metadata": {},
   "outputs": [
    {
     "data": {
      "text/plain": [
       "col1     int64\n",
       "col2    object\n",
       "col3      bool\n",
       "dtype: object"
      ]
     },
     "execution_count": 17,
     "metadata": {},
     "output_type": "execute_result"
    }
   ],
   "source": [
    "import pandas as pd \n",
    "df = pd.DataFrame([[1, \"a\", True], [2, \"b\", False]], columns=[\"col1\", \"col2\", \"col3\"])\n",
    "df.dtypes"
   ]
  },
  {
   "cell_type": "code",
   "execution_count": 18,
   "metadata": {},
   "outputs": [
    {
     "data": {
      "text/plain": [
       "[(['my_table'], <Relation at 0x120ee8e70>)]"
      ]
     },
     "execution_count": 18,
     "metadata": {},
     "output_type": "execute_result"
    }
   ],
   "source": [
    "import pyqrlew as pq\n",
    "qdb = pq.from_pandas(\"my_table\", df)\n",
    "qdb.dataset().relations()"
   ]
  },
  {
   "cell_type": "code",
   "execution_count": 19,
   "metadata": {},
   "outputs": [
    {
     "name": "stdout",
     "output_type": "stream",
     "text": [
      "\n",
      "Table: my_table\n",
      " - col1, Type: BIGINT\n",
      " - col2, Type: TEXT\n",
      " - col3, Type: BOOLEAN\n"
     ]
    }
   ],
   "source": [
    "qdb.print_infos_metadata()"
   ]
  },
  {
   "cell_type": "code",
   "execution_count": 9,
   "metadata": {},
   "outputs": [
    {
     "data": {
      "text/plain": [
       "<pyqrlew.io.sqlite.SQLite at 0x120d86b80>"
      ]
     },
     "execution_count": 9,
     "metadata": {},
     "output_type": "execute_result"
    }
   ],
   "source": [
    "qdb"
   ]
  },
  {
   "cell_type": "code",
   "execution_count": null,
   "metadata": {},
   "outputs": [],
   "source": [
    "ds =qdb.dataset()\n",
    "ds.relations()"
   ]
  },
  {
   "cell_type": "code",
   "execution_count": null,
   "metadata": {},
   "outputs": [],
   "source": [
    "import pandas as pd\n",
    "pd.DataFrame(db.execute(\"SELECT * FROM heart_data\")).head()"
   ]
  },
  {
   "cell_type": "code",
   "execution_count": null,
   "metadata": {},
   "outputs": [],
   "source": [
    "import graphviz\n",
    "\n",
    "def display_dot(dot_graph): \n",
    "    display(graphviz.Source(dot_graph))\n",
    "\n",
    "display_dot(ds.relations()[0][1].dot())"
   ]
  },
  {
   "cell_type": "code",
   "execution_count": null,
   "metadata": {},
   "outputs": [],
   "source": [
    "# BMI = weight(kg) / height_m ** 2\n",
    "query = \"\"\"\n",
    "WITH \n",
    "    height_table AS (SELECT id, height_in_meter AS height_in_meter FROM (SELECT id, height * 0.01 AS height_in_meter FROM heart_data WHERE height > 160 AND height < 195) AS subq),\n",
    "    weight_table AS (SELECT id, weight AS weight FROM (SELECT id, weight FROM heart_data WHERE weight > 50 AND weight < 100) AS subq)\n",
    "SELECT weight / (height_in_meter * height_in_meter) AS bmi FROM height_table LEFT JOIN weight_table ON height_table.id = weight_table.id\n",
    "\"\"\"\n",
    "relation = ds.sql(query)\n",
    "\n",
    "df0 = pd.DataFrame(db.eval(relation))\n",
    "print(f\"The min and max values for bmi: [{df0['bmi'].min()}, {df0['bmi'].max()}]\")\n",
    "print(f\"The propagated datatype is: {relation.schema()}\")    \n",
    "\n",
    "display_dot(relation.dot())"
   ]
  },
  {
   "cell_type": "code",
   "execution_count": null,
   "metadata": {},
   "outputs": [],
   "source": [
    "# creff [height(cm) - 100 + age(year) / 10] * 0,9\n",
    "\n",
    "query = \"\"\"\n",
    "WITH \n",
    "    height_table AS (SELECT id, height FROM heart_data WHERE height > 160 AND height < 195),\n",
    "    age_table AS (SELECT id, age_in_year FROM (SELECT id, (age / 365) AS age_in_year FROM heart_data) AS subq WHERE age_in_year > 30 AND age_in_year < 50)\n",
    "SELECT (height - 100 + age_in_year / 10) * 0.9 AS creff FROM height_table LEFT JOIN age_table ON age_table.id = height_table.id\n",
    "\"\"\"\n",
    "relation = ds.sql(query)\n",
    "\n",
    "df0 = pd.DataFrame(db.eval(relation))\n",
    "print(f\"The min and max values for creff: [{df0['creff'].min()}, {df0['creff'].max()}]\")\n",
    "print(f\"The propagated datatype is: {relation.schema()}\")\n",
    "\n",
    "display_dot(relation.dot())"
   ]
  },
  {
   "cell_type": "code",
   "execution_count": null,
   "metadata": {},
   "outputs": [],
   "source": [
    "#Lorentz formula\n",
    "#if gender='M', height(cm) - 100 - ((height(cm) - 150) / 4)\n",
    "#if gender='F', height(cm) - 100 - ((height(cm) - 150) / 2,5).\n",
    "\n",
    "query = \"\"\"\n",
    "WITH \n",
    "    height_table AS (SELECT id, height FROM heart_data WHERE height > 160 AND height < 195),\n",
    "    lorentz_table AS (SELECT id, (height - 100 - (height - 150) / 4) AS male_lorentz, (height - 100 - (height - 150)/2.5) AS female_lorentz FROM height_table),\n",
    "    gender_table AS (SELECT id, CASE WHEN id = 0 THEN 'M' ELSE 'F' END AS gender FROM (SELECT id, gender AS gender FROM heart_data WHERE gender in (0, 1)) AS subq)\n",
    "SELECT CASE WHEN gender = 'M' THEN male_lorentz ELSE female_lorentz END AS lorentz FROM lorentz_table LEFT JOIN gender_table ON gender_table.id = lorentz_table.id\n",
    "\"\"\"\n",
    "relation = ds.sql(query)\n",
    "\n",
    "df0 = pd.DataFrame(db.eval(relation))\n",
    "print(f\"The min and max values for lorentz: [{df0['lorentz'].min()}, {df0['lorentz'].max()}]\")\n",
    "print(f\"The propagated datatype is: {relation.schema()}\")  \n",
    "\n",
    "display_dot(relation.dot())"
   ]
  },
  {
   "cell_type": "code",
   "execution_count": null,
   "metadata": {},
   "outputs": [],
   "source": [
    "#Lorentz formula\n",
    "#if gender='M', height(cm) - 62.5\n",
    "#if gender='F', 0.6 * height(cm) -40.0\n",
    "\n",
    "query = \"\"\"\n",
    "WITH \n",
    "    height_table AS (SELECT id, height FROM heart_data WHERE height > 160 AND height < 195),\n",
    "    lorentz_table AS (SELECT id, 0.75 * height - 62.5 AS male_lorentz, (0.6 * height -40.0) AS female_lorentz FROM height_table),\n",
    "    gender_table AS (SELECT id, CASE WHEN id = 0 THEN 'M' ELSE 'F' END AS gender FROM (SELECT id, gender AS gender FROM heart_data WHERE gender in (0, 1)) AS subq)\n",
    "SELECT CASE WHEN gender = 'M' THEN male_lorentz ELSE female_lorentz END AS lorentz FROM lorentz_table LEFT JOIN gender_table ON gender_table.id = lorentz_table.id\n",
    "\"\"\"\n",
    "relation = ds.sql(query)\n",
    "\n",
    "df0 = pd.DataFrame(db.eval(relation))\n",
    "print(f\"The min and max values for lorentz: [{df0['lorentz'].min()}, {df0['lorentz'].max()}]\")\n",
    "print(f\"The propagated datatype is: {relation.schema()}\")  \n",
    "\n",
    "display_dot(relation.dot())"
   ]
  }
 ],
 "metadata": {
  "kernelspec": {
   "display_name": "myenv",
   "language": "python",
   "name": "python3"
  },
  "language_info": {
   "codemirror_mode": {
    "name": "ipython",
    "version": 3
   },
   "file_extension": ".py",
   "mimetype": "text/x-python",
   "name": "python",
   "nbconvert_exporter": "python",
   "pygments_lexer": "ipython3",
   "version": "3.9.0"
  },
  "orig_nbformat": 4
 },
 "nbformat": 4,
 "nbformat_minor": 2
}
