{
 "cells": [
  {
   "cell_type": "markdown",
   "metadata": {},
   "source": [
    "# Automatic range computation"
   ]
  },
  {
   "cell_type": "markdown",
   "metadata": {},
   "source": [
    "[Differential privacy](https://en.wikipedia.org/wiki/Differential_privacy) focuses on revealing data aggregation outcomes while diminishing the impact of any single person on the overall collective result. \n",
    "This principle operates via a tandem of interconnected stages that can be adapted to various analytical scenarios, spanning SQL queries, conventional statistical analyses, and even deep learning tasks.\n",
    "\n",
    "- **Data bounding**: This phase involves refining the data by excluding outliers and constraining it within rational limits. For instance, considering the `age` column of a census dataset, it is reasonable to constrain the age values between 18 and 100 and adjust the extreme values to the nearest boundary.\n",
    "\n",
    "- **Noise Introduction**: We inject into each aggregation a level of noise that is calibrated by the privacy parameters and the **sensitivity**, i.e. the maximum potential influence an individual could have over the final result.\n",
    "\n",
    "The second phase is inherently intertwined with the first, since the the **sensitivity** in computed from the boundaries set in the initial phase. \n",
    "If we significantly overestimate these bounds, it could lead to a substantial increase in noise. \n",
    "This, in turn, would undermine the usefulness of the analysis."
   ]
  },
  {
   "cell_type": "markdown",
   "metadata": {},
   "source": [
    "In this post, we'll focus on the **data bounding stage applied to SQL analysis** using the [`qrlew`](https://qrlew.github.io/) framework. "
   ]
  },
  {
   "cell_type": "code",
   "execution_count": 2,
   "metadata": {},
   "outputs": [],
   "source": [
    "import logging\n",
    "logging.disable(logging.INFO)"
   ]
  },
  {
   "cell_type": "code",
   "execution_count": null,
   "metadata": {},
   "outputs": [],
   "source": [
    "%pip install graphviz\n",
    "%pip install pyqrlew"
   ]
  },
  {
   "cell_type": "markdown",
   "metadata": {},
   "source": [
    "We load a csv extract of the [Kuzak Dempsy's dataset](https://data.world/kudem):"
   ]
  },
  {
   "cell_type": "code",
   "execution_count": 3,
   "metadata": {},
   "outputs": [],
   "source": [
    "import pyqrlew as pq\n",
    "qdb = pq.from_csv(\n",
    "    table_name=\"heart_data\",\n",
    "    csv_file=\"https://storage.googleapis.com/qrlew-demo-data/heart_data.csv\"\n",
    ")"
   ]
  },
  {
   "cell_type": "code",
   "execution_count": 4,
   "metadata": {},
   "outputs": [
    {
     "data": {
      "text/html": [
       "<div>\n",
       "<style scoped>\n",
       "    .dataframe tbody tr th:only-of-type {\n",
       "        vertical-align: middle;\n",
       "    }\n",
       "\n",
       "    .dataframe tbody tr th {\n",
       "        vertical-align: top;\n",
       "    }\n",
       "\n",
       "    .dataframe thead th {\n",
       "        text-align: right;\n",
       "    }\n",
       "</style>\n",
       "<table border=\"1\" class=\"dataframe\">\n",
       "  <thead>\n",
       "    <tr style=\"text-align: right;\">\n",
       "      <th></th>\n",
       "      <th>id</th>\n",
       "      <th>age</th>\n",
       "      <th>gender</th>\n",
       "      <th>height</th>\n",
       "      <th>weight</th>\n",
       "      <th>ap_hi</th>\n",
       "      <th>ap_lo</th>\n",
       "      <th>cholesterol</th>\n",
       "      <th>gluc</th>\n",
       "      <th>smoke</th>\n",
       "      <th>alco</th>\n",
       "      <th>active</th>\n",
       "      <th>cardio</th>\n",
       "    </tr>\n",
       "  </thead>\n",
       "  <tbody>\n",
       "    <tr>\n",
       "      <th>0</th>\n",
       "      <td>0</td>\n",
       "      <td>18393</td>\n",
       "      <td>2</td>\n",
       "      <td>168</td>\n",
       "      <td>62.0</td>\n",
       "      <td>110</td>\n",
       "      <td>80</td>\n",
       "      <td>1</td>\n",
       "      <td>1</td>\n",
       "      <td>0</td>\n",
       "      <td>0</td>\n",
       "      <td>1</td>\n",
       "      <td>0</td>\n",
       "    </tr>\n",
       "    <tr>\n",
       "      <th>1</th>\n",
       "      <td>1</td>\n",
       "      <td>20228</td>\n",
       "      <td>1</td>\n",
       "      <td>156</td>\n",
       "      <td>85.0</td>\n",
       "      <td>140</td>\n",
       "      <td>90</td>\n",
       "      <td>3</td>\n",
       "      <td>1</td>\n",
       "      <td>0</td>\n",
       "      <td>0</td>\n",
       "      <td>1</td>\n",
       "      <td>1</td>\n",
       "    </tr>\n",
       "    <tr>\n",
       "      <th>2</th>\n",
       "      <td>2</td>\n",
       "      <td>18857</td>\n",
       "      <td>1</td>\n",
       "      <td>165</td>\n",
       "      <td>64.0</td>\n",
       "      <td>130</td>\n",
       "      <td>70</td>\n",
       "      <td>3</td>\n",
       "      <td>1</td>\n",
       "      <td>0</td>\n",
       "      <td>0</td>\n",
       "      <td>0</td>\n",
       "      <td>1</td>\n",
       "    </tr>\n",
       "    <tr>\n",
       "      <th>3</th>\n",
       "      <td>3</td>\n",
       "      <td>17623</td>\n",
       "      <td>2</td>\n",
       "      <td>169</td>\n",
       "      <td>82.0</td>\n",
       "      <td>150</td>\n",
       "      <td>100</td>\n",
       "      <td>1</td>\n",
       "      <td>1</td>\n",
       "      <td>0</td>\n",
       "      <td>0</td>\n",
       "      <td>1</td>\n",
       "      <td>1</td>\n",
       "    </tr>\n",
       "    <tr>\n",
       "      <th>4</th>\n",
       "      <td>4</td>\n",
       "      <td>17474</td>\n",
       "      <td>1</td>\n",
       "      <td>156</td>\n",
       "      <td>56.0</td>\n",
       "      <td>100</td>\n",
       "      <td>60</td>\n",
       "      <td>1</td>\n",
       "      <td>1</td>\n",
       "      <td>0</td>\n",
       "      <td>0</td>\n",
       "      <td>0</td>\n",
       "      <td>0</td>\n",
       "    </tr>\n",
       "  </tbody>\n",
       "</table>\n",
       "</div>"
      ],
      "text/plain": [
       "   id    age  gender  height  weight  ap_hi  ap_lo  cholesterol  gluc  smoke  \\\n",
       "0   0  18393       2     168    62.0    110     80            1     1      0   \n",
       "1   1  20228       1     156    85.0    140     90            3     1      0   \n",
       "2   2  18857       1     165    64.0    130     70            3     1      0   \n",
       "3   3  17623       2     169    82.0    150    100            1     1      0   \n",
       "4   4  17474       1     156    56.0    100     60            1     1      0   \n",
       "\n",
       "   alco  active  cardio  \n",
       "0     0       1       0  \n",
       "1     0       1       1  \n",
       "2     0       0       1  \n",
       "3     0       1       1  \n",
       "4     0       0       0  "
      ]
     },
     "execution_count": 4,
     "metadata": {},
     "output_type": "execute_result"
    }
   ],
   "source": [
    "import pandas as pd\n",
    "pd.DataFrame(qdb.execute(\"SELECT * FROM heart_data\")).head()"
   ]
  },
  {
   "cell_type": "markdown",
   "metadata": {},
   "source": [
    "Qrlew transforms each SQL notion into a `Relation`, which serves as an intermediate representation that is well-suited for multiple query rewriting purposes.\n",
    "\n",
    "The `heart_data` table finds its representation as follows:"
   ]
  },
  {
   "cell_type": "code",
   "execution_count": 5,
   "metadata": {},
   "outputs": [
    {
     "data": {
      "image/svg+xml": [
       "<?xml version=\"1.0\" encoding=\"UTF-8\" standalone=\"no\"?>\n",
       "<!DOCTYPE svg PUBLIC \"-//W3C//DTD SVG 1.1//EN\"\n",
       " \"http://www.w3.org/Graphics/SVG/1.1/DTD/svg11.dtd\">\n",
       "<!-- Generated by graphviz version 9.0.0 (20230911.1827)\n",
       " -->\n",
       "<!-- Title: graph_gtdh Pages: 1 -->\n",
       "<svg width=\"199pt\" height=\"191pt\"\n",
       " viewBox=\"0.00 0.00 198.80 190.80\" xmlns=\"http://www.w3.org/2000/svg\" xmlns:xlink=\"http://www.w3.org/1999/xlink\">\n",
       "<g id=\"graph0\" class=\"graph\" transform=\"scale(1 1) rotate(0) translate(4 186.8)\">\n",
       "<title>graph_gtdh</title>\n",
       "<polygon fill=\"none\" stroke=\"none\" points=\"-4,4 -4,-186.8 194.8,-186.8 194.8,4 -4,4\"/>\n",
       "<!-- graph_gtdh -->\n",
       "<g id=\"node1\" class=\"node\">\n",
       "<title>graph_gtdh</title>\n",
       "<path fill=\"#ff1744\" stroke=\"#000000\" stroke-opacity=\"0.333333\" d=\"M178.8,-182.8C178.8,-182.8 12,-182.8 12,-182.8 6,-182.8 0,-176.8 0,-170.8 0,-170.8 0,-12 0,-12 0,-6 6,0 12,0 12,0 178.8,0 178.8,0 184.8,0 190.8,-6 190.8,-12 190.8,-12 190.8,-170.8 190.8,-170.8 190.8,-176.8 184.8,-182.8 178.8,-182.8\"/>\n",
       "<text text-anchor=\"start\" x=\"14.4\" y=\"-158.95\" font-family=\"Red Hat Display,sans-serif\" font-weight=\"bold\" font-size=\"11.00\" fill=\"#ffffff\" fill-opacity=\"0.733333\">HEART_DATA size ∈ int{70000}</text>\n",
       "<text text-anchor=\"start\" x=\"69.15\" y=\"-147.95\" font-family=\"Red Hat Display,sans-serif\" font-size=\"11.00\" fill=\"#ffffff\" fill-opacity=\"0.733333\">id = id ∈ int</text>\n",
       "<text text-anchor=\"start\" x=\"59.4\" y=\"-136.95\" font-family=\"Red Hat Display,sans-serif\" font-size=\"11.00\" fill=\"#ffffff\" fill-opacity=\"0.733333\">age = age ∈ int</text>\n",
       "<text text-anchor=\"start\" x=\"43.65\" y=\"-125.95\" font-family=\"Red Hat Display,sans-serif\" font-size=\"11.00\" fill=\"#ffffff\" fill-opacity=\"0.733333\">gender = gender ∈ int</text>\n",
       "<text text-anchor=\"start\" x=\"48.15\" y=\"-114.95\" font-family=\"Red Hat Display,sans-serif\" font-size=\"11.00\" fill=\"#ffffff\" fill-opacity=\"0.733333\">height = height ∈ int</text>\n",
       "<text text-anchor=\"start\" x=\"41.4\" y=\"-103.95\" font-family=\"Red Hat Display,sans-serif\" font-size=\"11.00\" fill=\"#ffffff\" fill-opacity=\"0.733333\">weight = weight ∈ float</text>\n",
       "<text text-anchor=\"start\" x=\"51.15\" y=\"-92.95\" font-family=\"Red Hat Display,sans-serif\" font-size=\"11.00\" fill=\"#ffffff\" fill-opacity=\"0.733333\">ap_hi = ap_hi ∈ int</text>\n",
       "<text text-anchor=\"start\" x=\"51.15\" y=\"-81.95\" font-family=\"Red Hat Display,sans-serif\" font-size=\"11.00\" fill=\"#ffffff\" fill-opacity=\"0.733333\">ap_lo = ap_lo ∈ int</text>\n",
       "<text text-anchor=\"start\" x=\"25.65\" y=\"-70.95\" font-family=\"Red Hat Display,sans-serif\" font-size=\"11.00\" fill=\"#ffffff\" fill-opacity=\"0.733333\">cholesterol = cholesterol ∈ int</text>\n",
       "<text text-anchor=\"start\" x=\"57.9\" y=\"-59.95\" font-family=\"Red Hat Display,sans-serif\" font-size=\"11.00\" fill=\"#ffffff\" fill-opacity=\"0.733333\">gluc = gluc ∈ int</text>\n",
       "<text text-anchor=\"start\" x=\"45.9\" y=\"-48.95\" font-family=\"Red Hat Display,sans-serif\" font-size=\"11.00\" fill=\"#ffffff\" fill-opacity=\"0.733333\">smoke = smoke ∈ int</text>\n",
       "<text text-anchor=\"start\" x=\"57.9\" y=\"-37.95\" font-family=\"Red Hat Display,sans-serif\" font-size=\"11.00\" fill=\"#ffffff\" fill-opacity=\"0.733333\">alco = alco ∈ int</text>\n",
       "<text text-anchor=\"start\" x=\"49.65\" y=\"-26.95\" font-family=\"Red Hat Display,sans-serif\" font-size=\"11.00\" fill=\"#ffffff\" fill-opacity=\"0.733333\">active = active ∈ int</text>\n",
       "<text text-anchor=\"start\" x=\"48.15\" y=\"-15.95\" font-family=\"Red Hat Display,sans-serif\" font-size=\"11.00\" fill=\"#ffffff\" fill-opacity=\"0.733333\">cardio = cardio ∈ int</text>\n",
       "</g>\n",
       "</g>\n",
       "</svg>\n"
      ],
      "text/plain": [
       "<graphviz.sources.Source at 0x1120621d0>"
      ]
     },
     "metadata": {},
     "output_type": "display_data"
    }
   ],
   "source": [
    "import graphviz\n",
    "\n",
    "def display_dot(dot_graph):\n",
    "    display(graphviz.Source(dot_graph))\n",
    "\n",
    "ds = qdb.dataset()\n",
    "display_dot(ds.relations()[0][1].dot())"
   ]
  },
  {
   "cell_type": "markdown",
   "metadata": {},
   "source": [
    "The `Relation` object holds information about columns and their associated Qrlew [data types](https://github.com/Qrlew/qrlew/blob/b4960d57b7ac047b525c36b9cb9eb3395e0f4029/src/data_type/mod.rs#L2207) (including bounds).\n",
    "\n",
    "These Qrlew data types are transformed from the database's original types. \n",
    "Therefore, when importing data from sources like CSV files or pandas DataFrames that lack support for certain types (such as bytes or lists), \n",
    "you may sacrifice the detailed distinctions that Qrlew offers."
   ]
  },
  {
   "cell_type": "markdown",
   "metadata": {},
   "source": [
    "## Bound the columns of a table"
   ]
  },
  {
   "cell_type": "markdown",
   "metadata": {},
   "source": [
    "We adopt the perspective of the data owner, who aims to safeguard user privacy. We focus on a subset of the heart_data containing four columns:\n",
    "\n",
    "- `id` (integer):  contains unique identifiers, which must remain confidential,\n",
    "- `gender` (integer): 1 (Male) or 2 (Female),\n",
    "- `height` (integer), \n",
    "- `weight` (integer).\n",
    "\n",
    "We need to bounds the `height` and `weight` columns. \n",
    "We can limit the height to a range of 140 to 200 and the weight to a range of 40 to 130 kg.\n"
   ]
  },
  {
   "cell_type": "markdown",
   "metadata": {},
   "source": [
    "The data preparation involves creating a new dataset with specific column transformations:\n",
    "- `id` (integer): remains unchanged\n",
    "- `gender` (string): exclude values other than 1 or 2 then replace 0 with 'M', 1 with 'F',\n",
    "- `height` (float): exclude values outside the range [140.0, 200.0],\n",
    "- `weight` (float): exclude values outside the range [40.0, 130.0].\n",
    "\n",
    "This preparation can be transcripted as an SQL query: "
   ]
  },
  {
   "cell_type": "code",
   "execution_count": 6,
   "metadata": {},
   "outputs": [],
   "source": [
    "query = \"\"\"\n",
    "WITH\n",
    "    bounds_table AS (SELECT\n",
    "        id,\n",
    "        height,\n",
    "        weight,\n",
    "        CASE WHEN id = 1 THEN 'M' ELSE 'F' END AS gender\n",
    "    FROM heart_data\n",
    "    WHERE\n",
    "        height > 140. AND height < 200. AND\n",
    "        weight > 40. AND weight < 130. AND\n",
    "        gender IN (1, 2)\n",
    "    )\n",
    "SELECT * FROM bounds_table\n",
    "\"\"\""
   ]
  },
  {
   "cell_type": "markdown",
   "metadata": {},
   "source": [
    "We define a new `Relation` that mirrors the dataset's SQL query operation:"
   ]
  },
  {
   "cell_type": "code",
   "execution_count": 7,
   "metadata": {},
   "outputs": [
    {
     "data": {
      "image/svg+xml": [
       "<?xml version=\"1.0\" encoding=\"UTF-8\" standalone=\"no\"?>\n",
       "<!DOCTYPE svg PUBLIC \"-//W3C//DTD SVG 1.1//EN\"\n",
       " \"http://www.w3.org/Graphics/SVG/1.1/DTD/svg11.dtd\">\n",
       "<!-- Generated by graphviz version 9.0.0 (20230911.1827)\n",
       " -->\n",
       "<!-- Title: graph_282y Pages: 1 -->\n",
       "<svg width=\"557pt\" height=\"427pt\"\n",
       " viewBox=\"0.00 0.00 557.30 427.40\" xmlns=\"http://www.w3.org/2000/svg\" xmlns:xlink=\"http://www.w3.org/1999/xlink\">\n",
       "<g id=\"graph0\" class=\"graph\" transform=\"scale(1 1) rotate(0) translate(4 423.4)\">\n",
       "<title>graph_282y</title>\n",
       "<polygon fill=\"none\" stroke=\"none\" points=\"-4,4 -4,-423.4 553.3,-423.4 553.3,4 -4,4\"/>\n",
       "<!-- graph_282y -->\n",
       "<g id=\"node1\" class=\"node\">\n",
       "<title>graph_282y</title>\n",
       "<path fill=\"#428e92\" stroke=\"#000000\" stroke-opacity=\"0.333333\" d=\"M351.3,-419.4C351.3,-419.4 198,-419.4 198,-419.4 192,-419.4 186,-413.4 186,-407.4 186,-407.4 186,-347.6 186,-347.6 186,-341.6 192,-335.6 198,-335.6 198,-335.6 351.3,-335.6 351.3,-335.6 357.3,-335.6 363.3,-341.6 363.3,-347.6 363.3,-347.6 363.3,-407.4 363.3,-407.4 363.3,-413.4 357.3,-419.4 351.3,-419.4\"/>\n",
       "<text text-anchor=\"start\" x=\"200.4\" y=\"-395.55\" font-family=\"Red Hat Display,sans-serif\" font-weight=\"bold\" font-size=\"11.00\" fill=\"#000000\" fill-opacity=\"0.733333\">MAP_I9X_ size ∈ int[0 70000]</text>\n",
       "<text text-anchor=\"start\" x=\"248.4\" y=\"-384.55\" font-family=\"Red Hat Display,sans-serif\" font-size=\"11.00\" fill=\"#000000\" fill-opacity=\"0.733333\">id = id ∈ int</text>\n",
       "<text text-anchor=\"start\" x=\"204.9\" y=\"-373.55\" font-family=\"Red Hat Display,sans-serif\" font-size=\"11.00\" fill=\"#000000\" fill-opacity=\"0.733333\">height = height ∈ int[140 200]</text>\n",
       "<text text-anchor=\"start\" x=\"201.15\" y=\"-362.55\" font-family=\"Red Hat Display,sans-serif\" font-size=\"11.00\" fill=\"#000000\" fill-opacity=\"0.733333\">weight = weight ∈ float[40 130]</text>\n",
       "<text text-anchor=\"start\" x=\"208.65\" y=\"-351.55\" font-family=\"Red Hat Display,sans-serif\" font-size=\"11.00\" fill=\"#000000\" fill-opacity=\"0.733333\">gender = gender ∈ str{F, M}</text>\n",
       "</g>\n",
       "<!-- graph_hh74 -->\n",
       "<g id=\"node2\" class=\"node\">\n",
       "<title>graph_hh74</title>\n",
       "<path fill=\"#428e92\" stroke=\"#000000\" stroke-opacity=\"0.333333\" d=\"M537.3,-306.6C537.3,-306.6 12,-306.6 12,-306.6 6,-306.6 0,-300.6 0,-294.6 0,-294.6 0,-223.8 0,-223.8 0,-217.8 6,-211.8 12,-211.8 12,-211.8 537.3,-211.8 537.3,-211.8 543.3,-211.8 549.3,-217.8 549.3,-223.8 549.3,-223.8 549.3,-294.6 549.3,-294.6 549.3,-300.6 543.3,-306.6 537.3,-306.6\"/>\n",
       "<text text-anchor=\"start\" x=\"199.27\" y=\"-282.75\" font-family=\"Red Hat Display,sans-serif\" font-weight=\"bold\" font-size=\"11.00\" fill=\"#000000\" fill-opacity=\"0.733333\">MAP_IEJN size ∈ int[0 70000]</text>\n",
       "<text text-anchor=\"start\" x=\"248.4\" y=\"-271.75\" font-family=\"Red Hat Display,sans-serif\" font-size=\"11.00\" fill=\"#000000\" fill-opacity=\"0.733333\">id = id ∈ int</text>\n",
       "<text text-anchor=\"start\" x=\"204.9\" y=\"-260.75\" font-family=\"Red Hat Display,sans-serif\" font-size=\"11.00\" fill=\"#000000\" fill-opacity=\"0.733333\">height = height ∈ int[140 200]</text>\n",
       "<text text-anchor=\"start\" x=\"201.15\" y=\"-249.75\" font-family=\"Red Hat Display,sans-serif\" font-size=\"11.00\" fill=\"#000000\" fill-opacity=\"0.733333\">weight = weight ∈ float[40 130]</text>\n",
       "<text text-anchor=\"start\" x=\"179.4\" y=\"-238.75\" font-family=\"Red Hat Display,sans-serif\" font-size=\"11.00\" fill=\"#000000\" fill-opacity=\"0.733333\">gender = case((id = 1), M, F) ∈ str{F, M}</text>\n",
       "<text text-anchor=\"start\" x=\"14.4\" y=\"-227.75\" font-family=\"Red Hat Display,sans-serif\" font-size=\"11.00\" fill=\"#000000\" fill-opacity=\"0.733333\">WHERE (((((height &gt; 140) and (height &lt; 200)) and (weight &gt; 40)) and (weight &lt; 130)) and (gender in (1, 2)))</text>\n",
       "</g>\n",
       "<!-- graph_282y&#45;&gt;graph_hh74 -->\n",
       "<g id=\"edge2\" class=\"edge\">\n",
       "<title>graph_282y&#45;&gt;graph_hh74</title>\n",
       "<path fill=\"none\" stroke=\"#2b303a\" d=\"M274.65,-335.17C274.65,-329.6 274.65,-323.8 274.65,-318.01\"/>\n",
       "<polygon fill=\"#2b303a\" stroke=\"#2b303a\" points=\"278.15,-318.46 274.65,-308.46 271.15,-318.46 278.15,-318.46\"/>\n",
       "</g>\n",
       "<!-- graph_gtdh -->\n",
       "<g id=\"node3\" class=\"node\">\n",
       "<title>graph_gtdh</title>\n",
       "<path fill=\"#ff1744\" stroke=\"#000000\" stroke-opacity=\"0.333333\" d=\"M358.05,-182.8C358.05,-182.8 191.25,-182.8 191.25,-182.8 185.25,-182.8 179.25,-176.8 179.25,-170.8 179.25,-170.8 179.25,-12 179.25,-12 179.25,-6 185.25,0 191.25,0 191.25,0 358.05,0 358.05,0 364.05,0 370.05,-6 370.05,-12 370.05,-12 370.05,-170.8 370.05,-170.8 370.05,-176.8 364.05,-182.8 358.05,-182.8\"/>\n",
       "<text text-anchor=\"start\" x=\"193.65\" y=\"-158.95\" font-family=\"Red Hat Display,sans-serif\" font-weight=\"bold\" font-size=\"11.00\" fill=\"#ffffff\" fill-opacity=\"0.733333\">HEART_DATA size ∈ int{70000}</text>\n",
       "<text text-anchor=\"start\" x=\"248.4\" y=\"-147.95\" font-family=\"Red Hat Display,sans-serif\" font-size=\"11.00\" fill=\"#ffffff\" fill-opacity=\"0.733333\">id = id ∈ int</text>\n",
       "<text text-anchor=\"start\" x=\"238.65\" y=\"-136.95\" font-family=\"Red Hat Display,sans-serif\" font-size=\"11.00\" fill=\"#ffffff\" fill-opacity=\"0.733333\">age = age ∈ int</text>\n",
       "<text text-anchor=\"start\" x=\"222.9\" y=\"-125.95\" font-family=\"Red Hat Display,sans-serif\" font-size=\"11.00\" fill=\"#ffffff\" fill-opacity=\"0.733333\">gender = gender ∈ int</text>\n",
       "<text text-anchor=\"start\" x=\"227.4\" y=\"-114.95\" font-family=\"Red Hat Display,sans-serif\" font-size=\"11.00\" fill=\"#ffffff\" fill-opacity=\"0.733333\">height = height ∈ int</text>\n",
       "<text text-anchor=\"start\" x=\"220.65\" y=\"-103.95\" font-family=\"Red Hat Display,sans-serif\" font-size=\"11.00\" fill=\"#ffffff\" fill-opacity=\"0.733333\">weight = weight ∈ float</text>\n",
       "<text text-anchor=\"start\" x=\"230.4\" y=\"-92.95\" font-family=\"Red Hat Display,sans-serif\" font-size=\"11.00\" fill=\"#ffffff\" fill-opacity=\"0.733333\">ap_hi = ap_hi ∈ int</text>\n",
       "<text text-anchor=\"start\" x=\"230.4\" y=\"-81.95\" font-family=\"Red Hat Display,sans-serif\" font-size=\"11.00\" fill=\"#ffffff\" fill-opacity=\"0.733333\">ap_lo = ap_lo ∈ int</text>\n",
       "<text text-anchor=\"start\" x=\"204.9\" y=\"-70.95\" font-family=\"Red Hat Display,sans-serif\" font-size=\"11.00\" fill=\"#ffffff\" fill-opacity=\"0.733333\">cholesterol = cholesterol ∈ int</text>\n",
       "<text text-anchor=\"start\" x=\"237.15\" y=\"-59.95\" font-family=\"Red Hat Display,sans-serif\" font-size=\"11.00\" fill=\"#ffffff\" fill-opacity=\"0.733333\">gluc = gluc ∈ int</text>\n",
       "<text text-anchor=\"start\" x=\"225.15\" y=\"-48.95\" font-family=\"Red Hat Display,sans-serif\" font-size=\"11.00\" fill=\"#ffffff\" fill-opacity=\"0.733333\">smoke = smoke ∈ int</text>\n",
       "<text text-anchor=\"start\" x=\"237.15\" y=\"-37.95\" font-family=\"Red Hat Display,sans-serif\" font-size=\"11.00\" fill=\"#ffffff\" fill-opacity=\"0.733333\">alco = alco ∈ int</text>\n",
       "<text text-anchor=\"start\" x=\"228.9\" y=\"-26.95\" font-family=\"Red Hat Display,sans-serif\" font-size=\"11.00\" fill=\"#ffffff\" fill-opacity=\"0.733333\">active = active ∈ int</text>\n",
       "<text text-anchor=\"start\" x=\"227.4\" y=\"-15.95\" font-family=\"Red Hat Display,sans-serif\" font-size=\"11.00\" fill=\"#ffffff\" fill-opacity=\"0.733333\">cardio = cardio ∈ int</text>\n",
       "</g>\n",
       "<!-- graph_hh74&#45;&gt;graph_gtdh -->\n",
       "<g id=\"edge1\" class=\"edge\">\n",
       "<title>graph_hh74&#45;&gt;graph_gtdh</title>\n",
       "<path fill=\"none\" stroke=\"#2b303a\" d=\"M274.65,-211.57C274.65,-206.09 274.65,-200.34 274.65,-194.45\"/>\n",
       "<polygon fill=\"#2b303a\" stroke=\"#2b303a\" points=\"278.15,-194.51 274.65,-184.51 271.15,-194.51 278.15,-194.51\"/>\n",
       "</g>\n",
       "</g>\n",
       "</svg>\n"
      ],
      "text/plain": [
       "<graphviz.sources.Source at 0x11f70a090>"
      ]
     },
     "metadata": {},
     "output_type": "display_data"
    }
   ],
   "source": [
    "relation = ds.sql(query)\n",
    "display_dot(relation.dot())"
   ]
  },
  {
   "cell_type": "markdown",
   "metadata": {},
   "source": [
    "At the basis in red, we find the original table `heart_data` with all its columns. \n",
    "\n",
    "The first mapping operation involves selecting the `id`, `gender`, `height` and `weight` columns and coercing their types. \n",
    "\n",
    "The output `Relation` contains the four columns with their datatypes propagated:\n",
    "\n",
    "- The `gender` column has `str` type with only two possible values `M` and `F`.\n",
    "- The `height` and `weigh` columns contain bounded floats. "
   ]
  },
  {
   "cell_type": "code",
   "execution_count": 8,
   "metadata": {},
   "outputs": [
    {
     "name": "stdout",
     "output_type": "stream",
     "text": [
      "The propagated datatype is: {id: int, height: int[140 200], weight: float[40 130], gender: str{F, M}}\n"
     ]
    }
   ],
   "source": [
    "print(f\"The propagated datatype is: {relation.schema()}\")"
   ]
  },
  {
   "cell_type": "markdown",
   "metadata": {},
   "source": [
    "Importantly, these data types have been extended **independently, without necessitating any interaction with the database**. \n",
    "\n",
    "At this stage, the computation of aggregation sensitivity becomes feasible, but exclusively when such aggregation is executed on one of the initial columns.\n"
   ]
  },
  {
   "cell_type": "markdown",
   "metadata": {},
   "source": [
    "## Range propagation"
   ]
  },
  {
   "cell_type": "markdown",
   "metadata": {},
   "source": [
    "When confronted with the aggregation of composite columns, one approach to gauge sensitivity involves employing the automatic bounds determination algorithm introduced by [Wilson et al. (2019)](https://arxiv.org/abs/1909.01917). \n",
    "\n",
    "However, a drawback of this method is that it consumes half of the privacy budget allocated for the aggregation.\n",
    "\n",
    "In the next section, we'll delve into how Qrlew extends the boundaries of the initial columns to composite columns without spending any privacy budget."
   ]
  },
  {
   "cell_type": "markdown",
   "metadata": {},
   "source": [
    "As a first example, we reuse the previous query and compute the BMI (Body Mass Index) using the formula: \n",
    "$BMI = \\frac{weight(kg)}{height(m)^2}$."
   ]
  },
  {
   "cell_type": "code",
   "execution_count": 9,
   "metadata": {},
   "outputs": [
    {
     "data": {
      "image/svg+xml": [
       "<?xml version=\"1.0\" encoding=\"UTF-8\" standalone=\"no\"?>\n",
       "<!DOCTYPE svg PUBLIC \"-//W3C//DTD SVG 1.1//EN\"\n",
       " \"http://www.w3.org/Graphics/SVG/1.1/DTD/svg11.dtd\">\n",
       "<!-- Generated by graphviz version 9.0.0 (20230911.1827)\n",
       " -->\n",
       "<!-- Title: graph_g0gt Pages: 1 -->\n",
       "<svg width=\"636pt\" height=\"485pt\"\n",
       " viewBox=\"0.00 0.00 636.05 485.20\" xmlns=\"http://www.w3.org/2000/svg\" xmlns:xlink=\"http://www.w3.org/1999/xlink\">\n",
       "<g id=\"graph0\" class=\"graph\" transform=\"scale(1 1) rotate(0) translate(4 481.2)\">\n",
       "<title>graph_g0gt</title>\n",
       "<polygon fill=\"none\" stroke=\"none\" points=\"-4,4 -4,-481.2 632.05,-481.2 632.05,4 -4,4\"/>\n",
       "<!-- graph_g0gt -->\n",
       "<g id=\"node1\" class=\"node\">\n",
       "<title>graph_g0gt</title>\n",
       "<path fill=\"#428e92\" stroke=\"#000000\" stroke-opacity=\"0.333333\" d=\"M517.8,-477.2C517.8,-477.2 110.25,-477.2 110.25,-477.2 104.25,-477.2 98.25,-471.2 98.25,-465.2 98.25,-465.2 98.25,-438.4 98.25,-438.4 98.25,-432.4 104.25,-426.4 110.25,-426.4 110.25,-426.4 517.8,-426.4 517.8,-426.4 523.8,-426.4 529.8,-432.4 529.8,-438.4 529.8,-438.4 529.8,-465.2 529.8,-465.2 529.8,-471.2 523.8,-477.2 517.8,-477.2\"/>\n",
       "<text text-anchor=\"start\" x=\"235.65\" y=\"-453.35\" font-family=\"Red Hat Display,sans-serif\" font-weight=\"bold\" font-size=\"11.00\" fill=\"#000000\" fill-opacity=\"0.733333\">MAP_5AKK size ∈ int[0 70000]</text>\n",
       "<text text-anchor=\"start\" x=\"112.65\" y=\"-442.35\" font-family=\"Red Hat Display,sans-serif\" font-size=\"11.00\" fill=\"#000000\" fill-opacity=\"0.733333\">bmi = (weight / (height_in_meter * height_in_meter)) ∈ float[10 66.32653061224488]</text>\n",
       "</g>\n",
       "<!-- graph_efo7 -->\n",
       "<g id=\"node2\" class=\"node\">\n",
       "<title>graph_efo7</title>\n",
       "<path fill=\"#428e92\" stroke=\"#000000\" stroke-opacity=\"0.333333\" d=\"M616.05,-397.4C616.05,-397.4 12,-397.4 12,-397.4 6,-397.4 0,-391.4 0,-385.4 0,-385.4 0,-347.6 0,-347.6 0,-341.6 6,-335.6 12,-335.6 12,-335.6 616.05,-335.6 616.05,-335.6 622.05,-335.6 628.05,-341.6 628.05,-347.6 628.05,-347.6 628.05,-385.4 628.05,-385.4 628.05,-391.4 622.05,-397.4 616.05,-397.4\"/>\n",
       "<text text-anchor=\"start\" x=\"237.15\" y=\"-373.55\" font-family=\"Red Hat Display,sans-serif\" font-weight=\"bold\" font-size=\"11.00\" fill=\"#000000\" fill-opacity=\"0.733333\">MAP_RHIR size ∈ int[0 70000]</text>\n",
       "<text text-anchor=\"start\" x=\"14.4\" y=\"-362.55\" font-family=\"Red Hat Display,sans-serif\" font-size=\"11.00\" fill=\"#000000\" fill-opacity=\"0.733333\">height_in_meter = (height * 0.01) ∈ float{1.4000000000000001, 1.41, 1.42, 1.43, 1.44, 1.45, 1.46, 1.47, 1.48, 1.49, 1.5, 1.51...</text>\n",
       "<text text-anchor=\"start\" x=\"240.52\" y=\"-351.55\" font-family=\"Red Hat Display,sans-serif\" font-size=\"11.00\" fill=\"#000000\" fill-opacity=\"0.733333\">weight = weight ∈ float[40 130]</text>\n",
       "</g>\n",
       "<!-- graph_g0gt&#45;&gt;graph_efo7 -->\n",
       "<g id=\"edge3\" class=\"edge\">\n",
       "<title>graph_g0gt&#45;&gt;graph_efo7</title>\n",
       "<path fill=\"none\" stroke=\"#2b303a\" d=\"M314.02,-426.26C314.02,-420.82 314.02,-414.91 314.02,-409\"/>\n",
       "<polygon fill=\"#2b303a\" stroke=\"#2b303a\" points=\"317.53,-409.29 314.03,-399.29 310.53,-409.29 317.53,-409.29\"/>\n",
       "</g>\n",
       "<!-- graph_hh74 -->\n",
       "<g id=\"node3\" class=\"node\">\n",
       "<title>graph_hh74</title>\n",
       "<path fill=\"#428e92\" stroke=\"#000000\" stroke-opacity=\"0.333333\" d=\"M576.67,-306.6C576.67,-306.6 51.38,-306.6 51.38,-306.6 45.38,-306.6 39.38,-300.6 39.38,-294.6 39.38,-294.6 39.38,-223.8 39.38,-223.8 39.38,-217.8 45.38,-211.8 51.38,-211.8 51.38,-211.8 576.67,-211.8 576.67,-211.8 582.67,-211.8 588.67,-217.8 588.67,-223.8 588.67,-223.8 588.67,-294.6 588.67,-294.6 588.67,-300.6 582.67,-306.6 576.67,-306.6\"/>\n",
       "<text text-anchor=\"start\" x=\"238.65\" y=\"-282.75\" font-family=\"Red Hat Display,sans-serif\" font-weight=\"bold\" font-size=\"11.00\" fill=\"#000000\" fill-opacity=\"0.733333\">MAP_IEJN size ∈ int[0 70000]</text>\n",
       "<text text-anchor=\"start\" x=\"287.77\" y=\"-271.75\" font-family=\"Red Hat Display,sans-serif\" font-size=\"11.00\" fill=\"#000000\" fill-opacity=\"0.733333\">id = id ∈ int</text>\n",
       "<text text-anchor=\"start\" x=\"244.27\" y=\"-260.75\" font-family=\"Red Hat Display,sans-serif\" font-size=\"11.00\" fill=\"#000000\" fill-opacity=\"0.733333\">height = height ∈ int[140 200]</text>\n",
       "<text text-anchor=\"start\" x=\"240.52\" y=\"-249.75\" font-family=\"Red Hat Display,sans-serif\" font-size=\"11.00\" fill=\"#000000\" fill-opacity=\"0.733333\">weight = weight ∈ float[40 130]</text>\n",
       "<text text-anchor=\"start\" x=\"218.77\" y=\"-238.75\" font-family=\"Red Hat Display,sans-serif\" font-size=\"11.00\" fill=\"#000000\" fill-opacity=\"0.733333\">gender = case((id = 1), M, F) ∈ str{F, M}</text>\n",
       "<text text-anchor=\"start\" x=\"53.77\" y=\"-227.75\" font-family=\"Red Hat Display,sans-serif\" font-size=\"11.00\" fill=\"#000000\" fill-opacity=\"0.733333\">WHERE (((((height &gt; 140) and (height &lt; 200)) and (weight &gt; 40)) and (weight &lt; 130)) and (gender in (1, 2)))</text>\n",
       "</g>\n",
       "<!-- graph_efo7&#45;&gt;graph_hh74 -->\n",
       "<g id=\"edge2\" class=\"edge\">\n",
       "<title>graph_efo7&#45;&gt;graph_hh74</title>\n",
       "<path fill=\"none\" stroke=\"#2b303a\" d=\"M314.02,-335.33C314.02,-329.92 314.02,-324.12 314.02,-318.24\"/>\n",
       "<polygon fill=\"#2b303a\" stroke=\"#2b303a\" points=\"317.53,-318.39 314.03,-308.39 310.53,-318.39 317.53,-318.39\"/>\n",
       "</g>\n",
       "<!-- graph_gtdh -->\n",
       "<g id=\"node4\" class=\"node\">\n",
       "<title>graph_gtdh</title>\n",
       "<path fill=\"#ff1744\" stroke=\"#000000\" stroke-opacity=\"0.333333\" d=\"M397.42,-182.8C397.42,-182.8 230.62,-182.8 230.62,-182.8 224.62,-182.8 218.62,-176.8 218.62,-170.8 218.62,-170.8 218.62,-12 218.62,-12 218.62,-6 224.62,0 230.62,0 230.62,0 397.42,0 397.42,0 403.42,0 409.42,-6 409.42,-12 409.42,-12 409.42,-170.8 409.42,-170.8 409.42,-176.8 403.42,-182.8 397.42,-182.8\"/>\n",
       "<text text-anchor=\"start\" x=\"233.02\" y=\"-158.95\" font-family=\"Red Hat Display,sans-serif\" font-weight=\"bold\" font-size=\"11.00\" fill=\"#ffffff\" fill-opacity=\"0.733333\">HEART_DATA size ∈ int{70000}</text>\n",
       "<text text-anchor=\"start\" x=\"287.77\" y=\"-147.95\" font-family=\"Red Hat Display,sans-serif\" font-size=\"11.00\" fill=\"#ffffff\" fill-opacity=\"0.733333\">id = id ∈ int</text>\n",
       "<text text-anchor=\"start\" x=\"278.02\" y=\"-136.95\" font-family=\"Red Hat Display,sans-serif\" font-size=\"11.00\" fill=\"#ffffff\" fill-opacity=\"0.733333\">age = age ∈ int</text>\n",
       "<text text-anchor=\"start\" x=\"262.27\" y=\"-125.95\" font-family=\"Red Hat Display,sans-serif\" font-size=\"11.00\" fill=\"#ffffff\" fill-opacity=\"0.733333\">gender = gender ∈ int</text>\n",
       "<text text-anchor=\"start\" x=\"266.77\" y=\"-114.95\" font-family=\"Red Hat Display,sans-serif\" font-size=\"11.00\" fill=\"#ffffff\" fill-opacity=\"0.733333\">height = height ∈ int</text>\n",
       "<text text-anchor=\"start\" x=\"260.02\" y=\"-103.95\" font-family=\"Red Hat Display,sans-serif\" font-size=\"11.00\" fill=\"#ffffff\" fill-opacity=\"0.733333\">weight = weight ∈ float</text>\n",
       "<text text-anchor=\"start\" x=\"269.77\" y=\"-92.95\" font-family=\"Red Hat Display,sans-serif\" font-size=\"11.00\" fill=\"#ffffff\" fill-opacity=\"0.733333\">ap_hi = ap_hi ∈ int</text>\n",
       "<text text-anchor=\"start\" x=\"269.77\" y=\"-81.95\" font-family=\"Red Hat Display,sans-serif\" font-size=\"11.00\" fill=\"#ffffff\" fill-opacity=\"0.733333\">ap_lo = ap_lo ∈ int</text>\n",
       "<text text-anchor=\"start\" x=\"244.27\" y=\"-70.95\" font-family=\"Red Hat Display,sans-serif\" font-size=\"11.00\" fill=\"#ffffff\" fill-opacity=\"0.733333\">cholesterol = cholesterol ∈ int</text>\n",
       "<text text-anchor=\"start\" x=\"276.52\" y=\"-59.95\" font-family=\"Red Hat Display,sans-serif\" font-size=\"11.00\" fill=\"#ffffff\" fill-opacity=\"0.733333\">gluc = gluc ∈ int</text>\n",
       "<text text-anchor=\"start\" x=\"264.52\" y=\"-48.95\" font-family=\"Red Hat Display,sans-serif\" font-size=\"11.00\" fill=\"#ffffff\" fill-opacity=\"0.733333\">smoke = smoke ∈ int</text>\n",
       "<text text-anchor=\"start\" x=\"276.52\" y=\"-37.95\" font-family=\"Red Hat Display,sans-serif\" font-size=\"11.00\" fill=\"#ffffff\" fill-opacity=\"0.733333\">alco = alco ∈ int</text>\n",
       "<text text-anchor=\"start\" x=\"268.27\" y=\"-26.95\" font-family=\"Red Hat Display,sans-serif\" font-size=\"11.00\" fill=\"#ffffff\" fill-opacity=\"0.733333\">active = active ∈ int</text>\n",
       "<text text-anchor=\"start\" x=\"266.77\" y=\"-15.95\" font-family=\"Red Hat Display,sans-serif\" font-size=\"11.00\" fill=\"#ffffff\" fill-opacity=\"0.733333\">cardio = cardio ∈ int</text>\n",
       "</g>\n",
       "<!-- graph_hh74&#45;&gt;graph_gtdh -->\n",
       "<g id=\"edge1\" class=\"edge\">\n",
       "<title>graph_hh74&#45;&gt;graph_gtdh</title>\n",
       "<path fill=\"none\" stroke=\"#2b303a\" d=\"M314.02,-211.57C314.02,-206.09 314.02,-200.34 314.02,-194.45\"/>\n",
       "<polygon fill=\"#2b303a\" stroke=\"#2b303a\" points=\"317.53,-194.51 314.03,-184.51 310.53,-194.51 317.53,-194.51\"/>\n",
       "</g>\n",
       "</g>\n",
       "</svg>\n"
      ],
      "text/plain": [
       "<graphviz.sources.Source at 0x11feac190>"
      ]
     },
     "metadata": {},
     "output_type": "display_data"
    }
   ],
   "source": [
    "query = \"\"\"\n",
    "WITH\n",
    "    bounds_table AS (\n",
    "        SELECT\n",
    "            id,\n",
    "            height,\n",
    "            weight,\n",
    "            CASE WHEN id = 1 THEN 'M' ELSE 'F' END AS gender\n",
    "        FROM heart_data\n",
    "        WHERE\n",
    "            height > 140 AND height < 200 AND\n",
    "            weight > 40.00 AND weight < 130. AND\n",
    "            gender IN (1, 2)\n",
    "    ),\n",
    "    convert_table AS (\n",
    "        SELECT\n",
    "            height * 0.01 AS height_in_meter,\n",
    "            weight\n",
    "        FROM bounds_table\n",
    "    )\n",
    "SELECT weight / (height_in_meter * height_in_meter) AS bmi FROM convert_table\n",
    "\"\"\"\n",
    "relation = ds.sql(query)\n",
    "display_dot(relation.dot())"
   ]
  },
  {
   "cell_type": "markdown",
   "metadata": {},
   "source": [
    "The two lower relations are the ones we previously had, which are fed into a new `Relation` that performs the conversion of the `height` column from centimeters to meters. \n",
    "\n",
    "The updated ranges are automatically calculated as `[140, 200] -> [1.4, 2.0]`.\n",
    "\n",
    "The BMI computation takes place in the uppermost `Relation`, the corresponding ranges are:\n",
    "$$\n",
    "\\left [ \\frac{\\min (weight(kg))}{\\max (height(m)^2)}, \\frac{\\max (weight(kg))}{\\min (height(m)^2)} \\right] \n",
    "$$"
   ]
  },
  {
   "cell_type": "code",
   "execution_count": 10,
   "metadata": {},
   "outputs": [
    {
     "data": {
      "text/plain": [
       "'{bmi: float[10 66.32653061224488]}'"
      ]
     },
     "execution_count": 10,
     "metadata": {},
     "output_type": "execute_result"
    }
   ],
   "source": [
    "relation.schema()"
   ]
  },
  {
   "cell_type": "markdown",
   "metadata": {},
   "source": [
    "This can be converted to the true min and max: "
   ]
  },
  {
   "cell_type": "code",
   "execution_count": 11,
   "metadata": {},
   "outputs": [
    {
     "name": "stdout",
     "output_type": "stream",
     "text": [
      "bmi: [14.527376033057852, 63.975401706010715]\n"
     ]
    }
   ],
   "source": [
    "df = pd.DataFrame(qdb.eval(relation))\n",
    "print(f\"bmi: [{df['bmi'].min()}, {df['bmi'].max()}]\")\n"
   ]
  },
  {
   "cell_type": "markdown",
   "metadata": {},
   "source": [
    "We observe that the estimated bounds encompass the actual bounds. This implies that we might be introducing an excessive amount of noise. If we aim to incorporate less noise, we can tighten the bounds; however, this adjustment could potentially introduce bias into the final outcome."
   ]
  },
  {
   "cell_type": "markdown",
   "metadata": {},
   "source": [
    "Let now consider another example. We want to compute the Lorentz fomula given by:\n",
    "\n",
    "$$\n",
    "\\left\\{\n",
    "    \\begin{array}{ll}\n",
    "        0.75 * height - 62.5 & \\text{if  gender='M'} \\\\\n",
    "        0.60 * height -40.0 & \\text{if  gender='F'} \\\\\n",
    "    \\end{array}\n",
    "\\right.\n",
    "$$\n",
    "\n",
    "**To illustrate the process of joining**, we calculate the Lorentz formula separately for males and females using two distinct common table expressions. \n",
    "Subsequently, we merge these tables through a join operation and retrieve the appropriate formula based on the individual's gender."
   ]
  },
  {
   "cell_type": "code",
   "execution_count": 12,
   "metadata": {},
   "outputs": [
    {
     "data": {
      "image/svg+xml": [
       "<?xml version=\"1.0\" encoding=\"UTF-8\" standalone=\"no\"?>\n",
       "<!DOCTYPE svg PUBLIC \"-//W3C//DTD SVG 1.1//EN\"\n",
       " \"http://www.w3.org/Graphics/SVG/1.1/DTD/svg11.dtd\">\n",
       "<!-- Generated by graphviz version 9.0.0 (20230911.1827)\n",
       " -->\n",
       "<!-- Title: graph_0lzv Pages: 1 -->\n",
       "<svg width=\"1296pt\" height=\"642pt\"\n",
       " viewBox=\"0.00 0.00 1296.05 642.00\" xmlns=\"http://www.w3.org/2000/svg\" xmlns:xlink=\"http://www.w3.org/1999/xlink\">\n",
       "<g id=\"graph0\" class=\"graph\" transform=\"scale(1 1) rotate(0) translate(4 638)\">\n",
       "<title>graph_0lzv</title>\n",
       "<polygon fill=\"none\" stroke=\"none\" points=\"-4,4 -4,-638 1292.05,-638 1292.05,4 -4,4\"/>\n",
       "<!-- graph_0lzv -->\n",
       "<g id=\"node1\" class=\"node\">\n",
       "<title>graph_0lzv</title>\n",
       "<path fill=\"#428e92\" stroke=\"#000000\" stroke-opacity=\"0.333333\" d=\"M959.42,-634C959.42,-634 353.12,-634 353.12,-634 347.12,-634 341.12,-628 341.12,-622 341.12,-622 341.12,-595.2 341.12,-595.2 341.12,-589.2 347.12,-583.2 353.12,-583.2 353.12,-583.2 959.42,-583.2 959.42,-583.2 965.42,-583.2 971.42,-589.2 971.42,-595.2 971.42,-595.2 971.42,-622 971.42,-622 971.42,-628 965.42,-634 959.42,-634\"/>\n",
       "<text text-anchor=\"start\" x=\"565.15\" y=\"-610.15\" font-family=\"Red Hat Display,sans-serif\" font-weight=\"bold\" font-size=\"11.00\" fill=\"#000000\" fill-opacity=\"0.733333\">MAP_961R size ∈ int[0 4900000000]</text>\n",
       "<text text-anchor=\"start\" x=\"355.52\" y=\"-599.15\" font-family=\"Red Hat Display,sans-serif\" font-size=\"11.00\" fill=\"#000000\" fill-opacity=\"0.733333\">lorentz = case((field_vn3d = M), field_lwtv, field_bczw) ∈ float{42.5, 43.25, 44, 44.599999999999994, 44.75, 45.2, 45.5, 45.8...</text>\n",
       "</g>\n",
       "<!-- graph_16wf -->\n",
       "<g id=\"node2\" class=\"node\">\n",
       "<title>graph_16wf</title>\n",
       "<path fill=\"#ff616f\" stroke=\"#000000\" stroke-opacity=\"0.333333\" d=\"M985.67,-554.2C985.67,-554.2 326.88,-554.2 326.88,-554.2 320.88,-554.2 314.88,-548.2 314.88,-542.2 314.88,-542.2 314.88,-460.4 314.88,-460.4 314.88,-454.4 320.88,-448.4 326.88,-448.4 326.88,-448.4 985.67,-448.4 985.67,-448.4 991.67,-448.4 997.67,-454.4 997.67,-460.4 997.67,-460.4 997.67,-542.2 997.67,-542.2 997.67,-548.2 991.67,-554.2 985.67,-554.2\"/>\n",
       "<text text-anchor=\"start\" x=\"563.27\" y=\"-530.35\" font-family=\"Red Hat Display,sans-serif\" font-weight=\"bold\" font-size=\"11.00\" fill=\"#000000\" fill-opacity=\"0.733333\">JOIN_FKG7 size ∈ int[0 4900000000]</text>\n",
       "<text text-anchor=\"start\" x=\"584.27\" y=\"-519.35\" font-family=\"Red Hat Display,sans-serif\" font-size=\"11.00\" fill=\"#000000\" fill-opacity=\"0.733333\">field_yv9y = map_6vze.id ∈ int</text>\n",
       "<text text-anchor=\"start\" x=\"556.52\" y=\"-508.35\" font-family=\"Red Hat Display,sans-serif\" font-size=\"11.00\" fill=\"#000000\" fill-opacity=\"0.733333\">field_vn3d = map_6vze.gender ∈ str{F, M}</text>\n",
       "<text text-anchor=\"start\" x=\"329.27\" y=\"-497.35\" font-family=\"Red Hat Display,sans-serif\" font-size=\"11.00\" fill=\"#000000\" fill-opacity=\"0.733333\">field_bczw = map_6vze.female_lorentz ∈ float{44, 44.599999999999994, 45.2, 45.8, 46.39999999999999, 47, 47.599999999999994, 4...</text>\n",
       "<text text-anchor=\"start\" x=\"579.77\" y=\"-486.35\" font-family=\"Red Hat Display,sans-serif\" font-size=\"11.00\" fill=\"#000000\" fill-opacity=\"0.733333\">field_hvlm = map_wmbw.id ∈ int</text>\n",
       "<text text-anchor=\"start\" x=\"353.65\" y=\"-475.35\" font-family=\"Red Hat Display,sans-serif\" font-size=\"11.00\" fill=\"#000000\" fill-opacity=\"0.733333\">field_lwtv = map_wmbw.male_lorentz ∈ float{42.5, 43.25, 44, 44.75, 45.5, 46.25, 47, 47.75, 48.5, 49.25, 50, 50.75, 51.5, 52.2...</text>\n",
       "<text text-anchor=\"start\" x=\"556.52\" y=\"-464.35\" font-family=\"Red Hat Display,sans-serif\" font-size=\"11.00\" fill=\"#000000\" fill-opacity=\"0.733333\">LEFT ON (map_6vze.id = map_wmbw.id)</text>\n",
       "</g>\n",
       "<!-- graph_0lzv&#45;&gt;graph_16wf -->\n",
       "<g id=\"edge6\" class=\"edge\">\n",
       "<title>graph_0lzv&#45;&gt;graph_16wf</title>\n",
       "<path fill=\"none\" stroke=\"#2b303a\" d=\"M656.27,-582.91C656.27,-577.73 656.27,-572.03 656.27,-566.14\"/>\n",
       "<polygon fill=\"#2b303a\" stroke=\"#2b303a\" points=\"659.78,-566.16 656.28,-556.16 652.78,-566.16 659.78,-566.16\"/>\n",
       "</g>\n",
       "<!-- graph_3pew -->\n",
       "<g id=\"node3\" class=\"node\">\n",
       "<title>graph_3pew</title>\n",
       "<path fill=\"#428e92\" stroke=\"#000000\" stroke-opacity=\"0.333333\" d=\"M650.55,-419.4C650.55,-419.4 12,-419.4 12,-419.4 6,-419.4 0,-413.4 0,-407.4 0,-407.4 0,-358.6 0,-358.6 0,-352.6 6,-346.6 12,-346.6 12,-346.6 650.55,-346.6 650.55,-346.6 656.55,-346.6 662.55,-352.6 662.55,-358.6 662.55,-358.6 662.55,-407.4 662.55,-407.4 662.55,-413.4 656.55,-419.4 650.55,-419.4\"/>\n",
       "<text text-anchor=\"start\" x=\"254.4\" y=\"-395.55\" font-family=\"Red Hat Display,sans-serif\" font-weight=\"bold\" font-size=\"11.00\" fill=\"#000000\" fill-opacity=\"0.733333\">MAP_6VZE size ∈ int[0 70000]</text>\n",
       "<text text-anchor=\"start\" x=\"305.02\" y=\"-384.55\" font-family=\"Red Hat Display,sans-serif\" font-size=\"11.00\" fill=\"#000000\" fill-opacity=\"0.733333\">id = id ∈ int</text>\n",
       "<text text-anchor=\"start\" x=\"265.27\" y=\"-373.55\" font-family=\"Red Hat Display,sans-serif\" font-size=\"11.00\" fill=\"#000000\" fill-opacity=\"0.733333\">gender = gender ∈ str{F, M}</text>\n",
       "<text text-anchor=\"start\" x=\"14.4\" y=\"-362.55\" font-family=\"Red Hat Display,sans-serif\" font-size=\"11.00\" fill=\"#000000\" fill-opacity=\"0.733333\">female_lorentz = ((0.6 * height) &#45; 40) ∈ float{44, 44.599999999999994, 45.2, 45.8, 46.39999999999999, 47, 47.599999999999994,...</text>\n",
       "</g>\n",
       "<!-- graph_16wf&#45;&gt;graph_3pew -->\n",
       "<g id=\"edge4\" class=\"edge\">\n",
       "<title>graph_16wf&#45;&gt;graph_3pew</title>\n",
       "<path fill=\"none\" stroke=\"#2b303a\" d=\"M509.94,-447.93C487.06,-439.75 463.75,-431.41 441.85,-423.57\"/>\n",
       "<polygon fill=\"#2b303a\" stroke=\"#2b303a\" points=\"443.24,-420.35 432.64,-420.27 440.88,-426.94 443.24,-420.35\"/>\n",
       "</g>\n",
       "<!-- graph_60sh -->\n",
       "<g id=\"node4\" class=\"node\">\n",
       "<title>graph_60sh</title>\n",
       "<path fill=\"#428e92\" stroke=\"#000000\" stroke-opacity=\"0.333333\" d=\"M1276.05,-413.9C1276.05,-413.9 688.5,-413.9 688.5,-413.9 682.5,-413.9 676.5,-407.9 676.5,-401.9 676.5,-401.9 676.5,-364.1 676.5,-364.1 676.5,-358.1 682.5,-352.1 688.5,-352.1 688.5,-352.1 1276.05,-352.1 1276.05,-352.1 1282.05,-352.1 1288.05,-358.1 1288.05,-364.1 1288.05,-364.1 1288.05,-401.9 1288.05,-401.9 1288.05,-407.9 1282.05,-413.9 1276.05,-413.9\"/>\n",
       "<text text-anchor=\"start\" x=\"900.15\" y=\"-390.05\" font-family=\"Red Hat Display,sans-serif\" font-weight=\"bold\" font-size=\"11.00\" fill=\"#000000\" fill-opacity=\"0.733333\">MAP_WMBW size ∈ int[0 70000]</text>\n",
       "<text text-anchor=\"start\" x=\"956.02\" y=\"-379.05\" font-family=\"Red Hat Display,sans-serif\" font-size=\"11.00\" fill=\"#000000\" fill-opacity=\"0.733333\">id = id ∈ int</text>\n",
       "<text text-anchor=\"start\" x=\"690.9\" y=\"-368.05\" font-family=\"Red Hat Display,sans-serif\" font-size=\"11.00\" fill=\"#000000\" fill-opacity=\"0.733333\">male_lorentz = ((0.75 * height) &#45; 62.5) ∈ float{42.5, 43.25, 44, 44.75, 45.5, 46.25, 47, 47.75, 48.5, 49.25, 50, 50.75, 51.5,...</text>\n",
       "</g>\n",
       "<!-- graph_16wf&#45;&gt;graph_60sh -->\n",
       "<g id=\"edge5\" class=\"edge\">\n",
       "<title>graph_16wf&#45;&gt;graph_60sh</title>\n",
       "<path fill=\"none\" stroke=\"#2b303a\" d=\"M803.06,-447.93C831.43,-437.81 860.47,-427.46 886.68,-418.11\"/>\n",
       "<polygon fill=\"#2b303a\" stroke=\"#2b303a\" points=\"887.67,-421.47 895.91,-414.81 885.32,-414.87 887.67,-421.47\"/>\n",
       "</g>\n",
       "<!-- graph_j4_y -->\n",
       "<g id=\"node5\" class=\"node\">\n",
       "<title>graph_j4_y</title>\n",
       "<path fill=\"#428e92\" stroke=\"#000000\" stroke-opacity=\"0.333333\" d=\"M918.92,-317.6C918.92,-317.6 393.62,-317.6 393.62,-317.6 387.62,-317.6 381.62,-311.6 381.62,-305.6 381.62,-305.6 381.62,-223.8 381.62,-223.8 381.62,-217.8 387.62,-211.8 393.62,-211.8 393.62,-211.8 918.92,-211.8 918.92,-211.8 924.92,-211.8 930.92,-217.8 930.92,-223.8 930.92,-223.8 930.92,-305.6 930.92,-305.6 930.92,-311.6 924.92,-317.6 918.92,-317.6\"/>\n",
       "<text text-anchor=\"start\" x=\"578.65\" y=\"-293.75\" font-family=\"Red Hat Display,sans-serif\" font-weight=\"bold\" font-size=\"11.00\" fill=\"#000000\" fill-opacity=\"0.733333\">MAP_G1HL size ∈ int[0 70000]</text>\n",
       "<text text-anchor=\"start\" x=\"630.02\" y=\"-282.75\" font-family=\"Red Hat Display,sans-serif\" font-size=\"11.00\" fill=\"#000000\" fill-opacity=\"0.733333\">id = id ∈ int</text>\n",
       "<text text-anchor=\"start\" x=\"620.27\" y=\"-271.75\" font-family=\"Red Hat Display,sans-serif\" font-size=\"11.00\" fill=\"#000000\" fill-opacity=\"0.733333\">age = age ∈ int</text>\n",
       "<text text-anchor=\"start\" x=\"586.52\" y=\"-260.75\" font-family=\"Red Hat Display,sans-serif\" font-size=\"11.00\" fill=\"#000000\" fill-opacity=\"0.733333\">height = height ∈ int[140 200]</text>\n",
       "<text text-anchor=\"start\" x=\"582.77\" y=\"-249.75\" font-family=\"Red Hat Display,sans-serif\" font-size=\"11.00\" fill=\"#000000\" fill-opacity=\"0.733333\">weight = weight ∈ float[40 130]</text>\n",
       "<text text-anchor=\"start\" x=\"548.27\" y=\"-238.75\" font-family=\"Red Hat Display,sans-serif\" font-size=\"11.00\" fill=\"#000000\" fill-opacity=\"0.733333\">gender = case((gender = 1), M, F) ∈ str{F, M}</text>\n",
       "<text text-anchor=\"start\" x=\"396.02\" y=\"-227.75\" font-family=\"Red Hat Display,sans-serif\" font-size=\"11.00\" fill=\"#000000\" fill-opacity=\"0.733333\">WHERE (((((height &gt; 140) and (height &lt; 200)) and (weight &gt; 40)) and (weight &lt; 130)) and (gender in (1, 2)))</text>\n",
       "</g>\n",
       "<!-- graph_3pew&#45;&gt;graph_j4_y -->\n",
       "<g id=\"edge3\" class=\"edge\">\n",
       "<title>graph_3pew&#45;&gt;graph_j4_y</title>\n",
       "<path fill=\"none\" stroke=\"#2b303a\" d=\"M431.44,-346.16C452.95,-338.46 476.18,-330.15 499.26,-321.89\"/>\n",
       "<polygon fill=\"#2b303a\" stroke=\"#2b303a\" points=\"500.19,-325.27 508.42,-318.61 497.83,-318.68 500.19,-325.27\"/>\n",
       "</g>\n",
       "<!-- graph_60sh&#45;&gt;graph_j4_y -->\n",
       "<g id=\"edge2\" class=\"edge\">\n",
       "<title>graph_60sh&#45;&gt;graph_j4_y</title>\n",
       "<path fill=\"none\" stroke=\"#2b303a\" d=\"M897.47,-351.75C871.68,-342.55 842.47,-332.12 813.5,-321.79\"/>\n",
       "<polygon fill=\"#2b303a\" stroke=\"#2b303a\" points=\"814.86,-318.56 804.27,-318.5 812.51,-325.15 814.86,-318.56\"/>\n",
       "</g>\n",
       "<!-- graph_gtdh -->\n",
       "<g id=\"node6\" class=\"node\">\n",
       "<title>graph_gtdh</title>\n",
       "<path fill=\"#ff1744\" stroke=\"#000000\" stroke-opacity=\"0.333333\" d=\"M739.67,-182.8C739.67,-182.8 572.88,-182.8 572.88,-182.8 566.88,-182.8 560.88,-176.8 560.88,-170.8 560.88,-170.8 560.88,-12 560.88,-12 560.88,-6 566.88,0 572.88,0 572.88,0 739.67,0 739.67,0 745.67,0 751.67,-6 751.67,-12 751.67,-12 751.67,-170.8 751.67,-170.8 751.67,-176.8 745.67,-182.8 739.67,-182.8\"/>\n",
       "<text text-anchor=\"start\" x=\"575.27\" y=\"-158.95\" font-family=\"Red Hat Display,sans-serif\" font-weight=\"bold\" font-size=\"11.00\" fill=\"#ffffff\" fill-opacity=\"0.733333\">HEART_DATA size ∈ int{70000}</text>\n",
       "<text text-anchor=\"start\" x=\"630.02\" y=\"-147.95\" font-family=\"Red Hat Display,sans-serif\" font-size=\"11.00\" fill=\"#ffffff\" fill-opacity=\"0.733333\">id = id ∈ int</text>\n",
       "<text text-anchor=\"start\" x=\"620.27\" y=\"-136.95\" font-family=\"Red Hat Display,sans-serif\" font-size=\"11.00\" fill=\"#ffffff\" fill-opacity=\"0.733333\">age = age ∈ int</text>\n",
       "<text text-anchor=\"start\" x=\"604.52\" y=\"-125.95\" font-family=\"Red Hat Display,sans-serif\" font-size=\"11.00\" fill=\"#ffffff\" fill-opacity=\"0.733333\">gender = gender ∈ int</text>\n",
       "<text text-anchor=\"start\" x=\"609.02\" y=\"-114.95\" font-family=\"Red Hat Display,sans-serif\" font-size=\"11.00\" fill=\"#ffffff\" fill-opacity=\"0.733333\">height = height ∈ int</text>\n",
       "<text text-anchor=\"start\" x=\"602.27\" y=\"-103.95\" font-family=\"Red Hat Display,sans-serif\" font-size=\"11.00\" fill=\"#ffffff\" fill-opacity=\"0.733333\">weight = weight ∈ float</text>\n",
       "<text text-anchor=\"start\" x=\"612.02\" y=\"-92.95\" font-family=\"Red Hat Display,sans-serif\" font-size=\"11.00\" fill=\"#ffffff\" fill-opacity=\"0.733333\">ap_hi = ap_hi ∈ int</text>\n",
       "<text text-anchor=\"start\" x=\"612.02\" y=\"-81.95\" font-family=\"Red Hat Display,sans-serif\" font-size=\"11.00\" fill=\"#ffffff\" fill-opacity=\"0.733333\">ap_lo = ap_lo ∈ int</text>\n",
       "<text text-anchor=\"start\" x=\"586.52\" y=\"-70.95\" font-family=\"Red Hat Display,sans-serif\" font-size=\"11.00\" fill=\"#ffffff\" fill-opacity=\"0.733333\">cholesterol = cholesterol ∈ int</text>\n",
       "<text text-anchor=\"start\" x=\"618.77\" y=\"-59.95\" font-family=\"Red Hat Display,sans-serif\" font-size=\"11.00\" fill=\"#ffffff\" fill-opacity=\"0.733333\">gluc = gluc ∈ int</text>\n",
       "<text text-anchor=\"start\" x=\"606.77\" y=\"-48.95\" font-family=\"Red Hat Display,sans-serif\" font-size=\"11.00\" fill=\"#ffffff\" fill-opacity=\"0.733333\">smoke = smoke ∈ int</text>\n",
       "<text text-anchor=\"start\" x=\"618.77\" y=\"-37.95\" font-family=\"Red Hat Display,sans-serif\" font-size=\"11.00\" fill=\"#ffffff\" fill-opacity=\"0.733333\">alco = alco ∈ int</text>\n",
       "<text text-anchor=\"start\" x=\"610.52\" y=\"-26.95\" font-family=\"Red Hat Display,sans-serif\" font-size=\"11.00\" fill=\"#ffffff\" fill-opacity=\"0.733333\">active = active ∈ int</text>\n",
       "<text text-anchor=\"start\" x=\"609.02\" y=\"-15.95\" font-family=\"Red Hat Display,sans-serif\" font-size=\"11.00\" fill=\"#ffffff\" fill-opacity=\"0.733333\">cardio = cardio ∈ int</text>\n",
       "</g>\n",
       "<!-- graph_j4_y&#45;&gt;graph_gtdh -->\n",
       "<g id=\"edge1\" class=\"edge\">\n",
       "<title>graph_j4_y&#45;&gt;graph_gtdh</title>\n",
       "<path fill=\"none\" stroke=\"#2b303a\" d=\"M656.27,-211.37C656.27,-205.92 656.27,-200.25 656.27,-194.47\"/>\n",
       "<polygon fill=\"#2b303a\" stroke=\"#2b303a\" points=\"659.78,-194.79 656.28,-184.79 652.78,-194.79 659.78,-194.79\"/>\n",
       "</g>\n",
       "</g>\n",
       "</svg>\n"
      ],
      "text/plain": [
       "<graphviz.sources.Source at 0x11f6ca650>"
      ]
     },
     "metadata": {},
     "output_type": "display_data"
    }
   ],
   "source": [
    "query = \"\"\"\n",
    "WITH\n",
    "    bounds_table AS (\n",
    "        SELECT\n",
    "            id,\n",
    "            age,\n",
    "            height,\n",
    "            weight,\n",
    "            CASE WHEN gender = 1 THEN 'M' ELSE 'F' END AS gender\n",
    "        FROM heart_data\n",
    "        WHERE\n",
    "            height > 140 AND height < 200 AND\n",
    "            weight > 40.00 AND weight < 130. AND\n",
    "            gender IN (1, 2)\n",
    "    ),\n",
    "    female_table AS (\n",
    "        SELECT\n",
    "            id,\n",
    "            gender,\n",
    "            0.6 * height -40.0 AS female_lorentz\n",
    "        FROM bounds_table\n",
    "    ),\n",
    "    male_table AS (\n",
    "        SELECT\n",
    "            id,\n",
    "            0.75 * height - 62.5 AS male_lorentz\n",
    "        FROM bounds_table\n",
    "    )\n",
    "SELECT CASE WHEN gender = 'M' THEN male_lorentz else female_lorentz END AS lorentz FROM female_table LEFT JOIN male_table ON female_table.id = male_table.id\n",
    "\"\"\"\n",
    "relation = ds.sql(query)\n",
    "\n",
    "display_dot(relation.dot())"
   ]
  },
  {
   "cell_type": "markdown",
   "metadata": {},
   "source": [
    "Once more, in this example, you can trace follow the propagation of the ranges as they propagate throughout all the relations.\n",
    "\n",
    "Finally, the propagated ranges for the Lorentz formula are:"
   ]
  },
  {
   "cell_type": "code",
   "execution_count": 13,
   "metadata": {},
   "outputs": [
    {
     "data": {
      "text/plain": [
       "'{lorentz: float{42.5, 43.25, 44, 44.599999999999994, 44.75, 45.2, 45.5, 45.8, 46.25, 46.39999999999999, 47, 47.599999999999994, 47.75, 48.2, 48.5, 48.8, 49.25, 49.39999999999999, 50, 50.599999999999994, 50.75, 51.2, 51.5, 51.8, 52.25, 52.39999999999999, 53, 53.599999999999994, 53.75, 54.2, 54.5, 54.8, 55.25, 55.39999999999999, 56, 56.599999999999994, 56.75, 57.2, 57.5, 57.8, 58.25, 58.39999999999999, 59, 59.599999999999994, 59.75, 60.2, 60.5, 60.8, 61.25, 61.39999999999999, 62, 62.599999999999994, 62.75, 63.2, 63.5, 63.8, 64.25, 64.39999999999999, 65, 65.6, 65.75, 66.2, 66.5, 66.8, 67.25, 67.39999999999999, 68, 68.6, 68.75, 69.2, 69.5, 69.8, 70.25, 70.39999999999999, 71, 71.6, 71.75, 72.2, 72.5, 72.8, 73.25, 73.39999999999999, 74, 74.6, 74.75, 75.19999999999999, 75.5, 75.8, 76.25, 76.39999999999999, 77, 77.6, 77.75, 78.19999999999999, 78.5, 78.8, 79.25, 79.39999999999999, 80, 80.75, 81.5, 82.25, 83, 83.75, 84.5, 85.25, 86, 86.75, 87.5}}'"
      ]
     },
     "execution_count": 13,
     "metadata": {},
     "output_type": "execute_result"
    }
   ],
   "source": [
    "relation.schema()"
   ]
  },
  {
   "cell_type": "markdown",
   "metadata": {},
   "source": [
    "The exact ranges are: "
   ]
  },
  {
   "cell_type": "code",
   "execution_count": 14,
   "metadata": {},
   "outputs": [
    {
     "name": "stdout",
     "output_type": "stream",
     "text": [
      "lorentz: [43.25, 86.0]\n"
     ]
    }
   ],
   "source": [
    "df = pd.DataFrame(qdb.eval(relation))\n",
    "print(f\"lorentz: [{df['lorentz'].min()}, {df['lorentz'].max()}]\")\n"
   ]
  },
  {
   "cell_type": "markdown",
   "metadata": {},
   "source": [
    "In certain scenarios, when there's a high correlation between columns, it might not be advisable to use propagated ranges. \n",
    "This is because the accurate range could be influenced by significant correlations that are not evident from external data. \n",
    "In such instances, it could be beneficial to allocate budget towards computing ranges using the automatic boundary determination algorithm ([Wilson et al. 2019](https://arxiv.org/abs/1909.01917))."
   ]
  },
  {
   "cell_type": "markdown",
   "metadata": {},
   "source": [
    "However, how can an analyst without free database access determine whether he should allocate budget to compute the ranges?\n",
    "\n",
    "This is where utilizing Sarus becomes advantageous. \n",
    "\n",
    "By employing [Sarus](https://www.sarus.tech/), the analyst gains **access to a synthetic dataset** wherein inter-column correlations are replicated.\n",
    "\n",
    "This empowers the analyst to **devise a strategy without expending privacy resources**, as they can scrutinize the synthetic dataset for insights and make informed decisions."
   ]
  }
 ],
 "metadata": {
  "kernelspec": {
   "display_name": "myenv",
   "language": "python",
   "name": "python3"
  },
  "language_info": {
   "codemirror_mode": {
    "name": "ipython",
    "version": 3
   },
   "file_extension": ".py",
   "mimetype": "text/x-python",
   "name": "python",
   "nbconvert_exporter": "python",
   "pygments_lexer": "ipython3",
   "version": "3.9.0"
  },
  "orig_nbformat": 4
 },
 "nbformat": 4,
 "nbformat_minor": 2
}
