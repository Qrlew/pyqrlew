{
 "cells": [
  {
   "cell_type": "markdown",
   "metadata": {},
   "source": [
    "# Automatic range computation"
   ]
  },
  {
   "cell_type": "markdown",
   "metadata": {},
   "source": [
    "[Differential privacy](https://en.wikipedia.org/wiki/Differential_privacy) focuses on revealing data aggregation outcomes while diminishing the impact of any single person on the overall collective result. \n",
    "This principle operates via a tandem of interconnected stages that can be adapted to various analytical scenarios, spanning SQL queries, conventional statistical analyses, and even deep learning tasks.\n",
    "\n",
    "- **Data bounding**: This phase involves refining the data by excluding outliers and constraining it within rational limits. For instance, considering the `age` column of a census dataset, it is reasonable to constrain the age values between 18 and 100 and adjust the extreme values to the nearest boundary.\n",
    "\n",
    "- **Noise Introduction**: We inject into each aggregation a level of noise that is calibrated by the privacy parameters and the **sensitivity**, i.e. the maximum potential influence an individual could have over the final result.\n",
    "\n",
    "The second phase is inherently intertwined with the first, since the the **sensitivity** in computed from the boundaries set in the initial phase. \n",
    "If we significantly overestimate these bounds, it could lead to a substantial increase in noise. \n",
    "This, in turn, would undermine the usefulness of the analysis."
   ]
  },
  {
   "cell_type": "markdown",
   "metadata": {},
   "source": [
    "In this post, we'll focus on the **data bounding stage applied to SQL analysis** using the [`qrlew`](https://qrlew.github.io/) framework. "
   ]
  },
  {
   "cell_type": "code",
   "execution_count": 1,
   "metadata": {},
   "outputs": [],
   "source": [
    "import logging\n",
    "logging.disable(logging.INFO)"
   ]
  },
  {
   "cell_type": "code",
   "execution_count": 2,
   "metadata": {},
   "outputs": [
    {
     "name": "stdout",
     "output_type": "stream",
     "text": [
      "Requirement already satisfied: graphviz in /Users/victoriadesainteagathe/Documents/codes/DP-SQL/pyqrlew/myenv/lib/python3.9/site-packages (0.20.1)\n",
      "\u001b[33mWARNING: You are using pip version 20.2.3; however, version 23.3.2 is available.\n",
      "You should consider upgrading via the '/Users/victoriadesainteagathe/Documents/codes/DP-SQL/pyqrlew/myenv/bin/python -m pip install --upgrade pip' command.\u001b[0m\n",
      "Note: you may need to restart the kernel to use updated packages.\n",
      "Requirement already satisfied: pyqrlew in /Users/victoriadesainteagathe/Documents/codes/DP-SQL/pyqrlew/myenv/lib/python3.9/site-packages (0.5.3)\n",
      "Requirement already satisfied: psycopg2<3.0 in /Users/victoriadesainteagathe/Documents/codes/DP-SQL/pyqrlew/myenv/lib/python3.9/site-packages (from pyqrlew) (2.9.7)\n",
      "Requirement already satisfied: pandas~=1.0 in /Users/victoriadesainteagathe/Documents/codes/DP-SQL/pyqrlew/myenv/lib/python3.9/site-packages (from pyqrlew) (1.5.3)\n",
      "Requirement already satisfied: importlib_resources<6.0 in /Users/victoriadesainteagathe/Documents/codes/DP-SQL/pyqrlew/myenv/lib/python3.9/site-packages (from pyqrlew) (5.12.0)\n",
      "Requirement already satisfied: qrlew-datasets~=0.5 in /Users/victoriadesainteagathe/Documents/codes/DP-SQL/pyqrlew/myenv/lib/python3.9/site-packages (from pyqrlew) (0.5.0)\n",
      "Requirement already satisfied: pymysql~=1.0 in /Users/victoriadesainteagathe/Documents/codes/DP-SQL/pyqrlew/myenv/lib/python3.9/site-packages (from pyqrlew) (1.1.0)\n",
      "Requirement already satisfied: SQLAlchemy<2.0 in /Users/victoriadesainteagathe/Documents/codes/DP-SQL/pyqrlew/myenv/lib/python3.9/site-packages (from pyqrlew) (1.4.49)\n",
      "Requirement already satisfied: pytz>=2020.1 in /Users/victoriadesainteagathe/Documents/codes/DP-SQL/pyqrlew/myenv/lib/python3.9/site-packages (from pandas~=1.0->pyqrlew) (2023.3)\n",
      "Requirement already satisfied: python-dateutil>=2.8.1 in /Users/victoriadesainteagathe/Documents/codes/DP-SQL/pyqrlew/myenv/lib/python3.9/site-packages (from pandas~=1.0->pyqrlew) (2.8.2)\n",
      "Requirement already satisfied: numpy>=1.20.3; python_version < \"3.10\" in /Users/victoriadesainteagathe/Documents/codes/DP-SQL/pyqrlew/myenv/lib/python3.9/site-packages (from pandas~=1.0->pyqrlew) (1.24.3)\n",
      "Requirement already satisfied: zipp>=3.1.0; python_version < \"3.10\" in /Users/victoriadesainteagathe/Documents/codes/DP-SQL/pyqrlew/myenv/lib/python3.9/site-packages (from importlib_resources<6.0->pyqrlew) (3.15.0)\n",
      "Requirement already satisfied: termcolor<3.0.0,>=2.3.0 in /Users/victoriadesainteagathe/Documents/codes/DP-SQL/pyqrlew/myenv/lib/python3.9/site-packages (from qrlew-datasets~=0.5->pyqrlew) (2.3.0)\n",
      "Requirement already satisfied: greenlet!=0.4.17 in /Users/victoriadesainteagathe/Documents/codes/DP-SQL/pyqrlew/myenv/lib/python3.9/site-packages (from SQLAlchemy<2.0->pyqrlew) (2.0.2)\n",
      "Requirement already satisfied: six>=1.5 in /Users/victoriadesainteagathe/Documents/codes/DP-SQL/pyqrlew/myenv/lib/python3.9/site-packages (from python-dateutil>=2.8.1->pandas~=1.0->pyqrlew) (1.16.0)\n",
      "\u001b[33mWARNING: You are using pip version 20.2.3; however, version 23.3.2 is available.\n",
      "You should consider upgrading via the '/Users/victoriadesainteagathe/Documents/codes/DP-SQL/pyqrlew/myenv/bin/python -m pip install --upgrade pip' command.\u001b[0m\n",
      "Note: you may need to restart the kernel to use updated packages.\n"
     ]
    }
   ],
   "source": [
    "%pip install graphviz\n",
    "%pip install pyqrlew"
   ]
  },
  {
   "cell_type": "markdown",
   "metadata": {},
   "source": [
    "We load a csv extract of the [Kuzak Dempsy's dataset](https://data.world/kudem):"
   ]
  },
  {
   "cell_type": "code",
   "execution_count": 3,
   "metadata": {},
   "outputs": [],
   "source": [
    "import pyqrlew as pq\n",
    "qdb = pq.from_csv(\n",
    "    table_name=\"heart_data\",\n",
    "    csv_file=\"https://storage.googleapis.com/qrlew-demo-data/heart_data.csv\"\n",
    ")"
   ]
  },
  {
   "cell_type": "code",
   "execution_count": 4,
   "metadata": {},
   "outputs": [
    {
     "data": {
      "text/html": [
       "<div>\n",
       "<style scoped>\n",
       "    .dataframe tbody tr th:only-of-type {\n",
       "        vertical-align: middle;\n",
       "    }\n",
       "\n",
       "    .dataframe tbody tr th {\n",
       "        vertical-align: top;\n",
       "    }\n",
       "\n",
       "    .dataframe thead th {\n",
       "        text-align: right;\n",
       "    }\n",
       "</style>\n",
       "<table border=\"1\" class=\"dataframe\">\n",
       "  <thead>\n",
       "    <tr style=\"text-align: right;\">\n",
       "      <th></th>\n",
       "      <th>id</th>\n",
       "      <th>age</th>\n",
       "      <th>gender</th>\n",
       "      <th>height</th>\n",
       "      <th>weight</th>\n",
       "      <th>ap_hi</th>\n",
       "      <th>ap_lo</th>\n",
       "      <th>cholesterol</th>\n",
       "      <th>gluc</th>\n",
       "      <th>smoke</th>\n",
       "      <th>alco</th>\n",
       "      <th>active</th>\n",
       "      <th>cardio</th>\n",
       "    </tr>\n",
       "  </thead>\n",
       "  <tbody>\n",
       "    <tr>\n",
       "      <th>0</th>\n",
       "      <td>0</td>\n",
       "      <td>18393</td>\n",
       "      <td>2</td>\n",
       "      <td>168</td>\n",
       "      <td>62.0</td>\n",
       "      <td>110</td>\n",
       "      <td>80</td>\n",
       "      <td>1</td>\n",
       "      <td>1</td>\n",
       "      <td>0</td>\n",
       "      <td>0</td>\n",
       "      <td>1</td>\n",
       "      <td>0</td>\n",
       "    </tr>\n",
       "    <tr>\n",
       "      <th>1</th>\n",
       "      <td>1</td>\n",
       "      <td>20228</td>\n",
       "      <td>1</td>\n",
       "      <td>156</td>\n",
       "      <td>85.0</td>\n",
       "      <td>140</td>\n",
       "      <td>90</td>\n",
       "      <td>3</td>\n",
       "      <td>1</td>\n",
       "      <td>0</td>\n",
       "      <td>0</td>\n",
       "      <td>1</td>\n",
       "      <td>1</td>\n",
       "    </tr>\n",
       "    <tr>\n",
       "      <th>2</th>\n",
       "      <td>2</td>\n",
       "      <td>18857</td>\n",
       "      <td>1</td>\n",
       "      <td>165</td>\n",
       "      <td>64.0</td>\n",
       "      <td>130</td>\n",
       "      <td>70</td>\n",
       "      <td>3</td>\n",
       "      <td>1</td>\n",
       "      <td>0</td>\n",
       "      <td>0</td>\n",
       "      <td>0</td>\n",
       "      <td>1</td>\n",
       "    </tr>\n",
       "    <tr>\n",
       "      <th>3</th>\n",
       "      <td>3</td>\n",
       "      <td>17623</td>\n",
       "      <td>2</td>\n",
       "      <td>169</td>\n",
       "      <td>82.0</td>\n",
       "      <td>150</td>\n",
       "      <td>100</td>\n",
       "      <td>1</td>\n",
       "      <td>1</td>\n",
       "      <td>0</td>\n",
       "      <td>0</td>\n",
       "      <td>1</td>\n",
       "      <td>1</td>\n",
       "    </tr>\n",
       "    <tr>\n",
       "      <th>4</th>\n",
       "      <td>4</td>\n",
       "      <td>17474</td>\n",
       "      <td>1</td>\n",
       "      <td>156</td>\n",
       "      <td>56.0</td>\n",
       "      <td>100</td>\n",
       "      <td>60</td>\n",
       "      <td>1</td>\n",
       "      <td>1</td>\n",
       "      <td>0</td>\n",
       "      <td>0</td>\n",
       "      <td>0</td>\n",
       "      <td>0</td>\n",
       "    </tr>\n",
       "  </tbody>\n",
       "</table>\n",
       "</div>"
      ],
      "text/plain": [
       "   id    age  gender  height  weight  ap_hi  ap_lo  cholesterol  gluc  smoke  \\\n",
       "0   0  18393       2     168    62.0    110     80            1     1      0   \n",
       "1   1  20228       1     156    85.0    140     90            3     1      0   \n",
       "2   2  18857       1     165    64.0    130     70            3     1      0   \n",
       "3   3  17623       2     169    82.0    150    100            1     1      0   \n",
       "4   4  17474       1     156    56.0    100     60            1     1      0   \n",
       "\n",
       "   alco  active  cardio  \n",
       "0     0       1       0  \n",
       "1     0       1       1  \n",
       "2     0       0       1  \n",
       "3     0       1       1  \n",
       "4     0       0       0  "
      ]
     },
     "execution_count": 4,
     "metadata": {},
     "output_type": "execute_result"
    }
   ],
   "source": [
    "import pandas as pd\n",
    "pd.DataFrame(qdb.execute(\"SELECT * FROM heart_data\")).head()"
   ]
  },
  {
   "cell_type": "markdown",
   "metadata": {},
   "source": [
    "Qrlew transforms each SQL notion into a `Relation`, which serves as an intermediate representation that is well-suited for multiple query rewriting purposes.\n",
    "\n",
    "The `heart_data` table finds its representation as follows:"
   ]
  },
  {
   "cell_type": "code",
   "execution_count": 5,
   "metadata": {},
   "outputs": [
    {
     "data": {
      "image/svg+xml": [
       "<?xml version=\"1.0\" encoding=\"UTF-8\" standalone=\"no\"?>\n",
       "<!DOCTYPE svg PUBLIC \"-//W3C//DTD SVG 1.1//EN\"\n",
       " \"http://www.w3.org/Graphics/SVG/1.1/DTD/svg11.dtd\">\n",
       "<!-- Generated by graphviz version 8.1.0 (20230707.0739)\n",
       " -->\n",
       "<!-- Title: graph_fuyl Pages: 1 -->\n",
       "<svg width=\"199pt\" height=\"191pt\"\n",
       " viewBox=\"0.00 0.00 198.80 190.80\" xmlns=\"http://www.w3.org/2000/svg\" xmlns:xlink=\"http://www.w3.org/1999/xlink\">\n",
       "<g id=\"graph0\" class=\"graph\" transform=\"scale(1 1) rotate(0) translate(4 186.8)\">\n",
       "<title>graph_fuyl</title>\n",
       "<polygon fill=\"none\" stroke=\"none\" points=\"-4,4 -4,-186.8 194.8,-186.8 194.8,4 -4,4\"/>\n",
       "<!-- graph_fuyl -->\n",
       "<g id=\"node1\" class=\"node\">\n",
       "<title>graph_fuyl</title>\n",
       "<path fill=\"#ff1744\" stroke=\"#000000\" stroke-opacity=\"0.333333\" d=\"M178.8,-182.8C178.8,-182.8 12,-182.8 12,-182.8 6,-182.8 0,-176.8 0,-170.8 0,-170.8 0,-12 0,-12 0,-6 6,0 12,0 12,0 178.8,0 178.8,0 184.8,0 190.8,-6 190.8,-12 190.8,-12 190.8,-170.8 190.8,-170.8 190.8,-176.8 184.8,-182.8 178.8,-182.8\"/>\n",
       "<text text-anchor=\"start\" x=\"14.4\" y=\"-158.95\" font-family=\"Red Hat Display,sans-serif\" font-weight=\"bold\" font-size=\"11.00\" fill=\"#ffffff\" fill-opacity=\"0.733333\">HEART_DATA size ∈ int{70000}</text>\n",
       "<text text-anchor=\"start\" x=\"46.65\" y=\"-147.95\" font-family=\"Red Hat Display,sans-serif\" font-size=\"11.00\" fill=\"#ffffff\" fill-opacity=\"0.733333\">id = id ∈ int[0 99999]</text>\n",
       "<text text-anchor=\"start\" x=\"24.9\" y=\"-136.95\" font-family=\"Red Hat Display,sans-serif\" font-size=\"11.00\" fill=\"#ffffff\" fill-opacity=\"0.733333\">age = age ∈ int[10798 23713]</text>\n",
       "<text text-anchor=\"start\" x=\"33.15\" y=\"-125.95\" font-family=\"Red Hat Display,sans-serif\" font-size=\"11.00\" fill=\"#ffffff\" fill-opacity=\"0.733333\">gender = gender ∈ int[1 2]</text>\n",
       "<text text-anchor=\"start\" x=\"28.65\" y=\"-114.95\" font-family=\"Red Hat Display,sans-serif\" font-size=\"11.00\" fill=\"#ffffff\" fill-opacity=\"0.733333\">height = height ∈ int[55 250]</text>\n",
       "<text text-anchor=\"start\" x=\"21.9\" y=\"-103.95\" font-family=\"Red Hat Display,sans-serif\" font-size=\"11.00\" fill=\"#ffffff\" fill-opacity=\"0.733333\">weight = weight ∈ float[10 200]</text>\n",
       "<text text-anchor=\"start\" x=\"20.78\" y=\"-92.95\" font-family=\"Red Hat Display,sans-serif\" font-size=\"11.00\" fill=\"#ffffff\" fill-opacity=\"0.733333\">ap_hi = ap_hi ∈ int[&#45;150 16020]</text>\n",
       "<text text-anchor=\"start\" x=\"23.78\" y=\"-81.95\" font-family=\"Red Hat Display,sans-serif\" font-size=\"11.00\" fill=\"#ffffff\" fill-opacity=\"0.733333\">ap_lo = ap_lo ∈ int[&#45;70 11000]</text>\n",
       "<text text-anchor=\"start\" x=\"15.15\" y=\"-70.95\" font-family=\"Red Hat Display,sans-serif\" font-size=\"11.00\" fill=\"#ffffff\" fill-opacity=\"0.733333\">cholesterol = cholesterol ∈ int[1 3]</text>\n",
       "<text text-anchor=\"start\" x=\"47.4\" y=\"-59.95\" font-family=\"Red Hat Display,sans-serif\" font-size=\"11.00\" fill=\"#ffffff\" fill-opacity=\"0.733333\">gluc = gluc ∈ int[1 3]</text>\n",
       "<text text-anchor=\"start\" x=\"35.4\" y=\"-48.95\" font-family=\"Red Hat Display,sans-serif\" font-size=\"11.00\" fill=\"#ffffff\" fill-opacity=\"0.733333\">smoke = smoke ∈ int[0 1]</text>\n",
       "<text text-anchor=\"start\" x=\"47.4\" y=\"-37.95\" font-family=\"Red Hat Display,sans-serif\" font-size=\"11.00\" fill=\"#ffffff\" fill-opacity=\"0.733333\">alco = alco ∈ int[0 1]</text>\n",
       "<text text-anchor=\"start\" x=\"39.15\" y=\"-26.95\" font-family=\"Red Hat Display,sans-serif\" font-size=\"11.00\" fill=\"#ffffff\" fill-opacity=\"0.733333\">active = active ∈ int[0 1]</text>\n",
       "<text text-anchor=\"start\" x=\"37.65\" y=\"-15.95\" font-family=\"Red Hat Display,sans-serif\" font-size=\"11.00\" fill=\"#ffffff\" fill-opacity=\"0.733333\">cardio = cardio ∈ int[0 1]</text>\n",
       "</g>\n",
       "</g>\n",
       "</svg>\n"
      ],
      "text/plain": [
       "<graphviz.sources.Source at 0x1224035e0>"
      ]
     },
     "metadata": {},
     "output_type": "display_data"
    }
   ],
   "source": [
    "import graphviz\n",
    "\n",
    "def display_dot(dot_graph):\n",
    "    display(graphviz.Source(dot_graph))\n",
    "\n",
    "ds = qdb.dataset()\n",
    "display_dot(ds.relations()[0][1].dot())"
   ]
  },
  {
   "cell_type": "markdown",
   "metadata": {},
   "source": [
    "The `Relation` object holds information about columns and their associated Qrlew [data types](https://github.com/Qrlew/qrlew/blob/b4960d57b7ac047b525c36b9cb9eb3395e0f4029/src/data_type/mod.rs#L2207) (including bounds).\n",
    "\n",
    "These Qrlew data types are transformed from the database's original types. \n",
    "Therefore, when importing data from sources like CSV files or pandas DataFrames that lack support for certain types (such as bytes or lists), \n",
    "you may sacrifice the detailed distinctions that Qrlew offers."
   ]
  },
  {
   "cell_type": "markdown",
   "metadata": {},
   "source": [
    "## Bound the columns of a table"
   ]
  },
  {
   "cell_type": "markdown",
   "metadata": {},
   "source": [
    "We adopt the perspective of the data owner, who aims to safeguard user privacy. We focus on a subset of the heart_data containing four columns:\n",
    "\n",
    "- `id` (integer):  contains unique identifiers, which must remain confidential,\n",
    "- `gender` (integer): 1 (Male) or 2 (Female),\n",
    "- `height` (integer), \n",
    "- `weight` (integer).\n",
    "\n",
    "We need to bounds the `height` and `weight` columns. \n",
    "We can limit the height to a range of 140 to 200 and the weight to a range of 40 to 130 kg.\n"
   ]
  },
  {
   "cell_type": "markdown",
   "metadata": {},
   "source": [
    "The data preparation involves creating a new dataset with specific column transformations:\n",
    "- `id` (integer): remains unchanged\n",
    "- `gender` (string): exclude values other than 1 or 2 then replace 0 with 'M', 1 with 'F',\n",
    "- `height` (float): exclude values outside the range [140.0, 200.0],\n",
    "- `weight` (float): exclude values outside the range [40.0, 130.0].\n",
    "\n",
    "This preparation can be transcripted as an SQL query: "
   ]
  },
  {
   "cell_type": "code",
   "execution_count": 6,
   "metadata": {},
   "outputs": [],
   "source": [
    "query = \"\"\"\n",
    "WITH\n",
    "    bounds_table AS (SELECT\n",
    "        id,\n",
    "        height,\n",
    "        weight,\n",
    "        CASE WHEN id = 1 THEN 'M' ELSE 'F' END AS gender\n",
    "    FROM heart_data\n",
    "    WHERE\n",
    "        height > 140. AND height < 200. AND\n",
    "        weight > 40. AND weight < 130. AND\n",
    "        gender IN (1, 2)\n",
    "    )\n",
    "SELECT * FROM bounds_table\n",
    "\"\"\""
   ]
  },
  {
   "cell_type": "markdown",
   "metadata": {},
   "source": [
    "We define a new `Relation` that mirrors the dataset's SQL query operation:"
   ]
  },
  {
   "cell_type": "code",
   "execution_count": 7,
   "metadata": {},
   "outputs": [
    {
     "data": {
      "image/svg+xml": [
       "<?xml version=\"1.0\" encoding=\"UTF-8\" standalone=\"no\"?>\n",
       "<!DOCTYPE svg PUBLIC \"-//W3C//DTD SVG 1.1//EN\"\n",
       " \"http://www.w3.org/Graphics/SVG/1.1/DTD/svg11.dtd\">\n",
       "<!-- Generated by graphviz version 8.1.0 (20230707.0739)\n",
       " -->\n",
       "<!-- Title: graph_4ckb Pages: 1 -->\n",
       "<svg width=\"557pt\" height=\"427pt\"\n",
       " viewBox=\"0.00 0.00 557.30 427.40\" xmlns=\"http://www.w3.org/2000/svg\" xmlns:xlink=\"http://www.w3.org/1999/xlink\">\n",
       "<g id=\"graph0\" class=\"graph\" transform=\"scale(1 1) rotate(0) translate(4 423.4)\">\n",
       "<title>graph_4ckb</title>\n",
       "<polygon fill=\"none\" stroke=\"none\" points=\"-4,4 -4,-423.4 553.3,-423.4 553.3,4 -4,4\"/>\n",
       "<!-- graph_4ckb -->\n",
       "<g id=\"node1\" class=\"node\">\n",
       "<title>graph_4ckb</title>\n",
       "<path fill=\"#428e92\" stroke=\"#000000\" stroke-opacity=\"0.333333\" d=\"M353.17,-419.4C353.17,-419.4 196.12,-419.4 196.12,-419.4 190.12,-419.4 184.12,-413.4 184.12,-407.4 184.12,-407.4 184.12,-347.6 184.12,-347.6 184.12,-341.6 190.12,-335.6 196.12,-335.6 196.12,-335.6 353.17,-335.6 353.17,-335.6 359.17,-335.6 365.17,-341.6 365.17,-347.6 365.17,-347.6 365.17,-407.4 365.17,-407.4 365.17,-413.4 359.17,-419.4 353.17,-419.4\"/>\n",
       "<text text-anchor=\"start\" x=\"198.52\" y=\"-395.55\" font-family=\"Red Hat Display,sans-serif\" font-weight=\"bold\" font-size=\"11.00\" fill=\"#000000\" fill-opacity=\"0.733333\">MAP_YA65 size ∈ int[0 70000]</text>\n",
       "<text text-anchor=\"start\" x=\"225.9\" y=\"-384.55\" font-family=\"Red Hat Display,sans-serif\" font-size=\"11.00\" fill=\"#000000\" fill-opacity=\"0.733333\">id = id ∈ int[0 99999]</text>\n",
       "<text text-anchor=\"start\" x=\"204.9\" y=\"-373.55\" font-family=\"Red Hat Display,sans-serif\" font-size=\"11.00\" fill=\"#000000\" fill-opacity=\"0.733333\">height = height ∈ int[140 200]</text>\n",
       "<text text-anchor=\"start\" x=\"201.15\" y=\"-362.55\" font-family=\"Red Hat Display,sans-serif\" font-size=\"11.00\" fill=\"#000000\" fill-opacity=\"0.733333\">weight = weight ∈ float[40 130]</text>\n",
       "<text text-anchor=\"start\" x=\"208.65\" y=\"-351.55\" font-family=\"Red Hat Display,sans-serif\" font-size=\"11.00\" fill=\"#000000\" fill-opacity=\"0.733333\">gender = gender ∈ str{F, M}</text>\n",
       "</g>\n",
       "<!-- graph_nvls -->\n",
       "<g id=\"node2\" class=\"node\">\n",
       "<title>graph_nvls</title>\n",
       "<path fill=\"#428e92\" stroke=\"#000000\" stroke-opacity=\"0.333333\" d=\"M537.3,-306.6C537.3,-306.6 12,-306.6 12,-306.6 6,-306.6 0,-300.6 0,-294.6 0,-294.6 0,-223.8 0,-223.8 0,-217.8 6,-211.8 12,-211.8 12,-211.8 537.3,-211.8 537.3,-211.8 543.3,-211.8 549.3,-217.8 549.3,-223.8 549.3,-223.8 549.3,-294.6 549.3,-294.6 549.3,-300.6 543.3,-306.6 537.3,-306.6\"/>\n",
       "<text text-anchor=\"start\" x=\"195.52\" y=\"-282.75\" font-family=\"Red Hat Display,sans-serif\" font-weight=\"bold\" font-size=\"11.00\" fill=\"#000000\" fill-opacity=\"0.733333\">MAP_BYMP size ∈ int[0 70000]</text>\n",
       "<text text-anchor=\"start\" x=\"225.9\" y=\"-271.75\" font-family=\"Red Hat Display,sans-serif\" font-size=\"11.00\" fill=\"#000000\" fill-opacity=\"0.733333\">id = id ∈ int[0 99999]</text>\n",
       "<text text-anchor=\"start\" x=\"204.9\" y=\"-260.75\" font-family=\"Red Hat Display,sans-serif\" font-size=\"11.00\" fill=\"#000000\" fill-opacity=\"0.733333\">height = height ∈ int[140 200]</text>\n",
       "<text text-anchor=\"start\" x=\"201.15\" y=\"-249.75\" font-family=\"Red Hat Display,sans-serif\" font-size=\"11.00\" fill=\"#000000\" fill-opacity=\"0.733333\">weight = weight ∈ float[40 130]</text>\n",
       "<text text-anchor=\"start\" x=\"179.4\" y=\"-238.75\" font-family=\"Red Hat Display,sans-serif\" font-size=\"11.00\" fill=\"#000000\" fill-opacity=\"0.733333\">gender = case((id = 1), M, F) ∈ str{F, M}</text>\n",
       "<text text-anchor=\"start\" x=\"14.4\" y=\"-227.75\" font-family=\"Red Hat Display,sans-serif\" font-size=\"11.00\" fill=\"#000000\" fill-opacity=\"0.733333\">WHERE (((((height &gt; 140) and (height &lt; 200)) and (weight &gt; 40)) and (weight &lt; 130)) and (gender in (1, 2)))</text>\n",
       "</g>\n",
       "<!-- graph_4ckb&#45;&gt;graph_nvls -->\n",
       "<g id=\"edge2\" class=\"edge\">\n",
       "<title>graph_4ckb&#45;&gt;graph_nvls</title>\n",
       "<path fill=\"none\" stroke=\"#2b303a\" d=\"M274.65,-335.17C274.65,-329.46 274.65,-323.51 274.65,-317.57\"/>\n",
       "<polygon fill=\"#2b303a\" stroke=\"#2b303a\" points=\"278.15,-317.94 274.65,-307.94 271.15,-317.94 278.15,-317.94\"/>\n",
       "</g>\n",
       "<!-- graph_fuyl -->\n",
       "<g id=\"node3\" class=\"node\">\n",
       "<title>graph_fuyl</title>\n",
       "<path fill=\"#ff1744\" stroke=\"#000000\" stroke-opacity=\"0.333333\" d=\"M358.05,-182.8C358.05,-182.8 191.25,-182.8 191.25,-182.8 185.25,-182.8 179.25,-176.8 179.25,-170.8 179.25,-170.8 179.25,-12 179.25,-12 179.25,-6 185.25,0 191.25,0 191.25,0 358.05,0 358.05,0 364.05,0 370.05,-6 370.05,-12 370.05,-12 370.05,-170.8 370.05,-170.8 370.05,-176.8 364.05,-182.8 358.05,-182.8\"/>\n",
       "<text text-anchor=\"start\" x=\"193.65\" y=\"-158.95\" font-family=\"Red Hat Display,sans-serif\" font-weight=\"bold\" font-size=\"11.00\" fill=\"#ffffff\" fill-opacity=\"0.733333\">HEART_DATA size ∈ int{70000}</text>\n",
       "<text text-anchor=\"start\" x=\"225.9\" y=\"-147.95\" font-family=\"Red Hat Display,sans-serif\" font-size=\"11.00\" fill=\"#ffffff\" fill-opacity=\"0.733333\">id = id ∈ int[0 99999]</text>\n",
       "<text text-anchor=\"start\" x=\"204.15\" y=\"-136.95\" font-family=\"Red Hat Display,sans-serif\" font-size=\"11.00\" fill=\"#ffffff\" fill-opacity=\"0.733333\">age = age ∈ int[10798 23713]</text>\n",
       "<text text-anchor=\"start\" x=\"212.4\" y=\"-125.95\" font-family=\"Red Hat Display,sans-serif\" font-size=\"11.00\" fill=\"#ffffff\" fill-opacity=\"0.733333\">gender = gender ∈ int[1 2]</text>\n",
       "<text text-anchor=\"start\" x=\"207.9\" y=\"-114.95\" font-family=\"Red Hat Display,sans-serif\" font-size=\"11.00\" fill=\"#ffffff\" fill-opacity=\"0.733333\">height = height ∈ int[55 250]</text>\n",
       "<text text-anchor=\"start\" x=\"201.15\" y=\"-103.95\" font-family=\"Red Hat Display,sans-serif\" font-size=\"11.00\" fill=\"#ffffff\" fill-opacity=\"0.733333\">weight = weight ∈ float[10 200]</text>\n",
       "<text text-anchor=\"start\" x=\"200.02\" y=\"-92.95\" font-family=\"Red Hat Display,sans-serif\" font-size=\"11.00\" fill=\"#ffffff\" fill-opacity=\"0.733333\">ap_hi = ap_hi ∈ int[&#45;150 16020]</text>\n",
       "<text text-anchor=\"start\" x=\"203.02\" y=\"-81.95\" font-family=\"Red Hat Display,sans-serif\" font-size=\"11.00\" fill=\"#ffffff\" fill-opacity=\"0.733333\">ap_lo = ap_lo ∈ int[&#45;70 11000]</text>\n",
       "<text text-anchor=\"start\" x=\"194.4\" y=\"-70.95\" font-family=\"Red Hat Display,sans-serif\" font-size=\"11.00\" fill=\"#ffffff\" fill-opacity=\"0.733333\">cholesterol = cholesterol ∈ int[1 3]</text>\n",
       "<text text-anchor=\"start\" x=\"226.65\" y=\"-59.95\" font-family=\"Red Hat Display,sans-serif\" font-size=\"11.00\" fill=\"#ffffff\" fill-opacity=\"0.733333\">gluc = gluc ∈ int[1 3]</text>\n",
       "<text text-anchor=\"start\" x=\"214.65\" y=\"-48.95\" font-family=\"Red Hat Display,sans-serif\" font-size=\"11.00\" fill=\"#ffffff\" fill-opacity=\"0.733333\">smoke = smoke ∈ int[0 1]</text>\n",
       "<text text-anchor=\"start\" x=\"226.65\" y=\"-37.95\" font-family=\"Red Hat Display,sans-serif\" font-size=\"11.00\" fill=\"#ffffff\" fill-opacity=\"0.733333\">alco = alco ∈ int[0 1]</text>\n",
       "<text text-anchor=\"start\" x=\"218.4\" y=\"-26.95\" font-family=\"Red Hat Display,sans-serif\" font-size=\"11.00\" fill=\"#ffffff\" fill-opacity=\"0.733333\">active = active ∈ int[0 1]</text>\n",
       "<text text-anchor=\"start\" x=\"216.9\" y=\"-15.95\" font-family=\"Red Hat Display,sans-serif\" font-size=\"11.00\" fill=\"#ffffff\" fill-opacity=\"0.733333\">cardio = cardio ∈ int[0 1]</text>\n",
       "</g>\n",
       "<!-- graph_nvls&#45;&gt;graph_fuyl -->\n",
       "<g id=\"edge1\" class=\"edge\">\n",
       "<title>graph_nvls&#45;&gt;graph_fuyl</title>\n",
       "<path fill=\"none\" stroke=\"#2b303a\" d=\"M274.65,-211.57C274.65,-205.81 274.65,-199.75 274.65,-193.54\"/>\n",
       "<polygon fill=\"#2b303a\" stroke=\"#2b303a\" points=\"278.15,-194 274.65,-184 271.15,-194 278.15,-194\"/>\n",
       "</g>\n",
       "</g>\n",
       "</svg>\n"
      ],
      "text/plain": [
       "<graphviz.sources.Source at 0x1224037f0>"
      ]
     },
     "metadata": {},
     "output_type": "display_data"
    }
   ],
   "source": [
    "relation = ds.sql(query)\n",
    "display_dot(relation.dot())"
   ]
  },
  {
   "cell_type": "markdown",
   "metadata": {},
   "source": [
    "At the basis in red, we find the original table `heart_data` with all its columns. \n",
    "\n",
    "The first mapping operation involves selecting the `id`, `gender`, `height` and `weight` columns and coercing their types. \n",
    "\n",
    "The output `Relation` contains the four columns with their datatypes propagated:\n",
    "\n",
    "- The `gender` column has `str` type with only two possible values `M` and `F`.\n",
    "- The `height` and `weigh` columns contain bounded floats. "
   ]
  },
  {
   "cell_type": "code",
   "execution_count": 8,
   "metadata": {},
   "outputs": [
    {
     "name": "stdout",
     "output_type": "stream",
     "text": [
      "The propagated datatype is: {id: int[0 99999], height: int[140 200], weight: float[40 130], gender: str{F, M}}\n"
     ]
    }
   ],
   "source": [
    "print(f\"The propagated datatype is: {relation.schema()}\")"
   ]
  },
  {
   "cell_type": "markdown",
   "metadata": {},
   "source": [
    "Importantly, these data types have been extended **independently, without necessitating any interaction with the database**. \n",
    "\n",
    "At this stage, the computation of aggregation sensitivity becomes feasible, but exclusively when such aggregation is executed on one of the initial columns.\n"
   ]
  },
  {
   "cell_type": "markdown",
   "metadata": {},
   "source": [
    "## Range propagation"
   ]
  },
  {
   "cell_type": "markdown",
   "metadata": {},
   "source": [
    "When confronted with the aggregation of composite columns, one approach to gauge sensitivity involves employing the automatic bounds determination algorithm introduced by [Wilson et al. (2019)](https://arxiv.org/abs/1909.01917). \n",
    "\n",
    "However, a drawback of this method is that it consumes half of the privacy budget allocated for the aggregation.\n",
    "\n",
    "In the next section, we'll delve into how Qrlew extends the boundaries of the initial columns to composite columns without spending any privacy budget."
   ]
  },
  {
   "cell_type": "markdown",
   "metadata": {},
   "source": [
    "As a first example, we reuse the previous query and compute the BMI (Body Mass Index) using the formula: \n",
    "$BMI = \\frac{weight(kg)}{height(m)^2}$."
   ]
  },
  {
   "cell_type": "code",
   "execution_count": 9,
   "metadata": {},
   "outputs": [
    {
     "data": {
      "image/svg+xml": [
       "<?xml version=\"1.0\" encoding=\"UTF-8\" standalone=\"no\"?>\n",
       "<!DOCTYPE svg PUBLIC \"-//W3C//DTD SVG 1.1//EN\"\n",
       " \"http://www.w3.org/Graphics/SVG/1.1/DTD/svg11.dtd\">\n",
       "<!-- Generated by graphviz version 8.1.0 (20230707.0739)\n",
       " -->\n",
       "<!-- Title: graph_l6cr Pages: 1 -->\n",
       "<svg width=\"636pt\" height=\"485pt\"\n",
       " viewBox=\"0.00 0.00 636.05 485.20\" xmlns=\"http://www.w3.org/2000/svg\" xmlns:xlink=\"http://www.w3.org/1999/xlink\">\n",
       "<g id=\"graph0\" class=\"graph\" transform=\"scale(1 1) rotate(0) translate(4 481.2)\">\n",
       "<title>graph_l6cr</title>\n",
       "<polygon fill=\"none\" stroke=\"none\" points=\"-4,4 -4,-481.2 632.05,-481.2 632.05,4 -4,4\"/>\n",
       "<!-- graph_l6cr -->\n",
       "<g id=\"node1\" class=\"node\">\n",
       "<title>graph_l6cr</title>\n",
       "<path fill=\"#428e92\" stroke=\"#000000\" stroke-opacity=\"0.333333\" d=\"M517.8,-477.2C517.8,-477.2 110.25,-477.2 110.25,-477.2 104.25,-477.2 98.25,-471.2 98.25,-465.2 98.25,-465.2 98.25,-438.4 98.25,-438.4 98.25,-432.4 104.25,-426.4 110.25,-426.4 110.25,-426.4 517.8,-426.4 517.8,-426.4 523.8,-426.4 529.8,-432.4 529.8,-438.4 529.8,-438.4 529.8,-465.2 529.8,-465.2 529.8,-471.2 523.8,-477.2 517.8,-477.2\"/>\n",
       "<text text-anchor=\"start\" x=\"237.15\" y=\"-453.35\" font-family=\"Red Hat Display,sans-serif\" font-weight=\"bold\" font-size=\"11.00\" fill=\"#000000\" fill-opacity=\"0.733333\">MAP_X08N size ∈ int[0 70000]</text>\n",
       "<text text-anchor=\"start\" x=\"112.65\" y=\"-442.35\" font-family=\"Red Hat Display,sans-serif\" font-size=\"11.00\" fill=\"#000000\" fill-opacity=\"0.733333\">bmi = (weight / (height_in_meter * height_in_meter)) ∈ float[10 66.32653061224488]</text>\n",
       "</g>\n",
       "<!-- graph_awq0 -->\n",
       "<g id=\"node2\" class=\"node\">\n",
       "<title>graph_awq0</title>\n",
       "<path fill=\"#428e92\" stroke=\"#000000\" stroke-opacity=\"0.333333\" d=\"M616.05,-397.4C616.05,-397.4 12,-397.4 12,-397.4 6,-397.4 0,-391.4 0,-385.4 0,-385.4 0,-347.6 0,-347.6 0,-341.6 6,-335.6 12,-335.6 12,-335.6 616.05,-335.6 616.05,-335.6 622.05,-335.6 628.05,-341.6 628.05,-347.6 628.05,-347.6 628.05,-385.4 628.05,-385.4 628.05,-391.4 622.05,-397.4 616.05,-397.4\"/>\n",
       "<text text-anchor=\"start\" x=\"234.15\" y=\"-373.55\" font-family=\"Red Hat Display,sans-serif\" font-weight=\"bold\" font-size=\"11.00\" fill=\"#000000\" fill-opacity=\"0.733333\">MAP_WBQL size ∈ int[0 70000]</text>\n",
       "<text text-anchor=\"start\" x=\"14.4\" y=\"-362.55\" font-family=\"Red Hat Display,sans-serif\" font-size=\"11.00\" fill=\"#000000\" fill-opacity=\"0.733333\">height_in_meter = (height * 0.01) ∈ float{1.4000000000000001, 1.41, 1.42, 1.43, 1.44, 1.45, 1.46, 1.47, 1.48, 1.49, 1.5, 1.51...</text>\n",
       "<text text-anchor=\"start\" x=\"240.52\" y=\"-351.55\" font-family=\"Red Hat Display,sans-serif\" font-size=\"11.00\" fill=\"#000000\" fill-opacity=\"0.733333\">weight = weight ∈ float[40 130]</text>\n",
       "</g>\n",
       "<!-- graph_l6cr&#45;&gt;graph_awq0 -->\n",
       "<g id=\"edge3\" class=\"edge\">\n",
       "<title>graph_l6cr&#45;&gt;graph_awq0</title>\n",
       "<path fill=\"none\" stroke=\"#2b303a\" d=\"M314.02,-426.26C314.02,-420.68 314.02,-414.6 314.02,-408.55\"/>\n",
       "<polygon fill=\"#2b303a\" stroke=\"#2b303a\" points=\"317.53,-408.77 314.02,-398.77 310.53,-408.77 317.53,-408.77\"/>\n",
       "</g>\n",
       "<!-- graph_nvls -->\n",
       "<g id=\"node3\" class=\"node\">\n",
       "<title>graph_nvls</title>\n",
       "<path fill=\"#428e92\" stroke=\"#000000\" stroke-opacity=\"0.333333\" d=\"M576.67,-306.6C576.67,-306.6 51.38,-306.6 51.38,-306.6 45.38,-306.6 39.38,-300.6 39.38,-294.6 39.38,-294.6 39.38,-223.8 39.38,-223.8 39.38,-217.8 45.38,-211.8 51.38,-211.8 51.38,-211.8 576.67,-211.8 576.67,-211.8 582.67,-211.8 588.67,-217.8 588.67,-223.8 588.67,-223.8 588.67,-294.6 588.67,-294.6 588.67,-300.6 582.67,-306.6 576.67,-306.6\"/>\n",
       "<text text-anchor=\"start\" x=\"234.9\" y=\"-282.75\" font-family=\"Red Hat Display,sans-serif\" font-weight=\"bold\" font-size=\"11.00\" fill=\"#000000\" fill-opacity=\"0.733333\">MAP_BYMP size ∈ int[0 70000]</text>\n",
       "<text text-anchor=\"start\" x=\"265.27\" y=\"-271.75\" font-family=\"Red Hat Display,sans-serif\" font-size=\"11.00\" fill=\"#000000\" fill-opacity=\"0.733333\">id = id ∈ int[0 99999]</text>\n",
       "<text text-anchor=\"start\" x=\"244.27\" y=\"-260.75\" font-family=\"Red Hat Display,sans-serif\" font-size=\"11.00\" fill=\"#000000\" fill-opacity=\"0.733333\">height = height ∈ int[140 200]</text>\n",
       "<text text-anchor=\"start\" x=\"240.52\" y=\"-249.75\" font-family=\"Red Hat Display,sans-serif\" font-size=\"11.00\" fill=\"#000000\" fill-opacity=\"0.733333\">weight = weight ∈ float[40 130]</text>\n",
       "<text text-anchor=\"start\" x=\"218.77\" y=\"-238.75\" font-family=\"Red Hat Display,sans-serif\" font-size=\"11.00\" fill=\"#000000\" fill-opacity=\"0.733333\">gender = case((id = 1), M, F) ∈ str{F, M}</text>\n",
       "<text text-anchor=\"start\" x=\"53.77\" y=\"-227.75\" font-family=\"Red Hat Display,sans-serif\" font-size=\"11.00\" fill=\"#000000\" fill-opacity=\"0.733333\">WHERE (((((height &gt; 140) and (height &lt; 200)) and (weight &gt; 40)) and (weight &lt; 130)) and (gender in (1, 2)))</text>\n",
       "</g>\n",
       "<!-- graph_awq0&#45;&gt;graph_nvls -->\n",
       "<g id=\"edge2\" class=\"edge\">\n",
       "<title>graph_awq0&#45;&gt;graph_nvls</title>\n",
       "<path fill=\"none\" stroke=\"#2b303a\" d=\"M314.02,-335.33C314.02,-329.78 314.02,-323.82 314.02,-317.78\"/>\n",
       "<polygon fill=\"#2b303a\" stroke=\"#2b303a\" points=\"317.53,-317.88 314.02,-307.88 310.53,-317.88 317.53,-317.88\"/>\n",
       "</g>\n",
       "<!-- graph_fuyl -->\n",
       "<g id=\"node4\" class=\"node\">\n",
       "<title>graph_fuyl</title>\n",
       "<path fill=\"#ff1744\" stroke=\"#000000\" stroke-opacity=\"0.333333\" d=\"M397.42,-182.8C397.42,-182.8 230.62,-182.8 230.62,-182.8 224.62,-182.8 218.62,-176.8 218.62,-170.8 218.62,-170.8 218.62,-12 218.62,-12 218.62,-6 224.62,0 230.62,0 230.62,0 397.42,0 397.42,0 403.42,0 409.42,-6 409.42,-12 409.42,-12 409.42,-170.8 409.42,-170.8 409.42,-176.8 403.42,-182.8 397.42,-182.8\"/>\n",
       "<text text-anchor=\"start\" x=\"233.02\" y=\"-158.95\" font-family=\"Red Hat Display,sans-serif\" font-weight=\"bold\" font-size=\"11.00\" fill=\"#ffffff\" fill-opacity=\"0.733333\">HEART_DATA size ∈ int{70000}</text>\n",
       "<text text-anchor=\"start\" x=\"265.27\" y=\"-147.95\" font-family=\"Red Hat Display,sans-serif\" font-size=\"11.00\" fill=\"#ffffff\" fill-opacity=\"0.733333\">id = id ∈ int[0 99999]</text>\n",
       "<text text-anchor=\"start\" x=\"243.52\" y=\"-136.95\" font-family=\"Red Hat Display,sans-serif\" font-size=\"11.00\" fill=\"#ffffff\" fill-opacity=\"0.733333\">age = age ∈ int[10798 23713]</text>\n",
       "<text text-anchor=\"start\" x=\"251.77\" y=\"-125.95\" font-family=\"Red Hat Display,sans-serif\" font-size=\"11.00\" fill=\"#ffffff\" fill-opacity=\"0.733333\">gender = gender ∈ int[1 2]</text>\n",
       "<text text-anchor=\"start\" x=\"247.27\" y=\"-114.95\" font-family=\"Red Hat Display,sans-serif\" font-size=\"11.00\" fill=\"#ffffff\" fill-opacity=\"0.733333\">height = height ∈ int[55 250]</text>\n",
       "<text text-anchor=\"start\" x=\"240.52\" y=\"-103.95\" font-family=\"Red Hat Display,sans-serif\" font-size=\"11.00\" fill=\"#ffffff\" fill-opacity=\"0.733333\">weight = weight ∈ float[10 200]</text>\n",
       "<text text-anchor=\"start\" x=\"239.4\" y=\"-92.95\" font-family=\"Red Hat Display,sans-serif\" font-size=\"11.00\" fill=\"#ffffff\" fill-opacity=\"0.733333\">ap_hi = ap_hi ∈ int[&#45;150 16020]</text>\n",
       "<text text-anchor=\"start\" x=\"242.4\" y=\"-81.95\" font-family=\"Red Hat Display,sans-serif\" font-size=\"11.00\" fill=\"#ffffff\" fill-opacity=\"0.733333\">ap_lo = ap_lo ∈ int[&#45;70 11000]</text>\n",
       "<text text-anchor=\"start\" x=\"233.77\" y=\"-70.95\" font-family=\"Red Hat Display,sans-serif\" font-size=\"11.00\" fill=\"#ffffff\" fill-opacity=\"0.733333\">cholesterol = cholesterol ∈ int[1 3]</text>\n",
       "<text text-anchor=\"start\" x=\"266.02\" y=\"-59.95\" font-family=\"Red Hat Display,sans-serif\" font-size=\"11.00\" fill=\"#ffffff\" fill-opacity=\"0.733333\">gluc = gluc ∈ int[1 3]</text>\n",
       "<text text-anchor=\"start\" x=\"254.02\" y=\"-48.95\" font-family=\"Red Hat Display,sans-serif\" font-size=\"11.00\" fill=\"#ffffff\" fill-opacity=\"0.733333\">smoke = smoke ∈ int[0 1]</text>\n",
       "<text text-anchor=\"start\" x=\"266.02\" y=\"-37.95\" font-family=\"Red Hat Display,sans-serif\" font-size=\"11.00\" fill=\"#ffffff\" fill-opacity=\"0.733333\">alco = alco ∈ int[0 1]</text>\n",
       "<text text-anchor=\"start\" x=\"257.77\" y=\"-26.95\" font-family=\"Red Hat Display,sans-serif\" font-size=\"11.00\" fill=\"#ffffff\" fill-opacity=\"0.733333\">active = active ∈ int[0 1]</text>\n",
       "<text text-anchor=\"start\" x=\"256.27\" y=\"-15.95\" font-family=\"Red Hat Display,sans-serif\" font-size=\"11.00\" fill=\"#ffffff\" fill-opacity=\"0.733333\">cardio = cardio ∈ int[0 1]</text>\n",
       "</g>\n",
       "<!-- graph_nvls&#45;&gt;graph_fuyl -->\n",
       "<g id=\"edge1\" class=\"edge\">\n",
       "<title>graph_nvls&#45;&gt;graph_fuyl</title>\n",
       "<path fill=\"none\" stroke=\"#2b303a\" d=\"M314.02,-211.57C314.02,-205.81 314.02,-199.75 314.02,-193.54\"/>\n",
       "<polygon fill=\"#2b303a\" stroke=\"#2b303a\" points=\"317.53,-194 314.02,-184 310.53,-194 317.53,-194\"/>\n",
       "</g>\n",
       "</g>\n",
       "</svg>\n"
      ],
      "text/plain": [
       "<graphviz.sources.Source at 0x10b23ab50>"
      ]
     },
     "metadata": {},
     "output_type": "display_data"
    }
   ],
   "source": [
    "query = \"\"\"\n",
    "WITH\n",
    "    bounds_table AS (\n",
    "        SELECT\n",
    "            id,\n",
    "            height,\n",
    "            weight,\n",
    "            CASE WHEN id = 1 THEN 'M' ELSE 'F' END AS gender\n",
    "        FROM heart_data\n",
    "        WHERE\n",
    "            height > 140 AND height < 200 AND\n",
    "            weight > 40.00 AND weight < 130. AND\n",
    "            gender IN (1, 2)\n",
    "    ),\n",
    "    convert_table AS (\n",
    "        SELECT\n",
    "            height * 0.01 AS height_in_meter,\n",
    "            weight\n",
    "        FROM bounds_table\n",
    "    )\n",
    "SELECT weight / (height_in_meter * height_in_meter) AS bmi FROM convert_table\n",
    "\"\"\"\n",
    "relation = ds.sql(query)\n",
    "display_dot(relation.dot())"
   ]
  },
  {
   "cell_type": "markdown",
   "metadata": {},
   "source": [
    "The two lower relations are the ones we previously had, which are fed into a new `Relation` that performs the conversion of the `height` column from centimeters to meters. \n",
    "\n",
    "The updated ranges are automatically calculated as `[140, 200] -> [1.4, 2.0]`.\n",
    "\n",
    "The BMI computation takes place in the uppermost `Relation`, the corresponding ranges are:\n",
    "$$\n",
    "\\left [ \\frac{\\min (weight(kg))}{\\max (height(m)^2)}, \\frac{\\max (weight(kg))}{\\min (height(m)^2)} \\right] \n",
    "$$"
   ]
  },
  {
   "cell_type": "code",
   "execution_count": 10,
   "metadata": {},
   "outputs": [
    {
     "data": {
      "text/plain": [
       "'{bmi: float[10 66.32653061224488]}'"
      ]
     },
     "execution_count": 10,
     "metadata": {},
     "output_type": "execute_result"
    }
   ],
   "source": [
    "relation.schema()"
   ]
  },
  {
   "cell_type": "markdown",
   "metadata": {},
   "source": [
    "This can be converted to the true min and max: "
   ]
  },
  {
   "cell_type": "code",
   "execution_count": 11,
   "metadata": {},
   "outputs": [
    {
     "name": "stdout",
     "output_type": "stream",
     "text": [
      "bmi: [14.527376033057852, 63.975401706010715]\n"
     ]
    }
   ],
   "source": [
    "df = pd.DataFrame(qdb.eval(relation))\n",
    "print(f\"bmi: [{df['bmi'].min()}, {df['bmi'].max()}]\")\n"
   ]
  },
  {
   "cell_type": "markdown",
   "metadata": {},
   "source": [
    "We observe that the estimated bounds encompass the actual bounds. This implies that we might be introducing an excessive amount of noise. If we aim to incorporate less noise, we can tighten the bounds; however, this adjustment could potentially introduce bias into the final outcome."
   ]
  },
  {
   "cell_type": "markdown",
   "metadata": {},
   "source": [
    "Let now consider another example. We want to compute the Lorentz fomula given by:\n",
    "\n",
    "$$\n",
    "\\left\\{\n",
    "    \\begin{array}{ll}\n",
    "        0.75 * height - 62.5 & \\text{if  gender='M'} \\\\\n",
    "        0.60 * height -40.0 & \\text{if  gender='F'} \\\\\n",
    "    \\end{array}\n",
    "\\right.\n",
    "$$\n",
    "\n",
    "**To illustrate the process of joining**, we calculate the Lorentz formula separately for males and females using two distinct common table expressions. \n",
    "Subsequently, we merge these tables through a join operation and retrieve the appropriate formula based on the individual's gender."
   ]
  },
  {
   "cell_type": "code",
   "execution_count": 12,
   "metadata": {},
   "outputs": [
    {
     "data": {
      "image/svg+xml": [
       "<?xml version=\"1.0\" encoding=\"UTF-8\" standalone=\"no\"?>\n",
       "<!DOCTYPE svg PUBLIC \"-//W3C//DTD SVG 1.1//EN\"\n",
       " \"http://www.w3.org/Graphics/SVG/1.1/DTD/svg11.dtd\">\n",
       "<!-- Generated by graphviz version 8.1.0 (20230707.0739)\n",
       " -->\n",
       "<!-- Title: graph_x3gu Pages: 1 -->\n",
       "<svg width=\"1296pt\" height=\"642pt\"\n",
       " viewBox=\"0.00 0.00 1296.05 642.00\" xmlns=\"http://www.w3.org/2000/svg\" xmlns:xlink=\"http://www.w3.org/1999/xlink\">\n",
       "<g id=\"graph0\" class=\"graph\" transform=\"scale(1 1) rotate(0) translate(4 638)\">\n",
       "<title>graph_x3gu</title>\n",
       "<polygon fill=\"none\" stroke=\"none\" points=\"-4,4 -4,-638 1292.05,-638 1292.05,4 -4,4\"/>\n",
       "<!-- graph_x3gu -->\n",
       "<g id=\"node1\" class=\"node\">\n",
       "<title>graph_x3gu</title>\n",
       "<path fill=\"#428e92\" stroke=\"#000000\" stroke-opacity=\"0.333333\" d=\"M954.17,-634C954.17,-634 358.38,-634 358.38,-634 352.38,-634 346.38,-628 346.38,-622 346.38,-622 346.38,-595.2 346.38,-595.2 346.38,-589.2 352.38,-583.2 358.38,-583.2 358.38,-583.2 954.17,-583.2 954.17,-583.2 960.17,-583.2 966.17,-589.2 966.17,-595.2 966.17,-595.2 966.17,-622 966.17,-622 966.17,-628 960.17,-634 954.17,-634\"/>\n",
       "<text text-anchor=\"start\" x=\"564.4\" y=\"-610.15\" font-family=\"Red Hat Display,sans-serif\" font-weight=\"bold\" font-size=\"11.00\" fill=\"#000000\" fill-opacity=\"0.733333\">MAP_XFE9 size ∈ int[0 4900000000]</text>\n",
       "<text text-anchor=\"start\" x=\"360.77\" y=\"-599.15\" font-family=\"Red Hat Display,sans-serif\" font-size=\"11.00\" fill=\"#000000\" fill-opacity=\"0.733333\">lorentz = case((field_ey3i = M), field_jvtu, field_koth) ∈ option(float{42.5, 43.25, 44, 44.599999999999994, 44.75, 45.2, 45....</text>\n",
       "</g>\n",
       "<!-- graph_r_q5 -->\n",
       "<g id=\"node2\" class=\"node\">\n",
       "<title>graph_r_q5</title>\n",
       "<path fill=\"#ff616f\" stroke=\"#000000\" stroke-opacity=\"0.333333\" d=\"M982.67,-554.2C982.67,-554.2 329.88,-554.2 329.88,-554.2 323.88,-554.2 317.88,-548.2 317.88,-542.2 317.88,-542.2 317.88,-460.4 317.88,-460.4 317.88,-454.4 323.88,-448.4 329.88,-448.4 329.88,-448.4 982.67,-448.4 982.67,-448.4 988.67,-448.4 994.67,-454.4 994.67,-460.4 994.67,-460.4 994.67,-542.2 994.67,-542.2 994.67,-548.2 988.67,-554.2 982.67,-554.2\"/>\n",
       "<text text-anchor=\"start\" x=\"565.15\" y=\"-530.35\" font-family=\"Red Hat Display,sans-serif\" font-weight=\"bold\" font-size=\"11.00\" fill=\"#000000\" fill-opacity=\"0.733333\">JOIN_IZVD size ∈ int[0 4900000000]</text>\n",
       "<text text-anchor=\"start\" x=\"568.15\" y=\"-519.35\" font-family=\"Red Hat Display,sans-serif\" font-size=\"11.00\" fill=\"#000000\" fill-opacity=\"0.733333\">field_o_jy = _LEFT_.id ∈ int[0 99999]</text>\n",
       "<text text-anchor=\"start\" x=\"563.65\" y=\"-508.35\" font-family=\"Red Hat Display,sans-serif\" font-size=\"11.00\" fill=\"#000000\" fill-opacity=\"0.733333\">field_ey3i = _LEFT_.gender ∈ str{F, M}</text>\n",
       "<text text-anchor=\"start\" x=\"332.27\" y=\"-497.35\" font-family=\"Red Hat Display,sans-serif\" font-size=\"11.00\" fill=\"#000000\" fill-opacity=\"0.733333\">field_koth = _LEFT_.female_lorentz ∈ float{44, 44.599999999999994, 45.2, 45.8, 46.39999999999999, 47, 47.599999999999994, 48....</text>\n",
       "<text text-anchor=\"start\" x=\"544.15\" y=\"-486.35\" font-family=\"Red Hat Display,sans-serif\" font-size=\"11.00\" fill=\"#000000\" fill-opacity=\"0.733333\">field_ygeu = _RIGHT_.id ∈ option(int[0 99999])</text>\n",
       "<text text-anchor=\"start\" x=\"357.4\" y=\"-475.35\" font-family=\"Red Hat Display,sans-serif\" font-size=\"11.00\" fill=\"#000000\" fill-opacity=\"0.733333\">field_jvtu = _RIGHT_.male_lorentz ∈ option(float{42.5, 43.25, 44, 44.75, 45.5, 46.25, 47, 47.75, 48.5, 49.25, 50, 50.75, 51.5...</text>\n",
       "<text text-anchor=\"start\" x=\"567.4\" y=\"-464.35\" font-family=\"Red Hat Display,sans-serif\" font-size=\"11.00\" fill=\"#000000\" fill-opacity=\"0.733333\">LEFT ON (_LEFT_.id = _RIGHT_.id)</text>\n",
       "</g>\n",
       "<!-- graph_x3gu&#45;&gt;graph_r_q5 -->\n",
       "<g id=\"edge6\" class=\"edge\">\n",
       "<title>graph_x3gu&#45;&gt;graph_r_q5</title>\n",
       "<path fill=\"none\" stroke=\"#2b303a\" d=\"M656.27,-582.91C656.27,-577.46 656.27,-571.44 656.27,-565.23\"/>\n",
       "<polygon fill=\"#2b303a\" stroke=\"#2b303a\" points=\"659.78,-565.65 656.27,-555.65 652.78,-565.65 659.78,-565.65\"/>\n",
       "</g>\n",
       "<!-- graph_97it -->\n",
       "<g id=\"node3\" class=\"node\">\n",
       "<title>graph_97it</title>\n",
       "<path fill=\"#428e92\" stroke=\"#000000\" stroke-opacity=\"0.333333\" d=\"M650.55,-419.4C650.55,-419.4 12,-419.4 12,-419.4 6,-419.4 0,-413.4 0,-407.4 0,-407.4 0,-358.6 0,-358.6 0,-352.6 6,-346.6 12,-346.6 12,-346.6 650.55,-346.6 650.55,-346.6 656.55,-346.6 662.55,-352.6 662.55,-358.6 662.55,-358.6 662.55,-407.4 662.55,-407.4 662.55,-413.4 656.55,-419.4 650.55,-419.4\"/>\n",
       "<text text-anchor=\"start\" x=\"256.27\" y=\"-395.55\" font-family=\"Red Hat Display,sans-serif\" font-weight=\"bold\" font-size=\"11.00\" fill=\"#000000\" fill-opacity=\"0.733333\">MAP_FIYZ size ∈ int[0 70000]</text>\n",
       "<text text-anchor=\"start\" x=\"282.52\" y=\"-384.55\" font-family=\"Red Hat Display,sans-serif\" font-size=\"11.00\" fill=\"#000000\" fill-opacity=\"0.733333\">id = id ∈ int[0 99999]</text>\n",
       "<text text-anchor=\"start\" x=\"265.27\" y=\"-373.55\" font-family=\"Red Hat Display,sans-serif\" font-size=\"11.00\" fill=\"#000000\" fill-opacity=\"0.733333\">gender = gender ∈ str{F, M}</text>\n",
       "<text text-anchor=\"start\" x=\"14.4\" y=\"-362.55\" font-family=\"Red Hat Display,sans-serif\" font-size=\"11.00\" fill=\"#000000\" fill-opacity=\"0.733333\">female_lorentz = ((0.6 * height) &#45; 40) ∈ float{44, 44.599999999999994, 45.2, 45.8, 46.39999999999999, 47, 47.599999999999994,...</text>\n",
       "</g>\n",
       "<!-- graph_r_q5&#45;&gt;graph_97it -->\n",
       "<g id=\"edge4\" class=\"edge\">\n",
       "<title>graph_r_q5&#45;&gt;graph_97it</title>\n",
       "<path fill=\"none\" stroke=\"#2b303a\" d=\"M509.94,-447.93C486.96,-439.71 463.54,-431.33 441.55,-423.46\"/>\n",
       "<polygon fill=\"#2b303a\" stroke=\"#2b303a\" points=\"442.81,-419.84 432.22,-419.76 440.46,-426.43 442.81,-419.84\"/>\n",
       "</g>\n",
       "<!-- graph_783i -->\n",
       "<g id=\"node4\" class=\"node\">\n",
       "<title>graph_783i</title>\n",
       "<path fill=\"#428e92\" stroke=\"#000000\" stroke-opacity=\"0.333333\" d=\"M1276.05,-413.9C1276.05,-413.9 688.5,-413.9 688.5,-413.9 682.5,-413.9 676.5,-407.9 676.5,-401.9 676.5,-401.9 676.5,-364.1 676.5,-364.1 676.5,-358.1 682.5,-352.1 688.5,-352.1 688.5,-352.1 1276.05,-352.1 1276.05,-352.1 1282.05,-352.1 1288.05,-358.1 1288.05,-364.1 1288.05,-364.1 1288.05,-401.9 1288.05,-401.9 1288.05,-407.9 1282.05,-413.9 1276.05,-413.9\"/>\n",
       "<text text-anchor=\"start\" x=\"903.15\" y=\"-390.05\" font-family=\"Red Hat Display,sans-serif\" font-weight=\"bold\" font-size=\"11.00\" fill=\"#000000\" fill-opacity=\"0.733333\">MAP_5PWH size ∈ int[0 70000]</text>\n",
       "<text text-anchor=\"start\" x=\"933.52\" y=\"-379.05\" font-family=\"Red Hat Display,sans-serif\" font-size=\"11.00\" fill=\"#000000\" fill-opacity=\"0.733333\">id = id ∈ int[0 99999]</text>\n",
       "<text text-anchor=\"start\" x=\"690.9\" y=\"-368.05\" font-family=\"Red Hat Display,sans-serif\" font-size=\"11.00\" fill=\"#000000\" fill-opacity=\"0.733333\">male_lorentz = ((0.75 * height) &#45; 62.5) ∈ float{42.5, 43.25, 44, 44.75, 45.5, 46.25, 47, 47.75, 48.5, 49.25, 50, 50.75, 51.5,...</text>\n",
       "</g>\n",
       "<!-- graph_r_q5&#45;&gt;graph_783i -->\n",
       "<g id=\"edge5\" class=\"edge\">\n",
       "<title>graph_r_q5&#45;&gt;graph_783i</title>\n",
       "<path fill=\"none\" stroke=\"#2b303a\" d=\"M803.06,-447.93C831.56,-437.77 860.72,-427.36 887.02,-417.98\"/>\n",
       "<polygon fill=\"#2b303a\" stroke=\"#2b303a\" points=\"888.1,-420.96 896.34,-414.3 885.74,-414.36 888.1,-420.96\"/>\n",
       "</g>\n",
       "<!-- graph_g8gh -->\n",
       "<g id=\"node5\" class=\"node\">\n",
       "<title>graph_g8gh</title>\n",
       "<path fill=\"#428e92\" stroke=\"#000000\" stroke-opacity=\"0.333333\" d=\"M918.92,-317.6C918.92,-317.6 393.62,-317.6 393.62,-317.6 387.62,-317.6 381.62,-311.6 381.62,-305.6 381.62,-305.6 381.62,-223.8 381.62,-223.8 381.62,-217.8 387.62,-211.8 393.62,-211.8 393.62,-211.8 918.92,-211.8 918.92,-211.8 924.92,-211.8 930.92,-217.8 930.92,-223.8 930.92,-223.8 930.92,-305.6 930.92,-305.6 930.92,-311.6 924.92,-317.6 918.92,-317.6\"/>\n",
       "<text text-anchor=\"start\" x=\"577.15\" y=\"-293.75\" font-family=\"Red Hat Display,sans-serif\" font-weight=\"bold\" font-size=\"11.00\" fill=\"#000000\" fill-opacity=\"0.733333\">MAP_W3KX size ∈ int[0 70000]</text>\n",
       "<text text-anchor=\"start\" x=\"607.52\" y=\"-282.75\" font-family=\"Red Hat Display,sans-serif\" font-size=\"11.00\" fill=\"#000000\" fill-opacity=\"0.733333\">id = id ∈ int[0 99999]</text>\n",
       "<text text-anchor=\"start\" x=\"585.77\" y=\"-271.75\" font-family=\"Red Hat Display,sans-serif\" font-size=\"11.00\" fill=\"#000000\" fill-opacity=\"0.733333\">age = age ∈ int[10798 23713]</text>\n",
       "<text text-anchor=\"start\" x=\"586.52\" y=\"-260.75\" font-family=\"Red Hat Display,sans-serif\" font-size=\"11.00\" fill=\"#000000\" fill-opacity=\"0.733333\">height = height ∈ int[140 200]</text>\n",
       "<text text-anchor=\"start\" x=\"582.77\" y=\"-249.75\" font-family=\"Red Hat Display,sans-serif\" font-size=\"11.00\" fill=\"#000000\" fill-opacity=\"0.733333\">weight = weight ∈ float[40 130]</text>\n",
       "<text text-anchor=\"start\" x=\"548.27\" y=\"-238.75\" font-family=\"Red Hat Display,sans-serif\" font-size=\"11.00\" fill=\"#000000\" fill-opacity=\"0.733333\">gender = case((gender = 1), M, F) ∈ str{F, M}</text>\n",
       "<text text-anchor=\"start\" x=\"396.02\" y=\"-227.75\" font-family=\"Red Hat Display,sans-serif\" font-size=\"11.00\" fill=\"#000000\" fill-opacity=\"0.733333\">WHERE (((((height &gt; 140) and (height &lt; 200)) and (weight &gt; 40)) and (weight &lt; 130)) and (gender in (1, 2)))</text>\n",
       "</g>\n",
       "<!-- graph_97it&#45;&gt;graph_g8gh -->\n",
       "<g id=\"edge3\" class=\"edge\">\n",
       "<title>graph_97it&#45;&gt;graph_g8gh</title>\n",
       "<path fill=\"none\" stroke=\"#2b303a\" d=\"M431.44,-346.16C453.05,-338.42 476.39,-330.07 499.57,-321.78\"/>\n",
       "<polygon fill=\"#2b303a\" stroke=\"#2b303a\" points=\"500.61,-324.76 508.85,-318.1 498.25,-318.17 500.61,-324.76\"/>\n",
       "</g>\n",
       "<!-- graph_783i&#45;&gt;graph_g8gh -->\n",
       "<g id=\"edge2\" class=\"edge\">\n",
       "<title>graph_783i&#45;&gt;graph_g8gh</title>\n",
       "<path fill=\"none\" stroke=\"#2b303a\" d=\"M897.47,-351.75C871.57,-342.51 842.21,-332.03 813.12,-321.65\"/>\n",
       "<polygon fill=\"#2b303a\" stroke=\"#2b303a\" points=\"814.44,-318.05 803.84,-317.99 812.08,-324.64 814.44,-318.05\"/>\n",
       "</g>\n",
       "<!-- graph_fuyl -->\n",
       "<g id=\"node6\" class=\"node\">\n",
       "<title>graph_fuyl</title>\n",
       "<path fill=\"#ff1744\" stroke=\"#000000\" stroke-opacity=\"0.333333\" d=\"M739.67,-182.8C739.67,-182.8 572.88,-182.8 572.88,-182.8 566.88,-182.8 560.88,-176.8 560.88,-170.8 560.88,-170.8 560.88,-12 560.88,-12 560.88,-6 566.88,0 572.88,0 572.88,0 739.67,0 739.67,0 745.67,0 751.67,-6 751.67,-12 751.67,-12 751.67,-170.8 751.67,-170.8 751.67,-176.8 745.67,-182.8 739.67,-182.8\"/>\n",
       "<text text-anchor=\"start\" x=\"575.27\" y=\"-158.95\" font-family=\"Red Hat Display,sans-serif\" font-weight=\"bold\" font-size=\"11.00\" fill=\"#ffffff\" fill-opacity=\"0.733333\">HEART_DATA size ∈ int{70000}</text>\n",
       "<text text-anchor=\"start\" x=\"607.52\" y=\"-147.95\" font-family=\"Red Hat Display,sans-serif\" font-size=\"11.00\" fill=\"#ffffff\" fill-opacity=\"0.733333\">id = id ∈ int[0 99999]</text>\n",
       "<text text-anchor=\"start\" x=\"585.77\" y=\"-136.95\" font-family=\"Red Hat Display,sans-serif\" font-size=\"11.00\" fill=\"#ffffff\" fill-opacity=\"0.733333\">age = age ∈ int[10798 23713]</text>\n",
       "<text text-anchor=\"start\" x=\"594.02\" y=\"-125.95\" font-family=\"Red Hat Display,sans-serif\" font-size=\"11.00\" fill=\"#ffffff\" fill-opacity=\"0.733333\">gender = gender ∈ int[1 2]</text>\n",
       "<text text-anchor=\"start\" x=\"589.52\" y=\"-114.95\" font-family=\"Red Hat Display,sans-serif\" font-size=\"11.00\" fill=\"#ffffff\" fill-opacity=\"0.733333\">height = height ∈ int[55 250]</text>\n",
       "<text text-anchor=\"start\" x=\"582.77\" y=\"-103.95\" font-family=\"Red Hat Display,sans-serif\" font-size=\"11.00\" fill=\"#ffffff\" fill-opacity=\"0.733333\">weight = weight ∈ float[10 200]</text>\n",
       "<text text-anchor=\"start\" x=\"581.65\" y=\"-92.95\" font-family=\"Red Hat Display,sans-serif\" font-size=\"11.00\" fill=\"#ffffff\" fill-opacity=\"0.733333\">ap_hi = ap_hi ∈ int[&#45;150 16020]</text>\n",
       "<text text-anchor=\"start\" x=\"584.65\" y=\"-81.95\" font-family=\"Red Hat Display,sans-serif\" font-size=\"11.00\" fill=\"#ffffff\" fill-opacity=\"0.733333\">ap_lo = ap_lo ∈ int[&#45;70 11000]</text>\n",
       "<text text-anchor=\"start\" x=\"576.02\" y=\"-70.95\" font-family=\"Red Hat Display,sans-serif\" font-size=\"11.00\" fill=\"#ffffff\" fill-opacity=\"0.733333\">cholesterol = cholesterol ∈ int[1 3]</text>\n",
       "<text text-anchor=\"start\" x=\"608.27\" y=\"-59.95\" font-family=\"Red Hat Display,sans-serif\" font-size=\"11.00\" fill=\"#ffffff\" fill-opacity=\"0.733333\">gluc = gluc ∈ int[1 3]</text>\n",
       "<text text-anchor=\"start\" x=\"596.27\" y=\"-48.95\" font-family=\"Red Hat Display,sans-serif\" font-size=\"11.00\" fill=\"#ffffff\" fill-opacity=\"0.733333\">smoke = smoke ∈ int[0 1]</text>\n",
       "<text text-anchor=\"start\" x=\"608.27\" y=\"-37.95\" font-family=\"Red Hat Display,sans-serif\" font-size=\"11.00\" fill=\"#ffffff\" fill-opacity=\"0.733333\">alco = alco ∈ int[0 1]</text>\n",
       "<text text-anchor=\"start\" x=\"600.02\" y=\"-26.95\" font-family=\"Red Hat Display,sans-serif\" font-size=\"11.00\" fill=\"#ffffff\" fill-opacity=\"0.733333\">active = active ∈ int[0 1]</text>\n",
       "<text text-anchor=\"start\" x=\"598.52\" y=\"-15.95\" font-family=\"Red Hat Display,sans-serif\" font-size=\"11.00\" fill=\"#ffffff\" fill-opacity=\"0.733333\">cardio = cardio ∈ int[0 1]</text>\n",
       "</g>\n",
       "<!-- graph_g8gh&#45;&gt;graph_fuyl -->\n",
       "<g id=\"edge1\" class=\"edge\">\n",
       "<title>graph_g8gh&#45;&gt;graph_fuyl</title>\n",
       "<path fill=\"none\" stroke=\"#2b303a\" d=\"M656.27,-211.37C656.27,-205.78 656.27,-199.96 656.27,-194.03\"/>\n",
       "<polygon fill=\"#2b303a\" stroke=\"#2b303a\" points=\"659.78,-194.27 656.27,-184.27 652.78,-194.27 659.78,-194.27\"/>\n",
       "</g>\n",
       "</g>\n",
       "</svg>\n"
      ],
      "text/plain": [
       "<graphviz.sources.Source at 0x10b287910>"
      ]
     },
     "metadata": {},
     "output_type": "display_data"
    }
   ],
   "source": [
    "query = \"\"\"\n",
    "WITH\n",
    "    bounds_table AS (\n",
    "        SELECT\n",
    "            id,\n",
    "            age,\n",
    "            height,\n",
    "            weight,\n",
    "            CASE WHEN gender = 1 THEN 'M' ELSE 'F' END AS gender\n",
    "        FROM heart_data\n",
    "        WHERE\n",
    "            height > 140 AND height < 200 AND\n",
    "            weight > 40.00 AND weight < 130. AND\n",
    "            gender IN (1, 2)\n",
    "    ),\n",
    "    female_table AS (\n",
    "        SELECT\n",
    "            id,\n",
    "            gender,\n",
    "            0.6 * height -40.0 AS female_lorentz\n",
    "        FROM bounds_table\n",
    "    ),\n",
    "    male_table AS (\n",
    "        SELECT\n",
    "            id,\n",
    "            0.75 * height - 62.5 AS male_lorentz\n",
    "        FROM bounds_table\n",
    "    )\n",
    "SELECT CASE WHEN gender = 'M' THEN male_lorentz else female_lorentz END AS lorentz FROM female_table LEFT JOIN male_table ON female_table.id = male_table.id\n",
    "\"\"\"\n",
    "relation = ds.sql(query)\n",
    "\n",
    "display_dot(relation.dot())"
   ]
  },
  {
   "cell_type": "markdown",
   "metadata": {},
   "source": [
    "Once more, in this example, you can trace follow the propagation of the ranges as they propagate throughout all the relations.\n",
    "\n",
    "Finally, the propagated ranges for the Lorentz formula are:"
   ]
  },
  {
   "cell_type": "code",
   "execution_count": 13,
   "metadata": {},
   "outputs": [
    {
     "data": {
      "text/plain": [
       "'{lorentz: option(float{42.5, 43.25, 44, 44.599999999999994, 44.75, 45.2, 45.5, 45.8, 46.25, 46.39999999999999, 47, 47.599999999999994, 47.75, 48.2, 48.5, 48.8, 49.25, 49.39999999999999, 50, 50.599999999999994, 50.75, 51.2, 51.5, 51.8, 52.25, 52.39999999999999, 53, 53.599999999999994, 53.75, 54.2, 54.5, 54.8, 55.25, 55.39999999999999, 56, 56.599999999999994, 56.75, 57.2, 57.5, 57.8, 58.25, 58.39999999999999, 59, 59.599999999999994, 59.75, 60.2, 60.5, 60.8, 61.25, 61.39999999999999, 62, 62.599999999999994, 62.75, 63.2, 63.5, 63.8, 64.25, 64.39999999999999, 65, 65.6, 65.75, 66.2, 66.5, 66.8, 67.25, 67.39999999999999, 68, 68.6, 68.75, 69.2, 69.5, 69.8, 70.25, 70.39999999999999, 71, 71.6, 71.75, 72.2, 72.5, 72.8, 73.25, 73.39999999999999, 74, 74.6, 74.75, 75.19999999999999, 75.5, 75.8, 76.25, 76.39999999999999, 77, 77.6, 77.75, 78.19999999999999, 78.5, 78.8, 79.25, 79.39999999999999, 80, 80.75, 81.5, 82.25, 83, 83.75, 84.5, 85.25, 86, 86.75, 87.5})}'"
      ]
     },
     "execution_count": 13,
     "metadata": {},
     "output_type": "execute_result"
    }
   ],
   "source": [
    "relation.schema()"
   ]
  },
  {
   "cell_type": "markdown",
   "metadata": {},
   "source": [
    "The exact ranges are: "
   ]
  },
  {
   "cell_type": "code",
   "execution_count": 14,
   "metadata": {},
   "outputs": [
    {
     "name": "stdout",
     "output_type": "stream",
     "text": [
      "lorentz: [43.25, 86.0]\n"
     ]
    }
   ],
   "source": [
    "df = pd.DataFrame(qdb.eval(relation))\n",
    "print(f\"lorentz: [{df['lorentz'].min()}, {df['lorentz'].max()}]\")\n"
   ]
  },
  {
   "cell_type": "markdown",
   "metadata": {},
   "source": [
    "In certain scenarios, when there's a high correlation between columns, it might not be advisable to use propagated ranges. \n",
    "This is because the accurate range could be influenced by significant correlations that are not evident from external data. \n",
    "In such instances, it could be beneficial to allocate budget towards computing ranges using the automatic boundary determination algorithm ([Wilson et al. 2019](https://arxiv.org/abs/1909.01917))."
   ]
  },
  {
   "cell_type": "markdown",
   "metadata": {},
   "source": [
    "However, how can an analyst without free database access determine whether he should allocate budget to compute the ranges?\n",
    "\n",
    "This is where utilizing Sarus becomes advantageous. \n",
    "\n",
    "By employing [Sarus](https://www.sarus.tech/), the analyst gains **access to a synthetic dataset** wherein inter-column correlations are replicated.\n",
    "\n",
    "This empowers the analyst to **devise a strategy without expending privacy resources**, as they can scrutinize the synthetic dataset for insights and make informed decisions."
   ]
  }
 ],
 "metadata": {
  "kernelspec": {
   "display_name": "myenv",
   "language": "python",
   "name": "python3"
  },
  "language_info": {
   "codemirror_mode": {
    "name": "ipython",
    "version": 3
   },
   "file_extension": ".py",
   "mimetype": "text/x-python",
   "name": "python",
   "nbconvert_exporter": "python",
   "pygments_lexer": "ipython3",
   "version": "3.9.0"
  },
  "orig_nbformat": 4
 },
 "nbformat": 4,
 "nbformat_minor": 2
}
