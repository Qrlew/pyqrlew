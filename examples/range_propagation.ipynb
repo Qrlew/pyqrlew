{
 "cells": [
  {
   "cell_type": "markdown",
   "metadata": {},
   "source": [
    "# Automatic range computation"
   ]
  },
  {
   "cell_type": "markdown",
   "metadata": {},
   "source": [
    "[Differential privacy](https://en.wikipedia.org/wiki/Differential_privacy) focuses on revealing data aggregation outcomes while diminishing the impact of any single person on the overall collective result. \n",
    "This principle operates via a tandem of interconnected stages that can be adapted to various analytical scenarios, spanning SQL queries, conventional statistical analyses, and even deep learning tasks.\n",
    "\n",
    "- **Data bounding**: This phase involves refining the data by excluding outliers and constraining it within rational limits. For instance, considering the `age` column of a census dataset, it is reasonable to constrain the age values between 18 and 100 and adjust the extreme values to the nearest boundary.\n",
    "\n",
    "- **Noise Introduction**: We inject into each aggregation a level of noise that is calibrated by the privacy parameters and the **sensitivity**, i.e. the maximum potential influence an individual could have over the final result.\n",
    "\n",
    "The second phase is inherently intertwined with the first, since the the **sensitivity** in computed from the boundaries set in the initial phase. \n",
    "If we significantly overestimate these bounds, it could lead to a substantial increase in noise. \n",
    "This, in turn, would undermine the usefulness of the analysis."
   ]
  },
  {
   "cell_type": "markdown",
   "metadata": {},
   "source": [
    "In this post, we'll focus on the **data bounding stage applied to SQL analysis** using the [`qrlew`](https://qrlew.github.io/) framework. "
   ]
  },
  {
   "cell_type": "code",
   "execution_count": 4,
   "metadata": {},
   "outputs": [],
   "source": [
    "import logging\n",
    "logging.disable(logging.INFO)"
   ]
  },
  {
   "cell_type": "code",
   "execution_count": 5,
   "metadata": {},
   "outputs": [
    {
     "name": "stdout",
     "output_type": "stream",
     "text": [
      "Requirement already satisfied: pyqrlew==0.3.4 in /Users/nicolas/Git/Qrlew/pyqrlew/.venv/lib/python3.11/site-packages (0.3.4)\n",
      "Requirement already satisfied: SQLAlchemy<2.0 in /Users/nicolas/Git/Qrlew/pyqrlew/.venv/lib/python3.11/site-packages (from pyqrlew==0.3.4) (1.4.49)\n",
      "Requirement already satisfied: psycopg2<3.0 in /Users/nicolas/Git/Qrlew/pyqrlew/.venv/lib/python3.11/site-packages (from pyqrlew==0.3.4) (2.9.7)\n",
      "Requirement already satisfied: pymysql~=1.0 in /Users/nicolas/Git/Qrlew/pyqrlew/.venv/lib/python3.11/site-packages (from pyqrlew==0.3.4) (1.1.0)\n",
      "Requirement already satisfied: qrlew-datasets~=0.4 in /Users/nicolas/Git/Qrlew/pyqrlew/.venv/lib/python3.11/site-packages (from pyqrlew==0.3.4) (0.4.0)\n",
      "Requirement already satisfied: pandas~=1.0 in /Users/nicolas/Git/Qrlew/pyqrlew/.venv/lib/python3.11/site-packages (from pyqrlew==0.3.4) (1.5.3)\n",
      "Requirement already satisfied: python-dateutil>=2.8.1 in /Users/nicolas/Git/Qrlew/pyqrlew/.venv/lib/python3.11/site-packages (from pandas~=1.0->pyqrlew==0.3.4) (2.8.2)\n",
      "Requirement already satisfied: pytz>=2020.1 in /Users/nicolas/Git/Qrlew/pyqrlew/.venv/lib/python3.11/site-packages (from pandas~=1.0->pyqrlew==0.3.4) (2023.3.post1)\n",
      "Requirement already satisfied: numpy>=1.21.0 in /Users/nicolas/Git/Qrlew/pyqrlew/.venv/lib/python3.11/site-packages (from pandas~=1.0->pyqrlew==0.3.4) (1.26.0)\n",
      "Requirement already satisfied: termcolor<3.0.0,>=2.3.0 in /Users/nicolas/Git/Qrlew/pyqrlew/.venv/lib/python3.11/site-packages (from qrlew-datasets~=0.4->pyqrlew==0.3.4) (2.3.0)\n",
      "Requirement already satisfied: greenlet!=0.4.17 in /Users/nicolas/Git/Qrlew/pyqrlew/.venv/lib/python3.11/site-packages (from SQLAlchemy<2.0->pyqrlew==0.3.4) (2.0.2)\n",
      "\u001b[33mWARNING: psycopg2 2.9.7 does not provide the extra 'binary'\u001b[0m\u001b[33m\n",
      "\u001b[0m\u001b[33mWARNING: psycopg2 2.9.7 does not provide the extra 'pool'\u001b[0m\u001b[33m\n",
      "\u001b[0mRequirement already satisfied: six>=1.5 in /Users/nicolas/Git/Qrlew/pyqrlew/.venv/lib/python3.11/site-packages (from python-dateutil>=2.8.1->pandas~=1.0->pyqrlew==0.3.4) (1.16.0)\n",
      "\n",
      "\u001b[1m[\u001b[0m\u001b[34;49mnotice\u001b[0m\u001b[1;39;49m]\u001b[0m\u001b[39;49m A new release of pip is available: \u001b[0m\u001b[31;49m23.0.1\u001b[0m\u001b[39;49m -> \u001b[0m\u001b[32;49m23.2.1\u001b[0m\n",
      "\u001b[1m[\u001b[0m\u001b[34;49mnotice\u001b[0m\u001b[1;39;49m]\u001b[0m\u001b[39;49m To update, run: \u001b[0m\u001b[32;49mpip install --upgrade pip\u001b[0m\n",
      "Note: you may need to restart the kernel to use updated packages.\n"
     ]
    }
   ],
   "source": [
    "%pip install pyqrlew==0.3.4"
   ]
  },
  {
   "cell_type": "markdown",
   "metadata": {},
   "source": [
    "We load a csv extract of the [Kuzak Dempsy's dataset](https://data.world/kudem):"
   ]
  },
  {
   "cell_type": "code",
   "execution_count": 6,
   "metadata": {},
   "outputs": [
    {
     "ename": "NameError",
     "evalue": "name 'pyqrlew' is not defined",
     "output_type": "error",
     "traceback": [
      "\u001b[0;31m---------------------------------------------------------------------------\u001b[0m",
      "\u001b[0;31mNameError\u001b[0m                                 Traceback (most recent call last)",
      "\u001b[1;32m/Users/nicolas/Git/Qrlew/pyqrlew/examples/range_propagation.ipynb Cellule 7\u001b[0m line \u001b[0;36m1\n\u001b[0;32m----> <a href='vscode-notebook-cell:/Users/nicolas/Git/Qrlew/pyqrlew/examples/range_propagation.ipynb#W6sZmlsZQ%3D%3D?line=0'>1</a>\u001b[0m \u001b[39mimport\u001b[39;00m \u001b[39mpyqrlew\u001b[39;00m \u001b[39mas\u001b[39;00m \u001b[39mpq\u001b[39;00m\n\u001b[1;32m      <a href='vscode-notebook-cell:/Users/nicolas/Git/Qrlew/pyqrlew/examples/range_propagation.ipynb#W6sZmlsZQ%3D%3D?line=1'>2</a>\u001b[0m qdb \u001b[39m=\u001b[39m pq\u001b[39m.\u001b[39mfrom_csv(\n\u001b[1;32m      <a href='vscode-notebook-cell:/Users/nicolas/Git/Qrlew/pyqrlew/examples/range_propagation.ipynb#W6sZmlsZQ%3D%3D?line=2'>3</a>\u001b[0m     table_name\u001b[39m=\u001b[39m\u001b[39m\"\u001b[39m\u001b[39mheart_data\u001b[39m\u001b[39m\"\u001b[39m, \n\u001b[1;32m      <a href='vscode-notebook-cell:/Users/nicolas/Git/Qrlew/pyqrlew/examples/range_propagation.ipynb#W6sZmlsZQ%3D%3D?line=3'>4</a>\u001b[0m     csv_file\u001b[39m=\u001b[39m\u001b[39m\"\u001b[39m\u001b[39mhttps://storage.googleapis.com/qrlew-demo-data/heart_data.csv\u001b[39m\u001b[39m\"\u001b[39m\n\u001b[1;32m      <a href='vscode-notebook-cell:/Users/nicolas/Git/Qrlew/pyqrlew/examples/range_propagation.ipynb#W6sZmlsZQ%3D%3D?line=4'>5</a>\u001b[0m )\n",
      "File \u001b[0;32m~/Git/Qrlew/pyqrlew/python/pyqrlew/__init__.py:5\u001b[0m\n\u001b[1;32m      1\u001b[0m \u001b[39mfrom\u001b[39;00m \u001b[39m.\u001b[39;00m\u001b[39mpyqrlew\u001b[39;00m \u001b[39mimport\u001b[39;00m \u001b[39m*\u001b[39m\n\u001b[1;32m      2\u001b[0m \u001b[39mfrom\u001b[39;00m \u001b[39m.\u001b[39;00m\u001b[39mio\u001b[39;00m \u001b[39mimport\u001b[39;00m \u001b[39m*\u001b[39m\n\u001b[0;32m----> 5\u001b[0m \u001b[39m__doc__\u001b[39m \u001b[39m=\u001b[39m pyqrlew\u001b[39m.\u001b[39m\u001b[39m__doc__\u001b[39m\n\u001b[1;32m      6\u001b[0m \u001b[39mif\u001b[39;00m \u001b[39mhasattr\u001b[39m(pyqrlew, \u001b[39m\"\u001b[39m\u001b[39m__all__\u001b[39m\u001b[39m\"\u001b[39m):\n\u001b[1;32m      7\u001b[0m     __all__ \u001b[39m=\u001b[39m pyqrlew\u001b[39m.\u001b[39m__all__\n",
      "\u001b[0;31mNameError\u001b[0m: name 'pyqrlew' is not defined"
     ]
    }
   ],
   "source": [
    "import pyqrlew as pq\n",
    "qdb = pq.from_csv(\n",
    "    table_name=\"heart_data\", \n",
    "    csv_file=\"https://storage.googleapis.com/qrlew-demo-data/heart_data.csv\"\n",
    ")"
   ]
  },
  {
   "cell_type": "code",
   "execution_count": 4,
   "metadata": {},
   "outputs": [
    {
     "data": {
      "text/html": [
       "<div>\n",
       "<style scoped>\n",
       "    .dataframe tbody tr th:only-of-type {\n",
       "        vertical-align: middle;\n",
       "    }\n",
       "\n",
       "    .dataframe tbody tr th {\n",
       "        vertical-align: top;\n",
       "    }\n",
       "\n",
       "    .dataframe thead th {\n",
       "        text-align: right;\n",
       "    }\n",
       "</style>\n",
       "<table border=\"1\" class=\"dataframe\">\n",
       "  <thead>\n",
       "    <tr style=\"text-align: right;\">\n",
       "      <th></th>\n",
       "      <th>id</th>\n",
       "      <th>age</th>\n",
       "      <th>gender</th>\n",
       "      <th>height</th>\n",
       "      <th>weight</th>\n",
       "      <th>ap_hi</th>\n",
       "      <th>ap_lo</th>\n",
       "      <th>cholesterol</th>\n",
       "      <th>gluc</th>\n",
       "      <th>smoke</th>\n",
       "      <th>alco</th>\n",
       "      <th>active</th>\n",
       "      <th>cardio</th>\n",
       "    </tr>\n",
       "  </thead>\n",
       "  <tbody>\n",
       "    <tr>\n",
       "      <th>0</th>\n",
       "      <td>0</td>\n",
       "      <td>18393</td>\n",
       "      <td>2</td>\n",
       "      <td>168</td>\n",
       "      <td>62.0</td>\n",
       "      <td>110</td>\n",
       "      <td>80</td>\n",
       "      <td>1</td>\n",
       "      <td>1</td>\n",
       "      <td>0</td>\n",
       "      <td>0</td>\n",
       "      <td>1</td>\n",
       "      <td>0</td>\n",
       "    </tr>\n",
       "    <tr>\n",
       "      <th>1</th>\n",
       "      <td>1</td>\n",
       "      <td>20228</td>\n",
       "      <td>1</td>\n",
       "      <td>156</td>\n",
       "      <td>85.0</td>\n",
       "      <td>140</td>\n",
       "      <td>90</td>\n",
       "      <td>3</td>\n",
       "      <td>1</td>\n",
       "      <td>0</td>\n",
       "      <td>0</td>\n",
       "      <td>1</td>\n",
       "      <td>1</td>\n",
       "    </tr>\n",
       "    <tr>\n",
       "      <th>2</th>\n",
       "      <td>2</td>\n",
       "      <td>18857</td>\n",
       "      <td>1</td>\n",
       "      <td>165</td>\n",
       "      <td>64.0</td>\n",
       "      <td>130</td>\n",
       "      <td>70</td>\n",
       "      <td>3</td>\n",
       "      <td>1</td>\n",
       "      <td>0</td>\n",
       "      <td>0</td>\n",
       "      <td>0</td>\n",
       "      <td>1</td>\n",
       "    </tr>\n",
       "    <tr>\n",
       "      <th>3</th>\n",
       "      <td>3</td>\n",
       "      <td>17623</td>\n",
       "      <td>2</td>\n",
       "      <td>169</td>\n",
       "      <td>82.0</td>\n",
       "      <td>150</td>\n",
       "      <td>100</td>\n",
       "      <td>1</td>\n",
       "      <td>1</td>\n",
       "      <td>0</td>\n",
       "      <td>0</td>\n",
       "      <td>1</td>\n",
       "      <td>1</td>\n",
       "    </tr>\n",
       "    <tr>\n",
       "      <th>4</th>\n",
       "      <td>4</td>\n",
       "      <td>17474</td>\n",
       "      <td>1</td>\n",
       "      <td>156</td>\n",
       "      <td>56.0</td>\n",
       "      <td>100</td>\n",
       "      <td>60</td>\n",
       "      <td>1</td>\n",
       "      <td>1</td>\n",
       "      <td>0</td>\n",
       "      <td>0</td>\n",
       "      <td>0</td>\n",
       "      <td>0</td>\n",
       "    </tr>\n",
       "  </tbody>\n",
       "</table>\n",
       "</div>"
      ],
      "text/plain": [
       "   id    age  gender  height  weight  ap_hi  ap_lo  cholesterol  gluc  smoke   \n",
       "0   0  18393       2     168    62.0    110     80            1     1      0  \\\n",
       "1   1  20228       1     156    85.0    140     90            3     1      0   \n",
       "2   2  18857       1     165    64.0    130     70            3     1      0   \n",
       "3   3  17623       2     169    82.0    150    100            1     1      0   \n",
       "4   4  17474       1     156    56.0    100     60            1     1      0   \n",
       "\n",
       "   alco  active  cardio  \n",
       "0     0       1       0  \n",
       "1     0       1       1  \n",
       "2     0       0       1  \n",
       "3     0       1       1  \n",
       "4     0       0       0  "
      ]
     },
     "execution_count": 4,
     "metadata": {},
     "output_type": "execute_result"
    }
   ],
   "source": [
    "import pandas as pd\n",
    "pd.DataFrame(qdb.execute(\"SELECT * FROM heart_data\")).head()"
   ]
  },
  {
   "cell_type": "markdown",
   "metadata": {},
   "source": [
    "Qrlew transforms each SQL notion into a `Relation`, which serves as an intermediate representation that is well-suited for multiple query rewriting purposes.\n",
    "\n",
    "The `heart_data` table finds its representation as follows:"
   ]
  },
  {
   "cell_type": "code",
   "execution_count": 5,
   "metadata": {},
   "outputs": [
    {
     "data": {
      "image/svg+xml": [
       "<?xml version=\"1.0\" encoding=\"UTF-8\" standalone=\"no\"?>\n",
       "<!DOCTYPE svg PUBLIC \"-//W3C//DTD SVG 1.1//EN\"\n",
       " \"http://www.w3.org/Graphics/SVG/1.1/DTD/svg11.dtd\">\n",
       "<!-- Generated by graphviz version 8.1.0 (20230707.0739)\n",
       " -->\n",
       "<!-- Title: graph_gtdh Pages: 1 -->\n",
       "<svg width=\"199pt\" height=\"191pt\"\n",
       " viewBox=\"0.00 0.00 198.80 190.80\" xmlns=\"http://www.w3.org/2000/svg\" xmlns:xlink=\"http://www.w3.org/1999/xlink\">\n",
       "<g id=\"graph0\" class=\"graph\" transform=\"scale(1 1) rotate(0) translate(4 186.8)\">\n",
       "<title>graph_gtdh</title>\n",
       "<polygon fill=\"none\" stroke=\"none\" points=\"-4,4 -4,-186.8 194.8,-186.8 194.8,4 -4,4\"/>\n",
       "<!-- graph_gtdh -->\n",
       "<g id=\"node1\" class=\"node\">\n",
       "<title>graph_gtdh</title>\n",
       "<path fill=\"#ff1744\" stroke=\"#000000\" stroke-opacity=\"0.333333\" d=\"M178.8,-182.8C178.8,-182.8 12,-182.8 12,-182.8 6,-182.8 0,-176.8 0,-170.8 0,-170.8 0,-12 0,-12 0,-6 6,0 12,0 12,0 178.8,0 178.8,0 184.8,0 190.8,-6 190.8,-12 190.8,-12 190.8,-170.8 190.8,-170.8 190.8,-176.8 184.8,-182.8 178.8,-182.8\"/>\n",
       "<text text-anchor=\"start\" x=\"14.4\" y=\"-158.95\" font-family=\"Red Hat Display,sans-serif\" font-weight=\"bold\" font-size=\"11.00\" fill=\"#ffffff\" fill-opacity=\"0.733333\">HEART_DATA size ∈ int{70000}</text>\n",
       "<text text-anchor=\"start\" x=\"69.15\" y=\"-147.95\" font-family=\"Red Hat Display,sans-serif\" font-size=\"11.00\" fill=\"#ffffff\" fill-opacity=\"0.733333\">id = id ∈ int</text>\n",
       "<text text-anchor=\"start\" x=\"59.4\" y=\"-136.95\" font-family=\"Red Hat Display,sans-serif\" font-size=\"11.00\" fill=\"#ffffff\" fill-opacity=\"0.733333\">age = age ∈ int</text>\n",
       "<text text-anchor=\"start\" x=\"43.65\" y=\"-125.95\" font-family=\"Red Hat Display,sans-serif\" font-size=\"11.00\" fill=\"#ffffff\" fill-opacity=\"0.733333\">gender = gender ∈ int</text>\n",
       "<text text-anchor=\"start\" x=\"48.15\" y=\"-114.95\" font-family=\"Red Hat Display,sans-serif\" font-size=\"11.00\" fill=\"#ffffff\" fill-opacity=\"0.733333\">height = height ∈ int</text>\n",
       "<text text-anchor=\"start\" x=\"41.4\" y=\"-103.95\" font-family=\"Red Hat Display,sans-serif\" font-size=\"11.00\" fill=\"#ffffff\" fill-opacity=\"0.733333\">weight = weight ∈ float</text>\n",
       "<text text-anchor=\"start\" x=\"51.15\" y=\"-92.95\" font-family=\"Red Hat Display,sans-serif\" font-size=\"11.00\" fill=\"#ffffff\" fill-opacity=\"0.733333\">ap_hi = ap_hi ∈ int</text>\n",
       "<text text-anchor=\"start\" x=\"51.15\" y=\"-81.95\" font-family=\"Red Hat Display,sans-serif\" font-size=\"11.00\" fill=\"#ffffff\" fill-opacity=\"0.733333\">ap_lo = ap_lo ∈ int</text>\n",
       "<text text-anchor=\"start\" x=\"25.65\" y=\"-70.95\" font-family=\"Red Hat Display,sans-serif\" font-size=\"11.00\" fill=\"#ffffff\" fill-opacity=\"0.733333\">cholesterol = cholesterol ∈ int</text>\n",
       "<text text-anchor=\"start\" x=\"57.9\" y=\"-59.95\" font-family=\"Red Hat Display,sans-serif\" font-size=\"11.00\" fill=\"#ffffff\" fill-opacity=\"0.733333\">gluc = gluc ∈ int</text>\n",
       "<text text-anchor=\"start\" x=\"45.9\" y=\"-48.95\" font-family=\"Red Hat Display,sans-serif\" font-size=\"11.00\" fill=\"#ffffff\" fill-opacity=\"0.733333\">smoke = smoke ∈ int</text>\n",
       "<text text-anchor=\"start\" x=\"57.9\" y=\"-37.95\" font-family=\"Red Hat Display,sans-serif\" font-size=\"11.00\" fill=\"#ffffff\" fill-opacity=\"0.733333\">alco = alco ∈ int</text>\n",
       "<text text-anchor=\"start\" x=\"49.65\" y=\"-26.95\" font-family=\"Red Hat Display,sans-serif\" font-size=\"11.00\" fill=\"#ffffff\" fill-opacity=\"0.733333\">active = active ∈ int</text>\n",
       "<text text-anchor=\"start\" x=\"48.15\" y=\"-15.95\" font-family=\"Red Hat Display,sans-serif\" font-size=\"11.00\" fill=\"#ffffff\" fill-opacity=\"0.733333\">cardio = cardio ∈ int</text>\n",
       "</g>\n",
       "</g>\n",
       "</svg>\n"
      ],
      "text/plain": [
       "<graphviz.sources.Source at 0x112faa3d0>"
      ]
     },
     "metadata": {},
     "output_type": "display_data"
    }
   ],
   "source": [
    "import graphviz\n",
    "\n",
    "def display_dot(dot_graph): \n",
    "    display(graphviz.Source(dot_graph))\n",
    "\n",
    "ds = qdb.dataset()\n",
    "display_dot(ds.relations()[0][1].dot())"
   ]
  },
  {
   "cell_type": "markdown",
   "metadata": {},
   "source": [
    "The `Relation` object holds information about columns and their associated Qrlew [data types](https://github.com/Qrlew/qrlew/blob/b4960d57b7ac047b525c36b9cb9eb3395e0f4029/src/data_type/mod.rs#L2207) (including bounds).\n",
    "\n",
    "These Qrlew data types are transformed from the database's original types. \n",
    "Therefore, when importing data from sources like CSV files or pandas DataFrames that lack support for certain types (such as bytes or lists), \n",
    "you may sacrifice the detailed distinctions that Qrlew offers."
   ]
  },
  {
   "cell_type": "markdown",
   "metadata": {},
   "source": [
    "## Bound the columns of a table"
   ]
  },
  {
   "cell_type": "markdown",
   "metadata": {},
   "source": [
    "We adopt the perspective of the data owner, who aims to safeguard user privacy. We focus on a subset of the heart_data containing four columns:\n",
    "\n",
    "- `id` (integer):  contains unique identifiers, which must remain confidential,\n",
    "- `gender` (integer): 1 (Male) or 2 (Female),\n",
    "- `height` (integer), \n",
    "- `weight` (integer).\n",
    "\n",
    "We need to bounds the `height` and `weight` columns. \n",
    "We can limit the height to a range of 140 to 200 and the weight to a range of 40 to 130 kg.\n"
   ]
  },
  {
   "cell_type": "markdown",
   "metadata": {},
   "source": [
    "The data preparation involves creating a new dataset with specific column transformations:\n",
    "- `id` (integer): remains unchanged\n",
    "- `gender` (string): exclude values other than 1 or 2 then replace 0 with 'M', 1 with 'F',\n",
    "- `height` (float): exclude values outside the range [140.0, 200.0],\n",
    "- `weight` (float): exclude values outside the range [40.0, 130.0].\n",
    "\n",
    "This preparation can be transcripted as an SQL query: "
   ]
  },
  {
   "cell_type": "code",
   "execution_count": 6,
   "metadata": {},
   "outputs": [],
   "source": [
    "query = \"\"\"\n",
    "WITH \n",
    "    bounds_table AS (SELECT \n",
    "        id, \n",
    "        height, \n",
    "        weight,\n",
    "        CASE WHEN id = 1 THEN 'M' ELSE 'F' END AS gender\n",
    "    FROM heart_data\n",
    "    WHERE \n",
    "        height > 140. AND height < 200. AND\n",
    "        weight > 40. AND weight < 130. AND\n",
    "        gender IN (1, 2)\n",
    "    )\n",
    "SELECT * FROM bounds_table\n",
    "\"\"\""
   ]
  },
  {
   "cell_type": "markdown",
   "metadata": {},
   "source": [
    "We define a new `Relation` that mirrors the dataset's SQL query operation:"
   ]
  },
  {
   "cell_type": "code",
   "execution_count": 7,
   "metadata": {},
   "outputs": [
    {
     "data": {
      "image/svg+xml": [
       "<?xml version=\"1.0\" encoding=\"UTF-8\" standalone=\"no\"?>\n",
       "<!DOCTYPE svg PUBLIC \"-//W3C//DTD SVG 1.1//EN\"\n",
       " \"http://www.w3.org/Graphics/SVG/1.1/DTD/svg11.dtd\">\n",
       "<!-- Generated by graphviz version 8.1.0 (20230707.0739)\n",
       " -->\n",
       "<!-- Title: graph_yep1 Pages: 1 -->\n",
       "<svg width=\"557pt\" height=\"427pt\"\n",
       " viewBox=\"0.00 0.00 557.30 427.40\" xmlns=\"http://www.w3.org/2000/svg\" xmlns:xlink=\"http://www.w3.org/1999/xlink\">\n",
       "<g id=\"graph0\" class=\"graph\" transform=\"scale(1 1) rotate(0) translate(4 423.4)\">\n",
       "<title>graph_yep1</title>\n",
       "<polygon fill=\"none\" stroke=\"none\" points=\"-4,4 -4,-423.4 553.3,-423.4 553.3,4 -4,4\"/>\n",
       "<!-- graph_gtdh -->\n",
       "<g id=\"node1\" class=\"node\">\n",
       "<title>graph_gtdh</title>\n",
       "<path fill=\"#ff1744\" stroke=\"#000000\" stroke-opacity=\"0.333333\" d=\"M358.05,-182.8C358.05,-182.8 191.25,-182.8 191.25,-182.8 185.25,-182.8 179.25,-176.8 179.25,-170.8 179.25,-170.8 179.25,-12 179.25,-12 179.25,-6 185.25,0 191.25,0 191.25,0 358.05,0 358.05,0 364.05,0 370.05,-6 370.05,-12 370.05,-12 370.05,-170.8 370.05,-170.8 370.05,-176.8 364.05,-182.8 358.05,-182.8\"/>\n",
       "<text text-anchor=\"start\" x=\"193.65\" y=\"-158.95\" font-family=\"Red Hat Display,sans-serif\" font-weight=\"bold\" font-size=\"11.00\" fill=\"#ffffff\" fill-opacity=\"0.733333\">HEART_DATA size ∈ int{70000}</text>\n",
       "<text text-anchor=\"start\" x=\"248.4\" y=\"-147.95\" font-family=\"Red Hat Display,sans-serif\" font-size=\"11.00\" fill=\"#ffffff\" fill-opacity=\"0.733333\">id = id ∈ int</text>\n",
       "<text text-anchor=\"start\" x=\"238.65\" y=\"-136.95\" font-family=\"Red Hat Display,sans-serif\" font-size=\"11.00\" fill=\"#ffffff\" fill-opacity=\"0.733333\">age = age ∈ int</text>\n",
       "<text text-anchor=\"start\" x=\"222.9\" y=\"-125.95\" font-family=\"Red Hat Display,sans-serif\" font-size=\"11.00\" fill=\"#ffffff\" fill-opacity=\"0.733333\">gender = gender ∈ int</text>\n",
       "<text text-anchor=\"start\" x=\"227.4\" y=\"-114.95\" font-family=\"Red Hat Display,sans-serif\" font-size=\"11.00\" fill=\"#ffffff\" fill-opacity=\"0.733333\">height = height ∈ int</text>\n",
       "<text text-anchor=\"start\" x=\"220.65\" y=\"-103.95\" font-family=\"Red Hat Display,sans-serif\" font-size=\"11.00\" fill=\"#ffffff\" fill-opacity=\"0.733333\">weight = weight ∈ float</text>\n",
       "<text text-anchor=\"start\" x=\"230.4\" y=\"-92.95\" font-family=\"Red Hat Display,sans-serif\" font-size=\"11.00\" fill=\"#ffffff\" fill-opacity=\"0.733333\">ap_hi = ap_hi ∈ int</text>\n",
       "<text text-anchor=\"start\" x=\"230.4\" y=\"-81.95\" font-family=\"Red Hat Display,sans-serif\" font-size=\"11.00\" fill=\"#ffffff\" fill-opacity=\"0.733333\">ap_lo = ap_lo ∈ int</text>\n",
       "<text text-anchor=\"start\" x=\"204.9\" y=\"-70.95\" font-family=\"Red Hat Display,sans-serif\" font-size=\"11.00\" fill=\"#ffffff\" fill-opacity=\"0.733333\">cholesterol = cholesterol ∈ int</text>\n",
       "<text text-anchor=\"start\" x=\"237.15\" y=\"-59.95\" font-family=\"Red Hat Display,sans-serif\" font-size=\"11.00\" fill=\"#ffffff\" fill-opacity=\"0.733333\">gluc = gluc ∈ int</text>\n",
       "<text text-anchor=\"start\" x=\"225.15\" y=\"-48.95\" font-family=\"Red Hat Display,sans-serif\" font-size=\"11.00\" fill=\"#ffffff\" fill-opacity=\"0.733333\">smoke = smoke ∈ int</text>\n",
       "<text text-anchor=\"start\" x=\"237.15\" y=\"-37.95\" font-family=\"Red Hat Display,sans-serif\" font-size=\"11.00\" fill=\"#ffffff\" fill-opacity=\"0.733333\">alco = alco ∈ int</text>\n",
       "<text text-anchor=\"start\" x=\"228.9\" y=\"-26.95\" font-family=\"Red Hat Display,sans-serif\" font-size=\"11.00\" fill=\"#ffffff\" fill-opacity=\"0.733333\">active = active ∈ int</text>\n",
       "<text text-anchor=\"start\" x=\"227.4\" y=\"-15.95\" font-family=\"Red Hat Display,sans-serif\" font-size=\"11.00\" fill=\"#ffffff\" fill-opacity=\"0.733333\">cardio = cardio ∈ int</text>\n",
       "</g>\n",
       "<!-- graph_2w31 -->\n",
       "<g id=\"node2\" class=\"node\">\n",
       "<title>graph_2w31</title>\n",
       "<path fill=\"#428e92\" stroke=\"#000000\" stroke-opacity=\"0.333333\" d=\"M537.3,-306.6C537.3,-306.6 12,-306.6 12,-306.6 6,-306.6 0,-300.6 0,-294.6 0,-294.6 0,-223.8 0,-223.8 0,-217.8 6,-211.8 12,-211.8 12,-211.8 537.3,-211.8 537.3,-211.8 543.3,-211.8 549.3,-217.8 549.3,-223.8 549.3,-223.8 549.3,-294.6 549.3,-294.6 549.3,-300.6 543.3,-306.6 537.3,-306.6\"/>\n",
       "<text text-anchor=\"start\" x=\"199.27\" y=\"-282.75\" font-family=\"Red Hat Display,sans-serif\" font-weight=\"bold\" font-size=\"11.00\" fill=\"#000000\" fill-opacity=\"0.733333\">MAP_IEJN size ∈ int[0 70000]</text>\n",
       "<text text-anchor=\"start\" x=\"248.4\" y=\"-271.75\" font-family=\"Red Hat Display,sans-serif\" font-size=\"11.00\" fill=\"#000000\" fill-opacity=\"0.733333\">id = id ∈ int</text>\n",
       "<text text-anchor=\"start\" x=\"200.4\" y=\"-260.75\" font-family=\"Red Hat Display,sans-serif\" font-size=\"11.00\" fill=\"#000000\" fill-opacity=\"0.733333\">height = height ∈ float[140 200]</text>\n",
       "<text text-anchor=\"start\" x=\"201.15\" y=\"-249.75\" font-family=\"Red Hat Display,sans-serif\" font-size=\"11.00\" fill=\"#000000\" fill-opacity=\"0.733333\">weight = weight ∈ float[40 130]</text>\n",
       "<text text-anchor=\"start\" x=\"115.65\" y=\"-238.75\" font-family=\"Red Hat Display,sans-serif\" font-size=\"11.00\" fill=\"#000000\" fill-opacity=\"0.733333\">gender = CASE WHEN (id = 1) THEN M ELSE F END ∈ str{F, M}</text>\n",
       "<text text-anchor=\"start\" x=\"14.4\" y=\"-227.75\" font-family=\"Red Hat Display,sans-serif\" font-size=\"11.00\" fill=\"#000000\" fill-opacity=\"0.733333\">WHERE (((((height &gt; 140) and (height &lt; 200)) and (weight &gt; 40)) and (weight &lt; 130)) and (gender in (1, 2)))</text>\n",
       "</g>\n",
       "<!-- graph_2w31&#45;&gt;graph_gtdh -->\n",
       "<g id=\"edge1\" class=\"edge\">\n",
       "<title>graph_2w31&#45;&gt;graph_gtdh</title>\n",
       "<path fill=\"none\" stroke=\"#2b303a\" d=\"M274.65,-211.57C274.65,-205.81 274.65,-199.75 274.65,-193.54\"/>\n",
       "<polygon fill=\"#2b303a\" stroke=\"#2b303a\" points=\"278.15,-194 274.65,-184 271.15,-194 278.15,-194\"/>\n",
       "</g>\n",
       "<!-- graph_yep1 -->\n",
       "<g id=\"node3\" class=\"node\">\n",
       "<title>graph_yep1</title>\n",
       "<path fill=\"#428e92\" stroke=\"#000000\" stroke-opacity=\"0.333333\" d=\"M355.05,-419.4C355.05,-419.4 194.25,-419.4 194.25,-419.4 188.25,-419.4 182.25,-413.4 182.25,-407.4 182.25,-407.4 182.25,-347.6 182.25,-347.6 182.25,-341.6 188.25,-335.6 194.25,-335.6 194.25,-335.6 355.05,-335.6 355.05,-335.6 361.05,-335.6 367.05,-341.6 367.05,-347.6 367.05,-347.6 367.05,-407.4 367.05,-407.4 367.05,-413.4 361.05,-419.4 355.05,-419.4\"/>\n",
       "<text text-anchor=\"start\" x=\"196.65\" y=\"-395.55\" font-family=\"Red Hat Display,sans-serif\" font-weight=\"bold\" font-size=\"11.00\" fill=\"#000000\" fill-opacity=\"0.733333\">MAP_3BKA size ∈ int[0 70000]</text>\n",
       "<text text-anchor=\"start\" x=\"248.4\" y=\"-384.55\" font-family=\"Red Hat Display,sans-serif\" font-size=\"11.00\" fill=\"#000000\" fill-opacity=\"0.733333\">id = id ∈ int</text>\n",
       "<text text-anchor=\"start\" x=\"200.4\" y=\"-373.55\" font-family=\"Red Hat Display,sans-serif\" font-size=\"11.00\" fill=\"#000000\" fill-opacity=\"0.733333\">height = height ∈ float[140 200]</text>\n",
       "<text text-anchor=\"start\" x=\"201.15\" y=\"-362.55\" font-family=\"Red Hat Display,sans-serif\" font-size=\"11.00\" fill=\"#000000\" fill-opacity=\"0.733333\">weight = weight ∈ float[40 130]</text>\n",
       "<text text-anchor=\"start\" x=\"208.65\" y=\"-351.55\" font-family=\"Red Hat Display,sans-serif\" font-size=\"11.00\" fill=\"#000000\" fill-opacity=\"0.733333\">gender = gender ∈ str{F, M}</text>\n",
       "</g>\n",
       "<!-- graph_yep1&#45;&gt;graph_2w31 -->\n",
       "<g id=\"edge2\" class=\"edge\">\n",
       "<title>graph_yep1&#45;&gt;graph_2w31</title>\n",
       "<path fill=\"none\" stroke=\"#2b303a\" d=\"M274.65,-335.17C274.65,-329.46 274.65,-323.51 274.65,-317.57\"/>\n",
       "<polygon fill=\"#2b303a\" stroke=\"#2b303a\" points=\"278.15,-317.94 274.65,-307.94 271.15,-317.94 278.15,-317.94\"/>\n",
       "</g>\n",
       "</g>\n",
       "</svg>\n"
      ],
      "text/plain": [
       "<graphviz.sources.Source at 0x11dcdb6a0>"
      ]
     },
     "metadata": {},
     "output_type": "display_data"
    }
   ],
   "source": [
    "relation = ds.sql(query)\n",
    "display_dot(relation.dot())"
   ]
  },
  {
   "cell_type": "markdown",
   "metadata": {},
   "source": [
    "At the basis in red, we find the original table `heart_data` with all its columns. \n",
    "\n",
    "The first mapping operation involves selecting the `id`, `gender`, `height` and `weight` columns and coercing their types. \n",
    "\n",
    "The output `Relation` contains the four columns with their datatypes propagated:\n",
    "\n",
    "- The `gender` column has `str` type with only two possible values `M` and `F`.\n",
    "- The `height` and `weigh` columns contain bounded floats. "
   ]
  },
  {
   "cell_type": "code",
   "execution_count": 8,
   "metadata": {},
   "outputs": [
    {
     "name": "stdout",
     "output_type": "stream",
     "text": [
      "The propagated datatype is: {id: int, height: float[140 200], weight: float[40 130], gender: str{F, M}}\n"
     ]
    }
   ],
   "source": [
    "print(f\"The propagated datatype is: {relation.schema()}\")  "
   ]
  },
  {
   "cell_type": "markdown",
   "metadata": {},
   "source": [
    "Importantly, these data types have been extended **independently, without necessitating any interaction with the database**. \n",
    "\n",
    "At this stage, the computation of aggregation sensitivity becomes feasible, but exclusively when such aggregation is executed on one of the initial columns.\n"
   ]
  },
  {
   "cell_type": "markdown",
   "metadata": {},
   "source": [
    "## Range propagation"
   ]
  },
  {
   "cell_type": "markdown",
   "metadata": {},
   "source": [
    "When confronted with the aggregation of composite columns, one approach to gauge sensitivity involves employing the automatic bounds determination algorithm introduced by [Wilson et al. (2019)](https://arxiv.org/abs/1909.01917). \n",
    "\n",
    "However, a drawback of this method is that it consumes half of the privacy budget allocated for the aggregation.\n",
    "\n",
    "In the next section, we'll delve into how Qrlew extends the boundaries of the initial columns to composite columns without spending any privacy budget."
   ]
  },
  {
   "cell_type": "markdown",
   "metadata": {},
   "source": [
    "As a first example, we reuse the previous query and compute the BMI (Body Mass Index) using the formula: \n",
    "$BMI = \\frac{weight(kg)}{height(m)^2}$."
   ]
  },
  {
   "cell_type": "code",
   "execution_count": 9,
   "metadata": {},
   "outputs": [
    {
     "data": {
      "image/svg+xml": [
       "<?xml version=\"1.0\" encoding=\"UTF-8\" standalone=\"no\"?>\n",
       "<!DOCTYPE svg PUBLIC \"-//W3C//DTD SVG 1.1//EN\"\n",
       " \"http://www.w3.org/Graphics/SVG/1.1/DTD/svg11.dtd\">\n",
       "<!-- Generated by graphviz version 8.1.0 (20230707.0739)\n",
       " -->\n",
       "<!-- Title: graph_xsi_ Pages: 1 -->\n",
       "<svg width=\"557pt\" height=\"485pt\"\n",
       " viewBox=\"0.00 0.00 557.30 485.20\" xmlns=\"http://www.w3.org/2000/svg\" xmlns:xlink=\"http://www.w3.org/1999/xlink\">\n",
       "<g id=\"graph0\" class=\"graph\" transform=\"scale(1 1) rotate(0) translate(4 481.2)\">\n",
       "<title>graph_xsi_</title>\n",
       "<polygon fill=\"none\" stroke=\"none\" points=\"-4,4 -4,-481.2 553.3,-481.2 553.3,4 -4,4\"/>\n",
       "<!-- graph_gtdh -->\n",
       "<g id=\"node1\" class=\"node\">\n",
       "<title>graph_gtdh</title>\n",
       "<path fill=\"#ff1744\" stroke=\"#000000\" stroke-opacity=\"0.333333\" d=\"M358.05,-182.8C358.05,-182.8 191.25,-182.8 191.25,-182.8 185.25,-182.8 179.25,-176.8 179.25,-170.8 179.25,-170.8 179.25,-12 179.25,-12 179.25,-6 185.25,0 191.25,0 191.25,0 358.05,0 358.05,0 364.05,0 370.05,-6 370.05,-12 370.05,-12 370.05,-170.8 370.05,-170.8 370.05,-176.8 364.05,-182.8 358.05,-182.8\"/>\n",
       "<text text-anchor=\"start\" x=\"193.65\" y=\"-158.95\" font-family=\"Red Hat Display,sans-serif\" font-weight=\"bold\" font-size=\"11.00\" fill=\"#ffffff\" fill-opacity=\"0.733333\">HEART_DATA size ∈ int{70000}</text>\n",
       "<text text-anchor=\"start\" x=\"248.4\" y=\"-147.95\" font-family=\"Red Hat Display,sans-serif\" font-size=\"11.00\" fill=\"#ffffff\" fill-opacity=\"0.733333\">id = id ∈ int</text>\n",
       "<text text-anchor=\"start\" x=\"238.65\" y=\"-136.95\" font-family=\"Red Hat Display,sans-serif\" font-size=\"11.00\" fill=\"#ffffff\" fill-opacity=\"0.733333\">age = age ∈ int</text>\n",
       "<text text-anchor=\"start\" x=\"222.9\" y=\"-125.95\" font-family=\"Red Hat Display,sans-serif\" font-size=\"11.00\" fill=\"#ffffff\" fill-opacity=\"0.733333\">gender = gender ∈ int</text>\n",
       "<text text-anchor=\"start\" x=\"227.4\" y=\"-114.95\" font-family=\"Red Hat Display,sans-serif\" font-size=\"11.00\" fill=\"#ffffff\" fill-opacity=\"0.733333\">height = height ∈ int</text>\n",
       "<text text-anchor=\"start\" x=\"220.65\" y=\"-103.95\" font-family=\"Red Hat Display,sans-serif\" font-size=\"11.00\" fill=\"#ffffff\" fill-opacity=\"0.733333\">weight = weight ∈ float</text>\n",
       "<text text-anchor=\"start\" x=\"230.4\" y=\"-92.95\" font-family=\"Red Hat Display,sans-serif\" font-size=\"11.00\" fill=\"#ffffff\" fill-opacity=\"0.733333\">ap_hi = ap_hi ∈ int</text>\n",
       "<text text-anchor=\"start\" x=\"230.4\" y=\"-81.95\" font-family=\"Red Hat Display,sans-serif\" font-size=\"11.00\" fill=\"#ffffff\" fill-opacity=\"0.733333\">ap_lo = ap_lo ∈ int</text>\n",
       "<text text-anchor=\"start\" x=\"204.9\" y=\"-70.95\" font-family=\"Red Hat Display,sans-serif\" font-size=\"11.00\" fill=\"#ffffff\" fill-opacity=\"0.733333\">cholesterol = cholesterol ∈ int</text>\n",
       "<text text-anchor=\"start\" x=\"237.15\" y=\"-59.95\" font-family=\"Red Hat Display,sans-serif\" font-size=\"11.00\" fill=\"#ffffff\" fill-opacity=\"0.733333\">gluc = gluc ∈ int</text>\n",
       "<text text-anchor=\"start\" x=\"225.15\" y=\"-48.95\" font-family=\"Red Hat Display,sans-serif\" font-size=\"11.00\" fill=\"#ffffff\" fill-opacity=\"0.733333\">smoke = smoke ∈ int</text>\n",
       "<text text-anchor=\"start\" x=\"237.15\" y=\"-37.95\" font-family=\"Red Hat Display,sans-serif\" font-size=\"11.00\" fill=\"#ffffff\" fill-opacity=\"0.733333\">alco = alco ∈ int</text>\n",
       "<text text-anchor=\"start\" x=\"228.9\" y=\"-26.95\" font-family=\"Red Hat Display,sans-serif\" font-size=\"11.00\" fill=\"#ffffff\" fill-opacity=\"0.733333\">active = active ∈ int</text>\n",
       "<text text-anchor=\"start\" x=\"227.4\" y=\"-15.95\" font-family=\"Red Hat Display,sans-serif\" font-size=\"11.00\" fill=\"#ffffff\" fill-opacity=\"0.733333\">cardio = cardio ∈ int</text>\n",
       "</g>\n",
       "<!-- graph_2w31 -->\n",
       "<g id=\"node2\" class=\"node\">\n",
       "<title>graph_2w31</title>\n",
       "<path fill=\"#428e92\" stroke=\"#000000\" stroke-opacity=\"0.333333\" d=\"M537.3,-306.6C537.3,-306.6 12,-306.6 12,-306.6 6,-306.6 0,-300.6 0,-294.6 0,-294.6 0,-223.8 0,-223.8 0,-217.8 6,-211.8 12,-211.8 12,-211.8 537.3,-211.8 537.3,-211.8 543.3,-211.8 549.3,-217.8 549.3,-223.8 549.3,-223.8 549.3,-294.6 549.3,-294.6 549.3,-300.6 543.3,-306.6 537.3,-306.6\"/>\n",
       "<text text-anchor=\"start\" x=\"199.27\" y=\"-282.75\" font-family=\"Red Hat Display,sans-serif\" font-weight=\"bold\" font-size=\"11.00\" fill=\"#000000\" fill-opacity=\"0.733333\">MAP_IEJN size ∈ int[0 70000]</text>\n",
       "<text text-anchor=\"start\" x=\"248.4\" y=\"-271.75\" font-family=\"Red Hat Display,sans-serif\" font-size=\"11.00\" fill=\"#000000\" fill-opacity=\"0.733333\">id = id ∈ int</text>\n",
       "<text text-anchor=\"start\" x=\"200.4\" y=\"-260.75\" font-family=\"Red Hat Display,sans-serif\" font-size=\"11.00\" fill=\"#000000\" fill-opacity=\"0.733333\">height = height ∈ float[140 200]</text>\n",
       "<text text-anchor=\"start\" x=\"201.15\" y=\"-249.75\" font-family=\"Red Hat Display,sans-serif\" font-size=\"11.00\" fill=\"#000000\" fill-opacity=\"0.733333\">weight = weight ∈ float[40 130]</text>\n",
       "<text text-anchor=\"start\" x=\"115.65\" y=\"-238.75\" font-family=\"Red Hat Display,sans-serif\" font-size=\"11.00\" fill=\"#000000\" fill-opacity=\"0.733333\">gender = CASE WHEN (id = 1) THEN M ELSE F END ∈ str{F, M}</text>\n",
       "<text text-anchor=\"start\" x=\"14.4\" y=\"-227.75\" font-family=\"Red Hat Display,sans-serif\" font-size=\"11.00\" fill=\"#000000\" fill-opacity=\"0.733333\">WHERE (((((height &gt; 140) and (height &lt; 200)) and (weight &gt; 40)) and (weight &lt; 130)) and (gender in (1, 2)))</text>\n",
       "</g>\n",
       "<!-- graph_2w31&#45;&gt;graph_gtdh -->\n",
       "<g id=\"edge1\" class=\"edge\">\n",
       "<title>graph_2w31&#45;&gt;graph_gtdh</title>\n",
       "<path fill=\"none\" stroke=\"#2b303a\" d=\"M274.65,-211.57C274.65,-205.81 274.65,-199.75 274.65,-193.54\"/>\n",
       "<polygon fill=\"#2b303a\" stroke=\"#2b303a\" points=\"278.15,-194 274.65,-184 271.15,-194 278.15,-194\"/>\n",
       "</g>\n",
       "<!-- graph_ujzb -->\n",
       "<g id=\"node3\" class=\"node\">\n",
       "<title>graph_ujzb</title>\n",
       "<path fill=\"#428e92\" stroke=\"#000000\" stroke-opacity=\"0.333333\" d=\"M432.3,-397.4C432.3,-397.4 117,-397.4 117,-397.4 111,-397.4 105,-391.4 105,-385.4 105,-385.4 105,-347.6 105,-347.6 105,-341.6 111,-335.6 117,-335.6 117,-335.6 432.3,-335.6 432.3,-335.6 438.3,-335.6 444.3,-341.6 444.3,-347.6 444.3,-347.6 444.3,-385.4 444.3,-385.4 444.3,-391.4 438.3,-397.4 432.3,-397.4\"/>\n",
       "<text text-anchor=\"start\" x=\"196.65\" y=\"-373.55\" font-family=\"Red Hat Display,sans-serif\" font-weight=\"bold\" font-size=\"11.00\" fill=\"#000000\" fill-opacity=\"0.733333\">MAP_5QNV size ∈ int[0 70000]</text>\n",
       "<text text-anchor=\"start\" x=\"119.4\" y=\"-362.55\" font-family=\"Red Hat Display,sans-serif\" font-size=\"11.00\" fill=\"#000000\" fill-opacity=\"0.733333\">height_in_meter = (height * 0.01) ∈ float[1.4000000000000001 2]</text>\n",
       "<text text-anchor=\"start\" x=\"201.15\" y=\"-351.55\" font-family=\"Red Hat Display,sans-serif\" font-size=\"11.00\" fill=\"#000000\" fill-opacity=\"0.733333\">weight = weight ∈ float[40 130]</text>\n",
       "</g>\n",
       "<!-- graph_ujzb&#45;&gt;graph_2w31 -->\n",
       "<g id=\"edge2\" class=\"edge\">\n",
       "<title>graph_ujzb&#45;&gt;graph_2w31</title>\n",
       "<path fill=\"none\" stroke=\"#2b303a\" d=\"M274.65,-335.33C274.65,-329.78 274.65,-323.82 274.65,-317.78\"/>\n",
       "<polygon fill=\"#2b303a\" stroke=\"#2b303a\" points=\"278.15,-317.88 274.65,-307.88 271.15,-317.88 278.15,-317.88\"/>\n",
       "</g>\n",
       "<!-- graph_xsi_ -->\n",
       "<g id=\"node4\" class=\"node\">\n",
       "<title>graph_xsi_</title>\n",
       "<path fill=\"#428e92\" stroke=\"#000000\" stroke-opacity=\"0.333333\" d=\"M478.42,-477.2C478.42,-477.2 70.88,-477.2 70.88,-477.2 64.88,-477.2 58.87,-471.2 58.87,-465.2 58.87,-465.2 58.87,-438.4 58.87,-438.4 58.87,-432.4 64.87,-426.4 70.87,-426.4 70.87,-426.4 478.42,-426.4 478.42,-426.4 484.42,-426.4 490.42,-432.4 490.42,-438.4 490.42,-438.4 490.42,-465.2 490.42,-465.2 490.42,-471.2 484.42,-477.2 478.42,-477.2\"/>\n",
       "<text text-anchor=\"start\" x=\"198.9\" y=\"-453.35\" font-family=\"Red Hat Display,sans-serif\" font-weight=\"bold\" font-size=\"11.00\" fill=\"#000000\" fill-opacity=\"0.733333\">MAP_9T9T size ∈ int[0 70000]</text>\n",
       "<text text-anchor=\"start\" x=\"73.27\" y=\"-442.35\" font-family=\"Red Hat Display,sans-serif\" font-size=\"11.00\" fill=\"#000000\" fill-opacity=\"0.733333\">bmi = (weight / (height_in_meter * height_in_meter)) ∈ float[10 66.32653061224488]</text>\n",
       "</g>\n",
       "<!-- graph_xsi_&#45;&gt;graph_ujzb -->\n",
       "<g id=\"edge3\" class=\"edge\">\n",
       "<title>graph_xsi_&#45;&gt;graph_ujzb</title>\n",
       "<path fill=\"none\" stroke=\"#2b303a\" d=\"M274.65,-426.26C274.65,-420.68 274.65,-414.6 274.65,-408.55\"/>\n",
       "<polygon fill=\"#2b303a\" stroke=\"#2b303a\" points=\"278.15,-408.77 274.65,-398.77 271.15,-408.77 278.15,-408.77\"/>\n",
       "</g>\n",
       "</g>\n",
       "</svg>\n"
      ],
      "text/plain": [
       "<graphviz.sources.Source at 0x1072a9dc0>"
      ]
     },
     "metadata": {},
     "output_type": "display_data"
    }
   ],
   "source": [
    "query = \"\"\"\n",
    "WITH \n",
    "    bounds_table AS (\n",
    "        SELECT \n",
    "            id, \n",
    "            height, \n",
    "            weight,\n",
    "            CASE WHEN id = 1 THEN 'M' ELSE 'F' END AS gender\n",
    "        FROM heart_data\n",
    "        WHERE \n",
    "            height > 140 AND height < 200 AND\n",
    "            weight > 40.00 AND weight < 130. AND\n",
    "            gender IN (1, 2)\n",
    "    ),\n",
    "    convert_table AS (\n",
    "        SELECT \n",
    "            height * 0.01 AS height_in_meter,  \n",
    "            weight\n",
    "        FROM bounds_table\n",
    "    )\n",
    "SELECT weight / (height_in_meter * height_in_meter) AS bmi FROM convert_table\n",
    "\"\"\"\n",
    "relation = ds.sql(query)\n",
    "display_dot(relation.dot())"
   ]
  },
  {
   "cell_type": "markdown",
   "metadata": {},
   "source": [
    "The two lower relations are the ones we previously had, which are fed into a new `Relation` that performs the conversion of the `height` column from centimeters to meters. \n",
    "\n",
    "The updated ranges are automatically calculated as `[140, 200] -> [1.4, 2.0]`.\n",
    "\n",
    "The BMI computation takes place in the uppermost `Relation`, the corresponding ranges are:\n",
    "$$\n",
    "\\left [ \\frac{\\min (weight(kg))}{\\max (height(m)^2)}, \\frac{\\max (weight(kg))}{\\min (height(m)^2)} \\right] \n",
    "$$"
   ]
  },
  {
   "cell_type": "code",
   "execution_count": 10,
   "metadata": {},
   "outputs": [
    {
     "data": {
      "text/plain": [
       "'{bmi: float[10 66.32653061224488]}'"
      ]
     },
     "execution_count": 10,
     "metadata": {},
     "output_type": "execute_result"
    }
   ],
   "source": [
    "relation.schema()"
   ]
  },
  {
   "cell_type": "markdown",
   "metadata": {},
   "source": [
    "This can be converted to the true min and max: "
   ]
  },
  {
   "cell_type": "code",
   "execution_count": 11,
   "metadata": {},
   "outputs": [
    {
     "name": "stdout",
     "output_type": "stream",
     "text": [
      "bmi: [14.527376033057852, 63.975401706010715]\n"
     ]
    }
   ],
   "source": [
    "df = pd.DataFrame(qdb.eval(relation))\n",
    "print(f\"bmi: [{df['bmi'].min()}, {df['bmi'].max()}]\")\n"
   ]
  },
  {
   "cell_type": "markdown",
   "metadata": {},
   "source": [
    "We observe that the estimated bounds encompass the actual bounds. This implies that we might be introducing an excessive amount of noise. If we aim to incorporate less noise, we can tighten the bounds; however, this adjustment could potentially introduce bias into the final outcome."
   ]
  },
  {
   "cell_type": "markdown",
   "metadata": {},
   "source": [
    "Let now consider another example. We want to compute the Lorentz fomula given by:\n",
    "\n",
    "$$\n",
    "\\left\\{\n",
    "    \\begin{array}{ll}\n",
    "        0.75 * height - 62.5 & \\text{if  gender='M'} \\\\\n",
    "        0.60 * height -40.0 & \\text{if  gender='F'} \\\\\n",
    "    \\end{array}\n",
    "\\right.\n",
    "$$\n",
    "\n",
    "**To illustrate the process of joining**, we calculate the Lorentz formula separately for males and females using two distinct common table expressions. \n",
    "Subsequently, we merge these tables through a join operation and retrieve the appropriate formula based on the individual's gender."
   ]
  },
  {
   "cell_type": "code",
   "execution_count": 12,
   "metadata": {},
   "outputs": [
    {
     "data": {
      "image/svg+xml": [
       "<?xml version=\"1.0\" encoding=\"UTF-8\" standalone=\"no\"?>\n",
       "<!DOCTYPE svg PUBLIC \"-//W3C//DTD SVG 1.1//EN\"\n",
       " \"http://www.w3.org/Graphics/SVG/1.1/DTD/svg11.dtd\">\n",
       "<!-- Generated by graphviz version 8.1.0 (20230707.0739)\n",
       " -->\n",
       "<!-- Title: graph_xg5t Pages: 1 -->\n",
       "<svg width=\"584pt\" height=\"642pt\"\n",
       " viewBox=\"0.00 0.00 583.80 642.00\" xmlns=\"http://www.w3.org/2000/svg\" xmlns:xlink=\"http://www.w3.org/1999/xlink\">\n",
       "<g id=\"graph0\" class=\"graph\" transform=\"scale(1 1) rotate(0) translate(4 638)\">\n",
       "<title>graph_xg5t</title>\n",
       "<polygon fill=\"none\" stroke=\"none\" points=\"-4,4 -4,-638 579.8,-638 579.8,4 -4,4\"/>\n",
       "<!-- graph_gtdh -->\n",
       "<g id=\"node1\" class=\"node\">\n",
       "<title>graph_gtdh</title>\n",
       "<path fill=\"#ff1744\" stroke=\"#000000\" stroke-opacity=\"0.333333\" d=\"M376.8,-182.8C376.8,-182.8 210,-182.8 210,-182.8 204,-182.8 198,-176.8 198,-170.8 198,-170.8 198,-12 198,-12 198,-6 204,0 210,0 210,0 376.8,0 376.8,0 382.8,0 388.8,-6 388.8,-12 388.8,-12 388.8,-170.8 388.8,-170.8 388.8,-176.8 382.8,-182.8 376.8,-182.8\"/>\n",
       "<text text-anchor=\"start\" x=\"212.4\" y=\"-158.95\" font-family=\"Red Hat Display,sans-serif\" font-weight=\"bold\" font-size=\"11.00\" fill=\"#ffffff\" fill-opacity=\"0.733333\">HEART_DATA size ∈ int{70000}</text>\n",
       "<text text-anchor=\"start\" x=\"267.15\" y=\"-147.95\" font-family=\"Red Hat Display,sans-serif\" font-size=\"11.00\" fill=\"#ffffff\" fill-opacity=\"0.733333\">id = id ∈ int</text>\n",
       "<text text-anchor=\"start\" x=\"257.4\" y=\"-136.95\" font-family=\"Red Hat Display,sans-serif\" font-size=\"11.00\" fill=\"#ffffff\" fill-opacity=\"0.733333\">age = age ∈ int</text>\n",
       "<text text-anchor=\"start\" x=\"241.65\" y=\"-125.95\" font-family=\"Red Hat Display,sans-serif\" font-size=\"11.00\" fill=\"#ffffff\" fill-opacity=\"0.733333\">gender = gender ∈ int</text>\n",
       "<text text-anchor=\"start\" x=\"246.15\" y=\"-114.95\" font-family=\"Red Hat Display,sans-serif\" font-size=\"11.00\" fill=\"#ffffff\" fill-opacity=\"0.733333\">height = height ∈ int</text>\n",
       "<text text-anchor=\"start\" x=\"239.4\" y=\"-103.95\" font-family=\"Red Hat Display,sans-serif\" font-size=\"11.00\" fill=\"#ffffff\" fill-opacity=\"0.733333\">weight = weight ∈ float</text>\n",
       "<text text-anchor=\"start\" x=\"249.15\" y=\"-92.95\" font-family=\"Red Hat Display,sans-serif\" font-size=\"11.00\" fill=\"#ffffff\" fill-opacity=\"0.733333\">ap_hi = ap_hi ∈ int</text>\n",
       "<text text-anchor=\"start\" x=\"249.15\" y=\"-81.95\" font-family=\"Red Hat Display,sans-serif\" font-size=\"11.00\" fill=\"#ffffff\" fill-opacity=\"0.733333\">ap_lo = ap_lo ∈ int</text>\n",
       "<text text-anchor=\"start\" x=\"223.65\" y=\"-70.95\" font-family=\"Red Hat Display,sans-serif\" font-size=\"11.00\" fill=\"#ffffff\" fill-opacity=\"0.733333\">cholesterol = cholesterol ∈ int</text>\n",
       "<text text-anchor=\"start\" x=\"255.9\" y=\"-59.95\" font-family=\"Red Hat Display,sans-serif\" font-size=\"11.00\" fill=\"#ffffff\" fill-opacity=\"0.733333\">gluc = gluc ∈ int</text>\n",
       "<text text-anchor=\"start\" x=\"243.9\" y=\"-48.95\" font-family=\"Red Hat Display,sans-serif\" font-size=\"11.00\" fill=\"#ffffff\" fill-opacity=\"0.733333\">smoke = smoke ∈ int</text>\n",
       "<text text-anchor=\"start\" x=\"255.9\" y=\"-37.95\" font-family=\"Red Hat Display,sans-serif\" font-size=\"11.00\" fill=\"#ffffff\" fill-opacity=\"0.733333\">alco = alco ∈ int</text>\n",
       "<text text-anchor=\"start\" x=\"247.65\" y=\"-26.95\" font-family=\"Red Hat Display,sans-serif\" font-size=\"11.00\" fill=\"#ffffff\" fill-opacity=\"0.733333\">active = active ∈ int</text>\n",
       "<text text-anchor=\"start\" x=\"246.15\" y=\"-15.95\" font-family=\"Red Hat Display,sans-serif\" font-size=\"11.00\" fill=\"#ffffff\" fill-opacity=\"0.733333\">cardio = cardio ∈ int</text>\n",
       "</g>\n",
       "<!-- graph_9x77 -->\n",
       "<g id=\"node2\" class=\"node\">\n",
       "<title>graph_9x77</title>\n",
       "<path fill=\"#428e92\" stroke=\"#000000\" stroke-opacity=\"0.333333\" d=\"M556.05,-317.6C556.05,-317.6 30.75,-317.6 30.75,-317.6 24.75,-317.6 18.75,-311.6 18.75,-305.6 18.75,-305.6 18.75,-223.8 18.75,-223.8 18.75,-217.8 24.75,-211.8 30.75,-211.8 30.75,-211.8 556.05,-211.8 556.05,-211.8 562.05,-211.8 568.05,-217.8 568.05,-223.8 568.05,-223.8 568.05,-305.6 568.05,-305.6 568.05,-311.6 562.05,-317.6 556.05,-317.6\"/>\n",
       "<text text-anchor=\"start\" x=\"215.77\" y=\"-293.75\" font-family=\"Red Hat Display,sans-serif\" font-weight=\"bold\" font-size=\"11.00\" fill=\"#000000\" fill-opacity=\"0.733333\">MAP_G1HL size ∈ int[0 70000]</text>\n",
       "<text text-anchor=\"start\" x=\"267.15\" y=\"-282.75\" font-family=\"Red Hat Display,sans-serif\" font-size=\"11.00\" fill=\"#000000\" fill-opacity=\"0.733333\">id = id ∈ int</text>\n",
       "<text text-anchor=\"start\" x=\"257.4\" y=\"-271.75\" font-family=\"Red Hat Display,sans-serif\" font-size=\"11.00\" fill=\"#000000\" fill-opacity=\"0.733333\">age = age ∈ int</text>\n",
       "<text text-anchor=\"start\" x=\"219.15\" y=\"-260.75\" font-family=\"Red Hat Display,sans-serif\" font-size=\"11.00\" fill=\"#000000\" fill-opacity=\"0.733333\">height = height ∈ float[140 200]</text>\n",
       "<text text-anchor=\"start\" x=\"219.9\" y=\"-249.75\" font-family=\"Red Hat Display,sans-serif\" font-size=\"11.00\" fill=\"#000000\" fill-opacity=\"0.733333\">weight = weight ∈ float[40 130]</text>\n",
       "<text text-anchor=\"start\" x=\"121.65\" y=\"-238.75\" font-family=\"Red Hat Display,sans-serif\" font-size=\"11.00\" fill=\"#000000\" fill-opacity=\"0.733333\">gender = CASE WHEN (gender = 1) THEN M ELSE F END ∈ str{F, M}</text>\n",
       "<text text-anchor=\"start\" x=\"33.15\" y=\"-227.75\" font-family=\"Red Hat Display,sans-serif\" font-size=\"11.00\" fill=\"#000000\" fill-opacity=\"0.733333\">WHERE (((((height &gt; 140) and (height &lt; 200)) and (weight &gt; 40)) and (weight &lt; 130)) and (gender in (1, 2)))</text>\n",
       "</g>\n",
       "<!-- graph_9x77&#45;&gt;graph_gtdh -->\n",
       "<g id=\"edge1\" class=\"edge\">\n",
       "<title>graph_9x77&#45;&gt;graph_gtdh</title>\n",
       "<path fill=\"none\" stroke=\"#2b303a\" d=\"M293.4,-211.37C293.4,-205.78 293.4,-199.96 293.4,-194.03\"/>\n",
       "<polygon fill=\"#2b303a\" stroke=\"#2b303a\" points=\"296.9,-194.27 293.4,-184.27 289.9,-194.27 296.9,-194.27\"/>\n",
       "</g>\n",
       "<!-- graph_y6l5 -->\n",
       "<g id=\"node3\" class=\"node\">\n",
       "<title>graph_y6l5</title>\n",
       "<path fill=\"#428e92\" stroke=\"#000000\" stroke-opacity=\"0.333333\" d=\"M280.8,-413.9C280.8,-413.9 12,-413.9 12,-413.9 6,-413.9 0,-407.9 0,-401.9 0,-401.9 0,-364.1 0,-364.1 0,-358.1 6,-352.1 12,-352.1 12,-352.1 280.8,-352.1 280.8,-352.1 286.8,-352.1 292.8,-358.1 292.8,-364.1 292.8,-364.1 292.8,-401.9 292.8,-401.9 292.8,-407.9 286.8,-413.9 280.8,-413.9\"/>\n",
       "<text text-anchor=\"start\" x=\"68.02\" y=\"-390.05\" font-family=\"Red Hat Display,sans-serif\" font-weight=\"bold\" font-size=\"11.00\" fill=\"#000000\" fill-opacity=\"0.733333\">MAP_R5AB size ∈ int[0 70000]</text>\n",
       "<text text-anchor=\"start\" x=\"120.15\" y=\"-379.05\" font-family=\"Red Hat Display,sans-serif\" font-size=\"11.00\" fill=\"#000000\" fill-opacity=\"0.733333\">id = id ∈ int</text>\n",
       "<text text-anchor=\"start\" x=\"14.4\" y=\"-368.05\" font-family=\"Red Hat Display,sans-serif\" font-size=\"11.00\" fill=\"#000000\" fill-opacity=\"0.733333\">male_lorentz = ((0.75 * height) &#45; 62.5) ∈ float[42.5 87.5]</text>\n",
       "</g>\n",
       "<!-- graph_y6l5&#45;&gt;graph_9x77 -->\n",
       "<g id=\"edge2\" class=\"edge\">\n",
       "<title>graph_y6l5&#45;&gt;graph_9x77</title>\n",
       "<path fill=\"none\" stroke=\"#2b303a\" d=\"M184.64,-351.75C195.18,-343.41 206.99,-334.06 218.84,-324.69\"/>\n",
       "<polygon fill=\"#2b303a\" stroke=\"#2b303a\" points=\"220.78,-326.82 226.45,-317.87 216.44,-321.33 220.78,-326.82\"/>\n",
       "</g>\n",
       "<!-- graph_r7vy -->\n",
       "<g id=\"node4\" class=\"node\">\n",
       "<title>graph_r7vy</title>\n",
       "<path fill=\"#428e92\" stroke=\"#000000\" stroke-opacity=\"0.333333\" d=\"M563.8,-419.4C563.8,-419.4 319,-419.4 319,-419.4 313,-419.4 307,-413.4 307,-407.4 307,-407.4 307,-358.6 307,-358.6 307,-352.6 313,-346.6 319,-346.6 319,-346.6 563.8,-346.6 563.8,-346.6 569.8,-346.6 575.8,-352.6 575.8,-358.6 575.8,-358.6 575.8,-407.4 575.8,-407.4 575.8,-413.4 569.8,-419.4 563.8,-419.4\"/>\n",
       "<text text-anchor=\"start\" x=\"363.4\" y=\"-395.55\" font-family=\"Red Hat Display,sans-serif\" font-weight=\"bold\" font-size=\"11.00\" fill=\"#000000\" fill-opacity=\"0.733333\">MAP_7VBQ size ∈ int[0 70000]</text>\n",
       "<text text-anchor=\"start\" x=\"415.15\" y=\"-384.55\" font-family=\"Red Hat Display,sans-serif\" font-size=\"11.00\" fill=\"#000000\" fill-opacity=\"0.733333\">id = id ∈ int</text>\n",
       "<text text-anchor=\"start\" x=\"375.4\" y=\"-373.55\" font-family=\"Red Hat Display,sans-serif\" font-size=\"11.00\" fill=\"#000000\" fill-opacity=\"0.733333\">gender = gender ∈ str{F, M}</text>\n",
       "<text text-anchor=\"start\" x=\"321.4\" y=\"-362.55\" font-family=\"Red Hat Display,sans-serif\" font-size=\"11.00\" fill=\"#000000\" fill-opacity=\"0.733333\">female_lorentz = ((0.6 * height) &#45; 40) ∈ float[44 80]</text>\n",
       "</g>\n",
       "<!-- graph_r7vy&#45;&gt;graph_9x77 -->\n",
       "<g id=\"edge3\" class=\"edge\">\n",
       "<title>graph_r7vy&#45;&gt;graph_9x77</title>\n",
       "<path fill=\"none\" stroke=\"#2b303a\" d=\"M395.79,-346.16C387.14,-339.36 377.88,-332.09 368.6,-324.79\"/>\n",
       "<polygon fill=\"#2b303a\" stroke=\"#2b303a\" points=\"371.11,-321.53 361.08,-318.1 366.78,-327.03 371.11,-321.53\"/>\n",
       "</g>\n",
       "<!-- graph_y90w -->\n",
       "<g id=\"node5\" class=\"node\">\n",
       "<title>graph_y90w</title>\n",
       "<path fill=\"#ff616f\" stroke=\"#000000\" stroke-opacity=\"0.333333\" d=\"M426.67,-554.2C426.67,-554.2 160.12,-554.2 160.12,-554.2 154.12,-554.2 148.12,-548.2 148.12,-542.2 148.12,-542.2 148.12,-460.4 148.12,-460.4 148.12,-454.4 154.12,-448.4 160.12,-448.4 160.12,-448.4 426.67,-448.4 426.67,-448.4 432.67,-448.4 438.67,-454.4 438.67,-460.4 438.67,-460.4 438.67,-542.2 438.67,-542.2 438.67,-548.2 432.67,-554.2 426.67,-554.2\"/>\n",
       "<text text-anchor=\"start\" x=\"201.52\" y=\"-530.35\" font-family=\"Red Hat Display,sans-serif\" font-weight=\"bold\" font-size=\"11.00\" fill=\"#000000\" fill-opacity=\"0.733333\">JOIN_BMLI size ∈ int[0 4900000000]</text>\n",
       "<text text-anchor=\"start\" x=\"219.15\" y=\"-519.35\" font-family=\"Red Hat Display,sans-serif\" font-size=\"11.00\" fill=\"#000000\" fill-opacity=\"0.733333\">field_mavc = map_7vbq.id ∈ int</text>\n",
       "<text text-anchor=\"start\" x=\"192.9\" y=\"-508.35\" font-family=\"Red Hat Display,sans-serif\" font-size=\"11.00\" fill=\"#000000\" fill-opacity=\"0.733333\">field_hub7 = map_7vbq.gender ∈ str{F, M}</text>\n",
       "<text text-anchor=\"start\" x=\"167.77\" y=\"-497.35\" font-family=\"Red Hat Display,sans-serif\" font-size=\"11.00\" fill=\"#000000\" fill-opacity=\"0.733333\">field_71hp = map_7vbq.female_lorentz ∈ float[44 80]</text>\n",
       "<text text-anchor=\"start\" x=\"222.9\" y=\"-486.35\" font-family=\"Red Hat Display,sans-serif\" font-size=\"11.00\" fill=\"#000000\" fill-opacity=\"0.733333\">field_tkze = map_r5ab.id ∈ int</text>\n",
       "<text text-anchor=\"start\" x=\"162.52\" y=\"-475.35\" font-family=\"Red Hat Display,sans-serif\" font-size=\"11.00\" fill=\"#000000\" fill-opacity=\"0.733333\">field_4m7b = map_r5ab.male_lorentz ∈ float[42.5 87.5]</text>\n",
       "<text text-anchor=\"start\" x=\"197.77\" y=\"-464.35\" font-family=\"Red Hat Display,sans-serif\" font-size=\"11.00\" fill=\"#000000\" fill-opacity=\"0.733333\">LEFT ON (map_7vbq.id = map_r5ab.id)</text>\n",
       "</g>\n",
       "<!-- graph_y90w&#45;&gt;graph_y6l5 -->\n",
       "<g id=\"edge5\" class=\"edge\">\n",
       "<title>graph_y90w&#45;&gt;graph_y6l5</title>\n",
       "<path fill=\"none\" stroke=\"#2b303a\" d=\"M227.21,-447.93C215.67,-438.8 203.88,-429.47 193,-420.87\"/>\n",
       "<polygon fill=\"#2b303a\" stroke=\"#2b303a\" points=\"195.51,-417.6 185.5,-414.14 191.17,-423.09 195.51,-417.6\"/>\n",
       "</g>\n",
       "<!-- graph_y90w&#45;&gt;graph_r7vy -->\n",
       "<g id=\"edge4\" class=\"edge\">\n",
       "<title>graph_y90w&#45;&gt;graph_r7vy</title>\n",
       "<path fill=\"none\" stroke=\"#2b303a\" d=\"M360.04,-447.93C369.23,-440.71 378.57,-433.38 387.48,-426.37\"/>\n",
       "<polygon fill=\"#2b303a\" stroke=\"#2b303a\" points=\"389.19,-428.7 394.89,-419.76 384.86,-423.19 389.19,-428.7\"/>\n",
       "</g>\n",
       "<!-- graph_xg5t -->\n",
       "<g id=\"node6\" class=\"node\">\n",
       "<title>graph_xg5t</title>\n",
       "<path fill=\"#428e92\" stroke=\"#000000\" stroke-opacity=\"0.333333\" d=\"M535.05,-634C535.05,-634 51.75,-634 51.75,-634 45.75,-634 39.75,-628 39.75,-622 39.75,-622 39.75,-595.2 39.75,-595.2 39.75,-589.2 45.75,-583.2 51.75,-583.2 51.75,-583.2 535.05,-583.2 535.05,-583.2 541.05,-583.2 547.05,-589.2 547.05,-595.2 547.05,-595.2 547.05,-622 547.05,-622 547.05,-628 541.05,-634 535.05,-634\"/>\n",
       "<text text-anchor=\"start\" x=\"200.4\" y=\"-610.15\" font-family=\"Red Hat Display,sans-serif\" font-weight=\"bold\" font-size=\"11.00\" fill=\"#000000\" fill-opacity=\"0.733333\">MAP_DT8M size ∈ int[0 4900000000]</text>\n",
       "<text text-anchor=\"start\" x=\"54.15\" y=\"-599.15\" font-family=\"Red Hat Display,sans-serif\" font-size=\"11.00\" fill=\"#000000\" fill-opacity=\"0.733333\">lorentz = CASE WHEN (field_hub7 = M) THEN field_4m7b ELSE field_71hp END ∈ float[42.5 87.5]</text>\n",
       "</g>\n",
       "<!-- graph_xg5t&#45;&gt;graph_y90w -->\n",
       "<g id=\"edge6\" class=\"edge\">\n",
       "<title>graph_xg5t&#45;&gt;graph_y90w</title>\n",
       "<path fill=\"none\" stroke=\"#2b303a\" d=\"M293.4,-582.91C293.4,-577.46 293.4,-571.44 293.4,-565.23\"/>\n",
       "<polygon fill=\"#2b303a\" stroke=\"#2b303a\" points=\"296.9,-565.65 293.4,-555.65 289.9,-565.65 296.9,-565.65\"/>\n",
       "</g>\n",
       "</g>\n",
       "</svg>\n"
      ],
      "text/plain": [
       "<graphviz.sources.Source at 0x1072e92b0>"
      ]
     },
     "metadata": {},
     "output_type": "display_data"
    }
   ],
   "source": [
    "query = \"\"\"\n",
    "WITH \n",
    "    bounds_table AS (\n",
    "        SELECT \n",
    "            id, \n",
    "            age, \n",
    "            height, \n",
    "            weight,\n",
    "            CASE WHEN gender = 1 THEN 'M' ELSE 'F' END AS gender\n",
    "        FROM heart_data\n",
    "        WHERE \n",
    "            height > 140 AND height < 200 AND\n",
    "            weight > 40.00 AND weight < 130. AND\n",
    "            gender IN (1, 2)\n",
    "    ),\n",
    "    female_table AS (\n",
    "        SELECT \n",
    "            id, \n",
    "            gender,\n",
    "            0.6 * height -40.0 AS female_lorentz\n",
    "        FROM bounds_table\n",
    "    ),\n",
    "    male_table AS (\n",
    "        SELECT \n",
    "            id, \n",
    "            0.75 * height - 62.5 AS male_lorentz\n",
    "        FROM bounds_table\n",
    "    )\n",
    "SELECT CASE WHEN gender = 'M' THEN male_lorentz else female_lorentz END AS lorentz FROM female_table LEFT JOIN male_table ON female_table.id = male_table.id\n",
    "\"\"\"\n",
    "relation = ds.sql(query) \n",
    "\n",
    "display_dot(relation.dot())"
   ]
  },
  {
   "cell_type": "markdown",
   "metadata": {},
   "source": [
    "Once more, in this example, you can trace follow the propagation of the ranges as they propagate throughout all the relations.\n",
    "\n",
    "Finally, the propagated ranges for the Lorentz formula are:"
   ]
  },
  {
   "cell_type": "code",
   "execution_count": 13,
   "metadata": {},
   "outputs": [
    {
     "data": {
      "text/plain": [
       "'{lorentz: float[42.5 87.5]}'"
      ]
     },
     "execution_count": 13,
     "metadata": {},
     "output_type": "execute_result"
    }
   ],
   "source": [
    "relation.schema()"
   ]
  },
  {
   "cell_type": "markdown",
   "metadata": {},
   "source": [
    "The exact ranges are: "
   ]
  },
  {
   "cell_type": "code",
   "execution_count": 14,
   "metadata": {},
   "outputs": [
    {
     "name": "stdout",
     "output_type": "stream",
     "text": [
      "lorentz: [43.25, 86.0]\n"
     ]
    }
   ],
   "source": [
    "df = pd.DataFrame(qdb.eval(relation))\n",
    "print(f\"lorentz: [{df['lorentz'].min()}, {df['lorentz'].max()}]\")\n"
   ]
  },
  {
   "cell_type": "markdown",
   "metadata": {},
   "source": [
    "In certain scenarios, when there's a high correlation between columns, it might not be advisable to use propagated ranges. \n",
    "This is because the accurate range could be influenced by significant correlations that are not evident from external data. \n",
    "In such instances, it could be beneficial to allocate budget towards computing ranges using the automatic boundary determination algorithm ([Wilson et al. 2019](https://arxiv.org/abs/1909.01917))."
   ]
  },
  {
   "cell_type": "markdown",
   "metadata": {},
   "source": [
    "However, how can an analyst without free database access determine whether he should allocate budget to compute the ranges?\n",
    "\n",
    "This is where utilizing Sarus becomes advantageous. \n",
    "\n",
    "By employing [Sarus](https://www.sarus.tech/), the analyst gains **access to a synthetic dataset** wherein inter-column correlations are replicated.\n",
    "\n",
    "This empowers the analyst to **devise a strategy without expending privacy resources**, as they can scrutinize the synthetic dataset for insights and make informed decisions."
   ]
  }
 ],
 "metadata": {
  "kernelspec": {
   "display_name": "myenv",
   "language": "python",
   "name": "python3"
  },
  "language_info": {
   "codemirror_mode": {
    "name": "ipython",
    "version": 3
   },
   "file_extension": ".py",
   "mimetype": "text/x-python",
   "name": "python",
   "nbconvert_exporter": "python",
   "pygments_lexer": "ipython3",
   "version": "3.11.2"
  },
  "orig_nbformat": 4
 },
 "nbformat": 4,
 "nbformat_minor": 2
}
