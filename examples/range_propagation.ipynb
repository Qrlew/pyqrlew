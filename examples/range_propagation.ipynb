{
 "cells": [
  {
   "cell_type": "markdown",
   "metadata": {},
   "source": [
    "# Automatic range computation"
   ]
  },
  {
   "cell_type": "markdown",
   "metadata": {},
   "source": [
    "Differential privacy focuses on revealing data aggregation outcomes while diminishing the impact of any single person on the overall collective result. \n",
    "This principle operates via a tandem of interconnected stages that can be adapted to various analytical scenarios, spanning SQL queries, conventional statistical analyses, and even deep learning tasks.\n",
    "\n",
    "- **Data bounding**: This phase involves refining the data by excluding outliers and constraining it within rational limits. For instance, considering the \"age\" column of a census dataset, it is reasonable to constrain the age values between 18 and 100 and adjust the extreme values to the nearest boundary.\n",
    "\n",
    "- **Noise Introduction**: We inject into each aggregation a level of noise that is calibrated by the privacy parameters and the **sensitivity**, i.e. the maximum potential influence an individual could wield over the final result.\n",
    "\n",
    "The second phase is inherently intertwined with the first, since the the **sensitivity** in computed from the boundaries set in the initial phase. \n",
    "If we significantly overestimate these bounds, it could lead to a substantial increase in noise. \n",
    "This, in turn, would undermine the usefulness and effectiveness of the analysis."
   ]
  },
  {
   "cell_type": "markdown",
   "metadata": {},
   "source": [
    "In this post, we'll focus on the **data bounding stage applied to SQL analysis** using the [`qrlew`](https://qrlew.github.io/) framework. "
   ]
  },
  {
   "cell_type": "code",
   "execution_count": 1,
   "metadata": {},
   "outputs": [],
   "source": [
    "import logging\n",
    "logging.disable(logging.INFO)"
   ]
  },
  {
   "cell_type": "code",
   "execution_count": 2,
   "metadata": {},
   "outputs": [
    {
     "name": "stdout",
     "output_type": "stream",
     "text": [
      "Requirement already satisfied: pyqrlew==0.3.2 in /Users/victoriadesainteagathe/Documents/codes/DP-SQL/pyqrlew/myenv/lib/python3.9/site-packages (0.3.2)\n",
      "Requirement already satisfied: psycopg[binary,pool]~=3.0 in /Users/victoriadesainteagathe/Documents/codes/DP-SQL/pyqrlew/myenv/lib/python3.9/site-packages (from pyqrlew==0.3.2) (3.1.9)\n",
      "Requirement already satisfied: pymysql~=1.0 in /Users/victoriadesainteagathe/Documents/codes/DP-SQL/pyqrlew/myenv/lib/python3.9/site-packages (from pyqrlew==0.3.2) (1.1.0)\n",
      "Requirement already satisfied: qrlew-datasets~=0.3.2 in /Users/victoriadesainteagathe/Documents/codes/DP-SQL/pyqrlew/myenv/lib/python3.9/site-packages (from pyqrlew==0.3.2) (0.3.2)\n",
      "Requirement already satisfied: SQLAlchemy~=2.0 in /Users/victoriadesainteagathe/Documents/codes/DP-SQL/pyqrlew/myenv/lib/python3.9/site-packages (from pyqrlew==0.3.2) (2.0.19)\n",
      "Requirement already satisfied: typing-extensions>=4.1 in /Users/victoriadesainteagathe/Documents/codes/DP-SQL/pyqrlew/myenv/lib/python3.9/site-packages (from psycopg[binary,pool]~=3.0->pyqrlew==0.3.2) (4.6.3)\n",
      "Requirement already satisfied: psycopg-binary==3.1.9; extra == \"binary\" in /Users/victoriadesainteagathe/Documents/codes/DP-SQL/pyqrlew/myenv/lib/python3.9/site-packages (from psycopg[binary,pool]~=3.0->pyqrlew==0.3.2) (3.1.9)\n",
      "Requirement already satisfied: psycopg-pool; extra == \"pool\" in /Users/victoriadesainteagathe/Documents/codes/DP-SQL/pyqrlew/myenv/lib/python3.9/site-packages (from psycopg[binary,pool]~=3.0->pyqrlew==0.3.2) (3.1.7)\n",
      "Requirement already satisfied: termcolor<3.0.0,>=2.3.0 in /Users/victoriadesainteagathe/Documents/codes/DP-SQL/pyqrlew/myenv/lib/python3.9/site-packages (from qrlew-datasets~=0.3.2->pyqrlew==0.3.2) (2.3.0)\n",
      "Requirement already satisfied: greenlet!=0.4.17; platform_machine == \"aarch64\" or (platform_machine == \"ppc64le\" or (platform_machine == \"x86_64\" or (platform_machine == \"amd64\" or (platform_machine == \"AMD64\" or (platform_machine == \"win32\" or platform_machine == \"WIN32\"))))) in /Users/victoriadesainteagathe/Documents/codes/DP-SQL/pyqrlew/myenv/lib/python3.9/site-packages (from SQLAlchemy~=2.0->pyqrlew==0.3.2) (2.0.2)\n",
      "\u001b[33mWARNING: You are using pip version 20.2.3; however, version 23.2.1 is available.\n",
      "You should consider upgrading via the '/Users/victoriadesainteagathe/Documents/codes/DP-SQL/pyqrlew/myenv/bin/python -m pip install --upgrade pip' command.\u001b[0m\n",
      "Note: you may need to restart the kernel to use updated packages.\n"
     ]
    }
   ],
   "source": [
    "%pip install pyqrlew==0.3.2"
   ]
  },
  {
   "cell_type": "markdown",
   "metadata": {},
   "source": [
    "We load a csv extract of the [Kuzak Dempsy's dataset](https://data.world/kudem):"
   ]
  },
  {
   "cell_type": "code",
   "execution_count": 3,
   "metadata": {},
   "outputs": [],
   "source": [
    "import pyqrlew as pq\n",
    "qdb = pq.from_csv(\n",
    "    table_name=\"heart_data\", \n",
    "    csv_file=\"https://storage.googleapis.com/qrlew-demo-data/heart_data.csv\"\n",
    ")"
   ]
  },
  {
   "cell_type": "code",
   "execution_count": 4,
   "metadata": {},
   "outputs": [
    {
     "data": {
      "text/html": [
       "<div>\n",
       "<style scoped>\n",
       "    .dataframe tbody tr th:only-of-type {\n",
       "        vertical-align: middle;\n",
       "    }\n",
       "\n",
       "    .dataframe tbody tr th {\n",
       "        vertical-align: top;\n",
       "    }\n",
       "\n",
       "    .dataframe thead th {\n",
       "        text-align: right;\n",
       "    }\n",
       "</style>\n",
       "<table border=\"1\" class=\"dataframe\">\n",
       "  <thead>\n",
       "    <tr style=\"text-align: right;\">\n",
       "      <th></th>\n",
       "      <th>id</th>\n",
       "      <th>age</th>\n",
       "      <th>gender</th>\n",
       "      <th>height</th>\n",
       "      <th>weight</th>\n",
       "      <th>ap_hi</th>\n",
       "      <th>ap_lo</th>\n",
       "      <th>cholesterol</th>\n",
       "      <th>gluc</th>\n",
       "      <th>smoke</th>\n",
       "      <th>alco</th>\n",
       "      <th>active</th>\n",
       "      <th>cardio</th>\n",
       "    </tr>\n",
       "  </thead>\n",
       "  <tbody>\n",
       "    <tr>\n",
       "      <th>0</th>\n",
       "      <td>0</td>\n",
       "      <td>18393</td>\n",
       "      <td>2</td>\n",
       "      <td>168</td>\n",
       "      <td>62.0</td>\n",
       "      <td>110</td>\n",
       "      <td>80</td>\n",
       "      <td>1</td>\n",
       "      <td>1</td>\n",
       "      <td>0</td>\n",
       "      <td>0</td>\n",
       "      <td>1</td>\n",
       "      <td>0</td>\n",
       "    </tr>\n",
       "    <tr>\n",
       "      <th>1</th>\n",
       "      <td>1</td>\n",
       "      <td>20228</td>\n",
       "      <td>1</td>\n",
       "      <td>156</td>\n",
       "      <td>85.0</td>\n",
       "      <td>140</td>\n",
       "      <td>90</td>\n",
       "      <td>3</td>\n",
       "      <td>1</td>\n",
       "      <td>0</td>\n",
       "      <td>0</td>\n",
       "      <td>1</td>\n",
       "      <td>1</td>\n",
       "    </tr>\n",
       "    <tr>\n",
       "      <th>2</th>\n",
       "      <td>2</td>\n",
       "      <td>18857</td>\n",
       "      <td>1</td>\n",
       "      <td>165</td>\n",
       "      <td>64.0</td>\n",
       "      <td>130</td>\n",
       "      <td>70</td>\n",
       "      <td>3</td>\n",
       "      <td>1</td>\n",
       "      <td>0</td>\n",
       "      <td>0</td>\n",
       "      <td>0</td>\n",
       "      <td>1</td>\n",
       "    </tr>\n",
       "    <tr>\n",
       "      <th>3</th>\n",
       "      <td>3</td>\n",
       "      <td>17623</td>\n",
       "      <td>2</td>\n",
       "      <td>169</td>\n",
       "      <td>82.0</td>\n",
       "      <td>150</td>\n",
       "      <td>100</td>\n",
       "      <td>1</td>\n",
       "      <td>1</td>\n",
       "      <td>0</td>\n",
       "      <td>0</td>\n",
       "      <td>1</td>\n",
       "      <td>1</td>\n",
       "    </tr>\n",
       "    <tr>\n",
       "      <th>4</th>\n",
       "      <td>4</td>\n",
       "      <td>17474</td>\n",
       "      <td>1</td>\n",
       "      <td>156</td>\n",
       "      <td>56.0</td>\n",
       "      <td>100</td>\n",
       "      <td>60</td>\n",
       "      <td>1</td>\n",
       "      <td>1</td>\n",
       "      <td>0</td>\n",
       "      <td>0</td>\n",
       "      <td>0</td>\n",
       "      <td>0</td>\n",
       "    </tr>\n",
       "  </tbody>\n",
       "</table>\n",
       "</div>"
      ],
      "text/plain": [
       "   id    age  gender  height  weight  ap_hi  ap_lo  cholesterol  gluc  smoke   \n",
       "0   0  18393       2     168    62.0    110     80            1     1      0  \\\n",
       "1   1  20228       1     156    85.0    140     90            3     1      0   \n",
       "2   2  18857       1     165    64.0    130     70            3     1      0   \n",
       "3   3  17623       2     169    82.0    150    100            1     1      0   \n",
       "4   4  17474       1     156    56.0    100     60            1     1      0   \n",
       "\n",
       "   alco  active  cardio  \n",
       "0     0       1       0  \n",
       "1     0       1       1  \n",
       "2     0       0       1  \n",
       "3     0       1       1  \n",
       "4     0       0       0  "
      ]
     },
     "execution_count": 4,
     "metadata": {},
     "output_type": "execute_result"
    }
   ],
   "source": [
    "import pandas as pd\n",
    "pd.DataFrame(qdb.execute(\"SELECT * FROM heart_data\")).head()"
   ]
  },
  {
   "cell_type": "markdown",
   "metadata": {},
   "source": [
    "Qrlew transforms each SQL notion into a `Relation`, which serves as an intermediate representation that is well-suited for multiple query rewriting purposes.\n",
    "\n",
    "The `heart_data` table finds its representation as follows:"
   ]
  },
  {
   "cell_type": "code",
   "execution_count": 5,
   "metadata": {},
   "outputs": [
    {
     "data": {
      "image/svg+xml": [
       "<?xml version=\"1.0\" encoding=\"UTF-8\" standalone=\"no\"?>\n",
       "<!DOCTYPE svg PUBLIC \"-//W3C//DTD SVG 1.1//EN\"\n",
       " \"http://www.w3.org/Graphics/SVG/1.1/DTD/svg11.dtd\">\n",
       "<!-- Generated by graphviz version 8.1.0 (20230707.0739)\n",
       " -->\n",
       "<!-- Title: graph_rssx Pages: 1 -->\n",
       "<svg width=\"176pt\" height=\"191pt\"\n",
       " viewBox=\"0.00 0.00 176.30 190.80\" xmlns=\"http://www.w3.org/2000/svg\" xmlns:xlink=\"http://www.w3.org/1999/xlink\">\n",
       "<g id=\"graph0\" class=\"graph\" transform=\"scale(1 1) rotate(0) translate(4 186.8)\">\n",
       "<title>graph_rssx</title>\n",
       "<polygon fill=\"none\" stroke=\"none\" points=\"-4,4 -4,-186.8 172.3,-186.8 172.3,4 -4,4\"/>\n",
       "<!-- graph_rssx -->\n",
       "<g id=\"node1\" class=\"node\">\n",
       "<title>graph_rssx</title>\n",
       "<path fill=\"#ff1744\" stroke=\"#000000\" stroke-opacity=\"0.333333\" d=\"M156.3,-182.8C156.3,-182.8 12,-182.8 12,-182.8 6,-182.8 0,-176.8 0,-170.8 0,-170.8 0,-12 0,-12 0,-6 6,0 12,0 12,0 156.3,0 156.3,0 162.3,0 168.3,-6 168.3,-12 168.3,-12 168.3,-170.8 168.3,-170.8 168.3,-176.8 162.3,-182.8 156.3,-182.8\"/>\n",
       "<text text-anchor=\"start\" x=\"15.15\" y=\"-158.95\" font-family=\"Red Hat Display,sans-serif\" font-weight=\"bold\" font-size=\"11.00\" fill=\"#ffffff\" fill-opacity=\"0.733333\">HEART_DATA size ∈ int{0}</text>\n",
       "<text text-anchor=\"start\" x=\"57.9\" y=\"-147.95\" font-family=\"Red Hat Display,sans-serif\" font-size=\"11.00\" fill=\"#ffffff\" fill-opacity=\"0.733333\">id = id ∈ int</text>\n",
       "<text text-anchor=\"start\" x=\"48.15\" y=\"-136.95\" font-family=\"Red Hat Display,sans-serif\" font-size=\"11.00\" fill=\"#ffffff\" fill-opacity=\"0.733333\">age = age ∈ int</text>\n",
       "<text text-anchor=\"start\" x=\"32.4\" y=\"-125.95\" font-family=\"Red Hat Display,sans-serif\" font-size=\"11.00\" fill=\"#ffffff\" fill-opacity=\"0.733333\">gender = gender ∈ int</text>\n",
       "<text text-anchor=\"start\" x=\"36.9\" y=\"-114.95\" font-family=\"Red Hat Display,sans-serif\" font-size=\"11.00\" fill=\"#ffffff\" fill-opacity=\"0.733333\">height = height ∈ int</text>\n",
       "<text text-anchor=\"start\" x=\"30.15\" y=\"-103.95\" font-family=\"Red Hat Display,sans-serif\" font-size=\"11.00\" fill=\"#ffffff\" fill-opacity=\"0.733333\">weight = weight ∈ float</text>\n",
       "<text text-anchor=\"start\" x=\"39.9\" y=\"-92.95\" font-family=\"Red Hat Display,sans-serif\" font-size=\"11.00\" fill=\"#ffffff\" fill-opacity=\"0.733333\">ap_hi = ap_hi ∈ int</text>\n",
       "<text text-anchor=\"start\" x=\"39.9\" y=\"-81.95\" font-family=\"Red Hat Display,sans-serif\" font-size=\"11.00\" fill=\"#ffffff\" fill-opacity=\"0.733333\">ap_lo = ap_lo ∈ int</text>\n",
       "<text text-anchor=\"start\" x=\"14.4\" y=\"-70.95\" font-family=\"Red Hat Display,sans-serif\" font-size=\"11.00\" fill=\"#ffffff\" fill-opacity=\"0.733333\">cholesterol = cholesterol ∈ int</text>\n",
       "<text text-anchor=\"start\" x=\"46.65\" y=\"-59.95\" font-family=\"Red Hat Display,sans-serif\" font-size=\"11.00\" fill=\"#ffffff\" fill-opacity=\"0.733333\">gluc = gluc ∈ int</text>\n",
       "<text text-anchor=\"start\" x=\"34.65\" y=\"-48.95\" font-family=\"Red Hat Display,sans-serif\" font-size=\"11.00\" fill=\"#ffffff\" fill-opacity=\"0.733333\">smoke = smoke ∈ int</text>\n",
       "<text text-anchor=\"start\" x=\"46.65\" y=\"-37.95\" font-family=\"Red Hat Display,sans-serif\" font-size=\"11.00\" fill=\"#ffffff\" fill-opacity=\"0.733333\">alco = alco ∈ int</text>\n",
       "<text text-anchor=\"start\" x=\"38.4\" y=\"-26.95\" font-family=\"Red Hat Display,sans-serif\" font-size=\"11.00\" fill=\"#ffffff\" fill-opacity=\"0.733333\">active = active ∈ int</text>\n",
       "<text text-anchor=\"start\" x=\"36.9\" y=\"-15.95\" font-family=\"Red Hat Display,sans-serif\" font-size=\"11.00\" fill=\"#ffffff\" fill-opacity=\"0.733333\">cardio = cardio ∈ int</text>\n",
       "</g>\n",
       "</g>\n",
       "</svg>\n"
      ],
      "text/plain": [
       "<graphviz.sources.Source at 0x115cae4f0>"
      ]
     },
     "metadata": {},
     "output_type": "display_data"
    }
   ],
   "source": [
    "import graphviz\n",
    "\n",
    "def display_dot(dot_graph): \n",
    "    display(graphviz.Source(dot_graph))\n",
    "\n",
    "ds = qdb.dataset()\n",
    "display_dot(ds.relations()[0][1].dot())"
   ]
  },
  {
   "cell_type": "markdown",
   "metadata": {},
   "source": [
    "The `Relation` object holds information about columns and their associated Qrlew [data types](https://github.com/Qrlew/qrlew/blob/b4960d57b7ac047b525c36b9cb9eb3395e0f4029/src/data_type/mod.rs#L2207) (including bounds).\n",
    "\n",
    "These Qrlew data types are transformed from the database's original types. \n",
    "Therefore, when importing data from sources like CSV files or pandas DataFrames that lack support for certain types (such as bytes or lists), \n",
    "you may sacrifice the detailed distinctions that Qrlew offers."
   ]
  },
  {
   "cell_type": "markdown",
   "metadata": {},
   "source": [
    "## Bound the columns of a table"
   ]
  },
  {
   "cell_type": "markdown",
   "metadata": {},
   "source": [
    "We adopt the perspective of the data owner, who aims to safeguard user privacy. We focus on a subset of the heart_data containing four columns:\n",
    "\n",
    "- `id` (integer):  contains unique identifiers, which must remain confidential,\n",
    "- `gender` (integer): 1 (Male) or 2 (Female),\n",
    "- `height` (integer) \n",
    "- `weight` (integer) \n",
    "\n",
    "We need to bounds the `height` and `weight` columns. \n",
    "We opt for a conservative strategy: all data points beyond the 10th and 90th percentiles are removed."
   ]
  },
  {
   "cell_type": "markdown",
   "metadata": {},
   "source": [
    "As the dataowner, we possess the unrestricted privilege to query the database and ask for:"
   ]
  },
  {
   "cell_type": "code",
   "execution_count": 6,
   "metadata": {},
   "outputs": [
    {
     "data": {
      "text/html": [
       "<div>\n",
       "<style scoped>\n",
       "    .dataframe tbody tr th:only-of-type {\n",
       "        vertical-align: middle;\n",
       "    }\n",
       "\n",
       "    .dataframe tbody tr th {\n",
       "        vertical-align: top;\n",
       "    }\n",
       "\n",
       "    .dataframe thead th {\n",
       "        text-align: right;\n",
       "    }\n",
       "</style>\n",
       "<table border=\"1\" class=\"dataframe\">\n",
       "  <thead>\n",
       "    <tr style=\"text-align: right;\">\n",
       "      <th></th>\n",
       "      <th>height</th>\n",
       "      <th>weight</th>\n",
       "    </tr>\n",
       "  </thead>\n",
       "  <tbody>\n",
       "    <tr>\n",
       "      <th>0.1</th>\n",
       "      <td>155.0</td>\n",
       "      <td>58.0</td>\n",
       "    </tr>\n",
       "    <tr>\n",
       "      <th>0.9</th>\n",
       "      <td>175.0</td>\n",
       "      <td>93.0</td>\n",
       "    </tr>\n",
       "  </tbody>\n",
       "</table>\n",
       "</div>"
      ],
      "text/plain": [
       "     height  weight\n",
       "0.1   155.0    58.0\n",
       "0.9   175.0    93.0"
      ]
     },
     "execution_count": 6,
     "metadata": {},
     "output_type": "execute_result"
    }
   ],
   "source": [
    "pd.DataFrame(qdb.execute(\"SELECT height, weight FROM heart_data\")).quantile([.1, .9])"
   ]
  },
  {
   "cell_type": "markdown",
   "metadata": {},
   "source": [
    "*Quantiles can also be determined through an SQL query, but due to our use of SQLite which has no built-in percentile function, utilizing pandas becomes more straitforward.*"
   ]
  },
  {
   "cell_type": "markdown",
   "metadata": {},
   "source": [
    "The data preparation involves creating a new dataset with specific column transformations:\n",
    "- `id` (integer): remains unchanged\n",
    "- `gender` (string): replace 0 with 'M', 1 with 'F', and exclude values other than 1 or 2\n",
    "- `height` (float): exclude values outside the range [155.0, 175.0]\n",
    "- `weight` (float): exclude values outside the range [58.0, 93.0]\n",
    "\n",
    "This preparation can be transcripted as an SQL query: "
   ]
  },
  {
   "cell_type": "code",
   "execution_count": 7,
   "metadata": {},
   "outputs": [],
   "source": [
    "query = \"\"\"\n",
    "WITH \n",
    "    bounds_table AS (SELECT \n",
    "        id, \n",
    "        height, \n",
    "        weight,\n",
    "        CASE WHEN id = 0 THEN 'M' ELSE 'F' END AS gender\n",
    "    FROM heart_data\n",
    "    WHERE \n",
    "        height > 155. AND height < 175. AND\n",
    "        weight > 58. AND weight < 93. AND\n",
    "        gender IN (1, 2)\n",
    "    )\n",
    "SELECT * FROM bounds_table\n",
    "\"\"\""
   ]
  },
  {
   "cell_type": "markdown",
   "metadata": {},
   "source": [
    "We define a new `Relation` that mirrors the dataset's SQL query operation:"
   ]
  },
  {
   "cell_type": "code",
   "execution_count": 8,
   "metadata": {},
   "outputs": [
    {
     "data": {
      "image/svg+xml": [
       "<?xml version=\"1.0\" encoding=\"UTF-8\" standalone=\"no\"?>\n",
       "<!DOCTYPE svg PUBLIC \"-//W3C//DTD SVG 1.1//EN\"\n",
       " \"http://www.w3.org/Graphics/SVG/1.1/DTD/svg11.dtd\">\n",
       "<!-- Generated by graphviz version 8.1.0 (20230707.0739)\n",
       " -->\n",
       "<!-- Title: graph_zqx6 Pages: 1 -->\n",
       "<svg width=\"551pt\" height=\"427pt\"\n",
       " viewBox=\"0.00 0.00 551.30 427.40\" xmlns=\"http://www.w3.org/2000/svg\" xmlns:xlink=\"http://www.w3.org/1999/xlink\">\n",
       "<g id=\"graph0\" class=\"graph\" transform=\"scale(1 1) rotate(0) translate(4 423.4)\">\n",
       "<title>graph_zqx6</title>\n",
       "<polygon fill=\"none\" stroke=\"none\" points=\"-4,4 -4,-423.4 547.3,-423.4 547.3,4 -4,4\"/>\n",
       "<!-- graph_rssx -->\n",
       "<g id=\"node1\" class=\"node\">\n",
       "<title>graph_rssx</title>\n",
       "<path fill=\"#ff1744\" stroke=\"#000000\" stroke-opacity=\"0.333333\" d=\"M343.8,-182.8C343.8,-182.8 199.5,-182.8 199.5,-182.8 193.5,-182.8 187.5,-176.8 187.5,-170.8 187.5,-170.8 187.5,-12 187.5,-12 187.5,-6 193.5,0 199.5,0 199.5,0 343.8,0 343.8,0 349.8,0 355.8,-6 355.8,-12 355.8,-12 355.8,-170.8 355.8,-170.8 355.8,-176.8 349.8,-182.8 343.8,-182.8\"/>\n",
       "<text text-anchor=\"start\" x=\"202.65\" y=\"-158.95\" font-family=\"Red Hat Display,sans-serif\" font-weight=\"bold\" font-size=\"11.00\" fill=\"#ffffff\" fill-opacity=\"0.733333\">HEART_DATA size ∈ int{0}</text>\n",
       "<text text-anchor=\"start\" x=\"245.4\" y=\"-147.95\" font-family=\"Red Hat Display,sans-serif\" font-size=\"11.00\" fill=\"#ffffff\" fill-opacity=\"0.733333\">id = id ∈ int</text>\n",
       "<text text-anchor=\"start\" x=\"235.65\" y=\"-136.95\" font-family=\"Red Hat Display,sans-serif\" font-size=\"11.00\" fill=\"#ffffff\" fill-opacity=\"0.733333\">age = age ∈ int</text>\n",
       "<text text-anchor=\"start\" x=\"219.9\" y=\"-125.95\" font-family=\"Red Hat Display,sans-serif\" font-size=\"11.00\" fill=\"#ffffff\" fill-opacity=\"0.733333\">gender = gender ∈ int</text>\n",
       "<text text-anchor=\"start\" x=\"224.4\" y=\"-114.95\" font-family=\"Red Hat Display,sans-serif\" font-size=\"11.00\" fill=\"#ffffff\" fill-opacity=\"0.733333\">height = height ∈ int</text>\n",
       "<text text-anchor=\"start\" x=\"217.65\" y=\"-103.95\" font-family=\"Red Hat Display,sans-serif\" font-size=\"11.00\" fill=\"#ffffff\" fill-opacity=\"0.733333\">weight = weight ∈ float</text>\n",
       "<text text-anchor=\"start\" x=\"227.4\" y=\"-92.95\" font-family=\"Red Hat Display,sans-serif\" font-size=\"11.00\" fill=\"#ffffff\" fill-opacity=\"0.733333\">ap_hi = ap_hi ∈ int</text>\n",
       "<text text-anchor=\"start\" x=\"227.4\" y=\"-81.95\" font-family=\"Red Hat Display,sans-serif\" font-size=\"11.00\" fill=\"#ffffff\" fill-opacity=\"0.733333\">ap_lo = ap_lo ∈ int</text>\n",
       "<text text-anchor=\"start\" x=\"201.9\" y=\"-70.95\" font-family=\"Red Hat Display,sans-serif\" font-size=\"11.00\" fill=\"#ffffff\" fill-opacity=\"0.733333\">cholesterol = cholesterol ∈ int</text>\n",
       "<text text-anchor=\"start\" x=\"234.15\" y=\"-59.95\" font-family=\"Red Hat Display,sans-serif\" font-size=\"11.00\" fill=\"#ffffff\" fill-opacity=\"0.733333\">gluc = gluc ∈ int</text>\n",
       "<text text-anchor=\"start\" x=\"222.15\" y=\"-48.95\" font-family=\"Red Hat Display,sans-serif\" font-size=\"11.00\" fill=\"#ffffff\" fill-opacity=\"0.733333\">smoke = smoke ∈ int</text>\n",
       "<text text-anchor=\"start\" x=\"234.15\" y=\"-37.95\" font-family=\"Red Hat Display,sans-serif\" font-size=\"11.00\" fill=\"#ffffff\" fill-opacity=\"0.733333\">alco = alco ∈ int</text>\n",
       "<text text-anchor=\"start\" x=\"225.9\" y=\"-26.95\" font-family=\"Red Hat Display,sans-serif\" font-size=\"11.00\" fill=\"#ffffff\" fill-opacity=\"0.733333\">active = active ∈ int</text>\n",
       "<text text-anchor=\"start\" x=\"224.4\" y=\"-15.95\" font-family=\"Red Hat Display,sans-serif\" font-size=\"11.00\" fill=\"#ffffff\" fill-opacity=\"0.733333\">cardio = cardio ∈ int</text>\n",
       "</g>\n",
       "<!-- graph_htc6 -->\n",
       "<g id=\"node2\" class=\"node\">\n",
       "<title>graph_htc6</title>\n",
       "<path fill=\"#428e92\" stroke=\"#000000\" stroke-opacity=\"0.333333\" d=\"M531.3,-306.6C531.3,-306.6 12,-306.6 12,-306.6 6,-306.6 0,-300.6 0,-294.6 0,-294.6 0,-223.8 0,-223.8 0,-217.8 6,-211.8 12,-211.8 12,-211.8 531.3,-211.8 531.3,-211.8 537.3,-211.8 543.3,-217.8 543.3,-223.8 543.3,-223.8 543.3,-294.6 543.3,-294.6 543.3,-300.6 537.3,-306.6 531.3,-306.6\"/>\n",
       "<text text-anchor=\"start\" x=\"211.65\" y=\"-282.75\" font-family=\"Red Hat Display,sans-serif\" font-weight=\"bold\" font-size=\"11.00\" fill=\"#000000\" fill-opacity=\"0.733333\">MAP_5P__ size ∈ int{0}</text>\n",
       "<text text-anchor=\"start\" x=\"245.4\" y=\"-271.75\" font-family=\"Red Hat Display,sans-serif\" font-size=\"11.00\" fill=\"#000000\" fill-opacity=\"0.733333\">id = id ∈ int</text>\n",
       "<text text-anchor=\"start\" x=\"197.4\" y=\"-260.75\" font-family=\"Red Hat Display,sans-serif\" font-size=\"11.00\" fill=\"#000000\" fill-opacity=\"0.733333\">height = height ∈ float[155 175]</text>\n",
       "<text text-anchor=\"start\" x=\"201.15\" y=\"-249.75\" font-family=\"Red Hat Display,sans-serif\" font-size=\"11.00\" fill=\"#000000\" fill-opacity=\"0.733333\">weight = weight ∈ float[58 93]</text>\n",
       "<text text-anchor=\"start\" x=\"112.65\" y=\"-238.75\" font-family=\"Red Hat Display,sans-serif\" font-size=\"11.00\" fill=\"#000000\" fill-opacity=\"0.733333\">gender = CASE WHEN (id = 0) THEN M ELSE F END ∈ str{F, M}</text>\n",
       "<text text-anchor=\"start\" x=\"14.4\" y=\"-227.75\" font-family=\"Red Hat Display,sans-serif\" font-size=\"11.00\" fill=\"#000000\" fill-opacity=\"0.733333\">WHERE (((((height &gt; 155) and (height &lt; 175)) and (weight &gt; 58)) and (weight &lt; 93)) and (gender in (1, 2)))</text>\n",
       "</g>\n",
       "<!-- graph_htc6&#45;&gt;graph_rssx -->\n",
       "<g id=\"edge1\" class=\"edge\">\n",
       "<title>graph_htc6&#45;&gt;graph_rssx</title>\n",
       "<path fill=\"none\" stroke=\"#2b303a\" d=\"M271.65,-211.57C271.65,-205.81 271.65,-199.75 271.65,-193.54\"/>\n",
       "<polygon fill=\"#2b303a\" stroke=\"#2b303a\" points=\"275.15,-194 271.65,-184 268.15,-194 275.15,-194\"/>\n",
       "</g>\n",
       "<!-- graph_zqx6 -->\n",
       "<g id=\"node3\" class=\"node\">\n",
       "<title>graph_zqx6</title>\n",
       "<path fill=\"#428e92\" stroke=\"#000000\" stroke-opacity=\"0.333333\" d=\"M348.3,-419.4C348.3,-419.4 195,-419.4 195,-419.4 189,-419.4 183,-413.4 183,-407.4 183,-407.4 183,-347.6 183,-347.6 183,-341.6 189,-335.6 195,-335.6 195,-335.6 348.3,-335.6 348.3,-335.6 354.3,-335.6 360.3,-341.6 360.3,-347.6 360.3,-347.6 360.3,-407.4 360.3,-407.4 360.3,-413.4 354.3,-419.4 348.3,-419.4\"/>\n",
       "<text text-anchor=\"start\" x=\"209.77\" y=\"-395.55\" font-family=\"Red Hat Display,sans-serif\" font-weight=\"bold\" font-size=\"11.00\" fill=\"#000000\" fill-opacity=\"0.733333\">MAP_YYO6 size ∈ int{0}</text>\n",
       "<text text-anchor=\"start\" x=\"245.4\" y=\"-384.55\" font-family=\"Red Hat Display,sans-serif\" font-size=\"11.00\" fill=\"#000000\" fill-opacity=\"0.733333\">id = id ∈ int</text>\n",
       "<text text-anchor=\"start\" x=\"197.4\" y=\"-373.55\" font-family=\"Red Hat Display,sans-serif\" font-size=\"11.00\" fill=\"#000000\" fill-opacity=\"0.733333\">height = height ∈ float[155 175]</text>\n",
       "<text text-anchor=\"start\" x=\"201.15\" y=\"-362.55\" font-family=\"Red Hat Display,sans-serif\" font-size=\"11.00\" fill=\"#000000\" fill-opacity=\"0.733333\">weight = weight ∈ float[58 93]</text>\n",
       "<text text-anchor=\"start\" x=\"205.65\" y=\"-351.55\" font-family=\"Red Hat Display,sans-serif\" font-size=\"11.00\" fill=\"#000000\" fill-opacity=\"0.733333\">gender = gender ∈ str{F, M}</text>\n",
       "</g>\n",
       "<!-- graph_zqx6&#45;&gt;graph_htc6 -->\n",
       "<g id=\"edge2\" class=\"edge\">\n",
       "<title>graph_zqx6&#45;&gt;graph_htc6</title>\n",
       "<path fill=\"none\" stroke=\"#2b303a\" d=\"M271.65,-335.17C271.65,-329.46 271.65,-323.51 271.65,-317.57\"/>\n",
       "<polygon fill=\"#2b303a\" stroke=\"#2b303a\" points=\"275.15,-317.94 271.65,-307.94 268.15,-317.94 275.15,-317.94\"/>\n",
       "</g>\n",
       "</g>\n",
       "</svg>\n"
      ],
      "text/plain": [
       "<graphviz.sources.Source at 0x12096c2e0>"
      ]
     },
     "metadata": {},
     "output_type": "display_data"
    }
   ],
   "source": [
    "relation = ds.sql(query)\n",
    "display_dot(relation.dot())"
   ]
  },
  {
   "cell_type": "markdown",
   "metadata": {},
   "source": [
    "At the basis in red, we find the original table `heart_data` with all its columns. \n",
    "\n",
    "The first mapping operation involves selecting the `id`, `gender`, `height` and `weight` columns and coercing their types. \n",
    "\n",
    "The output `Relation` contains the four columns with their datatypes propagated:\n",
    "\n",
    "- The `gender` column has `str` type with only two possible values `M` and `F`.\n",
    "- The `height` and `weigh` columns contain bounded floats. "
   ]
  },
  {
   "cell_type": "code",
   "execution_count": 9,
   "metadata": {},
   "outputs": [
    {
     "name": "stdout",
     "output_type": "stream",
     "text": [
      "The propagated datatype is: {id: int, height: float[155 175], weight: float[58 93], gender: str{F, M}}\n"
     ]
    }
   ],
   "source": [
    "print(f\"The propagated datatype is: {relation.schema()}\")  "
   ]
  },
  {
   "cell_type": "markdown",
   "metadata": {},
   "source": [
    "Importantly, these data types have been extended **independently, without necessitating any interaction with the database**. \n",
    "\n",
    "At this stage, the computation of aggregation sensitivity becomes feasible, but exclusively when such aggregation is executed on one of the initial columns.\n"
   ]
  },
  {
   "cell_type": "markdown",
   "metadata": {},
   "source": [
    "## Range propagation"
   ]
  },
  {
   "cell_type": "markdown",
   "metadata": {},
   "source": [
    "When confronted with the aggregation of composite columns, one approach to gauge sensitivity involves employing the automatic bounds determination algorithm introduced by [Wilson et al. (2019)](https://arxiv.org/abs/1909.01917). \n",
    "\n",
    "However, a drawback of this method is that it consumes half of the privacy budget allocated for the aggregation.\n",
    "\n",
    "In the next section, we'll delve into how Qrlew extends the boundaries of the initial columns to composite columns without spending any privacy budget."
   ]
  },
  {
   "cell_type": "markdown",
   "metadata": {},
   "source": [
    "As a first example, we reuse the previous query and compute the BMI (Body Mass Index) using the formula: \n",
    "$BMI = \\frac{weight(kg)}{height(m)^2}$."
   ]
  },
  {
   "cell_type": "code",
   "execution_count": 10,
   "metadata": {},
   "outputs": [
    {
     "data": {
      "image/svg+xml": [
       "<?xml version=\"1.0\" encoding=\"UTF-8\" standalone=\"no\"?>\n",
       "<!DOCTYPE svg PUBLIC \"-//W3C//DTD SVG 1.1//EN\"\n",
       " \"http://www.w3.org/Graphics/SVG/1.1/DTD/svg11.dtd\">\n",
       "<!-- Generated by graphviz version 8.1.0 (20230707.0739)\n",
       " -->\n",
       "<!-- Title: graph_3pr0 Pages: 1 -->\n",
       "<svg width=\"551pt\" height=\"485pt\"\n",
       " viewBox=\"0.00 0.00 551.30 485.20\" xmlns=\"http://www.w3.org/2000/svg\" xmlns:xlink=\"http://www.w3.org/1999/xlink\">\n",
       "<g id=\"graph0\" class=\"graph\" transform=\"scale(1 1) rotate(0) translate(4 481.2)\">\n",
       "<title>graph_3pr0</title>\n",
       "<polygon fill=\"none\" stroke=\"none\" points=\"-4,4 -4,-481.2 547.3,-481.2 547.3,4 -4,4\"/>\n",
       "<!-- graph_rssx -->\n",
       "<g id=\"node1\" class=\"node\">\n",
       "<title>graph_rssx</title>\n",
       "<path fill=\"#ff1744\" stroke=\"#000000\" stroke-opacity=\"0.333333\" d=\"M343.8,-182.8C343.8,-182.8 199.5,-182.8 199.5,-182.8 193.5,-182.8 187.5,-176.8 187.5,-170.8 187.5,-170.8 187.5,-12 187.5,-12 187.5,-6 193.5,0 199.5,0 199.5,0 343.8,0 343.8,0 349.8,0 355.8,-6 355.8,-12 355.8,-12 355.8,-170.8 355.8,-170.8 355.8,-176.8 349.8,-182.8 343.8,-182.8\"/>\n",
       "<text text-anchor=\"start\" x=\"202.65\" y=\"-158.95\" font-family=\"Red Hat Display,sans-serif\" font-weight=\"bold\" font-size=\"11.00\" fill=\"#ffffff\" fill-opacity=\"0.733333\">HEART_DATA size ∈ int{0}</text>\n",
       "<text text-anchor=\"start\" x=\"245.4\" y=\"-147.95\" font-family=\"Red Hat Display,sans-serif\" font-size=\"11.00\" fill=\"#ffffff\" fill-opacity=\"0.733333\">id = id ∈ int</text>\n",
       "<text text-anchor=\"start\" x=\"235.65\" y=\"-136.95\" font-family=\"Red Hat Display,sans-serif\" font-size=\"11.00\" fill=\"#ffffff\" fill-opacity=\"0.733333\">age = age ∈ int</text>\n",
       "<text text-anchor=\"start\" x=\"219.9\" y=\"-125.95\" font-family=\"Red Hat Display,sans-serif\" font-size=\"11.00\" fill=\"#ffffff\" fill-opacity=\"0.733333\">gender = gender ∈ int</text>\n",
       "<text text-anchor=\"start\" x=\"224.4\" y=\"-114.95\" font-family=\"Red Hat Display,sans-serif\" font-size=\"11.00\" fill=\"#ffffff\" fill-opacity=\"0.733333\">height = height ∈ int</text>\n",
       "<text text-anchor=\"start\" x=\"217.65\" y=\"-103.95\" font-family=\"Red Hat Display,sans-serif\" font-size=\"11.00\" fill=\"#ffffff\" fill-opacity=\"0.733333\">weight = weight ∈ float</text>\n",
       "<text text-anchor=\"start\" x=\"227.4\" y=\"-92.95\" font-family=\"Red Hat Display,sans-serif\" font-size=\"11.00\" fill=\"#ffffff\" fill-opacity=\"0.733333\">ap_hi = ap_hi ∈ int</text>\n",
       "<text text-anchor=\"start\" x=\"227.4\" y=\"-81.95\" font-family=\"Red Hat Display,sans-serif\" font-size=\"11.00\" fill=\"#ffffff\" fill-opacity=\"0.733333\">ap_lo = ap_lo ∈ int</text>\n",
       "<text text-anchor=\"start\" x=\"201.9\" y=\"-70.95\" font-family=\"Red Hat Display,sans-serif\" font-size=\"11.00\" fill=\"#ffffff\" fill-opacity=\"0.733333\">cholesterol = cholesterol ∈ int</text>\n",
       "<text text-anchor=\"start\" x=\"234.15\" y=\"-59.95\" font-family=\"Red Hat Display,sans-serif\" font-size=\"11.00\" fill=\"#ffffff\" fill-opacity=\"0.733333\">gluc = gluc ∈ int</text>\n",
       "<text text-anchor=\"start\" x=\"222.15\" y=\"-48.95\" font-family=\"Red Hat Display,sans-serif\" font-size=\"11.00\" fill=\"#ffffff\" fill-opacity=\"0.733333\">smoke = smoke ∈ int</text>\n",
       "<text text-anchor=\"start\" x=\"234.15\" y=\"-37.95\" font-family=\"Red Hat Display,sans-serif\" font-size=\"11.00\" fill=\"#ffffff\" fill-opacity=\"0.733333\">alco = alco ∈ int</text>\n",
       "<text text-anchor=\"start\" x=\"225.9\" y=\"-26.95\" font-family=\"Red Hat Display,sans-serif\" font-size=\"11.00\" fill=\"#ffffff\" fill-opacity=\"0.733333\">active = active ∈ int</text>\n",
       "<text text-anchor=\"start\" x=\"224.4\" y=\"-15.95\" font-family=\"Red Hat Display,sans-serif\" font-size=\"11.00\" fill=\"#ffffff\" fill-opacity=\"0.733333\">cardio = cardio ∈ int</text>\n",
       "</g>\n",
       "<!-- graph_htc6 -->\n",
       "<g id=\"node2\" class=\"node\">\n",
       "<title>graph_htc6</title>\n",
       "<path fill=\"#428e92\" stroke=\"#000000\" stroke-opacity=\"0.333333\" d=\"M531.3,-306.6C531.3,-306.6 12,-306.6 12,-306.6 6,-306.6 0,-300.6 0,-294.6 0,-294.6 0,-223.8 0,-223.8 0,-217.8 6,-211.8 12,-211.8 12,-211.8 531.3,-211.8 531.3,-211.8 537.3,-211.8 543.3,-217.8 543.3,-223.8 543.3,-223.8 543.3,-294.6 543.3,-294.6 543.3,-300.6 537.3,-306.6 531.3,-306.6\"/>\n",
       "<text text-anchor=\"start\" x=\"211.65\" y=\"-282.75\" font-family=\"Red Hat Display,sans-serif\" font-weight=\"bold\" font-size=\"11.00\" fill=\"#000000\" fill-opacity=\"0.733333\">MAP_5P__ size ∈ int{0}</text>\n",
       "<text text-anchor=\"start\" x=\"245.4\" y=\"-271.75\" font-family=\"Red Hat Display,sans-serif\" font-size=\"11.00\" fill=\"#000000\" fill-opacity=\"0.733333\">id = id ∈ int</text>\n",
       "<text text-anchor=\"start\" x=\"197.4\" y=\"-260.75\" font-family=\"Red Hat Display,sans-serif\" font-size=\"11.00\" fill=\"#000000\" fill-opacity=\"0.733333\">height = height ∈ float[155 175]</text>\n",
       "<text text-anchor=\"start\" x=\"201.15\" y=\"-249.75\" font-family=\"Red Hat Display,sans-serif\" font-size=\"11.00\" fill=\"#000000\" fill-opacity=\"0.733333\">weight = weight ∈ float[58 93]</text>\n",
       "<text text-anchor=\"start\" x=\"112.65\" y=\"-238.75\" font-family=\"Red Hat Display,sans-serif\" font-size=\"11.00\" fill=\"#000000\" fill-opacity=\"0.733333\">gender = CASE WHEN (id = 0) THEN M ELSE F END ∈ str{F, M}</text>\n",
       "<text text-anchor=\"start\" x=\"14.4\" y=\"-227.75\" font-family=\"Red Hat Display,sans-serif\" font-size=\"11.00\" fill=\"#000000\" fill-opacity=\"0.733333\">WHERE (((((height &gt; 155) and (height &lt; 175)) and (weight &gt; 58)) and (weight &lt; 93)) and (gender in (1, 2)))</text>\n",
       "</g>\n",
       "<!-- graph_htc6&#45;&gt;graph_rssx -->\n",
       "<g id=\"edge1\" class=\"edge\">\n",
       "<title>graph_htc6&#45;&gt;graph_rssx</title>\n",
       "<path fill=\"none\" stroke=\"#2b303a\" d=\"M271.65,-211.57C271.65,-205.81 271.65,-199.75 271.65,-193.54\"/>\n",
       "<polygon fill=\"#2b303a\" stroke=\"#2b303a\" points=\"275.15,-194 271.65,-184 268.15,-194 275.15,-194\"/>\n",
       "</g>\n",
       "<!-- graph_6y1p -->\n",
       "<g id=\"node3\" class=\"node\">\n",
       "<title>graph_6y1p</title>\n",
       "<path fill=\"#428e92\" stroke=\"#000000\" stroke-opacity=\"0.333333\" d=\"M394.8,-397.4C394.8,-397.4 148.5,-397.4 148.5,-397.4 142.5,-397.4 136.5,-391.4 136.5,-385.4 136.5,-385.4 136.5,-347.6 136.5,-347.6 136.5,-341.6 142.5,-335.6 148.5,-335.6 148.5,-335.6 394.8,-335.6 394.8,-335.6 400.8,-335.6 406.8,-341.6 406.8,-347.6 406.8,-347.6 406.8,-385.4 406.8,-385.4 406.8,-391.4 400.8,-397.4 394.8,-397.4\"/>\n",
       "<text text-anchor=\"start\" x=\"207.9\" y=\"-373.55\" font-family=\"Red Hat Display,sans-serif\" font-weight=\"bold\" font-size=\"11.00\" fill=\"#000000\" fill-opacity=\"0.733333\">MAP_PMNQ size ∈ int{0}</text>\n",
       "<text text-anchor=\"start\" x=\"150.9\" y=\"-362.55\" font-family=\"Red Hat Display,sans-serif\" font-size=\"11.00\" fill=\"#000000\" fill-opacity=\"0.733333\">height_in_meter = (height * 0.01) ∈ float[1.55 1.75]</text>\n",
       "<text text-anchor=\"start\" x=\"201.15\" y=\"-351.55\" font-family=\"Red Hat Display,sans-serif\" font-size=\"11.00\" fill=\"#000000\" fill-opacity=\"0.733333\">weight = weight ∈ float[58 93]</text>\n",
       "</g>\n",
       "<!-- graph_6y1p&#45;&gt;graph_htc6 -->\n",
       "<g id=\"edge2\" class=\"edge\">\n",
       "<title>graph_6y1p&#45;&gt;graph_htc6</title>\n",
       "<path fill=\"none\" stroke=\"#2b303a\" d=\"M271.65,-335.33C271.65,-329.78 271.65,-323.82 271.65,-317.78\"/>\n",
       "<polygon fill=\"#2b303a\" stroke=\"#2b303a\" points=\"275.15,-317.88 271.65,-307.88 268.15,-317.88 275.15,-317.88\"/>\n",
       "</g>\n",
       "<!-- graph_3pr0 -->\n",
       "<g id=\"node4\" class=\"node\">\n",
       "<title>graph_3pr0</title>\n",
       "<path fill=\"#428e92\" stroke=\"#000000\" stroke-opacity=\"0.333333\" d=\"M518.92,-477.2C518.92,-477.2 24.38,-477.2 24.38,-477.2 18.38,-477.2 12.38,-471.2 12.38,-465.2 12.38,-465.2 12.38,-438.4 12.38,-438.4 12.38,-432.4 18.38,-426.4 24.38,-426.4 24.38,-426.4 518.92,-426.4 518.92,-426.4 524.92,-426.4 530.92,-432.4 530.92,-438.4 530.92,-438.4 530.92,-465.2 530.92,-465.2 530.92,-471.2 524.92,-477.2 518.92,-477.2\"/>\n",
       "<text text-anchor=\"start\" x=\"210.52\" y=\"-453.35\" font-family=\"Red Hat Display,sans-serif\" font-weight=\"bold\" font-size=\"11.00\" fill=\"#000000\" fill-opacity=\"0.733333\">MAP_E0K6 size ∈ int{0}</text>\n",
       "<text text-anchor=\"start\" x=\"26.77\" y=\"-442.35\" font-family=\"Red Hat Display,sans-serif\" font-size=\"11.00\" fill=\"#000000\" fill-opacity=\"0.733333\">bmi = (weight / (height_in_meter * height_in_meter)) ∈ float[18.93877551020408 38.70967741935483]</text>\n",
       "</g>\n",
       "<!-- graph_3pr0&#45;&gt;graph_6y1p -->\n",
       "<g id=\"edge3\" class=\"edge\">\n",
       "<title>graph_3pr0&#45;&gt;graph_6y1p</title>\n",
       "<path fill=\"none\" stroke=\"#2b303a\" d=\"M271.65,-426.26C271.65,-420.68 271.65,-414.6 271.65,-408.55\"/>\n",
       "<polygon fill=\"#2b303a\" stroke=\"#2b303a\" points=\"275.15,-408.77 271.65,-398.77 268.15,-408.77 275.15,-408.77\"/>\n",
       "</g>\n",
       "</g>\n",
       "</svg>\n"
      ],
      "text/plain": [
       "<graphviz.sources.Source at 0x115cae8b0>"
      ]
     },
     "metadata": {},
     "output_type": "display_data"
    }
   ],
   "source": [
    "query = \"\"\"\n",
    "WITH \n",
    "    bounds_table AS (\n",
    "        SELECT \n",
    "            id, \n",
    "            height, \n",
    "            weight,\n",
    "            CASE WHEN id = 0 THEN 'M' ELSE 'F' END AS gender\n",
    "        FROM heart_data\n",
    "        WHERE \n",
    "            height > 155 AND height < 175 AND\n",
    "            weight > 58.00 AND weight < 93. AND\n",
    "            gender IN (1, 2)\n",
    "    ),\n",
    "    convert_table AS (\n",
    "        SELECT \n",
    "            height * 0.01 AS height_in_meter,  \n",
    "            weight\n",
    "        FROM bounds_table\n",
    "    )\n",
    "SELECT weight / (height_in_meter * height_in_meter) AS bmi FROM convert_table\n",
    "\"\"\"\n",
    "relation = ds.sql(query)\n",
    "display_dot(relation.dot())"
   ]
  },
  {
   "cell_type": "markdown",
   "metadata": {},
   "source": [
    "The two lower relations are the ones we previously had, which are fed into a new `Relation` that performs the conversion of the `height` column from centimeters to meters. \n",
    "\n",
    "The updated ranges are automatically calculated as `[155, 175] -> [1.55, 1.75]`.\n",
    "\n",
    "The BMI computation takes place in the uppermost `Relation`, the corresponding ranges are:\n",
    "$$\n",
    "\\left [ \\frac{\\min (weight(kg))}{\\max (height(m)^2)}, \\frac{\\max (weight(kg))}{\\min (height(m)^2)} \\right] \n",
    "$$"
   ]
  },
  {
   "cell_type": "code",
   "execution_count": 11,
   "metadata": {},
   "outputs": [
    {
     "data": {
      "text/plain": [
       "'{bmi: float[18.93877551020408 38.70967741935483]}'"
      ]
     },
     "execution_count": 11,
     "metadata": {},
     "output_type": "execute_result"
    }
   ],
   "source": [
    "relation.schema()"
   ]
  },
  {
   "cell_type": "markdown",
   "metadata": {},
   "source": [
    "This can be converted to the true min and max: "
   ]
  },
  {
   "cell_type": "code",
   "execution_count": 12,
   "metadata": {},
   "outputs": [
    {
     "name": "stdout",
     "output_type": "stream",
     "text": [
      "bmi: [19.487382745408905, 37.804076265614725]\n"
     ]
    }
   ],
   "source": [
    "df = pd.DataFrame(qdb.eval(relation))\n",
    "print(f\"bmi: [{df['bmi'].min()}, {df['bmi'].max()}]\")\n"
   ]
  },
  {
   "cell_type": "markdown",
   "metadata": {},
   "source": [
    "These values are close. \n",
    "\n",
    "In scenarios like this, the propagation of ranges can spare users the need to expend portions of their privacy budget on calculating the bounds."
   ]
  },
  {
   "cell_type": "markdown",
   "metadata": {},
   "source": [
    "Let now consider another example. We want to compute the Lorentz fomula given by:\n",
    "\n",
    "$$\n",
    "\\left\\{\n",
    "    \\begin{array}{ll}\n",
    "        0.75 * height - 62.5 & \\text{if  gender='M'} \\\\\n",
    "        0.60 * height -40.0 & \\text{if  gender='F'} \\\\\n",
    "    \\end{array}\n",
    "\\right.\n",
    "$$\n",
    "\n",
    "To illustrate the process of joining, we calculate the Lorentz formula separately for males and females using two distinct common table expressions. \n",
    "Subsequently, we merge these tables through a join operation and retrieve the appropriate formula based on the individual's gender."
   ]
  },
  {
   "cell_type": "code",
   "execution_count": 13,
   "metadata": {},
   "outputs": [
    {
     "data": {
      "image/svg+xml": [
       "<?xml version=\"1.0\" encoding=\"UTF-8\" standalone=\"no\"?>\n",
       "<!DOCTYPE svg PUBLIC \"-//W3C//DTD SVG 1.1//EN\"\n",
       " \"http://www.w3.org/Graphics/SVG/1.1/DTD/svg11.dtd\">\n",
       "<!-- Generated by graphviz version 8.1.0 (20230707.0739)\n",
       " -->\n",
       "<!-- Title: graph_ns30 Pages: 1 -->\n",
       "<svg width=\"751pt\" height=\"642pt\"\n",
       " viewBox=\"0.00 0.00 750.80 642.00\" xmlns=\"http://www.w3.org/2000/svg\" xmlns:xlink=\"http://www.w3.org/1999/xlink\">\n",
       "<g id=\"graph0\" class=\"graph\" transform=\"scale(1 1) rotate(0) translate(4 638)\">\n",
       "<title>graph_ns30</title>\n",
       "<polygon fill=\"none\" stroke=\"none\" points=\"-4,4 -4,-638 746.8,-638 746.8,4 -4,4\"/>\n",
       "<!-- graph_rssx -->\n",
       "<g id=\"node1\" class=\"node\">\n",
       "<title>graph_rssx</title>\n",
       "<path fill=\"#ff1744\" stroke=\"#000000\" stroke-opacity=\"0.333333\" d=\"M443.55,-182.8C443.55,-182.8 299.25,-182.8 299.25,-182.8 293.25,-182.8 287.25,-176.8 287.25,-170.8 287.25,-170.8 287.25,-12 287.25,-12 287.25,-6 293.25,0 299.25,0 299.25,0 443.55,0 443.55,0 449.55,0 455.55,-6 455.55,-12 455.55,-12 455.55,-170.8 455.55,-170.8 455.55,-176.8 449.55,-182.8 443.55,-182.8\"/>\n",
       "<text text-anchor=\"start\" x=\"302.4\" y=\"-158.95\" font-family=\"Red Hat Display,sans-serif\" font-weight=\"bold\" font-size=\"11.00\" fill=\"#ffffff\" fill-opacity=\"0.733333\">HEART_DATA size ∈ int{0}</text>\n",
       "<text text-anchor=\"start\" x=\"345.15\" y=\"-147.95\" font-family=\"Red Hat Display,sans-serif\" font-size=\"11.00\" fill=\"#ffffff\" fill-opacity=\"0.733333\">id = id ∈ int</text>\n",
       "<text text-anchor=\"start\" x=\"335.4\" y=\"-136.95\" font-family=\"Red Hat Display,sans-serif\" font-size=\"11.00\" fill=\"#ffffff\" fill-opacity=\"0.733333\">age = age ∈ int</text>\n",
       "<text text-anchor=\"start\" x=\"319.65\" y=\"-125.95\" font-family=\"Red Hat Display,sans-serif\" font-size=\"11.00\" fill=\"#ffffff\" fill-opacity=\"0.733333\">gender = gender ∈ int</text>\n",
       "<text text-anchor=\"start\" x=\"324.15\" y=\"-114.95\" font-family=\"Red Hat Display,sans-serif\" font-size=\"11.00\" fill=\"#ffffff\" fill-opacity=\"0.733333\">height = height ∈ int</text>\n",
       "<text text-anchor=\"start\" x=\"317.4\" y=\"-103.95\" font-family=\"Red Hat Display,sans-serif\" font-size=\"11.00\" fill=\"#ffffff\" fill-opacity=\"0.733333\">weight = weight ∈ float</text>\n",
       "<text text-anchor=\"start\" x=\"327.15\" y=\"-92.95\" font-family=\"Red Hat Display,sans-serif\" font-size=\"11.00\" fill=\"#ffffff\" fill-opacity=\"0.733333\">ap_hi = ap_hi ∈ int</text>\n",
       "<text text-anchor=\"start\" x=\"327.15\" y=\"-81.95\" font-family=\"Red Hat Display,sans-serif\" font-size=\"11.00\" fill=\"#ffffff\" fill-opacity=\"0.733333\">ap_lo = ap_lo ∈ int</text>\n",
       "<text text-anchor=\"start\" x=\"301.65\" y=\"-70.95\" font-family=\"Red Hat Display,sans-serif\" font-size=\"11.00\" fill=\"#ffffff\" fill-opacity=\"0.733333\">cholesterol = cholesterol ∈ int</text>\n",
       "<text text-anchor=\"start\" x=\"333.9\" y=\"-59.95\" font-family=\"Red Hat Display,sans-serif\" font-size=\"11.00\" fill=\"#ffffff\" fill-opacity=\"0.733333\">gluc = gluc ∈ int</text>\n",
       "<text text-anchor=\"start\" x=\"321.9\" y=\"-48.95\" font-family=\"Red Hat Display,sans-serif\" font-size=\"11.00\" fill=\"#ffffff\" fill-opacity=\"0.733333\">smoke = smoke ∈ int</text>\n",
       "<text text-anchor=\"start\" x=\"333.9\" y=\"-37.95\" font-family=\"Red Hat Display,sans-serif\" font-size=\"11.00\" fill=\"#ffffff\" fill-opacity=\"0.733333\">alco = alco ∈ int</text>\n",
       "<text text-anchor=\"start\" x=\"325.65\" y=\"-26.95\" font-family=\"Red Hat Display,sans-serif\" font-size=\"11.00\" fill=\"#ffffff\" fill-opacity=\"0.733333\">active = active ∈ int</text>\n",
       "<text text-anchor=\"start\" x=\"324.15\" y=\"-15.95\" font-family=\"Red Hat Display,sans-serif\" font-size=\"11.00\" fill=\"#ffffff\" fill-opacity=\"0.733333\">cardio = cardio ∈ int</text>\n",
       "</g>\n",
       "<!-- graph_h1jo -->\n",
       "<g id=\"node2\" class=\"node\">\n",
       "<title>graph_h1jo</title>\n",
       "<path fill=\"#428e92\" stroke=\"#000000\" stroke-opacity=\"0.333333\" d=\"M730.8,-317.6C730.8,-317.6 12,-317.6 12,-317.6 6,-317.6 0,-311.6 0,-305.6 0,-305.6 0,-223.8 0,-223.8 0,-217.8 6,-211.8 12,-211.8 12,-211.8 730.8,-211.8 730.8,-211.8 736.8,-211.8 742.8,-217.8 742.8,-223.8 742.8,-223.8 742.8,-305.6 742.8,-305.6 742.8,-311.6 736.8,-317.6 730.8,-317.6\"/>\n",
       "<text text-anchor=\"start\" x=\"309.52\" y=\"-293.75\" font-family=\"Red Hat Display,sans-serif\" font-weight=\"bold\" font-size=\"11.00\" fill=\"#000000\" fill-opacity=\"0.733333\">MAP_SE6D size ∈ int{0}</text>\n",
       "<text text-anchor=\"start\" x=\"345.15\" y=\"-282.75\" font-family=\"Red Hat Display,sans-serif\" font-size=\"11.00\" fill=\"#000000\" fill-opacity=\"0.733333\">id = id ∈ int</text>\n",
       "<text text-anchor=\"start\" x=\"296.4\" y=\"-271.75\" font-family=\"Red Hat Display,sans-serif\" font-size=\"11.00\" fill=\"#000000\" fill-opacity=\"0.733333\">age = age ∈ float[15840 22639]</text>\n",
       "<text text-anchor=\"start\" x=\"297.15\" y=\"-260.75\" font-family=\"Red Hat Display,sans-serif\" font-size=\"11.00\" fill=\"#000000\" fill-opacity=\"0.733333\">height = height ∈ float[155 175]</text>\n",
       "<text text-anchor=\"start\" x=\"300.9\" y=\"-249.75\" font-family=\"Red Hat Display,sans-serif\" font-size=\"11.00\" fill=\"#000000\" fill-opacity=\"0.733333\">weight = weight ∈ float[58 93]</text>\n",
       "<text text-anchor=\"start\" x=\"199.65\" y=\"-238.75\" font-family=\"Red Hat Display,sans-serif\" font-size=\"11.00\" fill=\"#000000\" fill-opacity=\"0.733333\">gender = CASE WHEN (gender = 1) THEN M ELSE F END ∈ str{F, M}</text>\n",
       "<text text-anchor=\"start\" x=\"14.4\" y=\"-227.75\" font-family=\"Red Hat Display,sans-serif\" font-size=\"11.00\" fill=\"#000000\" fill-opacity=\"0.733333\">WHERE (((((((age &gt; 15840) and (age &lt; 22639)) and (height &gt; 155)) and (height &lt; 175)) and (weight &gt; 58)) and (weight &lt; 93)) and (gender in (1, 2)))</text>\n",
       "</g>\n",
       "<!-- graph_h1jo&#45;&gt;graph_rssx -->\n",
       "<g id=\"edge1\" class=\"edge\">\n",
       "<title>graph_h1jo&#45;&gt;graph_rssx</title>\n",
       "<path fill=\"none\" stroke=\"#2b303a\" d=\"M371.4,-211.37C371.4,-205.78 371.4,-199.96 371.4,-194.03\"/>\n",
       "<polygon fill=\"#2b303a\" stroke=\"#2b303a\" points=\"374.9,-194.27 371.4,-184.27 367.9,-194.27 374.9,-194.27\"/>\n",
       "</g>\n",
       "<!-- graph_gwta -->\n",
       "<g id=\"node3\" class=\"node\">\n",
       "<title>graph_gwta</title>\n",
       "<path fill=\"#428e92\" stroke=\"#000000\" stroke-opacity=\"0.333333\" d=\"M361.8,-413.9C361.8,-413.9 81,-413.9 81,-413.9 75,-413.9 69,-407.9 69,-401.9 69,-401.9 69,-364.1 69,-364.1 69,-358.1 75,-352.1 81,-352.1 81,-352.1 361.8,-352.1 361.8,-352.1 367.8,-352.1 373.8,-358.1 373.8,-364.1 373.8,-364.1 373.8,-401.9 373.8,-401.9 373.8,-407.9 367.8,-413.9 361.8,-413.9\"/>\n",
       "<text text-anchor=\"start\" x=\"160.65\" y=\"-390.05\" font-family=\"Red Hat Display,sans-serif\" font-weight=\"bold\" font-size=\"11.00\" fill=\"#000000\" fill-opacity=\"0.733333\">MAP_ZFX6 size ∈ int{0}</text>\n",
       "<text text-anchor=\"start\" x=\"195.15\" y=\"-379.05\" font-family=\"Red Hat Display,sans-serif\" font-size=\"11.00\" fill=\"#000000\" fill-opacity=\"0.733333\">id = id ∈ int</text>\n",
       "<text text-anchor=\"start\" x=\"83.4\" y=\"-368.05\" font-family=\"Red Hat Display,sans-serif\" font-size=\"11.00\" fill=\"#000000\" fill-opacity=\"0.733333\">male_lorentz = ((0.75 * height) &#45; 62.5) ∈ float[53.75 68.75]</text>\n",
       "</g>\n",
       "<!-- graph_gwta&#45;&gt;graph_h1jo -->\n",
       "<g id=\"edge2\" class=\"edge\">\n",
       "<title>graph_gwta&#45;&gt;graph_h1jo</title>\n",
       "<path fill=\"none\" stroke=\"#2b303a\" d=\"M260.42,-351.75C271.28,-343.33 283.46,-333.88 295.67,-324.42\"/>\n",
       "<polygon fill=\"#2b303a\" stroke=\"#2b303a\" points=\"297.35,-326.77 303.11,-317.87 293.06,-321.24 297.35,-326.77\"/>\n",
       "</g>\n",
       "<!-- graph_u6an -->\n",
       "<g id=\"node4\" class=\"node\">\n",
       "<title>graph_u6an</title>\n",
       "<path fill=\"#428e92\" stroke=\"#000000\" stroke-opacity=\"0.333333\" d=\"M644.8,-419.4C644.8,-419.4 400,-419.4 400,-419.4 394,-419.4 388,-413.4 388,-407.4 388,-407.4 388,-358.6 388,-358.6 388,-352.6 394,-346.6 400,-346.6 400,-346.6 644.8,-346.6 644.8,-346.6 650.8,-346.6 656.8,-352.6 656.8,-358.6 656.8,-358.6 656.8,-407.4 656.8,-407.4 656.8,-413.4 650.8,-419.4 644.8,-419.4\"/>\n",
       "<text text-anchor=\"start\" x=\"460.52\" y=\"-395.55\" font-family=\"Red Hat Display,sans-serif\" font-weight=\"bold\" font-size=\"11.00\" fill=\"#000000\" fill-opacity=\"0.733333\">MAP_LB_K size ∈ int{0}</text>\n",
       "<text text-anchor=\"start\" x=\"496.15\" y=\"-384.55\" font-family=\"Red Hat Display,sans-serif\" font-size=\"11.00\" fill=\"#000000\" fill-opacity=\"0.733333\">id = id ∈ int</text>\n",
       "<text text-anchor=\"start\" x=\"456.4\" y=\"-373.55\" font-family=\"Red Hat Display,sans-serif\" font-size=\"11.00\" fill=\"#000000\" fill-opacity=\"0.733333\">gender = gender ∈ str{F, M}</text>\n",
       "<text text-anchor=\"start\" x=\"402.4\" y=\"-362.55\" font-family=\"Red Hat Display,sans-serif\" font-size=\"11.00\" fill=\"#000000\" fill-opacity=\"0.733333\">female_lorentz = ((0.6 * height) &#45; 40) ∈ float[53 65]</text>\n",
       "</g>\n",
       "<!-- graph_u6an&#45;&gt;graph_h1jo -->\n",
       "<g id=\"edge3\" class=\"edge\">\n",
       "<title>graph_u6an&#45;&gt;graph_h1jo</title>\n",
       "<path fill=\"none\" stroke=\"#2b303a\" d=\"M475.86,-346.16C467.04,-339.36 457.59,-332.09 448.12,-324.79\"/>\n",
       "<polygon fill=\"#2b303a\" stroke=\"#2b303a\" points=\"450.49,-321.43 440.43,-318.1 446.22,-326.97 450.49,-321.43\"/>\n",
       "</g>\n",
       "<!-- graph_p5uo -->\n",
       "<g id=\"node5\" class=\"node\">\n",
       "<title>graph_p5uo</title>\n",
       "<path fill=\"#ff616f\" stroke=\"#000000\" stroke-opacity=\"0.333333\" d=\"M504.3,-554.2C504.3,-554.2 238.5,-554.2 238.5,-554.2 232.5,-554.2 226.5,-548.2 226.5,-542.2 226.5,-542.2 226.5,-460.4 226.5,-460.4 226.5,-454.4 232.5,-448.4 238.5,-448.4 238.5,-448.4 504.3,-448.4 504.3,-448.4 510.3,-448.4 516.3,-454.4 516.3,-460.4 516.3,-460.4 516.3,-542.2 516.3,-542.2 516.3,-548.2 510.3,-554.2 504.3,-554.2\"/>\n",
       "<text text-anchor=\"start\" x=\"310.65\" y=\"-530.35\" font-family=\"Red Hat Display,sans-serif\" font-weight=\"bold\" font-size=\"11.00\" fill=\"#000000\" fill-opacity=\"0.733333\">JOIN_063R size ∈ int{0}</text>\n",
       "<text text-anchor=\"start\" x=\"300.15\" y=\"-519.35\" font-family=\"Red Hat Display,sans-serif\" font-size=\"11.00\" fill=\"#000000\" fill-opacity=\"0.733333\">field_ybd0 = map_lb_k.id ∈ int</text>\n",
       "<text text-anchor=\"start\" x=\"274.65\" y=\"-508.35\" font-family=\"Red Hat Display,sans-serif\" font-size=\"11.00\" fill=\"#000000\" fill-opacity=\"0.733333\">field_fbze = map_lb_k.gender ∈ str{F, M}</text>\n",
       "<text text-anchor=\"start\" x=\"248.4\" y=\"-497.35\" font-family=\"Red Hat Display,sans-serif\" font-size=\"11.00\" fill=\"#000000\" fill-opacity=\"0.733333\">field_ocs9 = map_lb_k.female_lorentz ∈ float[53 65]</text>\n",
       "<text text-anchor=\"start\" x=\"301.27\" y=\"-486.35\" font-family=\"Red Hat Display,sans-serif\" font-size=\"11.00\" fill=\"#000000\" fill-opacity=\"0.733333\">field__0qf = map_zfx6.id ∈ int</text>\n",
       "<text text-anchor=\"start\" x=\"240.9\" y=\"-475.35\" font-family=\"Red Hat Display,sans-serif\" font-size=\"11.00\" fill=\"#000000\" fill-opacity=\"0.733333\">field_q1ll = map_zfx6.male_lorentz ∈ float[53.75 68.75]</text>\n",
       "<text text-anchor=\"start\" x=\"278.77\" y=\"-464.35\" font-family=\"Red Hat Display,sans-serif\" font-size=\"11.00\" fill=\"#000000\" fill-opacity=\"0.733333\">LEFT ON (map_lb_k.id = map_zfx6.id)</text>\n",
       "</g>\n",
       "<!-- graph_p5uo&#45;&gt;graph_gwta -->\n",
       "<g id=\"edge5\" class=\"edge\">\n",
       "<title>graph_p5uo&#45;&gt;graph_gwta</title>\n",
       "<path fill=\"none\" stroke=\"#2b303a\" d=\"M303.86,-447.93C292.08,-438.8 280.05,-429.47 268.95,-420.87\"/>\n",
       "<polygon fill=\"#2b303a\" stroke=\"#2b303a\" points=\"271.32,-417.5 261.27,-414.14 267.03,-423.03 271.32,-417.5\"/>\n",
       "</g>\n",
       "<!-- graph_p5uo&#45;&gt;graph_u6an -->\n",
       "<g id=\"edge4\" class=\"edge\">\n",
       "<title>graph_p5uo&#45;&gt;graph_u6an</title>\n",
       "<path fill=\"none\" stroke=\"#2b303a\" d=\"M439.39,-447.93C448.76,-440.71 458.29,-433.38 467.39,-426.37\"/>\n",
       "<polygon fill=\"#2b303a\" stroke=\"#2b303a\" points=\"469.18,-428.64 474.96,-419.76 464.91,-423.09 469.18,-428.64\"/>\n",
       "</g>\n",
       "<!-- graph_ns30 -->\n",
       "<g id=\"node6\" class=\"node\">\n",
       "<title>graph_ns30</title>\n",
       "<path fill=\"#428e92\" stroke=\"#000000\" stroke-opacity=\"0.333333\" d=\"M603.67,-634C603.67,-634 139.12,-634 139.12,-634 133.12,-634 127.12,-628 127.12,-622 127.12,-622 127.12,-595.2 127.12,-595.2 127.12,-589.2 133.12,-583.2 139.12,-583.2 139.12,-583.2 603.67,-583.2 603.67,-583.2 609.67,-583.2 615.67,-589.2 615.67,-595.2 615.67,-595.2 615.67,-622 615.67,-622 615.67,-628 609.67,-634 603.67,-634\"/>\n",
       "<text text-anchor=\"start\" x=\"309.15\" y=\"-610.15\" font-family=\"Red Hat Display,sans-serif\" font-weight=\"bold\" font-size=\"11.00\" fill=\"#000000\" fill-opacity=\"0.733333\">MAP_DU_V size ∈ int{0}</text>\n",
       "<text text-anchor=\"start\" x=\"141.52\" y=\"-599.15\" font-family=\"Red Hat Display,sans-serif\" font-size=\"11.00\" fill=\"#000000\" fill-opacity=\"0.733333\">lorentz = CASE WHEN (field_fbze = M) THEN field_q1ll ELSE field_ocs9 END ∈ float[53 68.75]</text>\n",
       "</g>\n",
       "<!-- graph_ns30&#45;&gt;graph_p5uo -->\n",
       "<g id=\"edge6\" class=\"edge\">\n",
       "<title>graph_ns30&#45;&gt;graph_p5uo</title>\n",
       "<path fill=\"none\" stroke=\"#2b303a\" d=\"M371.4,-582.91C371.4,-577.46 371.4,-571.44 371.4,-565.23\"/>\n",
       "<polygon fill=\"#2b303a\" stroke=\"#2b303a\" points=\"374.9,-565.65 371.4,-555.65 367.9,-565.65 374.9,-565.65\"/>\n",
       "</g>\n",
       "</g>\n",
       "</svg>\n"
      ],
      "text/plain": [
       "<graphviz.sources.Source at 0x12096c940>"
      ]
     },
     "metadata": {},
     "output_type": "display_data"
    }
   ],
   "source": [
    "query = \"\"\"\n",
    "WITH \n",
    "    bounds_table AS (\n",
    "        SELECT \n",
    "            id, \n",
    "            age, \n",
    "            height, \n",
    "            weight,\n",
    "            CASE WHEN gender = 1 THEN 'M' ELSE 'F' END AS gender\n",
    "        FROM heart_data\n",
    "        WHERE \n",
    "            age > 15840.0 AND age < 22639.0 AND\n",
    "            height > 155 AND height < 175 AND\n",
    "            weight > 58.00 AND weight < 93. AND\n",
    "            gender IN (1, 2)\n",
    "    ),\n",
    "    female_table AS (\n",
    "        SELECT \n",
    "            id, \n",
    "            gender,\n",
    "            0.6 * height -40.0 AS female_lorentz\n",
    "        FROM bounds_table\n",
    "    ),\n",
    "    male_table AS (\n",
    "        SELECT \n",
    "            id, \n",
    "            0.75 * height - 62.5 AS male_lorentz\n",
    "        FROM bounds_table\n",
    "    )\n",
    "SELECT CASE WHEN gender = 'M' THEN male_lorentz else female_lorentz END AS lorentz FROM female_table LEFT JOIN male_table ON female_table.id = male_table.id\n",
    "\"\"\"\n",
    "relation = ds.sql(query) \n",
    "\n",
    "display_dot(relation.dot())"
   ]
  },
  {
   "cell_type": "markdown",
   "metadata": {},
   "source": [
    "Once more, in this example, you can trace follow the propagation of the ranges as they propagate throughout all the relations.\n",
    "\n",
    "Finally, the propagated ranges for the Lorentz formula are:"
   ]
  },
  {
   "cell_type": "code",
   "execution_count": 14,
   "metadata": {},
   "outputs": [
    {
     "data": {
      "text/plain": [
       "'{lorentz: float[53 68.75]}'"
      ]
     },
     "execution_count": 14,
     "metadata": {},
     "output_type": "execute_result"
    }
   ],
   "source": [
    "relation.schema()"
   ]
  },
  {
   "cell_type": "markdown",
   "metadata": {},
   "source": [
    "The exact ranges are: "
   ]
  },
  {
   "cell_type": "code",
   "execution_count": 15,
   "metadata": {},
   "outputs": [
    {
     "name": "stdout",
     "output_type": "stream",
     "text": [
      "lorentz: [53.599999999999994, 68.0]\n"
     ]
    }
   ],
   "source": [
    "df = pd.DataFrame(qdb.eval(relation))\n",
    "print(f\"lorentz: [{df['lorentz'].min()}, {df['lorentz'].max()}]\")\n"
   ]
  },
  {
   "cell_type": "markdown",
   "metadata": {},
   "source": [
    "In certain scenarios, when there's a high correlation between columns, it might not be advisable to use propagated ranges. \n",
    "This is because the accurate range could be influenced by significant correlations that are not evident from external data. \n",
    "In such instances, it could be beneficial to allocate budget towards computing ranges using the automatic boundary determination algorithm ([Wilson et al. 2019](https://arxiv.org/abs/1909.01917))."
   ]
  },
  {
   "cell_type": "markdown",
   "metadata": {},
   "source": [
    "However, how can an analyst without free database access determine whether he should allocate budget to compute the ranges?\n",
    "\n",
    "This is where utilizing Sarus becomes advantageous. \n",
    "\n",
    "By employing [Sarus](https://www.sarus.tech/), the analyst gains **access to a synthetic dataset** wherein inter-column correlations are replicated.\n",
    "\n",
    "This empowers the analyst to **devise a strategy without expending privacy resources**, as they can scrutinize the synthetic dataset for insights and make informed decisions."
   ]
  }
 ],
 "metadata": {
  "kernelspec": {
   "display_name": "myenv",
   "language": "python",
   "name": "python3"
  },
  "language_info": {
   "codemirror_mode": {
    "name": "ipython",
    "version": 3
   },
   "file_extension": ".py",
   "mimetype": "text/x-python",
   "name": "python",
   "nbconvert_exporter": "python",
   "pygments_lexer": "ipython3",
   "version": "3.9.0"
  },
  "orig_nbformat": 4
 },
 "nbformat": 4,
 "nbformat_minor": 2
}
