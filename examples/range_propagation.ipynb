{
  "cells": [
    {
      "cell_type": "markdown",
      "metadata": {
        "id": "XYIE2WkNm1UE"
      },
      "source": [
        "# Range propagation\n",
        "[![View On GitHub](https://img.shields.io/badge/View_in_Github-grey?logo=github)](https://github.com/Qrlew/docs/blob/main/tutorials/range_propagation.ipynb)\n",
        "[![Open In Colab](https://colab.research.google.com/assets/colab-badge.svg)](https://colab.research.google.com/github/Qrlew/pyqrlew/blob/main/examples/range_propagation.ipynb)"
      ]
    },
    {
      "cell_type": "markdown",
      "metadata": {
        "id": "MzGGFbQtm1UG"
      },
      "source": [
        "When one wants to release aggregate statistics with the guarantee that the output will not reveal anything about the individuals in the data, [differential privacy](https://en.wikipedia.org/wiki/Differential_privacy) is the way to go.\n",
        "Many [differentialy private mechanisms](https://en.wikipedia.org/wiki/Differential_privacy) consist of sums where each term is known to be bounded — so that the *sensitivity* is easy to compute — to which some noise is added, usually [Laplace](https://en.wikipedia.org/wiki/Additive_noise_differential_privacy_mechanisms#Laplace_Mechanism) or [Gaussian](https://en.wikipedia.org/wiki/Additive_noise_differential_privacy_mechanisms#Gaussian_Mechanism).\n",
        "For these mechanisms and others, it is crucial to be able to bound some values.\n",
        "\n",
        "*Bounding* can be achieved in many ways.\n",
        "\n",
        "- Bounds can be *forced* by clipping values, but then the computation of the statistics may be biased.\n",
        "- Bounds can be *inferred* by ranges propagation, a range of the values is propagated across successive transforms.\n",
        "\n",
        "A case where the tradeoff between *clipping* and *propagating ranges* is particularly difficult is the case of values with few remote outliers.\n",
        "If ranges are simply propagated, the presence of outliers forces the sensitivities to be large and therefore the noise added reduces drastically the utility of the result.\n",
        "To avoid adding too much noise, the values can be clipped so that the noise added is smaller, but then the outliers are dropped and the statistics are biased.\n",
        "\n",
        "In this notebook, we'll focus on *range propagation* using [`qrlew`](https://qrlew.github.io/)."
      ]
    },
    {
      "cell_type": "code",
      "execution_count": 1,
      "metadata": {
        "id": "swnCxCAXm1UH"
      },
      "outputs": [],
      "source": [
        "%%capture\n",
        "!sudo apt-get -y -qq update\n",
        "!sudo apt-get -y -qq install graphviz\n",
        "!pip install graphviz\n",
        "!pip install pyqrlew"
      ]
    },
    {
      "cell_type": "code",
      "execution_count": 2,
      "metadata": {
        "id": "e0wcoOf2m1UG"
      },
      "outputs": [],
      "source": [
        "import logging\n",
        "logging.disable(logging.INFO)"
      ]
    },
    {
      "cell_type": "markdown",
      "metadata": {
        "id": "ktdEFvqpm1UI"
      },
      "source": [
        "We load a csv extract of the [Kuzak Dempsy's dataset](https://data.world/kudem):"
      ]
    },
    {
      "cell_type": "code",
      "execution_count": 3,
      "metadata": {
        "id": "CwWxexE5m1UI"
      },
      "outputs": [],
      "source": [
        "import pyqrlew as pq\n",
        "qdb = pq.from_csv(\n",
        "    table_name=\"heart_data\",\n",
        "    csv_file=\"https://storage.googleapis.com/qrlew-demo-data/heart_data.csv\"\n",
        ")"
      ]
    },
    {
      "cell_type": "code",
      "execution_count": 4,
      "metadata": {
        "colab": {
          "base_uri": "https://localhost:8080/",
          "height": 206
        },
        "id": "Bp3E4wwWm1UI",
        "outputId": "9d841bbc-7d41-42c2-d058-946f1ac99988"
      },
      "outputs": [
        {
          "data": {
            "text/html": [
              "<div>\n",
              "<style scoped>\n",
              "    .dataframe tbody tr th:only-of-type {\n",
              "        vertical-align: middle;\n",
              "    }\n",
              "\n",
              "    .dataframe tbody tr th {\n",
              "        vertical-align: top;\n",
              "    }\n",
              "\n",
              "    .dataframe thead th {\n",
              "        text-align: right;\n",
              "    }\n",
              "</style>\n",
              "<table border=\"1\" class=\"dataframe\">\n",
              "  <thead>\n",
              "    <tr style=\"text-align: right;\">\n",
              "      <th></th>\n",
              "      <th>id</th>\n",
              "      <th>age</th>\n",
              "      <th>gender</th>\n",
              "      <th>height</th>\n",
              "      <th>weight</th>\n",
              "      <th>ap_hi</th>\n",
              "      <th>ap_lo</th>\n",
              "      <th>cholesterol</th>\n",
              "      <th>gluc</th>\n",
              "      <th>smoke</th>\n",
              "      <th>alco</th>\n",
              "      <th>active</th>\n",
              "      <th>cardio</th>\n",
              "    </tr>\n",
              "  </thead>\n",
              "  <tbody>\n",
              "    <tr>\n",
              "      <th>0</th>\n",
              "      <td>0</td>\n",
              "      <td>18393</td>\n",
              "      <td>2</td>\n",
              "      <td>168</td>\n",
              "      <td>62.0</td>\n",
              "      <td>110</td>\n",
              "      <td>80</td>\n",
              "      <td>1</td>\n",
              "      <td>1</td>\n",
              "      <td>0</td>\n",
              "      <td>0</td>\n",
              "      <td>1</td>\n",
              "      <td>0</td>\n",
              "    </tr>\n",
              "    <tr>\n",
              "      <th>1</th>\n",
              "      <td>1</td>\n",
              "      <td>20228</td>\n",
              "      <td>1</td>\n",
              "      <td>156</td>\n",
              "      <td>85.0</td>\n",
              "      <td>140</td>\n",
              "      <td>90</td>\n",
              "      <td>3</td>\n",
              "      <td>1</td>\n",
              "      <td>0</td>\n",
              "      <td>0</td>\n",
              "      <td>1</td>\n",
              "      <td>1</td>\n",
              "    </tr>\n",
              "    <tr>\n",
              "      <th>2</th>\n",
              "      <td>2</td>\n",
              "      <td>18857</td>\n",
              "      <td>1</td>\n",
              "      <td>165</td>\n",
              "      <td>64.0</td>\n",
              "      <td>130</td>\n",
              "      <td>70</td>\n",
              "      <td>3</td>\n",
              "      <td>1</td>\n",
              "      <td>0</td>\n",
              "      <td>0</td>\n",
              "      <td>0</td>\n",
              "      <td>1</td>\n",
              "    </tr>\n",
              "    <tr>\n",
              "      <th>3</th>\n",
              "      <td>3</td>\n",
              "      <td>17623</td>\n",
              "      <td>2</td>\n",
              "      <td>169</td>\n",
              "      <td>82.0</td>\n",
              "      <td>150</td>\n",
              "      <td>100</td>\n",
              "      <td>1</td>\n",
              "      <td>1</td>\n",
              "      <td>0</td>\n",
              "      <td>0</td>\n",
              "      <td>1</td>\n",
              "      <td>1</td>\n",
              "    </tr>\n",
              "    <tr>\n",
              "      <th>4</th>\n",
              "      <td>4</td>\n",
              "      <td>17474</td>\n",
              "      <td>1</td>\n",
              "      <td>156</td>\n",
              "      <td>56.0</td>\n",
              "      <td>100</td>\n",
              "      <td>60</td>\n",
              "      <td>1</td>\n",
              "      <td>1</td>\n",
              "      <td>0</td>\n",
              "      <td>0</td>\n",
              "      <td>0</td>\n",
              "      <td>0</td>\n",
              "    </tr>\n",
              "  </tbody>\n",
              "</table>\n",
              "</div>"
            ],
            "text/plain": [
              "   id    age  gender  height  weight  ap_hi  ap_lo  cholesterol  gluc  smoke  \\\n",
              "0   0  18393       2     168    62.0    110     80            1     1      0   \n",
              "1   1  20228       1     156    85.0    140     90            3     1      0   \n",
              "2   2  18857       1     165    64.0    130     70            3     1      0   \n",
              "3   3  17623       2     169    82.0    150    100            1     1      0   \n",
              "4   4  17474       1     156    56.0    100     60            1     1      0   \n",
              "\n",
              "   alco  active  cardio  \n",
              "0     0       1       0  \n",
              "1     0       1       1  \n",
              "2     0       0       1  \n",
              "3     0       1       1  \n",
              "4     0       0       0  "
            ]
          },
          "execution_count": 4,
          "metadata": {},
          "output_type": "execute_result"
        }
      ],
      "source": [
        "import pandas as pd\n",
        "pd.DataFrame(qdb.execute(\"SELECT * FROM heart_data\")).head()"
      ]
    },
    {
      "cell_type": "markdown",
      "metadata": {
        "id": "rzRsmbZ_m1UI"
      },
      "source": [
        "Qrlew transforms each SQL notion into a `Relation`, which is an intermediate representation that is well-suited for multiple query rewriting purposes.\n",
        "\n",
        "The `heart_data` table is turned into:"
      ]
    },
    {
      "cell_type": "code",
      "execution_count": 5,
      "metadata": {
        "colab": {
          "base_uri": "https://localhost:8080/",
          "height": 274
        },
        "id": "U5N8dQpMm1UJ",
        "outputId": "e7a9ea1d-b7a5-4e3a-ac63-f207aa96a121"
      },
      "outputs": [
        {
          "data": {
            "image/svg+xml": [
              "<?xml version=\"1.0\" encoding=\"UTF-8\" standalone=\"no\"?>\n",
              "<!DOCTYPE svg PUBLIC \"-//W3C//DTD SVG 1.1//EN\"\n",
              " \"http://www.w3.org/Graphics/SVG/1.1/DTD/svg11.dtd\">\n",
              "<!-- Generated by graphviz version 9.0.0 (20230911.1827)\n",
              " -->\n",
              "<!-- Title: graph_gtdh Pages: 1 -->\n",
              "<svg width=\"186pt\" height=\"191pt\"\n",
              " viewBox=\"0.00 0.00 186.05 190.80\" xmlns=\"http://www.w3.org/2000/svg\" xmlns:xlink=\"http://www.w3.org/1999/xlink\">\n",
              "<g id=\"graph0\" class=\"graph\" transform=\"scale(1 1) rotate(0) translate(4 186.8)\">\n",
              "<title>graph_gtdh</title>\n",
              "<polygon fill=\"none\" stroke=\"none\" points=\"-4,4 -4,-186.8 182.05,-186.8 182.05,4 -4,4\"/>\n",
              "<!-- graph_gtdh -->\n",
              "<g id=\"node1\" class=\"node\">\n",
              "<title>graph_gtdh</title>\n",
              "<path fill=\"#ff1744\" stroke=\"#000000\" stroke-opacity=\"0.333333\" d=\"M166.05,-182.8C166.05,-182.8 12,-182.8 12,-182.8 6,-182.8 0,-176.8 0,-170.8 0,-170.8 0,-12 0,-12 0,-6 6,0 12,0 12,0 166.05,0 166.05,0 172.05,0 178.05,-6 178.05,-12 178.05,-12 178.05,-170.8 178.05,-170.8 178.05,-176.8 172.05,-182.8 166.05,-182.8\"/>\n",
              "<text text-anchor=\"start\" x=\"14.4\" y=\"-158.95\" font-family=\"Red Hat Display,sans-serif\" font-weight=\"bold\" font-size=\"11.00\" fill=\"#ffffff\" fill-opacity=\"0.733333\">HEART_DATA size ∈ int{70000}</text>\n",
              "<text text-anchor=\"start\" x=\"64.28\" y=\"-147.95\" font-family=\"Red Hat Display,sans-serif\" font-size=\"11.00\" fill=\"#ffffff\" fill-opacity=\"0.733333\">id = id ∈ int</text>\n",
              "<text text-anchor=\"start\" x=\"55.28\" y=\"-136.95\" font-family=\"Red Hat Display,sans-serif\" font-size=\"11.00\" fill=\"#ffffff\" fill-opacity=\"0.733333\">age = age ∈ int</text>\n",
              "<text text-anchor=\"start\" x=\"38.78\" y=\"-125.95\" font-family=\"Red Hat Display,sans-serif\" font-size=\"11.00\" fill=\"#ffffff\" fill-opacity=\"0.733333\">gender = gender ∈ int</text>\n",
              "<text text-anchor=\"start\" x=\"43.28\" y=\"-114.95\" font-family=\"Red Hat Display,sans-serif\" font-size=\"11.00\" fill=\"#ffffff\" fill-opacity=\"0.733333\">height = height ∈ int</text>\n",
              "<text text-anchor=\"start\" x=\"36.53\" y=\"-103.95\" font-family=\"Red Hat Display,sans-serif\" font-size=\"11.00\" fill=\"#ffffff\" fill-opacity=\"0.733333\">weight = weight ∈ float</text>\n",
              "<text text-anchor=\"start\" x=\"47.78\" y=\"-92.95\" font-family=\"Red Hat Display,sans-serif\" font-size=\"11.00\" fill=\"#ffffff\" fill-opacity=\"0.733333\">ap_hi = ap_hi ∈ int</text>\n",
              "<text text-anchor=\"start\" x=\"47.03\" y=\"-81.95\" font-family=\"Red Hat Display,sans-serif\" font-size=\"11.00\" fill=\"#ffffff\" fill-opacity=\"0.733333\">ap_lo = ap_lo ∈ int</text>\n",
              "<text text-anchor=\"start\" x=\"20.03\" y=\"-70.95\" font-family=\"Red Hat Display,sans-serif\" font-size=\"11.00\" fill=\"#ffffff\" fill-opacity=\"0.733333\">cholesterol = cholesterol ∈ int</text>\n",
              "<text text-anchor=\"start\" x=\"53.03\" y=\"-59.95\" font-family=\"Red Hat Display,sans-serif\" font-size=\"11.00\" fill=\"#ffffff\" fill-opacity=\"0.733333\">gluc = gluc ∈ int</text>\n",
              "<text text-anchor=\"start\" x=\"41.78\" y=\"-48.95\" font-family=\"Red Hat Display,sans-serif\" font-size=\"11.00\" fill=\"#ffffff\" fill-opacity=\"0.733333\">smoke = smoke ∈ int</text>\n",
              "<text text-anchor=\"start\" x=\"53.03\" y=\"-37.95\" font-family=\"Red Hat Display,sans-serif\" font-size=\"11.00\" fill=\"#ffffff\" fill-opacity=\"0.733333\">alco = alco ∈ int</text>\n",
              "<text text-anchor=\"start\" x=\"44.03\" y=\"-26.95\" font-family=\"Red Hat Display,sans-serif\" font-size=\"11.00\" fill=\"#ffffff\" fill-opacity=\"0.733333\">active = active ∈ int</text>\n",
              "<text text-anchor=\"start\" x=\"44.03\" y=\"-15.95\" font-family=\"Red Hat Display,sans-serif\" font-size=\"11.00\" fill=\"#ffffff\" fill-opacity=\"0.733333\">cardio = cardio ∈ int</text>\n",
              "</g>\n",
              "</g>\n",
              "</svg>\n"
            ],
            "text/plain": [
              "<graphviz.sources.Source at 0x125b793a0>"
            ]
          },
          "metadata": {},
          "output_type": "display_data"
        }
      ],
      "source": [
        "import graphviz\n",
        "\n",
        "ds = qdb.dataset()\n",
        "display(graphviz.Source(ds.relations()[0][1].dot()))\n"
      ]
    },
    {
      "cell_type": "markdown",
      "metadata": {
        "id": "aZBu3cETm1UJ"
      },
      "source": [
        "The `Relation` object holds information about columns and their associated Qrlew [data types](https://github.com/Qrlew/qrlew/blob/b4960d57b7ac047b525c36b9cb9eb3395e0f4029/src/data_type/mod.rs#L2207) (including bounds).\n",
        "\n",
        "These Qrlew data types are transformed from the database's original types.\n",
        "Therefore, when importing data from sources like CSV files or pandas DataFrames that lack support for certain types (such as bytes or lists),\n",
        "you may sacrifice the detailed distinctions that Qrlew offers."
      ]
    },
    {
      "cell_type": "markdown",
      "metadata": {
        "id": "unXS6lr9m1UJ"
      },
      "source": [
        "## Bound the columns of a table"
      ]
    },
    {
      "cell_type": "markdown",
      "metadata": {
        "id": "2v0keN98m1UJ"
      },
      "source": [
        "We adopt the perspective of the data owner, who aims to safeguard user privacy. We focus on a subset of the heart_data containing four columns:\n",
        "\n",
        "- `id` (integer):  contains unique identifiers, which must remain confidential,\n",
        "- `gender` (integer): 1 (Male) or 2 (Female),\n",
        "- `height` (integer),\n",
        "- `weight` (integer).\n",
        "\n",
        "We need to bounds the `height` and `weight` columns.\n",
        "We can limit the height to a range of 140 to 200 and the weight to a range of 40 to 130 kg.\n"
      ]
    },
    {
      "cell_type": "markdown",
      "metadata": {
        "id": "nYhXT6vnm1UJ"
      },
      "source": [
        "The data preparation involves creating a new dataset with specific column transformations:\n",
        "- `id` (integer): remains unchanged\n",
        "- `gender` (string): exclude values other than 1 or 2 then replace 0 with 'M', 1 with 'F',\n",
        "- `height` (float): exclude values outside the range [140.0, 200.0],\n",
        "- `weight` (float): exclude values outside the range [40.0, 130.0].\n",
        "\n",
        "This preparation can be transcripted as an SQL query:"
      ]
    },
    {
      "cell_type": "code",
      "execution_count": 6,
      "metadata": {
        "id": "4tf4keJxm1UK"
      },
      "outputs": [],
      "source": [
        "query = \"\"\"\n",
        "WITH\n",
        "    bounds_table AS (SELECT\n",
        "        id,\n",
        "        height,\n",
        "        weight,\n",
        "        CASE WHEN id = 1 THEN 'M' ELSE 'F' END AS gender\n",
        "    FROM heart_data\n",
        "    WHERE\n",
        "        height > 140. AND height < 200. AND\n",
        "        weight > 40. AND weight < 130. AND\n",
        "        gender IN (1, 2)\n",
        "    )\n",
        "SELECT * FROM bounds_table\n",
        "\"\"\""
      ]
    },
    {
      "cell_type": "markdown",
      "metadata": {
        "id": "IFUxI1jSm1UK"
      },
      "source": [
        "We define a new `Relation` that mirrors the dataset's SQL query operation:"
      ]
    },
    {
      "cell_type": "code",
      "execution_count": 7,
      "metadata": {
        "colab": {
          "base_uri": "https://localhost:8080/",
          "height": 588
        },
        "id": "nUxrF4sjm1UK",
        "outputId": "67abaf1e-e7e0-4d85-c655-97d47b6dd7ea"
      },
      "outputs": [
        {
          "data": {
            "image/svg+xml": [
              "<?xml version=\"1.0\" encoding=\"UTF-8\" standalone=\"no\"?>\n",
              "<!DOCTYPE svg PUBLIC \"-//W3C//DTD SVG 1.1//EN\"\n",
              " \"http://www.w3.org/Graphics/SVG/1.1/DTD/svg11.dtd\">\n",
              "<!-- Generated by graphviz version 9.0.0 (20230911.1827)\n",
              " -->\n",
              "<!-- Title: graph_663l Pages: 1 -->\n",
              "<svg width=\"548pt\" height=\"427pt\"\n",
              " viewBox=\"0.00 0.00 548.30 427.40\" xmlns=\"http://www.w3.org/2000/svg\" xmlns:xlink=\"http://www.w3.org/1999/xlink\">\n",
              "<g id=\"graph0\" class=\"graph\" transform=\"scale(1 1) rotate(0) translate(4 423.4)\">\n",
              "<title>graph_663l</title>\n",
              "<polygon fill=\"none\" stroke=\"none\" points=\"-4,4 -4,-423.4 544.3,-423.4 544.3,4 -4,4\"/>\n",
              "<!-- graph_663l -->\n",
              "<g id=\"node1\" class=\"node\">\n",
              "<title>graph_663l</title>\n",
              "<path fill=\"#428e92\" stroke=\"#000000\" stroke-opacity=\"0.333333\" d=\"M346.8,-419.4C346.8,-419.4 193.5,-419.4 193.5,-419.4 187.5,-419.4 181.5,-413.4 181.5,-407.4 181.5,-407.4 181.5,-347.6 181.5,-347.6 181.5,-341.6 187.5,-335.6 193.5,-335.6 193.5,-335.6 346.8,-335.6 346.8,-335.6 352.8,-335.6 358.8,-341.6 358.8,-347.6 358.8,-347.6 358.8,-407.4 358.8,-407.4 358.8,-413.4 352.8,-419.4 346.8,-419.4\"/>\n",
              "<text text-anchor=\"start\" x=\"195.9\" y=\"-395.55\" font-family=\"Red Hat Display,sans-serif\" font-weight=\"bold\" font-size=\"11.00\" fill=\"#000000\" fill-opacity=\"0.733333\">MAP_LTEW size ∈ int[0 70000]</text>\n",
              "<text text-anchor=\"start\" x=\"245.4\" y=\"-384.55\" font-family=\"Red Hat Display,sans-serif\" font-size=\"11.00\" fill=\"#000000\" fill-opacity=\"0.733333\">id = id ∈ int</text>\n",
              "<text text-anchor=\"start\" x=\"200.4\" y=\"-373.55\" font-family=\"Red Hat Display,sans-serif\" font-size=\"11.00\" fill=\"#000000\" fill-opacity=\"0.733333\">height = height ∈ int[140 200]</text>\n",
              "<text text-anchor=\"start\" x=\"197.4\" y=\"-362.55\" font-family=\"Red Hat Display,sans-serif\" font-size=\"11.00\" fill=\"#000000\" fill-opacity=\"0.733333\">weight = weight ∈ float[40 130]</text>\n",
              "<text text-anchor=\"start\" x=\"206.4\" y=\"-351.55\" font-family=\"Red Hat Display,sans-serif\" font-size=\"11.00\" fill=\"#000000\" fill-opacity=\"0.733333\">gender = gender ∈ str{F, M}</text>\n",
              "</g>\n",
              "<!-- graph_17bh -->\n",
              "<g id=\"node2\" class=\"node\">\n",
              "<title>graph_17bh</title>\n",
              "<path fill=\"#428e92\" stroke=\"#000000\" stroke-opacity=\"0.333333\" d=\"M528.3,-306.6C528.3,-306.6 12,-306.6 12,-306.6 6,-306.6 0,-300.6 0,-294.6 0,-294.6 0,-223.8 0,-223.8 0,-217.8 6,-211.8 12,-211.8 12,-211.8 528.3,-211.8 528.3,-211.8 534.3,-211.8 540.3,-217.8 540.3,-223.8 540.3,-223.8 540.3,-294.6 540.3,-294.6 540.3,-300.6 534.3,-306.6 528.3,-306.6\"/>\n",
              "<text text-anchor=\"start\" x=\"193.27\" y=\"-282.75\" font-family=\"Red Hat Display,sans-serif\" font-weight=\"bold\" font-size=\"11.00\" fill=\"#000000\" fill-opacity=\"0.733333\">MAP_GK0W size ∈ int[0 70000]</text>\n",
              "<text text-anchor=\"start\" x=\"245.4\" y=\"-271.75\" font-family=\"Red Hat Display,sans-serif\" font-size=\"11.00\" fill=\"#000000\" fill-opacity=\"0.733333\">id = id ∈ int</text>\n",
              "<text text-anchor=\"start\" x=\"200.4\" y=\"-260.75\" font-family=\"Red Hat Display,sans-serif\" font-size=\"11.00\" fill=\"#000000\" fill-opacity=\"0.733333\">height = height ∈ int[140 200]</text>\n",
              "<text text-anchor=\"start\" x=\"197.4\" y=\"-249.75\" font-family=\"Red Hat Display,sans-serif\" font-size=\"11.00\" fill=\"#000000\" fill-opacity=\"0.733333\">weight = weight ∈ float[40 130]</text>\n",
              "<text text-anchor=\"start\" x=\"179.4\" y=\"-238.75\" font-family=\"Red Hat Display,sans-serif\" font-size=\"11.00\" fill=\"#000000\" fill-opacity=\"0.733333\">gender = case((id = 1), M, F) ∈ str{F, M}</text>\n",
              "<text text-anchor=\"start\" x=\"14.4\" y=\"-227.75\" font-family=\"Red Hat Display,sans-serif\" font-size=\"11.00\" fill=\"#000000\" fill-opacity=\"0.733333\">WHERE (((((height &gt; 140) and (height &lt; 200)) and (weight &gt; 40)) and (weight &lt; 130)) and (gender in (1, 2)))</text>\n",
              "</g>\n",
              "<!-- graph_663l&#45;&gt;graph_17bh -->\n",
              "<g id=\"edge2\" class=\"edge\">\n",
              "<title>graph_663l&#45;&gt;graph_17bh</title>\n",
              "<path fill=\"none\" stroke=\"#2b303a\" d=\"M270.15,-335.17C270.15,-329.6 270.15,-323.8 270.15,-318.01\"/>\n",
              "<polygon fill=\"#2b303a\" stroke=\"#2b303a\" points=\"273.65,-318.46 270.15,-308.46 266.65,-318.46 273.65,-318.46\"/>\n",
              "</g>\n",
              "<!-- graph_gtdh -->\n",
              "<g id=\"node3\" class=\"node\">\n",
              "<title>graph_gtdh</title>\n",
              "<path fill=\"#ff1744\" stroke=\"#000000\" stroke-opacity=\"0.333333\" d=\"M347.17,-182.8C347.17,-182.8 193.12,-182.8 193.12,-182.8 187.12,-182.8 181.12,-176.8 181.12,-170.8 181.12,-170.8 181.12,-12 181.12,-12 181.12,-6 187.12,0 193.12,0 193.12,0 347.17,0 347.17,0 353.17,0 359.17,-6 359.17,-12 359.17,-12 359.17,-170.8 359.17,-170.8 359.17,-176.8 353.17,-182.8 347.17,-182.8\"/>\n",
              "<text text-anchor=\"start\" x=\"195.52\" y=\"-158.95\" font-family=\"Red Hat Display,sans-serif\" font-weight=\"bold\" font-size=\"11.00\" fill=\"#ffffff\" fill-opacity=\"0.733333\">HEART_DATA size ∈ int{70000}</text>\n",
              "<text text-anchor=\"start\" x=\"245.4\" y=\"-147.95\" font-family=\"Red Hat Display,sans-serif\" font-size=\"11.00\" fill=\"#ffffff\" fill-opacity=\"0.733333\">id = id ∈ int</text>\n",
              "<text text-anchor=\"start\" x=\"236.4\" y=\"-136.95\" font-family=\"Red Hat Display,sans-serif\" font-size=\"11.00\" fill=\"#ffffff\" fill-opacity=\"0.733333\">age = age ∈ int</text>\n",
              "<text text-anchor=\"start\" x=\"219.9\" y=\"-125.95\" font-family=\"Red Hat Display,sans-serif\" font-size=\"11.00\" fill=\"#ffffff\" fill-opacity=\"0.733333\">gender = gender ∈ int</text>\n",
              "<text text-anchor=\"start\" x=\"224.4\" y=\"-114.95\" font-family=\"Red Hat Display,sans-serif\" font-size=\"11.00\" fill=\"#ffffff\" fill-opacity=\"0.733333\">height = height ∈ int</text>\n",
              "<text text-anchor=\"start\" x=\"217.65\" y=\"-103.95\" font-family=\"Red Hat Display,sans-serif\" font-size=\"11.00\" fill=\"#ffffff\" fill-opacity=\"0.733333\">weight = weight ∈ float</text>\n",
              "<text text-anchor=\"start\" x=\"228.9\" y=\"-92.95\" font-family=\"Red Hat Display,sans-serif\" font-size=\"11.00\" fill=\"#ffffff\" fill-opacity=\"0.733333\">ap_hi = ap_hi ∈ int</text>\n",
              "<text text-anchor=\"start\" x=\"228.15\" y=\"-81.95\" font-family=\"Red Hat Display,sans-serif\" font-size=\"11.00\" fill=\"#ffffff\" fill-opacity=\"0.733333\">ap_lo = ap_lo ∈ int</text>\n",
              "<text text-anchor=\"start\" x=\"201.15\" y=\"-70.95\" font-family=\"Red Hat Display,sans-serif\" font-size=\"11.00\" fill=\"#ffffff\" fill-opacity=\"0.733333\">cholesterol = cholesterol ∈ int</text>\n",
              "<text text-anchor=\"start\" x=\"234.15\" y=\"-59.95\" font-family=\"Red Hat Display,sans-serif\" font-size=\"11.00\" fill=\"#ffffff\" fill-opacity=\"0.733333\">gluc = gluc ∈ int</text>\n",
              "<text text-anchor=\"start\" x=\"222.9\" y=\"-48.95\" font-family=\"Red Hat Display,sans-serif\" font-size=\"11.00\" fill=\"#ffffff\" fill-opacity=\"0.733333\">smoke = smoke ∈ int</text>\n",
              "<text text-anchor=\"start\" x=\"234.15\" y=\"-37.95\" font-family=\"Red Hat Display,sans-serif\" font-size=\"11.00\" fill=\"#ffffff\" fill-opacity=\"0.733333\">alco = alco ∈ int</text>\n",
              "<text text-anchor=\"start\" x=\"225.15\" y=\"-26.95\" font-family=\"Red Hat Display,sans-serif\" font-size=\"11.00\" fill=\"#ffffff\" fill-opacity=\"0.733333\">active = active ∈ int</text>\n",
              "<text text-anchor=\"start\" x=\"225.15\" y=\"-15.95\" font-family=\"Red Hat Display,sans-serif\" font-size=\"11.00\" fill=\"#ffffff\" fill-opacity=\"0.733333\">cardio = cardio ∈ int</text>\n",
              "</g>\n",
              "<!-- graph_17bh&#45;&gt;graph_gtdh -->\n",
              "<g id=\"edge1\" class=\"edge\">\n",
              "<title>graph_17bh&#45;&gt;graph_gtdh</title>\n",
              "<path fill=\"none\" stroke=\"#2b303a\" d=\"M270.15,-211.57C270.15,-206.09 270.15,-200.34 270.15,-194.45\"/>\n",
              "<polygon fill=\"#2b303a\" stroke=\"#2b303a\" points=\"273.65,-194.51 270.15,-184.51 266.65,-194.51 273.65,-194.51\"/>\n",
              "</g>\n",
              "</g>\n",
              "</svg>\n"
            ],
            "text/plain": [
              "<graphviz.sources.Source at 0x125c28820>"
            ]
          },
          "metadata": {},
          "output_type": "display_data"
        }
      ],
      "source": [
        "relation = ds.sql(query)\n",
        "display(graphviz.Source(relation.dot()))"
      ]
    },
    {
      "cell_type": "markdown",
      "metadata": {
        "id": "9OuN3xE2m1UK"
      },
      "source": [
        "At the basis in red, we find the original table `heart_data` with all its columns.\n",
        "\n",
        "The first mapping operation involves selecting the `id`, `gender`, `height` and `weight` columns and coercing their types.\n",
        "\n",
        "The output `Relation` contains the four columns with their datatypes propagated:\n",
        "\n",
        "- The `gender` column has `str` type with only two possible values `M` and `F`.\n",
        "- The `height` and `weigh` columns contain bounded floats."
      ]
    },
    {
      "cell_type": "code",
      "execution_count": 8,
      "metadata": {
        "colab": {
          "base_uri": "https://localhost:8080/"
        },
        "id": "09UoZUobm1UK",
        "outputId": "2b9c824b-2cb5-4311-f007-77dd82889542"
      },
      "outputs": [
        {
          "name": "stdout",
          "output_type": "stream",
          "text": [
            "The propagated datatype is: {id: int, height: int[140 200], weight: float[40 130], gender: str{F, M}}\n"
          ]
        }
      ],
      "source": [
        "print(f\"The propagated datatype is: {relation.schema()}\")"
      ]
    },
    {
      "cell_type": "markdown",
      "metadata": {
        "id": "Z2tOcItcm1UK"
      },
      "source": [
        "Importantly, these data types have been extended **independently, without necessitating any interaction with the database**.\n",
        "\n",
        "At this stage, the computation of aggregation sensitivity becomes feasible, but exclusively when such aggregation is executed on one of the initial columns.\n"
      ]
    },
    {
      "cell_type": "markdown",
      "metadata": {
        "id": "HDRfsFwkm1UL"
      },
      "source": [
        "## Range propagation"
      ]
    },
    {
      "cell_type": "markdown",
      "metadata": {
        "id": "AVh7ZIY2m1UL"
      },
      "source": [
        "When confronted with the aggregation of composite columns, one approach to gauge sensitivity involves employing the automatic bounds determination algorithm introduced by [Wilson et al. (2019)](https://arxiv.org/abs/1909.01917).\n",
        "\n",
        "However, a drawback of this method is that it consumes some of the privacy budget allocated for the aggregation.\n",
        "\n",
        "In the next section, we'll delve into how Qrlew extends the boundaries of the initial columns to composite columns without spending any privacy budget."
      ]
    },
    {
      "cell_type": "markdown",
      "metadata": {
        "id": "ebixYutIm1UL"
      },
      "source": [
        "As a first example, we reuse the previous query and compute the BMI (Body Mass Index) using the formula:\n",
        "$$BMI = \\frac{weight(kg)}{height(m)^2}$$"
      ]
    },
    {
      "cell_type": "code",
      "execution_count": 9,
      "metadata": {
        "colab": {
          "base_uri": "https://localhost:8080/",
          "height": 664
        },
        "id": "3mgb3cLHm1UL",
        "outputId": "135a389b-2a7f-4622-cedc-a9f0939556d2"
      },
      "outputs": [
        {
          "data": {
            "image/svg+xml": [
              "<?xml version=\"1.0\" encoding=\"UTF-8\" standalone=\"no\"?>\n",
              "<!DOCTYPE svg PUBLIC \"-//W3C//DTD SVG 1.1//EN\"\n",
              " \"http://www.w3.org/Graphics/SVG/1.1/DTD/svg11.dtd\">\n",
              "<!-- Generated by graphviz version 9.0.0 (20230911.1827)\n",
              " -->\n",
              "<!-- Title: graph_8ic1 Pages: 1 -->\n",
              "<svg width=\"590pt\" height=\"485pt\"\n",
              " viewBox=\"0.00 0.00 590.30 485.20\" xmlns=\"http://www.w3.org/2000/svg\" xmlns:xlink=\"http://www.w3.org/1999/xlink\">\n",
              "<g id=\"graph0\" class=\"graph\" transform=\"scale(1 1) rotate(0) translate(4 481.2)\">\n",
              "<title>graph_8ic1</title>\n",
              "<polygon fill=\"none\" stroke=\"none\" points=\"-4,4 -4,-481.2 586.3,-481.2 586.3,4 -4,4\"/>\n",
              "<!-- graph_8ic1 -->\n",
              "<g id=\"node1\" class=\"node\">\n",
              "<title>graph_8ic1</title>\n",
              "<path fill=\"#428e92\" stroke=\"#000000\" stroke-opacity=\"0.333333\" d=\"M494.92,-477.2C494.92,-477.2 87.38,-477.2 87.38,-477.2 81.38,-477.2 75.37,-471.2 75.37,-465.2 75.37,-465.2 75.37,-438.4 75.37,-438.4 75.37,-432.4 81.37,-426.4 87.37,-426.4 87.37,-426.4 494.92,-426.4 494.92,-426.4 500.92,-426.4 506.92,-432.4 506.92,-438.4 506.92,-438.4 506.92,-465.2 506.92,-465.2 506.92,-471.2 500.92,-477.2 494.92,-477.2\"/>\n",
              "<text text-anchor=\"start\" x=\"218.02\" y=\"-453.35\" font-family=\"Red Hat Display,sans-serif\" font-weight=\"bold\" font-size=\"11.00\" fill=\"#000000\" fill-opacity=\"0.733333\">MAP_S_LZ size ∈ int[0 70000]</text>\n",
              "<text text-anchor=\"start\" x=\"89.77\" y=\"-442.35\" font-family=\"Red Hat Display,sans-serif\" font-size=\"11.00\" fill=\"#000000\" fill-opacity=\"0.733333\">bmi = (weight / (height_in_meter * height_in_meter)) ∈ float[10 66.32653061224488]</text>\n",
              "</g>\n",
              "<!-- graph_ykng -->\n",
              "<g id=\"node2\" class=\"node\">\n",
              "<title>graph_ykng</title>\n",
              "<path fill=\"#428e92\" stroke=\"#000000\" stroke-opacity=\"0.333333\" d=\"M570.3,-397.4C570.3,-397.4 12,-397.4 12,-397.4 6,-397.4 0,-391.4 0,-385.4 0,-385.4 0,-347.6 0,-347.6 0,-341.6 6,-335.6 12,-335.6 12,-335.6 570.3,-335.6 570.3,-335.6 576.3,-335.6 582.3,-341.6 582.3,-347.6 582.3,-347.6 582.3,-385.4 582.3,-385.4 582.3,-391.4 576.3,-397.4 570.3,-397.4\"/>\n",
              "<text text-anchor=\"start\" x=\"216.9\" y=\"-373.55\" font-family=\"Red Hat Display,sans-serif\" font-weight=\"bold\" font-size=\"11.00\" fill=\"#000000\" fill-opacity=\"0.733333\">MAP_88Z0 size ∈ int[0 70000]</text>\n",
              "<text text-anchor=\"start\" x=\"14.4\" y=\"-362.55\" font-family=\"Red Hat Display,sans-serif\" font-size=\"11.00\" fill=\"#000000\" fill-opacity=\"0.733333\">height_in_meter = (height * 0.01) ∈ float{1.4000000000000001, 1.41, 1.42, 1.43, 1.44, 1.45, 1.46, 1.47, 1.48, 1.49, 1.5, 1.51...</text>\n",
              "<text text-anchor=\"start\" x=\"218.4\" y=\"-351.55\" font-family=\"Red Hat Display,sans-serif\" font-size=\"11.00\" fill=\"#000000\" fill-opacity=\"0.733333\">weight = weight ∈ float[40 130]</text>\n",
              "</g>\n",
              "<!-- graph_8ic1&#45;&gt;graph_ykng -->\n",
              "<g id=\"edge3\" class=\"edge\">\n",
              "<title>graph_8ic1&#45;&gt;graph_ykng</title>\n",
              "<path fill=\"none\" stroke=\"#2b303a\" d=\"M291.15,-426.26C291.15,-420.82 291.15,-414.91 291.15,-409\"/>\n",
              "<polygon fill=\"#2b303a\" stroke=\"#2b303a\" points=\"294.65,-409.29 291.15,-399.29 287.65,-409.29 294.65,-409.29\"/>\n",
              "</g>\n",
              "<!-- graph_17bh -->\n",
              "<g id=\"node3\" class=\"node\">\n",
              "<title>graph_17bh</title>\n",
              "<path fill=\"#428e92\" stroke=\"#000000\" stroke-opacity=\"0.333333\" d=\"M549.3,-306.6C549.3,-306.6 33,-306.6 33,-306.6 27,-306.6 21,-300.6 21,-294.6 21,-294.6 21,-223.8 21,-223.8 21,-217.8 27,-211.8 33,-211.8 33,-211.8 549.3,-211.8 549.3,-211.8 555.3,-211.8 561.3,-217.8 561.3,-223.8 561.3,-223.8 561.3,-294.6 561.3,-294.6 561.3,-300.6 555.3,-306.6 549.3,-306.6\"/>\n",
              "<text text-anchor=\"start\" x=\"214.27\" y=\"-282.75\" font-family=\"Red Hat Display,sans-serif\" font-weight=\"bold\" font-size=\"11.00\" fill=\"#000000\" fill-opacity=\"0.733333\">MAP_GK0W size ∈ int[0 70000]</text>\n",
              "<text text-anchor=\"start\" x=\"266.4\" y=\"-271.75\" font-family=\"Red Hat Display,sans-serif\" font-size=\"11.00\" fill=\"#000000\" fill-opacity=\"0.733333\">id = id ∈ int</text>\n",
              "<text text-anchor=\"start\" x=\"221.4\" y=\"-260.75\" font-family=\"Red Hat Display,sans-serif\" font-size=\"11.00\" fill=\"#000000\" fill-opacity=\"0.733333\">height = height ∈ int[140 200]</text>\n",
              "<text text-anchor=\"start\" x=\"218.4\" y=\"-249.75\" font-family=\"Red Hat Display,sans-serif\" font-size=\"11.00\" fill=\"#000000\" fill-opacity=\"0.733333\">weight = weight ∈ float[40 130]</text>\n",
              "<text text-anchor=\"start\" x=\"200.4\" y=\"-238.75\" font-family=\"Red Hat Display,sans-serif\" font-size=\"11.00\" fill=\"#000000\" fill-opacity=\"0.733333\">gender = case((id = 1), M, F) ∈ str{F, M}</text>\n",
              "<text text-anchor=\"start\" x=\"35.4\" y=\"-227.75\" font-family=\"Red Hat Display,sans-serif\" font-size=\"11.00\" fill=\"#000000\" fill-opacity=\"0.733333\">WHERE (((((height &gt; 140) and (height &lt; 200)) and (weight &gt; 40)) and (weight &lt; 130)) and (gender in (1, 2)))</text>\n",
              "</g>\n",
              "<!-- graph_ykng&#45;&gt;graph_17bh -->\n",
              "<g id=\"edge2\" class=\"edge\">\n",
              "<title>graph_ykng&#45;&gt;graph_17bh</title>\n",
              "<path fill=\"none\" stroke=\"#2b303a\" d=\"M291.15,-335.33C291.15,-329.92 291.15,-324.12 291.15,-318.24\"/>\n",
              "<polygon fill=\"#2b303a\" stroke=\"#2b303a\" points=\"294.65,-318.39 291.15,-308.39 287.65,-318.39 294.65,-318.39\"/>\n",
              "</g>\n",
              "<!-- graph_gtdh -->\n",
              "<g id=\"node4\" class=\"node\">\n",
              "<title>graph_gtdh</title>\n",
              "<path fill=\"#ff1744\" stroke=\"#000000\" stroke-opacity=\"0.333333\" d=\"M368.17,-182.8C368.17,-182.8 214.12,-182.8 214.12,-182.8 208.12,-182.8 202.12,-176.8 202.12,-170.8 202.12,-170.8 202.12,-12 202.12,-12 202.12,-6 208.12,0 214.12,0 214.12,0 368.17,0 368.17,0 374.17,0 380.17,-6 380.17,-12 380.17,-12 380.17,-170.8 380.17,-170.8 380.17,-176.8 374.17,-182.8 368.17,-182.8\"/>\n",
              "<text text-anchor=\"start\" x=\"216.52\" y=\"-158.95\" font-family=\"Red Hat Display,sans-serif\" font-weight=\"bold\" font-size=\"11.00\" fill=\"#ffffff\" fill-opacity=\"0.733333\">HEART_DATA size ∈ int{70000}</text>\n",
              "<text text-anchor=\"start\" x=\"266.4\" y=\"-147.95\" font-family=\"Red Hat Display,sans-serif\" font-size=\"11.00\" fill=\"#ffffff\" fill-opacity=\"0.733333\">id = id ∈ int</text>\n",
              "<text text-anchor=\"start\" x=\"257.4\" y=\"-136.95\" font-family=\"Red Hat Display,sans-serif\" font-size=\"11.00\" fill=\"#ffffff\" fill-opacity=\"0.733333\">age = age ∈ int</text>\n",
              "<text text-anchor=\"start\" x=\"240.9\" y=\"-125.95\" font-family=\"Red Hat Display,sans-serif\" font-size=\"11.00\" fill=\"#ffffff\" fill-opacity=\"0.733333\">gender = gender ∈ int</text>\n",
              "<text text-anchor=\"start\" x=\"245.4\" y=\"-114.95\" font-family=\"Red Hat Display,sans-serif\" font-size=\"11.00\" fill=\"#ffffff\" fill-opacity=\"0.733333\">height = height ∈ int</text>\n",
              "<text text-anchor=\"start\" x=\"238.65\" y=\"-103.95\" font-family=\"Red Hat Display,sans-serif\" font-size=\"11.00\" fill=\"#ffffff\" fill-opacity=\"0.733333\">weight = weight ∈ float</text>\n",
              "<text text-anchor=\"start\" x=\"249.9\" y=\"-92.95\" font-family=\"Red Hat Display,sans-serif\" font-size=\"11.00\" fill=\"#ffffff\" fill-opacity=\"0.733333\">ap_hi = ap_hi ∈ int</text>\n",
              "<text text-anchor=\"start\" x=\"249.15\" y=\"-81.95\" font-family=\"Red Hat Display,sans-serif\" font-size=\"11.00\" fill=\"#ffffff\" fill-opacity=\"0.733333\">ap_lo = ap_lo ∈ int</text>\n",
              "<text text-anchor=\"start\" x=\"222.15\" y=\"-70.95\" font-family=\"Red Hat Display,sans-serif\" font-size=\"11.00\" fill=\"#ffffff\" fill-opacity=\"0.733333\">cholesterol = cholesterol ∈ int</text>\n",
              "<text text-anchor=\"start\" x=\"255.15\" y=\"-59.95\" font-family=\"Red Hat Display,sans-serif\" font-size=\"11.00\" fill=\"#ffffff\" fill-opacity=\"0.733333\">gluc = gluc ∈ int</text>\n",
              "<text text-anchor=\"start\" x=\"243.9\" y=\"-48.95\" font-family=\"Red Hat Display,sans-serif\" font-size=\"11.00\" fill=\"#ffffff\" fill-opacity=\"0.733333\">smoke = smoke ∈ int</text>\n",
              "<text text-anchor=\"start\" x=\"255.15\" y=\"-37.95\" font-family=\"Red Hat Display,sans-serif\" font-size=\"11.00\" fill=\"#ffffff\" fill-opacity=\"0.733333\">alco = alco ∈ int</text>\n",
              "<text text-anchor=\"start\" x=\"246.15\" y=\"-26.95\" font-family=\"Red Hat Display,sans-serif\" font-size=\"11.00\" fill=\"#ffffff\" fill-opacity=\"0.733333\">active = active ∈ int</text>\n",
              "<text text-anchor=\"start\" x=\"246.15\" y=\"-15.95\" font-family=\"Red Hat Display,sans-serif\" font-size=\"11.00\" fill=\"#ffffff\" fill-opacity=\"0.733333\">cardio = cardio ∈ int</text>\n",
              "</g>\n",
              "<!-- graph_17bh&#45;&gt;graph_gtdh -->\n",
              "<g id=\"edge1\" class=\"edge\">\n",
              "<title>graph_17bh&#45;&gt;graph_gtdh</title>\n",
              "<path fill=\"none\" stroke=\"#2b303a\" d=\"M291.15,-211.57C291.15,-206.09 291.15,-200.34 291.15,-194.45\"/>\n",
              "<polygon fill=\"#2b303a\" stroke=\"#2b303a\" points=\"294.65,-194.51 291.15,-184.51 287.65,-194.51 294.65,-194.51\"/>\n",
              "</g>\n",
              "</g>\n",
              "</svg>\n"
            ],
            "text/plain": [
              "<graphviz.sources.Source at 0x108ffbdf0>"
            ]
          },
          "metadata": {},
          "output_type": "display_data"
        }
      ],
      "source": [
        "query = \"\"\"\n",
        "WITH\n",
        "    bounds_table AS (\n",
        "        SELECT\n",
        "            id,\n",
        "            height,\n",
        "            weight,\n",
        "            CASE WHEN id = 1 THEN 'M' ELSE 'F' END AS gender\n",
        "        FROM heart_data\n",
        "        WHERE\n",
        "            height > 140 AND height < 200 AND\n",
        "            weight > 40.00 AND weight < 130. AND\n",
        "            gender IN (1, 2)\n",
        "    ),\n",
        "    convert_table AS (\n",
        "        SELECT\n",
        "            height * 0.01 AS height_in_meter,\n",
        "            weight\n",
        "        FROM bounds_table\n",
        "    )\n",
        "SELECT weight / (height_in_meter * height_in_meter) AS bmi FROM convert_table\n",
        "\"\"\"\n",
        "relation = ds.sql(query)\n",
        "display(graphviz.Source(relation.dot()))"
      ]
    },
    {
      "cell_type": "markdown",
      "metadata": {
        "id": "3HVRBHEvm1UL"
      },
      "source": [
        "The two lower relations are the ones we previously had, which are fed into a new `Relation` that performs the conversion of the `height` column from centimeters to meters.\n",
        "\n",
        "The updated ranges are automatically calculated as `[140, 200] -> [1.4, 2.0]`.\n",
        "\n",
        "The BMI computation takes place in the uppermost `Relation`, the corresponding ranges are:\n",
        "$$\n",
        "\\left [ \\frac{\\min (weight(kg))}{\\max (height(m)^2)}, \\frac{\\max (weight(kg))}{\\min (height(m)^2)} \\right]\n",
        "$$"
      ]
    },
    {
      "cell_type": "code",
      "execution_count": 10,
      "metadata": {
        "colab": {
          "base_uri": "https://localhost:8080/",
          "height": 35
        },
        "id": "wayljlD2m1UL",
        "outputId": "207a8802-655d-49a5-87ec-720768a82f63"
      },
      "outputs": [
        {
          "data": {
            "text/plain": [
              "'{bmi: float[10 66.32653061224488]}'"
            ]
          },
          "execution_count": 10,
          "metadata": {},
          "output_type": "execute_result"
        }
      ],
      "source": [
        "relation.schema()"
      ]
    },
    {
      "cell_type": "markdown",
      "metadata": {
        "id": "09U0zzXGm1UM"
      },
      "source": [
        "This can be converted to the true min and max:"
      ]
    },
    {
      "cell_type": "code",
      "execution_count": 11,
      "metadata": {
        "colab": {
          "base_uri": "https://localhost:8080/"
        },
        "id": "YUvl7idWm1UM",
        "outputId": "a4d9c76f-3af0-47d2-c872-0fcfb645ddbd"
      },
      "outputs": [
        {
          "name": "stdout",
          "output_type": "stream",
          "text": [
            "bmi: [14.527376033057852, 63.975401706010715]\n"
          ]
        }
      ],
      "source": [
        "df = pd.DataFrame(qdb.eval(relation))\n",
        "print(f\"bmi: [{df['bmi'].min()}, {df['bmi'].max()}]\")\n"
      ]
    },
    {
      "cell_type": "markdown",
      "metadata": {
        "id": "76ipghMZm1UM"
      },
      "source": [
        "We observe that the estimated bounds encompass the actual bounds. This implies that we might be introducing an excessive amount of noise. If we aim to incorporate less noise, we can tighten the bounds; however, this adjustment could potentially introduce bias into the final outcome."
      ]
    },
    {
      "cell_type": "markdown",
      "metadata": {
        "id": "Uwnzvgexm1UM"
      },
      "source": [
        "Let now consider another example. We want to compute the [Lorentz formula](https://link.springer.com/chapter/10.1007/978-3-211-89836-9_803) given by:\n",
        "\n",
        "$$\n",
        "\\left\\{\n",
        "    \\begin{array}{ll}\n",
        "        0.75 * height - 62.5 & \\text{if  gender='M'} \\\\\n",
        "        0.60 * height -40.0 & \\text{if  gender='F'} \\\\\n",
        "    \\end{array}\n",
        "\\right.\n",
        "$$\n",
        "\n",
        "**To illustrate the process of joining**, we calculate the Lorentz formula separately for males and females using two distinct common table expressions.\n",
        "Subsequently, we merge these tables through a join operation and retrieve the appropriate formula based on the individual's gender."
      ]
    },
    {
      "cell_type": "code",
      "execution_count": 12,
      "metadata": {
        "colab": {
          "base_uri": "https://localhost:8080/",
          "height": 892
        },
        "id": "l3XGslVXm1UM",
        "outputId": "7b502a5f-c01d-4b53-ebb1-f890b93dd93a"
      },
      "outputs": [
        {
          "data": {
            "image/svg+xml": [
              "<?xml version=\"1.0\" encoding=\"UTF-8\" standalone=\"no\"?>\n",
              "<!DOCTYPE svg PUBLIC \"-//W3C//DTD SVG 1.1//EN\"\n",
              " \"http://www.w3.org/Graphics/SVG/1.1/DTD/svg11.dtd\">\n",
              "<!-- Generated by graphviz version 9.0.0 (20230911.1827)\n",
              " -->\n",
              "<!-- Title: graph_r62l Pages: 1 -->\n",
              "<svg width=\"1298pt\" height=\"642pt\"\n",
              " viewBox=\"0.00 0.00 1298.17 642.00\" xmlns=\"http://www.w3.org/2000/svg\" xmlns:xlink=\"http://www.w3.org/1999/xlink\">\n",
              "<g id=\"graph0\" class=\"graph\" transform=\"scale(1 1) rotate(0) translate(4 638)\">\n",
              "<title>graph_r62l</title>\n",
              "<polygon fill=\"none\" stroke=\"none\" points=\"-4,4 -4,-638 1294.17,-638 1294.17,4 -4,4\"/>\n",
              "<!-- graph_r62l -->\n",
              "<g id=\"node1\" class=\"node\">\n",
              "<title>graph_r62l</title>\n",
              "<path fill=\"#428e92\" stroke=\"#000000\" stroke-opacity=\"0.333333\" d=\"M969.05,-634C969.05,-634 365.75,-634 365.75,-634 359.75,-634 353.75,-628 353.75,-622 353.75,-622 353.75,-595.2 353.75,-595.2 353.75,-589.2 359.75,-583.2 365.75,-583.2 365.75,-583.2 969.05,-583.2 969.05,-583.2 975.05,-583.2 981.05,-589.2 981.05,-595.2 981.05,-595.2 981.05,-622 981.05,-622 981.05,-628 975.05,-634 969.05,-634\"/>\n",
              "<text text-anchor=\"start\" x=\"573.27\" y=\"-610.15\" font-family=\"Red Hat Display,sans-serif\" font-weight=\"bold\" font-size=\"11.00\" fill=\"#000000\" fill-opacity=\"0.733333\">MAP_N6O9 size ∈ int[0 4900000000]</text>\n",
              "<text text-anchor=\"start\" x=\"368.15\" y=\"-599.15\" font-family=\"Red Hat Display,sans-serif\" font-size=\"11.00\" fill=\"#000000\" fill-opacity=\"0.733333\">lorentz = case((field_ey3i = M), field_jvtu, field_koth) ∈ option(float{42.5, 43.25, 44, 44.599999999999994, 44.75, 45.2, 45....</text>\n",
              "</g>\n",
              "<!-- graph_o91d -->\n",
              "<g id=\"node2\" class=\"node\">\n",
              "<title>graph_o91d</title>\n",
              "<path fill=\"#ff616f\" stroke=\"#000000\" stroke-opacity=\"0.333333\" d=\"M999.8,-554.2C999.8,-554.2 335,-554.2 335,-554.2 329,-554.2 323,-548.2 323,-542.2 323,-542.2 323,-460.4 323,-460.4 323,-454.4 329,-448.4 335,-448.4 335,-448.4 999.8,-448.4 999.8,-448.4 1005.8,-448.4 1011.8,-454.4 1011.8,-460.4 1011.8,-460.4 1011.8,-542.2 1011.8,-542.2 1011.8,-548.2 1005.8,-554.2 999.8,-554.2\"/>\n",
              "<text text-anchor=\"start\" x=\"572.9\" y=\"-530.35\" font-family=\"Red Hat Display,sans-serif\" font-weight=\"bold\" font-size=\"11.00\" fill=\"#000000\" fill-opacity=\"0.733333\">JOIN__YSG size ∈ int[0 4900000000]</text>\n",
              "<text text-anchor=\"start\" x=\"601.02\" y=\"-519.35\" font-family=\"Red Hat Display,sans-serif\" font-size=\"11.00\" fill=\"#000000\" fill-opacity=\"0.733333\">field_p7b0 = _LEFT_.id ∈ int</text>\n",
              "<text text-anchor=\"start\" x=\"578.52\" y=\"-508.35\" font-family=\"Red Hat Display,sans-serif\" font-size=\"11.00\" fill=\"#000000\" fill-opacity=\"0.733333\">field_ey3i = _LEFT_.gender ∈ str{F, M}</text>\n",
              "<text text-anchor=\"start\" x=\"337.4\" y=\"-497.35\" font-family=\"Red Hat Display,sans-serif\" font-size=\"11.00\" fill=\"#000000\" fill-opacity=\"0.733333\">field_koth = _LEFT_.female_lorentz ∈ float{44, 44.599999999999994, 45.2, 45.8, 46.39999999999999, 47, 47.599999999999994, 48....</text>\n",
              "<text text-anchor=\"start\" x=\"579.65\" y=\"-486.35\" font-family=\"Red Hat Display,sans-serif\" font-size=\"11.00\" fill=\"#000000\" fill-opacity=\"0.733333\">field_cq9z = _RIGHT_.id ∈ option(int)</text>\n",
              "<text text-anchor=\"start\" x=\"377.9\" y=\"-475.35\" font-family=\"Red Hat Display,sans-serif\" font-size=\"11.00\" fill=\"#000000\" fill-opacity=\"0.733333\">field_jvtu = _RIGHT_.male_lorentz ∈ option(float{42.5, 43.25, 44, 44.75, 45.5, 46.25, 47, 47.75, 48.5, 49.25, 50, 50.75, 51.5...</text>\n",
              "<text text-anchor=\"start\" x=\"583.02\" y=\"-464.35\" font-family=\"Red Hat Display,sans-serif\" font-size=\"11.00\" fill=\"#000000\" fill-opacity=\"0.733333\">LEFT ON (_LEFT_.id = _RIGHT_.id)</text>\n",
              "</g>\n",
              "<!-- graph_r62l&#45;&gt;graph_o91d -->\n",
              "<g id=\"edge6\" class=\"edge\">\n",
              "<title>graph_r62l&#45;&gt;graph_o91d</title>\n",
              "<path fill=\"none\" stroke=\"#2b303a\" d=\"M667.4,-582.91C667.4,-577.73 667.4,-572.03 667.4,-566.14\"/>\n",
              "<polygon fill=\"#2b303a\" stroke=\"#2b303a\" points=\"670.9,-566.16 667.4,-556.16 663.9,-566.16 670.9,-566.16\"/>\n",
              "</g>\n",
              "<!-- graph_aaxr -->\n",
              "<g id=\"node3\" class=\"node\">\n",
              "<title>graph_aaxr</title>\n",
              "<path fill=\"#428e92\" stroke=\"#000000\" stroke-opacity=\"0.333333\" d=\"M670.8,-419.4C670.8,-419.4 12,-419.4 12,-419.4 6,-419.4 0,-413.4 0,-407.4 0,-407.4 0,-358.6 0,-358.6 0,-352.6 6,-346.6 12,-346.6 12,-346.6 670.8,-346.6 670.8,-346.6 676.8,-346.6 682.8,-352.6 682.8,-358.6 682.8,-358.6 682.8,-407.4 682.8,-407.4 682.8,-413.4 676.8,-419.4 670.8,-419.4\"/>\n",
              "<text text-anchor=\"start\" x=\"267.9\" y=\"-395.55\" font-family=\"Red Hat Display,sans-serif\" font-weight=\"bold\" font-size=\"11.00\" fill=\"#000000\" fill-opacity=\"0.733333\">MAP_26EE size ∈ int[0 70000]</text>\n",
              "<text text-anchor=\"start\" x=\"316.65\" y=\"-384.55\" font-family=\"Red Hat Display,sans-serif\" font-size=\"11.00\" fill=\"#000000\" fill-opacity=\"0.733333\">id = id ∈ int</text>\n",
              "<text text-anchor=\"start\" x=\"277.65\" y=\"-373.55\" font-family=\"Red Hat Display,sans-serif\" font-size=\"11.00\" fill=\"#000000\" fill-opacity=\"0.733333\">gender = gender ∈ str{F, M}</text>\n",
              "<text text-anchor=\"start\" x=\"14.4\" y=\"-362.55\" font-family=\"Red Hat Display,sans-serif\" font-size=\"11.00\" fill=\"#000000\" fill-opacity=\"0.733333\">female_lorentz = ((0.6 * height) &#45; 40) ∈ float{44, 44.599999999999994, 45.2, 45.8, 46.39999999999999, 47, 47.599999999999994,...</text>\n",
              "</g>\n",
              "<!-- graph_o91d&#45;&gt;graph_aaxr -->\n",
              "<g id=\"edge4\" class=\"edge\">\n",
              "<title>graph_o91d&#45;&gt;graph_aaxr</title>\n",
              "<path fill=\"none\" stroke=\"#2b303a\" d=\"M520.61,-447.93C497.67,-439.75 474.29,-431.41 452.32,-423.57\"/>\n",
              "<polygon fill=\"#2b303a\" stroke=\"#2b303a\" points=\"453.67,-420.34 443.08,-420.27 451.32,-426.93 453.67,-420.34\"/>\n",
              "</g>\n",
              "<!-- graph_eh46 -->\n",
              "<g id=\"node4\" class=\"node\">\n",
              "<title>graph_eh46</title>\n",
              "<path fill=\"#428e92\" stroke=\"#000000\" stroke-opacity=\"0.333333\" d=\"M1278.17,-413.9C1278.17,-413.9 708.62,-413.9 708.62,-413.9 702.62,-413.9 696.62,-407.9 696.62,-401.9 696.62,-401.9 696.62,-364.1 696.62,-364.1 696.62,-358.1 702.62,-352.1 708.62,-352.1 708.62,-352.1 1278.17,-352.1 1278.17,-352.1 1284.17,-352.1 1290.17,-358.1 1290.17,-364.1 1290.17,-364.1 1290.17,-401.9 1290.17,-401.9 1290.17,-407.9 1284.17,-413.9 1278.17,-413.9\"/>\n",
              "<text text-anchor=\"start\" x=\"919.15\" y=\"-390.05\" font-family=\"Red Hat Display,sans-serif\" font-weight=\"bold\" font-size=\"11.00\" fill=\"#000000\" fill-opacity=\"0.733333\">MAP_4N0T size ∈ int[0 70000]</text>\n",
              "<text text-anchor=\"start\" x=\"968.65\" y=\"-379.05\" font-family=\"Red Hat Display,sans-serif\" font-size=\"11.00\" fill=\"#000000\" fill-opacity=\"0.733333\">id = id ∈ int</text>\n",
              "<text text-anchor=\"start\" x=\"711.02\" y=\"-368.05\" font-family=\"Red Hat Display,sans-serif\" font-size=\"11.00\" fill=\"#000000\" fill-opacity=\"0.733333\">male_lorentz = ((0.75 * height) &#45; 62.5) ∈ float{42.5, 43.25, 44, 44.75, 45.5, 46.25, 47, 47.75, 48.5, 49.25, 50, 50.75, 51.5,...</text>\n",
              "</g>\n",
              "<!-- graph_o91d&#45;&gt;graph_eh46 -->\n",
              "<g id=\"edge5\" class=\"edge\">\n",
              "<title>graph_o91d&#45;&gt;graph_eh46</title>\n",
              "<path fill=\"none\" stroke=\"#2b303a\" d=\"M814.19,-447.93C842.56,-437.81 871.59,-427.46 897.8,-418.11\"/>\n",
              "<polygon fill=\"#2b303a\" stroke=\"#2b303a\" points=\"898.8,-421.47 907.04,-414.81 896.44,-414.87 898.8,-421.47\"/>\n",
              "</g>\n",
              "<!-- graph_daib -->\n",
              "<g id=\"node5\" class=\"node\">\n",
              "<title>graph_daib</title>\n",
              "<path fill=\"#428e92\" stroke=\"#000000\" stroke-opacity=\"0.333333\" d=\"M925.55,-317.6C925.55,-317.6 409.25,-317.6 409.25,-317.6 403.25,-317.6 397.25,-311.6 397.25,-305.6 397.25,-305.6 397.25,-223.8 397.25,-223.8 397.25,-217.8 403.25,-211.8 409.25,-211.8 409.25,-211.8 925.55,-211.8 925.55,-211.8 931.55,-211.8 937.55,-217.8 937.55,-223.8 937.55,-223.8 937.55,-305.6 937.55,-305.6 937.55,-311.6 931.55,-317.6 925.55,-317.6\"/>\n",
              "<text text-anchor=\"start\" x=\"592.77\" y=\"-293.75\" font-family=\"Red Hat Display,sans-serif\" font-weight=\"bold\" font-size=\"11.00\" fill=\"#000000\" fill-opacity=\"0.733333\">MAP_205O size ∈ int[0 70000]</text>\n",
              "<text text-anchor=\"start\" x=\"642.65\" y=\"-282.75\" font-family=\"Red Hat Display,sans-serif\" font-size=\"11.00\" fill=\"#000000\" fill-opacity=\"0.733333\">id = id ∈ int</text>\n",
              "<text text-anchor=\"start\" x=\"633.65\" y=\"-271.75\" font-family=\"Red Hat Display,sans-serif\" font-size=\"11.00\" fill=\"#000000\" fill-opacity=\"0.733333\">age = age ∈ int</text>\n",
              "<text text-anchor=\"start\" x=\"597.65\" y=\"-260.75\" font-family=\"Red Hat Display,sans-serif\" font-size=\"11.00\" fill=\"#000000\" fill-opacity=\"0.733333\">height = height ∈ int[140 200]</text>\n",
              "<text text-anchor=\"start\" x=\"594.65\" y=\"-249.75\" font-family=\"Red Hat Display,sans-serif\" font-size=\"11.00\" fill=\"#000000\" fill-opacity=\"0.733333\">weight = weight ∈ float[40 130]</text>\n",
              "<text text-anchor=\"start\" x=\"563.9\" y=\"-238.75\" font-family=\"Red Hat Display,sans-serif\" font-size=\"11.00\" fill=\"#000000\" fill-opacity=\"0.733333\">gender = case((gender = 1), M, F) ∈ str{F, M}</text>\n",
              "<text text-anchor=\"start\" x=\"411.65\" y=\"-227.75\" font-family=\"Red Hat Display,sans-serif\" font-size=\"11.00\" fill=\"#000000\" fill-opacity=\"0.733333\">WHERE (((((height &gt; 140) and (height &lt; 200)) and (weight &gt; 40)) and (weight &lt; 130)) and (gender in (1, 2)))</text>\n",
              "</g>\n",
              "<!-- graph_aaxr&#45;&gt;graph_daib -->\n",
              "<g id=\"edge3\" class=\"edge\">\n",
              "<title>graph_aaxr&#45;&gt;graph_daib</title>\n",
              "<path fill=\"none\" stroke=\"#2b303a\" d=\"M441.87,-346.16C463.45,-338.46 486.75,-330.15 509.9,-321.89\"/>\n",
              "<polygon fill=\"#2b303a\" stroke=\"#2b303a\" points=\"510.85,-325.26 519.1,-318.61 508.5,-318.67 510.85,-325.26\"/>\n",
              "</g>\n",
              "<!-- graph_eh46&#45;&gt;graph_daib -->\n",
              "<g id=\"edge2\" class=\"edge\">\n",
              "<title>graph_eh46&#45;&gt;graph_daib</title>\n",
              "<path fill=\"none\" stroke=\"#2b303a\" d=\"M908.6,-351.75C882.81,-342.55 853.59,-332.12 824.62,-321.79\"/>\n",
              "<polygon fill=\"#2b303a\" stroke=\"#2b303a\" points=\"825.99,-318.56 815.39,-318.5 823.63,-325.15 825.99,-318.56\"/>\n",
              "</g>\n",
              "<!-- graph_gtdh -->\n",
              "<g id=\"node6\" class=\"node\">\n",
              "<title>graph_gtdh</title>\n",
              "<path fill=\"#ff1744\" stroke=\"#000000\" stroke-opacity=\"0.333333\" d=\"M744.42,-182.8C744.42,-182.8 590.38,-182.8 590.38,-182.8 584.38,-182.8 578.38,-176.8 578.38,-170.8 578.38,-170.8 578.38,-12 578.38,-12 578.38,-6 584.38,0 590.38,0 590.38,0 744.42,0 744.42,0 750.42,0 756.42,-6 756.42,-12 756.42,-12 756.42,-170.8 756.42,-170.8 756.42,-176.8 750.42,-182.8 744.42,-182.8\"/>\n",
              "<text text-anchor=\"start\" x=\"592.77\" y=\"-158.95\" font-family=\"Red Hat Display,sans-serif\" font-weight=\"bold\" font-size=\"11.00\" fill=\"#ffffff\" fill-opacity=\"0.733333\">HEART_DATA size ∈ int{70000}</text>\n",
              "<text text-anchor=\"start\" x=\"642.65\" y=\"-147.95\" font-family=\"Red Hat Display,sans-serif\" font-size=\"11.00\" fill=\"#ffffff\" fill-opacity=\"0.733333\">id = id ∈ int</text>\n",
              "<text text-anchor=\"start\" x=\"633.65\" y=\"-136.95\" font-family=\"Red Hat Display,sans-serif\" font-size=\"11.00\" fill=\"#ffffff\" fill-opacity=\"0.733333\">age = age ∈ int</text>\n",
              "<text text-anchor=\"start\" x=\"617.15\" y=\"-125.95\" font-family=\"Red Hat Display,sans-serif\" font-size=\"11.00\" fill=\"#ffffff\" fill-opacity=\"0.733333\">gender = gender ∈ int</text>\n",
              "<text text-anchor=\"start\" x=\"621.65\" y=\"-114.95\" font-family=\"Red Hat Display,sans-serif\" font-size=\"11.00\" fill=\"#ffffff\" fill-opacity=\"0.733333\">height = height ∈ int</text>\n",
              "<text text-anchor=\"start\" x=\"614.9\" y=\"-103.95\" font-family=\"Red Hat Display,sans-serif\" font-size=\"11.00\" fill=\"#ffffff\" fill-opacity=\"0.733333\">weight = weight ∈ float</text>\n",
              "<text text-anchor=\"start\" x=\"626.15\" y=\"-92.95\" font-family=\"Red Hat Display,sans-serif\" font-size=\"11.00\" fill=\"#ffffff\" fill-opacity=\"0.733333\">ap_hi = ap_hi ∈ int</text>\n",
              "<text text-anchor=\"start\" x=\"625.4\" y=\"-81.95\" font-family=\"Red Hat Display,sans-serif\" font-size=\"11.00\" fill=\"#ffffff\" fill-opacity=\"0.733333\">ap_lo = ap_lo ∈ int</text>\n",
              "<text text-anchor=\"start\" x=\"598.4\" y=\"-70.95\" font-family=\"Red Hat Display,sans-serif\" font-size=\"11.00\" fill=\"#ffffff\" fill-opacity=\"0.733333\">cholesterol = cholesterol ∈ int</text>\n",
              "<text text-anchor=\"start\" x=\"631.4\" y=\"-59.95\" font-family=\"Red Hat Display,sans-serif\" font-size=\"11.00\" fill=\"#ffffff\" fill-opacity=\"0.733333\">gluc = gluc ∈ int</text>\n",
              "<text text-anchor=\"start\" x=\"620.15\" y=\"-48.95\" font-family=\"Red Hat Display,sans-serif\" font-size=\"11.00\" fill=\"#ffffff\" fill-opacity=\"0.733333\">smoke = smoke ∈ int</text>\n",
              "<text text-anchor=\"start\" x=\"631.4\" y=\"-37.95\" font-family=\"Red Hat Display,sans-serif\" font-size=\"11.00\" fill=\"#ffffff\" fill-opacity=\"0.733333\">alco = alco ∈ int</text>\n",
              "<text text-anchor=\"start\" x=\"622.4\" y=\"-26.95\" font-family=\"Red Hat Display,sans-serif\" font-size=\"11.00\" fill=\"#ffffff\" fill-opacity=\"0.733333\">active = active ∈ int</text>\n",
              "<text text-anchor=\"start\" x=\"622.4\" y=\"-15.95\" font-family=\"Red Hat Display,sans-serif\" font-size=\"11.00\" fill=\"#ffffff\" fill-opacity=\"0.733333\">cardio = cardio ∈ int</text>\n",
              "</g>\n",
              "<!-- graph_daib&#45;&gt;graph_gtdh -->\n",
              "<g id=\"edge1\" class=\"edge\">\n",
              "<title>graph_daib&#45;&gt;graph_gtdh</title>\n",
              "<path fill=\"none\" stroke=\"#2b303a\" d=\"M667.4,-211.37C667.4,-205.92 667.4,-200.25 667.4,-194.47\"/>\n",
              "<polygon fill=\"#2b303a\" stroke=\"#2b303a\" points=\"670.9,-194.79 667.4,-184.79 663.9,-194.79 670.9,-194.79\"/>\n",
              "</g>\n",
              "</g>\n",
              "</svg>\n"
            ],
            "text/plain": [
              "<graphviz.sources.Source at 0x125b79a60>"
            ]
          },
          "metadata": {},
          "output_type": "display_data"
        }
      ],
      "source": [
        "query = \"\"\"\n",
        "WITH\n",
        "    bounds_table AS (\n",
        "        SELECT\n",
        "            id,\n",
        "            age,\n",
        "            height,\n",
        "            weight,\n",
        "            CASE WHEN gender = 1 THEN 'M' ELSE 'F' END AS gender\n",
        "        FROM heart_data\n",
        "        WHERE\n",
        "            height > 140 AND height < 200 AND\n",
        "            weight > 40.00 AND weight < 130. AND\n",
        "            gender IN (1, 2)\n",
        "    ),\n",
        "    female_table AS (\n",
        "        SELECT\n",
        "            id,\n",
        "            gender,\n",
        "            0.6 * height -40.0 AS female_lorentz\n",
        "        FROM bounds_table\n",
        "    ),\n",
        "    male_table AS (\n",
        "        SELECT\n",
        "            id,\n",
        "            0.75 * height - 62.5 AS male_lorentz\n",
        "        FROM bounds_table\n",
        "    )\n",
        "SELECT CASE WHEN gender = 'M' THEN male_lorentz else female_lorentz END AS lorentz FROM female_table LEFT JOIN male_table ON female_table.id = male_table.id\n",
        "\"\"\"\n",
        "relation = ds.sql(query)\n",
        "\n",
        "display(graphviz.Source(relation.dot()))"
      ]
    },
    {
      "cell_type": "markdown",
      "metadata": {
        "id": "HrDD8tkXm1UM"
      },
      "source": [
        "Once more, in this example, you can trace follow the propagation of the ranges as they propagate throughout all the relations.\n",
        "\n",
        "Finally, the propagated ranges for the Lorentz formula are:"
      ]
    },
    {
      "cell_type": "code",
      "execution_count": 13,
      "metadata": {
        "colab": {
          "base_uri": "https://localhost:8080/",
          "height": 107
        },
        "id": "wWRw3r4nm1UN",
        "outputId": "10966293-f7f2-4b6b-beaf-29c2617645e6"
      },
      "outputs": [
        {
          "data": {
            "text/plain": [
              "'{lorentz: option(float{42.5, 43.25, 44, 44.599999999999994, 44.75, 45.2, 45.5, 45.8, 46.25, 46.39999999999999, 47, 47.599999999999994, 47.75, 48.2, 48.5, 48.8, 49.25, 49.39999999999999, 50, 50.599999999999994, 50.75, 51.2, 51.5, 51.8, 52.25, 52.39999999999999, 53, 53.599999999999994, 53.75, 54.2, 54.5, 54.8, 55.25, 55.39999999999999, 56, 56.599999999999994, 56.75, 57.2, 57.5, 57.8, 58.25, 58.39999999999999, 59, 59.599999999999994, 59.75, 60.2, 60.5, 60.8, 61.25, 61.39999999999999, 62, 62.599999999999994, 62.75, 63.2, 63.5, 63.8, 64.25, 64.39999999999999, 65, 65.6, 65.75, 66.2, 66.5, 66.8, 67.25, 67.39999999999999, 68, 68.6, 68.75, 69.2, 69.5, 69.8, 70.25, 70.39999999999999, 71, 71.6, 71.75, 72.2, 72.5, 72.8, 73.25, 73.39999999999999, 74, 74.6, 74.75, 75.19999999999999, 75.5, 75.8, 76.25, 76.39999999999999, 77, 77.6, 77.75, 78.19999999999999, 78.5, 78.8, 79.25, 79.39999999999999, 80, 80.75, 81.5, 82.25, 83, 83.75, 84.5, 85.25, 86, 86.75, 87.5})}'"
            ]
          },
          "execution_count": 13,
          "metadata": {},
          "output_type": "execute_result"
        }
      ],
      "source": [
        "relation.schema()"
      ]
    },
    {
      "cell_type": "markdown",
      "metadata": {
        "id": "dOBl5-p_m1UN"
      },
      "source": [
        "The exact ranges are:"
      ]
    },
    {
      "cell_type": "code",
      "execution_count": 14,
      "metadata": {
        "colab": {
          "base_uri": "https://localhost:8080/"
        },
        "id": "nyGB7fxLm1UN",
        "outputId": "77f70fa4-9c65-47c9-a582-d8f75d67fae8"
      },
      "outputs": [
        {
          "name": "stdout",
          "output_type": "stream",
          "text": [
            "lorentz: [43.25, 86.0]\n"
          ]
        }
      ],
      "source": [
        "df = pd.DataFrame(qdb.eval(relation))\n",
        "print(f\"lorentz: [{df['lorentz'].min()}, {df['lorentz'].max()}]\")\n"
      ]
    },
    {
      "cell_type": "markdown",
      "metadata": {
        "id": "bjrul39Rm1UN"
      },
      "source": [
        "In certain scenarios, when there's a high correlation between columns, it might not be advisable to use propagated ranges.\n",
        "This is because the accurate range could be influenced by significant correlations that are not evident from external data.\n",
        "In such instances, it could be beneficial to allocate budget towards computing ranges using the automatic boundary determination algorithm ([Wilson et al. 2019](https://arxiv.org/abs/1909.01917))."
      ]
    },
    {
      "cell_type": "markdown",
      "metadata": {
        "id": "3RgBQGUKm1UN"
      },
      "source": [
        "However, how can an analyst without free database access determine whether he should allocate budget to compute the ranges?\n",
        "\n",
        "This is where utilizing Sarus becomes advantageous.\n",
        "\n",
        "By employing [Sarus](https://www.sarus.tech/), the analyst gains **access to a synthetic dataset** wherein inter-column correlations are replicated.\n",
        "\n",
        "This empowers the analyst to **devise a strategy without expending privacy resources**, as they can scrutinize the synthetic dataset for insights and make informed decisions."
      ]
    }
  ],
  "metadata": {
    "colab": {
      "provenance": []
    },
    "kernelspec": {
      "display_name": "myenv",
      "language": "python",
      "name": "python3"
    },
    "language_info": {
      "codemirror_mode": {
        "name": "ipython",
        "version": 3
      },
      "file_extension": ".py",
      "mimetype": "text/x-python",
      "name": "python",
      "nbconvert_exporter": "python",
      "pygments_lexer": "ipython3",
      "version": "3.9.16"
    },
    "orig_nbformat": 4
  },
  "nbformat": 4,
  "nbformat_minor": 0
}
