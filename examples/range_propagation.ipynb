{
 "cells": [
  {
   "cell_type": "code",
   "execution_count": 1,
   "metadata": {},
   "outputs": [],
   "source": [
    "import logging\n",
    "logging.disable(logging.INFO)"
   ]
  },
  {
   "cell_type": "code",
   "execution_count": null,
   "metadata": {},
   "outputs": [],
   "source": [
    "# We download an extract of Kuzak Dempsy's dataset that also can be found here:\n",
    "# https://raw.githubusercontent.com/vserret/datasets/main/heart_data.csv\n",
    "!wget https://raw.githubusercontent.com/vserret/datasets/main/heart_data.csv"
   ]
  },
  {
   "cell_type": "markdown",
   "metadata": {},
   "source": [
    "Connection \n",
    "...."
   ]
  },
  {
   "cell_type": "code",
   "execution_count": 2,
   "metadata": {},
   "outputs": [],
   "source": [
    "import pyqrlew as pq\n",
    "db = pq.from_csv(\n",
    "    table_name=\"heart_data\", \n",
    "    csv_file=\"heart_data.csv\"\n",
    ")"
   ]
  },
  {
   "cell_type": "code",
   "execution_count": null,
   "metadata": {},
   "outputs": [],
   "source": [
    "ds = db.dataset()\n",
    "ds.relations()"
   ]
  },
  {
   "cell_type": "code",
   "execution_count": null,
   "metadata": {},
   "outputs": [],
   "source": [
    "import pandas as pd\n",
    "pd.DataFrame(db.execute(\"SELECT * FROM heart_data\")).head()"
   ]
  },
  {
   "cell_type": "code",
   "execution_count": null,
   "metadata": {},
   "outputs": [],
   "source": [
    "import graphviz\n",
    "\n",
    "def display_dot(dot_graph): \n",
    "    display(graphviz.Source(dot_graph))"
   ]
  },
  {
   "cell_type": "code",
   "execution_count": null,
   "metadata": {},
   "outputs": [],
   "source": [
    "display_dot(ds.relations()[0][1].dot())"
   ]
  },
  {
   "cell_type": "code",
   "execution_count": null,
   "metadata": {},
   "outputs": [],
   "source": [
    "# BMI = weight(kg) / height_m ** 2\n",
    "query = \"\"\"\n",
    "WITH \n",
    "    height_table AS (SELECT id, height_in_meter AS height_in_meter FROM (SELECT id, height * 0.01 AS height_in_meter FROM heart_data WHERE height > 160 AND height < 195) AS subq),\n",
    "    weight_table AS (SELECT id, weight AS weight FROM (SELECT id, weight FROM heart_data WHERE weight > 50 AND weight < 100) AS subq)\n",
    "SELECT weight / (height_in_meter * height_in_meter) AS bmi FROM height_table LEFT JOIN weight_table ON height_table.id = weight_table.id\n",
    "\"\"\"\n",
    "relation = ds.sql(query)\n",
    "\n",
    "df0 = pd.DataFrame(db.eval(relation))\n",
    "print(f\"The min and max values for bmi: [{df0['bmi'].min()}, {df0['bmi'].max()}]\")\n",
    "print(f\"The propagated datatype is: {relation.schema()}\")    \n",
    "\n",
    "display_dot(relation.dot())"
   ]
  },
  {
   "cell_type": "code",
   "execution_count": null,
   "metadata": {},
   "outputs": [],
   "source": [
    "# BMI = weight(kg) / height_m ** 2\n",
    "query = \"\"\"\n",
    "WITH \n",
    "    height_table AS (SELECT id, height_in_meter AS height_in_meter FROM (SELECT id, height * 0.01 AS height_in_meter FROM heart_data WHERE height in (168, 156, 165)) AS subq),\n",
    "    weight_table AS (SELECT id, weight AS weight FROM (SELECT id, weight FROM heart_data WHERE weight > 50 AND weight < 100) AS subq)\n",
    "SELECT weight / (height_in_meter * height_in_meter) AS bmi FROM height_table LEFT JOIN weight_table ON height_table.id = weight_table.id\n",
    "\"\"\"\n",
    "relation = ds.sql(query)\n",
    "\n",
    "df0 = pd.DataFrame(db.eval(relation))\n",
    "print(f\"The min and max values for bmi: [{df0['bmi'].min()}, {df0['bmi'].max()}]\")\n",
    "print(f\"The propagated datatype is: {relation.schema()}\")    \n",
    "\n",
    "display_dot(relation.dot())"
   ]
  },
  {
   "cell_type": "code",
   "execution_count": null,
   "metadata": {},
   "outputs": [],
   "source": [
    "#Lorentz formula\n",
    "#if gender='M', height(cm) - 100 - ((height(cm) - 150) * 0.25 ) = (h - 100 -(h/4 - 150 / 4)) = 0.75 * h - 62.5\n",
    "#if gender='F', height(cm) - 100 - ((height(cm) - 150) / 2,5).= 0.6 * h -40.0\n",
    "\n",
    "query = \"\"\"\n",
    "WITH \n",
    "    height_table AS (SELECT id, height FROM heart_data WHERE height > 160 AND height < 195),\n",
    "    lorentz_table AS (SELECT id, 0.75 * height - 62.5 AS male_lorentz, (0.6 * height -40.0) AS female_lorentz FROM height_table),\n",
    "    gender_table AS (SELECT id, CASE WHEN id = 0 THEN 'M' ELSE 'F' END AS gender FROM (SELECT id, gender AS gender FROM heart_data WHERE gender in (0, 1)) AS subq)\n",
    "SELECT CASE WHEN gender = 'M' THEN male_lorentz ELSE female_lorentz END AS lorentz FROM lorentz_table LEFT JOIN gender_table ON gender_table.id = lorentz_table.id\n",
    "\"\"\"\n",
    "relation = ds.sql(query)\n",
    "\n",
    "df0 = pd.DataFrame(db.eval(relation))\n",
    "print(f\"The min and max values for lorentz: [{df0['lorentz'].min()}, {df0['lorentz'].max()}]\")\n",
    "print(f\"The propagated datatype is: {relation.schema()}\")  \n",
    "\n",
    "display_dot(relation.dot())"
   ]
  },
  {
   "cell_type": "code",
   "execution_count": null,
   "metadata": {},
   "outputs": [],
   "source": [
    "#Lorentz formula\n",
    "#if gender='M', height(cm) - 100 - ((height(cm) - 150) / 4)\n",
    "#if gender='F', height(cm) - 100 - ((height(cm) - 150) / 2,5).\n",
    "\n",
    "query = \"\"\"\n",
    "WITH \n",
    "    height_table AS (SELECT id, height FROM heart_data WHERE height > 160 AND height < 195),\n",
    "    lorentz_table AS (SELECT id, (height - 100 - (height - 150) / 4) AS male_lorentz, (height - 100 - (height - 150)/2.5) AS female_lorentz FROM height_table),\n",
    "    gender_table AS (SELECT id, CASE WHEN id = 0 THEN 'M' ELSE 'F' END AS gender FROM (SELECT id, gender AS gender FROM heart_data WHERE gender in (0, 1)) AS subq)\n",
    "SELECT CASE WHEN gender = 'M' THEN male_lorentz ELSE female_lorentz END AS lorentz FROM lorentz_table LEFT JOIN gender_table ON gender_table.id = lorentz_table.id\n",
    "\"\"\"\n",
    "relation = ds.sql(query)\n",
    "\n",
    "df0 = pd.DataFrame(db.eval(relation))\n",
    "print(f\"The min and max values for lorentz: [{df0['lorentz'].min()}, {df0['lorentz'].max()}]\")\n",
    "print(f\"The propagated datatype is: {relation.schema()}\")  \n",
    "\n",
    "display_dot(relation.dot())"
   ]
  },
  {
   "cell_type": "code",
   "execution_count": null,
   "metadata": {},
   "outputs": [],
   "source": [
    "# creff [height(cm) - 100 + age(year) / 10] * 0,9\n",
    "\n",
    "query = \"\"\"\n",
    "WITH \n",
    "    height_table AS (SELECT id, height FROM heart_data WHERE height > 160 AND height < 195),\n",
    "    age_table AS (SELECT id, age_in_year FROM (SELECT id, (age / 365) AS age_in_year FROM heart_data) AS subq WHERE age_in_year > 30 AND age_in_year < 50)\n",
    "SELECT (height - 100 + age_in_year / 10) * 0.9 AS creff FROM height_table LEFT JOIN age_table ON age_table.id = height_table.id\n",
    "\"\"\"\n",
    "relation = ds.sql(query)\n",
    "\n",
    "df0 = pd.DataFrame(db.eval(relation))\n",
    "print(f\"The min and max values for creff: [{df0['creff'].min()}, {df0['creff'].max()}]\")\n",
    "print(f\"The propagated datatype is: {relation.schema()}\")\n",
    "\n",
    "display_dot(relation.dot())"
   ]
  }
 ],
 "metadata": {
  "kernelspec": {
   "display_name": "myenv",
   "language": "python",
   "name": "python3"
  },
  "language_info": {
   "codemirror_mode": {
    "name": "ipython",
    "version": 3
   },
   "file_extension": ".py",
   "mimetype": "text/x-python",
   "name": "python",
   "nbconvert_exporter": "python",
   "pygments_lexer": "ipython3",
   "version": "3.9.0"
  },
  "orig_nbformat": 4
 },
 "nbformat": 4,
 "nbformat_minor": 2
}
