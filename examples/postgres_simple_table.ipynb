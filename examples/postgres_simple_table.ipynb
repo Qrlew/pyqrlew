{
 "cells": [
  {
   "cell_type": "code",
   "execution_count": 1,
   "metadata": {},
   "outputs": [
    {
     "name": "stdout",
     "output_type": "stream",
     "text": [
      "Requirement already satisfied: graphviz in /Users/victoriadesainteagathe/Documents/codes/DP-SQL/pyqrlew/myenv/lib/python3.9/site-packages (0.20.1)\n",
      "\u001b[33mWARNING: You are using pip version 20.2.3; however, version 23.3.2 is available.\n",
      "You should consider upgrading via the '/Users/victoriadesainteagathe/Documents/codes/DP-SQL/pyqrlew/myenv/bin/python3 -m pip install --upgrade pip' command.\u001b[0m\n",
      "Requirement already satisfied: pyqrlew in /Users/victoriadesainteagathe/Documents/codes/DP-SQL/pyqrlew/myenv/lib/python3.9/site-packages (0.6.0)\n",
      "Requirement already satisfied: SQLAlchemy<2.0 in /Users/victoriadesainteagathe/Documents/codes/DP-SQL/pyqrlew/myenv/lib/python3.9/site-packages (from pyqrlew) (1.4.49)\n",
      "Requirement already satisfied: qrlew-datasets~=0.5 in /Users/victoriadesainteagathe/Documents/codes/DP-SQL/pyqrlew/myenv/lib/python3.9/site-packages (from pyqrlew) (0.5.0)\n",
      "Requirement already satisfied: pandas~=1.0 in /Users/victoriadesainteagathe/Documents/codes/DP-SQL/pyqrlew/myenv/lib/python3.9/site-packages (from pyqrlew) (1.5.3)\n",
      "Requirement already satisfied: pymysql~=1.0 in /Users/victoriadesainteagathe/Documents/codes/DP-SQL/pyqrlew/myenv/lib/python3.9/site-packages (from pyqrlew) (1.1.0)\n",
      "Requirement already satisfied: importlib_resources<6.0 in /Users/victoriadesainteagathe/Documents/codes/DP-SQL/pyqrlew/myenv/lib/python3.9/site-packages (from pyqrlew) (5.12.0)\n",
      "Requirement already satisfied: psycopg2<3.0 in /Users/victoriadesainteagathe/Documents/codes/DP-SQL/pyqrlew/myenv/lib/python3.9/site-packages (from pyqrlew) (2.9.7)\n",
      "Requirement already satisfied: greenlet!=0.4.17 in /Users/victoriadesainteagathe/Documents/codes/DP-SQL/pyqrlew/myenv/lib/python3.9/site-packages (from SQLAlchemy<2.0->pyqrlew) (2.0.2)\n",
      "Requirement already satisfied: termcolor<3.0.0,>=2.3.0 in /Users/victoriadesainteagathe/Documents/codes/DP-SQL/pyqrlew/myenv/lib/python3.9/site-packages (from qrlew-datasets~=0.5->pyqrlew) (2.3.0)\n",
      "Requirement already satisfied: python-dateutil>=2.8.1 in /Users/victoriadesainteagathe/Documents/codes/DP-SQL/pyqrlew/myenv/lib/python3.9/site-packages (from pandas~=1.0->pyqrlew) (2.8.2)\n",
      "Requirement already satisfied: pytz>=2020.1 in /Users/victoriadesainteagathe/Documents/codes/DP-SQL/pyqrlew/myenv/lib/python3.9/site-packages (from pandas~=1.0->pyqrlew) (2023.3)\n",
      "Requirement already satisfied: numpy>=1.20.3; python_version < \"3.10\" in /Users/victoriadesainteagathe/Documents/codes/DP-SQL/pyqrlew/myenv/lib/python3.9/site-packages (from pandas~=1.0->pyqrlew) (1.24.3)\n",
      "Requirement already satisfied: zipp>=3.1.0; python_version < \"3.10\" in /Users/victoriadesainteagathe/Documents/codes/DP-SQL/pyqrlew/myenv/lib/python3.9/site-packages (from importlib_resources<6.0->pyqrlew) (3.15.0)\n",
      "Requirement already satisfied: six>=1.5 in /Users/victoriadesainteagathe/Documents/codes/DP-SQL/pyqrlew/myenv/lib/python3.9/site-packages (from python-dateutil>=2.8.1->pandas~=1.0->pyqrlew) (1.16.0)\n",
      "\u001b[33mWARNING: You are using pip version 20.2.3; however, version 23.3.2 is available.\n",
      "You should consider upgrading via the '/Users/victoriadesainteagathe/Documents/codes/DP-SQL/pyqrlew/myenv/bin/python3 -m pip install --upgrade pip' command.\u001b[0m\n"
     ]
    }
   ],
   "source": [
    "!pip install graphviz\n",
    "!pip install pyqrlew"
   ]
  },
  {
   "cell_type": "markdown",
   "metadata": {},
   "source": [
    "# Install postgres database\n",
    "\n",
    "You may skip this section if you have already a postgres database with a connection"
   ]
  },
  {
   "cell_type": "code",
   "execution_count": null,
   "metadata": {},
   "outputs": [],
   "source": [
    "!sudo apt-get -y -qq update\n",
    "!sudo apt-get -y -qq install postgresql\n",
    "!service postgresql start"
   ]
  },
  {
   "cell_type": "markdown",
   "metadata": {},
   "source": [
    "Create a user `alice` with a password "
   ]
  },
  {
   "cell_type": "code",
   "execution_count": null,
   "metadata": {},
   "outputs": [],
   "source": [
    "!sudo -u postgres psql -c \"CREATE USER alice WITH SUPERUSER CREATEDB ENCRYPTED PASSWORD 'my_secret_password';\""
   ]
  },
  {
   "cell_type": "markdown",
   "metadata": {},
   "source": [
    "Create a databse `mydatabase`"
   ]
  },
  {
   "cell_type": "code",
   "execution_count": null,
   "metadata": {},
   "outputs": [],
   "source": [
    "!sudo -u postgres createdb mydatabase"
   ]
  },
  {
   "cell_type": "markdown",
   "metadata": {},
   "source": [
    "Create the `census_table` table and push some data on the database. "
   ]
  },
  {
   "cell_type": "code",
   "execution_count": null,
   "metadata": {},
   "outputs": [],
   "source": [
    "import psycopg2\n",
    "\n",
    "conn = psycopg2.connect(dbname='mydatabase', user='alice', password='my_secret_password', host='localhost')\n",
    "\n",
    "# Create a cursor\n",
    "cursor = conn.cursor()\n",
    "\n",
    "sql_script = \"\"\"\n",
    "CREATE SCHEMA census_schema;\n",
    "\n",
    "CREATE TABLE census_schema.census_table (\n",
    "    id SERIAL PRIMARY KEY,\n",
    "    first_name VARCHAR(50),\n",
    "    last_name VARCHAR(50),\n",
    "    age INT,\n",
    "    gender VARCHAR(10),\n",
    "    occupation VARCHAR(50),\n",
    "    city VARCHAR(50),\n",
    "    state VARCHAR(50)\n",
    ");\n",
    "\n",
    "-- Inserting sample data\n",
    "INSERT INTO census_schema.census_table (first_name, last_name, age, gender, occupation, city, state)\n",
    "VALUES\n",
    "    ('John', 'Doe', 30, 'Male', 'Engineer', 'New York', 'NY'),\n",
    "    ('Jane', 'Doe', 28, 'Female', 'Doctor', 'Los Angeles', 'CA'),\n",
    "    ('Bob', 'Smith', 45, 'Male', 'Teacher', 'Chicago', 'IL'),\n",
    "    ('Alice', 'Johnson', 35, 'Female', 'Artist', 'San Francisco', 'CA'),\n",
    "    ('Tom', 'Brown', 50, 'Male', 'Lawyer', 'Miami', 'FL'),\n",
    "    ('Emily', 'Davis', 32, 'Female', 'Software Developer', 'Seattle', 'WA'),\n",
    "    ('Charlie', 'Miller', 40, 'Male', 'Accountant', 'Boston', 'MA'),\n",
    "    ('Eva', 'Williams', 29, 'Female', 'Marketing Manager', 'Austin', 'TX'),\n",
    "    ('Mike', 'Jones', 38, 'Male', 'Chef', 'Denver', 'CO'),\n",
    "    ('Sophia', 'Taylor', 42, 'Female', 'Business Analyst', 'Atlanta', 'GA');\n",
    "\"\"\"\n",
    "cursor.execute(sql_script)\n",
    "\n",
    "# Commit the changes\n",
    "conn.commit()\n",
    "\n",
    "# Close the cursor and connection\n",
    "cursor.close()\n",
    "conn.close()"
   ]
  },
  {
   "cell_type": "markdown",
   "metadata": {},
   "source": [
    "# Use qrlew on the database"
   ]
  },
  {
   "cell_type": "code",
   "execution_count": null,
   "metadata": {},
   "outputs": [],
   "source": [
    "from qrlew_datasets.databases import PostgreSQL\n",
    "\n",
    "database = PostgreSQL(\n",
    "    name = \"localhost\",\n",
    "    user = \"alice\",\n",
    "    password = \"my_secret_password\",\n",
    "    port = \"5432\"\n",
    ")\n",
    "ds = database.dataset(\n",
    "    name = 'census',\n",
    "    schema_name = 'census_schema',\n",
    "    ranges=True,\n",
    "    possible_values_threshold=20,\n",
    ")\n",
    "ds.relations()"
   ]
  },
  {
   "cell_type": "code",
   "execution_count": null,
   "metadata": {},
   "outputs": [],
   "source": [
    "import graphviz\n",
    "display(graphviz.Source(ds.relations()[1][1].dot()))"
   ]
  },
  {
   "cell_type": "code",
   "execution_count": null,
   "metadata": {},
   "outputs": [],
   "source": [
    "privacy_unit = [\n",
    "    (\"census\", [], \"_PRIVACY_UNIT_ROW_\"),\n",
    "]\n",
    "synthetic_data = [\n",
    "    ([\"extract\", \"census\"], [\"extract\", \"census\"]),\n",
    "]"
   ]
  },
  {
   "cell_type": "code",
   "execution_count": null,
   "metadata": {},
   "outputs": [],
   "source": [
    "import pandas as pd\n",
    "query = \"SELECT sex, COUNT(*) AS my_count FROM extract.census GROUP BY sex ORDER BY sex\"\n",
    "relation = ds.sql(query)\n",
    "dp_relation = relation.rewrite_with_differential_privacy(\n",
    "    ds,\n",
    "    synthetic_data,\n",
    "    privacy_unit,\n",
    "    {\"epsilon\": 1.0, \"delta\": 5e-4}\n",
    ").relation()\n",
    "dp_results = pd.DataFrame(database.eval(dp_relation))\n",
    "dp_results"
   ]
  },
  {
   "cell_type": "code",
   "execution_count": null,
   "metadata": {},
   "outputs": [],
   "source": [
    "exact_results = pd.DataFrame(database.eval(relation))\n",
    "exact_results"
   ]
  },
  {
   "cell_type": "code",
   "execution_count": null,
   "metadata": {},
   "outputs": [],
   "source": [
    "dp_relation.render()"
   ]
  },
  {
   "cell_type": "code",
   "execution_count": null,
   "metadata": {},
   "outputs": [],
   "source": [
    "display(graphviz.Source(dp_relation.dot()))"
   ]
  }
 ],
 "metadata": {
  "kernelspec": {
   "display_name": "myenv",
   "language": "python",
   "name": "python3"
  },
  "language_info": {
   "codemirror_mode": {
    "name": "ipython",
    "version": 3
   },
   "file_extension": ".py",
   "mimetype": "text/x-python",
   "name": "python",
   "nbconvert_exporter": "python",
   "pygments_lexer": "ipython3",
   "version": "3.9.0"
  }
 },
 "nbformat": 4,
 "nbformat_minor": 2
}
