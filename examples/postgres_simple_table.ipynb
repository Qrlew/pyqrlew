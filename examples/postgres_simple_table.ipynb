{
 "cells": [
  {
   "cell_type": "markdown",
   "metadata": {},
   "source": [
    "# Simple table test\n",
    "[![View On GitHub](https://img.shields.io/badge/View_in_Github-grey?logo=github)](https://github.com/Qrlew/docs/blob/main/tutorials/postgres_simple_table.ipynb)\n",
    "[![Open In Colab](https://colab.research.google.com/assets/colab-badge.svg)](https://colab.research.google.com/github/Qrlew/pyqrlew/blob/main/examples/postgres_simple_table.ipynb)\n",
    "\n",
    "In this notebook, we demonstrate the application of `qrlew` to an existing database, showcasing its capability to compile SQL queries into differential privacy. \n",
    "\n",
    "For the purpose of this demonstration, we focus on a single table, while more intricate use cases are explored in other notebooks."
   ]
  },
  {
   "cell_type": "markdown",
   "metadata": {},
   "source": [
    "## Install the database"
   ]
  },
  {
   "cell_type": "markdown",
   "metadata": {},
   "source": [
    "Initially, we establish a PostgreSQL database. \n",
    "\n",
    "This section maybe skipped if you have already access to a Postgres database. "
   ]
  },
  {
   "cell_type": "code",
   "execution_count": null,
   "metadata": {},
   "outputs": [],
   "source": [
    "%%capture\n",
    "# Load the database\n",
    "# Inspired by https://colab.research.google.com/github/tensorflow/io/blob/master/docs/tutorials/postgresql.ipynb#scrollTo=YUj0878jPyz7\n",
    "!sudo apt-get -y -qq update\n",
    "!sudo apt-get -y -qq install postgresql-14 graphviz\n",
    "# Start postgresql server\n",
    "!sudo service postgresql start\n",
    "# Set password\n",
    "!sudo -u postgres psql -U postgres -c \"ALTER USER postgres PASSWORD 'password'\"\n",
    "!sudo -u postgres psql -U postgres -c \"CREATE DATABASE my_database\""
   ]
  },
  {
   "cell_type": "markdown",
   "metadata": {},
   "source": [
    "We create the `census_table` table with its synthetic version `synthetic census_table`. \n",
    "\n",
    "Note that the synthetic tables are not mandatory and can be used when `qrlew`` cannot compile into DP the query."
   ]
  },
  {
   "cell_type": "code",
   "execution_count": null,
   "metadata": {},
   "outputs": [],
   "source": [
    "import psycopg2\n",
    "\n",
    "connect_pars= {\n",
    "    'dbname':'my_database',\n",
    "    'user':'postgres',\n",
    "    'port':5432,\n",
    "    'password':'password',\n",
    "    'host':'localhost',\n",
    "}\n",
    "conn = psycopg2.connect(**connect_pars)\n",
    "\n",
    "# Create a cursor\n",
    "cursor = conn.cursor()\n",
    "\n",
    "sql_script = \"\"\"\n",
    "CREATE SCHEMA census_schema;\n",
    "\n",
    "CREATE TABLE census_schema.census_table (\n",
    "    id SERIAL PRIMARY KEY,\n",
    "    first_name VARCHAR(50),\n",
    "    last_name VARCHAR(50),\n",
    "    age INT,\n",
    "    gender VARCHAR(10),\n",
    "    occupation VARCHAR(50),\n",
    "    city VARCHAR(50),\n",
    "    state VARCHAR(50)\n",
    ");\n",
    "\n",
    "-- Inserting sample data\n",
    "INSERT INTO census_schema.census_table (first_name, last_name, age, gender, occupation, city, state)\n",
    "VALUES\n",
    "    ('John', 'Doe', 30, 'Male', 'Engineer', 'New York', 'NY'),\n",
    "    ('Jane', 'Doe', 28, 'Female', 'Engineer', 'Los Angeles', 'CA'),\n",
    "    ('Bob', 'Smith', 45, 'Male', 'Analyst', 'Chicago', 'IL'),\n",
    "    ('Alice', 'Johnson', 35, 'Female', 'Data Scientist', 'San Francisco', 'CA'),\n",
    "    ('Tom', 'Brown', 50, 'Male', 'Lawyer', 'Miami', 'FL'),\n",
    "    ('Emily', 'Davis', 32, 'Female', 'Software Developer', 'Seattle', 'WA'),\n",
    "    ('Charlie', 'Miller', 40, 'Male', 'Accountant', 'Boston', 'MA'),\n",
    "    ('Eva', 'Williams', 29, 'Female', 'Marketing Manager', 'Austin', 'TX'),\n",
    "    ('Mike', 'Jones', 38, 'Male', 'Analyst', 'Denver', 'CO'),\n",
    "    ('Sophia', 'Taylor', 42, 'Female', 'Analyst', 'Atlanta', 'GA'),\n",
    "    ('John', 'Doe', 30, 'Male', 'Engineer', 'New York', 'NY'),\n",
    "    ('Jane', 'Doe', 28, 'Female', 'Engineer', 'Los Angeles', 'CA'),\n",
    "    ('Bob', 'Smith', 45, 'Male', 'Analyst', 'Chicago', 'IL'),\n",
    "    ('Alice', 'Johnson', 35, 'Female', 'Data Scientist', 'San Francisco', 'CA'),\n",
    "    ('Tom', 'Brown', 50, 'Male', 'Lawyer', 'Miami', 'FL'),\n",
    "    ('Emily', 'Davis', 32, 'Female', 'Software Developer', 'Seattle', 'WA'),\n",
    "    ('Charlie', 'Miller', 40, 'Male', 'Accountant', 'Boston', 'MA'),\n",
    "    ('Eva', 'Williams', 29, 'Female', 'Marketing Manager', 'Austin', 'TX'),\n",
    "    ('Mike', 'Jones', 38, 'Male', 'Analyst', 'Denver', 'CO'),\n",
    "    ('Sophia', 'Taylor', 42, 'Female', 'Analyst', 'Atlanta', 'GA'),\n",
    "    ('Alex', 'Johnson', 33, 'Male', 'Analyst', 'Portland', 'OR'),\n",
    "    ('Megan', 'White', 27, 'Female', 'Data Scientist', 'San Diego', 'CA'),\n",
    "    ('Daniel', 'Clark', 36, 'Male', 'Analyst', 'Houston', 'TX'),\n",
    "    ('Olivia', 'Martinez', 31, 'Female', 'Data Scientist', 'Phoenix', 'AZ'),\n",
    "    ('William', 'Lee', 48, 'Male', 'Professor', 'Philadelphia', 'PA'),\n",
    "    ('Emma', 'Garcia', 29, 'Female', 'Data Scientist', 'Minneapolis', 'MN'),\n",
    "    ('Ryan', 'Harris', 41, 'Male', 'Data Scientist', 'Dallas', 'TX'),\n",
    "    ('Ava', 'Taylor', 26, 'Female', 'Product Manager', 'San Jose', 'CA'),\n",
    "    ('Christopher', 'Anderson', 37, 'Male', 'Engineer', 'Detroit', 'MI'),\n",
    "    ('Sophie', 'Wilson', 34, 'Female', 'HR Specialist', 'Raleigh', 'NC'),\n",
    "    ('David', 'Miller', 29, 'Male', 'Engineer', 'New York', 'NY'),\n",
    "    ('Sophia', 'Taylor', 34, 'Female', 'Engineer', 'Los Angeles', 'CA'),\n",
    "    ('Bob', 'Smith', 42, 'Male', 'Analyst', 'Chicago', 'IL'),\n",
    "    ('Alice', 'Johnson', 39, 'Female', 'Data Scientist', 'San Francisco', 'CA'),\n",
    "    ('Tom', 'Brown', 37, 'Male', 'Lawyer', 'Miami', 'FL'),\n",
    "    ('Emily', 'Davis', 28, 'Female', 'Software Developer', 'Seattle', 'WA'),\n",
    "    ('Charlie', 'Miller', 45, 'Male', 'Accountant', 'Boston', 'MA'),\n",
    "    ('Eva', 'Williams', 31, 'Female', 'Marketing Manager', 'Austin', 'TX'),\n",
    "    ('Mike', 'Jones', 36, 'Male', 'Analyst', 'Denver', 'CO'),\n",
    "    ('Sophia', 'Taylor', 49, 'Female', 'Analyst', 'Atlanta', 'GA'),\n",
    "    ('Alex', 'Johnson', 37, 'Male', 'Analyst', 'Portland', 'OR'),\n",
    "    ('Megan', 'White', 27, 'Female', 'Data Scientist', 'San Diego', 'CA'),\n",
    "    ('Daniel', 'Clark', 41, 'Male', 'Analyst', 'Houston', 'TX'),\n",
    "    ('Olivia', 'Martinez', 32, 'Female', 'Data Scientist', 'Phoenix', 'AZ'),\n",
    "    ('William', 'Lee', 47, 'Male', 'Professor', 'Philadelphia', 'PA'),\n",
    "    ('Emma', 'Garcia', 30, 'Female', 'Data Scientist', 'Minneapolis', 'MN'),\n",
    "    ('Ryan', 'Harris', 40, 'Male', 'Entrepreneur', 'Dallas', 'TX'),\n",
    "    ('Ava', 'Taylor', 26, 'Female', 'Product Manager', 'San Jose', 'CA'),\n",
    "    ('Christopher', 'Anderson', 35, 'Male', 'Engineer', 'Detroit', 'MI'),\n",
    "    ('Sophie', 'Wilson', 33, 'Female', 'HR Specialist', 'Raleigh', 'NC'),\n",
    "    ('Grace', 'Brown', 55, 'Female', 'Analyst', 'New York', 'NY'),\n",
    "    ('Brian', 'Taylor', 50, 'Male', 'Professor', 'Los Angeles', 'CA'),\n",
    "    ('Lily', 'Harrison', 42, 'Female', 'Engineer', 'Chicago', 'IL'),\n",
    "    ('Kevin', 'Garcia', 55, 'Male', 'Analyst', 'San Francisco', 'CA'),\n",
    "    ('Sophie', 'Smithson', 48, 'Female', 'Lawyer', 'Miami', 'FL'),\n",
    "    ('John', 'Clarkston', 38, 'Male', 'Software Developer', 'Seattle', 'WA'),\n",
    "    ('Emma', 'Millerson', 40, 'Female', 'Accountant', 'Boston', 'MA'),\n",
    "    ('David', 'Williamson', 45, 'Male', 'Marketing Manager', 'Austin', 'TX'),\n",
    "    ('Ava', 'Johnsonson', 38, 'Female', 'Analyst', 'Denver', 'CO'),\n",
    "    ('Daniel', 'Anderson', 42, 'Male', 'Data Scientist', 'Atlanta', 'GA'),\n",
    "    ('Michael', 'Martinson', 33, 'Male', 'Engineer', 'Portland', 'OR'),\n",
    "    ('Sophia', 'Whiterson', 27, 'Female', 'Data Scientist', 'San Diego', 'CA'),\n",
    "    ('Robert', 'Davidson', 41, 'Male', 'Analyst', 'Houston', 'TX'),\n",
    "    ('Grace', 'Wilson', 45, 'Female', 'Data Scientist', 'Phoenix', 'AZ'),\n",
    "    ('Andrew', 'Leeson', 48, 'Male', 'Professor', 'Philadelphia', 'PA'),\n",
    "    ('Emily', 'Garcia', 39, 'Female', 'Data Scientist', 'Minneapolis', 'MN'),\n",
    "    ('Christopher', 'Sanders', 41, 'Male', 'Entrepreneur', 'Dallas', 'TX'),\n",
    "    ('Olivia', 'Martinez', 36, 'Female', 'Product Manager', 'San Jose', 'CA'),\n",
    "    ('Sophie', 'Brownson', 43, 'Female', 'Engineer', 'Detroit', 'MI'),\n",
    "    ('Matthew', 'Taylors', 46, 'Male', 'HR Specialist', 'Raleigh', 'NC');\n",
    "\n",
    "CREATE TABLE census_schema.synthetic_census_table (\n",
    "    id SERIAL PRIMARY KEY,\n",
    "    first_name VARCHAR(50),\n",
    "    last_name VARCHAR(50),\n",
    "    age INT,\n",
    "    gender VARCHAR(10),\n",
    "    occupation VARCHAR(50),\n",
    "    city VARCHAR(50),\n",
    "    state VARCHAR(50)\n",
    ");\n",
    "\n",
    "-- Inserting sample data\n",
    "INSERT INTO census_schema.synthetic_census_table (first_name, last_name, age, gender, occupation, city, state)\n",
    "VALUES\n",
    "    ('Adam', 'Johnson', 31, 'Male', 'Engineer', 'New York', 'NY'),\n",
    "    ('Sophie', 'Clark', 29, 'Female', 'Analyst', 'Los Angeles', 'CA'),\n",
    "    ('David', 'Smith', 46, 'Male', 'Data Scientist', 'Chicago', 'IL'),\n",
    "    ('Emma', 'Brown', 36, 'Female', 'Software Developer', 'San Francisco', 'CA'),\n",
    "    ('James', 'Taylor', 51, 'Male', 'Lawyer', 'Miami', 'FL'),\n",
    "    ('Olivia', 'Miller', 33, 'Female', 'Accountant', 'Seattle', 'WA'),\n",
    "    ('Lucas', 'Williams', 41, 'Male', 'Marketing Manager', 'Boston', 'MA'),\n",
    "    ('Ava', 'Davis', 30, 'Female', 'Analyst', 'Austin', 'TX'),\n",
    "    ('Adam', 'Jones', 39, 'Male', 'Engineer', 'Denver', 'CO'),\n",
    "    ('Sophie', 'Johnson', 43, 'Female', 'Analyst', 'Atlanta', 'GA'),\n",
    "    ('Alex', 'Smith', 34, 'Male', 'Software Developer', 'Portland', 'OR'),\n",
    "    ('Mia', 'White', 28, 'Female', 'Data Scientist', 'San Diego', 'CA'),\n",
    "    ('Daniel', 'Clarkson', 37, 'Male', 'Lawyer', 'Houston', 'TX'),\n",
    "    ('Oliver', 'Martinez', 32, 'Male', 'Data Scientist', 'Phoenix', 'AZ'),\n",
    "    ('Sophia', 'Lee', 49, 'Female', 'Professor', 'Philadelphia', 'PA'),\n",
    "    ('Lily', 'Garcia', 30, 'Female', 'Data Scientist', 'Minneapolis', 'MN'),\n",
    "    ('Matthew', 'Harris', 42, 'Male', 'Entrepreneur', 'Dallas', 'TX'),\n",
    "    ('Emily', 'Taylor', 27, 'Female', 'Product Manager', 'San Jose', 'CA'),\n",
    "    ('William', 'Anderson', 36, 'Male', 'Engineer', 'Detroit', 'MI'),\n",
    "    ('Sophia', 'Wilson', 34, 'Female', 'HR Specialist', 'Raleigh', 'NC'),\n",
    "    ('Ethan', 'Miller', 29, 'Male', 'Engineer', 'New York', 'NY'),\n",
    "    ('Mia', 'Clark', 35, 'Female', 'Software Developer', 'Los Angeles', 'CA'),\n",
    "    ('Jack', 'Smithson', 43, 'Male', 'Analyst', 'Chicago', 'IL'),\n",
    "    ('Ava', 'Johnsonson', 38, 'Female', 'Data Scientist', 'San Francisco', 'CA'),\n",
    "    ('Henry', 'Brown', 36, 'Male', 'Lawyer', 'Miami', 'FL'),\n",
    "    ('Sophie', 'Davis', 27, 'Female', 'Accountant', 'Seattle', 'WA'),\n",
    "    ('Noah', 'Williamson', 45, 'Male', 'Marketing Manager', 'Boston', 'MA'),\n",
    "    ('Mia', 'Williams', 29, 'Female', 'Analyst', 'Austin', 'TX'),\n",
    "    ('Ethan', 'Jones', 38, 'Male', 'Engineer', 'Denver', 'CO'),\n",
    "    ('Ava', 'Taylor', 42, 'Female', 'Analyst', 'Atlanta', 'GA'),\n",
    "    ('Alex', 'Johnson', 33, 'Male', 'Software Developer', 'Portland', 'OR'),\n",
    "    ('Mia', 'White', 27, 'Female', 'Data Scientist', 'San Diego', 'CA'),\n",
    "    ('Daniel', 'Clark', 41, 'Male', 'Lawyer', 'Houston', 'TX'),\n",
    "    ('Olivia', 'Martinez', 32, 'Female', 'Data Scientist', 'Phoenix', 'AZ'),\n",
    "    ('William', 'Lee', 47, 'Male', 'Professor', 'Philadelphia', 'PA'),\n",
    "    ('Emma', 'Garcia', 30, 'Female', 'Data Scientist', 'Minneapolis', 'MN'),\n",
    "    ('Ryan', 'Harris', 40, 'Male', 'Entrepreneur', 'Dallas', 'TX'),\n",
    "    ('Ava', 'Taylor', 26, 'Female', 'Product Manager', 'San Jose', 'CA'),\n",
    "    ('Christopher', 'Anderson', 35, 'Male', 'Engineer', 'Detroit', 'MI'),\n",
    "    ('Sophie', 'Wilson', 33, 'Female', 'HR Specialist', 'Raleigh', 'NC'),\n",
    "    ('Grace', 'Brown', 55, 'Female', 'Analyst', 'New York', 'NY'),\n",
    "    ('Brian', 'Taylor', 50, 'Male', 'Professor', 'Los Angeles', 'CA'),\n",
    "    ('Lily', 'Harrison', 42, 'Female', 'Engineer', 'Chicago', 'IL'),\n",
    "    ('Kevin', 'Garcia', 55, 'Male', 'Analyst', 'San Francisco', 'CA'),\n",
    "    ('Sophie', 'Smithson', 48, 'Female', 'Lawyer', 'Miami', 'FL'),\n",
    "    ('John', 'Clarkston', 38, 'Male', 'Software Developer', 'Seattle', 'WA'),\n",
    "    ('Emma', 'Millerson', 40, 'Female', 'Accountant', 'Boston', 'MA'),\n",
    "    ('David', 'Williamson', 45, 'Male', 'Marketing Manager', 'Austin', 'TX'),\n",
    "    ('Ava', 'Johnsonson', 38, 'Female', 'Analyst', 'Denver', 'CO'),\n",
    "    ('Daniel', 'Anderson', 42, 'Male', 'Data Scientist', 'Atlanta', 'GA'),\n",
    "    ('Michael', 'Martinson', 33, 'Male', 'Engineer', 'Portland', 'OR'),\n",
    "    ('Sophia', 'Whiterson', 27, 'Female', 'Data Scientist', 'San Diego', 'CA'),\n",
    "    ('Robert', 'Davidson', 41, 'Male', 'Analyst', 'Houston', 'TX'),\n",
    "    ('Grace', 'Wilson', 45, 'Female', 'Data Scientist', 'Phoenix', 'AZ'),\n",
    "    ('Andrew', 'Leeson', 48, 'Male', 'Professor', 'Philadelphia', 'PA'),\n",
    "    ('Emily', 'Garcia', 39, 'Female', 'Data Scientist', 'Minneapolis', 'MN'),\n",
    "    ('Christopher', 'Sanders', 41, 'Male', 'Entrepreneur', 'Dallas', 'TX'),\n",
    "    ('Olivia', 'Martinez', 36, 'Female', 'Product Manager', 'San Jose', 'CA'),\n",
    "    ('Sophie', 'Brownson', 43, 'Female', 'Engineer', 'Detroit', 'MI'),\n",
    "    ('Matthew', 'Taylors', 46, 'Male', 'HR Specialist', 'Raleigh', 'NC')\n",
    "\"\"\"\n",
    "cursor.execute(sql_script)\n",
    "\n",
    "# Commit the changes\n",
    "conn.commit()\n",
    "\n",
    "# Close the cursor and connection\n",
    "cursor.close()\n",
    "conn.close()"
   ]
  },
  {
   "cell_type": "markdown",
   "metadata": {},
   "source": [
    "# Use qrlew on the database"
   ]
  },
  {
   "cell_type": "markdown",
   "metadata": {},
   "source": [
    "At this stage, we have a postgres dataset that can be connected with `qrlew`."
   ]
  },
  {
   "cell_type": "code",
   "execution_count": null,
   "metadata": {},
   "outputs": [],
   "source": [
    "%%capture\n",
    "!pip install -U pyqrlew matplotlib graphviz"
   ]
  },
  {
   "cell_type": "markdown",
   "metadata": {},
   "source": [
    "The `dataset` function, located in `pyqrlew.io.dataset`, enables the creation of a Dataset object from a SQLAlchemy engine. \n",
    "It takes the following parameters:\n",
    "- `name`: the dataset's name, \n",
    "- `engine`: the SQLAlchemy engine establishing a connection to the database, \n",
    "- `schema_name`: the optional name of the schema,\n",
    "- `ranges`: if set to True, we use the the minimum and maximum values of numeric and datetime columns for setting their bounds. \n",
    "    **This may violates differential privacy** and should be use if these values are public. \n",
    "    Otherwise, use `False`. In that case, the bounds have to be provided in the SQL query,\n",
    "- `possible_values_threshold`: an optional integer that serves as a threshold for identifying a column as categorical. If a column surpasses this threshold, its categories are published. Similar to the ranges parameter, exercising this option may compromise differential privacy."
   ]
  },
  {
   "cell_type": "code",
   "execution_count": 17,
   "metadata": {},
   "outputs": [],
   "source": [
    "from pyqrlew.io.dataset import dataset\n",
    "from sqlalchemy import create_engine\n",
    "\n",
    "connect_pars= {\n",
    "    'dbname':'my_database',\n",
    "    'user':'postgres',\n",
    "    'port':5432,\n",
    "    'password':'password',\n",
    "    'host':'localhost',\n",
    "}\n",
    "engine = create_engine(f'postgresql+psycopg2://{connect_pars[\"user\"]}:{connect_pars[\"password\"]}@{connect_pars[\"host\"]}:{connect_pars[\"port\"]}/{connect_pars[\"dbname\"]}')\n",
    "ds = dataset(\n",
    "    name=\"census\",\n",
    "    engine=engine,\n",
    "    schema_name=\"census_schema\",\n",
    "    ranges=True,\n",
    "    possible_values_threshold=5\n",
    ")"
   ]
  },
  {
   "cell_type": "markdown",
   "metadata": {},
   "source": [
    "`qrlew` connects to the database via the SQLAlchemy engine and fetch the tables. "
   ]
  },
  {
   "cell_type": "code",
   "execution_count": 18,
   "metadata": {},
   "outputs": [
    {
     "data": {
      "text/plain": [
       "[(['census', 'census_schema', 'census_table'], <Relation at 0x11a853c90>),\n",
       " (['census', 'census_schema', 'synthetic_census_table'],\n",
       "  <Relation at 0x11a8535d0>)]"
      ]
     },
     "execution_count": 18,
     "metadata": {},
     "output_type": "execute_result"
    }
   ],
   "source": [
    "ds.relations()"
   ]
  },
  {
   "cell_type": "markdown",
   "metadata": {},
   "source": [
    "The table `\"census_schema\".\"census_table\"` is represented as a `Table` variant of a `Relation`. \n",
    "This specific representation encapsulates all columns, their respective types, and optionally includes information about bounds and possible values. \n",
    "\n",
    "In the provided example, we observe the bounds specification for the integer column `age` and the declaration of possible values for the string column `gender`."
   ]
  },
  {
   "cell_type": "code",
   "execution_count": 19,
   "metadata": {},
   "outputs": [
    {
     "data": {
      "image/svg+xml": [
       "<?xml version=\"1.0\" encoding=\"UTF-8\" standalone=\"no\"?>\n",
       "<!DOCTYPE svg PUBLIC \"-//W3C//DTD SVG 1.1//EN\"\n",
       " \"http://www.w3.org/Graphics/SVG/1.1/DTD/svg11.dtd\">\n",
       "<!-- Generated by graphviz version 8.1.0 (20230707.0739)\n",
       " -->\n",
       "<!-- Title: graph_px87 Pages: 1 -->\n",
       "<svg width=\"304pt\" height=\"136pt\"\n",
       " viewBox=\"0.00 0.00 303.80 135.80\" xmlns=\"http://www.w3.org/2000/svg\" xmlns:xlink=\"http://www.w3.org/1999/xlink\">\n",
       "<g id=\"graph0\" class=\"graph\" transform=\"scale(1 1) rotate(0) translate(4 131.8)\">\n",
       "<title>graph_px87</title>\n",
       "<polygon fill=\"none\" stroke=\"none\" points=\"-4,4 -4,-131.8 299.8,-131.8 299.8,4 -4,4\"/>\n",
       "<!-- graph_px87 -->\n",
       "<g id=\"node1\" class=\"node\">\n",
       "<title>graph_px87</title>\n",
       "<path fill=\"#ff1744\" stroke=\"#000000\" stroke-opacity=\"0.333333\" d=\"M283.8,-127.8C283.8,-127.8 12,-127.8 12,-127.8 6,-127.8 0,-121.8 0,-115.8 0,-115.8 0,-12 0,-12 0,-6 6,0 12,0 12,0 283.8,0 283.8,0 289.8,0 295.8,-6 295.8,-12 295.8,-12 295.8,-115.8 295.8,-115.8 295.8,-121.8 289.8,-127.8 283.8,-127.8\"/>\n",
       "<text text-anchor=\"start\" x=\"14.4\" y=\"-103.95\" font-family=\"Red Hat Display,sans-serif\" font-weight=\"bold\" font-size=\"11.00\" fill=\"#ffffff\" fill-opacity=\"0.733333\">CENSUS_SCHEMA_CENSUS_TABLE size ∈ int{70}</text>\n",
       "<text text-anchor=\"start\" x=\"108.15\" y=\"-92.95\" font-family=\"Red Hat Display,sans-serif\" font-size=\"11.00\" fill=\"#ffffff\" fill-opacity=\"0.733333\">id = id ∈ int[1 70]</text>\n",
       "<text text-anchor=\"start\" x=\"79.28\" y=\"-81.95\" font-family=\"Red Hat Display,sans-serif\" font-size=\"11.00\" fill=\"#ffffff\" fill-opacity=\"0.733333\">first_name = first_name ∈ str</text>\n",
       "<text text-anchor=\"start\" x=\"80.03\" y=\"-70.95\" font-family=\"Red Hat Display,sans-serif\" font-size=\"11.00\" fill=\"#ffffff\" fill-opacity=\"0.733333\">last_name = last_name ∈ str</text>\n",
       "<text text-anchor=\"start\" x=\"95.4\" y=\"-59.95\" font-family=\"Red Hat Display,sans-serif\" font-size=\"11.00\" fill=\"#ffffff\" fill-opacity=\"0.733333\">age = age ∈ int[26 55]</text>\n",
       "<text text-anchor=\"start\" x=\"59.4\" y=\"-48.95\" font-family=\"Red Hat Display,sans-serif\" font-size=\"11.00\" fill=\"#ffffff\" fill-opacity=\"0.733333\">gender = gender ∈ str{Female, Male}</text>\n",
       "<text text-anchor=\"start\" x=\"77.78\" y=\"-37.95\" font-family=\"Red Hat Display,sans-serif\" font-size=\"11.00\" fill=\"#ffffff\" fill-opacity=\"0.733333\">occupation = occupation ∈ str</text>\n",
       "<text text-anchor=\"start\" x=\"113.78\" y=\"-26.95\" font-family=\"Red Hat Display,sans-serif\" font-size=\"11.00\" fill=\"#ffffff\" fill-opacity=\"0.733333\">city = city ∈ str</text>\n",
       "<text text-anchor=\"start\" x=\"106.28\" y=\"-15.95\" font-family=\"Red Hat Display,sans-serif\" font-size=\"11.00\" fill=\"#ffffff\" fill-opacity=\"0.733333\">state = state ∈ str</text>\n",
       "</g>\n",
       "</g>\n",
       "</svg>\n"
      ],
      "text/plain": [
       "<graphviz.sources.Source at 0x11abc8310>"
      ]
     },
     "metadata": {},
     "output_type": "display_data"
    }
   ],
   "source": [
    "import graphviz\n",
    "display(graphviz.Source(ds.relations()[0][1].dot()))"
   ]
  },
  {
   "cell_type": "markdown",
   "metadata": {},
   "source": [
    "Any SQL query can be transformed into a `Relation`, a `qrlew` object that allow to more easily the compilation into differential privacy. "
   ]
  },
  {
   "cell_type": "code",
   "execution_count": 48,
   "metadata": {},
   "outputs": [
    {
     "name": "stderr",
     "output_type": "stream",
     "text": [
      "thread '<unnamed>' panicked at /Users/victoriadesainteagathe/.cargo/registry/src/index.crates.io-6f17d22bba15001f/qrlew-0.7.1/src/sql/expr.rs:1055:18:\n",
      "not yet implemented\n"
     ]
    },
    {
     "ename": "PanicException",
     "evalue": "not yet implemented",
     "output_type": "error",
     "traceback": [
      "\u001b[0;31m---------------------------------------------------------------------------\u001b[0m",
      "\u001b[0;31mPanicException\u001b[0m                            Traceback (most recent call last)",
      "Cell \u001b[0;32mIn[48], line 3\u001b[0m\n\u001b[1;32m      1\u001b[0m \u001b[38;5;28;01mimport\u001b[39;00m \u001b[38;5;21;01mpandas\u001b[39;00m \u001b[38;5;28;01mas\u001b[39;00m \u001b[38;5;21;01mpd\u001b[39;00m\n\u001b[1;32m      2\u001b[0m query \u001b[38;5;241m=\u001b[39m \u001b[38;5;124m\"\u001b[39m\u001b[38;5;124mSELECT now() FROM census_schema.census_table GROUP BY gender\u001b[39m\u001b[38;5;124m\"\u001b[39m\n\u001b[0;32m----> 3\u001b[0m relation \u001b[38;5;241m=\u001b[39m \u001b[43mds\u001b[49m\u001b[38;5;241;43m.\u001b[39;49m\u001b[43msql\u001b[49m\u001b[43m(\u001b[49m\u001b[43mquery\u001b[49m\u001b[43m)\u001b[49m\n\u001b[1;32m      4\u001b[0m display(graphviz\u001b[38;5;241m.\u001b[39mSource(relation\u001b[38;5;241m.\u001b[39mdot()))\n",
      "\u001b[0;31mPanicException\u001b[0m: not yet implemented"
     ]
    }
   ],
   "source": [
    "import pandas as pd\n",
    "query = \"SELECT sum(age) FROM census_schema.census_table GROUP BY gender\"\n",
    "relation = ds.sql(query)\n",
    "display(graphviz.Source(relation.dot()))"
   ]
  },
  {
   "cell_type": "code",
   "execution_count": null,
   "metadata": {},
   "outputs": [],
   "source": [
    "query = \"SELECT gender as gender, COUNT(*)  AS count_all FROM census_schema.census_table WHERE age = 10 GROUP BY gender\"\n",
    "relation = ds.sql(query)\n",
    "display(graphviz.Source(relation.dot()))"
   ]
  },
  {
   "cell_type": "markdown",
   "metadata": {},
   "source": [
    "Let's convert this `Relation` into differential privacy with the `rewrite_with_differential_privacy` method that outputs: \n",
    "- `privacy_unit`: the privacy unit may be defined as a column within the current table or even another table. Alternatively, each row can be protected.\n",
    "- `synthetic_data`: this optional list associates each original table to its synthetic version. If these tables are provided, any queries that can't be compiled into DP will be executed on the synthetic data\n",
    "- `epsilon_delta`: a dictionnary with the $\\varepsilon$ and $\\delta$ privacy parameters."
   ]
  },
  {
   "cell_type": "code",
   "execution_count": 5,
   "metadata": {},
   "outputs": [],
   "source": [
    "privacy_unit = [\n",
    "    (\"census_table\", [], \"_PRIVACY_UNIT_ROW_\"), # each row is protected\n",
    "]\n",
    "synthetic_data = None\n",
    "\n",
    "dp_relation = relation.rewrite_with_differential_privacy(\n",
    "    dataset=ds,\n",
    "    synthetic_data=synthetic_data,\n",
    "    privacy_unit=privacy_unit,\n",
    "    epsilon_delta={\"epsilon\": 1.0, \"delta\": 1e-3}\n",
    ")"
   ]
  },
  {
   "cell_type": "markdown",
   "metadata": {},
   "source": [
    "The result of `rewrite_with_differential_privacy` is an object that holds both the differentially private `Relation` and a `PrivateQuery` containing the invoked mechanisms during the compilation."
   ]
  },
  {
   "cell_type": "code",
   "execution_count": 6,
   "metadata": {},
   "outputs": [
    {
     "data": {
      "image/svg+xml": [
       "<?xml version=\"1.0\" encoding=\"UTF-8\" standalone=\"no\"?>\n",
       "<!DOCTYPE svg PUBLIC \"-//W3C//DTD SVG 1.1//EN\"\n",
       " \"http://www.w3.org/Graphics/SVG/1.1/DTD/svg11.dtd\">\n",
       "<!-- Generated by graphviz version 8.1.0 (20230707.0739)\n",
       " -->\n",
       "<!-- Title: graph_ce6g Pages: 1 -->\n",
       "<svg width=\"790pt\" height=\"2414pt\"\n",
       " viewBox=\"0.00 0.00 789.80 2413.80\" xmlns=\"http://www.w3.org/2000/svg\" xmlns:xlink=\"http://www.w3.org/1999/xlink\">\n",
       "<g id=\"graph0\" class=\"graph\" transform=\"scale(1 1) rotate(0) translate(4 2409.8)\">\n",
       "<title>graph_ce6g</title>\n",
       "<polygon fill=\"none\" stroke=\"none\" points=\"-4,4 -4,-2409.8 785.8,-2409.8 785.8,4 -4,4\"/>\n",
       "<!-- graph_ce6g -->\n",
       "<g id=\"node1\" class=\"node\">\n",
       "<title>graph_ce6g</title>\n",
       "<path fill=\"#428e92\" stroke=\"#000000\" stroke-opacity=\"0.333333\" d=\"M552.3,-2405.8C552.3,-2405.8 308.25,-2405.8 308.25,-2405.8 302.25,-2405.8 296.25,-2399.8 296.25,-2393.8 296.25,-2393.8 296.25,-2356 296.25,-2356 296.25,-2350 302.25,-2344 308.25,-2344 308.25,-2344 552.3,-2344 552.3,-2344 558.3,-2344 564.3,-2350 564.3,-2356 564.3,-2356 564.3,-2393.8 564.3,-2393.8 564.3,-2399.8 558.3,-2405.8 552.3,-2405.8\"/>\n",
       "<text text-anchor=\"start\" x=\"360.15\" y=\"-2381.95\" font-family=\"Red Hat Display,sans-serif\" font-weight=\"bold\" font-size=\"11.00\" fill=\"#000000\" fill-opacity=\"0.733333\">MAP_G205 size ∈ int[0 140]</text>\n",
       "<text text-anchor=\"start\" x=\"310.65\" y=\"-2370.95\" font-family=\"Red Hat Display,sans-serif\" font-size=\"11.00\" fill=\"#000000\" fill-opacity=\"0.733333\">gender = field_d4_o ∈ str{Female, Male} UNIQUE</text>\n",
       "<text text-anchor=\"start\" x=\"352.27\" y=\"-2359.95\" font-family=\"Red Hat Display,sans-serif\" font-size=\"11.00\" fill=\"#000000\" fill-opacity=\"0.733333\">count_all = field_i4xy ∈ int[0 140]</text>\n",
       "</g>\n",
       "<!-- graph_ld3r -->\n",
       "<g id=\"node2\" class=\"node\">\n",
       "<title>graph_ld3r</title>\n",
       "<path fill=\"#428e92\" stroke=\"#000000\" stroke-opacity=\"0.333333\" d=\"M560.17,-2315C560.17,-2315 300.38,-2315 300.38,-2315 294.38,-2315 288.38,-2309 288.38,-2303 288.38,-2303 288.38,-2265.2 288.38,-2265.2 288.38,-2259.2 294.38,-2253.2 300.38,-2253.2 300.38,-2253.2 560.17,-2253.2 560.17,-2253.2 566.17,-2253.2 572.17,-2259.2 572.17,-2265.2 572.17,-2265.2 572.17,-2303 572.17,-2303 572.17,-2309 566.17,-2315 560.17,-2315\"/>\n",
       "<text text-anchor=\"start\" x=\"356.4\" y=\"-2291.15\" font-family=\"Red Hat Display,sans-serif\" font-weight=\"bold\" font-size=\"11.00\" fill=\"#000000\" fill-opacity=\"0.733333\">MAP_DFDW size ∈ int[0 140]</text>\n",
       "<text text-anchor=\"start\" x=\"302.77\" y=\"-2280.15\" font-family=\"Red Hat Display,sans-serif\" font-size=\"11.00\" fill=\"#000000\" fill-opacity=\"0.733333\">field_d4_o = field_d4_o ∈ str{Female, Male} UNIQUE</text>\n",
       "<text text-anchor=\"start\" x=\"351.52\" y=\"-2269.15\" font-family=\"Red Hat Display,sans-serif\" font-size=\"11.00\" fill=\"#000000\" fill-opacity=\"0.733333\">field_i4xy = field_i4xy ∈ int[0 140]</text>\n",
       "</g>\n",
       "<!-- graph_ce6g&#45;&gt;graph_ld3r -->\n",
       "<g id=\"edge22\" class=\"edge\">\n",
       "<title>graph_ce6g&#45;&gt;graph_ld3r</title>\n",
       "<path fill=\"none\" stroke=\"#2b303a\" d=\"M430.27,-2343.84C430.27,-2338.11 430.27,-2332.03 430.27,-2326.04\"/>\n",
       "<polygon fill=\"#2b303a\" stroke=\"#2b303a\" points=\"433.78,-2326.43 430.27,-2316.43 426.78,-2326.43 433.78,-2326.43\"/>\n",
       "</g>\n",
       "<!-- graph_bc6t -->\n",
       "<g id=\"node3\" class=\"node\">\n",
       "<title>graph_bc6t</title>\n",
       "<path fill=\"#428e92\" stroke=\"#000000\" stroke-opacity=\"0.333333\" d=\"M580.42,-2224.2C580.42,-2224.2 280.12,-2224.2 280.12,-2224.2 274.12,-2224.2 268.12,-2218.2 268.12,-2212.2 268.12,-2212.2 268.12,-2174.4 268.12,-2174.4 268.12,-2168.4 274.12,-2162.4 280.12,-2162.4 280.12,-2162.4 580.42,-2162.4 580.42,-2162.4 586.42,-2162.4 592.42,-2168.4 592.42,-2174.4 592.42,-2174.4 592.42,-2212.2 592.42,-2212.2 592.42,-2218.2 586.42,-2224.2 580.42,-2224.2\"/>\n",
       "<text text-anchor=\"start\" x=\"359.02\" y=\"-2200.35\" font-family=\"Red Hat Display,sans-serif\" font-weight=\"bold\" font-size=\"11.00\" fill=\"#000000\" fill-opacity=\"0.733333\">MAP_ZA8Y size ∈ int[0 140]</text>\n",
       "<text text-anchor=\"start\" x=\"282.52\" y=\"-2189.35\" font-family=\"Red Hat Display,sans-serif\" font-size=\"11.00\" fill=\"#000000\" fill-opacity=\"0.733333\">field_i4xy = cast_as_integer(_COUNT_field_n9r3) ∈ int[0 140]</text>\n",
       "<text text-anchor=\"start\" x=\"302.77\" y=\"-2178.35\" font-family=\"Red Hat Display,sans-serif\" font-size=\"11.00\" fill=\"#000000\" fill-opacity=\"0.733333\">field_d4_o = field_d4_o ∈ str{Female, Male} UNIQUE</text>\n",
       "</g>\n",
       "<!-- graph_ld3r&#45;&gt;graph_bc6t -->\n",
       "<g id=\"edge21\" class=\"edge\">\n",
       "<title>graph_ld3r&#45;&gt;graph_bc6t</title>\n",
       "<path fill=\"none\" stroke=\"#2b303a\" d=\"M430.27,-2253.04C430.27,-2247.31 430.27,-2241.23 430.27,-2235.24\"/>\n",
       "<polygon fill=\"#2b303a\" stroke=\"#2b303a\" points=\"433.78,-2235.63 430.27,-2225.63 426.78,-2235.63 433.78,-2235.63\"/>\n",
       "</g>\n",
       "<!-- graph_pmqc -->\n",
       "<g id=\"node4\" class=\"node\">\n",
       "<title>graph_pmqc</title>\n",
       "<path fill=\"#428e92\" stroke=\"#000000\" stroke-opacity=\"0.333333\" d=\"M750.67,-2133.4C750.67,-2133.4 109.88,-2133.4 109.88,-2133.4 103.88,-2133.4 97.88,-2127.4 97.88,-2121.4 97.88,-2121.4 97.88,-2083.6 97.88,-2083.6 97.88,-2077.6 103.88,-2071.6 109.88,-2071.6 109.88,-2071.6 750.67,-2071.6 750.67,-2071.6 756.67,-2071.6 762.67,-2077.6 762.67,-2083.6 762.67,-2083.6 762.67,-2121.4 762.67,-2121.4 762.67,-2127.4 756.67,-2133.4 750.67,-2133.4\"/>\n",
       "<text text-anchor=\"start\" x=\"358.65\" y=\"-2109.55\" font-family=\"Red Hat Display,sans-serif\" font-weight=\"bold\" font-size=\"11.00\" fill=\"#000000\" fill-opacity=\"0.733333\">MAP_RM81 size ∈ int[0 140]</text>\n",
       "<text text-anchor=\"start\" x=\"302.77\" y=\"-2098.55\" font-family=\"Red Hat Display,sans-serif\" font-size=\"11.00\" fill=\"#000000\" fill-opacity=\"0.733333\">field_d4_o = field_d4_o ∈ str{Female, Male} UNIQUE</text>\n",
       "<text text-anchor=\"start\" x=\"112.27\" y=\"-2087.55\" font-family=\"Red Hat Display,sans-serif\" font-size=\"11.00\" fill=\"#000000\" fill-opacity=\"0.733333\">_COUNT_field_n9r3 = least(140, greatest(0, (coalesce(_COUNT_field_n9r3, 0) + (3.776479532659047 * (sqrt((&#45;2 * ln(random()))) ...</text>\n",
       "</g>\n",
       "<!-- graph_bc6t&#45;&gt;graph_pmqc -->\n",
       "<g id=\"edge20\" class=\"edge\">\n",
       "<title>graph_bc6t&#45;&gt;graph_pmqc</title>\n",
       "<path fill=\"none\" stroke=\"#2b303a\" d=\"M430.27,-2162.24C430.27,-2156.51 430.27,-2150.43 430.27,-2144.44\"/>\n",
       "<polygon fill=\"#2b303a\" stroke=\"#2b303a\" points=\"433.78,-2144.83 430.27,-2134.83 426.78,-2144.83 433.78,-2144.83\"/>\n",
       "</g>\n",
       "<!-- graph_lupl -->\n",
       "<g id=\"node5\" class=\"node\">\n",
       "<title>graph_lupl</title>\n",
       "<path fill=\"#00363a\" stroke=\"#000000\" stroke-opacity=\"0.333333\" d=\"M571.42,-2042.6C571.42,-2042.6 289.12,-2042.6 289.12,-2042.6 283.12,-2042.6 277.12,-2036.6 277.12,-2030.6 277.12,-2030.6 277.12,-1981.8 277.12,-1981.8 277.12,-1975.8 283.12,-1969.8 289.12,-1969.8 289.12,-1969.8 571.42,-1969.8 571.42,-1969.8 577.42,-1969.8 583.42,-1975.8 583.42,-1981.8 583.42,-1981.8 583.42,-2030.6 583.42,-2030.6 583.42,-2036.6 577.42,-2042.6 571.42,-2042.6\"/>\n",
       "<text text-anchor=\"start\" x=\"346.27\" y=\"-2018.75\" font-family=\"Red Hat Display,sans-serif\" font-weight=\"bold\" font-size=\"11.00\" fill=\"#ffffff\" fill-opacity=\"0.733333\">REDUCE_1RRQ size ∈ int[0 140]</text>\n",
       "<text text-anchor=\"start\" x=\"291.52\" y=\"-2007.75\" font-family=\"Red Hat Display,sans-serif\" font-size=\"11.00\" fill=\"#ffffff\" fill-opacity=\"0.733333\">field_d4_o = first(field_zyse) ∈ str{Female, Male} UNIQUE</text>\n",
       "<text text-anchor=\"start\" x=\"303.15\" y=\"-1996.75\" font-family=\"Red Hat Display,sans-serif\" font-size=\"11.00\" fill=\"#ffffff\" fill-opacity=\"0.733333\">_COUNT_field_n9r3 = sum(field_8d51) ∈ float[0 140]</text>\n",
       "<text text-anchor=\"start\" x=\"372.15\" y=\"-1985.75\" font-family=\"Red Hat Display,sans-serif\" font-size=\"11.00\" fill=\"#ffffff\" fill-opacity=\"0.733333\">GROUP BY (field_zyse)</text>\n",
       "</g>\n",
       "<!-- graph_pmqc&#45;&gt;graph_lupl -->\n",
       "<g id=\"edge19\" class=\"edge\">\n",
       "<title>graph_pmqc&#45;&gt;graph_lupl</title>\n",
       "<path fill=\"none\" stroke=\"#2b303a\" d=\"M430.27,-2071.14C430.27,-2065.56 430.27,-2059.61 430.27,-2053.68\"/>\n",
       "<polygon fill=\"#2b303a\" stroke=\"#2b303a\" points=\"433.78,-2054.09 430.27,-2044.09 426.78,-2054.09 433.78,-2054.09\"/>\n",
       "</g>\n",
       "<!-- graph_33ne -->\n",
       "<g id=\"node6\" class=\"node\">\n",
       "<title>graph_33ne</title>\n",
       "<path fill=\"#428e92\" stroke=\"#000000\" stroke-opacity=\"0.333333\" d=\"M617.55,-1940.8C617.55,-1940.8 243,-1940.8 243,-1940.8 237,-1940.8 231,-1934.8 231,-1928.8 231,-1928.8 231,-1891 231,-1891 231,-1885 237,-1879 243,-1879 243,-1879 617.55,-1879 617.55,-1879 623.55,-1879 629.55,-1885 629.55,-1891 629.55,-1891 629.55,-1928.8 629.55,-1928.8 629.55,-1934.8 623.55,-1940.8 617.55,-1940.8\"/>\n",
       "<text text-anchor=\"start\" x=\"359.02\" y=\"-1916.95\" font-family=\"Red Hat Display,sans-serif\" font-weight=\"bold\" font-size=\"11.00\" fill=\"#000000\" fill-opacity=\"0.733333\">MAP_K3R6 size ∈ int[0 140]</text>\n",
       "<text text-anchor=\"start\" x=\"245.4\" y=\"-1905.95\" font-family=\"Red Hat Display,sans-serif\" font-size=\"11.00\" fill=\"#000000\" fill-opacity=\"0.733333\">field_8d51 = _CLIPPED__ONE_field_n9r3 ∈ float[0.000603681610520369 1]</text>\n",
       "<text text-anchor=\"start\" x=\"327.15\" y=\"-1894.95\" font-family=\"Red Hat Display,sans-serif\" font-size=\"11.00\" fill=\"#000000\" fill-opacity=\"0.733333\">field_zyse = field_d4_o ∈ str{Female, Male}</text>\n",
       "</g>\n",
       "<!-- graph_lupl&#45;&gt;graph_33ne -->\n",
       "<g id=\"edge18\" class=\"edge\">\n",
       "<title>graph_lupl&#45;&gt;graph_33ne</title>\n",
       "<path fill=\"none\" stroke=\"#2b303a\" d=\"M430.27,-1969.55C430.27,-1963.83 430.27,-1957.87 430.27,-1952.03\"/>\n",
       "<polygon fill=\"#2b303a\" stroke=\"#2b303a\" points=\"433.78,-1952.06 430.27,-1942.06 426.78,-1952.06 433.78,-1952.06\"/>\n",
       "</g>\n",
       "<!-- graph_aix7 -->\n",
       "<g id=\"node7\" class=\"node\">\n",
       "<title>graph_aix7</title>\n",
       "<path fill=\"#428e92\" stroke=\"#000000\" stroke-opacity=\"0.333333\" d=\"M734.92,-1850C734.92,-1850 125.62,-1850 125.62,-1850 119.62,-1850 113.62,-1844 113.62,-1838 113.62,-1838 113.62,-1745.2 113.62,-1745.2 113.62,-1739.2 119.62,-1733.2 125.62,-1733.2 125.62,-1733.2 734.92,-1733.2 734.92,-1733.2 740.92,-1733.2 746.92,-1739.2 746.92,-1745.2 746.92,-1745.2 746.92,-1838 746.92,-1838 746.92,-1844 740.92,-1850 734.92,-1850\"/>\n",
       "<text text-anchor=\"start\" x=\"361.27\" y=\"-1826.15\" font-family=\"Red Hat Display,sans-serif\" font-weight=\"bold\" font-size=\"11.00\" fill=\"#000000\" fill-opacity=\"0.733333\">MAP_7513 size ∈ int[0 140]</text>\n",
       "<text text-anchor=\"start\" x=\"319.65\" y=\"-1815.15\" font-family=\"Red Hat Display,sans-serif\" font-size=\"11.00\" fill=\"#000000\" fill-opacity=\"0.733333\">_PRIVACY_UNIT_ = _PRIVACY_UNIT_ ∈ str</text>\n",
       "<text text-anchor=\"start\" x=\"252.52\" y=\"-1804.15\" font-family=\"Red Hat Display,sans-serif\" font-size=\"11.00\" fill=\"#000000\" fill-opacity=\"0.733333\">_PRIVACY_UNIT_WEIGHT_ = _PRIVACY_UNIT_WEIGHT_ ∈ float{0, 1}</text>\n",
       "<text text-anchor=\"start\" x=\"326.02\" y=\"-1793.15\" font-family=\"Red Hat Display,sans-serif\" font-size=\"11.00\" fill=\"#000000\" fill-opacity=\"0.733333\">field_d4_o = field_d4_o ∈ str{Female, Male}</text>\n",
       "<text text-anchor=\"start\" x=\"317.77\" y=\"-1782.15\" font-family=\"Red Hat Display,sans-serif\" font-size=\"11.00\" fill=\"#000000\" fill-opacity=\"0.733333\">_ONE_field_n9r3 = _ONE_field_n9r3 ∈ float{1}</text>\n",
       "<text text-anchor=\"start\" x=\"219.9\" y=\"-1771.15\" font-family=\"Red Hat Display,sans-serif\" font-size=\"11.00\" fill=\"#000000\" fill-opacity=\"0.733333\">_SCALE_FACTOR__PRIVACY_UNIT_ = _SCALE_FACTOR__PRIVACY_UNIT_ ∈ str</text>\n",
       "<text text-anchor=\"start\" x=\"158.77\" y=\"-1760.15\" font-family=\"Red Hat Display,sans-serif\" font-size=\"11.00\" fill=\"#000000\" fill-opacity=\"0.733333\">_SCALE_FACTOR__ONE_field_n9r3 = _SCALE_FACTOR__ONE_field_n9r3 ∈ float[0.000603681610520369 1]</text>\n",
       "<text text-anchor=\"start\" x=\"128.02\" y=\"-1749.15\" font-family=\"Red Hat Display,sans-serif\" font-size=\"11.00\" fill=\"#000000\" fill-opacity=\"0.733333\">_CLIPPED__ONE_field_n9r3 = (_ONE_field_n9r3 * _SCALE_FACTOR__ONE_field_n9r3) ∈ float[0.000603681610520369 1]</text>\n",
       "</g>\n",
       "<!-- graph_33ne&#45;&gt;graph_aix7 -->\n",
       "<g id=\"edge17\" class=\"edge\">\n",
       "<title>graph_33ne&#45;&gt;graph_aix7</title>\n",
       "<path fill=\"none\" stroke=\"#2b303a\" d=\"M430.27,-1878.65C430.27,-1873.04 430.27,-1866.98 430.27,-1860.77\"/>\n",
       "<polygon fill=\"#2b303a\" stroke=\"#2b303a\" points=\"433.78,-1861.21 430.27,-1851.21 426.78,-1861.21 433.78,-1861.21\"/>\n",
       "</g>\n",
       "<!-- graph_mkq1 -->\n",
       "<g id=\"node8\" class=\"node\">\n",
       "<title>graph_mkq1</title>\n",
       "<path fill=\"#ff616f\" stroke=\"#000000\" stroke-opacity=\"0.333333\" d=\"M679.05,-1704.2C679.05,-1704.2 181.5,-1704.2 181.5,-1704.2 175.5,-1704.2 169.5,-1698.2 169.5,-1692.2 169.5,-1692.2 169.5,-1599.4 169.5,-1599.4 169.5,-1593.4 175.5,-1587.4 181.5,-1587.4 181.5,-1587.4 679.05,-1587.4 679.05,-1587.4 685.05,-1587.4 691.05,-1593.4 691.05,-1599.4 691.05,-1599.4 691.05,-1692.2 691.05,-1692.2 691.05,-1698.2 685.05,-1704.2 679.05,-1704.2\"/>\n",
       "<text text-anchor=\"start\" x=\"362.02\" y=\"-1680.35\" font-family=\"Red Hat Display,sans-serif\" font-weight=\"bold\" font-size=\"11.00\" fill=\"#000000\" fill-opacity=\"0.733333\">JOIN_5IL6 size ∈ int[0 140]</text>\n",
       "<text text-anchor=\"start\" x=\"298.65\" y=\"-1669.35\" font-family=\"Red Hat Display,sans-serif\" font-size=\"11.00\" fill=\"#000000\" fill-opacity=\"0.733333\">_PRIVACY_UNIT_ = _LEFT_._PRIVACY_UNIT_ ∈ str</text>\n",
       "<text text-anchor=\"start\" x=\"231.52\" y=\"-1658.35\" font-family=\"Red Hat Display,sans-serif\" font-size=\"11.00\" fill=\"#000000\" fill-opacity=\"0.733333\">_PRIVACY_UNIT_WEIGHT_ = _LEFT_._PRIVACY_UNIT_WEIGHT_ ∈ float{0, 1}</text>\n",
       "<text text-anchor=\"start\" x=\"305.02\" y=\"-1647.35\" font-family=\"Red Hat Display,sans-serif\" font-size=\"11.00\" fill=\"#000000\" fill-opacity=\"0.733333\">field_d4_o = _LEFT_.field_d4_o ∈ str{Female, Male}</text>\n",
       "<text text-anchor=\"start\" x=\"296.77\" y=\"-1636.35\" font-family=\"Red Hat Display,sans-serif\" font-size=\"11.00\" fill=\"#000000\" fill-opacity=\"0.733333\">_ONE_field_n9r3 = _LEFT_._ONE_field_n9r3 ∈ float{1}</text>\n",
       "<text text-anchor=\"start\" x=\"245.02\" y=\"-1625.35\" font-family=\"Red Hat Display,sans-serif\" font-size=\"11.00\" fill=\"#000000\" fill-opacity=\"0.733333\">_SCALE_FACTOR__PRIVACY_UNIT_ = _RIGHT_._PRIVACY_UNIT_ ∈ str</text>\n",
       "<text text-anchor=\"start\" x=\"183.9\" y=\"-1614.35\" font-family=\"Red Hat Display,sans-serif\" font-size=\"11.00\" fill=\"#000000\" fill-opacity=\"0.733333\">_SCALE_FACTOR__ONE_field_n9r3 = _RIGHT_._ONE_field_n9r3 ∈ float[0.000603681610520369 1]</text>\n",
       "<text text-anchor=\"start\" x=\"253.27\" y=\"-1603.35\" font-family=\"Red Hat Display,sans-serif\" font-size=\"11.00\" fill=\"#000000\" fill-opacity=\"0.733333\">INNER ON (_LEFT_._PRIVACY_UNIT_ = _RIGHT_._PRIVACY_UNIT_)</text>\n",
       "</g>\n",
       "<!-- graph_aix7&#45;&gt;graph_mkq1 -->\n",
       "<g id=\"edge16\" class=\"edge\">\n",
       "<title>graph_aix7&#45;&gt;graph_mkq1</title>\n",
       "<path fill=\"none\" stroke=\"#2b303a\" d=\"M430.27,-1732.94C430.27,-1727.08 430.27,-1721.09 430.27,-1715.13\"/>\n",
       "<polygon fill=\"#2b303a\" stroke=\"#2b303a\" points=\"433.78,-1715.47 430.27,-1705.47 426.78,-1715.47 433.78,-1715.47\"/>\n",
       "</g>\n",
       "<!-- graph_fni_ -->\n",
       "<g id=\"node9\" class=\"node\">\n",
       "<title>graph_fni_</title>\n",
       "<path fill=\"#428e92\" stroke=\"#000000\" stroke-opacity=\"0.333333\" d=\"M532.92,-1558.4C532.92,-1558.4 55.62,-1558.4 55.62,-1558.4 49.62,-1558.4 43.62,-1552.4 43.62,-1546.4 43.62,-1546.4 43.62,-1508.6 43.62,-1508.6 43.62,-1502.6 49.62,-1496.6 55.62,-1496.6 55.62,-1496.6 532.92,-1496.6 532.92,-1496.6 538.92,-1496.6 544.92,-1502.6 544.92,-1508.6 544.92,-1508.6 544.92,-1546.4 544.92,-1546.4 544.92,-1552.4 538.92,-1558.4 532.92,-1558.4\"/>\n",
       "<text text-anchor=\"start\" x=\"224.52\" y=\"-1534.55\" font-family=\"Red Hat Display,sans-serif\" font-weight=\"bold\" font-size=\"11.00\" fill=\"#000000\" fill-opacity=\"0.733333\">MAP_457P size ∈ int[0 140]</text>\n",
       "<text text-anchor=\"start\" x=\"160.4\" y=\"-1523.55\" font-family=\"Red Hat Display,sans-serif\" font-size=\"11.00\" fill=\"#000000\" fill-opacity=\"0.733333\">_PRIVACY_UNIT_ = _PRIVACY_UNIT_ ∈ str UNIQUE</text>\n",
       "<text text-anchor=\"start\" x=\"58.02\" y=\"-1512.55\" font-family=\"Red Hat Display,sans-serif\" font-size=\"11.00\" fill=\"#000000\" fill-opacity=\"0.733333\">_ONE_field_n9r3 = (1 / greatest(1, (sqrt(_ONE_field_n9r3) / 1))) ∈ float[0.000603681610520369 1]</text>\n",
       "</g>\n",
       "<!-- graph_mkq1&#45;&gt;graph_fni_ -->\n",
       "<g id=\"edge15\" class=\"edge\">\n",
       "<title>graph_mkq1&#45;&gt;graph_fni_</title>\n",
       "<path fill=\"none\" stroke=\"#2b303a\" d=\"M362.67,-1586.99C354.16,-1579.71 345.64,-1572.43 337.65,-1565.59\"/>\n",
       "<polygon fill=\"#2b303a\" stroke=\"#2b303a\" points=\"340.41,-1562.49 330.53,-1558.65 335.86,-1567.81 340.41,-1562.49\"/>\n",
       "</g>\n",
       "<!-- graph_sb2n -->\n",
       "<g id=\"node15\" class=\"node\">\n",
       "<title>graph_sb2n</title>\n",
       "<path fill=\"#428e92\" stroke=\"#000000\" stroke-opacity=\"0.333333\" d=\"M702.67,-958.6C702.67,-958.6 205.88,-958.6 205.88,-958.6 199.88,-958.6 193.88,-952.6 193.88,-946.6 193.88,-946.6 193.88,-886.8 193.88,-886.8 193.88,-880.8 199.88,-874.8 205.88,-874.8 205.88,-874.8 702.67,-874.8 702.67,-874.8 708.67,-874.8 714.67,-880.8 714.67,-886.8 714.67,-886.8 714.67,-946.6 714.67,-946.6 714.67,-952.6 708.67,-958.6 702.67,-958.6\"/>\n",
       "<text text-anchor=\"start\" x=\"382.65\" y=\"-934.75\" font-family=\"Red Hat Display,sans-serif\" font-weight=\"bold\" font-size=\"11.00\" fill=\"#000000\" fill-opacity=\"0.733333\">MAP_8ZDU size ∈ int[0 140]</text>\n",
       "<text text-anchor=\"start\" x=\"208.27\" y=\"-923.75\" font-family=\"Red Hat Display,sans-serif\" font-size=\"11.00\" fill=\"#000000\" fill-opacity=\"0.733333\">_PRIVACY_UNIT_ = coalesce(cast_as_text(_PRIVACY_UNIT_), _PRIVACY_UNIT_DEFAULT_) ∈ str</text>\n",
       "<text text-anchor=\"start\" x=\"245.77\" y=\"-912.75\" font-family=\"Red Hat Display,sans-serif\" font-size=\"11.00\" fill=\"#000000\" fill-opacity=\"0.733333\">_PRIVACY_UNIT_WEIGHT_ = coalesce(_PRIVACY_UNIT_WEIGHT_, 0) ∈ float{0, 1}</text>\n",
       "<text text-anchor=\"start\" x=\"350.02\" y=\"-901.75\" font-family=\"Red Hat Display,sans-serif\" font-size=\"11.00\" fill=\"#000000\" fill-opacity=\"0.733333\">field_d4_o = field_d4_o ∈ str{Female, Male}</text>\n",
       "<text text-anchor=\"start\" x=\"380.4\" y=\"-890.75\" font-family=\"Red Hat Display,sans-serif\" font-size=\"11.00\" fill=\"#000000\" fill-opacity=\"0.733333\">_ONE_field_n9r3 = 1 ∈ float{1}</text>\n",
       "</g>\n",
       "<!-- graph_mkq1&#45;&gt;graph_sb2n -->\n",
       "<g id=\"edge14\" class=\"edge\">\n",
       "<title>graph_mkq1&#45;&gt;graph_sb2n</title>\n",
       "<path fill=\"none\" stroke=\"#2b303a\" d=\"M528.45,-1587.16C537.61,-1578.51 545.85,-1568.92 552.27,-1558.4 581.8,-1510.04 570.27,-1488.86 570.27,-1432.2 570.27,-1432.2 570.27,-1432.2 570.27,-1130.3 570.27,-1068.67 532.25,-1007.92 499.74,-967.24\"/>\n",
       "<polygon fill=\"#2b303a\" stroke=\"#2b303a\" points=\"501.94,-965.4 492.9,-959.88 496.52,-969.83 501.94,-965.4\"/>\n",
       "</g>\n",
       "<!-- graph_i1gk -->\n",
       "<g id=\"node10\" class=\"node\">\n",
       "<title>graph_i1gk</title>\n",
       "<path fill=\"#00363a\" stroke=\"#000000\" stroke-opacity=\"0.333333\" d=\"M420.8,-1467.6C420.8,-1467.6 155.75,-1467.6 155.75,-1467.6 149.75,-1467.6 143.75,-1461.6 143.75,-1455.6 143.75,-1455.6 143.75,-1406.8 143.75,-1406.8 143.75,-1400.8 149.75,-1394.8 155.75,-1394.8 155.75,-1394.8 420.8,-1394.8 420.8,-1394.8 426.8,-1394.8 432.8,-1400.8 432.8,-1406.8 432.8,-1406.8 432.8,-1455.6 432.8,-1455.6 432.8,-1461.6 426.8,-1467.6 420.8,-1467.6\"/>\n",
       "<text text-anchor=\"start\" x=\"205.4\" y=\"-1443.75\" font-family=\"Red Hat Display,sans-serif\" font-weight=\"bold\" font-size=\"11.00\" fill=\"#ffffff\" fill-opacity=\"0.733333\">REDUCE_LUY5 size ∈ int[0 140]</text>\n",
       "<text text-anchor=\"start\" x=\"164.52\" y=\"-1432.75\" font-family=\"Red Hat Display,sans-serif\" font-size=\"11.00\" fill=\"#ffffff\" fill-opacity=\"0.733333\">_PRIVACY_UNIT_ = first(field_grep) ∈ str UNIQUE</text>\n",
       "<text text-anchor=\"start\" x=\"158.15\" y=\"-1421.75\" font-family=\"Red Hat Display,sans-serif\" font-size=\"11.00\" fill=\"#ffffff\" fill-opacity=\"0.733333\">_ONE_field_n9r3 = sum(field_7ra5) ∈ float[0 2744000]</text>\n",
       "<text text-anchor=\"start\" x=\"230.15\" y=\"-1410.75\" font-family=\"Red Hat Display,sans-serif\" font-size=\"11.00\" fill=\"#ffffff\" fill-opacity=\"0.733333\">GROUP BY (field_grep)</text>\n",
       "</g>\n",
       "<!-- graph_fni_&#45;&gt;graph_i1gk -->\n",
       "<g id=\"edge13\" class=\"edge\">\n",
       "<title>graph_fni_&#45;&gt;graph_i1gk</title>\n",
       "<path fill=\"none\" stroke=\"#2b303a\" d=\"M292.34,-1496.14C291.99,-1490.56 291.61,-1484.61 291.23,-1478.68\"/>\n",
       "<polygon fill=\"#2b303a\" stroke=\"#2b303a\" points=\"294.69,-1478.85 290.56,-1469.09 287.7,-1479.29 294.69,-1478.85\"/>\n",
       "</g>\n",
       "<!-- graph_crsl -->\n",
       "<g id=\"node11\" class=\"node\">\n",
       "<title>graph_crsl</title>\n",
       "<path fill=\"#428e92\" stroke=\"#000000\" stroke-opacity=\"0.333333\" d=\"M412.8,-1365.8C412.8,-1365.8 141.75,-1365.8 141.75,-1365.8 135.75,-1365.8 129.75,-1359.8 129.75,-1353.8 129.75,-1353.8 129.75,-1316 129.75,-1316 129.75,-1310 135.75,-1304 141.75,-1304 141.75,-1304 412.8,-1304 412.8,-1304 418.8,-1304 424.8,-1310 424.8,-1316 424.8,-1316 424.8,-1353.8 424.8,-1353.8 424.8,-1359.8 418.8,-1365.8 412.8,-1365.8\"/>\n",
       "<text text-anchor=\"start\" x=\"207.15\" y=\"-1341.95\" font-family=\"Red Hat Display,sans-serif\" font-weight=\"bold\" font-size=\"11.00\" fill=\"#000000\" fill-opacity=\"0.733333\">MAP_X9Z5 size ∈ int[0 140]</text>\n",
       "<text text-anchor=\"start\" x=\"144.15\" y=\"-1330.95\" font-family=\"Red Hat Display,sans-serif\" font-size=\"11.00\" fill=\"#000000\" fill-opacity=\"0.733333\">field_7ra5 = _NORM__ONE_field_n9r3 ∈ float[0 19600]</text>\n",
       "<text text-anchor=\"start\" x=\"189.15\" y=\"-1319.95\" font-family=\"Red Hat Display,sans-serif\" font-size=\"11.00\" fill=\"#000000\" fill-opacity=\"0.733333\">field_grep = _PRIVACY_UNIT_ ∈ str</text>\n",
       "</g>\n",
       "<!-- graph_i1gk&#45;&gt;graph_crsl -->\n",
       "<g id=\"edge12\" class=\"edge\">\n",
       "<title>graph_i1gk&#45;&gt;graph_crsl</title>\n",
       "<path fill=\"none\" stroke=\"#2b303a\" d=\"M284.12,-1394.55C283.43,-1388.68 282.72,-1382.56 282.02,-1376.58\"/>\n",
       "<polygon fill=\"#2b303a\" stroke=\"#2b303a\" points=\"285.43,-1376.58 280.79,-1367.06 278.48,-1377.4 285.43,-1376.58\"/>\n",
       "</g>\n",
       "<!-- graph_22_l -->\n",
       "<g id=\"node12\" class=\"node\">\n",
       "<title>graph_22_l</title>\n",
       "<path fill=\"#428e92\" stroke=\"#000000\" stroke-opacity=\"0.333333\" d=\"M536.55,-1275C536.55,-1275 12,-1275 12,-1275 6,-1275 0,-1269 0,-1263 0,-1263 0,-1214.2 0,-1214.2 0,-1208.2 6,-1202.2 12,-1202.2 12,-1202.2 536.55,-1202.2 536.55,-1202.2 542.55,-1202.2 548.55,-1208.2 548.55,-1214.2 548.55,-1214.2 548.55,-1263 548.55,-1263 548.55,-1269 542.55,-1275 536.55,-1275\"/>\n",
       "<text text-anchor=\"start\" x=\"201.15\" y=\"-1251.15\" font-family=\"Red Hat Display,sans-serif\" font-weight=\"bold\" font-size=\"11.00\" fill=\"#000000\" fill-opacity=\"0.733333\">MAP_NMOF size ∈ int[0 140]</text>\n",
       "<text text-anchor=\"start\" x=\"163.65\" y=\"-1240.15\" font-family=\"Red Hat Display,sans-serif\" font-size=\"11.00\" fill=\"#000000\" fill-opacity=\"0.733333\">_PRIVACY_UNIT_ = _PRIVACY_UNIT_ ∈ str</text>\n",
       "<text text-anchor=\"start\" x=\"170.02\" y=\"-1229.15\" font-family=\"Red Hat Display,sans-serif\" font-size=\"11.00\" fill=\"#000000\" fill-opacity=\"0.733333\">field_d4_o = field_d4_o ∈ str{Female, Male}</text>\n",
       "<text text-anchor=\"start\" x=\"14.4\" y=\"-1218.15\" font-family=\"Red Hat Display,sans-serif\" font-size=\"11.00\" fill=\"#000000\" fill-opacity=\"0.733333\">_NORM__ONE_field_n9r3 = abs((_NORM__ONE_field_n9r3 * _NORM__ONE_field_n9r3)) ∈ float[0 19600]</text>\n",
       "</g>\n",
       "<!-- graph_crsl&#45;&gt;graph_22_l -->\n",
       "<g id=\"edge11\" class=\"edge\">\n",
       "<title>graph_crsl&#45;&gt;graph_22_l</title>\n",
       "<path fill=\"none\" stroke=\"#2b303a\" d=\"M276.31,-1303.54C276.13,-1297.96 275.94,-1292.01 275.75,-1286.08\"/>\n",
       "<polygon fill=\"#2b303a\" stroke=\"#2b303a\" points=\"279.23,-1286.38 275.42,-1276.49 272.24,-1286.6 279.23,-1286.38\"/>\n",
       "</g>\n",
       "<!-- graph_kyox -->\n",
       "<g id=\"node13\" class=\"node\">\n",
       "<title>graph_kyox</title>\n",
       "<path fill=\"#00363a\" stroke=\"#000000\" stroke-opacity=\"0.333333\" d=\"M474.3,-1173.2C474.3,-1173.2 200.25,-1173.2 200.25,-1173.2 194.25,-1173.2 188.25,-1167.2 188.25,-1161.2 188.25,-1161.2 188.25,-1101.4 188.25,-1101.4 188.25,-1095.4 194.25,-1089.4 200.25,-1089.4 200.25,-1089.4 474.3,-1089.4 474.3,-1089.4 480.3,-1089.4 486.3,-1095.4 486.3,-1101.4 486.3,-1101.4 486.3,-1161.2 486.3,-1161.2 486.3,-1167.2 480.3,-1173.2 474.3,-1173.2\"/>\n",
       "<text text-anchor=\"start\" x=\"255.9\" y=\"-1149.35\" font-family=\"Red Hat Display,sans-serif\" font-weight=\"bold\" font-size=\"11.00\" fill=\"#ffffff\" fill-opacity=\"0.733333\">REDUCE_0JSJ size ∈ int[0 140]</text>\n",
       "<text text-anchor=\"start\" x=\"236.77\" y=\"-1138.35\" font-family=\"Red Hat Display,sans-serif\" font-size=\"11.00\" fill=\"#ffffff\" fill-opacity=\"0.733333\">_PRIVACY_UNIT_ = first(field_grep) ∈ str</text>\n",
       "<text text-anchor=\"start\" x=\"221.77\" y=\"-1127.35\" font-family=\"Red Hat Display,sans-serif\" font-size=\"11.00\" fill=\"#ffffff\" fill-opacity=\"0.733333\">field_d4_o = first(field_zyse) ∈ str{Female, Male}</text>\n",
       "<text text-anchor=\"start\" x=\"202.65\" y=\"-1116.35\" font-family=\"Red Hat Display,sans-serif\" font-size=\"11.00\" fill=\"#ffffff\" fill-opacity=\"0.733333\">_NORM__ONE_field_n9r3 = sum(field_1iro) ∈ int[0 140]</text>\n",
       "<text text-anchor=\"start\" x=\"252.52\" y=\"-1105.35\" font-family=\"Red Hat Display,sans-serif\" font-size=\"11.00\" fill=\"#ffffff\" fill-opacity=\"0.733333\">GROUP BY (field_grep, field_zyse)</text>\n",
       "</g>\n",
       "<!-- graph_22_l&#45;&gt;graph_kyox -->\n",
       "<g id=\"edge10\" class=\"edge\">\n",
       "<title>graph_22_l&#45;&gt;graph_kyox</title>\n",
       "<path fill=\"none\" stroke=\"#2b303a\" d=\"M295.6,-1201.95C299.3,-1195.78 303.2,-1189.25 307.08,-1182.78\"/>\n",
       "<polygon fill=\"#2b303a\" stroke=\"#2b303a\" points=\"310.58,-1184.74 312.71,-1174.36 304.57,-1181.14 310.58,-1184.74\"/>\n",
       "</g>\n",
       "<!-- graph_wa2x -->\n",
       "<g id=\"node14\" class=\"node\">\n",
       "<title>graph_wa2x</title>\n",
       "<path fill=\"#428e92\" stroke=\"#000000\" stroke-opacity=\"0.333333\" d=\"M489.8,-1060.4C489.8,-1060.4 278.75,-1060.4 278.75,-1060.4 272.75,-1060.4 266.75,-1054.4 266.75,-1048.4 266.75,-1048.4 266.75,-999.6 266.75,-999.6 266.75,-993.6 272.75,-987.6 278.75,-987.6 278.75,-987.6 489.8,-987.6 489.8,-987.6 495.8,-987.6 501.8,-993.6 501.8,-999.6 501.8,-999.6 501.8,-1048.4 501.8,-1048.4 501.8,-1054.4 495.8,-1060.4 489.8,-1060.4\"/>\n",
       "<text text-anchor=\"start\" x=\"315.65\" y=\"-1036.55\" font-family=\"Red Hat Display,sans-serif\" font-weight=\"bold\" font-size=\"11.00\" fill=\"#000000\" fill-opacity=\"0.733333\">MAP_O0I4 size ∈ int[0 140]</text>\n",
       "<text text-anchor=\"start\" x=\"291.65\" y=\"-1025.55\" font-family=\"Red Hat Display,sans-serif\" font-size=\"11.00\" fill=\"#000000\" fill-opacity=\"0.733333\">field_1iro = _ONE_field_n9r3 ∈ float{1}</text>\n",
       "<text text-anchor=\"start\" x=\"296.15\" y=\"-1014.55\" font-family=\"Red Hat Display,sans-serif\" font-size=\"11.00\" fill=\"#000000\" fill-opacity=\"0.733333\">field_grep = _PRIVACY_UNIT_ ∈ str</text>\n",
       "<text text-anchor=\"start\" x=\"281.15\" y=\"-1003.55\" font-family=\"Red Hat Display,sans-serif\" font-size=\"11.00\" fill=\"#000000\" fill-opacity=\"0.733333\">field_zyse = field_d4_o ∈ str{Female, Male}</text>\n",
       "</g>\n",
       "<!-- graph_kyox&#45;&gt;graph_wa2x -->\n",
       "<g id=\"edge9\" class=\"edge\">\n",
       "<title>graph_kyox&#45;&gt;graph_wa2x</title>\n",
       "<path fill=\"none\" stroke=\"#2b303a\" d=\"M355.72,-1088.98C358.38,-1083.01 361.15,-1076.82 363.85,-1070.76\"/>\n",
       "<polygon fill=\"#2b303a\" stroke=\"#2b303a\" points=\"367.44,-1072.29 368.32,-1061.74 361.05,-1069.44 367.44,-1072.29\"/>\n",
       "</g>\n",
       "<!-- graph_wa2x&#45;&gt;graph_sb2n -->\n",
       "<g id=\"edge8\" class=\"edge\">\n",
       "<title>graph_wa2x&#45;&gt;graph_sb2n</title>\n",
       "<path fill=\"none\" stroke=\"#2b303a\" d=\"M407.97,-987.35C412.17,-981.03 416.62,-974.35 421.02,-967.72\"/>\n",
       "<polygon fill=\"#2b303a\" stroke=\"#2b303a\" points=\"424.36,-970.03 426.98,-959.76 418.53,-966.15 424.36,-970.03\"/>\n",
       "</g>\n",
       "<!-- graph_dqn8 -->\n",
       "<g id=\"node16\" class=\"node\">\n",
       "<title>graph_dqn8</title>\n",
       "<path fill=\"#428e92\" stroke=\"#000000\" stroke-opacity=\"0.333333\" d=\"M642.3,-845.8C642.3,-845.8 266.25,-845.8 266.25,-845.8 260.25,-845.8 254.25,-839.8 254.25,-833.8 254.25,-833.8 254.25,-774 254.25,-774 254.25,-768 260.25,-762 266.25,-762 266.25,-762 642.3,-762 642.3,-762 648.3,-762 654.3,-768 654.3,-774 654.3,-774 654.3,-833.8 654.3,-833.8 654.3,-839.8 648.3,-845.8 642.3,-845.8\"/>\n",
       "<text text-anchor=\"start\" x=\"382.65\" y=\"-821.95\" font-family=\"Red Hat Display,sans-serif\" font-weight=\"bold\" font-size=\"11.00\" fill=\"#000000\" fill-opacity=\"0.733333\">MAP_M0YT size ∈ int[0 140]</text>\n",
       "<text text-anchor=\"start\" x=\"350.02\" y=\"-810.95\" font-family=\"Red Hat Display,sans-serif\" font-size=\"11.00\" fill=\"#000000\" fill-opacity=\"0.733333\">field_d4_o = field_d4_o ∈ str{Female, Male}</text>\n",
       "<text text-anchor=\"start\" x=\"325.27\" y=\"-799.95\" font-family=\"Red Hat Display,sans-serif\" font-size=\"11.00\" fill=\"#000000\" fill-opacity=\"0.733333\">_PRIVACY_UNIT_ = _PRIVACY_UNIT_ ∈ option(str)</text>\n",
       "<text text-anchor=\"start\" x=\"268.65\" y=\"-788.95\" font-family=\"Red Hat Display,sans-serif\" font-size=\"11.00\" fill=\"#000000\" fill-opacity=\"0.733333\">_PRIVACY_UNIT_WEIGHT_ = _PRIVACY_UNIT_WEIGHT_ ∈ option(int{1})</text>\n",
       "<text text-anchor=\"start\" x=\"363.9\" y=\"-777.95\" font-family=\"Red Hat Display,sans-serif\" font-size=\"11.00\" fill=\"#000000\" fill-opacity=\"0.733333\">field_n9r3 = field_n9r3 ∈ option(int{1})</text>\n",
       "</g>\n",
       "<!-- graph_sb2n&#45;&gt;graph_dqn8 -->\n",
       "<g id=\"edge7\" class=\"edge\">\n",
       "<title>graph_sb2n&#45;&gt;graph_dqn8</title>\n",
       "<path fill=\"none\" stroke=\"#2b303a\" d=\"M454.27,-874.44C454.27,-868.67 454.27,-862.69 454.27,-856.75\"/>\n",
       "<polygon fill=\"#2b303a\" stroke=\"#2b303a\" points=\"457.78,-857.19 454.27,-847.19 450.78,-857.19 457.78,-857.19\"/>\n",
       "</g>\n",
       "<!-- graph_55h9 -->\n",
       "<g id=\"node17\" class=\"node\">\n",
       "<title>graph_55h9</title>\n",
       "<path fill=\"#ff616f\" stroke=\"#000000\" stroke-opacity=\"0.333333\" d=\"M667.05,-733C667.05,-733 241.5,-733 241.5,-733 235.5,-733 229.5,-727 229.5,-721 229.5,-721 229.5,-639.2 229.5,-639.2 229.5,-633.2 235.5,-627.2 241.5,-627.2 241.5,-627.2 667.05,-627.2 667.05,-627.2 673.05,-627.2 679.05,-633.2 679.05,-639.2 679.05,-639.2 679.05,-721 679.05,-721 679.05,-727 673.05,-733 667.05,-733\"/>\n",
       "<text text-anchor=\"start\" x=\"383.02\" y=\"-709.15\" font-family=\"Red Hat Display,sans-serif\" font-weight=\"bold\" font-size=\"11.00\" fill=\"#000000\" fill-opacity=\"0.733333\">JOIN_7G2Y size ∈ int[0 140]</text>\n",
       "<text text-anchor=\"start\" x=\"329.02\" y=\"-698.15\" font-family=\"Red Hat Display,sans-serif\" font-size=\"11.00\" fill=\"#000000\" fill-opacity=\"0.733333\">field_d4_o = _LEFT_.field_d4_o ∈ str{Female, Male}</text>\n",
       "<text text-anchor=\"start\" x=\"300.52\" y=\"-687.15\" font-family=\"Red Hat Display,sans-serif\" font-size=\"11.00\" fill=\"#000000\" fill-opacity=\"0.733333\">_PRIVACY_UNIT_ = _RIGHT_._PRIVACY_UNIT_ ∈ option(str)</text>\n",
       "<text text-anchor=\"start\" x=\"243.9\" y=\"-676.15\" font-family=\"Red Hat Display,sans-serif\" font-size=\"11.00\" fill=\"#000000\" fill-opacity=\"0.733333\">_PRIVACY_UNIT_WEIGHT_ = _RIGHT_._PRIVACY_UNIT_WEIGHT_ ∈ option(int{1})</text>\n",
       "<text text-anchor=\"start\" x=\"339.15\" y=\"-665.15\" font-family=\"Red Hat Display,sans-serif\" font-size=\"11.00\" fill=\"#000000\" fill-opacity=\"0.733333\">field_n9r3 = _RIGHT_.field_n9r3 ∈ option(int{1})</text>\n",
       "<text text-anchor=\"start\" x=\"306.9\" y=\"-654.15\" font-family=\"Red Hat Display,sans-serif\" font-size=\"11.00\" fill=\"#000000\" fill-opacity=\"0.733333\">left__kq_o = _RIGHT_.field_d4_o ∈ option(str{Female, Male})</text>\n",
       "<text text-anchor=\"start\" x=\"324.15\" y=\"-643.15\" font-family=\"Red Hat Display,sans-serif\" font-size=\"11.00\" fill=\"#000000\" fill-opacity=\"0.733333\">LEFT ON (_LEFT_.field_d4_o = _RIGHT_.field_d4_o)</text>\n",
       "</g>\n",
       "<!-- graph_dqn8&#45;&gt;graph_55h9 -->\n",
       "<g id=\"edge6\" class=\"edge\">\n",
       "<title>graph_dqn8&#45;&gt;graph_55h9</title>\n",
       "<path fill=\"none\" stroke=\"#2b303a\" d=\"M454.27,-761.66C454.27,-755.97 454.27,-750.02 454.27,-744.04\"/>\n",
       "<polygon fill=\"#2b303a\" stroke=\"#2b303a\" points=\"457.78,-744.31 454.27,-734.31 450.78,-744.31 457.78,-744.31\"/>\n",
       "</g>\n",
       "<!-- graph_s4t9 -->\n",
       "<g id=\"node18\" class=\"node\">\n",
       "<title>graph_s4t9</title>\n",
       "<path fill=\"#006064\" stroke=\"#000000\" stroke-opacity=\"0.333333\" d=\"M384.92,-581.7C384.92,-581.7 249.62,-581.7 249.62,-581.7 243.62,-581.7 237.62,-575.7 237.62,-569.7 237.62,-569.7 237.62,-542.9 237.62,-542.9 237.62,-536.9 243.62,-530.9 249.62,-530.9 249.62,-530.9 384.92,-530.9 384.92,-530.9 390.92,-530.9 396.92,-536.9 396.92,-542.9 396.92,-542.9 396.92,-569.7 396.92,-569.7 396.92,-575.7 390.92,-581.7 384.92,-581.7\"/>\n",
       "<text text-anchor=\"start\" x=\"252.02\" y=\"-557.85\" font-family=\"Red Hat Display,sans-serif\" font-weight=\"bold\" font-size=\"11.00\" fill=\"#ffffff\" fill-opacity=\"0.733333\">FIELD_D4_O size ∈ int{2}</text>\n",
       "<text text-anchor=\"start\" x=\"281.65\" y=\"-546.85\" font-family=\"Red Hat Display,sans-serif\" font-size=\"11.00\" fill=\"#ffffff\" fill-opacity=\"0.733333\">[Female, Male]</text>\n",
       "</g>\n",
       "<!-- graph_55h9&#45;&gt;graph_s4t9 -->\n",
       "<g id=\"edge4\" class=\"edge\">\n",
       "<title>graph_55h9&#45;&gt;graph_s4t9</title>\n",
       "<path fill=\"none\" stroke=\"#2b303a\" d=\"M395.38,-626.74C381.1,-614.05 366.26,-600.85 353.39,-589.41\"/>\n",
       "<polygon fill=\"#2b303a\" stroke=\"#2b303a\" points=\"356.05,-587.2 346.25,-583.17 351.39,-592.43 356.05,-587.2\"/>\n",
       "</g>\n",
       "<!-- graph_kodt -->\n",
       "<g id=\"node19\" class=\"node\">\n",
       "<title>graph_kodt</title>\n",
       "<path fill=\"#428e92\" stroke=\"#000000\" stroke-opacity=\"0.333333\" d=\"M761.92,-598.2C761.92,-598.2 422.62,-598.2 422.62,-598.2 416.62,-598.2 410.62,-592.2 410.62,-586.2 410.62,-586.2 410.62,-526.4 410.62,-526.4 410.62,-520.4 416.62,-514.4 422.62,-514.4 422.62,-514.4 761.92,-514.4 761.92,-514.4 767.92,-514.4 773.92,-520.4 773.92,-526.4 773.92,-526.4 773.92,-586.2 773.92,-586.2 773.92,-592.2 767.92,-598.2 761.92,-598.2\"/>\n",
       "<text text-anchor=\"start\" x=\"522.52\" y=\"-574.35\" font-family=\"Red Hat Display,sans-serif\" font-weight=\"bold\" font-size=\"11.00\" fill=\"#000000\" fill-opacity=\"0.733333\">MAP_QAZC size ∈ int[0 70]</text>\n",
       "<text text-anchor=\"start\" x=\"481.65\" y=\"-563.35\" font-family=\"Red Hat Display,sans-serif\" font-size=\"11.00\" fill=\"#000000\" fill-opacity=\"0.733333\">_PRIVACY_UNIT_ = _PRIVACY_UNIT_ ∈ str</text>\n",
       "<text text-anchor=\"start\" x=\"425.02\" y=\"-552.35\" font-family=\"Red Hat Display,sans-serif\" font-size=\"11.00\" fill=\"#000000\" fill-opacity=\"0.733333\">_PRIVACY_UNIT_WEIGHT_ = _PRIVACY_UNIT_WEIGHT_ ∈ int{1}</text>\n",
       "<text text-anchor=\"start\" x=\"540.9\" y=\"-541.35\" font-family=\"Red Hat Display,sans-serif\" font-size=\"11.00\" fill=\"#000000\" fill-opacity=\"0.733333\">field_n9r3 = 1 ∈ int{1}</text>\n",
       "<text text-anchor=\"start\" x=\"495.9\" y=\"-530.35\" font-family=\"Red Hat Display,sans-serif\" font-size=\"11.00\" fill=\"#000000\" fill-opacity=\"0.733333\">field_d4_o = gender ∈ str{Female, Male}</text>\n",
       "</g>\n",
       "<!-- graph_55h9&#45;&gt;graph_kodt -->\n",
       "<g id=\"edge5\" class=\"edge\">\n",
       "<title>graph_55h9&#45;&gt;graph_kodt</title>\n",
       "<path fill=\"none\" stroke=\"#2b303a\" d=\"M513.6,-626.74C521.6,-619.68 529.78,-612.46 537.69,-605.48\"/>\n",
       "<polygon fill=\"#2b303a\" stroke=\"#2b303a\" points=\"539.31,-608.83 544.49,-599.59 534.68,-603.58 539.31,-608.83\"/>\n",
       "</g>\n",
       "<!-- graph_e7tl -->\n",
       "<g id=\"node20\" class=\"node\">\n",
       "<title>graph_e7tl</title>\n",
       "<path fill=\"#428e92\" stroke=\"#000000\" stroke-opacity=\"0.333333\" d=\"M769.8,-485.4C769.8,-485.4 414.75,-485.4 414.75,-485.4 408.75,-485.4 402.75,-479.4 402.75,-473.4 402.75,-473.4 402.75,-336.6 402.75,-336.6 402.75,-330.6 408.75,-324.6 414.75,-324.6 414.75,-324.6 769.8,-324.6 769.8,-324.6 775.8,-324.6 781.8,-330.6 781.8,-336.6 781.8,-336.6 781.8,-473.4 781.8,-473.4 781.8,-479.4 775.8,-485.4 769.8,-485.4\"/>\n",
       "<text text-anchor=\"start\" x=\"524.4\" y=\"-461.55\" font-family=\"Red Hat Display,sans-serif\" font-weight=\"bold\" font-size=\"11.00\" fill=\"#000000\" fill-opacity=\"0.733333\">MAP_LG9F size ∈ int[0 70]</text>\n",
       "<text text-anchor=\"start\" x=\"417.15\" y=\"-450.55\" font-family=\"Red Hat Display,sans-serif\" font-size=\"11.00\" fill=\"#000000\" fill-opacity=\"0.733333\">_PRIVACY_UNIT_ = md5(cast_as_text(_PRIVACY_UNIT_ROW_)) ∈ str</text>\n",
       "<text text-anchor=\"start\" x=\"493.27\" y=\"-439.55\" font-family=\"Red Hat Display,sans-serif\" font-size=\"11.00\" fill=\"#000000\" fill-opacity=\"0.733333\">_PRIVACY_UNIT_WEIGHT_ = 1 ∈ int{1}</text>\n",
       "<text text-anchor=\"start\" x=\"434.02\" y=\"-428.55\" font-family=\"Red Hat Display,sans-serif\" font-size=\"11.00\" fill=\"#000000\" fill-opacity=\"0.733333\">_PRIVACY_UNIT_ROW_ = _PRIVACY_UNIT_ROW_ ∈ float[0 1]</text>\n",
       "<text text-anchor=\"start\" x=\"552.52\" y=\"-417.55\" font-family=\"Red Hat Display,sans-serif\" font-size=\"11.00\" fill=\"#000000\" fill-opacity=\"0.733333\">id = id ∈ int[1 70]</text>\n",
       "<text text-anchor=\"start\" x=\"523.65\" y=\"-406.55\" font-family=\"Red Hat Display,sans-serif\" font-size=\"11.00\" fill=\"#000000\" fill-opacity=\"0.733333\">first_name = first_name ∈ str</text>\n",
       "<text text-anchor=\"start\" x=\"524.4\" y=\"-395.55\" font-family=\"Red Hat Display,sans-serif\" font-size=\"11.00\" fill=\"#000000\" fill-opacity=\"0.733333\">last_name = last_name ∈ str</text>\n",
       "<text text-anchor=\"start\" x=\"539.77\" y=\"-384.55\" font-family=\"Red Hat Display,sans-serif\" font-size=\"11.00\" fill=\"#000000\" fill-opacity=\"0.733333\">age = age ∈ int[26 55]</text>\n",
       "<text text-anchor=\"start\" x=\"503.77\" y=\"-373.55\" font-family=\"Red Hat Display,sans-serif\" font-size=\"11.00\" fill=\"#000000\" fill-opacity=\"0.733333\">gender = gender ∈ str{Female, Male}</text>\n",
       "<text text-anchor=\"start\" x=\"522.15\" y=\"-362.55\" font-family=\"Red Hat Display,sans-serif\" font-size=\"11.00\" fill=\"#000000\" fill-opacity=\"0.733333\">occupation = occupation ∈ str</text>\n",
       "<text text-anchor=\"start\" x=\"558.15\" y=\"-351.55\" font-family=\"Red Hat Display,sans-serif\" font-size=\"11.00\" fill=\"#000000\" fill-opacity=\"0.733333\">city = city ∈ str</text>\n",
       "<text text-anchor=\"start\" x=\"550.65\" y=\"-340.55\" font-family=\"Red Hat Display,sans-serif\" font-size=\"11.00\" fill=\"#000000\" fill-opacity=\"0.733333\">state = state ∈ str</text>\n",
       "</g>\n",
       "<!-- graph_kodt&#45;&gt;graph_e7tl -->\n",
       "<g id=\"edge3\" class=\"edge\">\n",
       "<title>graph_kodt&#45;&gt;graph_e7tl</title>\n",
       "<path fill=\"none\" stroke=\"#2b303a\" d=\"M592.27,-514.11C592.27,-508.55 592.27,-502.68 592.27,-496.67\"/>\n",
       "<polygon fill=\"#2b303a\" stroke=\"#2b303a\" points=\"595.78,-496.72 592.27,-486.72 588.78,-496.72 595.78,-496.72\"/>\n",
       "</g>\n",
       "<!-- graph_zcpn -->\n",
       "<g id=\"node21\" class=\"node\">\n",
       "<title>graph_zcpn</title>\n",
       "<path fill=\"#428e92\" stroke=\"#000000\" stroke-opacity=\"0.333333\" d=\"M712.42,-295.6C712.42,-295.6 472.12,-295.6 472.12,-295.6 466.12,-295.6 460.12,-289.6 460.12,-283.6 460.12,-283.6 460.12,-168.8 460.12,-168.8 460.12,-162.8 466.12,-156.8 472.12,-156.8 472.12,-156.8 712.42,-156.8 712.42,-156.8 718.42,-156.8 724.42,-162.8 724.42,-168.8 724.42,-168.8 724.42,-283.6 724.42,-283.6 724.42,-289.6 718.42,-295.6 712.42,-295.6\"/>\n",
       "<text text-anchor=\"start\" x=\"524.02\" y=\"-271.75\" font-family=\"Red Hat Display,sans-serif\" font-weight=\"bold\" font-size=\"11.00\" fill=\"#000000\" fill-opacity=\"0.733333\">MAP_XT3G size ∈ int[0 70]</text>\n",
       "<text text-anchor=\"start\" x=\"474.52\" y=\"-260.75\" font-family=\"Red Hat Display,sans-serif\" font-size=\"11.00\" fill=\"#000000\" fill-opacity=\"0.733333\">_PRIVACY_UNIT_ROW_ = random() ∈ float[0 1]</text>\n",
       "<text text-anchor=\"start\" x=\"552.52\" y=\"-249.75\" font-family=\"Red Hat Display,sans-serif\" font-size=\"11.00\" fill=\"#000000\" fill-opacity=\"0.733333\">id = id ∈ int[1 70]</text>\n",
       "<text text-anchor=\"start\" x=\"523.65\" y=\"-238.75\" font-family=\"Red Hat Display,sans-serif\" font-size=\"11.00\" fill=\"#000000\" fill-opacity=\"0.733333\">first_name = first_name ∈ str</text>\n",
       "<text text-anchor=\"start\" x=\"524.4\" y=\"-227.75\" font-family=\"Red Hat Display,sans-serif\" font-size=\"11.00\" fill=\"#000000\" fill-opacity=\"0.733333\">last_name = last_name ∈ str</text>\n",
       "<text text-anchor=\"start\" x=\"539.77\" y=\"-216.75\" font-family=\"Red Hat Display,sans-serif\" font-size=\"11.00\" fill=\"#000000\" fill-opacity=\"0.733333\">age = age ∈ int[26 55]</text>\n",
       "<text text-anchor=\"start\" x=\"503.77\" y=\"-205.75\" font-family=\"Red Hat Display,sans-serif\" font-size=\"11.00\" fill=\"#000000\" fill-opacity=\"0.733333\">gender = gender ∈ str{Female, Male}</text>\n",
       "<text text-anchor=\"start\" x=\"522.15\" y=\"-194.75\" font-family=\"Red Hat Display,sans-serif\" font-size=\"11.00\" fill=\"#000000\" fill-opacity=\"0.733333\">occupation = occupation ∈ str</text>\n",
       "<text text-anchor=\"start\" x=\"558.15\" y=\"-183.75\" font-family=\"Red Hat Display,sans-serif\" font-size=\"11.00\" fill=\"#000000\" fill-opacity=\"0.733333\">city = city ∈ str</text>\n",
       "<text text-anchor=\"start\" x=\"550.65\" y=\"-172.75\" font-family=\"Red Hat Display,sans-serif\" font-size=\"11.00\" fill=\"#000000\" fill-opacity=\"0.733333\">state = state ∈ str</text>\n",
       "</g>\n",
       "<!-- graph_e7tl&#45;&gt;graph_zcpn -->\n",
       "<g id=\"edge2\" class=\"edge\">\n",
       "<title>graph_e7tl&#45;&gt;graph_zcpn</title>\n",
       "<path fill=\"none\" stroke=\"#2b303a\" d=\"M592.27,-324.13C592.27,-318.39 592.27,-312.6 592.27,-306.86\"/>\n",
       "<polygon fill=\"#2b303a\" stroke=\"#2b303a\" points=\"595.78,-306.9 592.27,-296.9 588.78,-306.9 595.78,-306.9\"/>\n",
       "</g>\n",
       "<!-- graph_px87 -->\n",
       "<g id=\"node22\" class=\"node\">\n",
       "<title>graph_px87</title>\n",
       "<path fill=\"#ff1744\" stroke=\"#000000\" stroke-opacity=\"0.333333\" d=\"M728.17,-127.8C728.17,-127.8 456.38,-127.8 456.38,-127.8 450.38,-127.8 444.38,-121.8 444.38,-115.8 444.38,-115.8 444.38,-12 444.38,-12 444.38,-6 450.38,0 456.38,0 456.38,0 728.17,0 728.17,0 734.17,0 740.17,-6 740.17,-12 740.17,-12 740.17,-115.8 740.17,-115.8 740.17,-121.8 734.17,-127.8 728.17,-127.8\"/>\n",
       "<text text-anchor=\"start\" x=\"458.77\" y=\"-103.95\" font-family=\"Red Hat Display,sans-serif\" font-weight=\"bold\" font-size=\"11.00\" fill=\"#ffffff\" fill-opacity=\"0.733333\">CENSUS_SCHEMA_CENSUS_TABLE size ∈ int{70}</text>\n",
       "<text text-anchor=\"start\" x=\"552.52\" y=\"-92.95\" font-family=\"Red Hat Display,sans-serif\" font-size=\"11.00\" fill=\"#ffffff\" fill-opacity=\"0.733333\">id = id ∈ int[1 70]</text>\n",
       "<text text-anchor=\"start\" x=\"523.65\" y=\"-81.95\" font-family=\"Red Hat Display,sans-serif\" font-size=\"11.00\" fill=\"#ffffff\" fill-opacity=\"0.733333\">first_name = first_name ∈ str</text>\n",
       "<text text-anchor=\"start\" x=\"524.4\" y=\"-70.95\" font-family=\"Red Hat Display,sans-serif\" font-size=\"11.00\" fill=\"#ffffff\" fill-opacity=\"0.733333\">last_name = last_name ∈ str</text>\n",
       "<text text-anchor=\"start\" x=\"539.77\" y=\"-59.95\" font-family=\"Red Hat Display,sans-serif\" font-size=\"11.00\" fill=\"#ffffff\" fill-opacity=\"0.733333\">age = age ∈ int[26 55]</text>\n",
       "<text text-anchor=\"start\" x=\"503.77\" y=\"-48.95\" font-family=\"Red Hat Display,sans-serif\" font-size=\"11.00\" fill=\"#ffffff\" fill-opacity=\"0.733333\">gender = gender ∈ str{Female, Male}</text>\n",
       "<text text-anchor=\"start\" x=\"522.15\" y=\"-37.95\" font-family=\"Red Hat Display,sans-serif\" font-size=\"11.00\" fill=\"#ffffff\" fill-opacity=\"0.733333\">occupation = occupation ∈ str</text>\n",
       "<text text-anchor=\"start\" x=\"558.15\" y=\"-26.95\" font-family=\"Red Hat Display,sans-serif\" font-size=\"11.00\" fill=\"#ffffff\" fill-opacity=\"0.733333\">city = city ∈ str</text>\n",
       "<text text-anchor=\"start\" x=\"550.65\" y=\"-15.95\" font-family=\"Red Hat Display,sans-serif\" font-size=\"11.00\" fill=\"#ffffff\" fill-opacity=\"0.733333\">state = state ∈ str</text>\n",
       "</g>\n",
       "<!-- graph_zcpn&#45;&gt;graph_px87 -->\n",
       "<g id=\"edge1\" class=\"edge\">\n",
       "<title>graph_zcpn&#45;&gt;graph_px87</title>\n",
       "<path fill=\"none\" stroke=\"#2b303a\" d=\"M592.27,-156.75C592.27,-150.85 592.27,-144.86 592.27,-138.91\"/>\n",
       "<polygon fill=\"#2b303a\" stroke=\"#2b303a\" points=\"595.78,-139.29 592.27,-129.29 588.78,-139.29 595.78,-139.29\"/>\n",
       "</g>\n",
       "</g>\n",
       "</svg>\n"
      ],
      "text/plain": [
       "<graphviz.sources.Source at 0x1031f0fd0>"
      ]
     },
     "metadata": {},
     "output_type": "display_data"
    }
   ],
   "source": [
    "display(graphviz.Source(dp_relation.relation().dot()))"
   ]
  },
  {
   "cell_type": "markdown",
   "metadata": {},
   "source": [
    "In this example, the only invocked mechanism is a gaussain mechanism for adding noise to the count."
   ]
  },
  {
   "cell_type": "code",
   "execution_count": 7,
   "metadata": {},
   "outputs": [
    {
     "name": "stdout",
     "output_type": "stream",
     "text": [
      "{'name': 'Gaussian', 'noise': 3.776479532659047}\n"
     ]
    }
   ],
   "source": [
    "print(dp_relation.private_query().to_dict())"
   ]
  },
  {
   "cell_type": "markdown",
   "metadata": {},
   "source": [
    "Any `Relation` can be transformed into an SQL query: "
   ]
  },
  {
   "cell_type": "code",
   "execution_count": 8,
   "metadata": {},
   "outputs": [
    {
     "data": {
      "text/plain": [
       "\"WITH field_d4_o (field_d4_o) AS (SELECT * FROM (VALUES ('Female'), ('Male')) AS field_d4_o (field_d4_o)), map_xt3g (_PRIVACY_UNIT_ROW_, id, first_name, last_name, age, gender, occupation, city, state) AS (SELECT RANDOM() AS _PRIVACY_UNIT_ROW_, id AS id, first_name AS first_name, last_name AS last_name, age AS age, gender AS gender, occupation AS occupation, city AS city, state AS state FROM census_schema.census_table), map_lg9f (_PRIVACY_UNIT_, _PRIVACY_UNIT_WEIGHT_, _PRIVACY_UNIT_ROW_, id, first_name, last_name, age, gender, occupation, city, state) AS (SELECT MD5(CAST(_PRIVACY_UNIT_ROW_ AS TEXT)) AS _PRIVACY_UNIT_, 1 AS _PRIVACY_UNIT_WEIGHT_, _PRIVACY_UNIT_ROW_ AS _PRIVACY_UNIT_ROW_, id AS id, first_name AS first_name, last_name AS last_name, age AS age, gender AS gender, occupation AS occupation, city AS city, state AS state FROM map_xt3g), map_qazc (_PRIVACY_UNIT_, _PRIVACY_UNIT_WEIGHT_, field_n9r3, field_d4_o) AS (SELECT _PRIVACY_UNIT_ AS _PRIVACY_UNIT_, _PRIVACY_UNIT_WEIGHT_ AS _PRIVACY_UNIT_WEIGHT_, 1 AS field_n9r3, gender AS field_d4_o FROM map_lg9f), join_7g2y (field_d4_o, _PRIVACY_UNIT_, _PRIVACY_UNIT_WEIGHT_, field_n9r3, left__kq_o) AS (SELECT * FROM field_d4_o AS _LEFT_ LEFT JOIN map_qazc AS _RIGHT_ ON (_LEFT_.field_d4_o) = (_RIGHT_.field_d4_o)), map_m0yt (field_d4_o, _PRIVACY_UNIT_, _PRIVACY_UNIT_WEIGHT_, field_n9r3) AS (SELECT field_d4_o AS field_d4_o, _PRIVACY_UNIT_ AS _PRIVACY_UNIT_, _PRIVACY_UNIT_WEIGHT_ AS _PRIVACY_UNIT_WEIGHT_, field_n9r3 AS field_n9r3 FROM join_7g2y), map_8zdu (_PRIVACY_UNIT_, _PRIVACY_UNIT_WEIGHT_, field_d4_o, _ONE_field_n9r3) AS (SELECT COALESCE(CAST(_PRIVACY_UNIT_ AS TEXT), '_PRIVACY_UNIT_DEFAULT_') AS _PRIVACY_UNIT_, COALESCE(_PRIVACY_UNIT_WEIGHT_, 0) AS _PRIVACY_UNIT_WEIGHT_, field_d4_o AS field_d4_o, 1 AS _ONE_field_n9r3 FROM map_m0yt), map_o0i4 (field_1iro, field_grep, field_zyse) AS (SELECT _ONE_field_n9r3 AS field_1iro, _PRIVACY_UNIT_ AS field_grep, field_d4_o AS field_zyse FROM map_8zdu), reduce_0jsj (_PRIVACY_UNIT_, field_d4_o, _NORM__ONE_field_n9r3) AS (SELECT field_grep AS _PRIVACY_UNIT_, field_zyse AS field_d4_o, SUM(field_1iro) AS _NORM__ONE_field_n9r3 FROM map_o0i4 GROUP BY field_grep, field_zyse), map_nmof (_PRIVACY_UNIT_, field_d4_o, _NORM__ONE_field_n9r3) AS (SELECT _PRIVACY_UNIT_ AS _PRIVACY_UNIT_, field_d4_o AS field_d4_o, ABS((_NORM__ONE_field_n9r3) * (_NORM__ONE_field_n9r3)) AS _NORM__ONE_field_n9r3 FROM reduce_0jsj), map_x9z5 (field_7ra5, field_grep) AS (SELECT _NORM__ONE_field_n9r3 AS field_7ra5, _PRIVACY_UNIT_ AS field_grep FROM map_nmof), reduce_luy5 (_PRIVACY_UNIT_, _ONE_field_n9r3) AS (SELECT field_grep AS _PRIVACY_UNIT_, SUM(field_7ra5) AS _ONE_field_n9r3 FROM map_x9z5 GROUP BY field_grep), map_457p (_PRIVACY_UNIT_, _ONE_field_n9r3) AS (SELECT _PRIVACY_UNIT_ AS _PRIVACY_UNIT_, (1) / (GREATEST(1, (SQRT(_ONE_field_n9r3)) / (1))) AS _ONE_field_n9r3 FROM reduce_luy5), join_5il6 (_PRIVACY_UNIT_, _PRIVACY_UNIT_WEIGHT_, field_d4_o, _ONE_field_n9r3, _SCALE_FACTOR__PRIVACY_UNIT_, _SCALE_FACTOR__ONE_field_n9r3) AS (SELECT * FROM map_8zdu AS _LEFT_ JOIN map_457p AS _RIGHT_ ON (_LEFT_._PRIVACY_UNIT_) = (_RIGHT_._PRIVACY_UNIT_)), map_7513 (_PRIVACY_UNIT_, _PRIVACY_UNIT_WEIGHT_, field_d4_o, _ONE_field_n9r3, _SCALE_FACTOR__PRIVACY_UNIT_, _SCALE_FACTOR__ONE_field_n9r3, _CLIPPED__ONE_field_n9r3) AS (SELECT _PRIVACY_UNIT_ AS _PRIVACY_UNIT_, _PRIVACY_UNIT_WEIGHT_ AS _PRIVACY_UNIT_WEIGHT_, field_d4_o AS field_d4_o, _ONE_field_n9r3 AS _ONE_field_n9r3, _SCALE_FACTOR__PRIVACY_UNIT_ AS _SCALE_FACTOR__PRIVACY_UNIT_, _SCALE_FACTOR__ONE_field_n9r3 AS _SCALE_FACTOR__ONE_field_n9r3, (_ONE_field_n9r3) * (_SCALE_FACTOR__ONE_field_n9r3) AS _CLIPPED__ONE_field_n9r3 FROM join_5il6), map_k3r6 (field_8d51, field_zyse) AS (SELECT _CLIPPED__ONE_field_n9r3 AS field_8d51, field_d4_o AS field_zyse FROM map_7513), reduce_1rrq (field_d4_o, _COUNT_field_n9r3) AS (SELECT field_zyse AS field_d4_o, SUM(field_8d51) AS _COUNT_field_n9r3 FROM map_k3r6 GROUP BY field_zyse), map_rm81 (field_d4_o, _COUNT_field_n9r3) AS (SELECT field_d4_o AS field_d4_o, LEAST(140, GREATEST(0, (COALESCE(_COUNT_field_n9r3, 0)) + ((3.776479532659047) * ((SQRT((-2) * (LN(RANDOM())))) * (COS((6.283185307179586) * (RANDOM()))))))) AS _COUNT_field_n9r3 FROM reduce_1rrq), map_za8y (field_i4xy, field_d4_o) AS (SELECT CAST(_COUNT_field_n9r3 AS INTEGER) AS field_i4xy, field_d4_o AS field_d4_o FROM map_rm81), map_dfdw (field_d4_o, field_i4xy) AS (SELECT field_d4_o AS field_d4_o, field_i4xy AS field_i4xy FROM map_za8y), map_g205 (gender, count_all) AS (SELECT field_d4_o AS gender, field_i4xy AS count_all FROM map_dfdw) SELECT * FROM map_g205\""
      ]
     },
     "execution_count": 8,
     "metadata": {},
     "output_type": "execute_result"
    }
   ],
   "source": [
    "dp_sql_query = dp_relation.relation().render()\n",
    "dp_sql_query"
   ]
  },
  {
   "cell_type": "markdown",
   "metadata": {},
   "source": [
    "The DP query can then be sent to the database: "
   ]
  },
  {
   "cell_type": "code",
   "execution_count": 9,
   "metadata": {},
   "outputs": [
    {
     "data": {
      "text/html": [
       "<div>\n",
       "<style scoped>\n",
       "    .dataframe tbody tr th:only-of-type {\n",
       "        vertical-align: middle;\n",
       "    }\n",
       "\n",
       "    .dataframe tbody tr th {\n",
       "        vertical-align: top;\n",
       "    }\n",
       "\n",
       "    .dataframe thead th {\n",
       "        text-align: right;\n",
       "    }\n",
       "</style>\n",
       "<table border=\"1\" class=\"dataframe\">\n",
       "  <thead>\n",
       "    <tr style=\"text-align: right;\">\n",
       "      <th></th>\n",
       "      <th>gender</th>\n",
       "      <th>count_all</th>\n",
       "    </tr>\n",
       "  </thead>\n",
       "  <tbody>\n",
       "    <tr>\n",
       "      <th>0</th>\n",
       "      <td>Female</td>\n",
       "      <td>40</td>\n",
       "    </tr>\n",
       "    <tr>\n",
       "      <th>1</th>\n",
       "      <td>Male</td>\n",
       "      <td>33</td>\n",
       "    </tr>\n",
       "  </tbody>\n",
       "</table>\n",
       "</div>"
      ],
      "text/plain": [
       "   gender  count_all\n",
       "0  Female         40\n",
       "1    Male         33"
      ]
     },
     "execution_count": 9,
     "metadata": {},
     "output_type": "execute_result"
    }
   ],
   "source": [
    "dp_results = pd.read_sql(dp_sql_query, engine)\n",
    "dp_results"
   ]
  },
  {
   "cell_type": "markdown",
   "metadata": {},
   "source": [
    "This can be compared to the result of the original query: "
   ]
  },
  {
   "cell_type": "code",
   "execution_count": 10,
   "metadata": {},
   "outputs": [
    {
     "data": {
      "text/html": [
       "<div>\n",
       "<style scoped>\n",
       "    .dataframe tbody tr th:only-of-type {\n",
       "        vertical-align: middle;\n",
       "    }\n",
       "\n",
       "    .dataframe tbody tr th {\n",
       "        vertical-align: top;\n",
       "    }\n",
       "\n",
       "    .dataframe thead th {\n",
       "        text-align: right;\n",
       "    }\n",
       "</style>\n",
       "<table border=\"1\" class=\"dataframe\">\n",
       "  <thead>\n",
       "    <tr style=\"text-align: right;\">\n",
       "      <th></th>\n",
       "      <th>gender</th>\n",
       "      <th>count_all</th>\n",
       "    </tr>\n",
       "  </thead>\n",
       "  <tbody>\n",
       "    <tr>\n",
       "      <th>0</th>\n",
       "      <td>Female</td>\n",
       "      <td>35</td>\n",
       "    </tr>\n",
       "    <tr>\n",
       "      <th>1</th>\n",
       "      <td>Male</td>\n",
       "      <td>35</td>\n",
       "    </tr>\n",
       "  </tbody>\n",
       "</table>\n",
       "</div>"
      ],
      "text/plain": [
       "   gender  count_all\n",
       "0  Female         35\n",
       "1    Male         35"
      ]
     },
     "execution_count": 10,
     "metadata": {},
     "output_type": "execute_result"
    }
   ],
   "source": [
    "exact_results = pd.read_sql(query, engine)\n",
    "exact_results"
   ]
  },
  {
   "cell_type": "markdown",
   "metadata": {},
   "source": [
    "## Queries with `GROUP BY` clause\n",
    "\n",
    "f the grouping keys are not public, we utilize the $\\tau$-thresholding mechanism, which filters out keys with noisy counts below a specific threshold determined by the privacy parameters."
   ]
  },
  {
   "cell_type": "code",
   "execution_count": 11,
   "metadata": {},
   "outputs": [
    {
     "name": "stdout",
     "output_type": "stream",
     "text": [
      "[{'name': 'EpsilonDelta', 'epsilon': 2.5, 'delta': 0.00025}, {'name': 'Gaussian', 'noise': 5.2624632808831}, {'name': 'Gaussian', 'noise': 5.2624632808831}, {'name': 'Gaussian', 'noise': 289.4354804485705}]\n"
     ]
    }
   ],
   "source": [
    "query = \"\"\"\n",
    "    SELECT occupation as occupation, COUNT(*) AS count_occ, AVG(age) AS avg_age\n",
    "    FROM census_schema.census_table\n",
    "    GROUP BY occupation\n",
    "\"\"\"\n",
    "relation = ds.sql(query)\n",
    "privacy_unit = [\n",
    "    (\"census_table\", [], \"_PRIVACY_UNIT_ROW_\"),\n",
    "]\n",
    "synthetic_data = None\n",
    "\n",
    "dp_relation = relation.rewrite_with_differential_privacy(\n",
    "    dataset=ds,\n",
    "    synthetic_data=synthetic_data,\n",
    "    privacy_unit=privacy_unit,\n",
    "    epsilon_delta={\"epsilon\": 5.0, \"delta\": 5e-4}\n",
    ")\n",
    "print(dp_relation.private_query().to_dict())"
   ]
  },
  {
   "cell_type": "markdown",
   "metadata": {},
   "source": [
    "In that case, 3 gaussian mechanisms have been used for adding noise to the aggregations (1 for the count, 2 for the average) and a $(\\varepsilon, \\delta)$ mechanism for the $\\tau$-thresholding. \n",
    "\n",
    "If you execute the next cell multiple times, you will notice that the grouping keys may vary due to the randomness introduced by the $\\tau$-thresholding mechanism."
   ]
  },
  {
   "cell_type": "code",
   "execution_count": 12,
   "metadata": {},
   "outputs": [
    {
     "data": {
      "text/html": [
       "<div>\n",
       "<style scoped>\n",
       "    .dataframe tbody tr th:only-of-type {\n",
       "        vertical-align: middle;\n",
       "    }\n",
       "\n",
       "    .dataframe tbody tr th {\n",
       "        vertical-align: top;\n",
       "    }\n",
       "\n",
       "    .dataframe thead th {\n",
       "        text-align: right;\n",
       "    }\n",
       "</style>\n",
       "<table border=\"1\" class=\"dataframe\">\n",
       "  <thead>\n",
       "    <tr style=\"text-align: right;\">\n",
       "      <th></th>\n",
       "      <th>occupation</th>\n",
       "      <th>count_occ</th>\n",
       "      <th>avg_age</th>\n",
       "    </tr>\n",
       "  </thead>\n",
       "  <tbody>\n",
       "    <tr>\n",
       "      <th>0</th>\n",
       "      <td>Analyst</td>\n",
       "      <td>14</td>\n",
       "      <td>58.912788</td>\n",
       "    </tr>\n",
       "    <tr>\n",
       "      <th>1</th>\n",
       "      <td>Engineer</td>\n",
       "      <td>7</td>\n",
       "      <td>123.746800</td>\n",
       "    </tr>\n",
       "    <tr>\n",
       "      <th>2</th>\n",
       "      <td>Data Scientist</td>\n",
       "      <td>6</td>\n",
       "      <td>24.720432</td>\n",
       "    </tr>\n",
       "  </tbody>\n",
       "</table>\n",
       "</div>"
      ],
      "text/plain": [
       "       occupation  count_occ     avg_age\n",
       "0         Analyst         14   58.912788\n",
       "1        Engineer          7  123.746800\n",
       "2  Data Scientist          6   24.720432"
      ]
     },
     "execution_count": 12,
     "metadata": {},
     "output_type": "execute_result"
    }
   ],
   "source": [
    "dp_results = pd.read_sql(dp_relation.relation().render(), engine)\n",
    "dp_results"
   ]
  },
  {
   "cell_type": "markdown",
   "metadata": {},
   "source": [
    "We can also include the grouping keys in the query's `WHERE` clause. In this case, the grouping keys are treated as public, and they all appear in the result and the $\\tau$-thresholding mechnaism is not used. "
   ]
  },
  {
   "cell_type": "code",
   "execution_count": 13,
   "metadata": {},
   "outputs": [
    {
     "name": "stdout",
     "output_type": "stream",
     "text": [
      "[{'name': 'Gaussian', 'noise': 2.5346230440950324}, {'name': 'Gaussian', 'noise': 2.5346230440950324}, {'name': 'Gaussian', 'noise': 139.40426742522678}]\n"
     ]
    }
   ],
   "source": [
    "query = \"\"\"\n",
    "    SELECT occupation as occupation, COUNT(*) AS count_occ, AVG(age) AS avg_age\n",
    "    FROM census_schema.census_table\n",
    "    WHERE occupation in ('Analyst', 'Professor')\n",
    "    GROUP BY occupation\n",
    "\"\"\"\n",
    "relation = ds.sql(query)\n",
    "privacy_unit = [\n",
    "    (\"census_table\", [], \"_PRIVACY_UNIT_ROW_\"),\n",
    "]\n",
    "synthetic_data = None\n",
    "\n",
    "dp_relation = relation.rewrite_with_differential_privacy(\n",
    "    dataset=ds,\n",
    "    synthetic_data=synthetic_data,\n",
    "    privacy_unit=privacy_unit,\n",
    "    epsilon_delta={\"epsilon\": 5.0, \"delta\": 5e-4}\n",
    ")\n",
    "print(dp_relation.private_query().to_dict())"
   ]
  },
  {
   "cell_type": "code",
   "execution_count": 14,
   "metadata": {},
   "outputs": [
    {
     "data": {
      "text/html": [
       "<div>\n",
       "<style scoped>\n",
       "    .dataframe tbody tr th:only-of-type {\n",
       "        vertical-align: middle;\n",
       "    }\n",
       "\n",
       "    .dataframe tbody tr th {\n",
       "        vertical-align: top;\n",
       "    }\n",
       "\n",
       "    .dataframe thead th {\n",
       "        text-align: right;\n",
       "    }\n",
       "</style>\n",
       "<table border=\"1\" class=\"dataframe\">\n",
       "  <thead>\n",
       "    <tr style=\"text-align: right;\">\n",
       "      <th></th>\n",
       "      <th>occupation</th>\n",
       "      <th>count_occ</th>\n",
       "      <th>avg_age</th>\n",
       "    </tr>\n",
       "  </thead>\n",
       "  <tbody>\n",
       "    <tr>\n",
       "      <th>0</th>\n",
       "      <td>Professor</td>\n",
       "      <td>7</td>\n",
       "      <td>332.440414</td>\n",
       "    </tr>\n",
       "    <tr>\n",
       "      <th>1</th>\n",
       "      <td>Analyst</td>\n",
       "      <td>13</td>\n",
       "      <td>47.714076</td>\n",
       "    </tr>\n",
       "  </tbody>\n",
       "</table>\n",
       "</div>"
      ],
      "text/plain": [
       "  occupation  count_occ     avg_age\n",
       "0  Professor          7  332.440414\n",
       "1    Analyst         13   47.714076"
      ]
     },
     "execution_count": 14,
     "metadata": {},
     "output_type": "execute_result"
    }
   ],
   "source": [
    "dp_results = pd.read_sql(dp_relation.relation().render(), engine)\n",
    "dp_results"
   ]
  },
  {
   "cell_type": "markdown",
   "metadata": {},
   "source": [
    "## Not DP-compilable queries\n",
    "\n",
    "If the query cannot by DP-compiled by `qrlew` and no synthetic data have been provided, then `qrlew` returns an error."
   ]
  },
  {
   "cell_type": "code",
   "execution_count": 15,
   "metadata": {},
   "outputs": [
    {
     "ename": "RuntimeError",
     "evalue": "UnreachableProperty: differential_privacy is unreachable\n",
     "output_type": "error",
     "traceback": [
      "\u001b[0;31m---------------------------------------------------------------------------\u001b[0m",
      "\u001b[0;31mRuntimeError\u001b[0m                              Traceback (most recent call last)",
      "Cell \u001b[0;32mIn[15], line 12\u001b[0m\n\u001b[1;32m      7\u001b[0m privacy_unit \u001b[38;5;241m=\u001b[39m [\n\u001b[1;32m      8\u001b[0m     (\u001b[38;5;124m\"\u001b[39m\u001b[38;5;124mcensus_table\u001b[39m\u001b[38;5;124m\"\u001b[39m, [], \u001b[38;5;124m\"\u001b[39m\u001b[38;5;124m_PRIVACY_UNIT_ROW_\u001b[39m\u001b[38;5;124m\"\u001b[39m),\n\u001b[1;32m      9\u001b[0m ]\n\u001b[1;32m     10\u001b[0m synthetic_data \u001b[38;5;241m=\u001b[39m \u001b[38;5;28;01mNone\u001b[39;00m\n\u001b[0;32m---> 12\u001b[0m dp_relation \u001b[38;5;241m=\u001b[39m \u001b[43mrelation\u001b[49m\u001b[38;5;241;43m.\u001b[39;49m\u001b[43mrewrite_with_differential_privacy\u001b[49m\u001b[43m(\u001b[49m\n\u001b[1;32m     13\u001b[0m \u001b[43m    \u001b[49m\u001b[43mdataset\u001b[49m\u001b[38;5;241;43m=\u001b[39;49m\u001b[43mds\u001b[49m\u001b[43m,\u001b[49m\n\u001b[1;32m     14\u001b[0m \u001b[43m    \u001b[49m\u001b[43msynthetic_data\u001b[49m\u001b[38;5;241;43m=\u001b[39;49m\u001b[43msynthetic_data\u001b[49m\u001b[43m,\u001b[49m\n\u001b[1;32m     15\u001b[0m \u001b[43m    \u001b[49m\u001b[43mprivacy_unit\u001b[49m\u001b[38;5;241;43m=\u001b[39;49m\u001b[43mprivacy_unit\u001b[49m\u001b[43m,\u001b[49m\n\u001b[1;32m     16\u001b[0m \u001b[43m    \u001b[49m\u001b[43mepsilon_delta\u001b[49m\u001b[38;5;241;43m=\u001b[39;49m\u001b[43m{\u001b[49m\u001b[38;5;124;43m\"\u001b[39;49m\u001b[38;5;124;43mepsilon\u001b[39;49m\u001b[38;5;124;43m\"\u001b[39;49m\u001b[43m:\u001b[49m\u001b[43m \u001b[49m\u001b[38;5;241;43m5.0\u001b[39;49m\u001b[43m,\u001b[49m\u001b[43m \u001b[49m\u001b[38;5;124;43m\"\u001b[39;49m\u001b[38;5;124;43mdelta\u001b[39;49m\u001b[38;5;124;43m\"\u001b[39;49m\u001b[43m:\u001b[49m\u001b[43m \u001b[49m\u001b[38;5;241;43m5e-4\u001b[39;49m\u001b[43m}\u001b[49m\n\u001b[1;32m     17\u001b[0m \u001b[43m)\u001b[49m\u001b[38;5;241m.\u001b[39mrelation()\n\u001b[1;32m     18\u001b[0m dp_results \u001b[38;5;241m=\u001b[39m pd\u001b[38;5;241m.\u001b[39mread_sql(dp_relation\u001b[38;5;241m.\u001b[39mrender(), engine)\n\u001b[1;32m     19\u001b[0m dp_results\n",
      "\u001b[0;31mRuntimeError\u001b[0m: UnreachableProperty: differential_privacy is unreachable\n"
     ]
    }
   ],
   "source": [
    "query = \"\"\"\n",
    "    SELECT occupation as occupation, MAX(age) AS max_age\n",
    "    FROM census_schema.census_table\n",
    "    GROUP BY occupation\n",
    "\"\"\"\n",
    "relation = ds.sql(query)\n",
    "privacy_unit = [\n",
    "    (\"census_table\", [], \"_PRIVACY_UNIT_ROW_\"),\n",
    "]\n",
    "synthetic_data = None\n",
    "try:\n",
    "    dp_relation = relation.rewrite_with_differential_privacy(\n",
    "        dataset=ds,\n",
    "        synthetic_data=synthetic_data,\n",
    "        privacy_unit=privacy_unit,\n",
    "        epsilon_delta={\"epsilon\": 5.0, \"delta\": 5e-4}\n",
    "    ).relation()\n",
    "    dp_results = pd.read_sql(dp_relation.render(), engine)\n",
    "    dp_results\n",
    "except RuntimeError as e:\n",
    "    print(f\"The error is: {e}\")"
   ]
  },
  {
   "cell_type": "markdown",
   "metadata": {},
   "source": [
    "If the user provides the list of the original and synthetic tables, then the query is sent to the synthetic tables and no budget has been spent. "
   ]
  },
  {
   "cell_type": "code",
   "execution_count": 16,
   "metadata": {},
   "outputs": [
    {
     "name": "stdout",
     "output_type": "stream",
     "text": [
      "{'name': 'EpsilonDelta', 'epsilon': 0.0, 'delta': 0.0}\n"
     ]
    }
   ],
   "source": [
    "query = \"\"\"\n",
    "    SELECT occupation as occupation, MAX(age) AS max_age\n",
    "    FROM census_schema.census_table\n",
    "    GROUP BY occupation\n",
    "\"\"\"\n",
    "relation = ds.sql(query)\n",
    "privacy_unit = [(\"census_table\", [], \"_PRIVACY_UNIT_ROW_\")]\n",
    "synthetic_data = [\n",
    "    ([\"census_schema\", \"census_table\"], [\"census_schema\", \"synthetic_census_table\"])\n",
    "]\n",
    "\n",
    "dp_relation = relation.rewrite_with_differential_privacy(\n",
    "    dataset=ds,\n",
    "    synthetic_data=synthetic_data,\n",
    "    privacy_unit=privacy_unit,\n",
    "    epsilon_delta={\"epsilon\": 5.0, \"delta\": 5e-4}\n",
    ")\n",
    "print(dp_relation.private_query().to_dict())"
   ]
  }
 ],
 "metadata": {
  "kernelspec": {
   "display_name": "myenv",
   "language": "python",
   "name": "python3"
  },
  "language_info": {
   "codemirror_mode": {
    "name": "ipython",
    "version": 3
   },
   "file_extension": ".py",
   "mimetype": "text/x-python",
   "name": "python",
   "nbconvert_exporter": "python",
   "pygments_lexer": "ipython3",
   "version": "3.9.0"
  }
 },
 "nbformat": 4,
 "nbformat_minor": 2
}
