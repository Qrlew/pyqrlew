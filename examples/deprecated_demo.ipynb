{
 "cells": [
  {
   "cell_type": "code",
   "execution_count": 1,
   "id": "08f55d69",
   "metadata": {},
   "outputs": [
    {
     "name": "stderr",
     "output_type": "stream",
     "text": [
      "UsageError: Cell magic `%%shell` not found.\n"
     ]
    }
   ],
   "source": [
    "%%shell\n",
    "# Inspred by https://colab.research.google.com/github/tensorflow/io/blob/master/docs/tutorials/postgresql.ipynb#scrollTo=YUj0878jPyz7\n",
    "sudo apt-get -y -qq update\n",
    "sudo apt-get -y -qq install postgresql-14\n",
    "# Start postgresql server\n",
    "sudo sed -i \"s/port = 5432/port = 5433/g\" /etc/postgresql/14/main/postgresql.conf\n",
    "sudo service postgresql start\n",
    "# Set password\n",
    "sudo -u postgres psql -U postgres -c \"ALTER USER postgres PASSWORD 'pyqrlew-db'\"\n",
    "# Install python packages\n",
    "pip install -U pyqrlew graphviz"
   ]
  },
  {
   "cell_type": "code",
   "execution_count": 2,
   "id": "e5331167",
   "metadata": {},
   "outputs": [
    {
     "name": "stderr",
     "output_type": "stream",
     "text": [
      "Error response from daemon: network with name qrlew-net already exists\n"
     ]
    }
   ],
   "source": [
    "from pyqrlew.io import PostgreSQL\n",
    "# Read data\n",
    "db = PostgreSQL()\n",
    "dataset = db.retail()"
   ]
  },
  {
   "cell_type": "code",
   "execution_count": 3,
   "id": "b6df624a",
   "metadata": {},
   "outputs": [
    {
     "data": {
      "text/plain": [
       "[(['retail', 'features'], <Relation at 0x109758cc0>),\n",
       " (['retail', 'sales'], <Relation at 0x109758d80>),\n",
       " (['retail', 'stores'], <Relation at 0x109758f90>)]"
      ]
     },
     "execution_count": 3,
     "metadata": {},
     "output_type": "execute_result"
    }
   ],
   "source": [
    "dataset.relations()"
   ]
  },
  {
   "cell_type": "code",
   "execution_count": 7,
   "id": "af244afb",
   "metadata": {},
   "outputs": [
    {
     "name": "stdout",
     "output_type": "stream",
     "text": [
      "\u001b[1;31mretail_features\u001b[0m\n"
     ]
    }
   ],
   "source": [
    "print(dataset.relations()[0][1])"
   ]
  },
  {
   "attachments": {},
   "cell_type": "markdown",
   "id": "b5b0d42f",
   "metadata": {},
   "source": [
    "# Utils"
   ]
  },
  {
   "cell_type": "code",
   "execution_count": 8,
   "id": "bcde67e8",
   "metadata": {},
   "outputs": [],
   "source": [
    "from IPython.display import display\n",
    "import graphviz\n",
    "\n",
    "def display_dot(dot_graph): \n",
    "    display(graphviz.Source(dot_graph))"
   ]
  },
  {
   "cell_type": "code",
   "execution_count": null,
   "id": "3ef073b7",
   "metadata": {},
   "outputs": [],
   "source": [
    "MAGENTA_COLOR = '\\033[35m'  \n",
    "BLUE_COLOR = '\\033[34m'\n",
    "RESET_COLOR = '\\033[0m'    \n",
    "\n",
    "def print_query(query: str):\n",
    "    keywords = [\"SELECT\", \"AS\", \"GROUP BY\", \"LIMIT\", \"ORDER BY\", \"WHERE\"]\n",
    "    colored_query = query\n",
    "    colored_query = colored_query.replace(\"WITH\", \"WITH\\n \")\n",
    "    colored_query = colored_query.replace(\" SELECT\", \"\\nSELECT\")\n",
    "    colored_query = colored_query.replace(\"),\", \"),\\n \") \n",
    "    for word in keywords:\n",
    "        colored_query = colored_query.replace(word, MAGENTA_COLOR + word + RESET_COLOR)\n",
    "    colored_query = colored_query.replace(\"WITH\", BLUE_COLOR + \"WITH\" + RESET_COLOR)\n",
    "    print(colored_query)\n",
    "\n",
    "print_query(\"WITH customers AS (SELECT * FROM table) SELECT * FROM customers WHERE age > 25\")"
   ]
  },
  {
   "cell_type": "code",
   "execution_count": 9,
   "id": "9f98d702",
   "metadata": {},
   "outputs": [
    {
     "name": "stdout",
     "output_type": "stream",
     "text": [
      "\"{\u001b[31m_PROTECTED_ENTITY_ID_\u001b[0m: \u001b[33moption\u001b[0m(str), \u001b[31m_PROTECTED_ENTITY_WEIGHT_\u001b[0m: \u001b[34mint\u001b[0m[0 1469283], field_l_2l: \u001b[34mfloat\u001b[0m[0 2468395440]}\"\n"
     ]
    }
   ],
   "source": [
    "import json\n",
    "from termcolor import colored\n",
    "\n",
    "def to_json(str_schema: str):\n",
    "    str_schema_to_json = str_schema.replace(\" \", \"\")\n",
    "    str_schema_to_json = str_schema_to_json.replace(\"{\", '{\"')\n",
    "    str_schema_to_json = str_schema_to_json.replace(\":\", '\":\"')\n",
    "    str_schema_to_json = str_schema_to_json.replace(\",\", '\",\"')\n",
    "    str_schema_to_json = str_schema_to_json.replace(\"}\", '\"}')\n",
    "    return json.loads(str_schema_to_json)\n",
    "\n",
    "def print_colored_json(json_data):\n",
    "    formatted_json = json.dumps(json_data, indent=4)\n",
    "    colored_json = highlight_keywords(formatted_json)\n",
    "    print(colored_json)\n",
    "\n",
    "def highlight_keywords(json_string):\n",
    "    keywords = {\n",
    "        \"_PROTECTED_ENTITY_ID_\": \"red\", \n",
    "        \"_PROTECTED_ENTITY_WEIGHT_\": \"red\", \n",
    "        \"option\": \"yellow\",\n",
    "        \"float\": \"blue\", \n",
    "        \"int\": \"blue\"\n",
    "    }\n",
    "    for keyword, color in keywords.items():\n",
    "        json_string = json_string.replace(keyword, colored(keyword, color))\n",
    "    return json_string\n",
    "\n",
    "str_schema = '{_PROTECTED_ENTITY_ID_: option(str), _PROTECTED_ENTITY_WEIGHT_: int[0 1469283], field_l_2l: float[0 2468395440]}'\n",
    "\n",
    "print_colored_json(str_schema)\n"
   ]
  },
  {
   "cell_type": "code",
   "execution_count": 11,
   "id": "6ad6e60d",
   "metadata": {},
   "outputs": [
    {
     "data": {
      "text/plain": [
       "<pyqrlew.io.postgresql.PostgreSQL at 0x1043891c0>"
      ]
     },
     "execution_count": 11,
     "metadata": {},
     "output_type": "execute_result"
    }
   ],
   "source": [
    "db"
   ]
  },
  {
   "cell_type": "code",
   "execution_count": 10,
   "id": "9b814a57",
   "metadata": {},
   "outputs": [
    {
     "ename": "AttributeError",
     "evalue": "'PostgreSQL' object has no attribute 'sql'",
     "output_type": "error",
     "traceback": [
      "\u001b[0;31m---------------------------------------------------------------------------\u001b[0m",
      "\u001b[0;31mAttributeError\u001b[0m                            Traceback (most recent call last)",
      "Cell \u001b[0;32mIn[10], line 2\u001b[0m\n\u001b[1;32m      1\u001b[0m \u001b[39mimport\u001b[39;00m \u001b[39mpandas\u001b[39;00m \u001b[39mas\u001b[39;00m \u001b[39mpd\u001b[39;00m\n\u001b[0;32m----> 2\u001b[0m pd\u001b[39m.\u001b[39mDataFrame(db\u001b[39m.\u001b[39;49msql(\u001b[39m\"\u001b[39m\u001b[39mSELECT * FROM retail.features LIMIT 5\u001b[39m\u001b[39m\"\u001b[39m))\n",
      "\u001b[0;31mAttributeError\u001b[0m: 'PostgreSQL' object has no attribute 'sql'"
     ]
    }
   ],
   "source": [
    "import pandas as pd\n",
    "pd.DataFrame(db.execute(\"SELECT * FROM retail.features LIMIT 5\"))"
   ]
  },
  {
   "cell_type": "code",
   "execution_count": null,
   "id": "0cff9dee",
   "metadata": {},
   "outputs": [],
   "source": [
    "import matplotlib.pyplot as plt\n",
    "\n",
    "def plot_hist(true_value, data, query):\n",
    "    plt.axvline(true_value, color='red', label=\"True\")\n",
    "    for e, d in data.items():\n",
    "        plt.hist(d, bins=10, alpha=0.5, label = f\"eps = {e}\")\n",
    "    plt.legend()\n",
    "    plt.title(query)"
   ]
  },
  {
   "cell_type": "code",
   "execution_count": null,
   "id": "658e5eb1",
   "metadata": {},
   "outputs": [],
   "source": [
    "N_RUNS = 100\n",
    "\n",
    "def run(dataset, query, epsilons):\n",
    "    data = {}\n",
    "    str_pe = \"\"\"\n",
    "    {\n",
    "    \"protected_entity\": [\n",
    "        [\"stores\", [[\"store\", \"features\", \"store\"]], \"id\"],\n",
    "        [\"features\", [], \"id\"],\n",
    "        [\"sales\", [], \"id\"]\n",
    "    ]\n",
    "    }\n",
    "    \"\"\"\n",
    "    delta  = 1e-1\n",
    "    relation = dataset.sql(query)\n",
    "    for epsilon in epsilons: \n",
    "        dp_relation = relation.dp_compilation(\n",
    "            dataset,\n",
    "            str_pe,\n",
    "            epsilon, \n",
    "            delta\n",
    "        )\n",
    "        dp_query = dp_relation.render()\n",
    "        data[epsilon] = [\n",
    "            execute_query(dp_query)[\"my_sum\"][0] for _ in range(N_RUNS)\n",
    "        ]\n",
    "    return data"
   ]
  },
  {
   "attachments": {},
   "cell_type": "markdown",
   "id": "d7b86d16",
   "metadata": {},
   "source": [
    "# Read Data"
   ]
  },
  {
   "attachments": {},
   "cell_type": "markdown",
   "id": "8d9769d0",
   "metadata": {},
   "source": [
    "For this demo, we use the retail dataset containing 3 tables: \n",
    " - features\n",
    " - sales\n",
    " - stores"
   ]
  },
  {
   "attachments": {},
   "cell_type": "markdown",
   "id": "ada2d2e9",
   "metadata": {},
   "source": [
    "We create a `Dataset` object from json files describing the tables and the columns (type, min, max, possible values .. ) of the dataset."
   ]
  },
  {
   "attachments": {},
   "cell_type": "markdown",
   "id": "3a2d007f",
   "metadata": {},
   "source": [
    "All the tables have been converted into `Relation` object: "
   ]
  },
  {
   "cell_type": "code",
   "execution_count": null,
   "id": "57f50658",
   "metadata": {},
   "outputs": [],
   "source": [
    "dataset.relations()"
   ]
  },
  {
   "attachments": {},
   "cell_type": "markdown",
   "id": "7b7041cb",
   "metadata": {},
   "source": [
    "The corresponding `Relation` is given by: "
   ]
  },
  {
   "cell_type": "code",
   "execution_count": null,
   "id": "7d58ea33",
   "metadata": {},
   "outputs": [],
   "source": [
    "display_dot(dataset.relations()[0][1].dot())"
   ]
  },
  {
   "attachments": {},
   "cell_type": "markdown",
   "id": "31c4f466",
   "metadata": {},
   "source": [
    "A `Relation` contains information about the data types of each columns."
   ]
  },
  {
   "attachments": {},
   "cell_type": "markdown",
   "id": "5b28a481",
   "metadata": {},
   "source": [
    "# Create a relation from an SQL query"
   ]
  },
  {
   "attachments": {},
   "cell_type": "markdown",
   "id": "711d8800",
   "metadata": {},
   "source": [
    "We can create a `Relation` from a `Dataset` and an SQL query: "
   ]
  },
  {
   "cell_type": "code",
   "execution_count": null,
   "id": "81779c39",
   "metadata": {},
   "outputs": [],
   "source": [
    "relation = dataset.sql('SELECT fuel_price As fuel_price FROM \"retail.features\"')\n",
    "display_dot(relation.dot())"
   ]
  },
  {
   "cell_type": "code",
   "execution_count": null,
   "id": "e63ab24a",
   "metadata": {},
   "outputs": [],
   "source": [
    "relation = dataset.sql('SELECT 3 * fuel_price AS fuel_price_3 FROM \"retail.features\"')\n",
    "display_dot(relation.dot())"
   ]
  },
  {
   "attachments": {},
   "cell_type": "markdown",
   "id": "20134753",
   "metadata": {},
   "source": [
    "The data types have been propagated without any query to the database. \n",
    "\n",
    "\n",
    "We can try with an aggregation: "
   ]
  },
  {
   "cell_type": "code",
   "execution_count": null,
   "id": "7f961070",
   "metadata": {},
   "outputs": [],
   "source": [
    "query = 'SELECT SUM(fuel_price) As sum_fuel_price FROM \"retail.features\"'\n",
    "relation = dataset.sql(query)\n",
    "display_dot(relation.dot())"
   ]
  },
  {
   "attachments": {},
   "cell_type": "markdown",
   "id": "5cba3f9d",
   "metadata": {},
   "source": [
    "Convert the `Relation` to an SQL query: "
   ]
  },
  {
   "cell_type": "code",
   "execution_count": null,
   "id": "430f8252",
   "metadata": {},
   "outputs": [],
   "source": [
    "#SELECT SUM(fuel_price) As sum_fuel_price FROM features\n",
    "print_query(relation.render())"
   ]
  },
  {
   "attachments": {},
   "cell_type": "markdown",
   "id": "283a0a2e",
   "metadata": {},
   "source": [
    "We send this query to the DB: "
   ]
  },
  {
   "cell_type": "code",
   "execution_count": null,
   "id": "854e4254",
   "metadata": {},
   "outputs": [],
   "source": [
    "res = db.eval(relation)\n",
    "pd.DataFrame(res)"
   ]
  },
  {
   "attachments": {},
   "cell_type": "markdown",
   "id": "55412614",
   "metadata": {},
   "source": [
    "Which gives the same results than the initial query: "
   ]
  },
  {
   "cell_type": "code",
   "execution_count": null,
   "id": "6cd5372c",
   "metadata": {},
   "outputs": [],
   "source": [
    "true_res = db.sql(query.replace('\"', ''))\n",
    "pd.DataFrame(true_res)"
   ]
  },
  {
   "attachments": {},
   "cell_type": "markdown",
   "id": "0504ba22",
   "metadata": {},
   "source": [
    "# Protection"
   ]
  },
  {
   "cell_type": "code",
   "execution_count": null,
   "id": "47aa6d9d",
   "metadata": {},
   "outputs": [],
   "source": [
    "query"
   ]
  },
  {
   "attachments": {},
   "cell_type": "markdown",
   "id": "03512632",
   "metadata": {},
   "source": [
    "The `protect` method transforms the initial `Relation` into a `Relation` where the protected entities are preserved, i.e. each row is owned by ony one individual. \n",
    "\n",
    "It inputs: \n",
    "- a `Dataset`\n",
    "- a json string that contains the protected entity of each table:"
   ]
  },
  {
   "cell_type": "code",
   "execution_count": null,
   "id": "193babf4",
   "metadata": {},
   "outputs": [],
   "source": [
    "str_pe = \"\"\"\n",
    "{\n",
    "  \"protected_entity\": [\n",
    "    [\"retail.stores\", [[\"store\", \"retail.features\", \"store\"]], \"id\"], \n",
    "    [\"retail.features\", [], \"id\"], \n",
    "    [\"retail.sales\", [], \"id\"]\n",
    "  ]\n",
    "}\n",
    "\"\"\""
   ]
  },
  {
   "attachments": {},
   "cell_type": "markdown",
   "id": "109e9605",
   "metadata": {},
   "source": [
    "The protected entity of `features` is its column `id`:"
   ]
  },
  {
   "cell_type": "code",
   "execution_count": null,
   "id": "aa41f2fe",
   "metadata": {},
   "outputs": [],
   "source": [
    "_relation = dataset.sql('SELECT fuel_price FROM \"retail.features\"')\n",
    "_protected_relation = _relation.protect(\n",
    "    dataset,\n",
    "    str_pe\n",
    ")\n",
    "display_dot(_protected_relation.dot())"
   ]
  },
  {
   "attachments": {},
   "cell_type": "markdown",
   "id": "e7912de9",
   "metadata": {},
   "source": [
    "The protected entity of `stores` is the `id` column of `features`:"
   ]
  },
  {
   "cell_type": "code",
   "execution_count": null,
   "id": "d6f725db",
   "metadata": {},
   "outputs": [],
   "source": [
    "display_dot(dataset.relations()[2][1].dot())"
   ]
  },
  {
   "cell_type": "code",
   "execution_count": null,
   "id": "e5a5efc6",
   "metadata": {},
   "outputs": [],
   "source": [
    "#protected entity: [\"retail.stores\", [[\"store\", \"retail.features\", \"store\"]], \"id\"]\n",
    "_relation = dataset.sql('SELECT * FROM \"retail.stores\"')\n",
    "_protected_relation = _relation.protect(\n",
    "    dataset,\n",
    "    str_pe\n",
    ")\n",
    "display_dot(_protected_relation.dot())"
   ]
  },
  {
   "attachments": {},
   "cell_type": "markdown",
   "id": "8459b402",
   "metadata": {},
   "source": [
    "We apply `protect`  to the `Relation` build from `SELECT SUM(fuel_price) As sum_fuel_price FROM features`:"
   ]
  },
  {
   "cell_type": "code",
   "execution_count": null,
   "id": "c344ed97",
   "metadata": {},
   "outputs": [],
   "source": [
    "protected_relation = relation.protect(\n",
    "    dataset,\n",
    "    str_pe\n",
    ")\n",
    "display_dot(protected_relation.dot())"
   ]
  },
  {
   "attachments": {},
   "cell_type": "markdown",
   "id": "d57d5831",
   "metadata": {},
   "source": [
    "The protection reorganises the inital `Relation` so that the output `Relation` preserves the protected entity : **in the protected `Relation`, we are sure than each row is owned by only one individual.**\n",
    "\n",
    "In our example, the initial `SUM` over the entire dataset has been replaced by a `SUM` groupped by the protected entities. "
   ]
  },
  {
   "cell_type": "code",
   "execution_count": null,
   "id": "0147502c",
   "metadata": {},
   "outputs": [],
   "source": [
    "print_colored_json(protected_relation.schema())"
   ]
  },
  {
   "cell_type": "code",
   "execution_count": null,
   "id": "44206c20",
   "metadata": {},
   "outputs": [],
   "source": [
    "print_query(protected_relation.render())"
   ]
  },
  {
   "cell_type": "code",
   "execution_count": null,
   "id": "a33eda45",
   "metadata": {},
   "outputs": [],
   "source": [
    "pd.DataFrame(db.sql(\"SELECT * FROM retail.features\"))"
   ]
  },
  {
   "cell_type": "code",
   "execution_count": null,
   "id": "4be9b38d",
   "metadata": {},
   "outputs": [],
   "source": [
    "print_query(protected_relation.render())"
   ]
  },
  {
   "cell_type": "code",
   "execution_count": null,
   "id": "d44df9ac",
   "metadata": {},
   "outputs": [],
   "source": [
    "db.eval(protected_relation)"
   ]
  },
  {
   "cell_type": "code",
   "execution_count": null,
   "id": "2405254f",
   "metadata": {},
   "outputs": [],
   "source": [
    "db.eval(protected_relation)"
   ]
  },
  {
   "attachments": {},
   "cell_type": "markdown",
   "id": "df3210f6",
   "metadata": {},
   "source": [
    "We have one sum per protected entity. If we sum all the rows, we find the same results than with the initial query: "
   ]
  },
  {
   "cell_type": "code",
   "execution_count": null,
   "id": "714c97a5",
   "metadata": {},
   "outputs": [],
   "source": [
    "#SELECT SUM(fuel_price) As sum_fuel_price FROM features\n",
    "true_res = db.query(query)\n",
    "summed_res = db.eval(relation.render()).sum()\n",
    "\n",
    "print(f\"Initial query:                       sum_fuel_price: {true_res.iloc[0][0]}\")\n",
    "print(f\"Sum over the all protected entities: sum_fuel_price: {summed_res[0]}\")"
   ]
  },
  {
   "attachments": {},
   "cell_type": "markdown",
   "id": "ffd448af",
   "metadata": {},
   "source": [
    "# Dp compilation"
   ]
  },
  {
   "attachments": {},
   "cell_type": "markdown",
   "id": "fac10e08",
   "metadata": {},
   "source": [
    "With the `dp_compilation` method, we transform a query into its differentially private equivalent. \n",
    "\n",
    "It inputs: \n",
    "- the privacy parameters `epsilon` and `delta`\n",
    "- a json string containing the protected entities of each table\n",
    "- a `Dataset`\n",
    "- an SQL query"
   ]
  },
  {
   "cell_type": "code",
   "execution_count": null,
   "id": "9b989849",
   "metadata": {},
   "outputs": [],
   "source": [
    "str_pe = \"\"\"\n",
    "{\n",
    "  \"protected_entity\": [\n",
    "    [\"stores\", [[\"store\", \"features\", \"store\"]], \"id\"], \n",
    "    [\"features\", [], \"id\"],\n",
    "    [\"sales\", [], \"id\"]\n",
    "  ]\n",
    "}\n",
    "\"\"\"\n",
    "epsilon = 1. \n",
    "delta  = 1e-3\n",
    "relation = dataset.sql(\"SELECT SUM(fuel_price) AS my_sum FROM retail.features\")\n",
    "dp_relation = relation.dp_compilation(\n",
    "    dataset,\n",
    "    str_pe,\n",
    "    epsilon, \n",
    "    delta\n",
    ")"
   ]
  },
  {
   "cell_type": "code",
   "execution_count": null,
   "id": "fd1670d3",
   "metadata": {},
   "outputs": [],
   "source": [
    "display(graphviz.Source(dp_relation.dot()))"
   ]
  },
  {
   "cell_type": "code",
   "execution_count": null,
   "id": "e17064c4",
   "metadata": {},
   "outputs": [],
   "source": [
    "print_query(protected_relation.render())"
   ]
  },
  {
   "cell_type": "code",
   "execution_count": null,
   "id": "30d8afd9",
   "metadata": {},
   "outputs": [],
   "source": [
    "true_res = db.query(query)\n",
    "res = db.eval(dp_relation)\n",
    "\n",
    "print(f\"Initial query:                         SUM(fuel_price): {true_res.iloc[0][0]}\")\n",
    "print(\"Sum over the all protected entities:   SUM(fuel_price): \", res[\"my_sum\"][0])"
   ]
  },
  {
   "cell_type": "code",
   "execution_count": null,
   "id": "66b29b60",
   "metadata": {},
   "outputs": [],
   "source": [
    "true_value = true_res.iloc[0][0]\n",
    "query = \"SELECT SUM(fuel_price) AS my_sum FROM features\"\n",
    "data = run(dataset, query, [0.1, 1., 2.])"
   ]
  },
  {
   "cell_type": "code",
   "execution_count": null,
   "id": "a875ac4e",
   "metadata": {},
   "outputs": [],
   "source": [
    "plot_hist(true_value, data, query)"
   ]
  }
 ],
 "metadata": {
  "kernelspec": {
   "display_name": "Python 3 (ipykernel)",
   "language": "python",
   "name": "python3"
  },
  "language_info": {
   "codemirror_mode": {
    "name": "ipython",
    "version": 3
   },
   "file_extension": ".py",
   "mimetype": "text/x-python",
   "name": "python",
   "nbconvert_exporter": "python",
   "pygments_lexer": "ipython3",
   "version": "3.9.0"
  }
 },
 "nbformat": 4,
 "nbformat_minor": 5
}
