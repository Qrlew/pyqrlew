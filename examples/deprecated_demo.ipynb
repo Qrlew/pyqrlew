{
 "cells": [
  {
   "cell_type": "code",
   "execution_count": 1,
   "id": "08f55d69",
   "metadata": {},
   "outputs": [
    {
     "name": "stderr",
     "output_type": "stream",
     "text": [
      "UsageError: Cell magic `%%shell` not found.\n"
     ]
    }
   ],
   "source": [
    "%%shell\n",
    "# Inspred by https://colab.research.google.com/github/tensorflow/io/blob/master/docs/tutorials/postgresql.ipynb#scrollTo=YUj0878jPyz7\n",
    "sudo apt-get -y -qq update\n",
    "sudo apt-get -y -qq install postgresql-14\n",
    "# Start postgresql server\n",
    "sudo sed -i \"s/port = 5432/port = 5433/g\" /etc/postgresql/14/main/postgresql.conf\n",
    "sudo service postgresql start\n",
    "# Set password\n",
    "sudo -u postgres psql -U postgres -c \"ALTER USER postgres PASSWORD 'pyqrlew-db'\"\n",
    "# Install python packages\n",
    "pip install -U pyqrlew graphviz"
   ]
  },
  {
   "cell_type": "code",
   "execution_count": 2,
   "id": "e5331167",
   "metadata": {},
   "outputs": [
    {
     "name": "stderr",
     "output_type": "stream",
     "text": [
      "Error response from daemon: network with name qrlew-net already exists\n"
     ]
    }
   ],
   "source": [
    "from pyqrlew.io import PostgreSQL\n",
    "# Read data\n",
    "db = PostgreSQL()\n",
    "dataset = db.retail()"
   ]
  },
  {
   "cell_type": "code",
   "execution_count": 3,
   "id": "b6df624a",
   "metadata": {},
   "outputs": [
    {
     "data": {
      "text/plain": [
       "[(['retail.features'], <Relation at 0x11528cd80>),\n",
       " (['retail.sales'], <Relation at 0x11528cf90>),\n",
       " (['retail.stores'], <Relation at 0x11528cf00>)]"
      ]
     },
     "execution_count": 3,
     "metadata": {},
     "output_type": "execute_result"
    }
   ],
   "source": [
    "dataset.relations()"
   ]
  },
  {
   "attachments": {},
   "cell_type": "markdown",
   "id": "b5b0d42f",
   "metadata": {},
   "source": [
    "# Utils"
   ]
  },
  {
   "cell_type": "code",
   "execution_count": 4,
   "id": "bcde67e8",
   "metadata": {},
   "outputs": [],
   "source": [
    "from IPython.display import display\n",
    "import graphviz\n",
    "\n",
    "def display_dot(dot_graph): \n",
    "    # graph = graphviz.Source(dot_graph)\n",
    "\n",
    "    # # # Set the size of the graph\n",
    "    # # graph.graph_attr['size'] = '8,6'  # Adjust the width and height as needed\n",
    "\n",
    "    # # # Render the graph to a PNG image\n",
    "    # # graph.format = 'png'\n",
    "    # graph.render(filename='graph', format='png', cleanup=True)\n",
    "\n",
    "    # # Display the graph image with a specific size\n",
    "    # display(Image(filename='graph.png', width=1600))\n",
    "    display(graphviz.Source(dot_graph))"
   ]
  },
  {
   "cell_type": "code",
   "execution_count": 5,
   "id": "3ef073b7",
   "metadata": {},
   "outputs": [
    {
     "name": "stdout",
     "output_type": "stream",
     "text": [
      "\u001b[34mWITH\u001b[0m\n",
      "  customers \u001b[35mAS\u001b[0m (\u001b[35mSELECT\u001b[0m * FROM table)\n",
      "\u001b[35mSELECT\u001b[0m * FROM customers \u001b[35mWHERE\u001b[0m age > 25\n"
     ]
    }
   ],
   "source": [
    "MAGENTA_COLOR = '\\033[35m'  \n",
    "BLUE_COLOR = '\\033[34m'\n",
    "RESET_COLOR = '\\033[0m'    \n",
    "\n",
    "def print_query(query: str):\n",
    "    keywords = [\"SELECT\", \"AS\", \"GROUP BY\", \"LIMIT\", \"ORDER BY\", \"WHERE\"]\n",
    "    colored_query = query\n",
    "    colored_query = colored_query.replace(\"WITH\", \"WITH\\n \")\n",
    "    colored_query = colored_query.replace(\" SELECT\", \"\\nSELECT\")\n",
    "    colored_query = colored_query.replace(\"),\", \"),\\n \") \n",
    "    for word in keywords:\n",
    "        colored_query = colored_query.replace(word, MAGENTA_COLOR + word + RESET_COLOR)\n",
    "    colored_query = colored_query.replace(\"WITH\", BLUE_COLOR + \"WITH\" + RESET_COLOR)\n",
    "    print(colored_query)\n",
    "\n",
    "print_query(\"WITH customers AS (SELECT * FROM table) SELECT * FROM customers WHERE age > 25\")"
   ]
  },
  {
   "cell_type": "code",
   "execution_count": 6,
   "id": "9f98d702",
   "metadata": {},
   "outputs": [
    {
     "name": "stdout",
     "output_type": "stream",
     "text": [
      "\"{\u001b[31m_PROTECTED_ENTITY_ID_\u001b[0m: \u001b[33moption\u001b[0m(str), \u001b[31m_PROTECTED_ENTITY_WEIGHT_\u001b[0m: \u001b[34mint\u001b[0m[0 1469283], field_l_2l: \u001b[34mfloat\u001b[0m[0 2468395440]}\"\n"
     ]
    }
   ],
   "source": [
    "import json\n",
    "from termcolor import colored\n",
    "\n",
    "def to_json(str_schema: str):\n",
    "    str_schema_to_json = str_schema.replace(\" \", \"\")\n",
    "    str_schema_to_json = str_schema_to_json.replace(\"{\", '{\"')\n",
    "    str_schema_to_json = str_schema_to_json.replace(\":\", '\":\"')\n",
    "    str_schema_to_json = str_schema_to_json.replace(\",\", '\",\"')\n",
    "    str_schema_to_json = str_schema_to_json.replace(\"}\", '\"}')\n",
    "    return json.loads(str_schema_to_json)\n",
    "\n",
    "def print_colored_json(json_data):\n",
    "    formatted_json = json.dumps(json_data, indent=4)\n",
    "    colored_json = highlight_keywords(formatted_json)\n",
    "    print(colored_json)\n",
    "\n",
    "def highlight_keywords(json_string):\n",
    "    keywords = {\n",
    "        \"_PROTECTED_ENTITY_ID_\": \"red\", \n",
    "        \"_PROTECTED_ENTITY_WEIGHT_\": \"red\", \n",
    "        \"option\": \"yellow\",\n",
    "        \"float\": \"blue\", \n",
    "        \"int\": \"blue\"\n",
    "    }\n",
    "    for keyword, color in keywords.items():\n",
    "        json_string = json_string.replace(keyword, colored(keyword, color))\n",
    "    return json_string\n",
    "\n",
    "str_schema = '{_PROTECTED_ENTITY_ID_: option(str), _PROTECTED_ENTITY_WEIGHT_: int[0 1469283], field_l_2l: float[0 2468395440]}'\n",
    "\n",
    "print_colored_json(str_schema)\n"
   ]
  },
  {
   "cell_type": "code",
   "execution_count": 7,
   "id": "9b814a57",
   "metadata": {},
   "outputs": [
    {
     "data": {
      "text/html": [
       "<div>\n",
       "<style scoped>\n",
       "    .dataframe tbody tr th:only-of-type {\n",
       "        vertical-align: middle;\n",
       "    }\n",
       "\n",
       "    .dataframe tbody tr th {\n",
       "        vertical-align: top;\n",
       "    }\n",
       "\n",
       "    .dataframe thead th {\n",
       "        text-align: right;\n",
       "    }\n",
       "</style>\n",
       "<table border=\"1\" class=\"dataframe\">\n",
       "  <thead>\n",
       "    <tr style=\"text-align: right;\">\n",
       "      <th></th>\n",
       "      <th>id</th>\n",
       "      <th>store</th>\n",
       "      <th>date</th>\n",
       "      <th>temperature</th>\n",
       "      <th>fuel_price</th>\n",
       "      <th>cpi</th>\n",
       "      <th>unemployment</th>\n",
       "      <th>isholiday</th>\n",
       "    </tr>\n",
       "  </thead>\n",
       "  <tbody>\n",
       "    <tr>\n",
       "      <th>0</th>\n",
       "      <td>1</td>\n",
       "      <td>1</td>\n",
       "      <td>2010-02-05</td>\n",
       "      <td>42.31</td>\n",
       "      <td>2.572</td>\n",
       "      <td>211.096358</td>\n",
       "      <td>8.106</td>\n",
       "      <td>False</td>\n",
       "    </tr>\n",
       "    <tr>\n",
       "      <th>1</th>\n",
       "      <td>2</td>\n",
       "      <td>1</td>\n",
       "      <td>2010-02-12</td>\n",
       "      <td>38.51</td>\n",
       "      <td>2.548</td>\n",
       "      <td>211.242170</td>\n",
       "      <td>8.106</td>\n",
       "      <td>True</td>\n",
       "    </tr>\n",
       "    <tr>\n",
       "      <th>2</th>\n",
       "      <td>3</td>\n",
       "      <td>1</td>\n",
       "      <td>2010-02-19</td>\n",
       "      <td>39.93</td>\n",
       "      <td>2.514</td>\n",
       "      <td>211.289143</td>\n",
       "      <td>8.106</td>\n",
       "      <td>False</td>\n",
       "    </tr>\n",
       "    <tr>\n",
       "      <th>3</th>\n",
       "      <td>4</td>\n",
       "      <td>1</td>\n",
       "      <td>2010-02-26</td>\n",
       "      <td>46.63</td>\n",
       "      <td>2.561</td>\n",
       "      <td>211.319643</td>\n",
       "      <td>8.106</td>\n",
       "      <td>False</td>\n",
       "    </tr>\n",
       "    <tr>\n",
       "      <th>4</th>\n",
       "      <td>5</td>\n",
       "      <td>1</td>\n",
       "      <td>2010-03-05</td>\n",
       "      <td>46.50</td>\n",
       "      <td>2.625</td>\n",
       "      <td>211.350143</td>\n",
       "      <td>8.106</td>\n",
       "      <td>False</td>\n",
       "    </tr>\n",
       "  </tbody>\n",
       "</table>\n",
       "</div>"
      ],
      "text/plain": [
       "  id store       date  temperature  fuel_price         cpi  unemployment   \n",
       "0  1     1 2010-02-05        42.31       2.572  211.096358         8.106  \\\n",
       "1  2     1 2010-02-12        38.51       2.548  211.242170         8.106   \n",
       "2  3     1 2010-02-19        39.93       2.514  211.289143         8.106   \n",
       "3  4     1 2010-02-26        46.63       2.561  211.319643         8.106   \n",
       "4  5     1 2010-03-05        46.50       2.625  211.350143         8.106   \n",
       "\n",
       "   isholiday  \n",
       "0      False  \n",
       "1       True  \n",
       "2      False  \n",
       "3      False  \n",
       "4      False  "
      ]
     },
     "execution_count": 7,
     "metadata": {},
     "output_type": "execute_result"
    }
   ],
   "source": [
    "import pandas as pd\n",
    "pd.DataFrame(db.sql(\"SELECT * FROM retail.features LIMIT 5\"))"
   ]
  },
  {
   "cell_type": "code",
   "execution_count": 8,
   "id": "0cff9dee",
   "metadata": {},
   "outputs": [],
   "source": [
    "import matplotlib.pyplot as plt\n",
    "\n",
    "def plot_hist(true_value, data, query):\n",
    "    plt.axvline(true_value, color='red', label=\"True\")\n",
    "    for e, d in data.items():\n",
    "        plt.hist(d, bins=10, alpha=0.5, label = f\"eps = {e}\")\n",
    "    plt.legend()\n",
    "    plt.title(query)"
   ]
  },
  {
   "cell_type": "code",
   "execution_count": 9,
   "id": "658e5eb1",
   "metadata": {},
   "outputs": [],
   "source": [
    "N_RUNS = 100\n",
    "\n",
    "def run(dataset, query, epsilons):\n",
    "    data = {}\n",
    "    str_pe = \"\"\"\n",
    "    {\n",
    "    \"protected_entity\": [\n",
    "        [\"stores\", [[\"store\", \"features\", \"store\"]], \"id\"],\n",
    "        [\"features\", [], \"id\"],\n",
    "        [\"sales\", [], \"id\"]\n",
    "    ]\n",
    "    }\n",
    "    \"\"\"\n",
    "    delta  = 1e-1\n",
    "    relation = dataset.sql(query)\n",
    "    for epsilon in epsilons: \n",
    "        dp_relation = relation.dp_compilation(\n",
    "            dataset,\n",
    "            str_pe,\n",
    "            epsilon, \n",
    "            delta\n",
    "        )\n",
    "        dp_query = dp_relation.render()\n",
    "        data[epsilon] = [\n",
    "            execute_query(dp_query)[\"my_sum\"][0] for _ in range(N_RUNS)\n",
    "        ]\n",
    "    return data"
   ]
  },
  {
   "attachments": {},
   "cell_type": "markdown",
   "id": "d7b86d16",
   "metadata": {},
   "source": [
    "# Read Data"
   ]
  },
  {
   "attachments": {},
   "cell_type": "markdown",
   "id": "8d9769d0",
   "metadata": {},
   "source": [
    "For this demo, we use the retail dataset containing 3 tables: \n",
    " - features\n",
    " - sales\n",
    " - stores"
   ]
  },
  {
   "attachments": {},
   "cell_type": "markdown",
   "id": "ada2d2e9",
   "metadata": {},
   "source": [
    "We create a `Dataset` object from json files describing the tables and the columns (type, min, max, possible values .. ) of the dataset."
   ]
  },
  {
   "attachments": {},
   "cell_type": "markdown",
   "id": "3a2d007f",
   "metadata": {},
   "source": [
    "All the tables have been converted into `Relation` object: "
   ]
  },
  {
   "cell_type": "code",
   "execution_count": 10,
   "id": "57f50658",
   "metadata": {},
   "outputs": [
    {
     "data": {
      "text/plain": [
       "[(['retail.features'], <Relation at 0x1247198d0>),\n",
       " (['retail.sales'], <Relation at 0x1247197e0>),\n",
       " (['retail.stores'], <Relation at 0x1247196c0>)]"
      ]
     },
     "execution_count": 10,
     "metadata": {},
     "output_type": "execute_result"
    }
   ],
   "source": [
    "dataset.relations()"
   ]
  },
  {
   "attachments": {},
   "cell_type": "markdown",
   "id": "7b7041cb",
   "metadata": {},
   "source": [
    "The corresponding `Relation` is given by: "
   ]
  },
  {
   "cell_type": "code",
   "execution_count": 11,
   "id": "7d58ea33",
   "metadata": {},
   "outputs": [
    {
     "data": {
      "image/svg+xml": [
       "<?xml version=\"1.0\" encoding=\"UTF-8\" standalone=\"no\"?>\n",
       "<!DOCTYPE svg PUBLIC \"-//W3C//DTD SVG 1.1//EN\"\n",
       " \"http://www.w3.org/Graphics/SVG/1.1/DTD/svg11.dtd\">\n",
       "<!-- Generated by graphviz version 8.1.0 (20230707.0739)\n",
       " -->\n",
       "<!-- Title: graph_a4p9 Pages: 1 -->\n",
       "<svg width=\"355pt\" height=\"136pt\"\n",
       " viewBox=\"0.00 0.00 354.80 135.80\" xmlns=\"http://www.w3.org/2000/svg\" xmlns:xlink=\"http://www.w3.org/1999/xlink\">\n",
       "<g id=\"graph0\" class=\"graph\" transform=\"scale(1 1) rotate(0) translate(4 131.8)\">\n",
       "<title>graph_a4p9</title>\n",
       "<polygon fill=\"none\" stroke=\"none\" points=\"-4,4 -4,-131.8 350.8,-131.8 350.8,4 -4,4\"/>\n",
       "<!-- graph_a4p9 -->\n",
       "<g id=\"node1\" class=\"node\">\n",
       "<title>graph_a4p9</title>\n",
       "<path fill=\"#ff1744\" stroke=\"#000000\" stroke-opacity=\"0.333333\" d=\"M334.8,-127.8C334.8,-127.8 12,-127.8 12,-127.8 6,-127.8 0,-121.8 0,-115.8 0,-115.8 0,-12 0,-12 0,-6 6,0 12,0 12,0 334.8,0 334.8,0 340.8,0 346.8,-6 346.8,-12 346.8,-12 346.8,-115.8 346.8,-115.8 346.8,-121.8 340.8,-127.8 334.8,-127.8\"/>\n",
       "<text text-anchor=\"start\" x=\"90.9\" y=\"-103.95\" font-family=\"Red Hat Display,sans-serif\" font-weight=\"bold\" font-size=\"11.00\" fill=\"#ffffff\" fill-opacity=\"0.733333\">RETAIL.FEATURES size ∈ int{0}</text>\n",
       "<text text-anchor=\"start\" x=\"146.77\" y=\"-92.95\" font-family=\"Red Hat Display,sans-serif\" font-size=\"11.00\" fill=\"#ffffff\" fill-opacity=\"0.733333\">id = id ∈ str</text>\n",
       "<text text-anchor=\"start\" x=\"131.02\" y=\"-81.95\" font-family=\"Red Hat Display,sans-serif\" font-size=\"11.00\" fill=\"#ffffff\" fill-opacity=\"0.733333\">store = store ∈ str</text>\n",
       "<text text-anchor=\"start\" x=\"14.4\" y=\"-70.95\" font-family=\"Red Hat Display,sans-serif\" font-size=\"11.00\" fill=\"#ffffff\" fill-opacity=\"0.733333\">date = date ∈ datetime[0001&#45;01&#45;01 00:00:00 9999&#45;12&#45;31 00:00:00]</text>\n",
       "<text text-anchor=\"start\" x=\"92.4\" y=\"-59.95\" font-family=\"Red Hat Display,sans-serif\" font-size=\"11.00\" fill=\"#ffffff\" fill-opacity=\"0.733333\">temperature = temperature ∈ float</text>\n",
       "<text text-anchor=\"start\" x=\"104.4\" y=\"-48.95\" font-family=\"Red Hat Display,sans-serif\" font-size=\"11.00\" fill=\"#ffffff\" fill-opacity=\"0.733333\">fuel_price = fuel_price ∈ float</text>\n",
       "<text text-anchor=\"start\" x=\"137.4\" y=\"-37.95\" font-family=\"Red Hat Display,sans-serif\" font-size=\"11.00\" fill=\"#ffffff\" fill-opacity=\"0.733333\">cpi = cpi ∈ float</text>\n",
       "<text text-anchor=\"start\" x=\"80.4\" y=\"-26.95\" font-family=\"Red Hat Display,sans-serif\" font-size=\"11.00\" fill=\"#ffffff\" fill-opacity=\"0.733333\">unemployment = unemployment ∈ float</text>\n",
       "<text text-anchor=\"start\" x=\"109.65\" y=\"-15.95\" font-family=\"Red Hat Display,sans-serif\" font-size=\"11.00\" fill=\"#ffffff\" fill-opacity=\"0.733333\">isholiday = isholiday ∈ bool</text>\n",
       "</g>\n",
       "</g>\n",
       "</svg>\n"
      ],
      "text/plain": [
       "<graphviz.sources.Source at 0x1150892e0>"
      ]
     },
     "metadata": {},
     "output_type": "display_data"
    }
   ],
   "source": [
    "display_dot(dataset.relations()[0][1].dot())"
   ]
  },
  {
   "attachments": {},
   "cell_type": "markdown",
   "id": "31c4f466",
   "metadata": {},
   "source": [
    "A `Relation` contains information about the data types of each columns."
   ]
  },
  {
   "attachments": {},
   "cell_type": "markdown",
   "id": "5b28a481",
   "metadata": {},
   "source": [
    "# Create a relation from an SQL query"
   ]
  },
  {
   "attachments": {},
   "cell_type": "markdown",
   "id": "711d8800",
   "metadata": {},
   "source": [
    "We can create a `Relation` from a `Dataset` and an SQL query: "
   ]
  },
  {
   "cell_type": "code",
   "execution_count": 12,
   "id": "81779c39",
   "metadata": {},
   "outputs": [
    {
     "data": {
      "image/svg+xml": [
       "<?xml version=\"1.0\" encoding=\"UTF-8\" standalone=\"no\"?>\n",
       "<!DOCTYPE svg PUBLIC \"-//W3C//DTD SVG 1.1//EN\"\n",
       " \"http://www.w3.org/Graphics/SVG/1.1/DTD/svg11.dtd\">\n",
       "<!-- Generated by graphviz version 8.1.0 (20230707.0739)\n",
       " -->\n",
       "<!-- Title: graph_rrky Pages: 1 -->\n",
       "<svg width=\"355pt\" height=\"216pt\"\n",
       " viewBox=\"0.00 0.00 354.80 215.60\" xmlns=\"http://www.w3.org/2000/svg\" xmlns:xlink=\"http://www.w3.org/1999/xlink\">\n",
       "<g id=\"graph0\" class=\"graph\" transform=\"scale(1 1) rotate(0) translate(4 211.6)\">\n",
       "<title>graph_rrky</title>\n",
       "<polygon fill=\"none\" stroke=\"none\" points=\"-4,4 -4,-211.6 350.8,-211.6 350.8,4 -4,4\"/>\n",
       "<!-- graph_a4p9 -->\n",
       "<g id=\"node1\" class=\"node\">\n",
       "<title>graph_a4p9</title>\n",
       "<path fill=\"#ff1744\" stroke=\"#000000\" stroke-opacity=\"0.333333\" d=\"M334.8,-127.8C334.8,-127.8 12,-127.8 12,-127.8 6,-127.8 0,-121.8 0,-115.8 0,-115.8 0,-12 0,-12 0,-6 6,0 12,0 12,0 334.8,0 334.8,0 340.8,0 346.8,-6 346.8,-12 346.8,-12 346.8,-115.8 346.8,-115.8 346.8,-121.8 340.8,-127.8 334.8,-127.8\"/>\n",
       "<text text-anchor=\"start\" x=\"90.9\" y=\"-103.95\" font-family=\"Red Hat Display,sans-serif\" font-weight=\"bold\" font-size=\"11.00\" fill=\"#ffffff\" fill-opacity=\"0.733333\">RETAIL.FEATURES size ∈ int{0}</text>\n",
       "<text text-anchor=\"start\" x=\"146.77\" y=\"-92.95\" font-family=\"Red Hat Display,sans-serif\" font-size=\"11.00\" fill=\"#ffffff\" fill-opacity=\"0.733333\">id = id ∈ str</text>\n",
       "<text text-anchor=\"start\" x=\"131.02\" y=\"-81.95\" font-family=\"Red Hat Display,sans-serif\" font-size=\"11.00\" fill=\"#ffffff\" fill-opacity=\"0.733333\">store = store ∈ str</text>\n",
       "<text text-anchor=\"start\" x=\"14.4\" y=\"-70.95\" font-family=\"Red Hat Display,sans-serif\" font-size=\"11.00\" fill=\"#ffffff\" fill-opacity=\"0.733333\">date = date ∈ datetime[0001&#45;01&#45;01 00:00:00 9999&#45;12&#45;31 00:00:00]</text>\n",
       "<text text-anchor=\"start\" x=\"92.4\" y=\"-59.95\" font-family=\"Red Hat Display,sans-serif\" font-size=\"11.00\" fill=\"#ffffff\" fill-opacity=\"0.733333\">temperature = temperature ∈ float</text>\n",
       "<text text-anchor=\"start\" x=\"104.4\" y=\"-48.95\" font-family=\"Red Hat Display,sans-serif\" font-size=\"11.00\" fill=\"#ffffff\" fill-opacity=\"0.733333\">fuel_price = fuel_price ∈ float</text>\n",
       "<text text-anchor=\"start\" x=\"137.4\" y=\"-37.95\" font-family=\"Red Hat Display,sans-serif\" font-size=\"11.00\" fill=\"#ffffff\" fill-opacity=\"0.733333\">cpi = cpi ∈ float</text>\n",
       "<text text-anchor=\"start\" x=\"80.4\" y=\"-26.95\" font-family=\"Red Hat Display,sans-serif\" font-size=\"11.00\" fill=\"#ffffff\" fill-opacity=\"0.733333\">unemployment = unemployment ∈ float</text>\n",
       "<text text-anchor=\"start\" x=\"109.65\" y=\"-15.95\" font-family=\"Red Hat Display,sans-serif\" font-size=\"11.00\" fill=\"#ffffff\" fill-opacity=\"0.733333\">isholiday = isholiday ∈ bool</text>\n",
       "</g>\n",
       "<!-- graph_rrky -->\n",
       "<g id=\"node2\" class=\"node\">\n",
       "<title>graph_rrky</title>\n",
       "<path fill=\"#428e92\" stroke=\"#000000\" stroke-opacity=\"0.333333\" d=\"M244.8,-207.6C244.8,-207.6 102,-207.6 102,-207.6 96,-207.6 90,-201.6 90,-195.6 90,-195.6 90,-168.8 90,-168.8 90,-162.8 96,-156.8 102,-156.8 102,-156.8 244.8,-156.8 244.8,-156.8 250.8,-156.8 256.8,-162.8 256.8,-168.8 256.8,-168.8 256.8,-195.6 256.8,-195.6 256.8,-201.6 250.8,-207.6 244.8,-207.6\"/>\n",
       "<text text-anchor=\"start\" x=\"113.02\" y=\"-183.75\" font-family=\"Red Hat Display,sans-serif\" font-weight=\"bold\" font-size=\"11.00\" fill=\"#000000\" fill-opacity=\"0.733333\">MAP_24B1 size ∈ int{0}</text>\n",
       "<text text-anchor=\"start\" x=\"104.4\" y=\"-172.75\" font-family=\"Red Hat Display,sans-serif\" font-size=\"11.00\" fill=\"#000000\" fill-opacity=\"0.733333\">fuel_price = fuel_price ∈ float</text>\n",
       "</g>\n",
       "<!-- graph_rrky&#45;&gt;graph_a4p9 -->\n",
       "<g id=\"edge1\" class=\"edge\">\n",
       "<title>graph_rrky&#45;&gt;graph_a4p9</title>\n",
       "<path fill=\"none\" stroke=\"#2b303a\" d=\"M173.4,-156.54C173.4,-151.15 173.4,-145.19 173.4,-138.96\"/>\n",
       "<polygon fill=\"#2b303a\" stroke=\"#2b303a\" points=\"176.9,-139.29 173.4,-129.29 169.9,-139.29 176.9,-139.29\"/>\n",
       "</g>\n",
       "</g>\n",
       "</svg>\n"
      ],
      "text/plain": [
       "<graphviz.sources.Source at 0x1152def40>"
      ]
     },
     "metadata": {},
     "output_type": "display_data"
    }
   ],
   "source": [
    "relation = dataset.sql('SELECT fuel_price As fuel_price FROM \"retail.features\"')\n",
    "display_dot(relation.dot())"
   ]
  },
  {
   "cell_type": "code",
   "execution_count": 13,
   "id": "e63ab24a",
   "metadata": {},
   "outputs": [
    {
     "data": {
      "image/svg+xml": [
       "<?xml version=\"1.0\" encoding=\"UTF-8\" standalone=\"no\"?>\n",
       "<!DOCTYPE svg PUBLIC \"-//W3C//DTD SVG 1.1//EN\"\n",
       " \"http://www.w3.org/Graphics/SVG/1.1/DTD/svg11.dtd\">\n",
       "<!-- Generated by graphviz version 8.1.0 (20230707.0739)\n",
       " -->\n",
       "<!-- Title: graph_l9xt Pages: 1 -->\n",
       "<svg width=\"355pt\" height=\"216pt\"\n",
       " viewBox=\"0.00 0.00 354.80 215.60\" xmlns=\"http://www.w3.org/2000/svg\" xmlns:xlink=\"http://www.w3.org/1999/xlink\">\n",
       "<g id=\"graph0\" class=\"graph\" transform=\"scale(1 1) rotate(0) translate(4 211.6)\">\n",
       "<title>graph_l9xt</title>\n",
       "<polygon fill=\"none\" stroke=\"none\" points=\"-4,4 -4,-211.6 350.8,-211.6 350.8,4 -4,4\"/>\n",
       "<!-- graph_a4p9 -->\n",
       "<g id=\"node1\" class=\"node\">\n",
       "<title>graph_a4p9</title>\n",
       "<path fill=\"#ff1744\" stroke=\"#000000\" stroke-opacity=\"0.333333\" d=\"M334.8,-127.8C334.8,-127.8 12,-127.8 12,-127.8 6,-127.8 0,-121.8 0,-115.8 0,-115.8 0,-12 0,-12 0,-6 6,0 12,0 12,0 334.8,0 334.8,0 340.8,0 346.8,-6 346.8,-12 346.8,-12 346.8,-115.8 346.8,-115.8 346.8,-121.8 340.8,-127.8 334.8,-127.8\"/>\n",
       "<text text-anchor=\"start\" x=\"90.9\" y=\"-103.95\" font-family=\"Red Hat Display,sans-serif\" font-weight=\"bold\" font-size=\"11.00\" fill=\"#ffffff\" fill-opacity=\"0.733333\">RETAIL.FEATURES size ∈ int{0}</text>\n",
       "<text text-anchor=\"start\" x=\"146.77\" y=\"-92.95\" font-family=\"Red Hat Display,sans-serif\" font-size=\"11.00\" fill=\"#ffffff\" fill-opacity=\"0.733333\">id = id ∈ str</text>\n",
       "<text text-anchor=\"start\" x=\"131.02\" y=\"-81.95\" font-family=\"Red Hat Display,sans-serif\" font-size=\"11.00\" fill=\"#ffffff\" fill-opacity=\"0.733333\">store = store ∈ str</text>\n",
       "<text text-anchor=\"start\" x=\"14.4\" y=\"-70.95\" font-family=\"Red Hat Display,sans-serif\" font-size=\"11.00\" fill=\"#ffffff\" fill-opacity=\"0.733333\">date = date ∈ datetime[0001&#45;01&#45;01 00:00:00 9999&#45;12&#45;31 00:00:00]</text>\n",
       "<text text-anchor=\"start\" x=\"92.4\" y=\"-59.95\" font-family=\"Red Hat Display,sans-serif\" font-size=\"11.00\" fill=\"#ffffff\" fill-opacity=\"0.733333\">temperature = temperature ∈ float</text>\n",
       "<text text-anchor=\"start\" x=\"104.4\" y=\"-48.95\" font-family=\"Red Hat Display,sans-serif\" font-size=\"11.00\" fill=\"#ffffff\" fill-opacity=\"0.733333\">fuel_price = fuel_price ∈ float</text>\n",
       "<text text-anchor=\"start\" x=\"137.4\" y=\"-37.95\" font-family=\"Red Hat Display,sans-serif\" font-size=\"11.00\" fill=\"#ffffff\" fill-opacity=\"0.733333\">cpi = cpi ∈ float</text>\n",
       "<text text-anchor=\"start\" x=\"80.4\" y=\"-26.95\" font-family=\"Red Hat Display,sans-serif\" font-size=\"11.00\" fill=\"#ffffff\" fill-opacity=\"0.733333\">unemployment = unemployment ∈ float</text>\n",
       "<text text-anchor=\"start\" x=\"109.65\" y=\"-15.95\" font-family=\"Red Hat Display,sans-serif\" font-size=\"11.00\" fill=\"#ffffff\" fill-opacity=\"0.733333\">isholiday = isholiday ∈ bool</text>\n",
       "</g>\n",
       "<!-- graph_l9xt -->\n",
       "<g id=\"node2\" class=\"node\">\n",
       "<title>graph_l9xt</title>\n",
       "<path fill=\"#428e92\" stroke=\"#000000\" stroke-opacity=\"0.333333\" d=\"M262.8,-207.6C262.8,-207.6 84,-207.6 84,-207.6 78,-207.6 72,-201.6 72,-195.6 72,-195.6 72,-168.8 72,-168.8 72,-162.8 78,-156.8 84,-156.8 84,-156.8 262.8,-156.8 262.8,-156.8 268.8,-156.8 274.8,-162.8 274.8,-168.8 274.8,-168.8 274.8,-195.6 274.8,-195.6 274.8,-201.6 268.8,-207.6 262.8,-207.6\"/>\n",
       "<text text-anchor=\"start\" x=\"111.15\" y=\"-183.75\" font-family=\"Red Hat Display,sans-serif\" font-weight=\"bold\" font-size=\"11.00\" fill=\"#000000\" fill-opacity=\"0.733333\">MAP_YS7M size ∈ int{0}</text>\n",
       "<text text-anchor=\"start\" x=\"86.4\" y=\"-172.75\" font-family=\"Red Hat Display,sans-serif\" font-size=\"11.00\" fill=\"#000000\" fill-opacity=\"0.733333\">fuel_price_3 = (3 * fuel_price) ∈ float</text>\n",
       "</g>\n",
       "<!-- graph_l9xt&#45;&gt;graph_a4p9 -->\n",
       "<g id=\"edge1\" class=\"edge\">\n",
       "<title>graph_l9xt&#45;&gt;graph_a4p9</title>\n",
       "<path fill=\"none\" stroke=\"#2b303a\" d=\"M173.4,-156.54C173.4,-151.15 173.4,-145.19 173.4,-138.96\"/>\n",
       "<polygon fill=\"#2b303a\" stroke=\"#2b303a\" points=\"176.9,-139.29 173.4,-129.29 169.9,-139.29 176.9,-139.29\"/>\n",
       "</g>\n",
       "</g>\n",
       "</svg>\n"
      ],
      "text/plain": [
       "<graphviz.sources.Source at 0x124719880>"
      ]
     },
     "metadata": {},
     "output_type": "display_data"
    }
   ],
   "source": [
    "relation = dataset.sql('SELECT 3 * fuel_price AS fuel_price_3 FROM \"retail.features\"')\n",
    "display_dot(relation.dot())"
   ]
  },
  {
   "attachments": {},
   "cell_type": "markdown",
   "id": "20134753",
   "metadata": {},
   "source": [
    "The data types have been propagated without any query to the database. \n",
    "\n",
    "\n",
    "We can try with an aggregation: "
   ]
  },
  {
   "cell_type": "code",
   "execution_count": 14,
   "id": "7f961070",
   "metadata": {},
   "outputs": [
    {
     "data": {
      "image/svg+xml": [
       "<?xml version=\"1.0\" encoding=\"UTF-8\" standalone=\"no\"?>\n",
       "<!DOCTYPE svg PUBLIC \"-//W3C//DTD SVG 1.1//EN\"\n",
       " \"http://www.w3.org/Graphics/SVG/1.1/DTD/svg11.dtd\">\n",
       "<!-- Generated by graphviz version 8.1.0 (20230707.0739)\n",
       " -->\n",
       "<!-- Title: graph_qlnt Pages: 1 -->\n",
       "<svg width=\"355pt\" height=\"295pt\"\n",
       " viewBox=\"0.00 0.00 354.80 295.40\" xmlns=\"http://www.w3.org/2000/svg\" xmlns:xlink=\"http://www.w3.org/1999/xlink\">\n",
       "<g id=\"graph0\" class=\"graph\" transform=\"scale(1 1) rotate(0) translate(4 291.4)\">\n",
       "<title>graph_qlnt</title>\n",
       "<polygon fill=\"none\" stroke=\"none\" points=\"-4,4 -4,-291.4 350.8,-291.4 350.8,4 -4,4\"/>\n",
       "<!-- graph_a4p9 -->\n",
       "<g id=\"node1\" class=\"node\">\n",
       "<title>graph_a4p9</title>\n",
       "<path fill=\"#ff1744\" stroke=\"#000000\" stroke-opacity=\"0.333333\" d=\"M334.8,-127.8C334.8,-127.8 12,-127.8 12,-127.8 6,-127.8 0,-121.8 0,-115.8 0,-115.8 0,-12 0,-12 0,-6 6,0 12,0 12,0 334.8,0 334.8,0 340.8,0 346.8,-6 346.8,-12 346.8,-12 346.8,-115.8 346.8,-115.8 346.8,-121.8 340.8,-127.8 334.8,-127.8\"/>\n",
       "<text text-anchor=\"start\" x=\"90.9\" y=\"-103.95\" font-family=\"Red Hat Display,sans-serif\" font-weight=\"bold\" font-size=\"11.00\" fill=\"#ffffff\" fill-opacity=\"0.733333\">RETAIL.FEATURES size ∈ int{0}</text>\n",
       "<text text-anchor=\"start\" x=\"146.77\" y=\"-92.95\" font-family=\"Red Hat Display,sans-serif\" font-size=\"11.00\" fill=\"#ffffff\" fill-opacity=\"0.733333\">id = id ∈ str</text>\n",
       "<text text-anchor=\"start\" x=\"131.02\" y=\"-81.95\" font-family=\"Red Hat Display,sans-serif\" font-size=\"11.00\" fill=\"#ffffff\" fill-opacity=\"0.733333\">store = store ∈ str</text>\n",
       "<text text-anchor=\"start\" x=\"14.4\" y=\"-70.95\" font-family=\"Red Hat Display,sans-serif\" font-size=\"11.00\" fill=\"#ffffff\" fill-opacity=\"0.733333\">date = date ∈ datetime[0001&#45;01&#45;01 00:00:00 9999&#45;12&#45;31 00:00:00]</text>\n",
       "<text text-anchor=\"start\" x=\"92.4\" y=\"-59.95\" font-family=\"Red Hat Display,sans-serif\" font-size=\"11.00\" fill=\"#ffffff\" fill-opacity=\"0.733333\">temperature = temperature ∈ float</text>\n",
       "<text text-anchor=\"start\" x=\"104.4\" y=\"-48.95\" font-family=\"Red Hat Display,sans-serif\" font-size=\"11.00\" fill=\"#ffffff\" fill-opacity=\"0.733333\">fuel_price = fuel_price ∈ float</text>\n",
       "<text text-anchor=\"start\" x=\"137.4\" y=\"-37.95\" font-family=\"Red Hat Display,sans-serif\" font-size=\"11.00\" fill=\"#ffffff\" fill-opacity=\"0.733333\">cpi = cpi ∈ float</text>\n",
       "<text text-anchor=\"start\" x=\"80.4\" y=\"-26.95\" font-family=\"Red Hat Display,sans-serif\" font-size=\"11.00\" fill=\"#ffffff\" fill-opacity=\"0.733333\">unemployment = unemployment ∈ float</text>\n",
       "<text text-anchor=\"start\" x=\"109.65\" y=\"-15.95\" font-family=\"Red Hat Display,sans-serif\" font-size=\"11.00\" fill=\"#ffffff\" fill-opacity=\"0.733333\">isholiday = isholiday ∈ bool</text>\n",
       "</g>\n",
       "<!-- graph_xmp6 -->\n",
       "<g id=\"node2\" class=\"node\">\n",
       "<title>graph_xmp6</title>\n",
       "<path fill=\"#428e92\" stroke=\"#000000\" stroke-opacity=\"0.333333\" d=\"M244.05,-207.6C244.05,-207.6 102.75,-207.6 102.75,-207.6 96.75,-207.6 90.75,-201.6 90.75,-195.6 90.75,-195.6 90.75,-168.8 90.75,-168.8 90.75,-162.8 96.75,-156.8 102.75,-156.8 102.75,-156.8 244.05,-156.8 244.05,-156.8 250.05,-156.8 256.05,-162.8 256.05,-168.8 256.05,-168.8 256.05,-195.6 256.05,-195.6 256.05,-201.6 250.05,-207.6 244.05,-207.6\"/>\n",
       "<text text-anchor=\"start\" x=\"111.9\" y=\"-183.75\" font-family=\"Red Hat Display,sans-serif\" font-weight=\"bold\" font-size=\"11.00\" fill=\"#000000\" fill-opacity=\"0.733333\">MAP__KQJ size ∈ int{0}</text>\n",
       "<text text-anchor=\"start\" x=\"105.15\" y=\"-172.75\" font-family=\"Red Hat Display,sans-serif\" font-size=\"11.00\" fill=\"#000000\" fill-opacity=\"0.733333\">field__6vl = fuel_price ∈ float</text>\n",
       "</g>\n",
       "<!-- graph_xmp6&#45;&gt;graph_a4p9 -->\n",
       "<g id=\"edge1\" class=\"edge\">\n",
       "<title>graph_xmp6&#45;&gt;graph_a4p9</title>\n",
       "<path fill=\"none\" stroke=\"#2b303a\" d=\"M173.4,-156.54C173.4,-151.15 173.4,-145.19 173.4,-138.96\"/>\n",
       "<polygon fill=\"#2b303a\" stroke=\"#2b303a\" points=\"176.9,-139.29 173.4,-129.29 169.9,-139.29 176.9,-139.29\"/>\n",
       "</g>\n",
       "<!-- graph_qlnt -->\n",
       "<g id=\"node3\" class=\"node\">\n",
       "<title>graph_qlnt</title>\n",
       "<path fill=\"#00363a\" stroke=\"#000000\" stroke-opacity=\"0.333333\" d=\"M279.67,-287.4C279.67,-287.4 67.12,-287.4 67.12,-287.4 61.12,-287.4 55.12,-281.4 55.12,-275.4 55.12,-275.4 55.12,-248.6 55.12,-248.6 55.12,-242.6 61.12,-236.6 67.12,-236.6 67.12,-236.6 279.67,-236.6 279.67,-236.6 285.67,-236.6 291.67,-242.6 291.67,-248.6 291.67,-248.6 291.67,-275.4 291.67,-275.4 291.67,-281.4 285.67,-287.4 279.67,-287.4\"/>\n",
       "<text text-anchor=\"start\" x=\"99.15\" y=\"-263.55\" font-family=\"Red Hat Display,sans-serif\" font-weight=\"bold\" font-size=\"11.00\" fill=\"#ffffff\" fill-opacity=\"0.733333\">REDUCE_4HGD size ∈ int{0}</text>\n",
       "<text text-anchor=\"start\" x=\"69.52\" y=\"-252.55\" font-family=\"Red Hat Display,sans-serif\" font-size=\"11.00\" fill=\"#ffffff\" fill-opacity=\"0.733333\">sum_fuel_price = sum(field__6vl) ∈ float{&#45;0}</text>\n",
       "</g>\n",
       "<!-- graph_qlnt&#45;&gt;graph_xmp6 -->\n",
       "<g id=\"edge2\" class=\"edge\">\n",
       "<title>graph_qlnt&#45;&gt;graph_xmp6</title>\n",
       "<path fill=\"none\" stroke=\"#2b303a\" d=\"M173.4,-236.38C173.4,-230.71 173.4,-224.56 173.4,-218.53\"/>\n",
       "<polygon fill=\"#2b303a\" stroke=\"#2b303a\" points=\"176.9,-218.92 173.4,-208.92 169.9,-218.92 176.9,-218.92\"/>\n",
       "</g>\n",
       "</g>\n",
       "</svg>\n"
      ],
      "text/plain": [
       "<graphviz.sources.Source at 0x124719910>"
      ]
     },
     "metadata": {},
     "output_type": "display_data"
    }
   ],
   "source": [
    "query = 'SELECT SUM(fuel_price) As sum_fuel_price FROM \"retail.features\"'\n",
    "relation = dataset.sql(query)\n",
    "display_dot(relation.dot())"
   ]
  },
  {
   "attachments": {},
   "cell_type": "markdown",
   "id": "5cba3f9d",
   "metadata": {},
   "source": [
    "Convert the `Relation` to an SQL query: "
   ]
  },
  {
   "cell_type": "code",
   "execution_count": 15,
   "id": "430f8252",
   "metadata": {},
   "outputs": [
    {
     "name": "stdout",
     "output_type": "stream",
     "text": [
      "\u001b[34mWITH\u001b[0m\n",
      "  map__kqj (field__6vl) \u001b[35mAS\u001b[0m (\u001b[35mSELECT\u001b[0m fuel_price \u001b[35mAS\u001b[0m field__6vl FROM retail.features),\n",
      "  reduce_4hgd (sum_fuel_price) \u001b[35mAS\u001b[0m (\u001b[35mSELECT\u001b[0m sum(field__6vl) \u001b[35mAS\u001b[0m sum_fuel_price FROM map__kqj)\n",
      "\u001b[35mSELECT\u001b[0m * FROM reduce_4hgd\n"
     ]
    }
   ],
   "source": [
    "#SELECT SUM(fuel_price) As sum_fuel_price FROM features\n",
    "print_query(relation.render())"
   ]
  },
  {
   "attachments": {},
   "cell_type": "markdown",
   "id": "283a0a2e",
   "metadata": {},
   "source": [
    "We send this query to the DB: "
   ]
  },
  {
   "cell_type": "code",
   "execution_count": 18,
   "id": "854e4254",
   "metadata": {},
   "outputs": [
    {
     "data": {
      "text/html": [
       "<div>\n",
       "<style scoped>\n",
       "    .dataframe tbody tr th:only-of-type {\n",
       "        vertical-align: middle;\n",
       "    }\n",
       "\n",
       "    .dataframe tbody tr th {\n",
       "        vertical-align: top;\n",
       "    }\n",
       "\n",
       "    .dataframe thead th {\n",
       "        text-align: right;\n",
       "    }\n",
       "</style>\n",
       "<table border=\"1\" class=\"dataframe\">\n",
       "  <thead>\n",
       "    <tr style=\"text-align: right;\">\n",
       "      <th></th>\n",
       "      <th>sum_fuel_price</th>\n",
       "    </tr>\n",
       "  </thead>\n",
       "  <tbody>\n",
       "    <tr>\n",
       "      <th>0</th>\n",
       "      <td>2965.117</td>\n",
       "    </tr>\n",
       "  </tbody>\n",
       "</table>\n",
       "</div>"
      ],
      "text/plain": [
       "   sum_fuel_price\n",
       "0        2965.117"
      ]
     },
     "execution_count": 18,
     "metadata": {},
     "output_type": "execute_result"
    }
   ],
   "source": [
    "res = db.eval(relation)\n",
    "pd.DataFrame(res)"
   ]
  },
  {
   "attachments": {},
   "cell_type": "markdown",
   "id": "55412614",
   "metadata": {},
   "source": [
    "Which gives the same results than the initial query: "
   ]
  },
  {
   "cell_type": "code",
   "execution_count": 19,
   "id": "6cd5372c",
   "metadata": {},
   "outputs": [
    {
     "data": {
      "text/html": [
       "<div>\n",
       "<style scoped>\n",
       "    .dataframe tbody tr th:only-of-type {\n",
       "        vertical-align: middle;\n",
       "    }\n",
       "\n",
       "    .dataframe tbody tr th {\n",
       "        vertical-align: top;\n",
       "    }\n",
       "\n",
       "    .dataframe thead th {\n",
       "        text-align: right;\n",
       "    }\n",
       "</style>\n",
       "<table border=\"1\" class=\"dataframe\">\n",
       "  <thead>\n",
       "    <tr style=\"text-align: right;\">\n",
       "      <th></th>\n",
       "      <th>sum_fuel_price</th>\n",
       "    </tr>\n",
       "  </thead>\n",
       "  <tbody>\n",
       "    <tr>\n",
       "      <th>0</th>\n",
       "      <td>2965.117</td>\n",
       "    </tr>\n",
       "  </tbody>\n",
       "</table>\n",
       "</div>"
      ],
      "text/plain": [
       "   sum_fuel_price\n",
       "0        2965.117"
      ]
     },
     "execution_count": 19,
     "metadata": {},
     "output_type": "execute_result"
    }
   ],
   "source": [
    "true_res = db.sql(query.replace('\"', ''))\n",
    "pd.DataFrame(true_res)"
   ]
  },
  {
   "attachments": {},
   "cell_type": "markdown",
   "id": "0504ba22",
   "metadata": {},
   "source": [
    "# Protection"
   ]
  },
  {
   "cell_type": "code",
   "execution_count": 20,
   "id": "47aa6d9d",
   "metadata": {},
   "outputs": [
    {
     "data": {
      "text/plain": [
       "'SELECT SUM(fuel_price) As sum_fuel_price FROM \"retail.features\"'"
      ]
     },
     "execution_count": 20,
     "metadata": {},
     "output_type": "execute_result"
    }
   ],
   "source": [
    "query"
   ]
  },
  {
   "attachments": {},
   "cell_type": "markdown",
   "id": "03512632",
   "metadata": {},
   "source": [
    "The `protect` method transforms the initial `Relation` into a `Relation` where the protected entities are preserved, i.e. each row is owned by ony one individual. \n",
    "\n",
    "It inputs: \n",
    "- a `Dataset`\n",
    "- a json string that contains the protected entity of each table:"
   ]
  },
  {
   "cell_type": "code",
   "execution_count": 21,
   "id": "193babf4",
   "metadata": {},
   "outputs": [],
   "source": [
    "str_pe = \"\"\"\n",
    "{\n",
    "  \"protected_entity\": [\n",
    "    [\"retail.stores\", [[\"store\", \"retail.features\", \"store\"]], \"id\"], \n",
    "    [\"retail.features\", [], \"id\"], \n",
    "    [\"retail.sales\", [], \"id\"]\n",
    "  ]\n",
    "}\n",
    "\"\"\""
   ]
  },
  {
   "attachments": {},
   "cell_type": "markdown",
   "id": "109e9605",
   "metadata": {},
   "source": [
    "The protected entity of `features` is its column `id`:"
   ]
  },
  {
   "cell_type": "code",
   "execution_count": 22,
   "id": "aa41f2fe",
   "metadata": {},
   "outputs": [
    {
     "data": {
      "image/svg+xml": [
       "<?xml version=\"1.0\" encoding=\"UTF-8\" standalone=\"no\"?>\n",
       "<!DOCTYPE svg PUBLIC \"-//W3C//DTD SVG 1.1//EN\"\n",
       " \"http://www.w3.org/Graphics/SVG/1.1/DTD/svg11.dtd\">\n",
       "<!-- Generated by graphviz version 8.1.0 (20230707.0739)\n",
       " -->\n",
       "<!-- Title: graph_angm Pages: 1 -->\n",
       "<svg width=\"440pt\" height=\"416pt\"\n",
       " viewBox=\"0.00 0.00 440.30 416.40\" xmlns=\"http://www.w3.org/2000/svg\" xmlns:xlink=\"http://www.w3.org/1999/xlink\">\n",
       "<g id=\"graph0\" class=\"graph\" transform=\"scale(1 1) rotate(0) translate(4 412.4)\">\n",
       "<title>graph_angm</title>\n",
       "<polygon fill=\"none\" stroke=\"none\" points=\"-4,4 -4,-412.4 436.3,-412.4 436.3,4 -4,4\"/>\n",
       "<!-- graph_a4p9 -->\n",
       "<g id=\"node1\" class=\"node\">\n",
       "<title>graph_a4p9</title>\n",
       "<path fill=\"#ff1744\" stroke=\"#000000\" stroke-opacity=\"0.333333\" d=\"M377.55,-127.8C377.55,-127.8 54.75,-127.8 54.75,-127.8 48.75,-127.8 42.75,-121.8 42.75,-115.8 42.75,-115.8 42.75,-12 42.75,-12 42.75,-6 48.75,0 54.75,0 54.75,0 377.55,0 377.55,0 383.55,0 389.55,-6 389.55,-12 389.55,-12 389.55,-115.8 389.55,-115.8 389.55,-121.8 383.55,-127.8 377.55,-127.8\"/>\n",
       "<text text-anchor=\"start\" x=\"133.65\" y=\"-103.95\" font-family=\"Red Hat Display,sans-serif\" font-weight=\"bold\" font-size=\"11.00\" fill=\"#ffffff\" fill-opacity=\"0.733333\">RETAIL.FEATURES size ∈ int{0}</text>\n",
       "<text text-anchor=\"start\" x=\"189.53\" y=\"-92.95\" font-family=\"Red Hat Display,sans-serif\" font-size=\"11.00\" fill=\"#ffffff\" fill-opacity=\"0.733333\">id = id ∈ str</text>\n",
       "<text text-anchor=\"start\" x=\"173.78\" y=\"-81.95\" font-family=\"Red Hat Display,sans-serif\" font-size=\"11.00\" fill=\"#ffffff\" fill-opacity=\"0.733333\">store = store ∈ str</text>\n",
       "<text text-anchor=\"start\" x=\"57.15\" y=\"-70.95\" font-family=\"Red Hat Display,sans-serif\" font-size=\"11.00\" fill=\"#ffffff\" fill-opacity=\"0.733333\">date = date ∈ datetime[0001&#45;01&#45;01 00:00:00 9999&#45;12&#45;31 00:00:00]</text>\n",
       "<text text-anchor=\"start\" x=\"135.15\" y=\"-59.95\" font-family=\"Red Hat Display,sans-serif\" font-size=\"11.00\" fill=\"#ffffff\" fill-opacity=\"0.733333\">temperature = temperature ∈ float</text>\n",
       "<text text-anchor=\"start\" x=\"147.15\" y=\"-48.95\" font-family=\"Red Hat Display,sans-serif\" font-size=\"11.00\" fill=\"#ffffff\" fill-opacity=\"0.733333\">fuel_price = fuel_price ∈ float</text>\n",
       "<text text-anchor=\"start\" x=\"180.15\" y=\"-37.95\" font-family=\"Red Hat Display,sans-serif\" font-size=\"11.00\" fill=\"#ffffff\" fill-opacity=\"0.733333\">cpi = cpi ∈ float</text>\n",
       "<text text-anchor=\"start\" x=\"123.15\" y=\"-26.95\" font-family=\"Red Hat Display,sans-serif\" font-size=\"11.00\" fill=\"#ffffff\" fill-opacity=\"0.733333\">unemployment = unemployment ∈ float</text>\n",
       "<text text-anchor=\"start\" x=\"152.4\" y=\"-15.95\" font-family=\"Red Hat Display,sans-serif\" font-size=\"11.00\" fill=\"#ffffff\" fill-opacity=\"0.733333\">isholiday = isholiday ∈ bool</text>\n",
       "</g>\n",
       "<!-- graph_7w95 -->\n",
       "<g id=\"node2\" class=\"node\">\n",
       "<title>graph_7w95</title>\n",
       "<path fill=\"#428e92\" stroke=\"#000000\" stroke-opacity=\"0.333333\" d=\"M377.55,-306.6C377.55,-306.6 54.75,-306.6 54.75,-306.6 48.75,-306.6 42.75,-300.6 42.75,-294.6 42.75,-294.6 42.75,-168.8 42.75,-168.8 42.75,-162.8 48.75,-156.8 54.75,-156.8 54.75,-156.8 377.55,-156.8 377.55,-156.8 383.55,-156.8 389.55,-162.8 389.55,-168.8 389.55,-168.8 389.55,-294.6 389.55,-294.6 389.55,-300.6 383.55,-306.6 377.55,-306.6\"/>\n",
       "<text text-anchor=\"start\" x=\"93.15\" y=\"-282.75\" font-family=\"Red Hat Display,sans-serif\" font-weight=\"bold\" font-size=\"11.00\" fill=\"#000000\" fill-opacity=\"0.733333\">_PROTECTED_RETAIL.FEATURES size ∈ int{0}</text>\n",
       "<text text-anchor=\"start\" x=\"107.4\" y=\"-271.75\" font-family=\"Red Hat Display,sans-serif\" font-size=\"11.00\" fill=\"#000000\" fill-opacity=\"0.733333\">_PROTECTED_ENTITY_ID_ = md5(id) ∈ str</text>\n",
       "<text text-anchor=\"start\" x=\"99.9\" y=\"-260.75\" font-family=\"Red Hat Display,sans-serif\" font-size=\"11.00\" fill=\"#000000\" fill-opacity=\"0.733333\">_PROTECTED_ENTITY_WEIGHT_ = 1 ∈ int{1}</text>\n",
       "<text text-anchor=\"start\" x=\"189.53\" y=\"-249.75\" font-family=\"Red Hat Display,sans-serif\" font-size=\"11.00\" fill=\"#000000\" fill-opacity=\"0.733333\">id = id ∈ str</text>\n",
       "<text text-anchor=\"start\" x=\"173.78\" y=\"-238.75\" font-family=\"Red Hat Display,sans-serif\" font-size=\"11.00\" fill=\"#000000\" fill-opacity=\"0.733333\">store = store ∈ str</text>\n",
       "<text text-anchor=\"start\" x=\"57.15\" y=\"-227.75\" font-family=\"Red Hat Display,sans-serif\" font-size=\"11.00\" fill=\"#000000\" fill-opacity=\"0.733333\">date = date ∈ datetime[0001&#45;01&#45;01 00:00:00 9999&#45;12&#45;31 00:00:00]</text>\n",
       "<text text-anchor=\"start\" x=\"135.15\" y=\"-216.75\" font-family=\"Red Hat Display,sans-serif\" font-size=\"11.00\" fill=\"#000000\" fill-opacity=\"0.733333\">temperature = temperature ∈ float</text>\n",
       "<text text-anchor=\"start\" x=\"147.15\" y=\"-205.75\" font-family=\"Red Hat Display,sans-serif\" font-size=\"11.00\" fill=\"#000000\" fill-opacity=\"0.733333\">fuel_price = fuel_price ∈ float</text>\n",
       "<text text-anchor=\"start\" x=\"180.15\" y=\"-194.75\" font-family=\"Red Hat Display,sans-serif\" font-size=\"11.00\" fill=\"#000000\" fill-opacity=\"0.733333\">cpi = cpi ∈ float</text>\n",
       "<text text-anchor=\"start\" x=\"123.15\" y=\"-183.75\" font-family=\"Red Hat Display,sans-serif\" font-size=\"11.00\" fill=\"#000000\" fill-opacity=\"0.733333\">unemployment = unemployment ∈ float</text>\n",
       "<text text-anchor=\"start\" x=\"152.4\" y=\"-172.75\" font-family=\"Red Hat Display,sans-serif\" font-size=\"11.00\" fill=\"#000000\" fill-opacity=\"0.733333\">isholiday = isholiday ∈ bool</text>\n",
       "</g>\n",
       "<!-- graph_7w95&#45;&gt;graph_a4p9 -->\n",
       "<g id=\"edge1\" class=\"edge\">\n",
       "<title>graph_7w95&#45;&gt;graph_a4p9</title>\n",
       "<path fill=\"none\" stroke=\"#2b303a\" d=\"M216.15,-156.53C216.15,-150.6 216.15,-144.61 216.15,-138.69\"/>\n",
       "<polygon fill=\"#2b303a\" stroke=\"#2b303a\" points=\"219.65,-139.12 216.15,-129.12 212.65,-139.12 219.65,-139.12\"/>\n",
       "</g>\n",
       "<!-- graph_angm -->\n",
       "<g id=\"node3\" class=\"node\">\n",
       "<title>graph_angm</title>\n",
       "<path fill=\"#428e92\" stroke=\"#000000\" stroke-opacity=\"0.333333\" d=\"M420.3,-408.4C420.3,-408.4 12,-408.4 12,-408.4 6,-408.4 0,-402.4 0,-396.4 0,-396.4 0,-347.6 0,-347.6 0,-341.6 6,-335.6 12,-335.6 12,-335.6 420.3,-335.6 420.3,-335.6 426.3,-335.6 432.3,-341.6 432.3,-347.6 432.3,-347.6 432.3,-396.4 432.3,-396.4 432.3,-402.4 426.3,-408.4 420.3,-408.4\"/>\n",
       "<text text-anchor=\"start\" x=\"155.78\" y=\"-384.55\" font-family=\"Red Hat Display,sans-serif\" font-weight=\"bold\" font-size=\"11.00\" fill=\"#000000\" fill-opacity=\"0.733333\">MAP_24B1 size ∈ int{0}</text>\n",
       "<text text-anchor=\"start\" x=\"53.78\" y=\"-373.55\" font-family=\"Red Hat Display,sans-serif\" font-size=\"11.00\" fill=\"#000000\" fill-opacity=\"0.733333\">_PROTECTED_ENTITY_ID_ = _PROTECTED_ENTITY_ID_ ∈ str</text>\n",
       "<text text-anchor=\"start\" x=\"14.4\" y=\"-362.55\" font-family=\"Red Hat Display,sans-serif\" font-size=\"11.00\" fill=\"#000000\" fill-opacity=\"0.733333\">_PROTECTED_ENTITY_WEIGHT_ = _PROTECTED_ENTITY_WEIGHT_ ∈ int{1}</text>\n",
       "<text text-anchor=\"start\" x=\"147.15\" y=\"-351.55\" font-family=\"Red Hat Display,sans-serif\" font-size=\"11.00\" fill=\"#000000\" fill-opacity=\"0.733333\">fuel_price = fuel_price ∈ float</text>\n",
       "</g>\n",
       "<!-- graph_angm&#45;&gt;graph_7w95 -->\n",
       "<g id=\"edge2\" class=\"edge\">\n",
       "<title>graph_angm&#45;&gt;graph_7w95</title>\n",
       "<path fill=\"none\" stroke=\"#2b303a\" d=\"M216.15,-335.38C216.15,-329.74 216.15,-323.71 216.15,-317.5\"/>\n",
       "<polygon fill=\"#2b303a\" stroke=\"#2b303a\" points=\"219.65,-317.92 216.15,-307.92 212.65,-317.92 219.65,-317.92\"/>\n",
       "</g>\n",
       "</g>\n",
       "</svg>\n"
      ],
      "text/plain": [
       "<graphviz.sources.Source at 0x125889970>"
      ]
     },
     "metadata": {},
     "output_type": "display_data"
    }
   ],
   "source": [
    "_relation = dataset.sql('SELECT fuel_price FROM \"retail.features\"')\n",
    "_protected_relation = _relation.protect(\n",
    "    dataset,\n",
    "    str_pe\n",
    ")\n",
    "display_dot(_protected_relation.dot())"
   ]
  },
  {
   "attachments": {},
   "cell_type": "markdown",
   "id": "e7912de9",
   "metadata": {},
   "source": [
    "The protected entity of `stores` is the `id` column of `features`:"
   ]
  },
  {
   "cell_type": "code",
   "execution_count": 23,
   "id": "d6f725db",
   "metadata": {},
   "outputs": [
    {
     "data": {
      "image/svg+xml": [
       "<?xml version=\"1.0\" encoding=\"UTF-8\" standalone=\"no\"?>\n",
       "<!DOCTYPE svg PUBLIC \"-//W3C//DTD SVG 1.1//EN\"\n",
       " \"http://www.w3.org/Graphics/SVG/1.1/DTD/svg11.dtd\">\n",
       "<!-- Generated by graphviz version 8.1.0 (20230707.0739)\n",
       " -->\n",
       "<!-- Title: graph_yckf Pages: 1 -->\n",
       "<svg width=\"188pt\" height=\"81pt\"\n",
       " viewBox=\"0.00 0.00 188.30 80.80\" xmlns=\"http://www.w3.org/2000/svg\" xmlns:xlink=\"http://www.w3.org/1999/xlink\">\n",
       "<g id=\"graph0\" class=\"graph\" transform=\"scale(1 1) rotate(0) translate(4 76.8)\">\n",
       "<title>graph_yckf</title>\n",
       "<polygon fill=\"none\" stroke=\"none\" points=\"-4,4 -4,-76.8 184.3,-76.8 184.3,4 -4,4\"/>\n",
       "<!-- graph_yckf -->\n",
       "<g id=\"node1\" class=\"node\">\n",
       "<title>graph_yckf</title>\n",
       "<path fill=\"#ff1744\" stroke=\"#000000\" stroke-opacity=\"0.333333\" d=\"M168.3,-72.8C168.3,-72.8 12,-72.8 12,-72.8 6,-72.8 0,-66.8 0,-60.8 0,-60.8 0,-12 0,-12 0,-6 6,0 12,0 12,0 168.3,0 168.3,0 174.3,0 180.3,-6 180.3,-12 180.3,-12 180.3,-60.8 180.3,-60.8 180.3,-66.8 174.3,-72.8 168.3,-72.8\"/>\n",
       "<text text-anchor=\"start\" x=\"14.4\" y=\"-48.95\" font-family=\"Red Hat Display,sans-serif\" font-weight=\"bold\" font-size=\"11.00\" fill=\"#ffffff\" fill-opacity=\"0.733333\">RETAIL.STORES size ∈ int{0}</text>\n",
       "<text text-anchor=\"start\" x=\"47.78\" y=\"-37.95\" font-family=\"Red Hat Display,sans-serif\" font-size=\"11.00\" fill=\"#ffffff\" fill-opacity=\"0.733333\">store = store ∈ str</text>\n",
       "<text text-anchor=\"start\" x=\"51.53\" y=\"-26.95\" font-family=\"Red Hat Display,sans-serif\" font-size=\"11.00\" fill=\"#ffffff\" fill-opacity=\"0.733333\">type = type ∈ str</text>\n",
       "<text text-anchor=\"start\" x=\"53.4\" y=\"-15.95\" font-family=\"Red Hat Display,sans-serif\" font-size=\"11.00\" fill=\"#ffffff\" fill-opacity=\"0.733333\">size = size ∈ int</text>\n",
       "</g>\n",
       "</g>\n",
       "</svg>\n"
      ],
      "text/plain": [
       "<graphviz.sources.Source at 0x125889700>"
      ]
     },
     "metadata": {},
     "output_type": "display_data"
    }
   ],
   "source": [
    "display_dot(dataset.relations()[2][1].dot())"
   ]
  },
  {
   "cell_type": "code",
   "execution_count": 24,
   "id": "e5a5efc6",
   "metadata": {},
   "outputs": [
    {
     "data": {
      "image/svg+xml": [
       "<?xml version=\"1.0\" encoding=\"UTF-8\" standalone=\"no\"?>\n",
       "<!DOCTYPE svg PUBLIC \"-//W3C//DTD SVG 1.1//EN\"\n",
       " \"http://www.w3.org/Graphics/SVG/1.1/DTD/svg11.dtd\">\n",
       "<!-- Generated by graphviz version 8.1.0 (20230707.0739)\n",
       " -->\n",
       "<!-- Title: graph_nyoq Pages: 1 -->\n",
       "<svg width=\"550pt\" height=\"584pt\"\n",
       " viewBox=\"0.00 0.00 549.55 584.20\" xmlns=\"http://www.w3.org/2000/svg\" xmlns:xlink=\"http://www.w3.org/1999/xlink\">\n",
       "<g id=\"graph0\" class=\"graph\" transform=\"scale(1 1) rotate(0) translate(4 580.2)\">\n",
       "<title>graph_nyoq</title>\n",
       "<polygon fill=\"none\" stroke=\"none\" points=\"-4,4 -4,-580.2 545.55,-580.2 545.55,4 -4,4\"/>\n",
       "<!-- graph_yckf -->\n",
       "<g id=\"node1\" class=\"node\">\n",
       "<title>graph_yckf</title>\n",
       "<path fill=\"#ff1744\" stroke=\"#000000\" stroke-opacity=\"0.333333\" d=\"M168.3,-100.3C168.3,-100.3 12,-100.3 12,-100.3 6,-100.3 0,-94.3 0,-88.3 0,-88.3 0,-39.5 0,-39.5 0,-33.5 6,-27.5 12,-27.5 12,-27.5 168.3,-27.5 168.3,-27.5 174.3,-27.5 180.3,-33.5 180.3,-39.5 180.3,-39.5 180.3,-88.3 180.3,-88.3 180.3,-94.3 174.3,-100.3 168.3,-100.3\"/>\n",
       "<text text-anchor=\"start\" x=\"14.4\" y=\"-76.45\" font-family=\"Red Hat Display,sans-serif\" font-weight=\"bold\" font-size=\"11.00\" fill=\"#ffffff\" fill-opacity=\"0.733333\">RETAIL.STORES size ∈ int{0}</text>\n",
       "<text text-anchor=\"start\" x=\"47.78\" y=\"-65.45\" font-family=\"Red Hat Display,sans-serif\" font-size=\"11.00\" fill=\"#ffffff\" fill-opacity=\"0.733333\">store = store ∈ str</text>\n",
       "<text text-anchor=\"start\" x=\"51.53\" y=\"-54.45\" font-family=\"Red Hat Display,sans-serif\" font-size=\"11.00\" fill=\"#ffffff\" fill-opacity=\"0.733333\">type = type ∈ str</text>\n",
       "<text text-anchor=\"start\" x=\"53.4\" y=\"-43.45\" font-family=\"Red Hat Display,sans-serif\" font-size=\"11.00\" fill=\"#ffffff\" fill-opacity=\"0.733333\">size = size ∈ int</text>\n",
       "</g>\n",
       "<!-- graph_a4p9 -->\n",
       "<g id=\"node2\" class=\"node\">\n",
       "<title>graph_a4p9</title>\n",
       "<path fill=\"#ff1744\" stroke=\"#000000\" stroke-opacity=\"0.333333\" d=\"M529.55,-127.8C529.55,-127.8 206.75,-127.8 206.75,-127.8 200.75,-127.8 194.75,-121.8 194.75,-115.8 194.75,-115.8 194.75,-12 194.75,-12 194.75,-6 200.75,0 206.75,0 206.75,0 529.55,0 529.55,0 535.55,0 541.55,-6 541.55,-12 541.55,-12 541.55,-115.8 541.55,-115.8 541.55,-121.8 535.55,-127.8 529.55,-127.8\"/>\n",
       "<text text-anchor=\"start\" x=\"285.65\" y=\"-103.95\" font-family=\"Red Hat Display,sans-serif\" font-weight=\"bold\" font-size=\"11.00\" fill=\"#ffffff\" fill-opacity=\"0.733333\">RETAIL.FEATURES size ∈ int{0}</text>\n",
       "<text text-anchor=\"start\" x=\"341.52\" y=\"-92.95\" font-family=\"Red Hat Display,sans-serif\" font-size=\"11.00\" fill=\"#ffffff\" fill-opacity=\"0.733333\">id = id ∈ str</text>\n",
       "<text text-anchor=\"start\" x=\"325.77\" y=\"-81.95\" font-family=\"Red Hat Display,sans-serif\" font-size=\"11.00\" fill=\"#ffffff\" fill-opacity=\"0.733333\">store = store ∈ str</text>\n",
       "<text text-anchor=\"start\" x=\"209.15\" y=\"-70.95\" font-family=\"Red Hat Display,sans-serif\" font-size=\"11.00\" fill=\"#ffffff\" fill-opacity=\"0.733333\">date = date ∈ datetime[0001&#45;01&#45;01 00:00:00 9999&#45;12&#45;31 00:00:00]</text>\n",
       "<text text-anchor=\"start\" x=\"287.15\" y=\"-59.95\" font-family=\"Red Hat Display,sans-serif\" font-size=\"11.00\" fill=\"#ffffff\" fill-opacity=\"0.733333\">temperature = temperature ∈ float</text>\n",
       "<text text-anchor=\"start\" x=\"299.15\" y=\"-48.95\" font-family=\"Red Hat Display,sans-serif\" font-size=\"11.00\" fill=\"#ffffff\" fill-opacity=\"0.733333\">fuel_price = fuel_price ∈ float</text>\n",
       "<text text-anchor=\"start\" x=\"332.15\" y=\"-37.95\" font-family=\"Red Hat Display,sans-serif\" font-size=\"11.00\" fill=\"#ffffff\" fill-opacity=\"0.733333\">cpi = cpi ∈ float</text>\n",
       "<text text-anchor=\"start\" x=\"275.15\" y=\"-26.95\" font-family=\"Red Hat Display,sans-serif\" font-size=\"11.00\" fill=\"#ffffff\" fill-opacity=\"0.733333\">unemployment = unemployment ∈ float</text>\n",
       "<text text-anchor=\"start\" x=\"304.4\" y=\"-15.95\" font-family=\"Red Hat Display,sans-serif\" font-size=\"11.00\" fill=\"#ffffff\" fill-opacity=\"0.733333\">isholiday = isholiday ∈ bool</text>\n",
       "</g>\n",
       "<!-- graph_xu54 -->\n",
       "<g id=\"node3\" class=\"node\">\n",
       "<title>graph_xu54</title>\n",
       "<path fill=\"#ff616f\" stroke=\"#000000\" stroke-opacity=\"0.333333\" d=\"M437.05,-328.6C437.05,-328.6 21.25,-328.6 21.25,-328.6 15.25,-328.6 9.25,-322.6 9.25,-316.6 9.25,-316.6 9.25,-168.8 9.25,-168.8 9.25,-162.8 15.25,-156.8 21.25,-156.8 21.25,-156.8 437.05,-156.8 437.05,-156.8 443.05,-156.8 449.05,-162.8 449.05,-168.8 449.05,-168.8 449.05,-316.6 449.05,-316.6 449.05,-322.6 443.05,-328.6 437.05,-328.6\"/>\n",
       "<text text-anchor=\"start\" x=\"166.15\" y=\"-304.75\" font-family=\"Red Hat Display,sans-serif\" font-weight=\"bold\" font-size=\"11.00\" fill=\"#000000\" fill-opacity=\"0.733333\">JOIN_B7KK size ∈ int{0}</text>\n",
       "<text text-anchor=\"start\" x=\"146.65\" y=\"-293.75\" font-family=\"Red Hat Display,sans-serif\" font-size=\"11.00\" fill=\"#000000\" fill-opacity=\"0.733333\">field_ak6m = retail.features.id ∈ str</text>\n",
       "<text text-anchor=\"start\" x=\"141.4\" y=\"-282.75\" font-family=\"Red Hat Display,sans-serif\" font-size=\"11.00\" fill=\"#000000\" fill-opacity=\"0.733333\">field_rkq1 = retail.features.store ∈ str</text>\n",
       "<text text-anchor=\"start\" x=\"23.65\" y=\"-271.75\" font-family=\"Red Hat Display,sans-serif\" font-size=\"11.00\" fill=\"#000000\" fill-opacity=\"0.733333\">field_kwfr = retail.features.date ∈ datetime[0001&#45;01&#45;01 00:00:00 9999&#45;12&#45;31 00:00:00]</text>\n",
       "<text text-anchor=\"start\" x=\"123.03\" y=\"-260.75\" font-family=\"Red Hat Display,sans-serif\" font-size=\"11.00\" fill=\"#000000\" fill-opacity=\"0.733333\">field_xilc = retail.features.temperature ∈ float</text>\n",
       "<text text-anchor=\"start\" x=\"126.78\" y=\"-249.75\" font-family=\"Red Hat Display,sans-serif\" font-size=\"11.00\" fill=\"#000000\" fill-opacity=\"0.733333\">field_jv_0 = retail.features.fuel_price ∈ float</text>\n",
       "<text text-anchor=\"start\" x=\"145.15\" y=\"-238.75\" font-family=\"Red Hat Display,sans-serif\" font-size=\"11.00\" fill=\"#000000\" fill-opacity=\"0.733333\">field_jl7x = retail.features.cpi ∈ float</text>\n",
       "<text text-anchor=\"start\" x=\"114.78\" y=\"-227.75\" font-family=\"Red Hat Display,sans-serif\" font-size=\"11.00\" fill=\"#000000\" fill-opacity=\"0.733333\">field_ainv = retail.features.unemployment ∈ float</text>\n",
       "<text text-anchor=\"start\" x=\"126.4\" y=\"-216.75\" font-family=\"Red Hat Display,sans-serif\" font-size=\"11.00\" fill=\"#000000\" fill-opacity=\"0.733333\">field_q6wc = retail.features.isholiday ∈ bool</text>\n",
       "<text text-anchor=\"start\" x=\"145.15\" y=\"-205.75\" font-family=\"Red Hat Display,sans-serif\" font-size=\"11.00\" fill=\"#000000\" fill-opacity=\"0.733333\">field_de5c = retail.stores.store ∈ str</text>\n",
       "<text text-anchor=\"start\" x=\"147.03\" y=\"-194.75\" font-family=\"Red Hat Display,sans-serif\" font-size=\"11.00\" fill=\"#000000\" fill-opacity=\"0.733333\">field_hux2 = retail.stores.type ∈ str</text>\n",
       "<text text-anchor=\"start\" x=\"148.53\" y=\"-183.75\" font-family=\"Red Hat Display,sans-serif\" font-size=\"11.00\" fill=\"#000000\" fill-opacity=\"0.733333\">field_k8ny = retail.stores.size ∈ int</text>\n",
       "<text text-anchor=\"start\" x=\"102.78\" y=\"-172.75\" font-family=\"Red Hat Display,sans-serif\" font-size=\"11.00\" fill=\"#000000\" fill-opacity=\"0.733333\">INNER ON (retail.stores.store = retail.features.store)</text>\n",
       "</g>\n",
       "<!-- graph_xu54&#45;&gt;graph_yckf -->\n",
       "<g id=\"edge2\" class=\"edge\">\n",
       "<title>graph_xu54&#45;&gt;graph_yckf</title>\n",
       "<path fill=\"none\" stroke=\"#2b303a\" d=\"M162.09,-156.41C149.09,-139.87 135.98,-123.19 124.57,-108.69\"/>\n",
       "<polygon fill=\"#2b303a\" stroke=\"#2b303a\" points=\"127,-107.11 118.07,-101.41 121.5,-111.44 127,-107.11\"/>\n",
       "</g>\n",
       "<!-- graph_xu54&#45;&gt;graph_a4p9 -->\n",
       "<g id=\"edge1\" class=\"edge\">\n",
       "<title>graph_xu54&#45;&gt;graph_a4p9</title>\n",
       "<path fill=\"none\" stroke=\"#2b303a\" d=\"M296.21,-156.41C301.48,-149.7 306.77,-142.97 311.96,-136.37\"/>\n",
       "<polygon fill=\"#2b303a\" stroke=\"#2b303a\" points=\"315.04,-139.12 318.46,-129.1 309.53,-134.8 315.04,-139.12\"/>\n",
       "</g>\n",
       "<!-- graph_3cwn -->\n",
       "<g id=\"node4\" class=\"node\">\n",
       "<title>graph_3cwn</title>\n",
       "<path fill=\"#428e92\" stroke=\"#000000\" stroke-opacity=\"0.333333\" d=\"M362.05,-452.4C362.05,-452.4 96.25,-452.4 96.25,-452.4 90.25,-452.4 84.25,-446.4 84.25,-440.4 84.25,-440.4 84.25,-369.6 84.25,-369.6 84.25,-363.6 90.25,-357.6 96.25,-357.6 96.25,-357.6 362.05,-357.6 362.05,-357.6 368.05,-357.6 374.05,-363.6 374.05,-369.6 374.05,-369.6 374.05,-440.4 374.05,-440.4 374.05,-446.4 368.05,-452.4 362.05,-452.4\"/>\n",
       "<text text-anchor=\"start\" x=\"112.9\" y=\"-428.55\" font-family=\"Red Hat Display,sans-serif\" font-weight=\"bold\" font-size=\"11.00\" fill=\"#000000\" fill-opacity=\"0.733333\">_PROTECTED_RETAIL.STORES size ∈ int{0}</text>\n",
       "<text text-anchor=\"start\" x=\"98.65\" y=\"-417.55\" font-family=\"Red Hat Display,sans-serif\" font-size=\"11.00\" fill=\"#000000\" fill-opacity=\"0.733333\">_PROTECTED_ENTITY_ID_ = md5(field_ak6m) ∈ str</text>\n",
       "<text text-anchor=\"start\" x=\"112.9\" y=\"-406.55\" font-family=\"Red Hat Display,sans-serif\" font-size=\"11.00\" fill=\"#000000\" fill-opacity=\"0.733333\">_PROTECTED_ENTITY_WEIGHT_ = 1 ∈ int{1}</text>\n",
       "<text text-anchor=\"start\" x=\"174.4\" y=\"-395.55\" font-family=\"Red Hat Display,sans-serif\" font-size=\"11.00\" fill=\"#000000\" fill-opacity=\"0.733333\">store = field_de5c ∈ str</text>\n",
       "<text text-anchor=\"start\" x=\"176.28\" y=\"-384.55\" font-family=\"Red Hat Display,sans-serif\" font-size=\"11.00\" fill=\"#000000\" fill-opacity=\"0.733333\">type = field_hux2 ∈ str</text>\n",
       "<text text-anchor=\"start\" x=\"177.78\" y=\"-373.55\" font-family=\"Red Hat Display,sans-serif\" font-size=\"11.00\" fill=\"#000000\" fill-opacity=\"0.733333\">size = field_k8ny ∈ int</text>\n",
       "</g>\n",
       "<!-- graph_3cwn&#45;&gt;graph_xu54 -->\n",
       "<g id=\"edge3\" class=\"edge\">\n",
       "<title>graph_3cwn&#45;&gt;graph_xu54</title>\n",
       "<path fill=\"none\" stroke=\"#2b303a\" d=\"M229.15,-357.2C229.15,-351.6 229.15,-345.73 229.15,-339.74\"/>\n",
       "<polygon fill=\"#2b303a\" stroke=\"#2b303a\" points=\"232.65,-339.86 229.15,-329.86 225.65,-339.86 232.65,-339.86\"/>\n",
       "</g>\n",
       "<!-- graph_nyoq -->\n",
       "<g id=\"node5\" class=\"node\">\n",
       "<title>graph_nyoq</title>\n",
       "<path fill=\"#428e92\" stroke=\"#000000\" stroke-opacity=\"0.333333\" d=\"M433.3,-576.2C433.3,-576.2 25,-576.2 25,-576.2 19,-576.2 13,-570.2 13,-564.2 13,-564.2 13,-493.4 13,-493.4 13,-487.4 19,-481.4 25,-481.4 25,-481.4 433.3,-481.4 433.3,-481.4 439.3,-481.4 445.3,-487.4 445.3,-493.4 445.3,-493.4 445.3,-564.2 445.3,-564.2 445.3,-570.2 439.3,-576.2 433.3,-576.2\"/>\n",
       "<text text-anchor=\"start\" x=\"167.65\" y=\"-552.35\" font-family=\"Red Hat Display,sans-serif\" font-weight=\"bold\" font-size=\"11.00\" fill=\"#000000\" fill-opacity=\"0.733333\">MAP_TFZH size ∈ int{0}</text>\n",
       "<text text-anchor=\"start\" x=\"66.78\" y=\"-541.35\" font-family=\"Red Hat Display,sans-serif\" font-size=\"11.00\" fill=\"#000000\" fill-opacity=\"0.733333\">_PROTECTED_ENTITY_ID_ = _PROTECTED_ENTITY_ID_ ∈ str</text>\n",
       "<text text-anchor=\"start\" x=\"27.4\" y=\"-530.35\" font-family=\"Red Hat Display,sans-serif\" font-size=\"11.00\" fill=\"#000000\" fill-opacity=\"0.733333\">_PROTECTED_ENTITY_WEIGHT_ = _PROTECTED_ENTITY_WEIGHT_ ∈ int{1}</text>\n",
       "<text text-anchor=\"start\" x=\"186.78\" y=\"-519.35\" font-family=\"Red Hat Display,sans-serif\" font-size=\"11.00\" fill=\"#000000\" fill-opacity=\"0.733333\">store = store ∈ str</text>\n",
       "<text text-anchor=\"start\" x=\"190.53\" y=\"-508.35\" font-family=\"Red Hat Display,sans-serif\" font-size=\"11.00\" fill=\"#000000\" fill-opacity=\"0.733333\">type = type ∈ str</text>\n",
       "<text text-anchor=\"start\" x=\"192.4\" y=\"-497.35\" font-family=\"Red Hat Display,sans-serif\" font-size=\"11.00\" fill=\"#000000\" fill-opacity=\"0.733333\">size = size ∈ int</text>\n",
       "</g>\n",
       "<!-- graph_nyoq&#45;&gt;graph_3cwn -->\n",
       "<g id=\"edge4\" class=\"edge\">\n",
       "<title>graph_nyoq&#45;&gt;graph_3cwn</title>\n",
       "<path fill=\"none\" stroke=\"#2b303a\" d=\"M229.15,-481.06C229.15,-475.27 229.15,-469.3 229.15,-463.38\"/>\n",
       "<polygon fill=\"#2b303a\" stroke=\"#2b303a\" points=\"232.65,-463.82 229.15,-453.82 225.65,-463.82 232.65,-463.82\"/>\n",
       "</g>\n",
       "</g>\n",
       "</svg>\n"
      ],
      "text/plain": [
       "<graphviz.sources.Source at 0x124719d90>"
      ]
     },
     "metadata": {},
     "output_type": "display_data"
    }
   ],
   "source": [
    "#protected entity: [\"retail.stores\", [[\"store\", \"retail.features\", \"store\"]], \"id\"]\n",
    "_relation = dataset.sql('SELECT * FROM \"retail.stores\"')\n",
    "_protected_relation = _relation.protect(\n",
    "    dataset,\n",
    "    str_pe\n",
    ")\n",
    "display_dot(_protected_relation.dot())"
   ]
  },
  {
   "attachments": {},
   "cell_type": "markdown",
   "id": "8459b402",
   "metadata": {},
   "source": [
    "We apply `protect`  to the `Relation` build from `SELECT SUM(fuel_price) As sum_fuel_price FROM features`:"
   ]
  },
  {
   "cell_type": "code",
   "execution_count": 25,
   "id": "c344ed97",
   "metadata": {},
   "outputs": [
    {
     "data": {
      "image/svg+xml": [
       "<?xml version=\"1.0\" encoding=\"UTF-8\" standalone=\"no\"?>\n",
       "<!DOCTYPE svg PUBLIC \"-//W3C//DTD SVG 1.1//EN\"\n",
       " \"http://www.w3.org/Graphics/SVG/1.1/DTD/svg11.dtd\">\n",
       "<!-- Generated by graphviz version 8.1.0 (20230707.0739)\n",
       " -->\n",
       "<!-- Title: graph_vaz1 Pages: 1 -->\n",
       "<svg width=\"440pt\" height=\"631pt\"\n",
       " viewBox=\"0.00 0.00 440.30 631.00\" xmlns=\"http://www.w3.org/2000/svg\" xmlns:xlink=\"http://www.w3.org/1999/xlink\">\n",
       "<g id=\"graph0\" class=\"graph\" transform=\"scale(1 1) rotate(0) translate(4 627)\">\n",
       "<title>graph_vaz1</title>\n",
       "<polygon fill=\"none\" stroke=\"none\" points=\"-4,4 -4,-627 436.3,-627 436.3,4 -4,4\"/>\n",
       "<!-- graph_a4p9 -->\n",
       "<g id=\"node1\" class=\"node\">\n",
       "<title>graph_a4p9</title>\n",
       "<path fill=\"#ff1744\" stroke=\"#000000\" stroke-opacity=\"0.333333\" d=\"M377.55,-127.8C377.55,-127.8 54.75,-127.8 54.75,-127.8 48.75,-127.8 42.75,-121.8 42.75,-115.8 42.75,-115.8 42.75,-12 42.75,-12 42.75,-6 48.75,0 54.75,0 54.75,0 377.55,0 377.55,0 383.55,0 389.55,-6 389.55,-12 389.55,-12 389.55,-115.8 389.55,-115.8 389.55,-121.8 383.55,-127.8 377.55,-127.8\"/>\n",
       "<text text-anchor=\"start\" x=\"133.65\" y=\"-103.95\" font-family=\"Red Hat Display,sans-serif\" font-weight=\"bold\" font-size=\"11.00\" fill=\"#ffffff\" fill-opacity=\"0.733333\">RETAIL.FEATURES size ∈ int{0}</text>\n",
       "<text text-anchor=\"start\" x=\"189.53\" y=\"-92.95\" font-family=\"Red Hat Display,sans-serif\" font-size=\"11.00\" fill=\"#ffffff\" fill-opacity=\"0.733333\">id = id ∈ str</text>\n",
       "<text text-anchor=\"start\" x=\"173.78\" y=\"-81.95\" font-family=\"Red Hat Display,sans-serif\" font-size=\"11.00\" fill=\"#ffffff\" fill-opacity=\"0.733333\">store = store ∈ str</text>\n",
       "<text text-anchor=\"start\" x=\"57.15\" y=\"-70.95\" font-family=\"Red Hat Display,sans-serif\" font-size=\"11.00\" fill=\"#ffffff\" fill-opacity=\"0.733333\">date = date ∈ datetime[0001&#45;01&#45;01 00:00:00 9999&#45;12&#45;31 00:00:00]</text>\n",
       "<text text-anchor=\"start\" x=\"135.15\" y=\"-59.95\" font-family=\"Red Hat Display,sans-serif\" font-size=\"11.00\" fill=\"#ffffff\" fill-opacity=\"0.733333\">temperature = temperature ∈ float</text>\n",
       "<text text-anchor=\"start\" x=\"147.15\" y=\"-48.95\" font-family=\"Red Hat Display,sans-serif\" font-size=\"11.00\" fill=\"#ffffff\" fill-opacity=\"0.733333\">fuel_price = fuel_price ∈ float</text>\n",
       "<text text-anchor=\"start\" x=\"180.15\" y=\"-37.95\" font-family=\"Red Hat Display,sans-serif\" font-size=\"11.00\" fill=\"#ffffff\" fill-opacity=\"0.733333\">cpi = cpi ∈ float</text>\n",
       "<text text-anchor=\"start\" x=\"123.15\" y=\"-26.95\" font-family=\"Red Hat Display,sans-serif\" font-size=\"11.00\" fill=\"#ffffff\" fill-opacity=\"0.733333\">unemployment = unemployment ∈ float</text>\n",
       "<text text-anchor=\"start\" x=\"152.4\" y=\"-15.95\" font-family=\"Red Hat Display,sans-serif\" font-size=\"11.00\" fill=\"#ffffff\" fill-opacity=\"0.733333\">isholiday = isholiday ∈ bool</text>\n",
       "</g>\n",
       "<!-- graph_7w95 -->\n",
       "<g id=\"node2\" class=\"node\">\n",
       "<title>graph_7w95</title>\n",
       "<path fill=\"#428e92\" stroke=\"#000000\" stroke-opacity=\"0.333333\" d=\"M377.55,-306.6C377.55,-306.6 54.75,-306.6 54.75,-306.6 48.75,-306.6 42.75,-300.6 42.75,-294.6 42.75,-294.6 42.75,-168.8 42.75,-168.8 42.75,-162.8 48.75,-156.8 54.75,-156.8 54.75,-156.8 377.55,-156.8 377.55,-156.8 383.55,-156.8 389.55,-162.8 389.55,-168.8 389.55,-168.8 389.55,-294.6 389.55,-294.6 389.55,-300.6 383.55,-306.6 377.55,-306.6\"/>\n",
       "<text text-anchor=\"start\" x=\"93.15\" y=\"-282.75\" font-family=\"Red Hat Display,sans-serif\" font-weight=\"bold\" font-size=\"11.00\" fill=\"#000000\" fill-opacity=\"0.733333\">_PROTECTED_RETAIL.FEATURES size ∈ int{0}</text>\n",
       "<text text-anchor=\"start\" x=\"107.4\" y=\"-271.75\" font-family=\"Red Hat Display,sans-serif\" font-size=\"11.00\" fill=\"#000000\" fill-opacity=\"0.733333\">_PROTECTED_ENTITY_ID_ = md5(id) ∈ str</text>\n",
       "<text text-anchor=\"start\" x=\"99.9\" y=\"-260.75\" font-family=\"Red Hat Display,sans-serif\" font-size=\"11.00\" fill=\"#000000\" fill-opacity=\"0.733333\">_PROTECTED_ENTITY_WEIGHT_ = 1 ∈ int{1}</text>\n",
       "<text text-anchor=\"start\" x=\"189.53\" y=\"-249.75\" font-family=\"Red Hat Display,sans-serif\" font-size=\"11.00\" fill=\"#000000\" fill-opacity=\"0.733333\">id = id ∈ str</text>\n",
       "<text text-anchor=\"start\" x=\"173.78\" y=\"-238.75\" font-family=\"Red Hat Display,sans-serif\" font-size=\"11.00\" fill=\"#000000\" fill-opacity=\"0.733333\">store = store ∈ str</text>\n",
       "<text text-anchor=\"start\" x=\"57.15\" y=\"-227.75\" font-family=\"Red Hat Display,sans-serif\" font-size=\"11.00\" fill=\"#000000\" fill-opacity=\"0.733333\">date = date ∈ datetime[0001&#45;01&#45;01 00:00:00 9999&#45;12&#45;31 00:00:00]</text>\n",
       "<text text-anchor=\"start\" x=\"135.15\" y=\"-216.75\" font-family=\"Red Hat Display,sans-serif\" font-size=\"11.00\" fill=\"#000000\" fill-opacity=\"0.733333\">temperature = temperature ∈ float</text>\n",
       "<text text-anchor=\"start\" x=\"147.15\" y=\"-205.75\" font-family=\"Red Hat Display,sans-serif\" font-size=\"11.00\" fill=\"#000000\" fill-opacity=\"0.733333\">fuel_price = fuel_price ∈ float</text>\n",
       "<text text-anchor=\"start\" x=\"180.15\" y=\"-194.75\" font-family=\"Red Hat Display,sans-serif\" font-size=\"11.00\" fill=\"#000000\" fill-opacity=\"0.733333\">cpi = cpi ∈ float</text>\n",
       "<text text-anchor=\"start\" x=\"123.15\" y=\"-183.75\" font-family=\"Red Hat Display,sans-serif\" font-size=\"11.00\" fill=\"#000000\" fill-opacity=\"0.733333\">unemployment = unemployment ∈ float</text>\n",
       "<text text-anchor=\"start\" x=\"152.4\" y=\"-172.75\" font-family=\"Red Hat Display,sans-serif\" font-size=\"11.00\" fill=\"#000000\" fill-opacity=\"0.733333\">isholiday = isholiday ∈ bool</text>\n",
       "</g>\n",
       "<!-- graph_7w95&#45;&gt;graph_a4p9 -->\n",
       "<g id=\"edge1\" class=\"edge\">\n",
       "<title>graph_7w95&#45;&gt;graph_a4p9</title>\n",
       "<path fill=\"none\" stroke=\"#2b303a\" d=\"M216.15,-156.53C216.15,-150.6 216.15,-144.61 216.15,-138.69\"/>\n",
       "<polygon fill=\"#2b303a\" stroke=\"#2b303a\" points=\"219.65,-139.12 216.15,-129.12 212.65,-139.12 219.65,-139.12\"/>\n",
       "</g>\n",
       "<!-- graph_vfn6 -->\n",
       "<g id=\"node3\" class=\"node\">\n",
       "<title>graph_vfn6</title>\n",
       "<path fill=\"#428e92\" stroke=\"#000000\" stroke-opacity=\"0.333333\" d=\"M420.3,-408.4C420.3,-408.4 12,-408.4 12,-408.4 6,-408.4 0,-402.4 0,-396.4 0,-396.4 0,-347.6 0,-347.6 0,-341.6 6,-335.6 12,-335.6 12,-335.6 420.3,-335.6 420.3,-335.6 426.3,-335.6 432.3,-341.6 432.3,-347.6 432.3,-347.6 432.3,-396.4 432.3,-396.4 432.3,-402.4 426.3,-408.4 420.3,-408.4\"/>\n",
       "<text text-anchor=\"start\" x=\"154.65\" y=\"-384.55\" font-family=\"Red Hat Display,sans-serif\" font-weight=\"bold\" font-size=\"11.00\" fill=\"#000000\" fill-opacity=\"0.733333\">MAP__KQJ size ∈ int{0}</text>\n",
       "<text text-anchor=\"start\" x=\"53.78\" y=\"-373.55\" font-family=\"Red Hat Display,sans-serif\" font-size=\"11.00\" fill=\"#000000\" fill-opacity=\"0.733333\">_PROTECTED_ENTITY_ID_ = _PROTECTED_ENTITY_ID_ ∈ str</text>\n",
       "<text text-anchor=\"start\" x=\"14.4\" y=\"-362.55\" font-family=\"Red Hat Display,sans-serif\" font-size=\"11.00\" fill=\"#000000\" fill-opacity=\"0.733333\">_PROTECTED_ENTITY_WEIGHT_ = _PROTECTED_ENTITY_WEIGHT_ ∈ int{1}</text>\n",
       "<text text-anchor=\"start\" x=\"147.9\" y=\"-351.55\" font-family=\"Red Hat Display,sans-serif\" font-size=\"11.00\" fill=\"#000000\" fill-opacity=\"0.733333\">field__6vl = fuel_price ∈ float</text>\n",
       "</g>\n",
       "<!-- graph_vfn6&#45;&gt;graph_7w95 -->\n",
       "<g id=\"edge2\" class=\"edge\">\n",
       "<title>graph_vfn6&#45;&gt;graph_7w95</title>\n",
       "<path fill=\"none\" stroke=\"#2b303a\" d=\"M216.15,-335.38C216.15,-329.74 216.15,-323.71 216.15,-317.5\"/>\n",
       "<polygon fill=\"#2b303a\" stroke=\"#2b303a\" points=\"219.65,-317.92 216.15,-307.92 212.65,-317.92 219.65,-317.92\"/>\n",
       "</g>\n",
       "<!-- graph_cg5i -->\n",
       "<g id=\"node4\" class=\"node\">\n",
       "<title>graph_cg5i</title>\n",
       "<path fill=\"#428e92\" stroke=\"#000000\" stroke-opacity=\"0.333333\" d=\"M355.43,-510.2C355.43,-510.2 76.88,-510.2 76.88,-510.2 70.88,-510.2 64.88,-504.2 64.88,-498.2 64.88,-498.2 64.88,-449.4 64.88,-449.4 64.88,-443.4 70.88,-437.4 76.88,-437.4 76.88,-437.4 355.43,-437.4 355.43,-437.4 361.43,-437.4 367.43,-443.4 367.43,-449.4 367.43,-449.4 367.43,-498.2 367.43,-498.2 367.43,-504.2 361.43,-510.2 355.43,-510.2\"/>\n",
       "<text text-anchor=\"start\" x=\"155.03\" y=\"-486.35\" font-family=\"Red Hat Display,sans-serif\" font-weight=\"bold\" font-size=\"11.00\" fill=\"#000000\" fill-opacity=\"0.733333\">MAP_O4Y4 size ∈ int{0}</text>\n",
       "<text text-anchor=\"start\" x=\"102.53\" y=\"-475.35\" font-family=\"Red Hat Display,sans-serif\" font-size=\"11.00\" fill=\"#000000\" fill-opacity=\"0.733333\">field_6zur = _PROTECTED_ENTITY_ID_ ∈ str</text>\n",
       "<text text-anchor=\"start\" x=\"79.28\" y=\"-464.35\" font-family=\"Red Hat Display,sans-serif\" font-size=\"11.00\" fill=\"#000000\" fill-opacity=\"0.733333\">field_yx2x = _PROTECTED_ENTITY_WEIGHT_ ∈ int{1}</text>\n",
       "<text text-anchor=\"start\" x=\"146.4\" y=\"-453.35\" font-family=\"Red Hat Display,sans-serif\" font-size=\"11.00\" fill=\"#000000\" fill-opacity=\"0.733333\">field_3d25 = field__6vl ∈ float</text>\n",
       "</g>\n",
       "<!-- graph_cg5i&#45;&gt;graph_vfn6 -->\n",
       "<g id=\"edge3\" class=\"edge\">\n",
       "<title>graph_cg5i&#45;&gt;graph_vfn6</title>\n",
       "<path fill=\"none\" stroke=\"#2b303a\" d=\"M216.15,-437.05C216.15,-431.46 216.15,-425.61 216.15,-419.82\"/>\n",
       "<polygon fill=\"#2b303a\" stroke=\"#2b303a\" points=\"219.65,-419.83 216.15,-409.83 212.65,-419.83 219.65,-419.83\"/>\n",
       "</g>\n",
       "<!-- graph_vaz1 -->\n",
       "<g id=\"node5\" class=\"node\">\n",
       "<title>graph_vaz1</title>\n",
       "<path fill=\"#00363a\" stroke=\"#000000\" stroke-opacity=\"0.333333\" d=\"M369.3,-623C369.3,-623 63,-623 63,-623 57,-623 51,-617 51,-611 51,-611 51,-551.2 51,-551.2 51,-545.2 57,-539.2 63,-539.2 63,-539.2 369.3,-539.2 369.3,-539.2 375.3,-539.2 381.3,-545.2 381.3,-551.2 381.3,-551.2 381.3,-611 381.3,-611 381.3,-617 375.3,-623 369.3,-623\"/>\n",
       "<text text-anchor=\"start\" x=\"141.9\" y=\"-599.15\" font-family=\"Red Hat Display,sans-serif\" font-weight=\"bold\" font-size=\"11.00\" fill=\"#ffffff\" fill-opacity=\"0.733333\">REDUCE_4HGD size ∈ int{0}</text>\n",
       "<text text-anchor=\"start\" x=\"90.15\" y=\"-588.15\" font-family=\"Red Hat Display,sans-serif\" font-size=\"11.00\" fill=\"#ffffff\" fill-opacity=\"0.733333\">_PROTECTED_ENTITY_ID_ = first(field_6zur) ∈ str</text>\n",
       "<text text-anchor=\"start\" x=\"65.4\" y=\"-577.15\" font-family=\"Red Hat Display,sans-serif\" font-size=\"11.00\" fill=\"#ffffff\" fill-opacity=\"0.733333\">_PROTECTED_ENTITY_WEIGHT_ = sum(field_yx2x) ∈ int{0}</text>\n",
       "<text text-anchor=\"start\" x=\"110.03\" y=\"-566.15\" font-family=\"Red Hat Display,sans-serif\" font-size=\"11.00\" fill=\"#ffffff\" fill-opacity=\"0.733333\">sum_fuel_price = sum(field_3d25) ∈ float{&#45;0}</text>\n",
       "<text text-anchor=\"start\" x=\"158.4\" y=\"-555.15\" font-family=\"Red Hat Display,sans-serif\" font-size=\"11.00\" fill=\"#ffffff\" fill-opacity=\"0.733333\">GROUP BY (field_6zur)</text>\n",
       "</g>\n",
       "<!-- graph_vaz1&#45;&gt;graph_cg5i -->\n",
       "<g id=\"edge4\" class=\"edge\">\n",
       "<title>graph_vaz1&#45;&gt;graph_cg5i</title>\n",
       "<path fill=\"none\" stroke=\"#2b303a\" d=\"M216.15,-538.78C216.15,-533.1 216.15,-527.22 216.15,-521.45\"/>\n",
       "<polygon fill=\"#2b303a\" stroke=\"#2b303a\" points=\"219.65,-521.54 216.15,-511.54 212.65,-521.54 219.65,-521.54\"/>\n",
       "</g>\n",
       "</g>\n",
       "</svg>\n"
      ],
      "text/plain": [
       "<graphviz.sources.Source at 0x12585c7c0>"
      ]
     },
     "metadata": {},
     "output_type": "display_data"
    }
   ],
   "source": [
    "protected_relation = relation.protect(\n",
    "    dataset,\n",
    "    str_pe\n",
    ")\n",
    "display_dot(protected_relation.dot())"
   ]
  },
  {
   "attachments": {},
   "cell_type": "markdown",
   "id": "d57d5831",
   "metadata": {},
   "source": [
    "The protection reorganises the inital `Relation` so that the output `Relation` preserves the protected entity : **in the protected `Relation`, we are sure than each row is owned by only one individual.**\n",
    "\n",
    "In our example, the initial `SUM` over the entire dataset has been replaced by a `SUM` groupped by the protected entities. "
   ]
  },
  {
   "cell_type": "code",
   "execution_count": 26,
   "id": "0147502c",
   "metadata": {},
   "outputs": [
    {
     "name": "stdout",
     "output_type": "stream",
     "text": [
      "\"{\u001b[31m_PROTECTED_ENTITY_ID_\u001b[0m: str, \u001b[31m_PROTECTED_ENTITY_WEIGHT_\u001b[0m: \u001b[34mint\u001b[0m{0}, sum_fuel_price: \u001b[34mfloat\u001b[0m{-0}}\"\n"
     ]
    }
   ],
   "source": [
    "print_colored_json(protected_relation.schema())"
   ]
  },
  {
   "cell_type": "code",
   "execution_count": 27,
   "id": "44206c20",
   "metadata": {},
   "outputs": [
    {
     "name": "stdout",
     "output_type": "stream",
     "text": [
      "\u001b[34mWITH\u001b[0m\n",
      "  _protected_retail.features (_PROTECTED_ENTITY_ID_, _PROTECTED_ENTITY_WEIGHT_, id, store, date, temperature, fuel_price, cpi, unemployment, isholiday) \u001b[35mAS\u001b[0m (\u001b[35mSELECT\u001b[0m md5(id) \u001b[35mAS\u001b[0m _PROTECTED_ENTITY_ID_, 1 \u001b[35mAS\u001b[0m _PROTECTED_ENTITY_WEIGHT_, id \u001b[35mAS\u001b[0m id, store \u001b[35mAS\u001b[0m store, date \u001b[35mAS\u001b[0m date, temperature \u001b[35mAS\u001b[0m temperature, fuel_price \u001b[35mAS\u001b[0m fuel_price, cpi \u001b[35mAS\u001b[0m cpi, unemployment \u001b[35mAS\u001b[0m unemployment, isholiday \u001b[35mAS\u001b[0m isholiday FROM retail.features),\n",
      "  map__kqj (_PROTECTED_ENTITY_ID_, _PROTECTED_ENTITY_WEIGHT_, field__6vl) \u001b[35mAS\u001b[0m (\u001b[35mSELECT\u001b[0m _PROTECTED_ENTITY_ID_ \u001b[35mAS\u001b[0m _PROTECTED_ENTITY_ID_, _PROTECTED_ENTITY_WEIGHT_ \u001b[35mAS\u001b[0m _PROTECTED_ENTITY_WEIGHT_, fuel_price \u001b[35mAS\u001b[0m field__6vl FROM _protected_retail.features),\n",
      "  map_o4y4 (field_6zur, field_yx2x, field_3d25) \u001b[35mAS\u001b[0m (\u001b[35mSELECT\u001b[0m _PROTECTED_ENTITY_ID_ \u001b[35mAS\u001b[0m field_6zur, _PROTECTED_ENTITY_WEIGHT_ \u001b[35mAS\u001b[0m field_yx2x, field__6vl \u001b[35mAS\u001b[0m field_3d25 FROM map__kqj),\n",
      "  reduce_4hgd (_PROTECTED_ENTITY_ID_, _PROTECTED_ENTITY_WEIGHT_, sum_fuel_price) \u001b[35mAS\u001b[0m (\u001b[35mSELECT\u001b[0m field_6zur \u001b[35mAS\u001b[0m _PROTECTED_ENTITY_ID_, sum(field_yx2x) \u001b[35mAS\u001b[0m _PROTECTED_ENTITY_WEIGHT_, sum(field_3d25) \u001b[35mAS\u001b[0m sum_fuel_price FROM map_o4y4 \u001b[35mGROUP BY\u001b[0m field_6zur)\n",
      "\u001b[35mSELECT\u001b[0m * FROM reduce_4hgd\n"
     ]
    }
   ],
   "source": [
    "print_query(protected_relation.render())"
   ]
  },
  {
   "cell_type": "code",
   "execution_count": 29,
   "id": "a33eda45",
   "metadata": {},
   "outputs": [
    {
     "data": {
      "text/html": [
       "<div>\n",
       "<style scoped>\n",
       "    .dataframe tbody tr th:only-of-type {\n",
       "        vertical-align: middle;\n",
       "    }\n",
       "\n",
       "    .dataframe tbody tr th {\n",
       "        vertical-align: top;\n",
       "    }\n",
       "\n",
       "    .dataframe thead th {\n",
       "        text-align: right;\n",
       "    }\n",
       "</style>\n",
       "<table border=\"1\" class=\"dataframe\">\n",
       "  <thead>\n",
       "    <tr style=\"text-align: right;\">\n",
       "      <th></th>\n",
       "      <th>id</th>\n",
       "      <th>store</th>\n",
       "      <th>date</th>\n",
       "      <th>temperature</th>\n",
       "      <th>fuel_price</th>\n",
       "      <th>cpi</th>\n",
       "      <th>unemployment</th>\n",
       "      <th>isholiday</th>\n",
       "    </tr>\n",
       "  </thead>\n",
       "  <tbody>\n",
       "    <tr>\n",
       "      <th>0</th>\n",
       "      <td>1</td>\n",
       "      <td>1</td>\n",
       "      <td>2010-02-05</td>\n",
       "      <td>42.31</td>\n",
       "      <td>2.572</td>\n",
       "      <td>211.096358</td>\n",
       "      <td>8.106</td>\n",
       "      <td>False</td>\n",
       "    </tr>\n",
       "    <tr>\n",
       "      <th>1</th>\n",
       "      <td>2</td>\n",
       "      <td>1</td>\n",
       "      <td>2010-02-12</td>\n",
       "      <td>38.51</td>\n",
       "      <td>2.548</td>\n",
       "      <td>211.242170</td>\n",
       "      <td>8.106</td>\n",
       "      <td>True</td>\n",
       "    </tr>\n",
       "    <tr>\n",
       "      <th>2</th>\n",
       "      <td>3</td>\n",
       "      <td>1</td>\n",
       "      <td>2010-02-19</td>\n",
       "      <td>39.93</td>\n",
       "      <td>2.514</td>\n",
       "      <td>211.289143</td>\n",
       "      <td>8.106</td>\n",
       "      <td>False</td>\n",
       "    </tr>\n",
       "    <tr>\n",
       "      <th>3</th>\n",
       "      <td>4</td>\n",
       "      <td>1</td>\n",
       "      <td>2010-02-26</td>\n",
       "      <td>46.63</td>\n",
       "      <td>2.561</td>\n",
       "      <td>211.319643</td>\n",
       "      <td>8.106</td>\n",
       "      <td>False</td>\n",
       "    </tr>\n",
       "    <tr>\n",
       "      <th>4</th>\n",
       "      <td>5</td>\n",
       "      <td>1</td>\n",
       "      <td>2010-03-05</td>\n",
       "      <td>46.50</td>\n",
       "      <td>2.625</td>\n",
       "      <td>211.350143</td>\n",
       "      <td>8.106</td>\n",
       "      <td>False</td>\n",
       "    </tr>\n",
       "    <tr>\n",
       "      <th>...</th>\n",
       "      <td>...</td>\n",
       "      <td>...</td>\n",
       "      <td>...</td>\n",
       "      <td>...</td>\n",
       "      <td>...</td>\n",
       "      <td>...</td>\n",
       "      <td>...</td>\n",
       "      <td>...</td>\n",
       "    </tr>\n",
       "    <tr>\n",
       "      <th>905</th>\n",
       "      <td>906</td>\n",
       "      <td>5</td>\n",
       "      <td>2013-06-28</td>\n",
       "      <td>86.09</td>\n",
       "      <td>3.495</td>\n",
       "      <td>NaN</td>\n",
       "      <td>NaN</td>\n",
       "      <td>False</td>\n",
       "    </tr>\n",
       "    <tr>\n",
       "      <th>906</th>\n",
       "      <td>907</td>\n",
       "      <td>5</td>\n",
       "      <td>2013-07-05</td>\n",
       "      <td>82.06</td>\n",
       "      <td>3.422</td>\n",
       "      <td>NaN</td>\n",
       "      <td>NaN</td>\n",
       "      <td>False</td>\n",
       "    </tr>\n",
       "    <tr>\n",
       "      <th>907</th>\n",
       "      <td>908</td>\n",
       "      <td>5</td>\n",
       "      <td>2013-07-12</td>\n",
       "      <td>85.75</td>\n",
       "      <td>3.400</td>\n",
       "      <td>NaN</td>\n",
       "      <td>NaN</td>\n",
       "      <td>False</td>\n",
       "    </tr>\n",
       "    <tr>\n",
       "      <th>908</th>\n",
       "      <td>909</td>\n",
       "      <td>5</td>\n",
       "      <td>2013-07-19</td>\n",
       "      <td>79.73</td>\n",
       "      <td>3.556</td>\n",
       "      <td>NaN</td>\n",
       "      <td>NaN</td>\n",
       "      <td>False</td>\n",
       "    </tr>\n",
       "    <tr>\n",
       "      <th>909</th>\n",
       "      <td>910</td>\n",
       "      <td>5</td>\n",
       "      <td>2013-07-26</td>\n",
       "      <td>84.16</td>\n",
       "      <td>3.620</td>\n",
       "      <td>NaN</td>\n",
       "      <td>NaN</td>\n",
       "      <td>False</td>\n",
       "    </tr>\n",
       "  </tbody>\n",
       "</table>\n",
       "<p>910 rows × 8 columns</p>\n",
       "</div>"
      ],
      "text/plain": [
       "      id store       date  temperature  fuel_price         cpi  unemployment   \n",
       "0      1     1 2010-02-05        42.31       2.572  211.096358         8.106  \\\n",
       "1      2     1 2010-02-12        38.51       2.548  211.242170         8.106   \n",
       "2      3     1 2010-02-19        39.93       2.514  211.289143         8.106   \n",
       "3      4     1 2010-02-26        46.63       2.561  211.319643         8.106   \n",
       "4      5     1 2010-03-05        46.50       2.625  211.350143         8.106   \n",
       "..   ...   ...        ...          ...         ...         ...           ...   \n",
       "905  906     5 2013-06-28        86.09       3.495         NaN           NaN   \n",
       "906  907     5 2013-07-05        82.06       3.422         NaN           NaN   \n",
       "907  908     5 2013-07-12        85.75       3.400         NaN           NaN   \n",
       "908  909     5 2013-07-19        79.73       3.556         NaN           NaN   \n",
       "909  910     5 2013-07-26        84.16       3.620         NaN           NaN   \n",
       "\n",
       "     isholiday  \n",
       "0        False  \n",
       "1         True  \n",
       "2        False  \n",
       "3        False  \n",
       "4        False  \n",
       "..         ...  \n",
       "905      False  \n",
       "906      False  \n",
       "907      False  \n",
       "908      False  \n",
       "909      False  \n",
       "\n",
       "[910 rows x 8 columns]"
      ]
     },
     "execution_count": 29,
     "metadata": {},
     "output_type": "execute_result"
    }
   ],
   "source": [
    "pd.DataFrame(db.sql(\"SELECT * FROM retail.features\"))"
   ]
  },
  {
   "cell_type": "code",
   "execution_count": null,
   "id": "d44df9ac",
   "metadata": {},
   "outputs": [],
   "source": [
    "db.eval(protected_relation) # does not work"
   ]
  },
  {
   "cell_type": "code",
   "execution_count": null,
   "id": "2405254f",
   "metadata": {},
   "outputs": [],
   "source": [
    "db.eval(protected_relation)"
   ]
  },
  {
   "attachments": {},
   "cell_type": "markdown",
   "id": "df3210f6",
   "metadata": {},
   "source": [
    "We have one sum per protected entity. If we sum all the rows, we find the same results than with the initial query: "
   ]
  },
  {
   "cell_type": "code",
   "execution_count": 30,
   "id": "714c97a5",
   "metadata": {},
   "outputs": [
    {
     "ename": "AttributeError",
     "evalue": "'PostgreSQL' object has no attribute 'query'",
     "output_type": "error",
     "traceback": [
      "\u001b[0;31m---------------------------------------------------------------------------\u001b[0m",
      "\u001b[0;31mAttributeError\u001b[0m                            Traceback (most recent call last)",
      "Cell \u001b[0;32mIn[30], line 2\u001b[0m\n\u001b[1;32m      1\u001b[0m \u001b[39m#SELECT SUM(fuel_price) As sum_fuel_price FROM features\u001b[39;00m\n\u001b[0;32m----> 2\u001b[0m true_res \u001b[39m=\u001b[39m db\u001b[39m.\u001b[39;49mquery(query)\n\u001b[1;32m      3\u001b[0m summed_res \u001b[39m=\u001b[39m db\u001b[39m.\u001b[39meval(relation\u001b[39m.\u001b[39mrender())\u001b[39m.\u001b[39msum()\n\u001b[1;32m      5\u001b[0m \u001b[39mprint\u001b[39m(\u001b[39mf\u001b[39m\u001b[39m\"\u001b[39m\u001b[39mInitial query:                       sum_fuel_price: \u001b[39m\u001b[39m{\u001b[39;00mtrue_res\u001b[39m.\u001b[39miloc[\u001b[39m0\u001b[39m][\u001b[39m0\u001b[39m]\u001b[39m}\u001b[39;00m\u001b[39m\"\u001b[39m)\n",
      "\u001b[0;31mAttributeError\u001b[0m: 'PostgreSQL' object has no attribute 'query'"
     ]
    }
   ],
   "source": [
    "#SELECT SUM(fuel_price) As sum_fuel_price FROM features\n",
    "true_res = db.query(query)\n",
    "summed_res = db.eval(relation.render()).sum()\n",
    "\n",
    "print(f\"Initial query:                       sum_fuel_price: {true_res.iloc[0][0]}\")\n",
    "print(f\"Sum over the all protected entities: sum_fuel_price: {summed_res[0]}\")"
   ]
  },
  {
   "attachments": {},
   "cell_type": "markdown",
   "id": "ffd448af",
   "metadata": {},
   "source": [
    "# Dp compilation"
   ]
  },
  {
   "attachments": {},
   "cell_type": "markdown",
   "id": "fac10e08",
   "metadata": {},
   "source": [
    "With the `dp_compilation` method, we transform a query into its differentially private equivalent. \n",
    "\n",
    "It inputs: \n",
    "- the privacy parameters `epsilon` and `delta`\n",
    "- a json string containing the protected entities of each table\n",
    "- a `Dataset`\n",
    "- an SQL query"
   ]
  },
  {
   "cell_type": "code",
   "execution_count": null,
   "id": "9b989849",
   "metadata": {},
   "outputs": [],
   "source": [
    "str_pe = \"\"\"\n",
    "{\n",
    "  \"protected_entity\": [\n",
    "    [\"stores\", [[\"store\", \"features\", \"store\"]], \"id\"], \n",
    "    [\"features\", [], \"id\"],\n",
    "    [\"sales\", [], \"id\"]\n",
    "  ]\n",
    "}\n",
    "\"\"\"\n",
    "epsilon = 1. \n",
    "delta  = 1e-3\n",
    "relation = dataset.query(\"SELECT SUM(fuel_price) AS my_sum FROM retail.features\")\n",
    "dp_relation = relation.dp_compilation(\n",
    "    dataset,\n",
    "    str_pe,\n",
    "    epsilon, \n",
    "    delta\n",
    ")"
   ]
  },
  {
   "cell_type": "code",
   "execution_count": null,
   "id": "fd1670d3",
   "metadata": {},
   "outputs": [],
   "source": [
    "display(graphviz.Source(dp_relation.dot()))"
   ]
  },
  {
   "cell_type": "code",
   "execution_count": null,
   "id": "e17064c4",
   "metadata": {},
   "outputs": [],
   "source": [
    "print_query(protected_relation.render())"
   ]
  },
  {
   "cell_type": "code",
   "execution_count": null,
   "id": "30d8afd9",
   "metadata": {},
   "outputs": [],
   "source": [
    "true_res = db.query(query)\n",
    "res = db.eval(dp_relation)\n",
    "\n",
    "print(f\"Initial query:                         SUM(fuel_price): {true_res.iloc[0][0]}\")\n",
    "print(\"Sum over the all protected entities:   SUM(fuel_price): \", res[\"my_sum\"][0])"
   ]
  },
  {
   "cell_type": "code",
   "execution_count": null,
   "id": "66b29b60",
   "metadata": {},
   "outputs": [],
   "source": [
    "true_value = true_res.iloc[0][0]\n",
    "query = \"SELECT SUM(fuel_price) AS my_sum FROM features\"\n",
    "data = run(dataset, query, [0.1, 1., 2.])"
   ]
  },
  {
   "cell_type": "code",
   "execution_count": null,
   "id": "a875ac4e",
   "metadata": {},
   "outputs": [],
   "source": [
    "plot_hist(true_value, data, query)"
   ]
  }
 ],
 "metadata": {
  "kernelspec": {
   "display_name": "Python 3 (ipykernel)",
   "language": "python",
   "name": "python3"
  },
  "language_info": {
   "codemirror_mode": {
    "name": "ipython",
    "version": 3
   },
   "file_extension": ".py",
   "mimetype": "text/x-python",
   "name": "python",
   "nbconvert_exporter": "python",
   "pygments_lexer": "ipython3",
   "version": "3.9.0"
  }
 },
 "nbformat": 4,
 "nbformat_minor": 5
}
