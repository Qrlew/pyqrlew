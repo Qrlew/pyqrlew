{
 "cells": [
  {
   "cell_type": "code",
   "execution_count": null,
   "id": "08f55d69",
   "metadata": {},
   "outputs": [],
   "source": [
    "%%shell\n",
    "# Inspred by https://colab.research.google.com/github/tensorflow/io/blob/master/docs/tutorials/postgresql.ipynb#scrollTo=YUj0878jPyz7\n",
    "sudo apt-get -y -qq update\n",
    "sudo apt-get -y -qq install postgresql-14\n",
    "# Start postgresql server\n",
    "sudo sed -i \"s/port = 5432/port = 5433/g\" /etc/postgresql/14/main/postgresql.conf\n",
    "sudo service postgresql start\n",
    "# Set password\n",
    "sudo -u postgres psql -U postgres -c \"ALTER USER postgres PASSWORD 'pyqrlew-db'\"\n",
    "# Install python packages\n",
    "pip install -U pyqrlew graphviz"
   ]
  },
  {
   "cell_type": "code",
   "execution_count": 1,
   "id": "e5331167",
   "metadata": {},
   "outputs": [
    {
     "name": "stderr",
     "output_type": "stream",
     "text": [
      "Error response from daemon: network with name qrlew-net already exists\n"
     ]
    }
   ],
   "source": [
    "from pyqrlew.io import PostgreSQL\n",
    "# Read data\n",
    "db = PostgreSQL()\n",
    "dataset = db.retail()"
   ]
  },
  {
   "cell_type": "code",
   "execution_count": 2,
   "id": "b6df624a",
   "metadata": {},
   "outputs": [
    {
     "data": {
      "text/plain": [
       "[(['retail', 'features'], <Relation at 0x111c8d660>),\n",
       " (['retail', 'sales'], <Relation at 0x111c8d090>),\n",
       " (['retail', 'stores'], <Relation at 0x111c8d1b0>)]"
      ]
     },
     "execution_count": 2,
     "metadata": {},
     "output_type": "execute_result"
    }
   ],
   "source": [
    "dataset.relations()"
   ]
  },
  {
   "cell_type": "code",
   "execution_count": 3,
   "id": "af244afb",
   "metadata": {},
   "outputs": [
    {
     "name": "stdout",
     "output_type": "stream",
     "text": [
      "\u001b[1;31mretail_features\u001b[0m\n"
     ]
    }
   ],
   "source": [
    "print(dataset.relations()[0][1])"
   ]
  },
  {
   "attachments": {},
   "cell_type": "markdown",
   "id": "b5b0d42f",
   "metadata": {},
   "source": [
    "# Utils"
   ]
  },
  {
   "cell_type": "code",
   "execution_count": 4,
   "id": "bcde67e8",
   "metadata": {},
   "outputs": [],
   "source": [
    "from IPython.display import display\n",
    "import graphviz\n",
    "\n",
    "def display_dot(dot_graph): \n",
    "    display(graphviz.Source(dot_graph))"
   ]
  },
  {
   "cell_type": "code",
   "execution_count": 5,
   "id": "3ef073b7",
   "metadata": {},
   "outputs": [
    {
     "name": "stdout",
     "output_type": "stream",
     "text": [
      "\u001b[34mWITH\u001b[0m\n",
      "  customers \u001b[35mAS\u001b[0m (\u001b[35mSELECT\u001b[0m * FROM table)\n",
      "\u001b[35mSELECT\u001b[0m * FROM customers \u001b[35mWHERE\u001b[0m age > 25\n"
     ]
    }
   ],
   "source": [
    "MAGENTA_COLOR = '\\033[35m'  \n",
    "BLUE_COLOR = '\\033[34m'\n",
    "RESET_COLOR = '\\033[0m'    \n",
    "\n",
    "def print_query(query: str):\n",
    "    keywords = [\"SELECT\", \"AS\", \"GROUP BY\", \"LIMIT\", \"ORDER BY\", \"WHERE\"]\n",
    "    colored_query = query\n",
    "    colored_query = colored_query.replace(\"WITH\", \"WITH\\n \")\n",
    "    colored_query = colored_query.replace(\" SELECT\", \"\\nSELECT\")\n",
    "    colored_query = colored_query.replace(\"),\", \"),\\n \") \n",
    "    for word in keywords:\n",
    "        colored_query = colored_query.replace(word, MAGENTA_COLOR + word + RESET_COLOR)\n",
    "    colored_query = colored_query.replace(\"WITH\", BLUE_COLOR + \"WITH\" + RESET_COLOR)\n",
    "    print(colored_query)\n",
    "\n",
    "print_query(\"WITH customers AS (SELECT * FROM table) SELECT * FROM customers WHERE age > 25\")"
   ]
  },
  {
   "cell_type": "code",
   "execution_count": null,
   "id": "9f98d702",
   "metadata": {},
   "outputs": [],
   "source": [
    "import json\n",
    "from termcolor import colored\n",
    "\n",
    "def to_json(str_schema: str):\n",
    "    str_schema_to_json = str_schema.replace(\" \", \"\")\n",
    "    str_schema_to_json = str_schema_to_json.replace(\"{\", '{\"')\n",
    "    str_schema_to_json = str_schema_to_json.replace(\":\", '\":\"')\n",
    "    str_schema_to_json = str_schema_to_json.replace(\",\", '\",\"')\n",
    "    str_schema_to_json = str_schema_to_json.replace(\"}\", '\"}')\n",
    "    return json.loads(str_schema_to_json)\n",
    "\n",
    "def print_colored_json(json_data):\n",
    "    formatted_json = json.dumps(json_data, indent=4)\n",
    "    colored_json = highlight_keywords(formatted_json)\n",
    "    print(colored_json)\n",
    "\n",
    "def highlight_keywords(json_string):\n",
    "    keywords = {\n",
    "        \"_PROTECTED_ENTITY_ID_\": \"red\", \n",
    "        \"_PROTECTED_ENTITY_WEIGHT_\": \"red\", \n",
    "        \"option\": \"yellow\",\n",
    "        \"float\": \"blue\", \n",
    "        \"int\": \"blue\"\n",
    "    }\n",
    "    for keyword, color in keywords.items():\n",
    "        json_string = json_string.replace(keyword, colored(keyword, color))\n",
    "    return json_string\n",
    "\n",
    "str_schema = '{_PROTECTED_ENTITY_ID_: option(str), _PROTECTED_ENTITY_WEIGHT_: int[0 1469283], field_l_2l: float[0 2468395440]}'\n",
    "\n",
    "print_colored_json(str_schema)\n"
   ]
  },
  {
   "cell_type": "code",
   "execution_count": 6,
   "id": "9b814a57",
   "metadata": {},
   "outputs": [
    {
     "data": {
      "text/html": [
       "<div>\n",
       "<style scoped>\n",
       "    .dataframe tbody tr th:only-of-type {\n",
       "        vertical-align: middle;\n",
       "    }\n",
       "\n",
       "    .dataframe tbody tr th {\n",
       "        vertical-align: top;\n",
       "    }\n",
       "\n",
       "    .dataframe thead th {\n",
       "        text-align: right;\n",
       "    }\n",
       "</style>\n",
       "<table border=\"1\" class=\"dataframe\">\n",
       "  <thead>\n",
       "    <tr style=\"text-align: right;\">\n",
       "      <th></th>\n",
       "      <th>id</th>\n",
       "      <th>store</th>\n",
       "      <th>date</th>\n",
       "      <th>temperature</th>\n",
       "      <th>fuel_price</th>\n",
       "      <th>cpi</th>\n",
       "      <th>unemployment</th>\n",
       "      <th>isholiday</th>\n",
       "    </tr>\n",
       "  </thead>\n",
       "  <tbody>\n",
       "    <tr>\n",
       "      <th>0</th>\n",
       "      <td>1</td>\n",
       "      <td>1</td>\n",
       "      <td>2010-02-05</td>\n",
       "      <td>42.31</td>\n",
       "      <td>2.572</td>\n",
       "      <td>211.096358</td>\n",
       "      <td>8.106</td>\n",
       "      <td>False</td>\n",
       "    </tr>\n",
       "    <tr>\n",
       "      <th>1</th>\n",
       "      <td>2</td>\n",
       "      <td>1</td>\n",
       "      <td>2010-02-12</td>\n",
       "      <td>38.51</td>\n",
       "      <td>2.548</td>\n",
       "      <td>211.242170</td>\n",
       "      <td>8.106</td>\n",
       "      <td>True</td>\n",
       "    </tr>\n",
       "    <tr>\n",
       "      <th>2</th>\n",
       "      <td>3</td>\n",
       "      <td>1</td>\n",
       "      <td>2010-02-19</td>\n",
       "      <td>39.93</td>\n",
       "      <td>2.514</td>\n",
       "      <td>211.289143</td>\n",
       "      <td>8.106</td>\n",
       "      <td>False</td>\n",
       "    </tr>\n",
       "    <tr>\n",
       "      <th>3</th>\n",
       "      <td>4</td>\n",
       "      <td>1</td>\n",
       "      <td>2010-02-26</td>\n",
       "      <td>46.63</td>\n",
       "      <td>2.561</td>\n",
       "      <td>211.319643</td>\n",
       "      <td>8.106</td>\n",
       "      <td>False</td>\n",
       "    </tr>\n",
       "    <tr>\n",
       "      <th>4</th>\n",
       "      <td>5</td>\n",
       "      <td>1</td>\n",
       "      <td>2010-03-05</td>\n",
       "      <td>46.50</td>\n",
       "      <td>2.625</td>\n",
       "      <td>211.350143</td>\n",
       "      <td>8.106</td>\n",
       "      <td>False</td>\n",
       "    </tr>\n",
       "  </tbody>\n",
       "</table>\n",
       "</div>"
      ],
      "text/plain": [
       "  id store       date  temperature  fuel_price         cpi  unemployment   \n",
       "0  1     1 2010-02-05        42.31       2.572  211.096358         8.106  \\\n",
       "1  2     1 2010-02-12        38.51       2.548  211.242170         8.106   \n",
       "2  3     1 2010-02-19        39.93       2.514  211.289143         8.106   \n",
       "3  4     1 2010-02-26        46.63       2.561  211.319643         8.106   \n",
       "4  5     1 2010-03-05        46.50       2.625  211.350143         8.106   \n",
       "\n",
       "   isholiday  \n",
       "0      False  \n",
       "1       True  \n",
       "2      False  \n",
       "3      False  \n",
       "4      False  "
      ]
     },
     "execution_count": 6,
     "metadata": {},
     "output_type": "execute_result"
    }
   ],
   "source": [
    "import pandas as pd\n",
    "pd.DataFrame(db.execute(\"SELECT * FROM retail.features LIMIT 5\"))"
   ]
  },
  {
   "cell_type": "code",
   "execution_count": 7,
   "id": "0cff9dee",
   "metadata": {},
   "outputs": [],
   "source": [
    "import matplotlib.pyplot as plt\n",
    "\n",
    "def plot_hist(true_value, data, query):\n",
    "    plt.axvline(true_value, color='red', label=\"True\")\n",
    "    for e, d in data.items():\n",
    "        plt.hist(d, bins=10, alpha=0.5, label = f\"eps = {e}\")\n",
    "    plt.legend()\n",
    "    plt.title(query)"
   ]
  },
  {
   "cell_type": "code",
   "execution_count": 8,
   "id": "658e5eb1",
   "metadata": {},
   "outputs": [],
   "source": [
    "N_RUNS = 100\n",
    "\n",
    "def run(dataset, query, epsilons):\n",
    "    data = {}\n",
    "    str_pe = \"\"\"\n",
    "    {\n",
    "    \"protected_entity\": [\n",
    "        [\"stores\", [[\"store\", \"features\", \"store\"]], \"id\"],\n",
    "        [\"features\", [], \"id\"],\n",
    "        [\"sales\", [], \"id\"]\n",
    "    ]\n",
    "    }\n",
    "    \"\"\"\n",
    "    delta  = 1e-1\n",
    "    relation = dataset.sql(query)\n",
    "    for epsilon in epsilons: \n",
    "        dp_relation = relation.dp_compilation(\n",
    "            dataset,\n",
    "            str_pe,\n",
    "            epsilon, \n",
    "            delta\n",
    "        )\n",
    "        dp_query = dp_relation.render()\n",
    "        data[epsilon] = [\n",
    "            execute_query(dp_query)[\"my_sum\"][0] for _ in range(N_RUNS)\n",
    "        ]\n",
    "    return data"
   ]
  },
  {
   "attachments": {},
   "cell_type": "markdown",
   "id": "d7b86d16",
   "metadata": {},
   "source": [
    "# Read Data"
   ]
  },
  {
   "attachments": {},
   "cell_type": "markdown",
   "id": "8d9769d0",
   "metadata": {},
   "source": [
    "For this demo, we use the retail dataset containing 3 tables: \n",
    " - features\n",
    " - sales\n",
    " - stores"
   ]
  },
  {
   "attachments": {},
   "cell_type": "markdown",
   "id": "ada2d2e9",
   "metadata": {},
   "source": [
    "We create a `Dataset` object from json files describing the tables and the columns (type, min, max, possible values .. ) of the dataset."
   ]
  },
  {
   "attachments": {},
   "cell_type": "markdown",
   "id": "3a2d007f",
   "metadata": {},
   "source": [
    "All the tables have been converted into `Relation` object: "
   ]
  },
  {
   "cell_type": "code",
   "execution_count": 9,
   "id": "57f50658",
   "metadata": {},
   "outputs": [
    {
     "data": {
      "text/plain": [
       "[(['retail', 'features'], <Relation at 0x1244565d0>),\n",
       " (['retail', 'sales'], <Relation at 0x124456540>),\n",
       " (['retail', 'stores'], <Relation at 0x1244565a0>)]"
      ]
     },
     "execution_count": 9,
     "metadata": {},
     "output_type": "execute_result"
    }
   ],
   "source": [
    "dataset.relations()"
   ]
  },
  {
   "attachments": {},
   "cell_type": "markdown",
   "id": "7b7041cb",
   "metadata": {},
   "source": [
    "The corresponding `Relation` is given by: "
   ]
  },
  {
   "cell_type": "code",
   "execution_count": 10,
   "id": "7d58ea33",
   "metadata": {},
   "outputs": [
    {
     "data": {
      "image/svg+xml": [
       "<?xml version=\"1.0\" encoding=\"UTF-8\" standalone=\"no\"?>\n",
       "<!DOCTYPE svg PUBLIC \"-//W3C//DTD SVG 1.1//EN\"\n",
       " \"http://www.w3.org/Graphics/SVG/1.1/DTD/svg11.dtd\">\n",
       "<!-- Generated by graphviz version 8.1.0 (20230707.0739)\n",
       " -->\n",
       "<!-- Title: graph_d38l Pages: 1 -->\n",
       "<svg width=\"355pt\" height=\"136pt\"\n",
       " viewBox=\"0.00 0.00 354.80 135.80\" xmlns=\"http://www.w3.org/2000/svg\" xmlns:xlink=\"http://www.w3.org/1999/xlink\">\n",
       "<g id=\"graph0\" class=\"graph\" transform=\"scale(1 1) rotate(0) translate(4 131.8)\">\n",
       "<title>graph_d38l</title>\n",
       "<polygon fill=\"none\" stroke=\"none\" points=\"-4,4 -4,-131.8 350.8,-131.8 350.8,4 -4,4\"/>\n",
       "<!-- graph_d38l -->\n",
       "<g id=\"node1\" class=\"node\">\n",
       "<title>graph_d38l</title>\n",
       "<path fill=\"#ff1744\" stroke=\"#000000\" stroke-opacity=\"0.333333\" d=\"M334.8,-127.8C334.8,-127.8 12,-127.8 12,-127.8 6,-127.8 0,-121.8 0,-115.8 0,-115.8 0,-12 0,-12 0,-6 6,0 12,0 12,0 334.8,0 334.8,0 340.8,0 346.8,-6 346.8,-12 346.8,-12 346.8,-115.8 346.8,-115.8 346.8,-121.8 340.8,-127.8 334.8,-127.8\"/>\n",
       "<text text-anchor=\"start\" x=\"89.4\" y=\"-103.95\" font-family=\"Red Hat Display,sans-serif\" font-weight=\"bold\" font-size=\"11.00\" fill=\"#ffffff\" fill-opacity=\"0.733333\">RETAIL_FEATURES size ∈ int{0}</text>\n",
       "<text text-anchor=\"start\" x=\"146.77\" y=\"-92.95\" font-family=\"Red Hat Display,sans-serif\" font-size=\"11.00\" fill=\"#ffffff\" fill-opacity=\"0.733333\">id = id ∈ str</text>\n",
       "<text text-anchor=\"start\" x=\"131.02\" y=\"-81.95\" font-family=\"Red Hat Display,sans-serif\" font-size=\"11.00\" fill=\"#ffffff\" fill-opacity=\"0.733333\">store = store ∈ str</text>\n",
       "<text text-anchor=\"start\" x=\"14.4\" y=\"-70.95\" font-family=\"Red Hat Display,sans-serif\" font-size=\"11.00\" fill=\"#ffffff\" fill-opacity=\"0.733333\">date = date ∈ datetime[0001&#45;01&#45;01 00:00:00 9999&#45;12&#45;31 00:00:00]</text>\n",
       "<text text-anchor=\"start\" x=\"92.4\" y=\"-59.95\" font-family=\"Red Hat Display,sans-serif\" font-size=\"11.00\" fill=\"#ffffff\" fill-opacity=\"0.733333\">temperature = temperature ∈ float</text>\n",
       "<text text-anchor=\"start\" x=\"104.4\" y=\"-48.95\" font-family=\"Red Hat Display,sans-serif\" font-size=\"11.00\" fill=\"#ffffff\" fill-opacity=\"0.733333\">fuel_price = fuel_price ∈ float</text>\n",
       "<text text-anchor=\"start\" x=\"137.4\" y=\"-37.95\" font-family=\"Red Hat Display,sans-serif\" font-size=\"11.00\" fill=\"#ffffff\" fill-opacity=\"0.733333\">cpi = cpi ∈ float</text>\n",
       "<text text-anchor=\"start\" x=\"80.4\" y=\"-26.95\" font-family=\"Red Hat Display,sans-serif\" font-size=\"11.00\" fill=\"#ffffff\" fill-opacity=\"0.733333\">unemployment = unemployment ∈ float</text>\n",
       "<text text-anchor=\"start\" x=\"109.65\" y=\"-15.95\" font-family=\"Red Hat Display,sans-serif\" font-size=\"11.00\" fill=\"#ffffff\" fill-opacity=\"0.733333\">isholiday = isholiday ∈ bool</text>\n",
       "</g>\n",
       "</g>\n",
       "</svg>\n"
      ],
      "text/plain": [
       "<graphviz.sources.Source at 0x124456910>"
      ]
     },
     "metadata": {},
     "output_type": "display_data"
    }
   ],
   "source": [
    "display_dot(dataset.relations()[0][1].dot())"
   ]
  },
  {
   "attachments": {},
   "cell_type": "markdown",
   "id": "31c4f466",
   "metadata": {},
   "source": [
    "A `Relation` contains information about the data types of each columns."
   ]
  },
  {
   "attachments": {},
   "cell_type": "markdown",
   "id": "5b28a481",
   "metadata": {},
   "source": [
    "# Create a relation from an SQL query"
   ]
  },
  {
   "attachments": {},
   "cell_type": "markdown",
   "id": "711d8800",
   "metadata": {},
   "source": [
    "We can create a `Relation` from a `Dataset` and an SQL query: "
   ]
  },
  {
   "cell_type": "code",
   "execution_count": 11,
   "id": "81779c39",
   "metadata": {},
   "outputs": [
    {
     "data": {
      "image/svg+xml": [
       "<?xml version=\"1.0\" encoding=\"UTF-8\" standalone=\"no\"?>\n",
       "<!DOCTYPE svg PUBLIC \"-//W3C//DTD SVG 1.1//EN\"\n",
       " \"http://www.w3.org/Graphics/SVG/1.1/DTD/svg11.dtd\">\n",
       "<!-- Generated by graphviz version 8.1.0 (20230707.0739)\n",
       " -->\n",
       "<!-- Title: graph_jkah Pages: 1 -->\n",
       "<svg width=\"355pt\" height=\"216pt\"\n",
       " viewBox=\"0.00 0.00 354.80 215.60\" xmlns=\"http://www.w3.org/2000/svg\" xmlns:xlink=\"http://www.w3.org/1999/xlink\">\n",
       "<g id=\"graph0\" class=\"graph\" transform=\"scale(1 1) rotate(0) translate(4 211.6)\">\n",
       "<title>graph_jkah</title>\n",
       "<polygon fill=\"none\" stroke=\"none\" points=\"-4,4 -4,-211.6 350.8,-211.6 350.8,4 -4,4\"/>\n",
       "<!-- graph_d38l -->\n",
       "<g id=\"node1\" class=\"node\">\n",
       "<title>graph_d38l</title>\n",
       "<path fill=\"#ff1744\" stroke=\"#000000\" stroke-opacity=\"0.333333\" d=\"M334.8,-127.8C334.8,-127.8 12,-127.8 12,-127.8 6,-127.8 0,-121.8 0,-115.8 0,-115.8 0,-12 0,-12 0,-6 6,0 12,0 12,0 334.8,0 334.8,0 340.8,0 346.8,-6 346.8,-12 346.8,-12 346.8,-115.8 346.8,-115.8 346.8,-121.8 340.8,-127.8 334.8,-127.8\"/>\n",
       "<text text-anchor=\"start\" x=\"89.4\" y=\"-103.95\" font-family=\"Red Hat Display,sans-serif\" font-weight=\"bold\" font-size=\"11.00\" fill=\"#ffffff\" fill-opacity=\"0.733333\">RETAIL_FEATURES size ∈ int{0}</text>\n",
       "<text text-anchor=\"start\" x=\"146.77\" y=\"-92.95\" font-family=\"Red Hat Display,sans-serif\" font-size=\"11.00\" fill=\"#ffffff\" fill-opacity=\"0.733333\">id = id ∈ str</text>\n",
       "<text text-anchor=\"start\" x=\"131.02\" y=\"-81.95\" font-family=\"Red Hat Display,sans-serif\" font-size=\"11.00\" fill=\"#ffffff\" fill-opacity=\"0.733333\">store = store ∈ str</text>\n",
       "<text text-anchor=\"start\" x=\"14.4\" y=\"-70.95\" font-family=\"Red Hat Display,sans-serif\" font-size=\"11.00\" fill=\"#ffffff\" fill-opacity=\"0.733333\">date = date ∈ datetime[0001&#45;01&#45;01 00:00:00 9999&#45;12&#45;31 00:00:00]</text>\n",
       "<text text-anchor=\"start\" x=\"92.4\" y=\"-59.95\" font-family=\"Red Hat Display,sans-serif\" font-size=\"11.00\" fill=\"#ffffff\" fill-opacity=\"0.733333\">temperature = temperature ∈ float</text>\n",
       "<text text-anchor=\"start\" x=\"104.4\" y=\"-48.95\" font-family=\"Red Hat Display,sans-serif\" font-size=\"11.00\" fill=\"#ffffff\" fill-opacity=\"0.733333\">fuel_price = fuel_price ∈ float</text>\n",
       "<text text-anchor=\"start\" x=\"137.4\" y=\"-37.95\" font-family=\"Red Hat Display,sans-serif\" font-size=\"11.00\" fill=\"#ffffff\" fill-opacity=\"0.733333\">cpi = cpi ∈ float</text>\n",
       "<text text-anchor=\"start\" x=\"80.4\" y=\"-26.95\" font-family=\"Red Hat Display,sans-serif\" font-size=\"11.00\" fill=\"#ffffff\" fill-opacity=\"0.733333\">unemployment = unemployment ∈ float</text>\n",
       "<text text-anchor=\"start\" x=\"109.65\" y=\"-15.95\" font-family=\"Red Hat Display,sans-serif\" font-size=\"11.00\" fill=\"#ffffff\" fill-opacity=\"0.733333\">isholiday = isholiday ∈ bool</text>\n",
       "</g>\n",
       "<!-- graph_jkah -->\n",
       "<g id=\"node2\" class=\"node\">\n",
       "<title>graph_jkah</title>\n",
       "<path fill=\"#428e92\" stroke=\"#000000\" stroke-opacity=\"0.333333\" d=\"M244.8,-207.6C244.8,-207.6 102,-207.6 102,-207.6 96,-207.6 90,-201.6 90,-195.6 90,-195.6 90,-168.8 90,-168.8 90,-162.8 96,-156.8 102,-156.8 102,-156.8 244.8,-156.8 244.8,-156.8 250.8,-156.8 256.8,-162.8 256.8,-168.8 256.8,-168.8 256.8,-195.6 256.8,-195.6 256.8,-201.6 250.8,-207.6 244.8,-207.6\"/>\n",
       "<text text-anchor=\"start\" x=\"111.9\" y=\"-183.75\" font-family=\"Red Hat Display,sans-serif\" font-weight=\"bold\" font-size=\"11.00\" fill=\"#000000\" fill-opacity=\"0.733333\">MAP_5AH2 size ∈ int{0}</text>\n",
       "<text text-anchor=\"start\" x=\"104.4\" y=\"-172.75\" font-family=\"Red Hat Display,sans-serif\" font-size=\"11.00\" fill=\"#000000\" fill-opacity=\"0.733333\">fuel_price = fuel_price ∈ float</text>\n",
       "</g>\n",
       "<!-- graph_jkah&#45;&gt;graph_d38l -->\n",
       "<g id=\"edge1\" class=\"edge\">\n",
       "<title>graph_jkah&#45;&gt;graph_d38l</title>\n",
       "<path fill=\"none\" stroke=\"#2b303a\" d=\"M173.4,-156.54C173.4,-151.15 173.4,-145.19 173.4,-138.96\"/>\n",
       "<polygon fill=\"#2b303a\" stroke=\"#2b303a\" points=\"176.9,-139.29 173.4,-129.29 169.9,-139.29 176.9,-139.29\"/>\n",
       "</g>\n",
       "</g>\n",
       "</svg>\n"
      ],
      "text/plain": [
       "<graphviz.sources.Source at 0x124456a00>"
      ]
     },
     "metadata": {},
     "output_type": "display_data"
    }
   ],
   "source": [
    "relation = dataset.sql('SELECT fuel_price As fuel_price FROM retail.features')\n",
    "display_dot(relation.dot())"
   ]
  },
  {
   "cell_type": "code",
   "execution_count": 12,
   "id": "e63ab24a",
   "metadata": {},
   "outputs": [
    {
     "data": {
      "image/svg+xml": [
       "<?xml version=\"1.0\" encoding=\"UTF-8\" standalone=\"no\"?>\n",
       "<!DOCTYPE svg PUBLIC \"-//W3C//DTD SVG 1.1//EN\"\n",
       " \"http://www.w3.org/Graphics/SVG/1.1/DTD/svg11.dtd\">\n",
       "<!-- Generated by graphviz version 8.1.0 (20230707.0739)\n",
       " -->\n",
       "<!-- Title: graph_kgxy Pages: 1 -->\n",
       "<svg width=\"355pt\" height=\"216pt\"\n",
       " viewBox=\"0.00 0.00 354.80 215.60\" xmlns=\"http://www.w3.org/2000/svg\" xmlns:xlink=\"http://www.w3.org/1999/xlink\">\n",
       "<g id=\"graph0\" class=\"graph\" transform=\"scale(1 1) rotate(0) translate(4 211.6)\">\n",
       "<title>graph_kgxy</title>\n",
       "<polygon fill=\"none\" stroke=\"none\" points=\"-4,4 -4,-211.6 350.8,-211.6 350.8,4 -4,4\"/>\n",
       "<!-- graph_d38l -->\n",
       "<g id=\"node1\" class=\"node\">\n",
       "<title>graph_d38l</title>\n",
       "<path fill=\"#ff1744\" stroke=\"#000000\" stroke-opacity=\"0.333333\" d=\"M334.8,-127.8C334.8,-127.8 12,-127.8 12,-127.8 6,-127.8 0,-121.8 0,-115.8 0,-115.8 0,-12 0,-12 0,-6 6,0 12,0 12,0 334.8,0 334.8,0 340.8,0 346.8,-6 346.8,-12 346.8,-12 346.8,-115.8 346.8,-115.8 346.8,-121.8 340.8,-127.8 334.8,-127.8\"/>\n",
       "<text text-anchor=\"start\" x=\"89.4\" y=\"-103.95\" font-family=\"Red Hat Display,sans-serif\" font-weight=\"bold\" font-size=\"11.00\" fill=\"#ffffff\" fill-opacity=\"0.733333\">RETAIL_FEATURES size ∈ int{0}</text>\n",
       "<text text-anchor=\"start\" x=\"146.77\" y=\"-92.95\" font-family=\"Red Hat Display,sans-serif\" font-size=\"11.00\" fill=\"#ffffff\" fill-opacity=\"0.733333\">id = id ∈ str</text>\n",
       "<text text-anchor=\"start\" x=\"131.02\" y=\"-81.95\" font-family=\"Red Hat Display,sans-serif\" font-size=\"11.00\" fill=\"#ffffff\" fill-opacity=\"0.733333\">store = store ∈ str</text>\n",
       "<text text-anchor=\"start\" x=\"14.4\" y=\"-70.95\" font-family=\"Red Hat Display,sans-serif\" font-size=\"11.00\" fill=\"#ffffff\" fill-opacity=\"0.733333\">date = date ∈ datetime[0001&#45;01&#45;01 00:00:00 9999&#45;12&#45;31 00:00:00]</text>\n",
       "<text text-anchor=\"start\" x=\"92.4\" y=\"-59.95\" font-family=\"Red Hat Display,sans-serif\" font-size=\"11.00\" fill=\"#ffffff\" fill-opacity=\"0.733333\">temperature = temperature ∈ float</text>\n",
       "<text text-anchor=\"start\" x=\"104.4\" y=\"-48.95\" font-family=\"Red Hat Display,sans-serif\" font-size=\"11.00\" fill=\"#ffffff\" fill-opacity=\"0.733333\">fuel_price = fuel_price ∈ float</text>\n",
       "<text text-anchor=\"start\" x=\"137.4\" y=\"-37.95\" font-family=\"Red Hat Display,sans-serif\" font-size=\"11.00\" fill=\"#ffffff\" fill-opacity=\"0.733333\">cpi = cpi ∈ float</text>\n",
       "<text text-anchor=\"start\" x=\"80.4\" y=\"-26.95\" font-family=\"Red Hat Display,sans-serif\" font-size=\"11.00\" fill=\"#ffffff\" fill-opacity=\"0.733333\">unemployment = unemployment ∈ float</text>\n",
       "<text text-anchor=\"start\" x=\"109.65\" y=\"-15.95\" font-family=\"Red Hat Display,sans-serif\" font-size=\"11.00\" fill=\"#ffffff\" fill-opacity=\"0.733333\">isholiday = isholiday ∈ bool</text>\n",
       "</g>\n",
       "<!-- graph_kgxy -->\n",
       "<g id=\"node2\" class=\"node\">\n",
       "<title>graph_kgxy</title>\n",
       "<path fill=\"#428e92\" stroke=\"#000000\" stroke-opacity=\"0.333333\" d=\"M262.8,-207.6C262.8,-207.6 84,-207.6 84,-207.6 78,-207.6 72,-201.6 72,-195.6 72,-195.6 72,-168.8 72,-168.8 72,-162.8 78,-156.8 84,-156.8 84,-156.8 262.8,-156.8 262.8,-156.8 268.8,-156.8 274.8,-162.8 274.8,-168.8 274.8,-168.8 274.8,-195.6 274.8,-195.6 274.8,-201.6 268.8,-207.6 262.8,-207.6\"/>\n",
       "<text text-anchor=\"start\" x=\"112.65\" y=\"-183.75\" font-family=\"Red Hat Display,sans-serif\" font-weight=\"bold\" font-size=\"11.00\" fill=\"#000000\" fill-opacity=\"0.733333\">MAP_3ZU5 size ∈ int{0}</text>\n",
       "<text text-anchor=\"start\" x=\"86.4\" y=\"-172.75\" font-family=\"Red Hat Display,sans-serif\" font-size=\"11.00\" fill=\"#000000\" fill-opacity=\"0.733333\">fuel_price_3 = (3 * fuel_price) ∈ float</text>\n",
       "</g>\n",
       "<!-- graph_kgxy&#45;&gt;graph_d38l -->\n",
       "<g id=\"edge1\" class=\"edge\">\n",
       "<title>graph_kgxy&#45;&gt;graph_d38l</title>\n",
       "<path fill=\"none\" stroke=\"#2b303a\" d=\"M173.4,-156.54C173.4,-151.15 173.4,-145.19 173.4,-138.96\"/>\n",
       "<polygon fill=\"#2b303a\" stroke=\"#2b303a\" points=\"176.9,-139.29 173.4,-129.29 169.9,-139.29 176.9,-139.29\"/>\n",
       "</g>\n",
       "</g>\n",
       "</svg>\n"
      ],
      "text/plain": [
       "<graphviz.sources.Source at 0x124456c40>"
      ]
     },
     "metadata": {},
     "output_type": "display_data"
    }
   ],
   "source": [
    "relation = dataset.sql('SELECT 3 * fuel_price AS fuel_price_3 FROM features')\n",
    "display_dot(relation.dot())"
   ]
  },
  {
   "attachments": {},
   "cell_type": "markdown",
   "id": "20134753",
   "metadata": {},
   "source": [
    "The data types have been propagated without any query to the database. \n",
    "\n",
    "\n",
    "We can try with an aggregation: "
   ]
  },
  {
   "cell_type": "code",
   "execution_count": 13,
   "id": "7f961070",
   "metadata": {},
   "outputs": [
    {
     "data": {
      "image/svg+xml": [
       "<?xml version=\"1.0\" encoding=\"UTF-8\" standalone=\"no\"?>\n",
       "<!DOCTYPE svg PUBLIC \"-//W3C//DTD SVG 1.1//EN\"\n",
       " \"http://www.w3.org/Graphics/SVG/1.1/DTD/svg11.dtd\">\n",
       "<!-- Generated by graphviz version 8.1.0 (20230707.0739)\n",
       " -->\n",
       "<!-- Title: graph_5b7r Pages: 1 -->\n",
       "<svg width=\"355pt\" height=\"295pt\"\n",
       " viewBox=\"0.00 0.00 354.80 295.40\" xmlns=\"http://www.w3.org/2000/svg\" xmlns:xlink=\"http://www.w3.org/1999/xlink\">\n",
       "<g id=\"graph0\" class=\"graph\" transform=\"scale(1 1) rotate(0) translate(4 291.4)\">\n",
       "<title>graph_5b7r</title>\n",
       "<polygon fill=\"none\" stroke=\"none\" points=\"-4,4 -4,-291.4 350.8,-291.4 350.8,4 -4,4\"/>\n",
       "<!-- graph_d38l -->\n",
       "<g id=\"node1\" class=\"node\">\n",
       "<title>graph_d38l</title>\n",
       "<path fill=\"#ff1744\" stroke=\"#000000\" stroke-opacity=\"0.333333\" d=\"M334.8,-127.8C334.8,-127.8 12,-127.8 12,-127.8 6,-127.8 0,-121.8 0,-115.8 0,-115.8 0,-12 0,-12 0,-6 6,0 12,0 12,0 334.8,0 334.8,0 340.8,0 346.8,-6 346.8,-12 346.8,-12 346.8,-115.8 346.8,-115.8 346.8,-121.8 340.8,-127.8 334.8,-127.8\"/>\n",
       "<text text-anchor=\"start\" x=\"89.4\" y=\"-103.95\" font-family=\"Red Hat Display,sans-serif\" font-weight=\"bold\" font-size=\"11.00\" fill=\"#ffffff\" fill-opacity=\"0.733333\">RETAIL_FEATURES size ∈ int{0}</text>\n",
       "<text text-anchor=\"start\" x=\"146.77\" y=\"-92.95\" font-family=\"Red Hat Display,sans-serif\" font-size=\"11.00\" fill=\"#ffffff\" fill-opacity=\"0.733333\">id = id ∈ str</text>\n",
       "<text text-anchor=\"start\" x=\"131.02\" y=\"-81.95\" font-family=\"Red Hat Display,sans-serif\" font-size=\"11.00\" fill=\"#ffffff\" fill-opacity=\"0.733333\">store = store ∈ str</text>\n",
       "<text text-anchor=\"start\" x=\"14.4\" y=\"-70.95\" font-family=\"Red Hat Display,sans-serif\" font-size=\"11.00\" fill=\"#ffffff\" fill-opacity=\"0.733333\">date = date ∈ datetime[0001&#45;01&#45;01 00:00:00 9999&#45;12&#45;31 00:00:00]</text>\n",
       "<text text-anchor=\"start\" x=\"92.4\" y=\"-59.95\" font-family=\"Red Hat Display,sans-serif\" font-size=\"11.00\" fill=\"#ffffff\" fill-opacity=\"0.733333\">temperature = temperature ∈ float</text>\n",
       "<text text-anchor=\"start\" x=\"104.4\" y=\"-48.95\" font-family=\"Red Hat Display,sans-serif\" font-size=\"11.00\" fill=\"#ffffff\" fill-opacity=\"0.733333\">fuel_price = fuel_price ∈ float</text>\n",
       "<text text-anchor=\"start\" x=\"137.4\" y=\"-37.95\" font-family=\"Red Hat Display,sans-serif\" font-size=\"11.00\" fill=\"#ffffff\" fill-opacity=\"0.733333\">cpi = cpi ∈ float</text>\n",
       "<text text-anchor=\"start\" x=\"80.4\" y=\"-26.95\" font-family=\"Red Hat Display,sans-serif\" font-size=\"11.00\" fill=\"#ffffff\" fill-opacity=\"0.733333\">unemployment = unemployment ∈ float</text>\n",
       "<text text-anchor=\"start\" x=\"109.65\" y=\"-15.95\" font-family=\"Red Hat Display,sans-serif\" font-size=\"11.00\" fill=\"#ffffff\" fill-opacity=\"0.733333\">isholiday = isholiday ∈ bool</text>\n",
       "</g>\n",
       "<!-- graph_j4u8 -->\n",
       "<g id=\"node2\" class=\"node\">\n",
       "<title>graph_j4u8</title>\n",
       "<path fill=\"#428e92\" stroke=\"#000000\" stroke-opacity=\"0.333333\" d=\"M244.05,-207.6C244.05,-207.6 102.75,-207.6 102.75,-207.6 96.75,-207.6 90.75,-201.6 90.75,-195.6 90.75,-195.6 90.75,-168.8 90.75,-168.8 90.75,-162.8 96.75,-156.8 102.75,-156.8 102.75,-156.8 244.05,-156.8 244.05,-156.8 250.05,-156.8 256.05,-162.8 256.05,-168.8 256.05,-168.8 256.05,-195.6 256.05,-195.6 256.05,-201.6 250.05,-207.6 244.05,-207.6\"/>\n",
       "<text text-anchor=\"start\" x=\"113.02\" y=\"-183.75\" font-family=\"Red Hat Display,sans-serif\" font-weight=\"bold\" font-size=\"11.00\" fill=\"#000000\" fill-opacity=\"0.733333\">MAP_0OLT size ∈ int{0}</text>\n",
       "<text text-anchor=\"start\" x=\"105.15\" y=\"-172.75\" font-family=\"Red Hat Display,sans-serif\" font-size=\"11.00\" fill=\"#000000\" fill-opacity=\"0.733333\">field__6vl = fuel_price ∈ float</text>\n",
       "</g>\n",
       "<!-- graph_j4u8&#45;&gt;graph_d38l -->\n",
       "<g id=\"edge1\" class=\"edge\">\n",
       "<title>graph_j4u8&#45;&gt;graph_d38l</title>\n",
       "<path fill=\"none\" stroke=\"#2b303a\" d=\"M173.4,-156.54C173.4,-151.15 173.4,-145.19 173.4,-138.96\"/>\n",
       "<polygon fill=\"#2b303a\" stroke=\"#2b303a\" points=\"176.9,-139.29 173.4,-129.29 169.9,-139.29 176.9,-139.29\"/>\n",
       "</g>\n",
       "<!-- graph_5b7r -->\n",
       "<g id=\"node3\" class=\"node\">\n",
       "<title>graph_5b7r</title>\n",
       "<path fill=\"#00363a\" stroke=\"#000000\" stroke-opacity=\"0.333333\" d=\"M279.67,-287.4C279.67,-287.4 67.12,-287.4 67.12,-287.4 61.12,-287.4 55.12,-281.4 55.12,-275.4 55.12,-275.4 55.12,-248.6 55.12,-248.6 55.12,-242.6 61.12,-236.6 67.12,-236.6 67.12,-236.6 279.67,-236.6 279.67,-236.6 285.67,-236.6 291.67,-242.6 291.67,-248.6 291.67,-248.6 291.67,-275.4 291.67,-275.4 291.67,-281.4 285.67,-287.4 279.67,-287.4\"/>\n",
       "<text text-anchor=\"start\" x=\"100.65\" y=\"-263.55\" font-family=\"Red Hat Display,sans-serif\" font-weight=\"bold\" font-size=\"11.00\" fill=\"#ffffff\" fill-opacity=\"0.733333\">REDUCE_RP49 size ∈ int{0}</text>\n",
       "<text text-anchor=\"start\" x=\"69.52\" y=\"-252.55\" font-family=\"Red Hat Display,sans-serif\" font-size=\"11.00\" fill=\"#ffffff\" fill-opacity=\"0.733333\">sum_fuel_price = sum(field__6vl) ∈ float{&#45;0}</text>\n",
       "</g>\n",
       "<!-- graph_5b7r&#45;&gt;graph_j4u8 -->\n",
       "<g id=\"edge2\" class=\"edge\">\n",
       "<title>graph_5b7r&#45;&gt;graph_j4u8</title>\n",
       "<path fill=\"none\" stroke=\"#2b303a\" d=\"M173.4,-236.38C173.4,-230.71 173.4,-224.56 173.4,-218.53\"/>\n",
       "<polygon fill=\"#2b303a\" stroke=\"#2b303a\" points=\"176.9,-218.92 173.4,-208.92 169.9,-218.92 176.9,-218.92\"/>\n",
       "</g>\n",
       "</g>\n",
       "</svg>\n"
      ],
      "text/plain": [
       "<graphviz.sources.Source at 0x10cb4c430>"
      ]
     },
     "metadata": {},
     "output_type": "display_data"
    }
   ],
   "source": [
    "query = 'SELECT SUM(fuel_price) As sum_fuel_price FROM retail.features'\n",
    "relation = dataset.sql(query)\n",
    "display_dot(relation.dot())"
   ]
  },
  {
   "attachments": {},
   "cell_type": "markdown",
   "id": "5cba3f9d",
   "metadata": {},
   "source": [
    "Convert the `Relation` to an SQL query: "
   ]
  },
  {
   "cell_type": "code",
   "execution_count": 14,
   "id": "430f8252",
   "metadata": {},
   "outputs": [
    {
     "name": "stdout",
     "output_type": "stream",
     "text": [
      "\u001b[34mWITH\u001b[0m\n",
      "  map_0olt (field__6vl) \u001b[35mAS\u001b[0m (\u001b[35mSELECT\u001b[0m fuel_price \u001b[35mAS\u001b[0m field__6vl FROM retail.features),\n",
      "  reduce_rp49 (sum_fuel_price) \u001b[35mAS\u001b[0m (\u001b[35mSELECT\u001b[0m sum(field__6vl) \u001b[35mAS\u001b[0m sum_fuel_price FROM map_0olt)\n",
      "\u001b[35mSELECT\u001b[0m * FROM reduce_rp49\n"
     ]
    }
   ],
   "source": [
    "#SELECT SUM(fuel_price) As sum_fuel_price FROM features\n",
    "print_query(relation.render())"
   ]
  },
  {
   "attachments": {},
   "cell_type": "markdown",
   "id": "283a0a2e",
   "metadata": {},
   "source": [
    "We send this query to the DB: "
   ]
  },
  {
   "cell_type": "code",
   "execution_count": 15,
   "id": "854e4254",
   "metadata": {},
   "outputs": [
    {
     "data": {
      "text/html": [
       "<div>\n",
       "<style scoped>\n",
       "    .dataframe tbody tr th:only-of-type {\n",
       "        vertical-align: middle;\n",
       "    }\n",
       "\n",
       "    .dataframe tbody tr th {\n",
       "        vertical-align: top;\n",
       "    }\n",
       "\n",
       "    .dataframe thead th {\n",
       "        text-align: right;\n",
       "    }\n",
       "</style>\n",
       "<table border=\"1\" class=\"dataframe\">\n",
       "  <thead>\n",
       "    <tr style=\"text-align: right;\">\n",
       "      <th></th>\n",
       "      <th>sum_fuel_price</th>\n",
       "    </tr>\n",
       "  </thead>\n",
       "  <tbody>\n",
       "    <tr>\n",
       "      <th>0</th>\n",
       "      <td>2965.117</td>\n",
       "    </tr>\n",
       "  </tbody>\n",
       "</table>\n",
       "</div>"
      ],
      "text/plain": [
       "   sum_fuel_price\n",
       "0        2965.117"
      ]
     },
     "execution_count": 15,
     "metadata": {},
     "output_type": "execute_result"
    }
   ],
   "source": [
    "res = db.eval(relation)\n",
    "pd.DataFrame(res)"
   ]
  },
  {
   "attachments": {},
   "cell_type": "markdown",
   "id": "55412614",
   "metadata": {},
   "source": [
    "Which gives the same results than the initial query: "
   ]
  },
  {
   "cell_type": "code",
   "execution_count": 17,
   "id": "6cd5372c",
   "metadata": {},
   "outputs": [
    {
     "data": {
      "text/html": [
       "<div>\n",
       "<style scoped>\n",
       "    .dataframe tbody tr th:only-of-type {\n",
       "        vertical-align: middle;\n",
       "    }\n",
       "\n",
       "    .dataframe tbody tr th {\n",
       "        vertical-align: top;\n",
       "    }\n",
       "\n",
       "    .dataframe thead th {\n",
       "        text-align: right;\n",
       "    }\n",
       "</style>\n",
       "<table border=\"1\" class=\"dataframe\">\n",
       "  <thead>\n",
       "    <tr style=\"text-align: right;\">\n",
       "      <th></th>\n",
       "      <th>sum_fuel_price</th>\n",
       "    </tr>\n",
       "  </thead>\n",
       "  <tbody>\n",
       "    <tr>\n",
       "      <th>0</th>\n",
       "      <td>2965.117</td>\n",
       "    </tr>\n",
       "  </tbody>\n",
       "</table>\n",
       "</div>"
      ],
      "text/plain": [
       "   sum_fuel_price\n",
       "0        2965.117"
      ]
     },
     "execution_count": 17,
     "metadata": {},
     "output_type": "execute_result"
    }
   ],
   "source": [
    "true_res = db.execute(query)\n",
    "pd.DataFrame(true_res)"
   ]
  },
  {
   "attachments": {},
   "cell_type": "markdown",
   "id": "0504ba22",
   "metadata": {},
   "source": [
    "# Protection"
   ]
  },
  {
   "cell_type": "code",
   "execution_count": 18,
   "id": "47aa6d9d",
   "metadata": {},
   "outputs": [
    {
     "data": {
      "text/plain": [
       "'SELECT SUM(fuel_price) As sum_fuel_price FROM retail.features'"
      ]
     },
     "execution_count": 18,
     "metadata": {},
     "output_type": "execute_result"
    }
   ],
   "source": [
    "query"
   ]
  },
  {
   "attachments": {},
   "cell_type": "markdown",
   "id": "03512632",
   "metadata": {},
   "source": [
    "The `protect` method transforms the initial `Relation` into a `Relation` where the protected entities are preserved, i.e. each row is owned by ony one individual. \n",
    "\n",
    "It inputs: \n",
    "- a `Dataset`\n",
    "- a json string that contains the protected entity of each table:"
   ]
  },
  {
   "cell_type": "code",
   "execution_count": 20,
   "id": "193babf4",
   "metadata": {},
   "outputs": [],
   "source": [
    "str_pe = \"\"\"\n",
    "{\n",
    "  \"protected_entity\": [\n",
    "    [\"retail_stores\", [[\"store\", \"features\", \"store\"]], \"id\"], \n",
    "    [\"retail_features\", [], \"id\"], \n",
    "    [\"retail_sales\", [], \"id\"]\n",
    "  ]\n",
    "}\n",
    "\"\"\""
   ]
  },
  {
   "attachments": {},
   "cell_type": "markdown",
   "id": "109e9605",
   "metadata": {},
   "source": [
    "The protected entity of `features` is its column `id`:"
   ]
  },
  {
   "cell_type": "code",
   "execution_count": 21,
   "id": "aa41f2fe",
   "metadata": {},
   "outputs": [
    {
     "data": {
      "image/svg+xml": [
       "<?xml version=\"1.0\" encoding=\"UTF-8\" standalone=\"no\"?>\n",
       "<!DOCTYPE svg PUBLIC \"-//W3C//DTD SVG 1.1//EN\"\n",
       " \"http://www.w3.org/Graphics/SVG/1.1/DTD/svg11.dtd\">\n",
       "<!-- Generated by graphviz version 8.1.0 (20230707.0739)\n",
       " -->\n",
       "<!-- Title: graph_6a2c Pages: 1 -->\n",
       "<svg width=\"440pt\" height=\"416pt\"\n",
       " viewBox=\"0.00 0.00 440.30 416.40\" xmlns=\"http://www.w3.org/2000/svg\" xmlns:xlink=\"http://www.w3.org/1999/xlink\">\n",
       "<g id=\"graph0\" class=\"graph\" transform=\"scale(1 1) rotate(0) translate(4 412.4)\">\n",
       "<title>graph_6a2c</title>\n",
       "<polygon fill=\"none\" stroke=\"none\" points=\"-4,4 -4,-412.4 436.3,-412.4 436.3,4 -4,4\"/>\n",
       "<!-- graph_d38l -->\n",
       "<g id=\"node1\" class=\"node\">\n",
       "<title>graph_d38l</title>\n",
       "<path fill=\"#ff1744\" stroke=\"#000000\" stroke-opacity=\"0.333333\" d=\"M377.55,-127.8C377.55,-127.8 54.75,-127.8 54.75,-127.8 48.75,-127.8 42.75,-121.8 42.75,-115.8 42.75,-115.8 42.75,-12 42.75,-12 42.75,-6 48.75,0 54.75,0 54.75,0 377.55,0 377.55,0 383.55,0 389.55,-6 389.55,-12 389.55,-12 389.55,-115.8 389.55,-115.8 389.55,-121.8 383.55,-127.8 377.55,-127.8\"/>\n",
       "<text text-anchor=\"start\" x=\"132.15\" y=\"-103.95\" font-family=\"Red Hat Display,sans-serif\" font-weight=\"bold\" font-size=\"11.00\" fill=\"#ffffff\" fill-opacity=\"0.733333\">RETAIL_FEATURES size ∈ int{0}</text>\n",
       "<text text-anchor=\"start\" x=\"189.53\" y=\"-92.95\" font-family=\"Red Hat Display,sans-serif\" font-size=\"11.00\" fill=\"#ffffff\" fill-opacity=\"0.733333\">id = id ∈ str</text>\n",
       "<text text-anchor=\"start\" x=\"173.78\" y=\"-81.95\" font-family=\"Red Hat Display,sans-serif\" font-size=\"11.00\" fill=\"#ffffff\" fill-opacity=\"0.733333\">store = store ∈ str</text>\n",
       "<text text-anchor=\"start\" x=\"57.15\" y=\"-70.95\" font-family=\"Red Hat Display,sans-serif\" font-size=\"11.00\" fill=\"#ffffff\" fill-opacity=\"0.733333\">date = date ∈ datetime[0001&#45;01&#45;01 00:00:00 9999&#45;12&#45;31 00:00:00]</text>\n",
       "<text text-anchor=\"start\" x=\"135.15\" y=\"-59.95\" font-family=\"Red Hat Display,sans-serif\" font-size=\"11.00\" fill=\"#ffffff\" fill-opacity=\"0.733333\">temperature = temperature ∈ float</text>\n",
       "<text text-anchor=\"start\" x=\"147.15\" y=\"-48.95\" font-family=\"Red Hat Display,sans-serif\" font-size=\"11.00\" fill=\"#ffffff\" fill-opacity=\"0.733333\">fuel_price = fuel_price ∈ float</text>\n",
       "<text text-anchor=\"start\" x=\"180.15\" y=\"-37.95\" font-family=\"Red Hat Display,sans-serif\" font-size=\"11.00\" fill=\"#ffffff\" fill-opacity=\"0.733333\">cpi = cpi ∈ float</text>\n",
       "<text text-anchor=\"start\" x=\"123.15\" y=\"-26.95\" font-family=\"Red Hat Display,sans-serif\" font-size=\"11.00\" fill=\"#ffffff\" fill-opacity=\"0.733333\">unemployment = unemployment ∈ float</text>\n",
       "<text text-anchor=\"start\" x=\"152.4\" y=\"-15.95\" font-family=\"Red Hat Display,sans-serif\" font-size=\"11.00\" fill=\"#ffffff\" fill-opacity=\"0.733333\">isholiday = isholiday ∈ bool</text>\n",
       "</g>\n",
       "<!-- graph_ke2k -->\n",
       "<g id=\"node2\" class=\"node\">\n",
       "<title>graph_ke2k</title>\n",
       "<path fill=\"#428e92\" stroke=\"#000000\" stroke-opacity=\"0.333333\" d=\"M377.55,-306.6C377.55,-306.6 54.75,-306.6 54.75,-306.6 48.75,-306.6 42.75,-300.6 42.75,-294.6 42.75,-294.6 42.75,-168.8 42.75,-168.8 42.75,-162.8 48.75,-156.8 54.75,-156.8 54.75,-156.8 377.55,-156.8 377.55,-156.8 383.55,-156.8 389.55,-162.8 389.55,-168.8 389.55,-168.8 389.55,-294.6 389.55,-294.6 389.55,-300.6 383.55,-306.6 377.55,-306.6\"/>\n",
       "<text text-anchor=\"start\" x=\"91.65\" y=\"-282.75\" font-family=\"Red Hat Display,sans-serif\" font-weight=\"bold\" font-size=\"11.00\" fill=\"#000000\" fill-opacity=\"0.733333\">_PROTECTED_RETAIL_FEATURES size ∈ int{0}</text>\n",
       "<text text-anchor=\"start\" x=\"107.4\" y=\"-271.75\" font-family=\"Red Hat Display,sans-serif\" font-size=\"11.00\" fill=\"#000000\" fill-opacity=\"0.733333\">_PROTECTED_ENTITY_ID_ = md5(id) ∈ str</text>\n",
       "<text text-anchor=\"start\" x=\"99.9\" y=\"-260.75\" font-family=\"Red Hat Display,sans-serif\" font-size=\"11.00\" fill=\"#000000\" fill-opacity=\"0.733333\">_PROTECTED_ENTITY_WEIGHT_ = 1 ∈ int{1}</text>\n",
       "<text text-anchor=\"start\" x=\"189.53\" y=\"-249.75\" font-family=\"Red Hat Display,sans-serif\" font-size=\"11.00\" fill=\"#000000\" fill-opacity=\"0.733333\">id = id ∈ str</text>\n",
       "<text text-anchor=\"start\" x=\"173.78\" y=\"-238.75\" font-family=\"Red Hat Display,sans-serif\" font-size=\"11.00\" fill=\"#000000\" fill-opacity=\"0.733333\">store = store ∈ str</text>\n",
       "<text text-anchor=\"start\" x=\"57.15\" y=\"-227.75\" font-family=\"Red Hat Display,sans-serif\" font-size=\"11.00\" fill=\"#000000\" fill-opacity=\"0.733333\">date = date ∈ datetime[0001&#45;01&#45;01 00:00:00 9999&#45;12&#45;31 00:00:00]</text>\n",
       "<text text-anchor=\"start\" x=\"135.15\" y=\"-216.75\" font-family=\"Red Hat Display,sans-serif\" font-size=\"11.00\" fill=\"#000000\" fill-opacity=\"0.733333\">temperature = temperature ∈ float</text>\n",
       "<text text-anchor=\"start\" x=\"147.15\" y=\"-205.75\" font-family=\"Red Hat Display,sans-serif\" font-size=\"11.00\" fill=\"#000000\" fill-opacity=\"0.733333\">fuel_price = fuel_price ∈ float</text>\n",
       "<text text-anchor=\"start\" x=\"180.15\" y=\"-194.75\" font-family=\"Red Hat Display,sans-serif\" font-size=\"11.00\" fill=\"#000000\" fill-opacity=\"0.733333\">cpi = cpi ∈ float</text>\n",
       "<text text-anchor=\"start\" x=\"123.15\" y=\"-183.75\" font-family=\"Red Hat Display,sans-serif\" font-size=\"11.00\" fill=\"#000000\" fill-opacity=\"0.733333\">unemployment = unemployment ∈ float</text>\n",
       "<text text-anchor=\"start\" x=\"152.4\" y=\"-172.75\" font-family=\"Red Hat Display,sans-serif\" font-size=\"11.00\" fill=\"#000000\" fill-opacity=\"0.733333\">isholiday = isholiday ∈ bool</text>\n",
       "</g>\n",
       "<!-- graph_ke2k&#45;&gt;graph_d38l -->\n",
       "<g id=\"edge1\" class=\"edge\">\n",
       "<title>graph_ke2k&#45;&gt;graph_d38l</title>\n",
       "<path fill=\"none\" stroke=\"#2b303a\" d=\"M216.15,-156.53C216.15,-150.6 216.15,-144.61 216.15,-138.69\"/>\n",
       "<polygon fill=\"#2b303a\" stroke=\"#2b303a\" points=\"219.65,-139.12 216.15,-129.12 212.65,-139.12 219.65,-139.12\"/>\n",
       "</g>\n",
       "<!-- graph_6a2c -->\n",
       "<g id=\"node3\" class=\"node\">\n",
       "<title>graph_6a2c</title>\n",
       "<path fill=\"#428e92\" stroke=\"#000000\" stroke-opacity=\"0.333333\" d=\"M420.3,-408.4C420.3,-408.4 12,-408.4 12,-408.4 6,-408.4 0,-402.4 0,-396.4 0,-396.4 0,-347.6 0,-347.6 0,-341.6 6,-335.6 12,-335.6 12,-335.6 420.3,-335.6 420.3,-335.6 426.3,-335.6 432.3,-341.6 432.3,-347.6 432.3,-347.6 432.3,-396.4 432.3,-396.4 432.3,-402.4 426.3,-408.4 420.3,-408.4\"/>\n",
       "<text text-anchor=\"start\" x=\"154.65\" y=\"-384.55\" font-family=\"Red Hat Display,sans-serif\" font-weight=\"bold\" font-size=\"11.00\" fill=\"#000000\" fill-opacity=\"0.733333\">MAP_5AH2 size ∈ int{0}</text>\n",
       "<text text-anchor=\"start\" x=\"53.78\" y=\"-373.55\" font-family=\"Red Hat Display,sans-serif\" font-size=\"11.00\" fill=\"#000000\" fill-opacity=\"0.733333\">_PROTECTED_ENTITY_ID_ = _PROTECTED_ENTITY_ID_ ∈ str</text>\n",
       "<text text-anchor=\"start\" x=\"14.4\" y=\"-362.55\" font-family=\"Red Hat Display,sans-serif\" font-size=\"11.00\" fill=\"#000000\" fill-opacity=\"0.733333\">_PROTECTED_ENTITY_WEIGHT_ = _PROTECTED_ENTITY_WEIGHT_ ∈ int{1}</text>\n",
       "<text text-anchor=\"start\" x=\"147.15\" y=\"-351.55\" font-family=\"Red Hat Display,sans-serif\" font-size=\"11.00\" fill=\"#000000\" fill-opacity=\"0.733333\">fuel_price = fuel_price ∈ float</text>\n",
       "</g>\n",
       "<!-- graph_6a2c&#45;&gt;graph_ke2k -->\n",
       "<g id=\"edge2\" class=\"edge\">\n",
       "<title>graph_6a2c&#45;&gt;graph_ke2k</title>\n",
       "<path fill=\"none\" stroke=\"#2b303a\" d=\"M216.15,-335.38C216.15,-329.74 216.15,-323.71 216.15,-317.5\"/>\n",
       "<polygon fill=\"#2b303a\" stroke=\"#2b303a\" points=\"219.65,-317.92 216.15,-307.92 212.65,-317.92 219.65,-317.92\"/>\n",
       "</g>\n",
       "</g>\n",
       "</svg>\n"
      ],
      "text/plain": [
       "<graphviz.sources.Source at 0x12465e0a0>"
      ]
     },
     "metadata": {},
     "output_type": "display_data"
    }
   ],
   "source": [
    "_relation = dataset.sql('SELECT fuel_price FROM retail.features')\n",
    "_protected_relation = _relation.protect(\n",
    "    dataset,\n",
    "    str_pe\n",
    ")\n",
    "display_dot(_protected_relation.dot())"
   ]
  },
  {
   "attachments": {},
   "cell_type": "markdown",
   "id": "e7912de9",
   "metadata": {},
   "source": [
    "The protected entity of `stores` is the `id` column of `features`:"
   ]
  },
  {
   "cell_type": "code",
   "execution_count": 22,
   "id": "d6f725db",
   "metadata": {},
   "outputs": [
    {
     "data": {
      "image/svg+xml": [
       "<?xml version=\"1.0\" encoding=\"UTF-8\" standalone=\"no\"?>\n",
       "<!DOCTYPE svg PUBLIC \"-//W3C//DTD SVG 1.1//EN\"\n",
       " \"http://www.w3.org/Graphics/SVG/1.1/DTD/svg11.dtd\">\n",
       "<!-- Generated by graphviz version 8.1.0 (20230707.0739)\n",
       " -->\n",
       "<!-- Title: graph_sl69 Pages: 1 -->\n",
       "<svg width=\"191pt\" height=\"81pt\"\n",
       " viewBox=\"0.00 0.00 191.30 80.80\" xmlns=\"http://www.w3.org/2000/svg\" xmlns:xlink=\"http://www.w3.org/1999/xlink\">\n",
       "<g id=\"graph0\" class=\"graph\" transform=\"scale(1 1) rotate(0) translate(4 76.8)\">\n",
       "<title>graph_sl69</title>\n",
       "<polygon fill=\"none\" stroke=\"none\" points=\"-4,4 -4,-76.8 187.3,-76.8 187.3,4 -4,4\"/>\n",
       "<!-- graph_sl69 -->\n",
       "<g id=\"node1\" class=\"node\">\n",
       "<title>graph_sl69</title>\n",
       "<path fill=\"#ff1744\" stroke=\"#000000\" stroke-opacity=\"0.333333\" d=\"M171.3,-72.8C171.3,-72.8 12,-72.8 12,-72.8 6,-72.8 0,-66.8 0,-60.8 0,-60.8 0,-12 0,-12 0,-6 6,0 12,0 12,0 171.3,0 171.3,0 177.3,0 183.3,-6 183.3,-12 183.3,-12 183.3,-60.8 183.3,-60.8 183.3,-66.8 177.3,-72.8 171.3,-72.8\"/>\n",
       "<text text-anchor=\"start\" x=\"14.4\" y=\"-48.95\" font-family=\"Red Hat Display,sans-serif\" font-weight=\"bold\" font-size=\"11.00\" fill=\"#ffffff\" fill-opacity=\"0.733333\">RETAIL_STORES size ∈ int{0}</text>\n",
       "<text text-anchor=\"start\" x=\"49.28\" y=\"-37.95\" font-family=\"Red Hat Display,sans-serif\" font-size=\"11.00\" fill=\"#ffffff\" fill-opacity=\"0.733333\">store = store ∈ str</text>\n",
       "<text text-anchor=\"start\" x=\"53.03\" y=\"-26.95\" font-family=\"Red Hat Display,sans-serif\" font-size=\"11.00\" fill=\"#ffffff\" fill-opacity=\"0.733333\">type = type ∈ str</text>\n",
       "<text text-anchor=\"start\" x=\"54.9\" y=\"-15.95\" font-family=\"Red Hat Display,sans-serif\" font-size=\"11.00\" fill=\"#ffffff\" fill-opacity=\"0.733333\">size = size ∈ int</text>\n",
       "</g>\n",
       "</g>\n",
       "</svg>\n"
      ],
      "text/plain": [
       "<graphviz.sources.Source at 0x111f28f40>"
      ]
     },
     "metadata": {},
     "output_type": "display_data"
    }
   ],
   "source": [
    "display_dot(dataset.relations()[2][1].dot())"
   ]
  },
  {
   "cell_type": "code",
   "execution_count": 23,
   "id": "e5a5efc6",
   "metadata": {},
   "outputs": [
    {
     "data": {
      "image/svg+xml": [
       "<?xml version=\"1.0\" encoding=\"UTF-8\" standalone=\"no\"?>\n",
       "<!DOCTYPE svg PUBLIC \"-//W3C//DTD SVG 1.1//EN\"\n",
       " \"http://www.w3.org/Graphics/SVG/1.1/DTD/svg11.dtd\">\n",
       "<!-- Generated by graphviz version 8.1.0 (20230707.0739)\n",
       " -->\n",
       "<!-- Title: graph_xc6p Pages: 1 -->\n",
       "<svg width=\"552pt\" height=\"584pt\"\n",
       " viewBox=\"0.00 0.00 552.05 584.20\" xmlns=\"http://www.w3.org/2000/svg\" xmlns:xlink=\"http://www.w3.org/1999/xlink\">\n",
       "<g id=\"graph0\" class=\"graph\" transform=\"scale(1 1) rotate(0) translate(4 580.2)\">\n",
       "<title>graph_xc6p</title>\n",
       "<polygon fill=\"none\" stroke=\"none\" points=\"-4,4 -4,-580.2 548.05,-580.2 548.05,4 -4,4\"/>\n",
       "<!-- graph_sl69 -->\n",
       "<g id=\"node1\" class=\"node\">\n",
       "<title>graph_sl69</title>\n",
       "<path fill=\"#ff1744\" stroke=\"#000000\" stroke-opacity=\"0.333333\" d=\"M171.3,-100.3C171.3,-100.3 12,-100.3 12,-100.3 6,-100.3 0,-94.3 0,-88.3 0,-88.3 0,-39.5 0,-39.5 0,-33.5 6,-27.5 12,-27.5 12,-27.5 171.3,-27.5 171.3,-27.5 177.3,-27.5 183.3,-33.5 183.3,-39.5 183.3,-39.5 183.3,-88.3 183.3,-88.3 183.3,-94.3 177.3,-100.3 171.3,-100.3\"/>\n",
       "<text text-anchor=\"start\" x=\"14.4\" y=\"-76.45\" font-family=\"Red Hat Display,sans-serif\" font-weight=\"bold\" font-size=\"11.00\" fill=\"#ffffff\" fill-opacity=\"0.733333\">RETAIL_STORES size ∈ int{0}</text>\n",
       "<text text-anchor=\"start\" x=\"49.28\" y=\"-65.45\" font-family=\"Red Hat Display,sans-serif\" font-size=\"11.00\" fill=\"#ffffff\" fill-opacity=\"0.733333\">store = store ∈ str</text>\n",
       "<text text-anchor=\"start\" x=\"53.03\" y=\"-54.45\" font-family=\"Red Hat Display,sans-serif\" font-size=\"11.00\" fill=\"#ffffff\" fill-opacity=\"0.733333\">type = type ∈ str</text>\n",
       "<text text-anchor=\"start\" x=\"54.9\" y=\"-43.45\" font-family=\"Red Hat Display,sans-serif\" font-size=\"11.00\" fill=\"#ffffff\" fill-opacity=\"0.733333\">size = size ∈ int</text>\n",
       "</g>\n",
       "<!-- graph_d38l -->\n",
       "<g id=\"node2\" class=\"node\">\n",
       "<title>graph_d38l</title>\n",
       "<path fill=\"#ff1744\" stroke=\"#000000\" stroke-opacity=\"0.333333\" d=\"M532.05,-127.8C532.05,-127.8 209.25,-127.8 209.25,-127.8 203.25,-127.8 197.25,-121.8 197.25,-115.8 197.25,-115.8 197.25,-12 197.25,-12 197.25,-6 203.25,0 209.25,0 209.25,0 532.05,0 532.05,0 538.05,0 544.05,-6 544.05,-12 544.05,-12 544.05,-115.8 544.05,-115.8 544.05,-121.8 538.05,-127.8 532.05,-127.8\"/>\n",
       "<text text-anchor=\"start\" x=\"286.65\" y=\"-103.95\" font-family=\"Red Hat Display,sans-serif\" font-weight=\"bold\" font-size=\"11.00\" fill=\"#ffffff\" fill-opacity=\"0.733333\">RETAIL_FEATURES size ∈ int{0}</text>\n",
       "<text text-anchor=\"start\" x=\"344.02\" y=\"-92.95\" font-family=\"Red Hat Display,sans-serif\" font-size=\"11.00\" fill=\"#ffffff\" fill-opacity=\"0.733333\">id = id ∈ str</text>\n",
       "<text text-anchor=\"start\" x=\"328.27\" y=\"-81.95\" font-family=\"Red Hat Display,sans-serif\" font-size=\"11.00\" fill=\"#ffffff\" fill-opacity=\"0.733333\">store = store ∈ str</text>\n",
       "<text text-anchor=\"start\" x=\"211.65\" y=\"-70.95\" font-family=\"Red Hat Display,sans-serif\" font-size=\"11.00\" fill=\"#ffffff\" fill-opacity=\"0.733333\">date = date ∈ datetime[0001&#45;01&#45;01 00:00:00 9999&#45;12&#45;31 00:00:00]</text>\n",
       "<text text-anchor=\"start\" x=\"289.65\" y=\"-59.95\" font-family=\"Red Hat Display,sans-serif\" font-size=\"11.00\" fill=\"#ffffff\" fill-opacity=\"0.733333\">temperature = temperature ∈ float</text>\n",
       "<text text-anchor=\"start\" x=\"301.65\" y=\"-48.95\" font-family=\"Red Hat Display,sans-serif\" font-size=\"11.00\" fill=\"#ffffff\" fill-opacity=\"0.733333\">fuel_price = fuel_price ∈ float</text>\n",
       "<text text-anchor=\"start\" x=\"334.65\" y=\"-37.95\" font-family=\"Red Hat Display,sans-serif\" font-size=\"11.00\" fill=\"#ffffff\" fill-opacity=\"0.733333\">cpi = cpi ∈ float</text>\n",
       "<text text-anchor=\"start\" x=\"277.65\" y=\"-26.95\" font-family=\"Red Hat Display,sans-serif\" font-size=\"11.00\" fill=\"#ffffff\" fill-opacity=\"0.733333\">unemployment = unemployment ∈ float</text>\n",
       "<text text-anchor=\"start\" x=\"306.9\" y=\"-15.95\" font-family=\"Red Hat Display,sans-serif\" font-size=\"11.00\" fill=\"#ffffff\" fill-opacity=\"0.733333\">isholiday = isholiday ∈ bool</text>\n",
       "</g>\n",
       "<!-- graph_f3lx -->\n",
       "<g id=\"node3\" class=\"node\">\n",
       "<title>graph_f3lx</title>\n",
       "<path fill=\"#ff616f\" stroke=\"#000000\" stroke-opacity=\"0.333333\" d=\"M439.3,-328.6C439.3,-328.6 22,-328.6 22,-328.6 16,-328.6 10,-322.6 10,-316.6 10,-316.6 10,-168.8 10,-168.8 10,-162.8 16,-156.8 22,-156.8 22,-156.8 439.3,-156.8 439.3,-156.8 445.3,-156.8 451.3,-162.8 451.3,-168.8 451.3,-168.8 451.3,-316.6 451.3,-316.6 451.3,-322.6 445.3,-328.6 439.3,-328.6\"/>\n",
       "<text text-anchor=\"start\" x=\"168.78\" y=\"-304.75\" font-family=\"Red Hat Display,sans-serif\" font-weight=\"bold\" font-size=\"11.00\" fill=\"#000000\" fill-opacity=\"0.733333\">JOIN__EPE size ∈ int{0}</text>\n",
       "<text text-anchor=\"start\" x=\"151.9\" y=\"-293.75\" font-family=\"Red Hat Display,sans-serif\" font-size=\"11.00\" fill=\"#000000\" fill-opacity=\"0.733333\">field_lj3x = retail_features.id ∈ str</text>\n",
       "<text text-anchor=\"start\" x=\"139.9\" y=\"-282.75\" font-family=\"Red Hat Display,sans-serif\" font-size=\"11.00\" fill=\"#000000\" fill-opacity=\"0.733333\">field_496g = retail_features.store ∈ str</text>\n",
       "<text text-anchor=\"start\" x=\"24.4\" y=\"-271.75\" font-family=\"Red Hat Display,sans-serif\" font-size=\"11.00\" fill=\"#000000\" fill-opacity=\"0.733333\">field_lpkx = retail_features.date ∈ datetime[0001&#45;01&#45;01 00:00:00 9999&#45;12&#45;31 00:00:00]</text>\n",
       "<text text-anchor=\"start\" x=\"120.4\" y=\"-260.75\" font-family=\"Red Hat Display,sans-serif\" font-size=\"11.00\" fill=\"#000000\" fill-opacity=\"0.733333\">field_84ui = retail_features.temperature ∈ float</text>\n",
       "<text text-anchor=\"start\" x=\"124.53\" y=\"-249.75\" font-family=\"Red Hat Display,sans-serif\" font-size=\"11.00\" fill=\"#000000\" fill-opacity=\"0.733333\">field_ar1w = retail_features.fuel_price ∈ float</text>\n",
       "<text text-anchor=\"start\" x=\"142.53\" y=\"-238.75\" font-family=\"Red Hat Display,sans-serif\" font-size=\"11.00\" fill=\"#000000\" fill-opacity=\"0.733333\">field_rp2k = retail_features.cpi ∈ float</text>\n",
       "<text text-anchor=\"start\" x=\"112.9\" y=\"-227.75\" font-family=\"Red Hat Display,sans-serif\" font-size=\"11.00\" fill=\"#000000\" fill-opacity=\"0.733333\">field_wrx8 = retail_features.unemployment ∈ float</text>\n",
       "<text text-anchor=\"start\" x=\"126.03\" y=\"-216.75\" font-family=\"Red Hat Display,sans-serif\" font-size=\"11.00\" fill=\"#000000\" fill-opacity=\"0.733333\">field_56w6 = retail_features.isholiday ∈ bool</text>\n",
       "<text text-anchor=\"start\" x=\"145.9\" y=\"-205.75\" font-family=\"Red Hat Display,sans-serif\" font-size=\"11.00\" fill=\"#000000\" fill-opacity=\"0.733333\">field_1hrp = retail_stores.store ∈ str</text>\n",
       "<text text-anchor=\"start\" x=\"146.65\" y=\"-194.75\" font-family=\"Red Hat Display,sans-serif\" font-size=\"11.00\" fill=\"#000000\" fill-opacity=\"0.733333\">field_9ph1 = retail_stores.type ∈ str</text>\n",
       "<text text-anchor=\"start\" x=\"148.15\" y=\"-183.75\" font-family=\"Red Hat Display,sans-serif\" font-size=\"11.00\" fill=\"#000000\" fill-opacity=\"0.733333\">field_5_dv = retail_stores.size ∈ int</text>\n",
       "<text text-anchor=\"start\" x=\"101.28\" y=\"-172.75\" font-family=\"Red Hat Display,sans-serif\" font-size=\"11.00\" fill=\"#000000\" fill-opacity=\"0.733333\">INNER ON (retail_stores.store = retail_features.store)</text>\n",
       "</g>\n",
       "<!-- graph_f3lx&#45;&gt;graph_sl69 -->\n",
       "<g id=\"edge2\" class=\"edge\">\n",
       "<title>graph_f3lx&#45;&gt;graph_sl69</title>\n",
       "<path fill=\"none\" stroke=\"#2b303a\" d=\"M163.59,-156.41C150.59,-139.87 137.48,-123.19 126.07,-108.69\"/>\n",
       "<polygon fill=\"#2b303a\" stroke=\"#2b303a\" points=\"128.5,-107.11 119.57,-101.41 123,-111.44 128.5,-107.11\"/>\n",
       "</g>\n",
       "<!-- graph_f3lx&#45;&gt;graph_d38l -->\n",
       "<g id=\"edge1\" class=\"edge\">\n",
       "<title>graph_f3lx&#45;&gt;graph_d38l</title>\n",
       "<path fill=\"none\" stroke=\"#2b303a\" d=\"M298.19,-156.41C303.5,-149.7 308.83,-142.97 314.05,-136.37\"/>\n",
       "<polygon fill=\"#2b303a\" stroke=\"#2b303a\" points=\"317.14,-139.11 320.61,-129.1 311.66,-134.76 317.14,-139.11\"/>\n",
       "</g>\n",
       "<!-- graph_6dg5 -->\n",
       "<g id=\"node4\" class=\"node\">\n",
       "<title>graph_6dg5</title>\n",
       "<path fill=\"#428e92\" stroke=\"#000000\" stroke-opacity=\"0.333333\" d=\"M358.3,-452.4C358.3,-452.4 103,-452.4 103,-452.4 97,-452.4 91,-446.4 91,-440.4 91,-440.4 91,-369.6 91,-369.6 91,-363.6 97,-357.6 103,-357.6 103,-357.6 358.3,-357.6 358.3,-357.6 364.3,-357.6 370.3,-363.6 370.3,-369.6 370.3,-369.6 370.3,-440.4 370.3,-440.4 370.3,-446.4 364.3,-452.4 358.3,-452.4\"/>\n",
       "<text text-anchor=\"start\" x=\"112.9\" y=\"-428.55\" font-family=\"Red Hat Display,sans-serif\" font-weight=\"bold\" font-size=\"11.00\" fill=\"#000000\" fill-opacity=\"0.733333\">_PROTECTED_RETAIL_STORES size ∈ int{0}</text>\n",
       "<text text-anchor=\"start\" x=\"105.4\" y=\"-417.55\" font-family=\"Red Hat Display,sans-serif\" font-size=\"11.00\" fill=\"#000000\" fill-opacity=\"0.733333\">_PROTECTED_ENTITY_ID_ = md5(field_lj3x) ∈ str</text>\n",
       "<text text-anchor=\"start\" x=\"114.4\" y=\"-406.55\" font-family=\"Red Hat Display,sans-serif\" font-size=\"11.00\" fill=\"#000000\" fill-opacity=\"0.733333\">_PROTECTED_ENTITY_WEIGHT_ = 1 ∈ int{1}</text>\n",
       "<text text-anchor=\"start\" x=\"176.65\" y=\"-395.55\" font-family=\"Red Hat Display,sans-serif\" font-size=\"11.00\" fill=\"#000000\" fill-opacity=\"0.733333\">store = field_1hrp ∈ str</text>\n",
       "<text text-anchor=\"start\" x=\"177.4\" y=\"-384.55\" font-family=\"Red Hat Display,sans-serif\" font-size=\"11.00\" fill=\"#000000\" fill-opacity=\"0.733333\">type = field_9ph1 ∈ str</text>\n",
       "<text text-anchor=\"start\" x=\"178.9\" y=\"-373.55\" font-family=\"Red Hat Display,sans-serif\" font-size=\"11.00\" fill=\"#000000\" fill-opacity=\"0.733333\">size = field_5_dv ∈ int</text>\n",
       "</g>\n",
       "<!-- graph_6dg5&#45;&gt;graph_f3lx -->\n",
       "<g id=\"edge3\" class=\"edge\">\n",
       "<title>graph_6dg5&#45;&gt;graph_f3lx</title>\n",
       "<path fill=\"none\" stroke=\"#2b303a\" d=\"M230.65,-357.2C230.65,-351.6 230.65,-345.73 230.65,-339.74\"/>\n",
       "<polygon fill=\"#2b303a\" stroke=\"#2b303a\" points=\"234.15,-339.86 230.65,-329.86 227.15,-339.86 234.15,-339.86\"/>\n",
       "</g>\n",
       "<!-- graph_xc6p -->\n",
       "<g id=\"node5\" class=\"node\">\n",
       "<title>graph_xc6p</title>\n",
       "<path fill=\"#428e92\" stroke=\"#000000\" stroke-opacity=\"0.333333\" d=\"M434.8,-576.2C434.8,-576.2 26.5,-576.2 26.5,-576.2 20.5,-576.2 14.5,-570.2 14.5,-564.2 14.5,-564.2 14.5,-493.4 14.5,-493.4 14.5,-487.4 20.5,-481.4 26.5,-481.4 26.5,-481.4 434.8,-481.4 434.8,-481.4 440.8,-481.4 446.8,-487.4 446.8,-493.4 446.8,-493.4 446.8,-564.2 446.8,-564.2 446.8,-570.2 440.8,-576.2 434.8,-576.2\"/>\n",
       "<text text-anchor=\"start\" x=\"169.53\" y=\"-552.35\" font-family=\"Red Hat Display,sans-serif\" font-weight=\"bold\" font-size=\"11.00\" fill=\"#000000\" fill-opacity=\"0.733333\">MAP_6U2A size ∈ int{0}</text>\n",
       "<text text-anchor=\"start\" x=\"68.28\" y=\"-541.35\" font-family=\"Red Hat Display,sans-serif\" font-size=\"11.00\" fill=\"#000000\" fill-opacity=\"0.733333\">_PROTECTED_ENTITY_ID_ = _PROTECTED_ENTITY_ID_ ∈ str</text>\n",
       "<text text-anchor=\"start\" x=\"28.9\" y=\"-530.35\" font-family=\"Red Hat Display,sans-serif\" font-size=\"11.00\" fill=\"#000000\" fill-opacity=\"0.733333\">_PROTECTED_ENTITY_WEIGHT_ = _PROTECTED_ENTITY_WEIGHT_ ∈ int{1}</text>\n",
       "<text text-anchor=\"start\" x=\"188.28\" y=\"-519.35\" font-family=\"Red Hat Display,sans-serif\" font-size=\"11.00\" fill=\"#000000\" fill-opacity=\"0.733333\">store = store ∈ str</text>\n",
       "<text text-anchor=\"start\" x=\"192.03\" y=\"-508.35\" font-family=\"Red Hat Display,sans-serif\" font-size=\"11.00\" fill=\"#000000\" fill-opacity=\"0.733333\">type = type ∈ str</text>\n",
       "<text text-anchor=\"start\" x=\"193.9\" y=\"-497.35\" font-family=\"Red Hat Display,sans-serif\" font-size=\"11.00\" fill=\"#000000\" fill-opacity=\"0.733333\">size = size ∈ int</text>\n",
       "</g>\n",
       "<!-- graph_xc6p&#45;&gt;graph_6dg5 -->\n",
       "<g id=\"edge4\" class=\"edge\">\n",
       "<title>graph_xc6p&#45;&gt;graph_6dg5</title>\n",
       "<path fill=\"none\" stroke=\"#2b303a\" d=\"M230.65,-481.06C230.65,-475.27 230.65,-469.3 230.65,-463.38\"/>\n",
       "<polygon fill=\"#2b303a\" stroke=\"#2b303a\" points=\"234.15,-463.82 230.65,-453.82 227.15,-463.82 234.15,-463.82\"/>\n",
       "</g>\n",
       "</g>\n",
       "</svg>\n"
      ],
      "text/plain": [
       "<graphviz.sources.Source at 0x124663ee0>"
      ]
     },
     "metadata": {},
     "output_type": "display_data"
    }
   ],
   "source": [
    "#protected entity: [\"retail.stores\", [[\"store\", \"retail.features\", \"store\"]], \"id\"]\n",
    "_relation = dataset.sql('SELECT * FROM retail.stores')\n",
    "_protected_relation = _relation.protect(\n",
    "    dataset,\n",
    "    str_pe\n",
    ")\n",
    "display_dot(_protected_relation.dot())"
   ]
  },
  {
   "attachments": {},
   "cell_type": "markdown",
   "id": "8459b402",
   "metadata": {},
   "source": [
    "We apply `protect`  to the `Relation` build from `SELECT SUM(fuel_price) As sum_fuel_price FROM features`:"
   ]
  },
  {
   "cell_type": "code",
   "execution_count": 24,
   "id": "c344ed97",
   "metadata": {},
   "outputs": [
    {
     "data": {
      "image/svg+xml": [
       "<?xml version=\"1.0\" encoding=\"UTF-8\" standalone=\"no\"?>\n",
       "<!DOCTYPE svg PUBLIC \"-//W3C//DTD SVG 1.1//EN\"\n",
       " \"http://www.w3.org/Graphics/SVG/1.1/DTD/svg11.dtd\">\n",
       "<!-- Generated by graphviz version 8.1.0 (20230707.0739)\n",
       " -->\n",
       "<!-- Title: graph_8mnz Pages: 1 -->\n",
       "<svg width=\"440pt\" height=\"631pt\"\n",
       " viewBox=\"0.00 0.00 440.30 631.00\" xmlns=\"http://www.w3.org/2000/svg\" xmlns:xlink=\"http://www.w3.org/1999/xlink\">\n",
       "<g id=\"graph0\" class=\"graph\" transform=\"scale(1 1) rotate(0) translate(4 627)\">\n",
       "<title>graph_8mnz</title>\n",
       "<polygon fill=\"none\" stroke=\"none\" points=\"-4,4 -4,-627 436.3,-627 436.3,4 -4,4\"/>\n",
       "<!-- graph_d38l -->\n",
       "<g id=\"node1\" class=\"node\">\n",
       "<title>graph_d38l</title>\n",
       "<path fill=\"#ff1744\" stroke=\"#000000\" stroke-opacity=\"0.333333\" d=\"M377.55,-127.8C377.55,-127.8 54.75,-127.8 54.75,-127.8 48.75,-127.8 42.75,-121.8 42.75,-115.8 42.75,-115.8 42.75,-12 42.75,-12 42.75,-6 48.75,0 54.75,0 54.75,0 377.55,0 377.55,0 383.55,0 389.55,-6 389.55,-12 389.55,-12 389.55,-115.8 389.55,-115.8 389.55,-121.8 383.55,-127.8 377.55,-127.8\"/>\n",
       "<text text-anchor=\"start\" x=\"132.15\" y=\"-103.95\" font-family=\"Red Hat Display,sans-serif\" font-weight=\"bold\" font-size=\"11.00\" fill=\"#ffffff\" fill-opacity=\"0.733333\">RETAIL_FEATURES size ∈ int{0}</text>\n",
       "<text text-anchor=\"start\" x=\"189.53\" y=\"-92.95\" font-family=\"Red Hat Display,sans-serif\" font-size=\"11.00\" fill=\"#ffffff\" fill-opacity=\"0.733333\">id = id ∈ str</text>\n",
       "<text text-anchor=\"start\" x=\"173.78\" y=\"-81.95\" font-family=\"Red Hat Display,sans-serif\" font-size=\"11.00\" fill=\"#ffffff\" fill-opacity=\"0.733333\">store = store ∈ str</text>\n",
       "<text text-anchor=\"start\" x=\"57.15\" y=\"-70.95\" font-family=\"Red Hat Display,sans-serif\" font-size=\"11.00\" fill=\"#ffffff\" fill-opacity=\"0.733333\">date = date ∈ datetime[0001&#45;01&#45;01 00:00:00 9999&#45;12&#45;31 00:00:00]</text>\n",
       "<text text-anchor=\"start\" x=\"135.15\" y=\"-59.95\" font-family=\"Red Hat Display,sans-serif\" font-size=\"11.00\" fill=\"#ffffff\" fill-opacity=\"0.733333\">temperature = temperature ∈ float</text>\n",
       "<text text-anchor=\"start\" x=\"147.15\" y=\"-48.95\" font-family=\"Red Hat Display,sans-serif\" font-size=\"11.00\" fill=\"#ffffff\" fill-opacity=\"0.733333\">fuel_price = fuel_price ∈ float</text>\n",
       "<text text-anchor=\"start\" x=\"180.15\" y=\"-37.95\" font-family=\"Red Hat Display,sans-serif\" font-size=\"11.00\" fill=\"#ffffff\" fill-opacity=\"0.733333\">cpi = cpi ∈ float</text>\n",
       "<text text-anchor=\"start\" x=\"123.15\" y=\"-26.95\" font-family=\"Red Hat Display,sans-serif\" font-size=\"11.00\" fill=\"#ffffff\" fill-opacity=\"0.733333\">unemployment = unemployment ∈ float</text>\n",
       "<text text-anchor=\"start\" x=\"152.4\" y=\"-15.95\" font-family=\"Red Hat Display,sans-serif\" font-size=\"11.00\" fill=\"#ffffff\" fill-opacity=\"0.733333\">isholiday = isholiday ∈ bool</text>\n",
       "</g>\n",
       "<!-- graph_ke2k -->\n",
       "<g id=\"node2\" class=\"node\">\n",
       "<title>graph_ke2k</title>\n",
       "<path fill=\"#428e92\" stroke=\"#000000\" stroke-opacity=\"0.333333\" d=\"M377.55,-306.6C377.55,-306.6 54.75,-306.6 54.75,-306.6 48.75,-306.6 42.75,-300.6 42.75,-294.6 42.75,-294.6 42.75,-168.8 42.75,-168.8 42.75,-162.8 48.75,-156.8 54.75,-156.8 54.75,-156.8 377.55,-156.8 377.55,-156.8 383.55,-156.8 389.55,-162.8 389.55,-168.8 389.55,-168.8 389.55,-294.6 389.55,-294.6 389.55,-300.6 383.55,-306.6 377.55,-306.6\"/>\n",
       "<text text-anchor=\"start\" x=\"91.65\" y=\"-282.75\" font-family=\"Red Hat Display,sans-serif\" font-weight=\"bold\" font-size=\"11.00\" fill=\"#000000\" fill-opacity=\"0.733333\">_PROTECTED_RETAIL_FEATURES size ∈ int{0}</text>\n",
       "<text text-anchor=\"start\" x=\"107.4\" y=\"-271.75\" font-family=\"Red Hat Display,sans-serif\" font-size=\"11.00\" fill=\"#000000\" fill-opacity=\"0.733333\">_PROTECTED_ENTITY_ID_ = md5(id) ∈ str</text>\n",
       "<text text-anchor=\"start\" x=\"99.9\" y=\"-260.75\" font-family=\"Red Hat Display,sans-serif\" font-size=\"11.00\" fill=\"#000000\" fill-opacity=\"0.733333\">_PROTECTED_ENTITY_WEIGHT_ = 1 ∈ int{1}</text>\n",
       "<text text-anchor=\"start\" x=\"189.53\" y=\"-249.75\" font-family=\"Red Hat Display,sans-serif\" font-size=\"11.00\" fill=\"#000000\" fill-opacity=\"0.733333\">id = id ∈ str</text>\n",
       "<text text-anchor=\"start\" x=\"173.78\" y=\"-238.75\" font-family=\"Red Hat Display,sans-serif\" font-size=\"11.00\" fill=\"#000000\" fill-opacity=\"0.733333\">store = store ∈ str</text>\n",
       "<text text-anchor=\"start\" x=\"57.15\" y=\"-227.75\" font-family=\"Red Hat Display,sans-serif\" font-size=\"11.00\" fill=\"#000000\" fill-opacity=\"0.733333\">date = date ∈ datetime[0001&#45;01&#45;01 00:00:00 9999&#45;12&#45;31 00:00:00]</text>\n",
       "<text text-anchor=\"start\" x=\"135.15\" y=\"-216.75\" font-family=\"Red Hat Display,sans-serif\" font-size=\"11.00\" fill=\"#000000\" fill-opacity=\"0.733333\">temperature = temperature ∈ float</text>\n",
       "<text text-anchor=\"start\" x=\"147.15\" y=\"-205.75\" font-family=\"Red Hat Display,sans-serif\" font-size=\"11.00\" fill=\"#000000\" fill-opacity=\"0.733333\">fuel_price = fuel_price ∈ float</text>\n",
       "<text text-anchor=\"start\" x=\"180.15\" y=\"-194.75\" font-family=\"Red Hat Display,sans-serif\" font-size=\"11.00\" fill=\"#000000\" fill-opacity=\"0.733333\">cpi = cpi ∈ float</text>\n",
       "<text text-anchor=\"start\" x=\"123.15\" y=\"-183.75\" font-family=\"Red Hat Display,sans-serif\" font-size=\"11.00\" fill=\"#000000\" fill-opacity=\"0.733333\">unemployment = unemployment ∈ float</text>\n",
       "<text text-anchor=\"start\" x=\"152.4\" y=\"-172.75\" font-family=\"Red Hat Display,sans-serif\" font-size=\"11.00\" fill=\"#000000\" fill-opacity=\"0.733333\">isholiday = isholiday ∈ bool</text>\n",
       "</g>\n",
       "<!-- graph_ke2k&#45;&gt;graph_d38l -->\n",
       "<g id=\"edge1\" class=\"edge\">\n",
       "<title>graph_ke2k&#45;&gt;graph_d38l</title>\n",
       "<path fill=\"none\" stroke=\"#2b303a\" d=\"M216.15,-156.53C216.15,-150.6 216.15,-144.61 216.15,-138.69\"/>\n",
       "<polygon fill=\"#2b303a\" stroke=\"#2b303a\" points=\"219.65,-139.12 216.15,-129.12 212.65,-139.12 219.65,-139.12\"/>\n",
       "</g>\n",
       "<!-- graph_ikw6 -->\n",
       "<g id=\"node3\" class=\"node\">\n",
       "<title>graph_ikw6</title>\n",
       "<path fill=\"#428e92\" stroke=\"#000000\" stroke-opacity=\"0.333333\" d=\"M420.3,-408.4C420.3,-408.4 12,-408.4 12,-408.4 6,-408.4 0,-402.4 0,-396.4 0,-396.4 0,-347.6 0,-347.6 0,-341.6 6,-335.6 12,-335.6 12,-335.6 420.3,-335.6 420.3,-335.6 426.3,-335.6 432.3,-341.6 432.3,-347.6 432.3,-347.6 432.3,-396.4 432.3,-396.4 432.3,-402.4 426.3,-408.4 420.3,-408.4\"/>\n",
       "<text text-anchor=\"start\" x=\"155.78\" y=\"-384.55\" font-family=\"Red Hat Display,sans-serif\" font-weight=\"bold\" font-size=\"11.00\" fill=\"#000000\" fill-opacity=\"0.733333\">MAP_0OLT size ∈ int{0}</text>\n",
       "<text text-anchor=\"start\" x=\"53.78\" y=\"-373.55\" font-family=\"Red Hat Display,sans-serif\" font-size=\"11.00\" fill=\"#000000\" fill-opacity=\"0.733333\">_PROTECTED_ENTITY_ID_ = _PROTECTED_ENTITY_ID_ ∈ str</text>\n",
       "<text text-anchor=\"start\" x=\"14.4\" y=\"-362.55\" font-family=\"Red Hat Display,sans-serif\" font-size=\"11.00\" fill=\"#000000\" fill-opacity=\"0.733333\">_PROTECTED_ENTITY_WEIGHT_ = _PROTECTED_ENTITY_WEIGHT_ ∈ int{1}</text>\n",
       "<text text-anchor=\"start\" x=\"147.9\" y=\"-351.55\" font-family=\"Red Hat Display,sans-serif\" font-size=\"11.00\" fill=\"#000000\" fill-opacity=\"0.733333\">field__6vl = fuel_price ∈ float</text>\n",
       "</g>\n",
       "<!-- graph_ikw6&#45;&gt;graph_ke2k -->\n",
       "<g id=\"edge2\" class=\"edge\">\n",
       "<title>graph_ikw6&#45;&gt;graph_ke2k</title>\n",
       "<path fill=\"none\" stroke=\"#2b303a\" d=\"M216.15,-335.38C216.15,-329.74 216.15,-323.71 216.15,-317.5\"/>\n",
       "<polygon fill=\"#2b303a\" stroke=\"#2b303a\" points=\"219.65,-317.92 216.15,-307.92 212.65,-317.92 219.65,-317.92\"/>\n",
       "</g>\n",
       "<!-- graph_8l3e -->\n",
       "<g id=\"node4\" class=\"node\">\n",
       "<title>graph_8l3e</title>\n",
       "<path fill=\"#428e92\" stroke=\"#000000\" stroke-opacity=\"0.333333\" d=\"M355.43,-510.2C355.43,-510.2 76.88,-510.2 76.88,-510.2 70.88,-510.2 64.88,-504.2 64.88,-498.2 64.88,-498.2 64.88,-449.4 64.88,-449.4 64.88,-443.4 70.88,-437.4 76.88,-437.4 76.88,-437.4 355.43,-437.4 355.43,-437.4 361.43,-437.4 367.43,-443.4 367.43,-449.4 367.43,-449.4 367.43,-498.2 367.43,-498.2 367.43,-504.2 361.43,-510.2 355.43,-510.2\"/>\n",
       "<text text-anchor=\"start\" x=\"158.03\" y=\"-486.35\" font-family=\"Red Hat Display,sans-serif\" font-weight=\"bold\" font-size=\"11.00\" fill=\"#000000\" fill-opacity=\"0.733333\">MAP_5I_Z size ∈ int{0}</text>\n",
       "<text text-anchor=\"start\" x=\"102.53\" y=\"-475.35\" font-family=\"Red Hat Display,sans-serif\" font-size=\"11.00\" fill=\"#000000\" fill-opacity=\"0.733333\">field_6zur = _PROTECTED_ENTITY_ID_ ∈ str</text>\n",
       "<text text-anchor=\"start\" x=\"79.28\" y=\"-464.35\" font-family=\"Red Hat Display,sans-serif\" font-size=\"11.00\" fill=\"#000000\" fill-opacity=\"0.733333\">field_yx2x = _PROTECTED_ENTITY_WEIGHT_ ∈ int{1}</text>\n",
       "<text text-anchor=\"start\" x=\"146.4\" y=\"-453.35\" font-family=\"Red Hat Display,sans-serif\" font-size=\"11.00\" fill=\"#000000\" fill-opacity=\"0.733333\">field_3d25 = field__6vl ∈ float</text>\n",
       "</g>\n",
       "<!-- graph_8l3e&#45;&gt;graph_ikw6 -->\n",
       "<g id=\"edge3\" class=\"edge\">\n",
       "<title>graph_8l3e&#45;&gt;graph_ikw6</title>\n",
       "<path fill=\"none\" stroke=\"#2b303a\" d=\"M216.15,-437.05C216.15,-431.46 216.15,-425.61 216.15,-419.82\"/>\n",
       "<polygon fill=\"#2b303a\" stroke=\"#2b303a\" points=\"219.65,-419.83 216.15,-409.83 212.65,-419.83 219.65,-419.83\"/>\n",
       "</g>\n",
       "<!-- graph_8mnz -->\n",
       "<g id=\"node5\" class=\"node\">\n",
       "<title>graph_8mnz</title>\n",
       "<path fill=\"#00363a\" stroke=\"#000000\" stroke-opacity=\"0.333333\" d=\"M369.3,-623C369.3,-623 63,-623 63,-623 57,-623 51,-617 51,-611 51,-611 51,-551.2 51,-551.2 51,-545.2 57,-539.2 63,-539.2 63,-539.2 369.3,-539.2 369.3,-539.2 375.3,-539.2 381.3,-545.2 381.3,-551.2 381.3,-551.2 381.3,-611 381.3,-611 381.3,-617 375.3,-623 369.3,-623\"/>\n",
       "<text text-anchor=\"start\" x=\"143.4\" y=\"-599.15\" font-family=\"Red Hat Display,sans-serif\" font-weight=\"bold\" font-size=\"11.00\" fill=\"#ffffff\" fill-opacity=\"0.733333\">REDUCE_RP49 size ∈ int{0}</text>\n",
       "<text text-anchor=\"start\" x=\"90.15\" y=\"-588.15\" font-family=\"Red Hat Display,sans-serif\" font-size=\"11.00\" fill=\"#ffffff\" fill-opacity=\"0.733333\">_PROTECTED_ENTITY_ID_ = first(field_6zur) ∈ str</text>\n",
       "<text text-anchor=\"start\" x=\"65.4\" y=\"-577.15\" font-family=\"Red Hat Display,sans-serif\" font-size=\"11.00\" fill=\"#ffffff\" fill-opacity=\"0.733333\">_PROTECTED_ENTITY_WEIGHT_ = sum(field_yx2x) ∈ int{0}</text>\n",
       "<text text-anchor=\"start\" x=\"110.03\" y=\"-566.15\" font-family=\"Red Hat Display,sans-serif\" font-size=\"11.00\" fill=\"#ffffff\" fill-opacity=\"0.733333\">sum_fuel_price = sum(field_3d25) ∈ float{&#45;0}</text>\n",
       "<text text-anchor=\"start\" x=\"158.4\" y=\"-555.15\" font-family=\"Red Hat Display,sans-serif\" font-size=\"11.00\" fill=\"#ffffff\" fill-opacity=\"0.733333\">GROUP BY (field_6zur)</text>\n",
       "</g>\n",
       "<!-- graph_8mnz&#45;&gt;graph_8l3e -->\n",
       "<g id=\"edge4\" class=\"edge\">\n",
       "<title>graph_8mnz&#45;&gt;graph_8l3e</title>\n",
       "<path fill=\"none\" stroke=\"#2b303a\" d=\"M216.15,-538.78C216.15,-533.1 216.15,-527.22 216.15,-521.45\"/>\n",
       "<polygon fill=\"#2b303a\" stroke=\"#2b303a\" points=\"219.65,-521.54 216.15,-511.54 212.65,-521.54 219.65,-521.54\"/>\n",
       "</g>\n",
       "</g>\n",
       "</svg>\n"
      ],
      "text/plain": [
       "<graphviz.sources.Source at 0x1245dc1c0>"
      ]
     },
     "metadata": {},
     "output_type": "display_data"
    }
   ],
   "source": [
    "protected_relation = relation.protect(\n",
    "    dataset,\n",
    "    str_pe\n",
    ")\n",
    "display_dot(protected_relation.dot())"
   ]
  },
  {
   "attachments": {},
   "cell_type": "markdown",
   "id": "d57d5831",
   "metadata": {},
   "source": [
    "The protection reorganises the inital `Relation` so that the output `Relation` preserves the protected entity : **in the protected `Relation`, we are sure than each row is owned by only one individual.**\n",
    "\n",
    "In our example, the initial `SUM` over the entire dataset has been replaced by a `SUM` groupped by the protected entities. "
   ]
  },
  {
   "cell_type": "code",
   "execution_count": 26,
   "id": "44206c20",
   "metadata": {},
   "outputs": [
    {
     "name": "stdout",
     "output_type": "stream",
     "text": [
      "\u001b[34mWITH\u001b[0m\n",
      "  _PROTECTED_retail_features (_PROTECTED_ENTITY_ID_, _PROTECTED_ENTITY_WEIGHT_, id, store, date, temperature, fuel_price, cpi, unemployment, isholiday) \u001b[35mAS\u001b[0m (\u001b[35mSELECT\u001b[0m md5(id) \u001b[35mAS\u001b[0m _PROTECTED_ENTITY_ID_, 1 \u001b[35mAS\u001b[0m _PROTECTED_ENTITY_WEIGHT_, id \u001b[35mAS\u001b[0m id, store \u001b[35mAS\u001b[0m store, date \u001b[35mAS\u001b[0m date, temperature \u001b[35mAS\u001b[0m temperature, fuel_price \u001b[35mAS\u001b[0m fuel_price, cpi \u001b[35mAS\u001b[0m cpi, unemployment \u001b[35mAS\u001b[0m unemployment, isholiday \u001b[35mAS\u001b[0m isholiday FROM retail.features),\n",
      "  map_0olt (_PROTECTED_ENTITY_ID_, _PROTECTED_ENTITY_WEIGHT_, field__6vl) \u001b[35mAS\u001b[0m (\u001b[35mSELECT\u001b[0m _PROTECTED_ENTITY_ID_ \u001b[35mAS\u001b[0m _PROTECTED_ENTITY_ID_, _PROTECTED_ENTITY_WEIGHT_ \u001b[35mAS\u001b[0m _PROTECTED_ENTITY_WEIGHT_, fuel_price \u001b[35mAS\u001b[0m field__6vl FROM _PROTECTED_retail_features),\n",
      "  map_5i_z (field_6zur, field_yx2x, field_3d25) \u001b[35mAS\u001b[0m (\u001b[35mSELECT\u001b[0m _PROTECTED_ENTITY_ID_ \u001b[35mAS\u001b[0m field_6zur, _PROTECTED_ENTITY_WEIGHT_ \u001b[35mAS\u001b[0m field_yx2x, field__6vl \u001b[35mAS\u001b[0m field_3d25 FROM map_0olt),\n",
      "  reduce_rp49 (_PROTECTED_ENTITY_ID_, _PROTECTED_ENTITY_WEIGHT_, sum_fuel_price) \u001b[35mAS\u001b[0m (\u001b[35mSELECT\u001b[0m field_6zur \u001b[35mAS\u001b[0m _PROTECTED_ENTITY_ID_, sum(field_yx2x) \u001b[35mAS\u001b[0m _PROTECTED_ENTITY_WEIGHT_, sum(field_3d25) \u001b[35mAS\u001b[0m sum_fuel_price FROM map_5i_z \u001b[35mGROUP BY\u001b[0m field_6zur)\n",
      "\u001b[35mSELECT\u001b[0m * FROM reduce_rp49\n"
     ]
    }
   ],
   "source": [
    "print_query(protected_relation.render())"
   ]
  },
  {
   "cell_type": "code",
   "execution_count": 27,
   "id": "a33eda45",
   "metadata": {},
   "outputs": [
    {
     "data": {
      "text/html": [
       "<div>\n",
       "<style scoped>\n",
       "    .dataframe tbody tr th:only-of-type {\n",
       "        vertical-align: middle;\n",
       "    }\n",
       "\n",
       "    .dataframe tbody tr th {\n",
       "        vertical-align: top;\n",
       "    }\n",
       "\n",
       "    .dataframe thead th {\n",
       "        text-align: right;\n",
       "    }\n",
       "</style>\n",
       "<table border=\"1\" class=\"dataframe\">\n",
       "  <thead>\n",
       "    <tr style=\"text-align: right;\">\n",
       "      <th></th>\n",
       "      <th>id</th>\n",
       "      <th>store</th>\n",
       "      <th>date</th>\n",
       "      <th>temperature</th>\n",
       "      <th>fuel_price</th>\n",
       "      <th>cpi</th>\n",
       "      <th>unemployment</th>\n",
       "      <th>isholiday</th>\n",
       "    </tr>\n",
       "  </thead>\n",
       "  <tbody>\n",
       "    <tr>\n",
       "      <th>0</th>\n",
       "      <td>1</td>\n",
       "      <td>1</td>\n",
       "      <td>2010-02-05</td>\n",
       "      <td>42.31</td>\n",
       "      <td>2.572</td>\n",
       "      <td>211.096358</td>\n",
       "      <td>8.106</td>\n",
       "      <td>False</td>\n",
       "    </tr>\n",
       "    <tr>\n",
       "      <th>1</th>\n",
       "      <td>2</td>\n",
       "      <td>1</td>\n",
       "      <td>2010-02-12</td>\n",
       "      <td>38.51</td>\n",
       "      <td>2.548</td>\n",
       "      <td>211.242170</td>\n",
       "      <td>8.106</td>\n",
       "      <td>True</td>\n",
       "    </tr>\n",
       "    <tr>\n",
       "      <th>2</th>\n",
       "      <td>3</td>\n",
       "      <td>1</td>\n",
       "      <td>2010-02-19</td>\n",
       "      <td>39.93</td>\n",
       "      <td>2.514</td>\n",
       "      <td>211.289143</td>\n",
       "      <td>8.106</td>\n",
       "      <td>False</td>\n",
       "    </tr>\n",
       "    <tr>\n",
       "      <th>3</th>\n",
       "      <td>4</td>\n",
       "      <td>1</td>\n",
       "      <td>2010-02-26</td>\n",
       "      <td>46.63</td>\n",
       "      <td>2.561</td>\n",
       "      <td>211.319643</td>\n",
       "      <td>8.106</td>\n",
       "      <td>False</td>\n",
       "    </tr>\n",
       "    <tr>\n",
       "      <th>4</th>\n",
       "      <td>5</td>\n",
       "      <td>1</td>\n",
       "      <td>2010-03-05</td>\n",
       "      <td>46.50</td>\n",
       "      <td>2.625</td>\n",
       "      <td>211.350143</td>\n",
       "      <td>8.106</td>\n",
       "      <td>False</td>\n",
       "    </tr>\n",
       "    <tr>\n",
       "      <th>...</th>\n",
       "      <td>...</td>\n",
       "      <td>...</td>\n",
       "      <td>...</td>\n",
       "      <td>...</td>\n",
       "      <td>...</td>\n",
       "      <td>...</td>\n",
       "      <td>...</td>\n",
       "      <td>...</td>\n",
       "    </tr>\n",
       "    <tr>\n",
       "      <th>905</th>\n",
       "      <td>906</td>\n",
       "      <td>5</td>\n",
       "      <td>2013-06-28</td>\n",
       "      <td>86.09</td>\n",
       "      <td>3.495</td>\n",
       "      <td>NaN</td>\n",
       "      <td>NaN</td>\n",
       "      <td>False</td>\n",
       "    </tr>\n",
       "    <tr>\n",
       "      <th>906</th>\n",
       "      <td>907</td>\n",
       "      <td>5</td>\n",
       "      <td>2013-07-05</td>\n",
       "      <td>82.06</td>\n",
       "      <td>3.422</td>\n",
       "      <td>NaN</td>\n",
       "      <td>NaN</td>\n",
       "      <td>False</td>\n",
       "    </tr>\n",
       "    <tr>\n",
       "      <th>907</th>\n",
       "      <td>908</td>\n",
       "      <td>5</td>\n",
       "      <td>2013-07-12</td>\n",
       "      <td>85.75</td>\n",
       "      <td>3.400</td>\n",
       "      <td>NaN</td>\n",
       "      <td>NaN</td>\n",
       "      <td>False</td>\n",
       "    </tr>\n",
       "    <tr>\n",
       "      <th>908</th>\n",
       "      <td>909</td>\n",
       "      <td>5</td>\n",
       "      <td>2013-07-19</td>\n",
       "      <td>79.73</td>\n",
       "      <td>3.556</td>\n",
       "      <td>NaN</td>\n",
       "      <td>NaN</td>\n",
       "      <td>False</td>\n",
       "    </tr>\n",
       "    <tr>\n",
       "      <th>909</th>\n",
       "      <td>910</td>\n",
       "      <td>5</td>\n",
       "      <td>2013-07-26</td>\n",
       "      <td>84.16</td>\n",
       "      <td>3.620</td>\n",
       "      <td>NaN</td>\n",
       "      <td>NaN</td>\n",
       "      <td>False</td>\n",
       "    </tr>\n",
       "  </tbody>\n",
       "</table>\n",
       "<p>910 rows × 8 columns</p>\n",
       "</div>"
      ],
      "text/plain": [
       "      id store       date  temperature  fuel_price         cpi  unemployment   \n",
       "0      1     1 2010-02-05        42.31       2.572  211.096358         8.106  \\\n",
       "1      2     1 2010-02-12        38.51       2.548  211.242170         8.106   \n",
       "2      3     1 2010-02-19        39.93       2.514  211.289143         8.106   \n",
       "3      4     1 2010-02-26        46.63       2.561  211.319643         8.106   \n",
       "4      5     1 2010-03-05        46.50       2.625  211.350143         8.106   \n",
       "..   ...   ...        ...          ...         ...         ...           ...   \n",
       "905  906     5 2013-06-28        86.09       3.495         NaN           NaN   \n",
       "906  907     5 2013-07-05        82.06       3.422         NaN           NaN   \n",
       "907  908     5 2013-07-12        85.75       3.400         NaN           NaN   \n",
       "908  909     5 2013-07-19        79.73       3.556         NaN           NaN   \n",
       "909  910     5 2013-07-26        84.16       3.620         NaN           NaN   \n",
       "\n",
       "     isholiday  \n",
       "0        False  \n",
       "1         True  \n",
       "2        False  \n",
       "3        False  \n",
       "4        False  \n",
       "..         ...  \n",
       "905      False  \n",
       "906      False  \n",
       "907      False  \n",
       "908      False  \n",
       "909      False  \n",
       "\n",
       "[910 rows x 8 columns]"
      ]
     },
     "execution_count": 27,
     "metadata": {},
     "output_type": "execute_result"
    }
   ],
   "source": [
    "pd.DataFrame(db.execute(\"SELECT * FROM retail.features\"))"
   ]
  },
  {
   "cell_type": "code",
   "execution_count": 28,
   "id": "4be9b38d",
   "metadata": {},
   "outputs": [
    {
     "name": "stdout",
     "output_type": "stream",
     "text": [
      "\u001b[34mWITH\u001b[0m\n",
      "  _PROTECTED_retail_features (_PROTECTED_ENTITY_ID_, _PROTECTED_ENTITY_WEIGHT_, id, store, date, temperature, fuel_price, cpi, unemployment, isholiday) \u001b[35mAS\u001b[0m (\u001b[35mSELECT\u001b[0m md5(id) \u001b[35mAS\u001b[0m _PROTECTED_ENTITY_ID_, 1 \u001b[35mAS\u001b[0m _PROTECTED_ENTITY_WEIGHT_, id \u001b[35mAS\u001b[0m id, store \u001b[35mAS\u001b[0m store, date \u001b[35mAS\u001b[0m date, temperature \u001b[35mAS\u001b[0m temperature, fuel_price \u001b[35mAS\u001b[0m fuel_price, cpi \u001b[35mAS\u001b[0m cpi, unemployment \u001b[35mAS\u001b[0m unemployment, isholiday \u001b[35mAS\u001b[0m isholiday FROM retail.features),\n",
      "  map_0olt (_PROTECTED_ENTITY_ID_, _PROTECTED_ENTITY_WEIGHT_, field__6vl) \u001b[35mAS\u001b[0m (\u001b[35mSELECT\u001b[0m _PROTECTED_ENTITY_ID_ \u001b[35mAS\u001b[0m _PROTECTED_ENTITY_ID_, _PROTECTED_ENTITY_WEIGHT_ \u001b[35mAS\u001b[0m _PROTECTED_ENTITY_WEIGHT_, fuel_price \u001b[35mAS\u001b[0m field__6vl FROM _PROTECTED_retail_features),\n",
      "  map_5i_z (field_6zur, field_yx2x, field_3d25) \u001b[35mAS\u001b[0m (\u001b[35mSELECT\u001b[0m _PROTECTED_ENTITY_ID_ \u001b[35mAS\u001b[0m field_6zur, _PROTECTED_ENTITY_WEIGHT_ \u001b[35mAS\u001b[0m field_yx2x, field__6vl \u001b[35mAS\u001b[0m field_3d25 FROM map_0olt),\n",
      "  reduce_rp49 (_PROTECTED_ENTITY_ID_, _PROTECTED_ENTITY_WEIGHT_, sum_fuel_price) \u001b[35mAS\u001b[0m (\u001b[35mSELECT\u001b[0m field_6zur \u001b[35mAS\u001b[0m _PROTECTED_ENTITY_ID_, sum(field_yx2x) \u001b[35mAS\u001b[0m _PROTECTED_ENTITY_WEIGHT_, sum(field_3d25) \u001b[35mAS\u001b[0m sum_fuel_price FROM map_5i_z \u001b[35mGROUP BY\u001b[0m field_6zur)\n",
      "\u001b[35mSELECT\u001b[0m * FROM reduce_rp49\n"
     ]
    }
   ],
   "source": [
    "print_query(protected_relation.render())"
   ]
  },
  {
   "cell_type": "markdown",
   "id": "396070a4",
   "metadata": {},
   "source": []
  },
  {
   "cell_type": "code",
   "execution_count": 30,
   "id": "d44df9ac",
   "metadata": {},
   "outputs": [
    {
     "data": {
      "text/html": [
       "<div>\n",
       "<style scoped>\n",
       "    .dataframe tbody tr th:only-of-type {\n",
       "        vertical-align: middle;\n",
       "    }\n",
       "\n",
       "    .dataframe tbody tr th {\n",
       "        vertical-align: top;\n",
       "    }\n",
       "\n",
       "    .dataframe thead th {\n",
       "        text-align: right;\n",
       "    }\n",
       "</style>\n",
       "<table border=\"1\" class=\"dataframe\">\n",
       "  <thead>\n",
       "    <tr style=\"text-align: right;\">\n",
       "      <th></th>\n",
       "      <th>_protected_entity_id_</th>\n",
       "      <th>_protected_entity_weight_</th>\n",
       "      <th>sum_fuel_price</th>\n",
       "    </tr>\n",
       "  </thead>\n",
       "  <tbody>\n",
       "    <tr>\n",
       "      <th>0</th>\n",
       "      <td>d58072be2820e8682c0a27c0518e805e</td>\n",
       "      <td>1</td>\n",
       "      <td>3.682</td>\n",
       "    </tr>\n",
       "    <tr>\n",
       "      <th>1</th>\n",
       "      <td>5f93f983524def3dca464469d2cf9f3e</td>\n",
       "      <td>1</td>\n",
       "      <td>3.669</td>\n",
       "    </tr>\n",
       "    <tr>\n",
       "      <th>2</th>\n",
       "      <td>52720e003547c70561bf5e03b95aa99f</td>\n",
       "      <td>1</td>\n",
       "      <td>3.422</td>\n",
       "    </tr>\n",
       "    <tr>\n",
       "      <th>3</th>\n",
       "      <td>fccb3cdc9acc14a6e70a12f74560c026</td>\n",
       "      <td>1</td>\n",
       "      <td>3.610</td>\n",
       "    </tr>\n",
       "    <tr>\n",
       "      <th>4</th>\n",
       "      <td>9bf31c7ff062936a96d3c8bd1f8f2ff3</td>\n",
       "      <td>1</td>\n",
       "      <td>2.854</td>\n",
       "    </tr>\n",
       "    <tr>\n",
       "      <th>...</th>\n",
       "      <td>...</td>\n",
       "      <td>...</td>\n",
       "      <td>...</td>\n",
       "    </tr>\n",
       "    <tr>\n",
       "      <th>905</th>\n",
       "      <td>e555ebe0ce426f7f9b2bef0706315e0c</td>\n",
       "      <td>1</td>\n",
       "      <td>3.271</td>\n",
       "    </tr>\n",
       "    <tr>\n",
       "      <th>906</th>\n",
       "      <td>f340f1b1f65b6df5b5e3f94d95b11daf</td>\n",
       "      <td>1</td>\n",
       "      <td>3.488</td>\n",
       "    </tr>\n",
       "    <tr>\n",
       "      <th>907</th>\n",
       "      <td>a97da629b098b75c294dffdc3e463904</td>\n",
       "      <td>1</td>\n",
       "      <td>3.510</td>\n",
       "    </tr>\n",
       "    <tr>\n",
       "      <th>908</th>\n",
       "      <td>eed5af6add95a9a6f1252739b1ad8c24</td>\n",
       "      <td>1</td>\n",
       "      <td>3.480</td>\n",
       "    </tr>\n",
       "    <tr>\n",
       "      <th>909</th>\n",
       "      <td>bf8229696f7a3bb4700cfddef19fa23f</td>\n",
       "      <td>1</td>\n",
       "      <td>3.466</td>\n",
       "    </tr>\n",
       "  </tbody>\n",
       "</table>\n",
       "<p>910 rows × 3 columns</p>\n",
       "</div>"
      ],
      "text/plain": [
       "                _protected_entity_id_  _protected_entity_weight_   \n",
       "0    d58072be2820e8682c0a27c0518e805e                          1  \\\n",
       "1    5f93f983524def3dca464469d2cf9f3e                          1   \n",
       "2    52720e003547c70561bf5e03b95aa99f                          1   \n",
       "3    fccb3cdc9acc14a6e70a12f74560c026                          1   \n",
       "4    9bf31c7ff062936a96d3c8bd1f8f2ff3                          1   \n",
       "..                                ...                        ...   \n",
       "905  e555ebe0ce426f7f9b2bef0706315e0c                          1   \n",
       "906  f340f1b1f65b6df5b5e3f94d95b11daf                          1   \n",
       "907  a97da629b098b75c294dffdc3e463904                          1   \n",
       "908  eed5af6add95a9a6f1252739b1ad8c24                          1   \n",
       "909  bf8229696f7a3bb4700cfddef19fa23f                          1   \n",
       "\n",
       "     sum_fuel_price  \n",
       "0             3.682  \n",
       "1             3.669  \n",
       "2             3.422  \n",
       "3             3.610  \n",
       "4             2.854  \n",
       "..              ...  \n",
       "905           3.271  \n",
       "906           3.488  \n",
       "907           3.510  \n",
       "908           3.480  \n",
       "909           3.466  \n",
       "\n",
       "[910 rows x 3 columns]"
      ]
     },
     "execution_count": 30,
     "metadata": {},
     "output_type": "execute_result"
    }
   ],
   "source": [
    "pd.DataFrame(db.eval(protected_relation))"
   ]
  },
  {
   "cell_type": "code",
   "execution_count": 31,
   "id": "2405254f",
   "metadata": {},
   "outputs": [
    {
     "data": {
      "text/html": [
       "<div>\n",
       "<style scoped>\n",
       "    .dataframe tbody tr th:only-of-type {\n",
       "        vertical-align: middle;\n",
       "    }\n",
       "\n",
       "    .dataframe tbody tr th {\n",
       "        vertical-align: top;\n",
       "    }\n",
       "\n",
       "    .dataframe thead th {\n",
       "        text-align: right;\n",
       "    }\n",
       "</style>\n",
       "<table border=\"1\" class=\"dataframe\">\n",
       "  <thead>\n",
       "    <tr style=\"text-align: right;\">\n",
       "      <th></th>\n",
       "      <th>_protected_entity_id_</th>\n",
       "      <th>_protected_entity_weight_</th>\n",
       "      <th>sum_fuel_price</th>\n",
       "    </tr>\n",
       "  </thead>\n",
       "  <tbody>\n",
       "    <tr>\n",
       "      <th>0</th>\n",
       "      <td>d58072be2820e8682c0a27c0518e805e</td>\n",
       "      <td>1</td>\n",
       "      <td>3.682</td>\n",
       "    </tr>\n",
       "    <tr>\n",
       "      <th>1</th>\n",
       "      <td>5f93f983524def3dca464469d2cf9f3e</td>\n",
       "      <td>1</td>\n",
       "      <td>3.669</td>\n",
       "    </tr>\n",
       "    <tr>\n",
       "      <th>2</th>\n",
       "      <td>52720e003547c70561bf5e03b95aa99f</td>\n",
       "      <td>1</td>\n",
       "      <td>3.422</td>\n",
       "    </tr>\n",
       "    <tr>\n",
       "      <th>3</th>\n",
       "      <td>fccb3cdc9acc14a6e70a12f74560c026</td>\n",
       "      <td>1</td>\n",
       "      <td>3.610</td>\n",
       "    </tr>\n",
       "    <tr>\n",
       "      <th>4</th>\n",
       "      <td>9bf31c7ff062936a96d3c8bd1f8f2ff3</td>\n",
       "      <td>1</td>\n",
       "      <td>2.854</td>\n",
       "    </tr>\n",
       "    <tr>\n",
       "      <th>...</th>\n",
       "      <td>...</td>\n",
       "      <td>...</td>\n",
       "      <td>...</td>\n",
       "    </tr>\n",
       "    <tr>\n",
       "      <th>905</th>\n",
       "      <td>e555ebe0ce426f7f9b2bef0706315e0c</td>\n",
       "      <td>1</td>\n",
       "      <td>3.271</td>\n",
       "    </tr>\n",
       "    <tr>\n",
       "      <th>906</th>\n",
       "      <td>f340f1b1f65b6df5b5e3f94d95b11daf</td>\n",
       "      <td>1</td>\n",
       "      <td>3.488</td>\n",
       "    </tr>\n",
       "    <tr>\n",
       "      <th>907</th>\n",
       "      <td>a97da629b098b75c294dffdc3e463904</td>\n",
       "      <td>1</td>\n",
       "      <td>3.510</td>\n",
       "    </tr>\n",
       "    <tr>\n",
       "      <th>908</th>\n",
       "      <td>eed5af6add95a9a6f1252739b1ad8c24</td>\n",
       "      <td>1</td>\n",
       "      <td>3.480</td>\n",
       "    </tr>\n",
       "    <tr>\n",
       "      <th>909</th>\n",
       "      <td>bf8229696f7a3bb4700cfddef19fa23f</td>\n",
       "      <td>1</td>\n",
       "      <td>3.466</td>\n",
       "    </tr>\n",
       "  </tbody>\n",
       "</table>\n",
       "<p>910 rows × 3 columns</p>\n",
       "</div>"
      ],
      "text/plain": [
       "                _protected_entity_id_  _protected_entity_weight_   \n",
       "0    d58072be2820e8682c0a27c0518e805e                          1  \\\n",
       "1    5f93f983524def3dca464469d2cf9f3e                          1   \n",
       "2    52720e003547c70561bf5e03b95aa99f                          1   \n",
       "3    fccb3cdc9acc14a6e70a12f74560c026                          1   \n",
       "4    9bf31c7ff062936a96d3c8bd1f8f2ff3                          1   \n",
       "..                                ...                        ...   \n",
       "905  e555ebe0ce426f7f9b2bef0706315e0c                          1   \n",
       "906  f340f1b1f65b6df5b5e3f94d95b11daf                          1   \n",
       "907  a97da629b098b75c294dffdc3e463904                          1   \n",
       "908  eed5af6add95a9a6f1252739b1ad8c24                          1   \n",
       "909  bf8229696f7a3bb4700cfddef19fa23f                          1   \n",
       "\n",
       "     sum_fuel_price  \n",
       "0             3.682  \n",
       "1             3.669  \n",
       "2             3.422  \n",
       "3             3.610  \n",
       "4             2.854  \n",
       "..              ...  \n",
       "905           3.271  \n",
       "906           3.488  \n",
       "907           3.510  \n",
       "908           3.480  \n",
       "909           3.466  \n",
       "\n",
       "[910 rows x 3 columns]"
      ]
     },
     "execution_count": 31,
     "metadata": {},
     "output_type": "execute_result"
    }
   ],
   "source": [
    "pd.DataFrame(db.eval(protected_relation))"
   ]
  },
  {
   "attachments": {},
   "cell_type": "markdown",
   "id": "df3210f6",
   "metadata": {},
   "source": [
    "We have one sum per protected entity. If we sum all the rows, we find the same results than with the initial query: "
   ]
  },
  {
   "cell_type": "code",
   "execution_count": 34,
   "id": "714c97a5",
   "metadata": {},
   "outputs": [
    {
     "name": "stdout",
     "output_type": "stream",
     "text": [
      "Initial query:                       sum_fuel_price: 2965.1169999999997\n",
      "Sum over the all protected entities: sum_fuel_price: 2965.1169999999997\n"
     ]
    }
   ],
   "source": [
    "#SELECT SUM(fuel_price) As sum_fuel_price FROM features\n",
    "true_res = pd.DataFrame(db.execute(query))\n",
    "summed_res = pd.DataFrame(db.eval(relation)).sum()\n",
    "\n",
    "print(f\"Initial query:                       sum_fuel_price: {true_res.iloc[0][0]}\")\n",
    "print(f\"Sum over the all protected entities: sum_fuel_price: {summed_res[0]}\")"
   ]
  },
  {
   "attachments": {},
   "cell_type": "markdown",
   "id": "ffd448af",
   "metadata": {},
   "source": [
    "# Dp compilation"
   ]
  },
  {
   "attachments": {},
   "cell_type": "markdown",
   "id": "fac10e08",
   "metadata": {},
   "source": [
    "With the `dp_compilation` method, we transform a query into its differentially private equivalent. \n",
    "\n",
    "It inputs: \n",
    "- the privacy parameters `epsilon` and `delta`\n",
    "- a json string containing the protected entities of each table\n",
    "- a `Dataset`\n",
    "- an SQL query"
   ]
  },
  {
   "cell_type": "code",
   "execution_count": 49,
   "id": "9b989849",
   "metadata": {},
   "outputs": [
    {
     "name": "stderr",
     "output_type": "stream",
     "text": [
      "thread '<unnamed>' panicked at 'attempt to divide by zero', /rustc/9eb3afe9ebe9c7d2b84b71002d44f4a0edac95e0/library/core/src/num/mod.rs:257:5\n"
     ]
    },
    {
     "ename": "PanicException",
     "evalue": "attempt to divide by zero",
     "output_type": "error",
     "traceback": [
      "\u001b[0;31m---------------------------------------------------------------------------\u001b[0m",
      "\u001b[0;31mPanicException\u001b[0m                            Traceback (most recent call last)",
      "Cell \u001b[0;32mIn[49], line 13\u001b[0m\n\u001b[1;32m     11\u001b[0m delta  \u001b[39m=\u001b[39m \u001b[39m1e-3\u001b[39m\n\u001b[1;32m     12\u001b[0m relation \u001b[39m=\u001b[39m dataset\u001b[39m.\u001b[39msql(\u001b[39m\"\u001b[39m\u001b[39mSELECT SUM(fuel_price) AS my_sum FROM retail.features\u001b[39m\u001b[39m\"\u001b[39m) \n\u001b[0;32m---> 13\u001b[0m dp_relation \u001b[39m=\u001b[39m relation\u001b[39m.\u001b[39;49mdp_compilation(\n\u001b[1;32m     14\u001b[0m     dataset,\n\u001b[1;32m     15\u001b[0m     str_pe,\n\u001b[1;32m     16\u001b[0m     epsilon, \n\u001b[1;32m     17\u001b[0m     delta\n\u001b[1;32m     18\u001b[0m )\n",
      "\u001b[0;31mPanicException\u001b[0m: attempt to divide by zero"
     ]
    }
   ],
   "source": [
    "str_pe = \"\"\"\n",
    "{\n",
    "  \"protected_entity\": [\n",
    "    [\"retail_stores\", [[\"store\", \"features\", \"store\"]], \"id\"], \n",
    "    [\"retail_features\", [], \"id\"],\n",
    "    [\"retail_sales\", [], \"id\"]\n",
    "  ]\n",
    "}\n",
    "\"\"\"\n",
    "epsilon = 1. \n",
    "delta  = 1e-3\n",
    "relation = dataset.sql(\"SELECT SUM(fuel_price) AS my_sum FROM retail.features\") \n",
    "dp_relation = relation.dp_compilation(\n",
    "    dataset,\n",
    "    str_pe,\n",
    "    epsilon, \n",
    "    delta\n",
    ")"
   ]
  },
  {
   "cell_type": "code",
   "execution_count": 40,
   "id": "fd1670d3",
   "metadata": {},
   "outputs": [
    {
     "data": {
      "image/svg+xml": [
       "<?xml version=\"1.0\" encoding=\"UTF-8\" standalone=\"no\"?>\n",
       "<!DOCTYPE svg PUBLIC \"-//W3C//DTD SVG 1.1//EN\"\n",
       " \"http://www.w3.org/Graphics/SVG/1.1/DTD/svg11.dtd\">\n",
       "<!-- Generated by graphviz version 8.1.0 (20230707.0739)\n",
       " -->\n",
       "<!-- Title: graph_v3_c Pages: 1 -->\n",
       "<svg width=\"769pt\" height=\"1335pt\"\n",
       " viewBox=\"0.00 0.00 768.80 1335.40\" xmlns=\"http://www.w3.org/2000/svg\" xmlns:xlink=\"http://www.w3.org/1999/xlink\">\n",
       "<g id=\"graph0\" class=\"graph\" transform=\"scale(1 1) rotate(0) translate(4 1331.4)\">\n",
       "<title>graph_v3_c</title>\n",
       "<polygon fill=\"none\" stroke=\"none\" points=\"-4,4 -4,-1331.4 764.8,-1331.4 764.8,4 -4,4\"/>\n",
       "<!-- graph_d38l -->\n",
       "<g id=\"node1\" class=\"node\">\n",
       "<title>graph_d38l</title>\n",
       "<path fill=\"#ff1744\" stroke=\"#000000\" stroke-opacity=\"0.333333\" d=\"M541.8,-127.8C541.8,-127.8 219,-127.8 219,-127.8 213,-127.8 207,-121.8 207,-115.8 207,-115.8 207,-12 207,-12 207,-6 213,0 219,0 219,0 541.8,0 541.8,0 547.8,0 553.8,-6 553.8,-12 553.8,-12 553.8,-115.8 553.8,-115.8 553.8,-121.8 547.8,-127.8 541.8,-127.8\"/>\n",
       "<text text-anchor=\"start\" x=\"296.4\" y=\"-103.95\" font-family=\"Red Hat Display,sans-serif\" font-weight=\"bold\" font-size=\"11.00\" fill=\"#ffffff\" fill-opacity=\"0.733333\">RETAIL_FEATURES size ∈ int{0}</text>\n",
       "<text text-anchor=\"start\" x=\"353.77\" y=\"-92.95\" font-family=\"Red Hat Display,sans-serif\" font-size=\"11.00\" fill=\"#ffffff\" fill-opacity=\"0.733333\">id = id ∈ str</text>\n",
       "<text text-anchor=\"start\" x=\"338.02\" y=\"-81.95\" font-family=\"Red Hat Display,sans-serif\" font-size=\"11.00\" fill=\"#ffffff\" fill-opacity=\"0.733333\">store = store ∈ str</text>\n",
       "<text text-anchor=\"start\" x=\"221.4\" y=\"-70.95\" font-family=\"Red Hat Display,sans-serif\" font-size=\"11.00\" fill=\"#ffffff\" fill-opacity=\"0.733333\">date = date ∈ datetime[0001&#45;01&#45;01 00:00:00 9999&#45;12&#45;31 00:00:00]</text>\n",
       "<text text-anchor=\"start\" x=\"299.4\" y=\"-59.95\" font-family=\"Red Hat Display,sans-serif\" font-size=\"11.00\" fill=\"#ffffff\" fill-opacity=\"0.733333\">temperature = temperature ∈ float</text>\n",
       "<text text-anchor=\"start\" x=\"311.4\" y=\"-48.95\" font-family=\"Red Hat Display,sans-serif\" font-size=\"11.00\" fill=\"#ffffff\" fill-opacity=\"0.733333\">fuel_price = fuel_price ∈ float</text>\n",
       "<text text-anchor=\"start\" x=\"344.4\" y=\"-37.95\" font-family=\"Red Hat Display,sans-serif\" font-size=\"11.00\" fill=\"#ffffff\" fill-opacity=\"0.733333\">cpi = cpi ∈ float</text>\n",
       "<text text-anchor=\"start\" x=\"287.4\" y=\"-26.95\" font-family=\"Red Hat Display,sans-serif\" font-size=\"11.00\" fill=\"#ffffff\" fill-opacity=\"0.733333\">unemployment = unemployment ∈ float</text>\n",
       "<text text-anchor=\"start\" x=\"316.65\" y=\"-15.95\" font-family=\"Red Hat Display,sans-serif\" font-size=\"11.00\" fill=\"#ffffff\" fill-opacity=\"0.733333\">isholiday = isholiday ∈ bool</text>\n",
       "</g>\n",
       "<!-- graph_ke2k -->\n",
       "<g id=\"node2\" class=\"node\">\n",
       "<title>graph_ke2k</title>\n",
       "<path fill=\"#428e92\" stroke=\"#000000\" stroke-opacity=\"0.333333\" d=\"M541.8,-306.6C541.8,-306.6 219,-306.6 219,-306.6 213,-306.6 207,-300.6 207,-294.6 207,-294.6 207,-168.8 207,-168.8 207,-162.8 213,-156.8 219,-156.8 219,-156.8 541.8,-156.8 541.8,-156.8 547.8,-156.8 553.8,-162.8 553.8,-168.8 553.8,-168.8 553.8,-294.6 553.8,-294.6 553.8,-300.6 547.8,-306.6 541.8,-306.6\"/>\n",
       "<text text-anchor=\"start\" x=\"255.9\" y=\"-282.75\" font-family=\"Red Hat Display,sans-serif\" font-weight=\"bold\" font-size=\"11.00\" fill=\"#000000\" fill-opacity=\"0.733333\">_PROTECTED_RETAIL_FEATURES size ∈ int{0}</text>\n",
       "<text text-anchor=\"start\" x=\"271.65\" y=\"-271.75\" font-family=\"Red Hat Display,sans-serif\" font-size=\"11.00\" fill=\"#000000\" fill-opacity=\"0.733333\">_PROTECTED_ENTITY_ID_ = md5(id) ∈ str</text>\n",
       "<text text-anchor=\"start\" x=\"264.15\" y=\"-260.75\" font-family=\"Red Hat Display,sans-serif\" font-size=\"11.00\" fill=\"#000000\" fill-opacity=\"0.733333\">_PROTECTED_ENTITY_WEIGHT_ = 1 ∈ int{1}</text>\n",
       "<text text-anchor=\"start\" x=\"353.77\" y=\"-249.75\" font-family=\"Red Hat Display,sans-serif\" font-size=\"11.00\" fill=\"#000000\" fill-opacity=\"0.733333\">id = id ∈ str</text>\n",
       "<text text-anchor=\"start\" x=\"338.02\" y=\"-238.75\" font-family=\"Red Hat Display,sans-serif\" font-size=\"11.00\" fill=\"#000000\" fill-opacity=\"0.733333\">store = store ∈ str</text>\n",
       "<text text-anchor=\"start\" x=\"221.4\" y=\"-227.75\" font-family=\"Red Hat Display,sans-serif\" font-size=\"11.00\" fill=\"#000000\" fill-opacity=\"0.733333\">date = date ∈ datetime[0001&#45;01&#45;01 00:00:00 9999&#45;12&#45;31 00:00:00]</text>\n",
       "<text text-anchor=\"start\" x=\"299.4\" y=\"-216.75\" font-family=\"Red Hat Display,sans-serif\" font-size=\"11.00\" fill=\"#000000\" fill-opacity=\"0.733333\">temperature = temperature ∈ float</text>\n",
       "<text text-anchor=\"start\" x=\"311.4\" y=\"-205.75\" font-family=\"Red Hat Display,sans-serif\" font-size=\"11.00\" fill=\"#000000\" fill-opacity=\"0.733333\">fuel_price = fuel_price ∈ float</text>\n",
       "<text text-anchor=\"start\" x=\"344.4\" y=\"-194.75\" font-family=\"Red Hat Display,sans-serif\" font-size=\"11.00\" fill=\"#000000\" fill-opacity=\"0.733333\">cpi = cpi ∈ float</text>\n",
       "<text text-anchor=\"start\" x=\"287.4\" y=\"-183.75\" font-family=\"Red Hat Display,sans-serif\" font-size=\"11.00\" fill=\"#000000\" fill-opacity=\"0.733333\">unemployment = unemployment ∈ float</text>\n",
       "<text text-anchor=\"start\" x=\"316.65\" y=\"-172.75\" font-family=\"Red Hat Display,sans-serif\" font-size=\"11.00\" fill=\"#000000\" fill-opacity=\"0.733333\">isholiday = isholiday ∈ bool</text>\n",
       "</g>\n",
       "<!-- graph_ke2k&#45;&gt;graph_d38l -->\n",
       "<g id=\"edge1\" class=\"edge\">\n",
       "<title>graph_ke2k&#45;&gt;graph_d38l</title>\n",
       "<path fill=\"none\" stroke=\"#2b303a\" d=\"M380.4,-156.53C380.4,-150.6 380.4,-144.61 380.4,-138.69\"/>\n",
       "<polygon fill=\"#2b303a\" stroke=\"#2b303a\" points=\"383.9,-139.12 380.4,-129.12 376.9,-139.12 383.9,-139.12\"/>\n",
       "</g>\n",
       "<!-- graph_ikw6 -->\n",
       "<g id=\"node3\" class=\"node\">\n",
       "<title>graph_ikw6</title>\n",
       "<path fill=\"#428e92\" stroke=\"#000000\" stroke-opacity=\"0.333333\" d=\"M584.55,-408.4C584.55,-408.4 176.25,-408.4 176.25,-408.4 170.25,-408.4 164.25,-402.4 164.25,-396.4 164.25,-396.4 164.25,-347.6 164.25,-347.6 164.25,-341.6 170.25,-335.6 176.25,-335.6 176.25,-335.6 584.55,-335.6 584.55,-335.6 590.55,-335.6 596.55,-341.6 596.55,-347.6 596.55,-347.6 596.55,-396.4 596.55,-396.4 596.55,-402.4 590.55,-408.4 584.55,-408.4\"/>\n",
       "<text text-anchor=\"start\" x=\"320.02\" y=\"-384.55\" font-family=\"Red Hat Display,sans-serif\" font-weight=\"bold\" font-size=\"11.00\" fill=\"#000000\" fill-opacity=\"0.733333\">MAP_0OLT size ∈ int{0}</text>\n",
       "<text text-anchor=\"start\" x=\"218.02\" y=\"-373.55\" font-family=\"Red Hat Display,sans-serif\" font-size=\"11.00\" fill=\"#000000\" fill-opacity=\"0.733333\">_PROTECTED_ENTITY_ID_ = _PROTECTED_ENTITY_ID_ ∈ str</text>\n",
       "<text text-anchor=\"start\" x=\"178.65\" y=\"-362.55\" font-family=\"Red Hat Display,sans-serif\" font-size=\"11.00\" fill=\"#000000\" fill-opacity=\"0.733333\">_PROTECTED_ENTITY_WEIGHT_ = _PROTECTED_ENTITY_WEIGHT_ ∈ int{1}</text>\n",
       "<text text-anchor=\"start\" x=\"312.15\" y=\"-351.55\" font-family=\"Red Hat Display,sans-serif\" font-size=\"11.00\" fill=\"#000000\" fill-opacity=\"0.733333\">field__6vl = fuel_price ∈ float</text>\n",
       "</g>\n",
       "<!-- graph_ikw6&#45;&gt;graph_ke2k -->\n",
       "<g id=\"edge2\" class=\"edge\">\n",
       "<title>graph_ikw6&#45;&gt;graph_ke2k</title>\n",
       "<path fill=\"none\" stroke=\"#2b303a\" d=\"M380.4,-335.38C380.4,-329.74 380.4,-323.71 380.4,-317.5\"/>\n",
       "<polygon fill=\"#2b303a\" stroke=\"#2b303a\" points=\"383.9,-317.92 380.4,-307.92 376.9,-317.92 383.9,-317.92\"/>\n",
       "</g>\n",
       "<!-- graph_8l3e -->\n",
       "<g id=\"node4\" class=\"node\">\n",
       "<title>graph_8l3e</title>\n",
       "<path fill=\"#428e92\" stroke=\"#000000\" stroke-opacity=\"0.333333\" d=\"M519.67,-510.2C519.67,-510.2 241.12,-510.2 241.12,-510.2 235.12,-510.2 229.12,-504.2 229.12,-498.2 229.12,-498.2 229.12,-449.4 229.12,-449.4 229.12,-443.4 235.12,-437.4 241.12,-437.4 241.12,-437.4 519.67,-437.4 519.67,-437.4 525.67,-437.4 531.67,-443.4 531.67,-449.4 531.67,-449.4 531.67,-498.2 531.67,-498.2 531.67,-504.2 525.67,-510.2 519.67,-510.2\"/>\n",
       "<text text-anchor=\"start\" x=\"322.27\" y=\"-486.35\" font-family=\"Red Hat Display,sans-serif\" font-weight=\"bold\" font-size=\"11.00\" fill=\"#000000\" fill-opacity=\"0.733333\">MAP_5I_Z size ∈ int{0}</text>\n",
       "<text text-anchor=\"start\" x=\"266.77\" y=\"-475.35\" font-family=\"Red Hat Display,sans-serif\" font-size=\"11.00\" fill=\"#000000\" fill-opacity=\"0.733333\">field_6zur = _PROTECTED_ENTITY_ID_ ∈ str</text>\n",
       "<text text-anchor=\"start\" x=\"243.52\" y=\"-464.35\" font-family=\"Red Hat Display,sans-serif\" font-size=\"11.00\" fill=\"#000000\" fill-opacity=\"0.733333\">field_yx2x = _PROTECTED_ENTITY_WEIGHT_ ∈ int{1}</text>\n",
       "<text text-anchor=\"start\" x=\"310.65\" y=\"-453.35\" font-family=\"Red Hat Display,sans-serif\" font-size=\"11.00\" fill=\"#000000\" fill-opacity=\"0.733333\">field_3d25 = field__6vl ∈ float</text>\n",
       "</g>\n",
       "<!-- graph_8l3e&#45;&gt;graph_ikw6 -->\n",
       "<g id=\"edge3\" class=\"edge\">\n",
       "<title>graph_8l3e&#45;&gt;graph_ikw6</title>\n",
       "<path fill=\"none\" stroke=\"#2b303a\" d=\"M380.4,-437.05C380.4,-431.46 380.4,-425.61 380.4,-419.82\"/>\n",
       "<polygon fill=\"#2b303a\" stroke=\"#2b303a\" points=\"383.9,-419.83 380.4,-409.83 376.9,-419.83 383.9,-419.83\"/>\n",
       "</g>\n",
       "<!-- graph_rpo5 -->\n",
       "<g id=\"node5\" class=\"node\">\n",
       "<title>graph_rpo5</title>\n",
       "<path fill=\"#428e92\" stroke=\"#000000\" stroke-opacity=\"0.333333\" d=\"M400.42,-601C400.42,-601 252.37,-601 252.37,-601 246.37,-601 240.37,-595 240.37,-589 240.37,-589 240.37,-551.2 240.37,-551.2 240.37,-545.2 246.37,-539.2 252.37,-539.2 252.37,-539.2 400.42,-539.2 400.42,-539.2 406.42,-539.2 412.42,-545.2 412.42,-551.2 412.42,-551.2 412.42,-589 412.42,-589 412.42,-595 406.42,-601 400.42,-601\"/>\n",
       "<text text-anchor=\"start\" x=\"264.9\" y=\"-577.15\" font-family=\"Red Hat Display,sans-serif\" font-weight=\"bold\" font-size=\"11.00\" fill=\"#000000\" fill-opacity=\"0.733333\">MAP_D2O3 size ∈ int{0}</text>\n",
       "<text text-anchor=\"start\" x=\"263.77\" y=\"-566.15\" font-family=\"Red Hat Display,sans-serif\" font-size=\"11.00\" fill=\"#000000\" fill-opacity=\"0.733333\">field_ifx6 = field_6zur ∈ str</text>\n",
       "<text text-anchor=\"start\" x=\"254.77\" y=\"-555.15\" font-family=\"Red Hat Display,sans-serif\" font-size=\"11.00\" fill=\"#000000\" fill-opacity=\"0.733333\">field_vwlx = field_yx2x ∈ int{1}</text>\n",
       "</g>\n",
       "<!-- graph_rpo5&#45;&gt;graph_8l3e -->\n",
       "<g id=\"edge4\" class=\"edge\">\n",
       "<title>graph_rpo5&#45;&gt;graph_8l3e</title>\n",
       "<path fill=\"none\" stroke=\"#2b303a\" d=\"M343.78,-538.74C347.22,-532.74 350.9,-526.32 354.55,-519.94\"/>\n",
       "<polygon fill=\"#2b303a\" stroke=\"#2b303a\" points=\"357.91,-522.11 359.85,-511.69 351.84,-518.63 357.91,-522.11\"/>\n",
       "</g>\n",
       "<!-- graph_pfzp -->\n",
       "<g id=\"node6\" class=\"node\">\n",
       "<title>graph_pfzp</title>\n",
       "<path fill=\"#00363a\" stroke=\"#000000\" stroke-opacity=\"0.333333\" d=\"M368.3,-702.8C368.3,-702.8 192.5,-702.8 192.5,-702.8 186.5,-702.8 180.5,-696.8 180.5,-690.8 180.5,-690.8 180.5,-642 180.5,-642 180.5,-636 186.5,-630 192.5,-630 192.5,-630 368.3,-630 368.3,-630 374.3,-630 380.3,-636 380.3,-642 380.3,-642 380.3,-690.8 380.3,-690.8 380.3,-696.8 374.3,-702.8 368.3,-702.8\"/>\n",
       "<text text-anchor=\"start\" x=\"206.52\" y=\"-678.95\" font-family=\"Red Hat Display,sans-serif\" font-weight=\"bold\" font-size=\"11.00\" fill=\"#ffffff\" fill-opacity=\"0.733333\">REDUCE_WIDQ size ∈ int{0}</text>\n",
       "<text text-anchor=\"start\" x=\"205.4\" y=\"-667.95\" font-family=\"Red Hat Display,sans-serif\" font-size=\"11.00\" fill=\"#ffffff\" fill-opacity=\"0.733333\">field_6zur = first(field_ifx6) ∈ str</text>\n",
       "<text text-anchor=\"start\" x=\"194.9\" y=\"-656.95\" font-family=\"Red Hat Display,sans-serif\" font-size=\"11.00\" fill=\"#ffffff\" fill-opacity=\"0.733333\">field_yx2x = sum(field_vwlx) ∈ int{0}</text>\n",
       "<text text-anchor=\"start\" x=\"224.9\" y=\"-645.95\" font-family=\"Red Hat Display,sans-serif\" font-size=\"11.00\" fill=\"#ffffff\" fill-opacity=\"0.733333\">GROUP BY (field_ifx6)</text>\n",
       "</g>\n",
       "<!-- graph_pfzp&#45;&gt;graph_rpo5 -->\n",
       "<g id=\"edge5\" class=\"edge\">\n",
       "<title>graph_pfzp&#45;&gt;graph_rpo5</title>\n",
       "<path fill=\"none\" stroke=\"#2b303a\" d=\"M297.79,-629.75C300.8,-623.59 303.94,-617.15 306.99,-610.89\"/>\n",
       "<polygon fill=\"#2b303a\" stroke=\"#2b303a\" points=\"310.45,-612.78 311.69,-602.26 304.16,-609.71 310.45,-612.78\"/>\n",
       "</g>\n",
       "<!-- graph_oq5v -->\n",
       "<g id=\"node7\" class=\"node\">\n",
       "<title>graph_oq5v</title>\n",
       "<path fill=\"#428e92\" stroke=\"#000000\" stroke-opacity=\"0.333333\" d=\"M467.67,-793.6C467.67,-793.6 51.12,-793.6 51.12,-793.6 45.12,-793.6 39.12,-787.6 39.12,-781.6 39.12,-781.6 39.12,-743.8 39.12,-743.8 39.12,-737.8 45.12,-731.8 51.12,-731.8 51.12,-731.8 467.67,-731.8 467.67,-731.8 473.67,-731.8 479.67,-737.8 479.67,-743.8 479.67,-743.8 479.67,-781.6 479.67,-781.6 479.67,-787.6 473.67,-793.6 467.67,-793.6\"/>\n",
       "<text text-anchor=\"start\" x=\"199.4\" y=\"-769.75\" font-family=\"Red Hat Display,sans-serif\" font-weight=\"bold\" font-size=\"11.00\" fill=\"#000000\" fill-opacity=\"0.733333\">MAP_0OQI size ∈ int{0}</text>\n",
       "<text text-anchor=\"start\" x=\"194.52\" y=\"-758.75\" font-family=\"Red Hat Display,sans-serif\" font-size=\"11.00\" fill=\"#000000\" fill-opacity=\"0.733333\">field_6zur = field_6zur ∈ str</text>\n",
       "<text text-anchor=\"start\" x=\"53.52\" y=\"-747.75\" font-family=\"Red Hat Display,sans-serif\" font-size=\"11.00\" fill=\"#000000\" fill-opacity=\"0.733333\">field_yx2x = (2 / (abs(((abs(field_yx2x) / 1) &#45; 1)) + ((abs(field_yx2x) / 1) + 1))) ∈ float{1}</text>\n",
       "</g>\n",
       "<!-- graph_oq5v&#45;&gt;graph_pfzp -->\n",
       "<g id=\"edge6\" class=\"edge\">\n",
       "<title>graph_oq5v&#45;&gt;graph_pfzp</title>\n",
       "<path fill=\"none\" stroke=\"#2b303a\" d=\"M266.16,-731.34C267.4,-725.76 268.73,-719.81 270.05,-713.88\"/>\n",
       "<polygon fill=\"#2b303a\" stroke=\"#2b303a\" points=\"273.65,-714.81 272.41,-704.29 266.82,-713.29 273.65,-714.81\"/>\n",
       "</g>\n",
       "<!-- graph_4now -->\n",
       "<g id=\"node8\" class=\"node\">\n",
       "<title>graph_4now</title>\n",
       "<path fill=\"#428e92\" stroke=\"#000000\" stroke-opacity=\"0.333333\" d=\"M564.8,-697.3C564.8,-697.3 416,-697.3 416,-697.3 410,-697.3 404,-691.3 404,-685.3 404,-685.3 404,-647.5 404,-647.5 404,-641.5 410,-635.5 416,-635.5 416,-635.5 564.8,-635.5 564.8,-635.5 570.8,-635.5 576.8,-641.5 576.8,-647.5 576.8,-647.5 576.8,-685.3 576.8,-685.3 576.8,-691.3 570.8,-697.3 564.8,-697.3\"/>\n",
       "<text text-anchor=\"start\" x=\"428.15\" y=\"-673.45\" font-family=\"Red Hat Display,sans-serif\" font-weight=\"bold\" font-size=\"11.00\" fill=\"#000000\" fill-opacity=\"0.733333\">MAP_SDB5 size ∈ int{0}</text>\n",
       "<text text-anchor=\"start\" x=\"425.52\" y=\"-662.45\" font-family=\"Red Hat Display,sans-serif\" font-size=\"11.00\" fill=\"#000000\" fill-opacity=\"0.733333\">field_6zur = field_6zur ∈ str</text>\n",
       "<text text-anchor=\"start\" x=\"418.4\" y=\"-651.45\" font-family=\"Red Hat Display,sans-serif\" font-size=\"11.00\" fill=\"#000000\" fill-opacity=\"0.733333\">field_yx2x = field_yx2x ∈ int{1}</text>\n",
       "</g>\n",
       "<!-- graph_4now&#45;&gt;graph_8l3e -->\n",
       "<g id=\"edge7\" class=\"edge\">\n",
       "<title>graph_4now&#45;&gt;graph_8l3e</title>\n",
       "<path fill=\"none\" stroke=\"#2b303a\" d=\"M473.74,-635.16C459.52,-609.49 438.41,-571.76 419.4,-539.2 415.72,-532.91 411.8,-526.3 407.91,-519.81\"/>\n",
       "<polygon fill=\"#2b303a\" stroke=\"#2b303a\" points=\"410.42,-518.2 402.26,-511.45 404.43,-521.82 410.42,-518.2\"/>\n",
       "</g>\n",
       "<!-- graph_2y5l -->\n",
       "<g id=\"node9\" class=\"node\">\n",
       "<title>graph_2y5l</title>\n",
       "<path fill=\"#ff616f\" stroke=\"#000000\" stroke-opacity=\"0.333333\" d=\"M520.05,-917.4C520.05,-917.4 240.75,-917.4 240.75,-917.4 234.75,-917.4 228.75,-911.4 228.75,-905.4 228.75,-905.4 228.75,-834.6 228.75,-834.6 228.75,-828.6 234.75,-822.6 240.75,-822.6 240.75,-822.6 520.05,-822.6 520.05,-822.6 526.05,-822.6 532.05,-828.6 532.05,-834.6 532.05,-834.6 532.05,-905.4 532.05,-905.4 532.05,-911.4 526.05,-917.4 520.05,-917.4\"/>\n",
       "<text text-anchor=\"start\" x=\"318.52\" y=\"-893.55\" font-family=\"Red Hat Display,sans-serif\" font-weight=\"bold\" font-size=\"11.00\" fill=\"#000000\" fill-opacity=\"0.733333\">JOIN_0HH3 size ∈ int{0}</text>\n",
       "<text text-anchor=\"start\" x=\"287.02\" y=\"-882.55\" font-family=\"Red Hat Display,sans-serif\" font-size=\"11.00\" fill=\"#000000\" fill-opacity=\"0.733333\">field_w0xz = map_sdb5.field_6zur ∈ str</text>\n",
       "<text text-anchor=\"start\" x=\"281.02\" y=\"-871.55\" font-family=\"Red Hat Display,sans-serif\" font-size=\"11.00\" fill=\"#000000\" fill-opacity=\"0.733333\">field_b_co = map_sdb5.field_yx2x ∈ int{1}</text>\n",
       "<text text-anchor=\"start\" x=\"289.65\" y=\"-860.55\" font-family=\"Red Hat Display,sans-serif\" font-size=\"11.00\" fill=\"#000000\" fill-opacity=\"0.733333\">field_mlxg = map_0oqi.field_6zur ∈ str</text>\n",
       "<text text-anchor=\"start\" x=\"279.52\" y=\"-849.55\" font-family=\"Red Hat Display,sans-serif\" font-size=\"11.00\" fill=\"#000000\" fill-opacity=\"0.733333\">field_snfe = map_0oqi.field_yx2x ∈ float{1}</text>\n",
       "<text text-anchor=\"start\" x=\"243.15\" y=\"-838.55\" font-family=\"Red Hat Display,sans-serif\" font-size=\"11.00\" fill=\"#000000\" fill-opacity=\"0.733333\">INNER ON (map_sdb5.field_6zur = map_0oqi.field_6zur)</text>\n",
       "</g>\n",
       "<!-- graph_2y5l&#45;&gt;graph_oq5v -->\n",
       "<g id=\"edge9\" class=\"edge\">\n",
       "<title>graph_2y5l&#45;&gt;graph_oq5v</title>\n",
       "<path fill=\"none\" stroke=\"#2b303a\" d=\"M326.62,-822.2C318.56,-815.18 310.33,-808.02 302.53,-801.23\"/>\n",
       "<polygon fill=\"#2b303a\" stroke=\"#2b303a\" points=\"305.09,-797.95 295.25,-794.03 300.5,-803.23 305.09,-797.95\"/>\n",
       "</g>\n",
       "<!-- graph_2y5l&#45;&gt;graph_4now -->\n",
       "<g id=\"edge8\" class=\"edge\">\n",
       "<title>graph_2y5l&#45;&gt;graph_4now</title>\n",
       "<path fill=\"none\" stroke=\"#2b303a\" d=\"M463.48,-822.33C472.59,-813.92 480.64,-804.35 486.4,-793.6 500.31,-767.65 500.73,-734.19 497.98,-708.25\"/>\n",
       "<polygon fill=\"#2b303a\" stroke=\"#2b303a\" points=\"501.36,-708.11 496.64,-698.63 494.42,-708.99 501.36,-708.11\"/>\n",
       "</g>\n",
       "<!-- graph_le90 -->\n",
       "<g id=\"node10\" class=\"node\">\n",
       "<title>graph_le90</title>\n",
       "<path fill=\"#428e92\" stroke=\"#000000\" stroke-opacity=\"0.333333\" d=\"M491.92,-1008.2C491.92,-1008.2 268.88,-1008.2 268.88,-1008.2 262.88,-1008.2 256.88,-1002.2 256.88,-996.2 256.88,-996.2 256.88,-958.4 256.88,-958.4 256.88,-952.4 262.88,-946.4 268.88,-946.4 268.88,-946.4 491.92,-946.4 491.92,-946.4 497.92,-946.4 503.92,-952.4 503.92,-958.4 503.92,-958.4 503.92,-996.2 503.92,-996.2 503.92,-1002.2 497.92,-1008.2 491.92,-1008.2\"/>\n",
       "<text text-anchor=\"start\" x=\"318.9\" y=\"-984.35\" font-family=\"Red Hat Display,sans-serif\" font-weight=\"bold\" font-size=\"11.00\" fill=\"#000000\" fill-opacity=\"0.733333\">MAP_JAJU size ∈ int{0}</text>\n",
       "<text text-anchor=\"start\" x=\"313.65\" y=\"-973.35\" font-family=\"Red Hat Display,sans-serif\" font-size=\"11.00\" fill=\"#000000\" fill-opacity=\"0.733333\">field_6zur = field_w0xz ∈ str</text>\n",
       "<text text-anchor=\"start\" x=\"271.27\" y=\"-962.35\" font-family=\"Red Hat Display,sans-serif\" font-size=\"11.00\" fill=\"#000000\" fill-opacity=\"0.733333\">field_yx2x = (field_b_co * field_snfe) ∈ float{1}</text>\n",
       "</g>\n",
       "<!-- graph_le90&#45;&gt;graph_2y5l -->\n",
       "<g id=\"edge10\" class=\"edge\">\n",
       "<title>graph_le90&#45;&gt;graph_2y5l</title>\n",
       "<path fill=\"none\" stroke=\"#2b303a\" d=\"M380.4,-946.13C380.4,-940.58 380.4,-934.62 380.4,-928.58\"/>\n",
       "<polygon fill=\"#2b303a\" stroke=\"#2b303a\" points=\"383.9,-928.68 380.4,-918.68 376.9,-928.68 383.9,-928.68\"/>\n",
       "</g>\n",
       "<!-- graph_wyfr -->\n",
       "<g id=\"node11\" class=\"node\">\n",
       "<title>graph_wyfr</title>\n",
       "<path fill=\"#428e92\" stroke=\"#000000\" stroke-opacity=\"0.333333\" d=\"M458.92,-1088C458.92,-1088 301.88,-1088 301.88,-1088 295.88,-1088 289.88,-1082 289.88,-1076 289.88,-1076 289.88,-1049.2 289.88,-1049.2 289.88,-1043.2 295.88,-1037.2 301.88,-1037.2 301.88,-1037.2 458.92,-1037.2 458.92,-1037.2 464.92,-1037.2 470.92,-1043.2 470.92,-1049.2 470.92,-1049.2 470.92,-1076 470.92,-1076 470.92,-1082 464.92,-1088 458.92,-1088\"/>\n",
       "<text text-anchor=\"start\" x=\"318.52\" y=\"-1064.15\" font-family=\"Red Hat Display,sans-serif\" font-weight=\"bold\" font-size=\"11.00\" fill=\"#000000\" fill-opacity=\"0.733333\">MAP_LYRU size ∈ int{0}</text>\n",
       "<text text-anchor=\"start\" x=\"304.27\" y=\"-1053.15\" font-family=\"Red Hat Display,sans-serif\" font-size=\"11.00\" fill=\"#000000\" fill-opacity=\"0.733333\">field_vwlx = field_yx2x ∈ float{1}</text>\n",
       "</g>\n",
       "<!-- graph_wyfr&#45;&gt;graph_le90 -->\n",
       "<g id=\"edge11\" class=\"edge\">\n",
       "<title>graph_wyfr&#45;&gt;graph_le90</title>\n",
       "<path fill=\"none\" stroke=\"#2b303a\" d=\"M380.4,-1037.06C380.4,-1031.48 380.4,-1025.4 380.4,-1019.35\"/>\n",
       "<polygon fill=\"#2b303a\" stroke=\"#2b303a\" points=\"383.9,-1019.57 380.4,-1009.57 376.9,-1019.57 383.9,-1019.57\"/>\n",
       "</g>\n",
       "<!-- graph_2o2h -->\n",
       "<g id=\"node12\" class=\"node\">\n",
       "<title>graph_2o2h</title>\n",
       "<path fill=\"#428e92\" stroke=\"#000000\" stroke-opacity=\"0.333333\" d=\"M456.3,-1167.8C456.3,-1167.8 304.5,-1167.8 304.5,-1167.8 298.5,-1167.8 292.5,-1161.8 292.5,-1155.8 292.5,-1155.8 292.5,-1129 292.5,-1129 292.5,-1123 298.5,-1117 304.5,-1117 304.5,-1117 456.3,-1117 456.3,-1117 462.3,-1117 468.3,-1123 468.3,-1129 468.3,-1129 468.3,-1155.8 468.3,-1155.8 468.3,-1161.8 462.3,-1167.8 456.3,-1167.8\"/>\n",
       "<text text-anchor=\"start\" x=\"321.15\" y=\"-1143.95\" font-family=\"Red Hat Display,sans-serif\" font-weight=\"bold\" font-size=\"11.00\" fill=\"#000000\" fill-opacity=\"0.733333\">MAP_IYZL size ∈ int{0}</text>\n",
       "<text text-anchor=\"start\" x=\"306.9\" y=\"-1132.95\" font-family=\"Red Hat Display,sans-serif\" font-size=\"11.00\" fill=\"#000000\" fill-opacity=\"0.733333\">field_jp5i = field_vwlx ∈ float{1}</text>\n",
       "</g>\n",
       "<!-- graph_2o2h&#45;&gt;graph_wyfr -->\n",
       "<g id=\"edge12\" class=\"edge\">\n",
       "<title>graph_2o2h&#45;&gt;graph_wyfr</title>\n",
       "<path fill=\"none\" stroke=\"#2b303a\" d=\"M380.4,-1116.78C380.4,-1111.11 380.4,-1104.96 380.4,-1098.93\"/>\n",
       "<polygon fill=\"#2b303a\" stroke=\"#2b303a\" points=\"383.9,-1099.32 380.4,-1089.32 376.9,-1099.32 383.9,-1099.32\"/>\n",
       "</g>\n",
       "<!-- graph_ey14 -->\n",
       "<g id=\"node13\" class=\"node\">\n",
       "<title>graph_ey14</title>\n",
       "<path fill=\"#00363a\" stroke=\"#000000\" stroke-opacity=\"0.333333\" d=\"M535.42,-1247.6C535.42,-1247.6 225.38,-1247.6 225.38,-1247.6 219.38,-1247.6 213.37,-1241.6 213.37,-1235.6 213.37,-1235.6 213.37,-1208.8 213.37,-1208.8 213.37,-1202.8 219.37,-1196.8 225.37,-1196.8 225.37,-1196.8 535.42,-1196.8 535.42,-1196.8 541.42,-1196.8 547.42,-1202.8 547.42,-1208.8 547.42,-1208.8 547.42,-1235.6 547.42,-1235.6 547.42,-1241.6 541.42,-1247.6 535.42,-1247.6\"/>\n",
       "<text text-anchor=\"start\" x=\"309.52\" y=\"-1223.75\" font-family=\"Red Hat Display,sans-serif\" font-weight=\"bold\" font-size=\"11.00\" fill=\"#ffffff\" fill-opacity=\"0.733333\">REDUCE_56J6 size ∈ int{0}</text>\n",
       "<text text-anchor=\"start\" x=\"227.77\" y=\"-1212.75\" font-family=\"Red Hat Display,sans-serif\" font-size=\"11.00\" fill=\"#ffffff\" fill-opacity=\"0.733333\">_PROTECTED_ENTITY_WEIGHT_ = sum(field_jp5i) ∈ float{0}</text>\n",
       "</g>\n",
       "<!-- graph_ey14&#45;&gt;graph_2o2h -->\n",
       "<g id=\"edge13\" class=\"edge\">\n",
       "<title>graph_ey14&#45;&gt;graph_2o2h</title>\n",
       "<path fill=\"none\" stroke=\"#2b303a\" d=\"M380.4,-1196.58C380.4,-1190.91 380.4,-1184.76 380.4,-1178.73\"/>\n",
       "<polygon fill=\"#2b303a\" stroke=\"#2b303a\" points=\"383.9,-1179.12 380.4,-1169.12 376.9,-1179.12 383.9,-1179.12\"/>\n",
       "</g>\n",
       "<!-- graph_v3_c -->\n",
       "<g id=\"node14\" class=\"node\">\n",
       "<title>graph_v3_c</title>\n",
       "<path fill=\"#428e92\" stroke=\"#000000\" stroke-opacity=\"0.333333\" d=\"M748.8,-1327.4C748.8,-1327.4 12,-1327.4 12,-1327.4 6,-1327.4 0,-1321.4 0,-1315.4 0,-1315.4 0,-1288.6 0,-1288.6 0,-1282.6 6,-1276.6 12,-1276.6 12,-1276.6 748.8,-1276.6 748.8,-1276.6 754.8,-1276.6 760.8,-1282.6 760.8,-1288.6 760.8,-1288.6 760.8,-1315.4 760.8,-1315.4 760.8,-1321.4 754.8,-1327.4 748.8,-1327.4\"/>\n",
       "<text text-anchor=\"start\" x=\"320.02\" y=\"-1303.55\" font-family=\"Red Hat Display,sans-serif\" font-weight=\"bold\" font-size=\"11.00\" fill=\"#000000\" fill-opacity=\"0.733333\">MAP_637O size ∈ int{0}</text>\n",
       "<text text-anchor=\"start\" x=\"14.4\" y=\"-1292.55\" font-family=\"Red Hat Display,sans-serif\" font-size=\"11.00\" fill=\"#000000\" fill-opacity=\"0.733333\">_PROTECTED_ENTITY_WEIGHT_ = (_PROTECTED_ENTITY_WEIGHT_ + (21.125508340118575 * (sqrt((&#45;2 * ln(random()))) * cos((6.2831853071...</text>\n",
       "</g>\n",
       "<!-- graph_v3_c&#45;&gt;graph_ey14 -->\n",
       "<g id=\"edge14\" class=\"edge\">\n",
       "<title>graph_v3_c&#45;&gt;graph_ey14</title>\n",
       "<path fill=\"none\" stroke=\"#2b303a\" d=\"M380.4,-1276.38C380.4,-1270.71 380.4,-1264.56 380.4,-1258.53\"/>\n",
       "<polygon fill=\"#2b303a\" stroke=\"#2b303a\" points=\"383.9,-1258.92 380.4,-1248.92 376.9,-1258.92 383.9,-1258.92\"/>\n",
       "</g>\n",
       "</g>\n",
       "</svg>\n"
      ],
      "text/plain": [
       "<graphviz.sources.Source at 0x12458f820>"
      ]
     },
     "metadata": {},
     "output_type": "display_data"
    }
   ],
   "source": [
    "display(graphviz.Source(dp_relation.dot()))"
   ]
  },
  {
   "cell_type": "code",
   "execution_count": 47,
   "id": "e17064c4",
   "metadata": {},
   "outputs": [
    {
     "name": "stdout",
     "output_type": "stream",
     "text": [
      "\u001b[34mWITH\u001b[0m\n",
      "  _PROTECTED_retail_features (_PROTECTED_ENTITY_ID_, _PROTECTED_ENTITY_WEIGHT_, id, store, date, temperature, fuel_price, cpi, unemployment, isholiday) \u001b[35mAS\u001b[0m (\u001b[35mSELECT\u001b[0m md5(id) \u001b[35mAS\u001b[0m _PROTECTED_ENTITY_ID_, 1 \u001b[35mAS\u001b[0m _PROTECTED_ENTITY_WEIGHT_, id \u001b[35mAS\u001b[0m id, store \u001b[35mAS\u001b[0m store, date \u001b[35mAS\u001b[0m date, temperature \u001b[35mAS\u001b[0m temperature, fuel_price \u001b[35mAS\u001b[0m fuel_price, cpi \u001b[35mAS\u001b[0m cpi, unemployment \u001b[35mAS\u001b[0m unemployment, isholiday \u001b[35mAS\u001b[0m isholiday FROM retail.features),\n",
      "  map_0olt (_PROTECTED_ENTITY_ID_, _PROTECTED_ENTITY_WEIGHT_, field__6vl) \u001b[35mAS\u001b[0m (\u001b[35mSELECT\u001b[0m _PROTECTED_ENTITY_ID_ \u001b[35mAS\u001b[0m _PROTECTED_ENTITY_ID_, _PROTECTED_ENTITY_WEIGHT_ \u001b[35mAS\u001b[0m _PROTECTED_ENTITY_WEIGHT_, fuel_price \u001b[35mAS\u001b[0m field__6vl FROM _PROTECTED_retail_features),\n",
      "  map_5i_z (field_6zur, field_yx2x, field_3d25) \u001b[35mAS\u001b[0m (\u001b[35mSELECT\u001b[0m _PROTECTED_ENTITY_ID_ \u001b[35mAS\u001b[0m field_6zur, _PROTECTED_ENTITY_WEIGHT_ \u001b[35mAS\u001b[0m field_yx2x, field__6vl \u001b[35mAS\u001b[0m field_3d25 FROM map_0olt),\n",
      "  map_sdb5 (field_6zur, field_yx2x) \u001b[35mAS\u001b[0m (\u001b[35mSELECT\u001b[0m field_6zur \u001b[35mAS\u001b[0m field_6zur, field_yx2x \u001b[35mAS\u001b[0m field_yx2x FROM map_5i_z),\n",
      "  map_d2o3 (field_ifx6, field_vwlx) \u001b[35mAS\u001b[0m (\u001b[35mSELECT\u001b[0m field_6zur \u001b[35mAS\u001b[0m field_ifx6, field_yx2x \u001b[35mAS\u001b[0m field_vwlx FROM map_5i_z),\n",
      "  reduce_widq (field_6zur, field_yx2x) \u001b[35mAS\u001b[0m (\u001b[35mSELECT\u001b[0m field_ifx6 \u001b[35mAS\u001b[0m field_6zur, sum(field_vwlx) \u001b[35mAS\u001b[0m field_yx2x FROM map_d2o3 \u001b[35mGROUP BY\u001b[0m field_ifx6),\n",
      "  map_0oqi (field_6zur, field_yx2x) \u001b[35mAS\u001b[0m (\u001b[35mSELECT\u001b[0m field_6zur \u001b[35mAS\u001b[0m field_6zur, (2) / (((abs(((abs(field_yx2x)) / ((1))) - (1))) + (((abs(field_yx2x)) / ((1))) + (1)))) \u001b[35mAS\u001b[0m field_yx2x FROM reduce_widq),\n",
      "  join_0hh3 (field_w0xz, field_b_co, field_mlxg, field_snfe) \u001b[35mAS\u001b[0m (\u001b[35mSELECT\u001b[0m * FROM map_sdb5 JOIN map_0oqi ON (map_sdb5.field_6zur) = (map_0oqi.field_6zur)),\n",
      "  map_jaju (field_6zur, field_yx2x) \u001b[35mAS\u001b[0m (\u001b[35mSELECT\u001b[0m field_w0xz \u001b[35mAS\u001b[0m field_6zur, (field_b_co) * ((field_snfe)) \u001b[35mAS\u001b[0m field_yx2x FROM join_0hh3),\n",
      "  map_lyru (field_vwlx) \u001b[35mAS\u001b[0m (\u001b[35mSELECT\u001b[0m field_yx2x \u001b[35mAS\u001b[0m field_vwlx FROM map_jaju),\n",
      "  map_iyzl (field_jp5i) \u001b[35mAS\u001b[0m (\u001b[35mSELECT\u001b[0m field_vwlx \u001b[35mAS\u001b[0m field_jp5i FROM map_lyru),\n",
      "  reduce_56j6 (_PROTECTED_ENTITY_WEIGHT_) \u001b[35mAS\u001b[0m (\u001b[35mSELECT\u001b[0m sum(field_jp5i) \u001b[35mAS\u001b[0m _PROTECTED_ENTITY_WEIGHT_ FROM map_iyzl),\n",
      "  map_637o (_PROTECTED_ENTITY_WEIGHT_) \u001b[35mAS\u001b[0m (\u001b[35mSELECT\u001b[0m (_PROTECTED_ENTITY_WEIGHT_) + ((21.125508340118575) * (((sqrt((-2) * ((ln(random()))))) * ((cos((6.283185307179586) * ((random())))))))) \u001b[35mAS\u001b[0m _PROTECTED_ENTITY_WEIGHT_ FROM reduce_56j6)\n",
      "\u001b[35mSELECT\u001b[0m * FROM map_637o\n"
     ]
    }
   ],
   "source": [
    "print_query(dp_relation.render())"
   ]
  },
  {
   "cell_type": "code",
   "execution_count": 46,
   "id": "30d8afd9",
   "metadata": {},
   "outputs": [
    {
     "name": "stdout",
     "output_type": "stream",
     "text": [
      "Initial query:                         SUM(fuel_price): 2965.1169999999997\n"
     ]
    },
    {
     "ename": "KeyError",
     "evalue": "'sum_fuel_pric'",
     "output_type": "error",
     "traceback": [
      "\u001b[0;31m---------------------------------------------------------------------------\u001b[0m",
      "\u001b[0;31mKeyError\u001b[0m                                  Traceback (most recent call last)",
      "File \u001b[0;32m~/Documents/codes/DP-SQL/pyqrlew/myenv/lib/python3.9/site-packages/pandas/core/indexes/base.py:3652\u001b[0m, in \u001b[0;36mIndex.get_loc\u001b[0;34m(self, key)\u001b[0m\n\u001b[1;32m   3651\u001b[0m \u001b[39mtry\u001b[39;00m:\n\u001b[0;32m-> 3652\u001b[0m     \u001b[39mreturn\u001b[39;00m \u001b[39mself\u001b[39;49m\u001b[39m.\u001b[39;49m_engine\u001b[39m.\u001b[39;49mget_loc(casted_key)\n\u001b[1;32m   3653\u001b[0m \u001b[39mexcept\u001b[39;00m \u001b[39mKeyError\u001b[39;00m \u001b[39mas\u001b[39;00m err:\n",
      "File \u001b[0;32m~/Documents/codes/DP-SQL/pyqrlew/myenv/lib/python3.9/site-packages/pandas/_libs/index.pyx:147\u001b[0m, in \u001b[0;36mpandas._libs.index.IndexEngine.get_loc\u001b[0;34m()\u001b[0m\n",
      "File \u001b[0;32m~/Documents/codes/DP-SQL/pyqrlew/myenv/lib/python3.9/site-packages/pandas/_libs/index.pyx:176\u001b[0m, in \u001b[0;36mpandas._libs.index.IndexEngine.get_loc\u001b[0;34m()\u001b[0m\n",
      "File \u001b[0;32mpandas/_libs/hashtable_class_helper.pxi:7080\u001b[0m, in \u001b[0;36mpandas._libs.hashtable.PyObjectHashTable.get_item\u001b[0;34m()\u001b[0m\n",
      "File \u001b[0;32mpandas/_libs/hashtable_class_helper.pxi:7088\u001b[0m, in \u001b[0;36mpandas._libs.hashtable.PyObjectHashTable.get_item\u001b[0;34m()\u001b[0m\n",
      "\u001b[0;31mKeyError\u001b[0m: 'sum_fuel_pric'",
      "\nThe above exception was the direct cause of the following exception:\n",
      "\u001b[0;31mKeyError\u001b[0m                                  Traceback (most recent call last)",
      "Cell \u001b[0;32mIn[46], line 5\u001b[0m\n\u001b[1;32m      2\u001b[0m res \u001b[39m=\u001b[39m pd\u001b[39m.\u001b[39mDataFrame(db\u001b[39m.\u001b[39meval(dp_relation))\n\u001b[1;32m      4\u001b[0m \u001b[39mprint\u001b[39m(\u001b[39mf\u001b[39m\u001b[39m\"\u001b[39m\u001b[39mInitial query:                         SUM(fuel_price): \u001b[39m\u001b[39m{\u001b[39;00mtrue_res\u001b[39m.\u001b[39miloc[\u001b[39m0\u001b[39m][\u001b[39m0\u001b[39m]\u001b[39m}\u001b[39;00m\u001b[39m\"\u001b[39m)\n\u001b[0;32m----> 5\u001b[0m \u001b[39mprint\u001b[39m(\u001b[39m\"\u001b[39m\u001b[39mSum over the all protected entities:   SUM(fuel_price): \u001b[39m\u001b[39m\"\u001b[39m, res[\u001b[39m\"\u001b[39;49m\u001b[39msum_fuel_pric\u001b[39;49m\u001b[39m\"\u001b[39;49m][\u001b[39m0\u001b[39m])\n",
      "File \u001b[0;32m~/Documents/codes/DP-SQL/pyqrlew/myenv/lib/python3.9/site-packages/pandas/core/frame.py:3760\u001b[0m, in \u001b[0;36mDataFrame.__getitem__\u001b[0;34m(self, key)\u001b[0m\n\u001b[1;32m   3758\u001b[0m \u001b[39mif\u001b[39;00m \u001b[39mself\u001b[39m\u001b[39m.\u001b[39mcolumns\u001b[39m.\u001b[39mnlevels \u001b[39m>\u001b[39m \u001b[39m1\u001b[39m:\n\u001b[1;32m   3759\u001b[0m     \u001b[39mreturn\u001b[39;00m \u001b[39mself\u001b[39m\u001b[39m.\u001b[39m_getitem_multilevel(key)\n\u001b[0;32m-> 3760\u001b[0m indexer \u001b[39m=\u001b[39m \u001b[39mself\u001b[39;49m\u001b[39m.\u001b[39;49mcolumns\u001b[39m.\u001b[39;49mget_loc(key)\n\u001b[1;32m   3761\u001b[0m \u001b[39mif\u001b[39;00m is_integer(indexer):\n\u001b[1;32m   3762\u001b[0m     indexer \u001b[39m=\u001b[39m [indexer]\n",
      "File \u001b[0;32m~/Documents/codes/DP-SQL/pyqrlew/myenv/lib/python3.9/site-packages/pandas/core/indexes/base.py:3654\u001b[0m, in \u001b[0;36mIndex.get_loc\u001b[0;34m(self, key)\u001b[0m\n\u001b[1;32m   3652\u001b[0m     \u001b[39mreturn\u001b[39;00m \u001b[39mself\u001b[39m\u001b[39m.\u001b[39m_engine\u001b[39m.\u001b[39mget_loc(casted_key)\n\u001b[1;32m   3653\u001b[0m \u001b[39mexcept\u001b[39;00m \u001b[39mKeyError\u001b[39;00m \u001b[39mas\u001b[39;00m err:\n\u001b[0;32m-> 3654\u001b[0m     \u001b[39mraise\u001b[39;00m \u001b[39mKeyError\u001b[39;00m(key) \u001b[39mfrom\u001b[39;00m \u001b[39merr\u001b[39;00m\n\u001b[1;32m   3655\u001b[0m \u001b[39mexcept\u001b[39;00m \u001b[39mTypeError\u001b[39;00m:\n\u001b[1;32m   3656\u001b[0m     \u001b[39m# If we have a listlike key, _check_indexing_error will raise\u001b[39;00m\n\u001b[1;32m   3657\u001b[0m     \u001b[39m#  InvalidIndexError. Otherwise we fall through and re-raise\u001b[39;00m\n\u001b[1;32m   3658\u001b[0m     \u001b[39m#  the TypeError.\u001b[39;00m\n\u001b[1;32m   3659\u001b[0m     \u001b[39mself\u001b[39m\u001b[39m.\u001b[39m_check_indexing_error(key)\n",
      "\u001b[0;31mKeyError\u001b[0m: 'sum_fuel_pric'"
     ]
    }
   ],
   "source": [
    "true_res = pd.DataFrame(db.execute(query))\n",
    "res = pd.DataFrame(db.eval(dp_relation))\n",
    "\n",
    "print(f\"Initial query:                         SUM(fuel_price): {true_res.iloc[0][0]}\")\n",
    "print(\"Sum over the all protected entities:   SUM(fuel_price): \", res[\"sum_fuel_pric\"][0])"
   ]
  },
  {
   "cell_type": "code",
   "execution_count": 48,
   "id": "66b29b60",
   "metadata": {},
   "outputs": [
    {
     "name": "stderr",
     "output_type": "stream",
     "text": [
      "thread '<unnamed>' panicked at 'called `Result::unwrap()` on an `Err` value: InvalidField(\"_PROTECTED_ENTITY_ID_ is missing\")', /Users/victoriadesainteagathe/.cargo/registry/src/github.com-1ecc6299db9ec823/qrlew-0.2.1/src/expr/mod.rs:891:12\n"
     ]
    },
    {
     "ename": "PanicException",
     "evalue": "called `Result::unwrap()` on an `Err` value: InvalidField(\"_PROTECTED_ENTITY_ID_ is missing\")",
     "output_type": "error",
     "traceback": [
      "\u001b[0;31m---------------------------------------------------------------------------\u001b[0m",
      "\u001b[0;31mPanicException\u001b[0m                            Traceback (most recent call last)",
      "Cell \u001b[0;32mIn[48], line 3\u001b[0m\n\u001b[1;32m      1\u001b[0m true_value \u001b[39m=\u001b[39m true_res\u001b[39m.\u001b[39miloc[\u001b[39m0\u001b[39m][\u001b[39m0\u001b[39m]\n\u001b[1;32m      2\u001b[0m query \u001b[39m=\u001b[39m \u001b[39m\"\u001b[39m\u001b[39mSELECT SUM(fuel_price) AS my_sum FROM features\u001b[39m\u001b[39m\"\u001b[39m\n\u001b[0;32m----> 3\u001b[0m data \u001b[39m=\u001b[39m run(dataset, query, [\u001b[39m0.1\u001b[39;49m, \u001b[39m1.\u001b[39;49m, \u001b[39m2.\u001b[39;49m])\n",
      "Cell \u001b[0;32mIn[8], line 17\u001b[0m, in \u001b[0;36mrun\u001b[0;34m(dataset, query, epsilons)\u001b[0m\n\u001b[1;32m     15\u001b[0m relation \u001b[39m=\u001b[39m dataset\u001b[39m.\u001b[39msql(query)\n\u001b[1;32m     16\u001b[0m \u001b[39mfor\u001b[39;00m epsilon \u001b[39min\u001b[39;00m epsilons: \n\u001b[0;32m---> 17\u001b[0m     dp_relation \u001b[39m=\u001b[39m relation\u001b[39m.\u001b[39;49mdp_compilation(\n\u001b[1;32m     18\u001b[0m         dataset,\n\u001b[1;32m     19\u001b[0m         str_pe,\n\u001b[1;32m     20\u001b[0m         epsilon, \n\u001b[1;32m     21\u001b[0m         delta\n\u001b[1;32m     22\u001b[0m     )\n\u001b[1;32m     23\u001b[0m     dp_query \u001b[39m=\u001b[39m dp_relation\u001b[39m.\u001b[39mrender()\n\u001b[1;32m     24\u001b[0m     data[epsilon] \u001b[39m=\u001b[39m [\n\u001b[1;32m     25\u001b[0m         execute_query(dp_query)[\u001b[39m\"\u001b[39m\u001b[39mmy_sum\u001b[39m\u001b[39m\"\u001b[39m][\u001b[39m0\u001b[39m] \u001b[39mfor\u001b[39;00m _ \u001b[39min\u001b[39;00m \u001b[39mrange\u001b[39m(N_RUNS)\n\u001b[1;32m     26\u001b[0m     ]\n",
      "\u001b[0;31mPanicException\u001b[0m: called `Result::unwrap()` on an `Err` value: InvalidField(\"_PROTECTED_ENTITY_ID_ is missing\")"
     ]
    }
   ],
   "source": [
    "true_value = true_res.iloc[0][0]\n",
    "query = \"SELECT SUM(fuel_price) AS my_sum FROM features\"\n",
    "data = run(dataset, query, [0.1, 1., 2.])"
   ]
  },
  {
   "cell_type": "code",
   "execution_count": null,
   "id": "a875ac4e",
   "metadata": {},
   "outputs": [],
   "source": [
    "plot_hist(true_value, data, query)"
   ]
  }
 ],
 "metadata": {
  "kernelspec": {
   "display_name": "Python 3 (ipykernel)",
   "language": "python",
   "name": "python3"
  },
  "language_info": {
   "codemirror_mode": {
    "name": "ipython",
    "version": 3
   },
   "file_extension": ".py",
   "mimetype": "text/x-python",
   "name": "python",
   "nbconvert_exporter": "python",
   "pygments_lexer": "ipython3",
   "version": "3.9.0"
  }
 },
 "nbformat": 4,
 "nbformat_minor": 5
}
