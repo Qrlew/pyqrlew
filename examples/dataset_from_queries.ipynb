{
  "cells": [
    {
      "cell_type": "code",
      "execution_count": null,
      "metadata": {
        "colab": {
          "base_uri": "https://localhost:8080/"
        },
        "id": "BdGIrJE56tVk",
        "outputId": "2ac948ad-b4c9-4f5a-a7fd-522cbb0d4a2e"
      },
      "outputs": [
        {
          "name": "stdout",
          "output_type": "stream",
          "text": [
            "debconf: unable to initialize frontend: Dialog\n",
            "debconf: (No usable dialog-like program is installed, so the dialog based frontend cannot be used. at /usr/share/perl5/Debconf/FrontEnd/Dialog.pm line 78, <> line 12.)\n",
            "debconf: falling back to frontend: Readline\n",
            "debconf: unable to initialize frontend: Readline\n",
            "debconf: (This frontend requires a controlling tty.)\n",
            "debconf: falling back to frontend: Teletype\n",
            "dpkg-preconfigure: unable to re-open stdin: \n",
            "Selecting previously unselected package logrotate.\n",
            "(Reading database ... 120882 files and directories currently installed.)\n",
            "Preparing to unpack .../00-logrotate_3.19.0-1ubuntu1.1_amd64.deb ...\n",
            "Unpacking logrotate (3.19.0-1ubuntu1.1) ...\n",
            "Selecting previously unselected package netbase.\n",
            "Preparing to unpack .../01-netbase_6.3_all.deb ...\n",
            "Unpacking netbase (6.3) ...\n",
            "Selecting previously unselected package libcommon-sense-perl:amd64.\n",
            "Preparing to unpack .../02-libcommon-sense-perl_3.75-2build1_amd64.deb ...\n",
            "Unpacking libcommon-sense-perl:amd64 (3.75-2build1) ...\n",
            "Selecting previously unselected package libjson-perl.\n",
            "Preparing to unpack .../03-libjson-perl_4.04000-1_all.deb ...\n",
            "Unpacking libjson-perl (4.04000-1) ...\n",
            "Selecting previously unselected package libtypes-serialiser-perl.\n",
            "Preparing to unpack .../04-libtypes-serialiser-perl_1.01-1_all.deb ...\n",
            "Unpacking libtypes-serialiser-perl (1.01-1) ...\n",
            "Selecting previously unselected package libjson-xs-perl.\n",
            "Preparing to unpack .../05-libjson-xs-perl_4.030-1build3_amd64.deb ...\n",
            "Unpacking libjson-xs-perl (4.030-1build3) ...\n",
            "Selecting previously unselected package postgresql-client-common.\n",
            "Preparing to unpack .../06-postgresql-client-common_238_all.deb ...\n",
            "Unpacking postgresql-client-common (238) ...\n",
            "Selecting previously unselected package postgresql-client-14.\n",
            "Preparing to unpack .../07-postgresql-client-14_14.9-0ubuntu0.22.04.1_amd64.deb ...\n",
            "Unpacking postgresql-client-14 (14.9-0ubuntu0.22.04.1) ...\n",
            "Selecting previously unselected package ssl-cert.\n",
            "Preparing to unpack .../08-ssl-cert_1.1.2_all.deb ...\n",
            "Unpacking ssl-cert (1.1.2) ...\n",
            "Selecting previously unselected package postgresql-common.\n",
            "Preparing to unpack .../09-postgresql-common_238_all.deb ...\n",
            "Adding 'diversion of /usr/bin/pg_config to /usr/bin/pg_config.libpq-dev by postgresql-common'\n",
            "Unpacking postgresql-common (238) ...\n",
            "Selecting previously unselected package postgresql-14.\n",
            "Preparing to unpack .../10-postgresql-14_14.9-0ubuntu0.22.04.1_amd64.deb ...\n",
            "Unpacking postgresql-14 (14.9-0ubuntu0.22.04.1) ...\n",
            "Selecting previously unselected package sysstat.\n",
            "Preparing to unpack .../11-sysstat_12.5.2-2ubuntu0.2_amd64.deb ...\n",
            "Unpacking sysstat (12.5.2-2ubuntu0.2) ...\n",
            "Setting up logrotate (3.19.0-1ubuntu1.1) ...\n",
            "Created symlink /etc/systemd/system/timers.target.wants/logrotate.timer → /lib/systemd/system/logrotate.timer.\n",
            "Setting up libcommon-sense-perl:amd64 (3.75-2build1) ...\n",
            "Setting up ssl-cert (1.1.2) ...\n",
            "debconf: unable to initialize frontend: Dialog\n",
            "debconf: (No usable dialog-like program is installed, so the dialog based frontend cannot be used. at /usr/share/perl5/Debconf/FrontEnd/Dialog.pm line 78.)\n",
            "debconf: falling back to frontend: Readline\n",
            "Setting up libtypes-serialiser-perl (1.01-1) ...\n",
            "Setting up libjson-perl (4.04000-1) ...\n",
            "Setting up netbase (6.3) ...\n",
            "Setting up sysstat (12.5.2-2ubuntu0.2) ...\n",
            "debconf: unable to initialize frontend: Dialog\n",
            "debconf: (No usable dialog-like program is installed, so the dialog based frontend cannot be used. at /usr/share/perl5/Debconf/FrontEnd/Dialog.pm line 78.)\n",
            "debconf: falling back to frontend: Readline\n",
            "\n",
            "Creating config file /etc/default/sysstat with new version\n",
            "update-alternatives: using /usr/bin/sar.sysstat to provide /usr/bin/sar (sar) in auto mode\n",
            "Created symlink /etc/systemd/system/sysstat.service.wants/sysstat-collect.timer → /lib/systemd/system/sysstat-collect.timer.\n",
            "Created symlink /etc/systemd/system/sysstat.service.wants/sysstat-summary.timer → /lib/systemd/system/sysstat-summary.timer.\n",
            "Created symlink /etc/systemd/system/multi-user.target.wants/sysstat.service → /lib/systemd/system/sysstat.service.\n",
            "Setting up postgresql-client-common (238) ...\n",
            "Setting up libjson-xs-perl (4.030-1build3) ...\n",
            "Setting up postgresql-client-14 (14.9-0ubuntu0.22.04.1) ...\n",
            "update-alternatives: using /usr/share/postgresql/14/man/man1/psql.1.gz to provide /usr/share/man/man1/psql.1.gz (psql.1.gz) in auto mode\n",
            "Setting up postgresql-common (238) ...\n",
            "debconf: unable to initialize frontend: Dialog\n",
            "debconf: (No usable dialog-like program is installed, so the dialog based frontend cannot be used. at /usr/share/perl5/Debconf/FrontEnd/Dialog.pm line 78.)\n",
            "debconf: falling back to frontend: Readline\n",
            "Adding user postgres to group ssl-cert\n",
            "\n",
            "Creating config file /etc/postgresql-common/createcluster.conf with new version\n",
            "Building PostgreSQL dictionaries from installed myspell/hunspell packages...\n",
            "Removing obsolete dictionary files:\n",
            "Created symlink /etc/systemd/system/multi-user.target.wants/postgresql.service → /lib/systemd/system/postgresql.service.\n",
            "Setting up postgresql-14 (14.9-0ubuntu0.22.04.1) ...\n",
            "debconf: unable to initialize frontend: Dialog\n",
            "debconf: (No usable dialog-like program is installed, so the dialog based frontend cannot be used. at /usr/share/perl5/Debconf/FrontEnd/Dialog.pm line 78.)\n",
            "debconf: falling back to frontend: Readline\n",
            "Creating new PostgreSQL cluster 14/main ...\n",
            "/usr/lib/postgresql/14/bin/initdb -D /var/lib/postgresql/14/main --auth-local peer --auth-host scram-sha-256 --no-instructions\n",
            "The files belonging to this database system will be owned by user \"postgres\".\n",
            "This user must also own the server process.\n",
            "\n",
            "The database cluster will be initialized with locale \"en_US.UTF-8\".\n",
            "The default database encoding has accordingly been set to \"UTF8\".\n",
            "The default text search configuration will be set to \"english\".\n",
            "\n",
            "Data page checksums are disabled.\n",
            "\n",
            "fixing permissions on existing directory /var/lib/postgresql/14/main ... ok\n",
            "creating subdirectories ... ok\n",
            "selecting dynamic shared memory implementation ... posix\n",
            "selecting default max_connections ... 100\n",
            "selecting default shared_buffers ... 128MB\n",
            "selecting default time zone ... Etc/UTC\n",
            "creating configuration files ... ok\n",
            "running bootstrap script ... ok\n",
            "performing post-bootstrap initialization ... ok\n",
            "syncing data to disk ... ok\n",
            "update-alternatives: using /usr/share/postgresql/14/man/man1/postmaster.1.gz to provide /usr/share/man/man1/postmaster.1.gz (postmaster.1.gz) in auto mode\n",
            "invoke-rc.d: could not determine current runlevel\n",
            "invoke-rc.d: policy-rc.d denied execution of start.\n",
            "Processing triggers for man-db (2.10.2-1) ...\n",
            " * Starting PostgreSQL 14 database server\n",
            "   ...done.\n",
            "ALTER ROLE\n",
            "Requirement already satisfied: pyqrlew in /usr/local/lib/python3.10/dist-packages (0.5.3)\n",
            "Requirement already satisfied: matplotlib in /usr/local/lib/python3.10/dist-packages (3.8.2)\n",
            "Requirement already satisfied: graphviz in /usr/local/lib/python3.10/dist-packages (0.20.1)\n",
            "Requirement already satisfied: SQLAlchemy<2.0 in /usr/local/lib/python3.10/dist-packages (from pyqrlew) (1.4.50)\n",
            "Requirement already satisfied: psycopg2<3.0 in /usr/local/lib/python3.10/dist-packages (from pyqrlew) (2.9.9)\n",
            "Requirement already satisfied: pymysql~=1.0 in /usr/local/lib/python3.10/dist-packages (from pyqrlew) (1.1.0)\n",
            "Requirement already satisfied: qrlew-datasets~=0.5 in /usr/local/lib/python3.10/dist-packages (from pyqrlew) (0.5.0)\n",
            "Requirement already satisfied: pandas~=1.0 in /usr/local/lib/python3.10/dist-packages (from pyqrlew) (1.5.3)\n",
            "Requirement already satisfied: importlib_resources<6.0 in /usr/local/lib/python3.10/dist-packages (from pyqrlew) (5.13.0)\n",
            "Requirement already satisfied: contourpy>=1.0.1 in /usr/local/lib/python3.10/dist-packages (from matplotlib) (1.2.0)\n",
            "Requirement already satisfied: cycler>=0.10 in /usr/local/lib/python3.10/dist-packages (from matplotlib) (0.12.1)\n",
            "Requirement already satisfied: fonttools>=4.22.0 in /usr/local/lib/python3.10/dist-packages (from matplotlib) (4.45.1)\n",
            "Requirement already satisfied: kiwisolver>=1.3.1 in /usr/local/lib/python3.10/dist-packages (from matplotlib) (1.4.5)\n",
            "Requirement already satisfied: numpy<2,>=1.21 in /usr/local/lib/python3.10/dist-packages (from matplotlib) (1.23.5)\n",
            "Requirement already satisfied: packaging>=20.0 in /usr/local/lib/python3.10/dist-packages (from matplotlib) (23.2)\n",
            "Requirement already satisfied: pillow>=8 in /usr/local/lib/python3.10/dist-packages (from matplotlib) (9.4.0)\n",
            "Requirement already satisfied: pyparsing>=2.3.1 in /usr/local/lib/python3.10/dist-packages (from matplotlib) (3.1.1)\n",
            "Requirement already satisfied: python-dateutil>=2.7 in /usr/local/lib/python3.10/dist-packages (from matplotlib) (2.8.2)\n",
            "Requirement already satisfied: pytz>=2020.1 in /usr/local/lib/python3.10/dist-packages (from pandas~=1.0->pyqrlew) (2023.3.post1)\n",
            "Requirement already satisfied: six>=1.5 in /usr/local/lib/python3.10/dist-packages (from python-dateutil>=2.7->matplotlib) (1.16.0)\n",
            "Requirement already satisfied: termcolor<3.0.0,>=2.3.0 in /usr/local/lib/python3.10/dist-packages (from qrlew-datasets~=0.5->pyqrlew) (2.3.0)\n",
            "Requirement already satisfied: greenlet!=0.4.17 in /usr/local/lib/python3.10/dist-packages (from SQLAlchemy<2.0->pyqrlew) (3.0.1)\n"
          ]
        },
        {
          "data": {
            "text/plain": []
          },
          "execution_count": 5,
          "metadata": {},
          "output_type": "execute_result"
        }
      ],
      "source": [
        "%%shell\n",
        "# Load the database\n",
        "# Inspred by https://colab.research.google.com/github/tensorflow/io/blob/master/docs/tutorials/postgresql.ipynb#scrollTo=YUj0878jPyz7\n",
        "sudo apt-get -y -qq update\n",
        "sudo apt-get -y -qq install postgresql-14\n",
        "# Start postgresql server\n",
        "sudo sed -i \"s/port = 5432/port = 5433/g\" /etc/postgresql/14/main/postgresql.conf\n",
        "sudo service postgresql start\n",
        "# Set password\n",
        "sudo -u postgres psql -U postgres -c \"ALTER USER postgres PASSWORD 'pyqrlew-db'\"\n",
        "pip install -U pyqrlew matplotlib graphviz"
      ]
    },
    {
      "cell_type": "code",
      "execution_count": null,
      "metadata": {
        "id": "3qzlDS-s5Gid"
      },
      "outputs": [],
      "source": [
        "import pyqrlew as qrl\n",
        "from pyqrlew.io import PostgreSQL\n",
        "\n",
        "DB = PostgreSQL()\n",
        "dataset = DB.extract()"
      ]
    },
    {
      "cell_type": "code",
      "execution_count": null,
      "metadata": {
        "id": "QpgU-C0J5Gih"
      },
      "outputs": [],
      "source": [
        "from graphviz import Source\n",
        "from IPython.display import display\n",
        "\n",
        "def display_dot(dot_graph):\n",
        "    # graph = Source(dot_graph)\n",
        "\n",
        "    # # # Set the size of the graph\n",
        "    # # graph.graph_attr['size'] = '8,6'  # Adjust the width and height as needed\n",
        "\n",
        "    # # # Render the graph to a PNG image\n",
        "    # # graph.format = 'png'\n",
        "    # graph.render(filename='graph', format='png', cleanup=True)\n",
        "\n",
        "    # # Display the graph image with a specific size\n",
        "    # display(Image(filename='graph.png', width=1600))\n",
        "    display(Source(dot_graph))"
      ]
    },
    {
      "cell_type": "code",
      "execution_count": null,
      "metadata": {
        "colab": {
          "base_uri": "https://localhost:8080/",
          "height": 559
        },
        "id": "wFd1_0Qa5Gih",
        "outputId": "29d1f9d0-feb1-416c-bcf3-06213e07ac28"
      },
      "outputs": [
        {
          "name": "stdout",
          "output_type": "stream",
          "text": [
            "['extract', 'extract', 'beacon']\n",
            "SELECT * FROM extract.beacon\n"
          ]
        },
        {
          "data": {
            "image/svg+xml": [
              "<?xml version=\"1.0\" encoding=\"UTF-8\" standalone=\"no\"?>\n",
              "<!DOCTYPE svg PUBLIC \"-//W3C//DTD SVG 1.1//EN\"\n",
              " \"http://www.w3.org/Graphics/SVG/1.1/DTD/svg11.dtd\">\n",
              "<!-- Generated by graphviz version 2.43.0 (0)\n",
              " -->\n",
              "<!-- Title: graph_eog1 Pages: 1 -->\n",
              "<svg width=\"516pt\" height=\"135pt\"\n",
              " viewBox=\"0.00 0.00 516.00 135.00\" xmlns=\"http://www.w3.org/2000/svg\" xmlns:xlink=\"http://www.w3.org/1999/xlink\">\n",
              "<g id=\"graph0\" class=\"graph\" transform=\"scale(1 1) rotate(0) translate(4 131)\">\n",
              "<title>graph_eog1</title>\n",
              "<polygon fill=\"transparent\" stroke=\"transparent\" points=\"-4,4 -4,-131 512,-131 512,4 -4,4\"/>\n",
              "<!-- graph_eog1 -->\n",
              "<g id=\"node1\" class=\"node\">\n",
              "<title>graph_eog1</title>\n",
              "<path fill=\"#ff1744\" stroke=\"#000000\" stroke-opacity=\"0.333333\" d=\"M496,-127C496,-127 12,-127 12,-127 6,-127 0,-121 0,-115 0,-115 0,-12 0,-12 0,-6 6,0 12,0 12,0 496,0 496,0 502,0 508,-6 508,-12 508,-12 508,-115 508,-115 508,-121 502,-127 496,-127\"/>\n",
              "<text text-anchor=\"start\" x=\"149.5\" y=\"-105.2\" font-family=\"Red Hat Display,sans-serif\" font-weight=\"bold\" font-size=\"11.00\" fill=\"#ffffff\" fill-opacity=\"0.733333\">EXTRACT_BEACON size ∈ int{100}</text>\n",
              "<text text-anchor=\"start\" x=\"14\" y=\"-94.2\" font-family=\"Red Hat Display,sans-serif\" font-size=\"11.00\" fill=\"#ffffff\" fill-opacity=\"0.733333\">検知日時 = 検知日時 ∈ datetime[0001&#45;01&#45;01 00:00:00 9999&#45;12&#45;31 00:00:00]</text>\n",
              "<text text-anchor=\"start\" x=\"180\" y=\"-83.2\" font-family=\"Red Hat Display,sans-serif\" font-size=\"11.00\" fill=\"#ffffff\" fill-opacity=\"0.733333\">UserId = UserId ∈ str</text>\n",
              "<text text-anchor=\"start\" x=\"169.5\" y=\"-72.2\" font-family=\"Red Hat Display,sans-serif\" font-size=\"11.00\" fill=\"#ffffff\" fill-opacity=\"0.733333\">所属部署 = 所属部署 ∈ str</text>\n",
              "<text text-anchor=\"start\" x=\"169.5\" y=\"-61.2\" font-family=\"Red Hat Display,sans-serif\" font-size=\"11.00\" fill=\"#ffffff\" fill-opacity=\"0.733333\">フロア名 = フロア名 ∈ str</text>\n",
              "<text text-anchor=\"start\" x=\"167\" y=\"-50.2\" font-family=\"Red Hat Display,sans-serif\" font-size=\"11.00\" fill=\"#ffffff\" fill-opacity=\"0.733333\">Beacon名 = Beacon名 ∈ str</text>\n",
              "<text text-anchor=\"start\" x=\"193.5\" y=\"-39.2\" font-family=\"Red Hat Display,sans-serif\" font-size=\"11.00\" fill=\"#ffffff\" fill-opacity=\"0.733333\">RSSI = RSSI ∈ int</text>\n",
              "<text text-anchor=\"start\" x=\"137\" y=\"-28.2\" font-family=\"Red Hat Display,sans-serif\" font-size=\"11.00\" fill=\"#ffffff\" fill-opacity=\"0.733333\">マップのX座標 = マップのX座標 ∈ int</text>\n",
              "<text text-anchor=\"start\" x=\"137\" y=\"-17.2\" font-family=\"Red Hat Display,sans-serif\" font-size=\"11.00\" fill=\"#ffffff\" fill-opacity=\"0.733333\">マップのY座標 = マップのY座標 ∈ int</text>\n",
              "</g>\n",
              "</g>\n",
              "</svg>\n"
            ],
            "text/plain": [
              "<graphviz.sources.Source at 0x7a733e836380>"
            ]
          },
          "metadata": {},
          "output_type": "display_data"
        },
        {
          "name": "stdout",
          "output_type": "stream",
          "text": [
            "['extract', 'extract', 'census']\n",
            "SELECT * FROM extract.census\n"
          ]
        },
        {
          "data": {
            "image/svg+xml": [
              "<?xml version=\"1.0\" encoding=\"UTF-8\" standalone=\"no\"?>\n",
              "<!DOCTYPE svg PUBLIC \"-//W3C//DTD SVG 1.1//EN\"\n",
              " \"http://www.w3.org/Graphics/SVG/1.1/DTD/svg11.dtd\">\n",
              "<!-- Generated by graphviz version 2.43.0 (0)\n",
              " -->\n",
              "<!-- Title: graph_hf_4 Pages: 1 -->\n",
              "<svg width=\"292pt\" height=\"212pt\"\n",
              " viewBox=\"0.00 0.00 292.00 212.00\" xmlns=\"http://www.w3.org/2000/svg\" xmlns:xlink=\"http://www.w3.org/1999/xlink\">\n",
              "<g id=\"graph0\" class=\"graph\" transform=\"scale(1 1) rotate(0) translate(4 208)\">\n",
              "<title>graph_hf_4</title>\n",
              "<polygon fill=\"transparent\" stroke=\"transparent\" points=\"-4,4 -4,-208 288,-208 288,4 -4,4\"/>\n",
              "<!-- graph_hf_4 -->\n",
              "<g id=\"node1\" class=\"node\">\n",
              "<title>graph_hf_4</title>\n",
              "<path fill=\"#ff1744\" stroke=\"#000000\" stroke-opacity=\"0.333333\" d=\"M272,-204C272,-204 12,-204 12,-204 6,-204 0,-198 0,-192 0,-192 0,-12 0,-12 0,-6 6,0 12,0 12,0 272,0 272,0 278,0 284,-6 284,-12 284,-12 284,-192 284,-192 284,-198 278,-204 272,-204\"/>\n",
              "<text text-anchor=\"start\" x=\"37.5\" y=\"-182.2\" font-family=\"Red Hat Display,sans-serif\" font-weight=\"bold\" font-size=\"11.00\" fill=\"#ffffff\" fill-opacity=\"0.733333\">EXTRACT_CENSUS size ∈ int{199}</text>\n",
              "<text text-anchor=\"start\" x=\"88\" y=\"-171.2\" font-family=\"Red Hat Display,sans-serif\" font-size=\"11.00\" fill=\"#ffffff\" fill-opacity=\"0.733333\">age = age ∈ int</text>\n",
              "<text text-anchor=\"start\" x=\"47.5\" y=\"-160.2\" font-family=\"Red Hat Display,sans-serif\" font-size=\"11.00\" fill=\"#ffffff\" fill-opacity=\"0.733333\">workclass = workclass ∈ str</text>\n",
              "<text text-anchor=\"start\" x=\"68\" y=\"-149.2\" font-family=\"Red Hat Display,sans-serif\" font-size=\"11.00\" fill=\"#ffffff\" fill-opacity=\"0.733333\">fnlwgt = fnlwgt ∈ str</text>\n",
              "<text text-anchor=\"start\" x=\"47.5\" y=\"-138.2\" font-family=\"Red Hat Display,sans-serif\" font-size=\"11.00\" fill=\"#ffffff\" fill-opacity=\"0.733333\">education = education ∈ str</text>\n",
              "<text text-anchor=\"start\" x=\"20.5\" y=\"-127.2\" font-family=\"Red Hat Display,sans-serif\" font-size=\"11.00\" fill=\"#ffffff\" fill-opacity=\"0.733333\">education_num = education_num ∈ int</text>\n",
              "<text text-anchor=\"start\" x=\"14\" y=\"-116.2\" font-family=\"Red Hat Display,sans-serif\" font-size=\"11.00\" fill=\"#ffffff\" fill-opacity=\"0.733333\">marital_status = marital_status ∈ str</text>\n",
              "<text text-anchor=\"start\" x=\"41\" y=\"-105.2\" font-family=\"Red Hat Display,sans-serif\" font-size=\"11.00\" fill=\"#ffffff\" fill-opacity=\"0.733333\">occupation = occupation ∈ str</text>\n",
              "<text text-anchor=\"start\" x=\"27.5\" y=\"-94.2\" font-family=\"Red Hat Display,sans-serif\" font-size=\"11.00\" fill=\"#ffffff\" fill-opacity=\"0.733333\">relationship = relationship ∈ str</text>\n",
              "<text text-anchor=\"start\" x=\"81.5\" y=\"-83.2\" font-family=\"Red Hat Display,sans-serif\" font-size=\"11.00\" fill=\"#ffffff\" fill-opacity=\"0.733333\">race = race ∈ str</text>\n",
              "<text text-anchor=\"start\" x=\"88\" y=\"-72.2\" font-family=\"Red Hat Display,sans-serif\" font-size=\"11.00\" fill=\"#ffffff\" fill-opacity=\"0.733333\">sex = sex ∈ str</text>\n",
              "<text text-anchor=\"start\" x=\"27.5\" y=\"-61.2\" font-family=\"Red Hat Display,sans-serif\" font-size=\"11.00\" fill=\"#ffffff\" fill-opacity=\"0.733333\">capital_gain = capital_gain ∈ int</text>\n",
              "<text text-anchor=\"start\" x=\"27.5\" y=\"-50.2\" font-family=\"Red Hat Display,sans-serif\" font-size=\"11.00\" fill=\"#ffffff\" fill-opacity=\"0.733333\">capital_loss = capital_loss ∈ int</text>\n",
              "<text text-anchor=\"start\" x=\"14\" y=\"-39.2\" font-family=\"Red Hat Display,sans-serif\" font-size=\"11.00\" fill=\"#ffffff\" fill-opacity=\"0.733333\">hours_per_week = hours_per_week ∈ int</text>\n",
              "<text text-anchor=\"start\" x=\"14\" y=\"-28.2\" font-family=\"Red Hat Display,sans-serif\" font-size=\"11.00\" fill=\"#ffffff\" fill-opacity=\"0.733333\">native_country = native_country ∈ str</text>\n",
              "<text text-anchor=\"start\" x=\"68\" y=\"-17.2\" font-family=\"Red Hat Display,sans-serif\" font-size=\"11.00\" fill=\"#ffffff\" fill-opacity=\"0.733333\">income = income ∈ str</text>\n",
              "</g>\n",
              "</g>\n",
              "</svg>\n"
            ],
            "text/plain": [
              "<graphviz.sources.Source at 0x7a733e836170>"
            ]
          },
          "metadata": {},
          "output_type": "display_data"
        }
      ],
      "source": [
        "for p,rel in dataset.relations():\n",
        "    print(p)\n",
        "    print(rel.render())\n",
        "    display_dot(rel.dot())"
      ]
    },
    {
      "cell_type": "code",
      "execution_count": null,
      "metadata": {
        "colab": {
          "base_uri": "https://localhost:8080/",
          "height": 664
        },
        "id": "633lkfje5Gii",
        "outputId": "4cf00388-fe1d-445f-bb84-52581390f809"
      },
      "outputs": [
        {
          "data": {
            "image/svg+xml": [
              "<?xml version=\"1.0\" encoding=\"UTF-8\" standalone=\"no\"?>\n",
              "<!DOCTYPE svg PUBLIC \"-//W3C//DTD SVG 1.1//EN\"\n",
              " \"http://www.w3.org/Graphics/SVG/1.1/DTD/svg11.dtd\">\n",
              "<!-- Generated by graphviz version 2.43.0 (0)\n",
              " -->\n",
              "<!-- Title: graph_mc1f Pages: 1 -->\n",
              "<svg width=\"333pt\" height=\"482pt\"\n",
              " viewBox=\"0.00 0.00 333.00 482.00\" xmlns=\"http://www.w3.org/2000/svg\" xmlns:xlink=\"http://www.w3.org/1999/xlink\">\n",
              "<g id=\"graph0\" class=\"graph\" transform=\"scale(1 1) rotate(0) translate(4 478)\">\n",
              "<title>graph_mc1f</title>\n",
              "<polygon fill=\"transparent\" stroke=\"transparent\" points=\"-4,4 -4,-478 329,-478 329,4 -4,4\"/>\n",
              "<!-- graph_mc1f -->\n",
              "<g id=\"node1\" class=\"node\">\n",
              "<title>graph_mc1f</title>\n",
              "<path fill=\"#428e92\" stroke=\"#000000\" stroke-opacity=\"0.333333\" d=\"M289.5,-474C289.5,-474 35.5,-474 35.5,-474 29.5,-474 23.5,-468 23.5,-462 23.5,-462 23.5,-425 23.5,-425 23.5,-419 29.5,-413 35.5,-413 35.5,-413 289.5,-413 289.5,-413 295.5,-413 301.5,-419 301.5,-425 301.5,-425 301.5,-462 301.5,-462 301.5,-468 295.5,-474 289.5,-474\"/>\n",
              "<text text-anchor=\"start\" x=\"71.5\" y=\"-452.2\" font-family=\"Red Hat Display,sans-serif\" font-weight=\"bold\" font-size=\"11.00\" fill=\"#000000\" fill-opacity=\"0.733333\">MAP_1HMR size ∈ int[0 199]</text>\n",
              "<text text-anchor=\"start\" x=\"61.5\" y=\"-441.2\" font-family=\"Red Hat Display,sans-serif\" font-size=\"11.00\" fill=\"#000000\" fill-opacity=\"0.733333\">age = field_42_i ∈ int UNIQUE</text>\n",
              "<text text-anchor=\"start\" x=\"37.5\" y=\"-430.2\" font-family=\"Red Hat Display,sans-serif\" font-size=\"11.00\" fill=\"#000000\" fill-opacity=\"0.733333\">field_fxi8 = field_6xa9 ∈ int[0 199]</text>\n",
              "</g>\n",
              "<!-- graph_xc2r -->\n",
              "<g id=\"node2\" class=\"node\">\n",
              "<title>graph_xc2r</title>\n",
              "<path fill=\"#00363a\" stroke=\"#000000\" stroke-opacity=\"0.333333\" d=\"M313,-384C313,-384 12,-384 12,-384 6,-384 0,-378 0,-372 0,-372 0,-324 0,-324 0,-318 6,-312 12,-312 12,-312 313,-312 313,-312 319,-312 325,-318 325,-324 325,-324 325,-372 325,-372 325,-378 319,-384 313,-384\"/>\n",
              "<text text-anchor=\"start\" x=\"61.5\" y=\"-362.2\" font-family=\"Red Hat Display,sans-serif\" font-weight=\"bold\" font-size=\"11.00\" fill=\"#ffffff\" fill-opacity=\"0.733333\">REDUCE_KHDZ size ∈ int[0 199]</text>\n",
              "<text text-anchor=\"start\" x=\"14\" y=\"-351.2\" font-family=\"Red Hat Display,sans-serif\" font-size=\"11.00\" fill=\"#ffffff\" fill-opacity=\"0.733333\">field_6xa9 = count(field_z_jj) ∈ int[0 199]</text>\n",
              "<text text-anchor=\"start\" x=\"14\" y=\"-340.2\" font-family=\"Red Hat Display,sans-serif\" font-size=\"11.00\" fill=\"#ffffff\" fill-opacity=\"0.733333\">field_42_i = first(field_z_jj) ∈ int UNIQUE</text>\n",
              "<text text-anchor=\"start\" x=\"91.5\" y=\"-329.2\" font-family=\"Red Hat Display,sans-serif\" font-size=\"11.00\" fill=\"#ffffff\" fill-opacity=\"0.733333\">GROUP BY (field_z_jj)</text>\n",
              "</g>\n",
              "<!-- graph_mc1f&#45;&gt;graph_xc2r -->\n",
              "<g id=\"edge3\" class=\"edge\">\n",
              "<title>graph_mc1f&#45;&gt;graph_xc2r</title>\n",
              "<path fill=\"none\" stroke=\"#2b303a\" d=\"M162.5,-412.92C162.5,-407.09 162.5,-400.85 162.5,-394.64\"/>\n",
              "<polygon fill=\"#2b303a\" stroke=\"#2b303a\" points=\"166,-394.28 162.5,-384.28 159,-394.28 166,-394.28\"/>\n",
              "</g>\n",
              "<!-- graph_3jz7 -->\n",
              "<g id=\"node3\" class=\"node\">\n",
              "<title>graph_3jz7</title>\n",
              "<path fill=\"#428e92\" stroke=\"#000000\" stroke-opacity=\"0.333333\" d=\"M255.5,-283C255.5,-283 69.5,-283 69.5,-283 63.5,-283 57.5,-277 57.5,-271 57.5,-271 57.5,-245 57.5,-245 57.5,-239 63.5,-233 69.5,-233 69.5,-233 255.5,-233 255.5,-233 261.5,-233 267.5,-239 267.5,-245 267.5,-245 267.5,-271 267.5,-271 267.5,-277 261.5,-283 255.5,-283\"/>\n",
              "<text text-anchor=\"start\" x=\"71.5\" y=\"-261.2\" font-family=\"Red Hat Display,sans-serif\" font-weight=\"bold\" font-size=\"11.00\" fill=\"#000000\" fill-opacity=\"0.733333\">MAP_TQER size ∈ int[0 199]</text>\n",
              "<text text-anchor=\"start\" x=\"85\" y=\"-250.2\" font-family=\"Red Hat Display,sans-serif\" font-size=\"11.00\" fill=\"#000000\" fill-opacity=\"0.733333\">field_z_jj = age ∈ int</text>\n",
              "</g>\n",
              "<!-- graph_xc2r&#45;&gt;graph_3jz7 -->\n",
              "<g id=\"edge2\" class=\"edge\">\n",
              "<title>graph_xc2r&#45;&gt;graph_3jz7</title>\n",
              "<path fill=\"none\" stroke=\"#2b303a\" d=\"M162.5,-311.97C162.5,-305.76 162.5,-299.31 162.5,-293.14\"/>\n",
              "<polygon fill=\"#2b303a\" stroke=\"#2b303a\" points=\"166,-293.09 162.5,-283.09 159,-293.09 166,-293.09\"/>\n",
              "</g>\n",
              "<!-- graph_hf_4 -->\n",
              "<g id=\"node4\" class=\"node\">\n",
              "<title>graph_hf_4</title>\n",
              "<path fill=\"#ff1744\" stroke=\"#000000\" stroke-opacity=\"0.333333\" d=\"M292.5,-204C292.5,-204 32.5,-204 32.5,-204 26.5,-204 20.5,-198 20.5,-192 20.5,-192 20.5,-12 20.5,-12 20.5,-6 26.5,0 32.5,0 32.5,0 292.5,0 292.5,0 298.5,0 304.5,-6 304.5,-12 304.5,-12 304.5,-192 304.5,-192 304.5,-198 298.5,-204 292.5,-204\"/>\n",
              "<text text-anchor=\"start\" x=\"58\" y=\"-182.2\" font-family=\"Red Hat Display,sans-serif\" font-weight=\"bold\" font-size=\"11.00\" fill=\"#ffffff\" fill-opacity=\"0.733333\">EXTRACT_CENSUS size ∈ int{199}</text>\n",
              "<text text-anchor=\"start\" x=\"108.5\" y=\"-171.2\" font-family=\"Red Hat Display,sans-serif\" font-size=\"11.00\" fill=\"#ffffff\" fill-opacity=\"0.733333\">age = age ∈ int</text>\n",
              "<text text-anchor=\"start\" x=\"68\" y=\"-160.2\" font-family=\"Red Hat Display,sans-serif\" font-size=\"11.00\" fill=\"#ffffff\" fill-opacity=\"0.733333\">workclass = workclass ∈ str</text>\n",
              "<text text-anchor=\"start\" x=\"88.5\" y=\"-149.2\" font-family=\"Red Hat Display,sans-serif\" font-size=\"11.00\" fill=\"#ffffff\" fill-opacity=\"0.733333\">fnlwgt = fnlwgt ∈ str</text>\n",
              "<text text-anchor=\"start\" x=\"68\" y=\"-138.2\" font-family=\"Red Hat Display,sans-serif\" font-size=\"11.00\" fill=\"#ffffff\" fill-opacity=\"0.733333\">education = education ∈ str</text>\n",
              "<text text-anchor=\"start\" x=\"41\" y=\"-127.2\" font-family=\"Red Hat Display,sans-serif\" font-size=\"11.00\" fill=\"#ffffff\" fill-opacity=\"0.733333\">education_num = education_num ∈ int</text>\n",
              "<text text-anchor=\"start\" x=\"34.5\" y=\"-116.2\" font-family=\"Red Hat Display,sans-serif\" font-size=\"11.00\" fill=\"#ffffff\" fill-opacity=\"0.733333\">marital_status = marital_status ∈ str</text>\n",
              "<text text-anchor=\"start\" x=\"61.5\" y=\"-105.2\" font-family=\"Red Hat Display,sans-serif\" font-size=\"11.00\" fill=\"#ffffff\" fill-opacity=\"0.733333\">occupation = occupation ∈ str</text>\n",
              "<text text-anchor=\"start\" x=\"48\" y=\"-94.2\" font-family=\"Red Hat Display,sans-serif\" font-size=\"11.00\" fill=\"#ffffff\" fill-opacity=\"0.733333\">relationship = relationship ∈ str</text>\n",
              "<text text-anchor=\"start\" x=\"102\" y=\"-83.2\" font-family=\"Red Hat Display,sans-serif\" font-size=\"11.00\" fill=\"#ffffff\" fill-opacity=\"0.733333\">race = race ∈ str</text>\n",
              "<text text-anchor=\"start\" x=\"108.5\" y=\"-72.2\" font-family=\"Red Hat Display,sans-serif\" font-size=\"11.00\" fill=\"#ffffff\" fill-opacity=\"0.733333\">sex = sex ∈ str</text>\n",
              "<text text-anchor=\"start\" x=\"48\" y=\"-61.2\" font-family=\"Red Hat Display,sans-serif\" font-size=\"11.00\" fill=\"#ffffff\" fill-opacity=\"0.733333\">capital_gain = capital_gain ∈ int</text>\n",
              "<text text-anchor=\"start\" x=\"48\" y=\"-50.2\" font-family=\"Red Hat Display,sans-serif\" font-size=\"11.00\" fill=\"#ffffff\" fill-opacity=\"0.733333\">capital_loss = capital_loss ∈ int</text>\n",
              "<text text-anchor=\"start\" x=\"34.5\" y=\"-39.2\" font-family=\"Red Hat Display,sans-serif\" font-size=\"11.00\" fill=\"#ffffff\" fill-opacity=\"0.733333\">hours_per_week = hours_per_week ∈ int</text>\n",
              "<text text-anchor=\"start\" x=\"34.5\" y=\"-28.2\" font-family=\"Red Hat Display,sans-serif\" font-size=\"11.00\" fill=\"#ffffff\" fill-opacity=\"0.733333\">native_country = native_country ∈ str</text>\n",
              "<text text-anchor=\"start\" x=\"88.5\" y=\"-17.2\" font-family=\"Red Hat Display,sans-serif\" font-size=\"11.00\" fill=\"#ffffff\" fill-opacity=\"0.733333\">income = income ∈ str</text>\n",
              "</g>\n",
              "<!-- graph_3jz7&#45;&gt;graph_hf_4 -->\n",
              "<g id=\"edge1\" class=\"edge\">\n",
              "<title>graph_3jz7&#45;&gt;graph_hf_4</title>\n",
              "<path fill=\"none\" stroke=\"#2b303a\" d=\"M162.5,-232.94C162.5,-227.37 162.5,-221.08 162.5,-214.35\"/>\n",
              "<polygon fill=\"#2b303a\" stroke=\"#2b303a\" points=\"166,-214.22 162.5,-204.22 159,-214.22 166,-214.22\"/>\n",
              "</g>\n",
              "</g>\n",
              "</svg>\n"
            ],
            "text/plain": [
              "<graphviz.sources.Source at 0x7a733ef82890>"
            ]
          },
          "execution_count": 9,
          "metadata": {},
          "output_type": "execute_result"
        }
      ],
      "source": [
        "result = dataset.sql('SELECT age, count(age) FROM extract.census GROUP BY age')\n",
        "Source(result.dot())"
      ]
    },
    {
      "cell_type": "code",
      "execution_count": null,
      "metadata": {
        "id": "QjHhJF5q5Gii"
      },
      "outputs": [],
      "source": [
        "queries = [\n",
        "    ((\"schema_name\", \"sch\", \"tab1\"), 'SELECT age, count(age) FROM extract.census GROUP BY age LIMIT 10'),\n",
        "    ((\"schema_name\", \"sch\", \"sum_age\"), 'SELECT SUM(age) FROM extract.census'),\n",
        "    ((\"schema_name\", \"new_sch\", \"bacon\"), 'SELECT * FROM extract.beacon')\n",
        "]"
      ]
    },
    {
      "cell_type": "code",
      "execution_count": null,
      "metadata": {
        "colab": {
          "base_uri": "https://localhost:8080/"
        },
        "id": "APTQNOJ05Gii",
        "outputId": "a0fd98f9-2978-4287-cfad-c1f4dd9ac34a"
      },
      "outputs": [
        {
          "name": "stdout",
          "output_type": "stream",
          "text": [
            "Dataset: {}\n",
            "Schema: {\"name\": \"schema_name\", \"type\": {\"name\": \"Struct\", \"struct\": {\"fields\": [{\"name\": \"sarus_data\", \"type\": {\"name\": \"Union\", \"union\": {\"fields\": [{\"name\": \"sch\", \"type\": {\"name\": \"Union\", \"union\": {\"fields\": [{\"name\": \"sum_age\", \"type\": {\"name\": \"Struct\", \"struct\": {\"fields\": [{\"name\": \"field_0_go\", \"type\": {\"name\": \"Integer\", \"integer\": {\"min\": \"-9223372036854775808\", \"max\": \"9223372036854775807\"}}}]}}}, {\"name\": \"tab1\", \"type\": {\"name\": \"Struct\", \"struct\": {\"fields\": [{\"name\": \"age\", \"type\": {\"name\": \"Integer\", \"integer\": {\"min\": \"-9223372036854775808\", \"max\": \"9223372036854775807\"}}}, {\"name\": \"field_fxi8\", \"type\": {\"name\": \"Integer\", \"integer\": {\"max\": \"199\"}}}]}}}]}}}, {\"name\": \"new_sch\", \"type\": {\"name\": \"Union\", \"union\": {\"fields\": [{\"name\": \"bacon\", \"type\": {\"name\": \"Struct\", \"struct\": {\"fields\": [{\"name\": \"検知日時\", \"type\": {\"name\": \"Datetime\", \"datetime\": {\"format\": \"%Y-%m-%d %H:%M:%S.%9f\", \"min\": \"0001-01-01 00:00:00.000000000\", \"max\": \"9999-12-31 00:00:00.000000000\"}}}, {\"name\": \"UserId\", \"type\": {\"name\": \"Text\", \"text\": {}}}, {\"name\": \"所属部署\", \"type\": {\"name\": \"Text\", \"text\": {}}}, {\"name\": \"フロア名\", \"type\": {\"name\": \"Text\", \"text\": {}}}, {\"name\": \"Beacon名\", \"type\": {\"name\": \"Text\", \"text\": {}}}, {\"name\": \"RSSI\", \"type\": {\"name\": \"Integer\", \"integer\": {\"min\": \"-9223372036854775808\", \"max\": \"9223372036854775807\"}}}, {\"name\": \"マップのX座標\", \"type\": {\"name\": \"Integer\", \"integer\": {\"min\": \"-9223372036854775808\", \"max\": \"9223372036854775807\"}}}, {\"name\": \"マップのY座標\", \"type\": {\"name\": \"Integer\", \"integer\": {\"min\": \"-9223372036854775808\", \"max\": \"9223372036854775807\"}}}]}}}]}}}]}}}, {\"name\": \"sarus_protected_entity\", \"type\": {\"name\": \"Optional\", \"optional\": {\"type\": {\"name\": \"Id\", \"id\": {}}}}}, {\"name\": \"sarus_is_public\", \"type\": {\"name\": \"Boolean\", \"boolean\": {}}}, {\"name\": \"sarus_weights\", \"type\": {\"name\": \"Float\", \"float\": {\"max\": 1.7976931348623157e308}}}]}}}\n",
            "Size: {\"statistics\": {\"name\": \"Union\", \"union\": {\"fields\": [{\"name\": \"sch\", \"statistics\": {\"name\": \"Union\", \"union\": {\"fields\": [{\"name\": \"sum_age\", \"statistics\": {\"struct\": {\"size\": \"199\"}}}, {\"name\": \"tab1\", \"statistics\": {\"struct\": {\"size\": \"10\"}}}]}}}, {\"name\": \"new_sch\", \"statistics\": {\"name\": \"Union\", \"union\": {\"fields\": [{\"name\": \"bacon\", \"statistics\": {\"struct\": {\"size\": \"100\"}}}]}}}]}}}\n"
          ]
        }
      ],
      "source": [
        "ds = dataset.from_queries(queries)\n",
        "print(ds)"
      ]
    },
    {
      "cell_type": "code",
      "execution_count": null,
      "metadata": {
        "colab": {
          "base_uri": "https://localhost:8080/",
          "height": 125
        },
        "id": "mcLW9UE75Gii",
        "outputId": "bfa4a0d5-f647-46a3-8fe1-f62c8469ae5d"
      },
      "outputs": [
        {
          "data": {
            "application/vnd.google.colaboratory.intrinsic+json": {
              "type": "string"
            },
            "text/plain": [
              "'{\"name\": \"schema_name\", \"type\": {\"name\": \"Struct\", \"struct\": {\"fields\": [{\"name\": \"sarus_data\", \"type\": {\"name\": \"Union\", \"union\": {\"fields\": [{\"name\": \"sch\", \"type\": {\"name\": \"Union\", \"union\": {\"fields\": [{\"name\": \"sum_age\", \"type\": {\"name\": \"Struct\", \"struct\": {\"fields\": [{\"name\": \"field_0_go\", \"type\": {\"name\": \"Integer\", \"integer\": {\"min\": \"-9223372036854775808\", \"max\": \"9223372036854775807\"}}}]}}}, {\"name\": \"tab1\", \"type\": {\"name\": \"Struct\", \"struct\": {\"fields\": [{\"name\": \"age\", \"type\": {\"name\": \"Integer\", \"integer\": {\"min\": \"-9223372036854775808\", \"max\": \"9223372036854775807\"}}}, {\"name\": \"field_fxi8\", \"type\": {\"name\": \"Integer\", \"integer\": {\"max\": \"199\"}}}]}}}]}}}, {\"name\": \"new_sch\", \"type\": {\"name\": \"Union\", \"union\": {\"fields\": [{\"name\": \"bacon\", \"type\": {\"name\": \"Struct\", \"struct\": {\"fields\": [{\"name\": \"検知日時\", \"type\": {\"name\": \"Datetime\", \"datetime\": {\"format\": \"%Y-%m-%d %H:%M:%S.%9f\", \"min\": \"0001-01-01 00:00:00.000000000\", \"max\": \"9999-12-31 00:00:00.000000000\"}}}, {\"name\": \"UserId\", \"type\": {\"name\": \"Text\", \"text\": {}}}, {\"name\": \"所属部署\", \"type\": {\"name\": \"Text\", \"text\": {}}}, {\"name\": \"フロア名\", \"type\": {\"name\": \"Text\", \"text\": {}}}, {\"name\": \"Beacon名\", \"type\": {\"name\": \"Text\", \"text\": {}}}, {\"name\": \"RSSI\", \"type\": {\"name\": \"Integer\", \"integer\": {\"min\": \"-9223372036854775808\", \"max\": \"9223372036854775807\"}}}, {\"name\": \"マップのX座標\", \"type\": {\"name\": \"Integer\", \"integer\": {\"min\": \"-9223372036854775808\", \"max\": \"9223372036854775807\"}}}, {\"name\": \"マップのY座標\", \"type\": {\"name\": \"Integer\", \"integer\": {\"min\": \"-9223372036854775808\", \"max\": \"9223372036854775807\"}}}]}}}]}}}]}}}, {\"name\": \"sarus_protected_entity\", \"type\": {\"name\": \"Optional\", \"optional\": {\"type\": {\"name\": \"Id\", \"id\": {}}}}}, {\"name\": \"sarus_is_public\", \"type\": {\"name\": \"Boolean\", \"boolean\": {}}}, {\"name\": \"sarus_weights\", \"type\": {\"name\": \"Float\", \"float\": {\"max\": 1.7976931348623157e308}}}]}}}'"
            ]
          },
          "execution_count": 12,
          "metadata": {},
          "output_type": "execute_result"
        }
      ],
      "source": [
        "ds.schema"
      ]
    },
    {
      "cell_type": "code",
      "execution_count": null,
      "metadata": {
        "colab": {
          "base_uri": "https://localhost:8080/",
          "height": 71
        },
        "id": "tMwewanw5Gij",
        "outputId": "f9192de3-fe11-41cc-e0a0-78f8debd0ee9"
      },
      "outputs": [
        {
          "data": {
            "application/vnd.google.colaboratory.intrinsic+json": {
              "type": "string"
            },
            "text/plain": [
              "'{\"statistics\": {\"name\": \"Union\", \"union\": {\"fields\": [{\"name\": \"sch\", \"statistics\": {\"name\": \"Union\", \"union\": {\"fields\": [{\"name\": \"sum_age\", \"statistics\": {\"struct\": {\"size\": \"199\"}}}, {\"name\": \"tab1\", \"statistics\": {\"struct\": {\"size\": \"10\"}}}]}}}, {\"name\": \"new_sch\", \"statistics\": {\"name\": \"Union\", \"union\": {\"fields\": [{\"name\": \"bacon\", \"statistics\": {\"struct\": {\"size\": \"100\"}}}]}}}]}}}'"
            ]
          },
          "execution_count": 13,
          "metadata": {},
          "output_type": "execute_result"
        }
      ],
      "source": [
        "ds.size"
      ]
    }
  ],
  "metadata": {
    "colab": {
      "provenance": []
    },
    "kernelspec": {
      "display_name": ".venv",
      "language": "python",
      "name": "python3"
    },
    "language_info": {
      "codemirror_mode": {
        "name": "ipython",
        "version": 3
      },
      "file_extension": ".py",
      "mimetype": "text/x-python",
      "name": "python",
      "nbconvert_exporter": "python",
      "pygments_lexer": "ipython3",
      "version": "3.8.12"
    },
    "orig_nbformat": 4
  },
  "nbformat": 4,
  "nbformat_minor": 0
}
